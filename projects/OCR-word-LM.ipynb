{
 "cells": [
  {
   "cell_type": "code",
   "execution_count": 1,
   "metadata": {
    "ExecuteTime": {
     "end_time": "2018-11-30T21:47:51.852121Z",
     "start_time": "2018-11-30T21:47:51.508838Z"
    }
   },
   "outputs": [],
   "source": [
    "%matplotlib inline\n",
    "%reload_ext autoreload\n",
    "%autoreload 2"
   ]
  },
  {
   "cell_type": "code",
   "execution_count": 2,
   "metadata": {
    "ExecuteTime": {
     "end_time": "2018-11-30T21:47:53.690561Z",
     "start_time": "2018-11-30T21:47:51.956599Z"
    }
   },
   "outputs": [
    {
     "name": "stderr",
     "output_type": "stream",
     "text": [
      "/Users/adamschiller/anaconda3/envs/fastai-cpu/lib/python3.6/site-packages/sklearn/ensemble/weight_boosting.py:29: DeprecationWarning: numpy.core.umath_tests is an internal NumPy module and should not be imported. It will be removed in a future NumPy release.\n",
      "  from numpy.core.umath_tests import inner1d\n"
     ]
    }
   ],
   "source": [
    "from fastai.conv_learner import *\n",
    "from fastai.text import *"
   ]
  },
  {
   "cell_type": "code",
   "execution_count": 3,
   "metadata": {
    "ExecuteTime": {
     "end_time": "2018-11-30T21:47:54.016137Z",
     "start_time": "2018-11-30T21:47:53.965173Z"
    }
   },
   "outputs": [],
   "source": [
    "PATH = Path('data/IAM_handwriting')\n",
    "TMP_PATH = PATH/'tmp'\n",
    "CSV = PATH/'words.csv'\n",
    "\n",
    "# !ls {PATH}"
   ]
  },
  {
   "cell_type": "code",
   "execution_count": 4,
   "metadata": {
    "ExecuteTime": {
     "end_time": "2018-11-30T21:47:54.323714Z",
     "start_time": "2018-11-30T21:47:54.263812Z"
    }
   },
   "outputs": [
    {
     "data": {
      "text/plain": [
       "device(type='cpu')"
      ]
     },
     "execution_count": 4,
     "metadata": {},
     "output_type": "execute_result"
    }
   ],
   "source": [
    "device = torch.device('cuda' if torch.cuda.is_available() else 'cpu')\n",
    "device"
   ]
  },
  {
   "cell_type": "markdown",
   "metadata": {
    "heading_collapsed": true
   },
   "source": [
    "# Prelim"
   ]
  },
  {
   "cell_type": "markdown",
   "metadata": {
    "hidden": true
   },
   "source": [
    "### Manual DataFrame"
   ]
  },
  {
   "cell_type": "code",
   "execution_count": 9,
   "metadata": {
    "ExecuteTime": {
     "end_time": "2018-11-21T16:49:16.453935Z",
     "start_time": "2018-11-21T16:49:15.323245Z"
    },
    "hidden": true
   },
   "outputs": [],
   "source": [
    "maxTextLen = 32\n",
    "samples = []\n",
    "chars = set()\n",
    "\n",
    "f=open(f'{PATH}/ascii/words.txt')\n",
    "for line in f:\n",
    "    # ignore comment line\n",
    "    if not line or line[0]=='#':\n",
    "        continue\n",
    "\n",
    "    lineSplit = line.strip().split(' ')\n",
    "    assert len(lineSplit) >= 9\n",
    "\n",
    "    fileName = lineSplit[0]\n",
    "\n",
    "    # GT text are columns starting at 9\n",
    "    gtText = ''.join(lineSplit[8:])[:maxTextLen]\n",
    "    char_len = len(gtText)\n",
    "    chars = chars.union(set(list(gtText)))\n",
    "\n",
    "    # put sample into list\n",
    "    samples.append([fileName, gtText, char_len])\n",
    "    \n",
    "data = np.stack(samples)\n",
    "df = pd.DataFrame(data, columns=['filename', 'word', 'char_len'], )"
   ]
  },
  {
   "cell_type": "code",
   "execution_count": 10,
   "metadata": {
    "ExecuteTime": {
     "end_time": "2018-11-21T16:49:16.962275Z",
     "start_time": "2018-11-21T16:49:16.892075Z"
    },
    "hidden": true
   },
   "outputs": [
    {
     "data": {
      "text/html": [
       "<div>\n",
       "<style scoped>\n",
       "    .dataframe tbody tr th:only-of-type {\n",
       "        vertical-align: middle;\n",
       "    }\n",
       "\n",
       "    .dataframe tbody tr th {\n",
       "        vertical-align: top;\n",
       "    }\n",
       "\n",
       "    .dataframe thead th {\n",
       "        text-align: right;\n",
       "    }\n",
       "</style>\n",
       "<table border=\"1\" class=\"dataframe\">\n",
       "  <thead>\n",
       "    <tr style=\"text-align: right;\">\n",
       "      <th></th>\n",
       "      <th>filename</th>\n",
       "      <th>word</th>\n",
       "      <th>char_len</th>\n",
       "    </tr>\n",
       "  </thead>\n",
       "  <tbody>\n",
       "    <tr>\n",
       "      <th>1</th>\n",
       "      <td>a01-000u-00-01</td>\n",
       "      <td>MOVE</td>\n",
       "      <td>4</td>\n",
       "    </tr>\n",
       "    <tr>\n",
       "      <th>3</th>\n",
       "      <td>a01-000u-00-03</td>\n",
       "      <td>stop</td>\n",
       "      <td>4</td>\n",
       "    </tr>\n",
       "    <tr>\n",
       "      <th>5</th>\n",
       "      <td>a01-000u-00-05</td>\n",
       "      <td>Gaitskell</td>\n",
       "      <td>9</td>\n",
       "    </tr>\n",
       "    <tr>\n",
       "      <th>6</th>\n",
       "      <td>a01-000u-00-06</td>\n",
       "      <td>from</td>\n",
       "      <td>4</td>\n",
       "    </tr>\n",
       "    <tr>\n",
       "      <th>7</th>\n",
       "      <td>a01-000u-01-00</td>\n",
       "      <td>nominating</td>\n",
       "      <td>10</td>\n",
       "    </tr>\n",
       "  </tbody>\n",
       "</table>\n",
       "</div>"
      ],
      "text/plain": [
       "         filename        word  char_len\n",
       "1  a01-000u-00-01        MOVE         4\n",
       "3  a01-000u-00-03        stop         4\n",
       "5  a01-000u-00-05   Gaitskell         9\n",
       "6  a01-000u-00-06        from         4\n",
       "7  a01-000u-01-00  nominating        10"
      ]
     },
     "execution_count": 10,
     "metadata": {},
     "output_type": "execute_result"
    }
   ],
   "source": [
    "df['char_len'] = df.char_len.astype('int32')\n",
    "df = df.loc[df['char_len'] > 3]\n",
    "df.head()"
   ]
  },
  {
   "cell_type": "markdown",
   "metadata": {
    "heading_collapsed": true,
    "hidden": true
   },
   "source": [
    "### word itos"
   ]
  },
  {
   "cell_type": "code",
   "execution_count": 11,
   "metadata": {
    "ExecuteTime": {
     "end_time": "2018-11-21T16:49:32.098729Z",
     "start_time": "2018-11-21T16:49:31.924696Z"
    },
    "hidden": true,
    "scrolled": true
   },
   "outputs": [
    {
     "data": {
      "text/plain": [
       "5902"
      ]
     },
     "execution_count": 11,
     "metadata": {},
     "output_type": "execute_result"
    }
   ],
   "source": [
    "freq = Counter(df.word)\n",
    "min_freq = 1\n",
    "\n",
    "itos = [o for o,c in freq.most_common() if c>min_freq]\n",
    "itos.insert(0, '_pad_')\n",
    "itos.insert(1, ' ')\n",
    "itos.insert(2, '_unk_')\n",
    "itos.insert(3, '_eos_')\n",
    "len(itos)"
   ]
  },
  {
   "cell_type": "code",
   "execution_count": 12,
   "metadata": {
    "ExecuteTime": {
     "end_time": "2018-11-21T16:49:32.979435Z",
     "start_time": "2018-11-21T16:49:32.955046Z"
    },
    "hidden": true
   },
   "outputs": [],
   "source": [
    "word_itos = itos"
   ]
  },
  {
   "cell_type": "code",
   "execution_count": 13,
   "metadata": {
    "ExecuteTime": {
     "end_time": "2018-11-21T16:49:43.845064Z",
     "start_time": "2018-11-21T16:49:43.817178Z"
    },
    "hidden": true
   },
   "outputs": [],
   "source": [
    "pickle.dump(word_itos, open(TMP_PATH/'synth_word_itos.pkl', 'wb'))"
   ]
  },
  {
   "cell_type": "markdown",
   "metadata": {
    "heading_collapsed": true,
    "hidden": true
   },
   "source": [
    "### Convert synth_words.csv to word_ids"
   ]
  },
  {
   "cell_type": "code",
   "execution_count": 14,
   "metadata": {
    "ExecuteTime": {
     "end_time": "2018-11-21T16:50:27.656125Z",
     "start_time": "2018-11-21T16:50:27.631022Z"
    },
    "hidden": true
   },
   "outputs": [],
   "source": [
    "# this is specific to synth_words.csv\n",
    "# char_itos = pickle.load(open(TMP_PATH/'synth_char_itos.pkl', 'rb'))\n",
    "char_itos = pickle.load(open(TMP_PATH/'char_itos.pkl', 'rb'))"
   ]
  },
  {
   "cell_type": "markdown",
   "metadata": {
    "hidden": true
   },
   "source": [
    "#### Convert char_ids -> words -> word_ids"
   ]
  },
  {
   "cell_type": "code",
   "execution_count": 16,
   "metadata": {
    "ExecuteTime": {
     "end_time": "2018-11-21T16:51:08.211901Z",
     "start_time": "2018-11-21T16:51:08.087594Z"
    },
    "hidden": true,
    "scrolled": true
   },
   "outputs": [
    {
     "data": {
      "text/html": [
       "<div>\n",
       "<style scoped>\n",
       "    .dataframe tbody tr th:only-of-type {\n",
       "        vertical-align: middle;\n",
       "    }\n",
       "\n",
       "    .dataframe tbody tr th {\n",
       "        vertical-align: top;\n",
       "    }\n",
       "\n",
       "    .dataframe thead th {\n",
       "        text-align: right;\n",
       "    }\n",
       "</style>\n",
       "<table border=\"1\" class=\"dataframe\">\n",
       "  <thead>\n",
       "    <tr style=\"text-align: right;\">\n",
       "      <th></th>\n",
       "      <th>filename</th>\n",
       "      <th>char_ids</th>\n",
       "    </tr>\n",
       "  </thead>\n",
       "  <tbody>\n",
       "    <tr>\n",
       "      <th>0</th>\n",
       "      <td>000.png</td>\n",
       "      <td>68 70 74 75 1 71 60 70 71 67 60 1 59 64 74 58 3</td>\n",
       "    </tr>\n",
       "    <tr>\n",
       "      <th>1</th>\n",
       "      <td>001.png</td>\n",
       "      <td>75 63 60 68 1 70 58 58 76 73 74 1 59 73 64 60 ...</td>\n",
       "    </tr>\n",
       "    <tr>\n",
       "      <th>2</th>\n",
       "      <td>002.png</td>\n",
       "      <td>59 60 67 64 62 63 75 1 73 60 56 74 70 69 56 57...</td>\n",
       "    </tr>\n",
       "    <tr>\n",
       "      <th>3</th>\n",
       "      <td>003.png</td>\n",
       "      <td>75 63 60 80 1 56 61 75 60 73 1 73 60 56 59 80 3</td>\n",
       "    </tr>\n",
       "    <tr>\n",
       "      <th>4</th>\n",
       "      <td>004.png</td>\n",
       "      <td>58 63 70 74 60 69 1 56 67 56 73 68 60 59 1 56 ...</td>\n",
       "    </tr>\n",
       "  </tbody>\n",
       "</table>\n",
       "</div>"
      ],
      "text/plain": [
       "  filename                                           char_ids\n",
       "0  000.png    68 70 74 75 1 71 60 70 71 67 60 1 59 64 74 58 3\n",
       "1  001.png  75 63 60 68 1 70 58 58 76 73 74 1 59 73 64 60 ...\n",
       "2  002.png  59 60 67 64 62 63 75 1 73 60 56 74 70 69 56 57...\n",
       "3  003.png    75 63 60 80 1 56 61 75 60 73 1 73 60 56 59 80 3\n",
       "4  004.png  58 63 70 74 60 69 1 56 67 56 73 68 60 59 1 56 ..."
      ]
     },
     "execution_count": 16,
     "metadata": {},
     "output_type": "execute_result"
    }
   ],
   "source": [
    "CSV = PATH/'synth_words_50000.csv'\n",
    "csv = pd.read_csv(CSV)\n",
    "csv.head()"
   ]
  },
  {
   "cell_type": "code",
   "execution_count": 24,
   "metadata": {
    "ExecuteTime": {
     "end_time": "2018-11-21T16:53:29.936534Z",
     "start_time": "2018-11-21T16:53:29.559313Z"
    },
    "hidden": true
   },
   "outputs": [],
   "source": [
    "res = [''.join([char_itos[int(c)] for c in line[:-2].split(' ')]) for line in csv.char_ids]"
   ]
  },
  {
   "cell_type": "code",
   "execution_count": 25,
   "metadata": {
    "ExecuteTime": {
     "end_time": "2018-11-21T16:53:33.686163Z",
     "start_time": "2018-11-21T16:53:33.650517Z"
    },
    "hidden": true
   },
   "outputs": [
    {
     "data": {
      "text/html": [
       "<div>\n",
       "<style scoped>\n",
       "    .dataframe tbody tr th:only-of-type {\n",
       "        vertical-align: middle;\n",
       "    }\n",
       "\n",
       "    .dataframe tbody tr th {\n",
       "        vertical-align: top;\n",
       "    }\n",
       "\n",
       "    .dataframe thead th {\n",
       "        text-align: right;\n",
       "    }\n",
       "</style>\n",
       "<table border=\"1\" class=\"dataframe\">\n",
       "  <thead>\n",
       "    <tr style=\"text-align: right;\">\n",
       "      <th></th>\n",
       "      <th>filename</th>\n",
       "      <th>char_ids</th>\n",
       "      <th>words</th>\n",
       "    </tr>\n",
       "  </thead>\n",
       "  <tbody>\n",
       "    <tr>\n",
       "      <th>0</th>\n",
       "      <td>000.png</td>\n",
       "      <td>68 70 74 75 1 71 60 70 71 67 60 1 59 64 74 58 3</td>\n",
       "      <td>most people disc</td>\n",
       "    </tr>\n",
       "    <tr>\n",
       "      <th>1</th>\n",
       "      <td>001.png</td>\n",
       "      <td>75 63 60 68 1 70 58 58 76 73 74 1 59 73 64 60 ...</td>\n",
       "      <td>them occurs dried</td>\n",
       "    </tr>\n",
       "    <tr>\n",
       "      <th>2</th>\n",
       "      <td>002.png</td>\n",
       "      <td>59 60 67 64 62 63 75 1 73 60 56 74 70 69 56 57...</td>\n",
       "      <td>delight reasonably could</td>\n",
       "    </tr>\n",
       "    <tr>\n",
       "      <th>3</th>\n",
       "      <td>003.png</td>\n",
       "      <td>75 63 60 80 1 56 61 75 60 73 1 73 60 56 59 80 3</td>\n",
       "      <td>they after ready</td>\n",
       "    </tr>\n",
       "    <tr>\n",
       "      <th>4</th>\n",
       "      <td>004.png</td>\n",
       "      <td>58 63 70 74 60 69 1 56 67 56 73 68 60 59 1 56 ...</td>\n",
       "      <td>chosen alarmed authority</td>\n",
       "    </tr>\n",
       "  </tbody>\n",
       "</table>\n",
       "</div>"
      ],
      "text/plain": [
       "  filename                                           char_ids  \\\n",
       "0  000.png    68 70 74 75 1 71 60 70 71 67 60 1 59 64 74 58 3   \n",
       "1  001.png  75 63 60 68 1 70 58 58 76 73 74 1 59 73 64 60 ...   \n",
       "2  002.png  59 60 67 64 62 63 75 1 73 60 56 74 70 69 56 57...   \n",
       "3  003.png    75 63 60 80 1 56 61 75 60 73 1 73 60 56 59 80 3   \n",
       "4  004.png  58 63 70 74 60 69 1 56 67 56 73 68 60 59 1 56 ...   \n",
       "\n",
       "                      words  \n",
       "0          most people disc  \n",
       "1         them occurs dried  \n",
       "2  delight reasonably could  \n",
       "3          they after ready  \n",
       "4  chosen alarmed authority  "
      ]
     },
     "execution_count": 25,
     "metadata": {},
     "output_type": "execute_result"
    }
   ],
   "source": [
    "csv['words'] = res\n",
    "csv.head()"
   ]
  },
  {
   "cell_type": "code",
   "execution_count": 26,
   "metadata": {
    "ExecuteTime": {
     "end_time": "2018-11-21T16:54:00.645283Z",
     "start_time": "2018-11-21T16:54:00.454361Z"
    },
    "hidden": true
   },
   "outputs": [],
   "source": [
    "joined_labels = list(csv.words)\n",
    "\n",
    "word_stoi = collections.defaultdict(lambda: 2, {v:k for k,v in enumerate(word_itos)})\n",
    "ids = np.array([np.array([word_stoi[word] for word in line.split(' ')]+[3]) for line in joined_labels])"
   ]
  },
  {
   "cell_type": "code",
   "execution_count": 27,
   "metadata": {
    "ExecuteTime": {
     "end_time": "2018-11-21T16:54:03.535139Z",
     "start_time": "2018-11-21T16:54:03.197573Z"
    },
    "hidden": true
   },
   "outputs": [],
   "source": [
    "# convert to strings (as labels)\n",
    "str_ids = np.array([' '.join(str(l) for l in w) for w in ids]).reshape(-1,1)"
   ]
  },
  {
   "cell_type": "code",
   "execution_count": 28,
   "metadata": {
    "ExecuteTime": {
     "end_time": "2018-11-21T16:54:09.610492Z",
     "start_time": "2018-11-21T16:54:09.544693Z"
    },
    "hidden": true,
    "scrolled": true
   },
   "outputs": [
    {
     "data": {
      "text/html": [
       "<div>\n",
       "<style scoped>\n",
       "    .dataframe tbody tr th:only-of-type {\n",
       "        vertical-align: middle;\n",
       "    }\n",
       "\n",
       "    .dataframe tbody tr th {\n",
       "        vertical-align: top;\n",
       "    }\n",
       "\n",
       "    .dataframe thead th {\n",
       "        text-align: right;\n",
       "    }\n",
       "</style>\n",
       "<table border=\"1\" class=\"dataframe\">\n",
       "  <thead>\n",
       "    <tr style=\"text-align: right;\">\n",
       "      <th></th>\n",
       "      <th>filename</th>\n",
       "      <th>char_ids</th>\n",
       "      <th>words</th>\n",
       "      <th>word_ids</th>\n",
       "    </tr>\n",
       "  </thead>\n",
       "  <tbody>\n",
       "    <tr>\n",
       "      <th>0</th>\n",
       "      <td>000.png</td>\n",
       "      <td>68 70 74 75 1 71 60 70 71 67 60 1 59 64 74 58 3</td>\n",
       "      <td>most people disc</td>\n",
       "      <td>49 38 2597 3</td>\n",
       "    </tr>\n",
       "    <tr>\n",
       "      <th>1</th>\n",
       "      <td>001.png</td>\n",
       "      <td>75 63 60 68 1 70 58 58 76 73 74 1 59 73 64 60 ...</td>\n",
       "      <td>them occurs dried</td>\n",
       "      <td>22 5524 1904 3</td>\n",
       "    </tr>\n",
       "    <tr>\n",
       "      <th>2</th>\n",
       "      <td>002.png</td>\n",
       "      <td>59 60 67 64 62 63 75 1 73 60 56 74 70 69 56 57...</td>\n",
       "      <td>delight reasonably could</td>\n",
       "      <td>4731 1572 27 3</td>\n",
       "    </tr>\n",
       "    <tr>\n",
       "      <th>3</th>\n",
       "      <td>003.png</td>\n",
       "      <td>75 63 60 80 1 56 61 75 60 73 1 73 60 56 59 80 3</td>\n",
       "      <td>they after ready</td>\n",
       "      <td>13 66 716 3</td>\n",
       "    </tr>\n",
       "    <tr>\n",
       "      <th>4</th>\n",
       "      <td>004.png</td>\n",
       "      <td>58 63 70 74 60 69 1 56 67 56 73 68 60 59 1 56 ...</td>\n",
       "      <td>chosen alarmed authority</td>\n",
       "      <td>1455 4242 849 3</td>\n",
       "    </tr>\n",
       "  </tbody>\n",
       "</table>\n",
       "</div>"
      ],
      "text/plain": [
       "  filename                                           char_ids  \\\n",
       "0  000.png    68 70 74 75 1 71 60 70 71 67 60 1 59 64 74 58 3   \n",
       "1  001.png  75 63 60 68 1 70 58 58 76 73 74 1 59 73 64 60 ...   \n",
       "2  002.png  59 60 67 64 62 63 75 1 73 60 56 74 70 69 56 57...   \n",
       "3  003.png    75 63 60 80 1 56 61 75 60 73 1 73 60 56 59 80 3   \n",
       "4  004.png  58 63 70 74 60 69 1 56 67 56 73 68 60 59 1 56 ...   \n",
       "\n",
       "                      words         word_ids  \n",
       "0          most people disc     49 38 2597 3  \n",
       "1         them occurs dried   22 5524 1904 3  \n",
       "2  delight reasonably could   4731 1572 27 3  \n",
       "3          they after ready      13 66 716 3  \n",
       "4  chosen alarmed authority  1455 4242 849 3  "
      ]
     },
     "execution_count": 28,
     "metadata": {},
     "output_type": "execute_result"
    }
   ],
   "source": [
    "csv['word_ids'] = str_ids\n",
    "csv.head()"
   ]
  },
  {
   "cell_type": "markdown",
   "metadata": {
    "hidden": true
   },
   "source": [
    "#### modify filenames to fit existing data structure"
   ]
  },
  {
   "cell_type": "code",
   "execution_count": 157,
   "metadata": {
    "ExecuteTime": {
     "end_time": "2018-11-16T17:17:23.574424Z",
     "start_time": "2018-11-16T17:17:23.517005Z"
    },
    "hidden": true
   },
   "outputs": [
    {
     "data": {
      "text/plain": [
       "['9995.png', '9996.png', '9997.png', '9998.png', '9999.png']"
      ]
     },
     "execution_count": 157,
     "metadata": {},
     "output_type": "execute_result"
    }
   ],
   "source": [
    "res = ['{:04d}'.format(i)+'.png' for i in range(10000)]"
   ]
  },
  {
   "cell_type": "code",
   "execution_count": 159,
   "metadata": {
    "ExecuteTime": {
     "end_time": "2018-11-16T17:18:44.127905Z",
     "start_time": "2018-11-16T17:18:44.076596Z"
    },
    "hidden": true
   },
   "outputs": [],
   "source": [
    "csv['filename'] = res"
   ]
  },
  {
   "cell_type": "markdown",
   "metadata": {
    "heading_collapsed": true,
    "hidden": true
   },
   "source": [
    "### Convert synth_words.csv to char_itos format"
   ]
  },
  {
   "cell_type": "code",
   "execution_count": null,
   "metadata": {
    "hidden": true
   },
   "outputs": [],
   "source": [
    "old_char_itos = pickle.load(open(TMP_PATH/'synth_char_itos.pkl', 'rb'))"
   ]
  },
  {
   "cell_type": "code",
   "execution_count": 87,
   "metadata": {
    "ExecuteTime": {
     "end_time": "2018-11-21T18:59:59.230392Z",
     "start_time": "2018-11-21T18:59:59.100435Z"
    },
    "hidden": true
   },
   "outputs": [],
   "source": [
    "res = [''.join([old_char_itos[int(c)] for c in line.split(' ')]) for line in char_csv.char_ids]"
   ]
  },
  {
   "cell_type": "code",
   "execution_count": 88,
   "metadata": {
    "ExecuteTime": {
     "end_time": "2018-11-21T19:00:05.755736Z",
     "start_time": "2018-11-21T19:00:05.646547Z"
    },
    "hidden": true
   },
   "outputs": [],
   "source": [
    "char_stoi = collections.defaultdict(lambda: 2, {v:k for k,v in enumerate(char_itos)})\n",
    "ids = np.array([np.array([char_stoi[char] for char in list(line)]+[3]) for line in res])"
   ]
  },
  {
   "cell_type": "code",
   "execution_count": 89,
   "metadata": {
    "ExecuteTime": {
     "end_time": "2018-11-21T19:00:07.147126Z",
     "start_time": "2018-11-21T19:00:06.909929Z"
    },
    "hidden": true
   },
   "outputs": [],
   "source": [
    "# convert to strings (as labels)\n",
    "str_ids = np.array([' '.join(str(l) for l in w) for w in ids]).reshape(-1,1)"
   ]
  },
  {
   "cell_type": "code",
   "execution_count": 90,
   "metadata": {
    "ExecuteTime": {
     "end_time": "2018-11-21T19:00:08.480870Z",
     "start_time": "2018-11-21T19:00:08.421405Z"
    },
    "hidden": true,
    "scrolled": false
   },
   "outputs": [
    {
     "data": {
      "text/html": [
       "<div>\n",
       "<style scoped>\n",
       "    .dataframe tbody tr th:only-of-type {\n",
       "        vertical-align: middle;\n",
       "    }\n",
       "\n",
       "    .dataframe tbody tr th {\n",
       "        vertical-align: top;\n",
       "    }\n",
       "\n",
       "    .dataframe thead th {\n",
       "        text-align: right;\n",
       "    }\n",
       "</style>\n",
       "<table border=\"1\" class=\"dataframe\">\n",
       "  <thead>\n",
       "    <tr style=\"text-align: right;\">\n",
       "      <th></th>\n",
       "      <th>filename</th>\n",
       "      <th>char_ids</th>\n",
       "    </tr>\n",
       "  </thead>\n",
       "  <tbody>\n",
       "    <tr>\n",
       "      <th>0</th>\n",
       "      <td>000.png</td>\n",
       "      <td>71 73 70 71 60 73 1 64 69 61 56 75 76 56 75 64...</td>\n",
       "    </tr>\n",
       "    <tr>\n",
       "      <th>1</th>\n",
       "      <td>001.png</td>\n",
       "      <td>56 74 74 76 68 71 75 64 70 69 1 56 76 75 76 68...</td>\n",
       "    </tr>\n",
       "    <tr>\n",
       "      <th>2</th>\n",
       "      <td>002.png</td>\n",
       "      <td>78 63 60 73 60 1 57 60 58 70 68 60 1 71 60 73 ...</td>\n",
       "    </tr>\n",
       "    <tr>\n",
       "      <th>3</th>\n",
       "      <td>003.png</td>\n",
       "      <td>64 69 61 70 73 68 56 75 64 70 69 1 74 70 68 60...</td>\n",
       "    </tr>\n",
       "    <tr>\n",
       "      <th>4</th>\n",
       "      <td>004.png</td>\n",
       "      <td>62 73 60 56 75 60 74 75 1 75 60 67 67 1 74 75 ...</td>\n",
       "    </tr>\n",
       "  </tbody>\n",
       "</table>\n",
       "</div>"
      ],
      "text/plain": [
       "  filename                                           char_ids\n",
       "0  000.png  71 73 70 71 60 73 1 64 69 61 56 75 76 56 75 64...\n",
       "1  001.png  56 74 74 76 68 71 75 64 70 69 1 56 76 75 76 68...\n",
       "2  002.png  78 63 60 73 60 1 57 60 58 70 68 60 1 71 60 73 ...\n",
       "3  003.png  64 69 61 70 73 68 56 75 64 70 69 1 74 70 68 60...\n",
       "4  004.png  62 73 60 56 75 60 74 75 1 75 60 67 67 1 74 75 ..."
      ]
     },
     "execution_count": 90,
     "metadata": {},
     "output_type": "execute_result"
    }
   ],
   "source": [
    "char_csv['char_ids'] = str_ids\n",
    "char_csv.head()"
   ]
  },
  {
   "cell_type": "markdown",
   "metadata": {
    "hidden": true
   },
   "source": [
    "#### modify filenames to fit existing data structure"
   ]
  },
  {
   "cell_type": "code",
   "execution_count": 91,
   "metadata": {
    "ExecuteTime": {
     "end_time": "2018-11-21T19:00:29.391119Z",
     "start_time": "2018-11-21T19:00:29.332073Z"
    },
    "hidden": true
   },
   "outputs": [],
   "source": [
    "res = ['{:04d}'.format(i)+'.png' for i in range(10000)]"
   ]
  },
  {
   "cell_type": "code",
   "execution_count": 92,
   "metadata": {
    "ExecuteTime": {
     "end_time": "2018-11-21T19:00:41.852493Z",
     "start_time": "2018-11-21T19:00:41.796637Z"
    },
    "hidden": true,
    "scrolled": true
   },
   "outputs": [
    {
     "data": {
      "text/html": [
       "<div>\n",
       "<style scoped>\n",
       "    .dataframe tbody tr th:only-of-type {\n",
       "        vertical-align: middle;\n",
       "    }\n",
       "\n",
       "    .dataframe tbody tr th {\n",
       "        vertical-align: top;\n",
       "    }\n",
       "\n",
       "    .dataframe thead th {\n",
       "        text-align: right;\n",
       "    }\n",
       "</style>\n",
       "<table border=\"1\" class=\"dataframe\">\n",
       "  <thead>\n",
       "    <tr style=\"text-align: right;\">\n",
       "      <th></th>\n",
       "      <th>filename</th>\n",
       "      <th>char_ids</th>\n",
       "    </tr>\n",
       "  </thead>\n",
       "  <tbody>\n",
       "    <tr>\n",
       "      <th>0</th>\n",
       "      <td>0000.png</td>\n",
       "      <td>71 73 70 71 60 73 1 64 69 61 56 75 76 56 75 64...</td>\n",
       "    </tr>\n",
       "    <tr>\n",
       "      <th>1</th>\n",
       "      <td>0001.png</td>\n",
       "      <td>56 74 74 76 68 71 75 64 70 69 1 56 76 75 76 68...</td>\n",
       "    </tr>\n",
       "    <tr>\n",
       "      <th>2</th>\n",
       "      <td>0002.png</td>\n",
       "      <td>78 63 60 73 60 1 57 60 58 70 68 60 1 71 60 73 ...</td>\n",
       "    </tr>\n",
       "    <tr>\n",
       "      <th>3</th>\n",
       "      <td>0003.png</td>\n",
       "      <td>64 69 61 70 73 68 56 75 64 70 69 1 74 70 68 60...</td>\n",
       "    </tr>\n",
       "    <tr>\n",
       "      <th>4</th>\n",
       "      <td>0004.png</td>\n",
       "      <td>62 73 60 56 75 60 74 75 1 75 60 67 67 1 74 75 ...</td>\n",
       "    </tr>\n",
       "  </tbody>\n",
       "</table>\n",
       "</div>"
      ],
      "text/plain": [
       "   filename                                           char_ids\n",
       "0  0000.png  71 73 70 71 60 73 1 64 69 61 56 75 76 56 75 64...\n",
       "1  0001.png  56 74 74 76 68 71 75 64 70 69 1 56 76 75 76 68...\n",
       "2  0002.png  78 63 60 73 60 1 57 60 58 70 68 60 1 71 60 73 ...\n",
       "3  0003.png  64 69 61 70 73 68 56 75 64 70 69 1 74 70 68 60...\n",
       "4  0004.png  62 73 60 56 75 60 74 75 1 75 60 67 67 1 74 75 ..."
      ]
     },
     "execution_count": 92,
     "metadata": {},
     "output_type": "execute_result"
    }
   ],
   "source": [
    "char_csv['filename'] = res\n",
    "char_csv.head()"
   ]
  },
  {
   "cell_type": "markdown",
   "metadata": {},
   "source": [
    "# Helper Functions"
   ]
  },
  {
   "cell_type": "code",
   "execution_count": 5,
   "metadata": {
    "ExecuteTime": {
     "end_time": "2018-11-30T21:47:56.156524Z",
     "start_time": "2018-11-30T21:47:56.105986Z"
    }
   },
   "outputs": [],
   "source": [
    "def label_text(pred):\n",
    "    ints = to_np(pred).astype(int)\n",
    "    ints = np.trim_zeros(ints)   # remove padding (0)\n",
    "    return ''.join([itos[i] for i in ints])"
   ]
  },
  {
   "cell_type": "code",
   "execution_count": 6,
   "metadata": {
    "ExecuteTime": {
     "end_time": "2018-11-30T21:47:56.497154Z",
     "start_time": "2018-11-30T21:47:56.443723Z"
    }
   },
   "outputs": [],
   "source": [
    "def show_img(im, figsize=None, ax=None, alpha=None, title=None):\n",
    "    if not ax: fig,ax = plt.subplots(figsize=figsize)\n",
    "    ax.imshow(im, alpha=alpha)\n",
    "    if title: ax.set_title(title)\n",
    "    return ax"
   ]
  },
  {
   "cell_type": "markdown",
   "metadata": {},
   "source": [
    "# Data"
   ]
  },
  {
   "cell_type": "markdown",
   "metadata": {},
   "source": [
    "### Char"
   ]
  },
  {
   "cell_type": "code",
   "execution_count": 7,
   "metadata": {
    "ExecuteTime": {
     "end_time": "2018-11-30T21:47:59.151034Z",
     "start_time": "2018-11-30T21:47:59.101406Z"
    }
   },
   "outputs": [],
   "source": [
    "itos = pickle.load(open(TMP_PATH/'char_itos.pkl', 'rb'))"
   ]
  },
  {
   "cell_type": "code",
   "execution_count": 8,
   "metadata": {
    "ExecuteTime": {
     "end_time": "2018-11-30T21:47:59.584806Z",
     "start_time": "2018-11-30T21:47:59.445442Z"
    }
   },
   "outputs": [
    {
     "data": {
      "text/plain": [
       "10000"
      ]
     },
     "execution_count": 8,
     "metadata": {},
     "output_type": "execute_result"
    }
   ],
   "source": [
    "fname = 'synth_words_50000.csv' if device.type == 'cuda' else 'synth_words.csv'\n",
    "CSV = PATH/fname\n",
    "# char_csv.to_csv(CSV, columns=['filename', 'char_ids'], index=False)\n",
    "\n",
    "csv = pd.read_csv(CSV)\n",
    "len(csv)"
   ]
  },
  {
   "cell_type": "markdown",
   "metadata": {
    "heading_collapsed": true
   },
   "source": [
    "### Word"
   ]
  },
  {
   "cell_type": "code",
   "execution_count": 10,
   "metadata": {
    "ExecuteTime": {
     "end_time": "2018-11-27T00:04:38.469763Z",
     "start_time": "2018-11-27T00:04:38.418113Z"
    },
    "hidden": true
   },
   "outputs": [],
   "source": [
    "w_itos = pickle.load(open(TMP_PATH/'synth_word_itos.pkl', 'rb'))"
   ]
  },
  {
   "cell_type": "code",
   "execution_count": 11,
   "metadata": {
    "ExecuteTime": {
     "end_time": "2018-11-27T00:04:38.907904Z",
     "start_time": "2018-11-27T00:04:38.840105Z"
    },
    "hidden": true
   },
   "outputs": [
    {
     "data": {
      "text/plain": [
       "10000"
      ]
     },
     "execution_count": 11,
     "metadata": {},
     "output_type": "execute_result"
    }
   ],
   "source": [
    "W_CSV = PATH/'synth_word_ids.csv'\n",
    "# csv.to_csv(CSV, columns=['filename', 'word_ids'], index=False)\n",
    "\n",
    "w_csv = pd.read_csv(W_CSV)\n",
    "len(w_csv)"
   ]
  },
  {
   "cell_type": "code",
   "execution_count": 17,
   "metadata": {
    "ExecuteTime": {
     "end_time": "2018-11-27T00:06:17.578435Z",
     "start_time": "2018-11-27T00:06:17.529827Z"
    },
    "hidden": true
   },
   "outputs": [],
   "source": [
    "# only word testing\n",
    "itos = w_itos\n",
    "CSV = W_CSV\n",
    "csv = w_csv"
   ]
  },
  {
   "cell_type": "markdown",
   "metadata": {},
   "source": [
    "### Get val_idxs"
   ]
  },
  {
   "cell_type": "code",
   "execution_count": 9,
   "metadata": {
    "ExecuteTime": {
     "end_time": "2018-11-30T21:48:01.570808Z",
     "start_time": "2018-11-30T21:48:01.517336Z"
    }
   },
   "outputs": [
    {
     "data": {
      "text/plain": [
       "1500"
      ]
     },
     "execution_count": 9,
     "metadata": {},
     "output_type": "execute_result"
    }
   ],
   "source": [
    "val_idxs = np.array(csv.sample(frac=0.15).index)\n",
    "len(val_idxs)"
   ]
  },
  {
   "cell_type": "markdown",
   "metadata": {},
   "source": [
    "### ModelData object"
   ]
  },
  {
   "cell_type": "code",
   "execution_count": 10,
   "metadata": {
    "ExecuteTime": {
     "end_time": "2018-11-30T21:48:05.462940Z",
     "start_time": "2018-11-30T21:48:05.412414Z"
    }
   },
   "outputs": [],
   "source": [
    "f = resnet34\n",
    "sz = 64\n",
    "bs = 120"
   ]
  },
  {
   "cell_type": "code",
   "execution_count": 11,
   "metadata": {
    "ExecuteTime": {
     "end_time": "2018-11-30T21:48:06.078658Z",
     "start_time": "2018-11-30T21:48:05.782542Z"
    }
   },
   "outputs": [],
   "source": [
    "aug_tfms = [RandomRotate(3, mode=1), RandomLighting(0.05, 0.05)]\n",
    "\n",
    "tfms = tfms_from_model(f, sz, crop_type=CropType.NO, aug_tfms=aug_tfms)\n",
    "data = ImageClassifierData.from_csv(PATH, 'synth_words', CSV, bs=bs, val_idxs=val_idxs, tfms=tfms, continuous=True)"
   ]
  },
  {
   "cell_type": "code",
   "execution_count": 12,
   "metadata": {
    "ExecuteTime": {
     "end_time": "2018-11-30T21:48:06.403470Z",
     "start_time": "2018-11-30T21:48:06.348220Z"
    }
   },
   "outputs": [],
   "source": [
    "# pad ends of lines with pad token for language model\n",
    "data.aug_dl.pre_pad=False\n",
    "data.trn_dl.pre_pad=False\n",
    "data.val_dl.pre_pad=False"
   ]
  },
  {
   "cell_type": "markdown",
   "metadata": {
    "heading_collapsed": true
   },
   "source": [
    "#### Verify dataset transforms"
   ]
  },
  {
   "cell_type": "code",
   "execution_count": 87,
   "metadata": {
    "ExecuteTime": {
     "end_time": "2018-11-29T19:22:31.801040Z",
     "start_time": "2018-11-29T19:22:30.218012Z"
    },
    "hidden": true
   },
   "outputs": [],
   "source": [
    "denorm = data.trn_ds.denorm\n",
    "x,y = next(iter(data.aug_dl))\n",
    "x = denorm(x)"
   ]
  },
  {
   "cell_type": "code",
   "execution_count": 19,
   "metadata": {
    "ExecuteTime": {
     "end_time": "2018-11-27T00:06:25.947077Z",
     "start_time": "2018-11-27T00:06:23.665735Z"
    },
    "hidden": true,
    "scrolled": true
   },
   "outputs": [
    {
     "data": {
      "image/png": "[encoded data removed]",
      "text/plain": [
       "<Figure size 720x720 with 16 Axes>"
      ]
     },
     "metadata": {
      "needs_background": "light"
     },
     "output_type": "display_data"
    }
   ],
   "source": [
    "fig, axes = plt.subplots(4,4, figsize=(10, 10))\n",
    "for i,ax in enumerate(axes.flat):\n",
    "    t = label_text(y[i])\n",
    "    ax=show_img(x[i], ax=ax, title=t)\n",
    "    \n",
    "plt.tight_layout(pad=0.1)"
   ]
  },
  {
   "cell_type": "markdown",
   "metadata": {
    "heading_collapsed": true
   },
   "source": [
    "### Combine word/char datasets"
   ]
  },
  {
   "cell_type": "code",
   "execution_count": 19,
   "metadata": {
    "ExecuteTime": {
     "end_time": "2018-11-26T16:07:30.805617Z",
     "start_time": "2018-11-26T16:07:30.756363Z"
    },
    "hidden": true
   },
   "outputs": [],
   "source": [
    "class ConcatLblDataset(Dataset):\n",
    "    def __init__(self, ds, y2):\n",
    "        self.ds,self.y2 = ds,y2\n",
    "        self.sz = ds.sz\n",
    "    def __len__(self): return len(self.ds)\n",
    "    \n",
    "    def __getitem__(self, i):\n",
    "        x,y = self.ds[i]\n",
    "        return (x, (y,self.y2[i]))"
   ]
  },
  {
   "cell_type": "code",
   "execution_count": 15,
   "metadata": {
    "ExecuteTime": {
     "end_time": "2018-11-27T00:05:16.347439Z",
     "start_time": "2018-11-27T00:05:16.190136Z"
    },
    "hidden": true
   },
   "outputs": [],
   "source": [
    "w_data = ImageClassifierData.from_csv(PATH, 'synth_words', W_CSV, bs=bs, val_idxs=val_idxs, tfms=tfms, continuous=True)"
   ]
  },
  {
   "cell_type": "code",
   "execution_count": 21,
   "metadata": {
    "ExecuteTime": {
     "end_time": "2018-11-26T16:07:33.132935Z",
     "start_time": "2018-11-26T16:07:33.084160Z"
    },
    "hidden": true
   },
   "outputs": [],
   "source": [
    "trn_ds = ConcatLblDataset(data.trn_ds, w_data.trn_y)\n",
    "val_ds = ConcatLblDataset(data.val_ds, w_data.val_y)\n",
    "data.trn_dl.dataset = trn_ds\n",
    "data.val_dl.dataset = val_ds"
   ]
  },
  {
   "cell_type": "code",
   "execution_count": 22,
   "metadata": {
    "ExecuteTime": {
     "end_time": "2018-11-26T16:07:33.582692Z",
     "start_time": "2018-11-26T16:07:33.533825Z"
    },
    "hidden": true
   },
   "outputs": [],
   "source": [
    "# pad ends of lines with pad token for language model\n",
    "data.aug_dl.pre_pad=False\n",
    "data.trn_dl.pre_pad=False\n",
    "data.val_dl.pre_pad=False"
   ]
  },
  {
   "cell_type": "markdown",
   "metadata": {
    "hidden": true
   },
   "source": [
    "#### Verify multi-dataset"
   ]
  },
  {
   "cell_type": "code",
   "execution_count": 23,
   "metadata": {
    "ExecuteTime": {
     "end_time": "2018-11-26T16:07:40.483732Z",
     "start_time": "2018-11-26T16:07:39.090595Z"
    },
    "hidden": true
   },
   "outputs": [],
   "source": [
    "denorm = data.trn_ds.ds.denorm   # need the extra .ds when using ConcatLblDataset\n",
    "_,(y0,y1) = next(iter(data.trn_dl))"
   ]
  },
  {
   "cell_type": "code",
   "execution_count": 24,
   "metadata": {
    "ExecuteTime": {
     "end_time": "2018-11-26T16:07:41.196488Z",
     "start_time": "2018-11-26T16:07:41.146722Z"
    },
    "hidden": true
   },
   "outputs": [
    {
     "data": {
      "text/plain": [
       "['cannot', 'were', 'only', '_eos_']"
      ]
     },
     "execution_count": 24,
     "metadata": {},
     "output_type": "execute_result"
    }
   ],
   "source": [
    "chars = [itos[int(w)] for w in y0[3]]\n",
    "chars"
   ]
  },
  {
   "cell_type": "code",
   "execution_count": 29,
   "metadata": {
    "ExecuteTime": {
     "end_time": "2018-11-26T16:08:15.925012Z",
     "start_time": "2018-11-26T16:08:15.873588Z"
    },
    "hidden": true
   },
   "outputs": [
    {
     "data": {
      "text/plain": [
       "['c',\n",
       " 'a',\n",
       " 'n',\n",
       " 'n',\n",
       " 'o',\n",
       " 't',\n",
       " ' ',\n",
       " 'w',\n",
       " 'e',\n",
       " 'r',\n",
       " 'e',\n",
       " ' ',\n",
       " 'o',\n",
       " 'n',\n",
       " 'l',\n",
       " 'y',\n",
       " '_eos_',\n",
       " '_pad_',\n",
       " '_pad_',\n",
       " '_pad_',\n",
       " '_pad_',\n",
       " '_pad_',\n",
       " '_pad_',\n",
       " '_pad_',\n",
       " '_pad_',\n",
       " '_pad_',\n",
       " '_pad_',\n",
       " '_pad_',\n",
       " '_pad_',\n",
       " '_pad_',\n",
       " '_pad_',\n",
       " '_pad_']"
      ]
     },
     "execution_count": 29,
     "metadata": {},
     "output_type": "execute_result"
    }
   ],
   "source": [
    "words = [w_itos[int(c)] for c in y1[3]]\n",
    "words"
   ]
  },
  {
   "cell_type": "markdown",
   "metadata": {
    "heading_collapsed": true
   },
   "source": [
    "# Loss and Metrics"
   ]
  },
  {
   "cell_type": "code",
   "execution_count": 13,
   "metadata": {
    "ExecuteTime": {
     "end_time": "2018-11-30T21:48:11.090182Z",
     "start_time": "2018-11-30T21:48:11.036944Z"
    },
    "hidden": true
   },
   "outputs": [],
   "source": [
    "# categorical cross entropy loss\n",
    "# list of probabilities for each word in vocab; target is correct word\n",
    "\n",
    "def seq2seq_loss(input, target):\n",
    "    target = target.permute(1,0).contiguous()\n",
    "    tsl = target.size(0)\n",
    "    sl,bs,nc = input.size()\n",
    "    \n",
    "    if sl>tsl: target = F.pad(target, (0,0,0,sl-tsl))\n",
    "    if tsl>sl: input = F.pad(input, (0,0,0,0,0,tsl-sl))\n",
    "        \n",
    "    targ = target.view(-1)\n",
    "    pred = input.view(-1, nc)\n",
    "\n",
    "    # combination of LogSoftmax and NLLLoss\n",
    "    return F.cross_entropy(pred, targ.long(), reduction='sum')/bs"
   ]
  },
  {
   "cell_type": "code",
   "execution_count": 14,
   "metadata": {
    "ExecuteTime": {
     "end_time": "2018-11-30T21:48:11.501191Z",
     "start_time": "2018-11-30T21:48:11.442086Z"
    },
    "hidden": true
   },
   "outputs": [],
   "source": [
    "import Levenshtein as Lev\n",
    "\n",
    "# pulled from Sean Nareen's deepspeech decoder module\n",
    "# https://github.com/SeanNaren/deepspeech.pytorch/blob/master/decoder.py\n",
    "\n",
    "def cer(t, p):\n",
    "    \"\"\"\n",
    "    Computes the Character Error Rate, defined as the edit distance.\n",
    "    Arguments:\n",
    "        t (string): target space-separated sentence\n",
    "        p (string): prediction space-separated sentence\n",
    "    \"\"\"\n",
    "    t, p, = t.replace(' ', ''), p.replace(' ', '')\n",
    "    return Lev.distance(t, p)/len(t)\n",
    "\n",
    "def wer(s1, s2):\n",
    "    \"\"\"\n",
    "    Computes the Word Error Rate, defined as the edit distance between the\n",
    "    two provided sentences after tokenizing to words.\n",
    "    Arguments:\n",
    "        s1 (string): space-separated sentence\n",
    "        s2 (string): space-separated sentence\n",
    "    \"\"\"\n",
    "\n",
    "    # build mapping of words to integers\n",
    "    b = set(s1.split() + s2.split())\n",
    "    word2char = dict(zip(b, range(len(b))))\n",
    "\n",
    "    # map the words to a char array (Levenshtein packages only accepts\n",
    "    # strings)\n",
    "    w1 = [chr(word2char[w]) for w in s1.split()]\n",
    "    w2 = [chr(word2char[w]) for w in s2.split()]\n",
    "\n",
    "    return Lev.distance(''.join(w1), ''.join(w2))"
   ]
  },
  {
   "cell_type": "code",
   "execution_count": 15,
   "metadata": {
    "ExecuteTime": {
     "end_time": "2018-11-30T21:48:11.829815Z",
     "start_time": "2018-11-30T21:48:11.774316Z"
    },
    "hidden": true
   },
   "outputs": [],
   "source": [
    "def error_label(pred):\n",
    "    ints = to_np(pred).astype(int)\n",
    "    ints = ints[np.nonzero(ints)]\n",
    "    return ''.join([itos[i] for i in ints])\n",
    "\n",
    "def char_error_rate(preds, targs):\n",
    "    bs,sl = targs.size()      #=> ([bs, sl])\n",
    "    # preds.size()            #=> ([sl, bs, vs])\n",
    "        \n",
    "    res = torch.argmax(preds, dim=2)\n",
    "    error = 0\n",
    "    for i in range(bs):\n",
    "        p = error_label(res[:,i])\n",
    "        t = error_label(targs[i])\n",
    "        error += cer(t,p)\n",
    "    return error/bs"
   ]
  },
  {
   "cell_type": "code",
   "execution_count": 34,
   "metadata": {
    "ExecuteTime": {
     "end_time": "2018-11-26T16:09:55.621657Z",
     "start_time": "2018-11-26T16:09:55.571288Z"
    },
    "hidden": true
   },
   "outputs": [],
   "source": [
    "def combo_error(preds, targs):\n",
    "    word = char_error_rate(preds[0],targs[0])\n",
    "    char = char_error_rate(preds[0],targs[1])\n",
    "    return word, char"
   ]
  },
  {
   "cell_type": "code",
   "execution_count": 14,
   "metadata": {
    "ExecuteTime": {
     "end_time": "2018-11-27T19:46:28.350843Z",
     "start_time": "2018-11-27T19:46:28.296478Z"
    },
    "hidden": true
   },
   "outputs": [],
   "source": [
    "def combo_loss(input, target):\n",
    "    word_loss = seq2seq_loss(input[0], target[0])\n",
    "    char_loss = seq2seq_loss(input[0], target[1])\n",
    "    return word_loss + char_loss"
   ]
  },
  {
   "cell_type": "markdown",
   "metadata": {
    "heading_collapsed": true
   },
   "source": [
    "# Arch"
   ]
  },
  {
   "cell_type": "code",
   "execution_count": 116,
   "metadata": {
    "ExecuteTime": {
     "end_time": "2018-11-21T19:18:10.596237Z",
     "start_time": "2018-11-21T19:18:10.540838Z"
    },
    "hidden": true
   },
   "outputs": [],
   "source": [
    "class Encoder(nn.Module):\n",
    "    def __init__(self, embed_size, drop=0.4):\n",
    "        super().__init__()\n",
    "        \n",
    "        slices = {128: -4, 256: -3, 512: -2}\n",
    "        s = slices[embed_size]\n",
    "        \n",
    "        net = f(True)\n",
    "        modules = list(net.children())[:s]    #(8,8,256)  sz: 128\n",
    "        self.base = nn.Sequential(*modules)\n",
    "        \n",
    "        #mlp\n",
    "        self.drop = nn.Dropout(drop)\n",
    "        self.linear1 = nn.Linear(embed_size, embed_size)\n",
    "        self.linear2 = nn.Linear(embed_size, embed_size)\n",
    "        \n",
    "    def forward(self, inp):\n",
    "        bs,nf,h,w = inp.size()\n",
    "        \n",
    "        features = self.base(inp)\n",
    "        features = features.flatten(2, 3).permute(2, 0, 1)\n",
    "        \n",
    "        # initial hidden is an average of features fed through an MLP\n",
    "        h = self.drop(features)\n",
    "        h = self.linear2(F.relu(self.linear1(h))).mean(0)\n",
    "                        \n",
    "        return features, h"
   ]
  },
  {
   "cell_type": "code",
   "execution_count": 117,
   "metadata": {
    "ExecuteTime": {
     "end_time": "2018-11-21T19:18:11.804127Z",
     "start_time": "2018-11-21T19:18:11.749027Z"
    },
    "hidden": true
   },
   "outputs": [],
   "source": [
    "def rand_t(*sz): return torch.randn(sz)/math.sqrt(sz[0])\n",
    "def rand_p(*sz): return nn.Parameter(rand_t(*sz))\n",
    "\n",
    "class Attention(nn.Module):\n",
    "    def __init__(self, embed_size, drop=0.1):\n",
    "        super().__init__()\n",
    "\n",
    "        self.attn_1 = nn.Linear(embed_size, embed_size)\n",
    "        self.attn_2 = nn.Linear(embed_size, embed_size)\n",
    "        self.drop   = nn.Dropout(drop)\n",
    "        self.attn_v = rand_p(embed_size)\n",
    "        \n",
    "    def forward(self, hidden, feats):\n",
    "        # this is called once for each timestep\n",
    "        w1e = self.attn_1(feats)                    # ([64, 30, 256])\n",
    "        w2h = self.attn_2(hidden)                   # ([30, 256])\n",
    "        u = torch.tanh(w1e + w2h)                   # ([64, 30, 256])\n",
    "        u = self.drop(u)\n",
    "        a = torch.softmax(u @ self.attn_v, 0)       # ([64, 30]) - attention mask\n",
    "        context = (a.unsqueeze(2) * feats).sum(0)   # ([30, 256]) - weighted sum of features w/ attention\n",
    "        \n",
    "        return context, a"
   ]
  },
  {
   "cell_type": "code",
   "execution_count": 118,
   "metadata": {
    "ExecuteTime": {
     "end_time": "2018-11-21T19:18:18.127333Z",
     "start_time": "2018-11-21T19:18:18.074035Z"
    },
    "hidden": true
   },
   "outputs": [],
   "source": [
    "class RNNDecoder(nn.Module):\n",
    "    def __init__(self, embed_size, num_layers, drop=0.3):\n",
    "        super().__init__()\n",
    "        \n",
    "        self.num_layers = num_layers\n",
    "        self.rnn = nn.GRU(embed_size, embed_size, num_layers)\n",
    "        if self.num_layers > 1: self.rnn.dropout = drop\n",
    "\n",
    "    def forward(self, hidden, context):\n",
    "        _, h = self.rnn(context.unsqueeze(0), hidden.expand(self.num_layers, -1, -1).contiguous())\n",
    "        \n",
    "        return h[-1]"
   ]
  },
  {
   "cell_type": "code",
   "execution_count": 119,
   "metadata": {
    "ExecuteTime": {
     "end_time": "2018-11-21T19:18:22.365977Z",
     "start_time": "2018-11-21T19:18:22.311581Z"
    },
    "hidden": true
   },
   "outputs": [],
   "source": [
    "class DeepOutputLayer(nn.Module):\n",
    "    def __init__(self, embed_size, vocab_size, drop=0.3):\n",
    "        super().__init__()\n",
    "        \n",
    "        self.w0 = nn.Linear(embed_size, embed_size)\n",
    "        self.w1 = nn.Linear(embed_size, embed_size)\n",
    "        self.w2 = nn.Linear(embed_size, embed_size)\n",
    "        self.w3 = nn.Linear(embed_size*3, vocab_size)\n",
    "        self.drop = nn.Dropout(drop)\n",
    "        \n",
    "    def forward(self, prev, hidden, context):\n",
    "        # this is called once for each timestep\n",
    "        #(30,256)\n",
    "        a = self.w0(prev)\n",
    "        b = self.w1(hidden)\n",
    "        c = self.w2(context)\n",
    "        out = torch.cat([a,b,c], 1)\n",
    "        \n",
    "        return self.w3(self.drop(out))"
   ]
  },
  {
   "cell_type": "code",
   "execution_count": 43,
   "metadata": {
    "ExecuteTime": {
     "end_time": "2018-11-21T16:56:05.790412Z",
     "start_time": "2018-11-21T16:56:05.765769Z"
    },
    "hidden": true
   },
   "outputs": [],
   "source": [
    "class Net(nn.Module):\n",
    "    def __init__(self, hidden_size, vocab_size, seq_len, n_layers=1, drop=0.2):\n",
    "        super(Net, self).__init__()\n",
    "        self.seq_len = seq_len\n",
    "        \n",
    "        self.encoder = Encoder(hidden_size)\n",
    "        self.attention = Attention(hidden_size)\n",
    "        self.decoder = RNNDecoder(hidden_size, n_layers)\n",
    "        \n",
    "        self.embed   = nn.Embedding(vocab_size, hidden_size)\n",
    "        self.drop    = nn.Dropout(drop)\n",
    "        self.embed.weight.data.uniform_(-0.1, 0.1)\n",
    "\n",
    "        self.output  = DeepOutputLayer(hidden_size, vocab_size)\n",
    "        \n",
    "    def forward(self, x, ret_attn=False):\n",
    "        bs = x.size(0)\n",
    "        feats, hidden = self.encoder(x)\n",
    "        \n",
    "        res,attns = [],[]\n",
    "        dec_inp = torch.ones(bs, device=device).long()\n",
    "        \n",
    "        for i in range(self.seq_len):\n",
    "            prev = self.drop(self.embed(dec_inp))\n",
    "            \n",
    "            context, a = self.attention(hidden, feats)\n",
    "            hidden = self.decoder(hidden, context)\n",
    "            out = self.output(prev, hidden, context)\n",
    "            \n",
    "            res.append(out)\n",
    "            attns.append(a)\n",
    "            dec_inp = out.data.max(1)[1]\n",
    "            \n",
    "        res = torch.stack(res)\n",
    "        if ret_attn: res = res,torch.stack(attns)\n",
    "        return res"
   ]
  },
  {
   "cell_type": "code",
   "execution_count": 44,
   "metadata": {
    "ExecuteTime": {
     "end_time": "2018-11-21T16:56:10.866254Z",
     "start_time": "2018-11-21T16:56:09.885001Z"
    },
    "hidden": true
   },
   "outputs": [],
   "source": [
    "opt_fn = partial(optim.Adam, betas=(0.7, 0.99))\n",
    "rnn = Net(256, len(itos), 5, 1)\n",
    "learn = RNN_Learner(data, SingleModel(to_gpu(rnn)), opt_fn=opt_fn)\n",
    "learn.clip = 0.25\n",
    "learn.crit = seq2seq_loss\n",
    "learn.metrics = [char_error_rate]"
   ]
  },
  {
   "cell_type": "markdown",
   "metadata": {
    "heading_collapsed": true
   },
   "source": [
    "# Word / Char Combo Arch"
   ]
  },
  {
   "cell_type": "code",
   "execution_count": 17,
   "metadata": {
    "ExecuteTime": {
     "end_time": "2018-11-27T19:46:36.384562Z",
     "start_time": "2018-11-27T19:46:36.332446Z"
    },
    "hidden": true
   },
   "outputs": [],
   "source": [
    "class Encoder(nn.Module):\n",
    "    def __init__(self, embed_size, drop=0.4):\n",
    "        super().__init__()\n",
    "        \n",
    "        slices = {128: 6, 256: 7, 512: 8}\n",
    "        s = slices[embed_size]\n",
    "        \n",
    "        base  = ConvnetBuilder(f, 1, 0, True, xtra_fc=[embed_size]).model\n",
    "        self.features = base[:s]\n",
    "        self.hidden   = base[s:13]\n",
    "        self.num_ws   = base[13:]\n",
    "                        \n",
    "    def forward(self, inp):\n",
    "        bs,nf,h,w = inp.size()\n",
    "        \n",
    "        features = self.features(inp)\n",
    "        hidden   = self.hidden(features)\n",
    "        num_ws   = self.num_ws(hidden)\n",
    "        num_ws   = int(torch.max(num_ws).item())\n",
    "                                \n",
    "        return num_ws, features, hidden"
   ]
  },
  {
   "cell_type": "code",
   "execution_count": 18,
   "metadata": {
    "ExecuteTime": {
     "end_time": "2018-11-27T19:46:39.199194Z",
     "start_time": "2018-11-27T19:46:39.146826Z"
    },
    "hidden": true
   },
   "outputs": [],
   "source": [
    "def rand_t(*sz): return torch.randn(sz)/math.sqrt(sz[0])\n",
    "def rand_p(*sz): return nn.Parameter(rand_t(*sz))\n",
    "\n",
    "class Attention(nn.Module):\n",
    "    def __init__(self, embed_size, drop=0.1):\n",
    "        super().__init__()\n",
    "\n",
    "        self.attn_1 = nn.Linear(embed_size, embed_size)\n",
    "        self.attn_2 = nn.Linear(embed_size, embed_size)\n",
    "        self.drop   = nn.Dropout(drop)\n",
    "        self.attn_v = rand_p(embed_size)\n",
    "        \n",
    "    def forward(self, hidden, feats):\n",
    "        w1e = self.attn_1(feats)                    # ([64, bs, 256])\n",
    "        w2h = self.attn_2(hidden)                   # ([bs, 256])\n",
    "        u = self.drop(torch.tanh(w1e + w2h))        # ([64, bs, 256])\n",
    "        a = torch.softmax(u @ self.attn_v, 0)       # ([64, bs]) - attention mask\n",
    "        context = (a.unsqueeze(2) * feats).sum(0)   # ([bs, 256]) - weighted sum of features w/ attention\n",
    "        \n",
    "        return context, a"
   ]
  },
  {
   "cell_type": "code",
   "execution_count": 19,
   "metadata": {
    "ExecuteTime": {
     "end_time": "2018-11-27T19:46:40.285523Z",
     "start_time": "2018-11-27T19:46:40.234783Z"
    },
    "hidden": true
   },
   "outputs": [],
   "source": [
    "class RNNDecoder(nn.Module):\n",
    "    def __init__(self, embed_size, num_layers, drop=0.3):\n",
    "        super().__init__()\n",
    "        \n",
    "        self.num_layers = num_layers\n",
    "        self.rnn = nn.GRU(embed_size, embed_size, num_layers)\n",
    "        if self.num_layers > 1: self.rnn.dropout = drop\n",
    "\n",
    "    def forward(self, hidden, context):\n",
    "        _, h = self.rnn(context.unsqueeze(0), hidden.expand(self.num_layers, -1, -1).contiguous())\n",
    "        \n",
    "        return h[-1]"
   ]
  },
  {
   "cell_type": "code",
   "execution_count": 20,
   "metadata": {
    "ExecuteTime": {
     "end_time": "2018-11-27T19:46:40.854477Z",
     "start_time": "2018-11-27T19:46:40.803251Z"
    },
    "hidden": true
   },
   "outputs": [],
   "source": [
    "class DeepOutputLayer(nn.Module):\n",
    "    def __init__(self, embed_size, vocab_size, drop=0.3):\n",
    "        super().__init__()\n",
    "        \n",
    "        self.w0 = nn.Linear(embed_size, embed_size)\n",
    "        self.w1 = nn.Linear(embed_size, embed_size)\n",
    "        self.w2 = nn.Linear(embed_size, embed_size)\n",
    "        self.w3 = nn.Linear(embed_size*3, vocab_size)\n",
    "        self.drop = nn.Dropout(drop)\n",
    "        \n",
    "    def forward(self, prev, hidden, context):\n",
    "        #=> ([bs, 256])\n",
    "        a = self.w0(prev)\n",
    "        b = self.w1(hidden)\n",
    "        c = self.w2(context)\n",
    "        out = torch.cat([a,b,c], 1)\n",
    "        \n",
    "        return self.w3(self.drop(out))"
   ]
  },
  {
   "cell_type": "code",
   "execution_count": 28,
   "metadata": {
    "ExecuteTime": {
     "end_time": "2018-11-27T00:07:00.443927Z",
     "start_time": "2018-11-27T00:07:00.390459Z"
    },
    "hidden": true
   },
   "outputs": [],
   "source": [
    "class ConvBlock(nn.Module):\n",
    "    def __init__(self, ni, nh, drop=0.2, k=3):\n",
    "        super(ConvBlock, self).__init__()\n",
    "        \n",
    "        self.drop = nn.Dropout(drop)\n",
    "        self.conv = nn.Conv2d(ni, nh, k, padding=1)  #maintain size\n",
    "        self.bn   = nn.BatchNorm2d(nh)\n",
    "        \n",
    "    def forward(self, x):\n",
    "        x = self.bn(self.conv(self.drop(x)))\n",
    "        x = F.leaky_relu(x)\n",
    "        return x\n",
    "    \n",
    "    \n",
    "class WordDecoder(nn.Module):\n",
    "    def __init__(self, hidden_size, layers, vocab_size):\n",
    "        super().__init__()\n",
    "        \n",
    "        self.conv1   = ConvBlock(hidden_size, layers[0])\n",
    "        self.conv2   = ConvBlock(layers[0], layers[1])\n",
    "        self.linear  = nn.Linear(layers[1], vocab_size)\n",
    "\n",
    "    def forward(self, feats):\n",
    "        return self.linear(self.conv2(self.conv1(feats)))"
   ]
  },
  {
   "cell_type": "code",
   "execution_count": 44,
   "metadata": {
    "ExecuteTime": {
     "end_time": "2018-11-27T22:26:43.145472Z",
     "start_time": "2018-11-27T22:26:43.057472Z"
    },
    "hidden": true
   },
   "outputs": [],
   "source": [
    "class Net(nn.Module):\n",
    "    def __init__(self, hidden_size, vocab_size, seq_len, n_layers=1, drop=0.2):\n",
    "        super(Net, self).__init__()\n",
    "        self.seq_len = seq_len\n",
    "        \n",
    "        self.encoder = Encoder(hidden_size)\n",
    "        self.w_attention = Attention(hidden_size)\n",
    "        self.c_attention = Attention(hidden_size)\n",
    "        self.decoder = RNNDecoder(hidden_size, n_layers)\n",
    "        \n",
    "        self.embed   = nn.Embedding(vocab_size, hidden_size)\n",
    "        self.drop    = nn.Dropout(drop)\n",
    "        self.embed.weight.data.uniform_(-0.1, 0.1)\n",
    "\n",
    "        self.output  = DeepOutputLayer(hidden_size, vocab_size)\n",
    "        \n",
    "    def forward(self, x, ret_attn=False):\n",
    "        bs = x.size(0)\n",
    "        num_words, feats, hidden = self.encoder(x)\n",
    "        # hidden => ([bs, 256])\n",
    "        # feats  => ([bs, 256, 4, 4])\n",
    "        feats = feats.flatten(2, 3).permute(2, 0, 1)\n",
    "                \n",
    "        res,attns,w_attns = [],[],[]\n",
    "        for i in range(3):\n",
    "            w_hidden, a = self.w_attention(hidden, feats)   # using word attention context as char hidden\n",
    "            w_attns.append(a)\n",
    "                \n",
    "            dec_inp = torch.ones(bs, device=device).long()\n",
    "            for i in range(self.seq_len):\n",
    "                prev = self.drop(self.embed(dec_inp))\n",
    "\n",
    "                context, a = self.c_attention(w_hidden, feats)\n",
    "                w_hidden = self.decoder(w_hidden, context)\n",
    "                out = self.output(prev, w_hidden, context)\n",
    "\n",
    "                res.append(out)\n",
    "                attns.append(a)\n",
    "                dec_inp = out.data.max(1)[1]\n",
    "            \n",
    "        res = torch.stack(res)\n",
    "        if ret_attn: res = res,torch.stack(attns)\n",
    "        return res"
   ]
  },
  {
   "cell_type": "code",
   "execution_count": 42,
   "metadata": {
    "ExecuteTime": {
     "end_time": "2018-11-27T22:23:45.894029Z",
     "start_time": "2018-11-27T22:23:45.180244Z"
    },
    "hidden": true
   },
   "outputs": [],
   "source": [
    "opt_fn = partial(optim.Adam, betas=(0.7, 0.99))\n",
    "rnn = Net(256, len(itos), 20)\n",
    "learn = RNN_Learner(data, SingleModel(to_gpu(rnn)), opt_fn=opt_fn)\n",
    "learn.clip = 0.25\n",
    "learn.crit = seq2seq_loss\n",
    "learn.metrics = [char_error_rate]"
   ]
  },
  {
   "cell_type": "markdown",
   "metadata": {},
   "source": [
    "# Conv Seq2seq Arch"
   ]
  },
  {
   "cell_type": "code",
   "execution_count": 16,
   "metadata": {
    "ExecuteTime": {
     "end_time": "2018-11-30T21:48:17.166681Z",
     "start_time": "2018-11-30T21:48:17.109339Z"
    }
   },
   "outputs": [],
   "source": [
    "def Conv1d(in_channels, out_channels, kernel_size, dropout=0, **kwargs):\n",
    "    \"\"\"Weight-normalized Conv1d layer\"\"\"\n",
    "    m = nn.Conv1d(in_channels, out_channels, kernel_size, **kwargs)\n",
    "    std = math.sqrt((4 * (1.0 - dropout)) / (m.kernel_size[0] * in_channels))\n",
    "    nn.init.normal_(m.weight, mean=0, std=std)\n",
    "    nn.init.constant_(m.bias, 0)\n",
    "    return nn.utils.weight_norm(m, dim=2)\n",
    "\n",
    "def Linear(in_features, out_features, dropout=0):\n",
    "    \"\"\"Weight-normalized Linear layer (input: N x T x C)\"\"\"\n",
    "    m = nn.Linear(in_features, out_features)\n",
    "    nn.init.normal_(m.weight, mean=0, std=math.sqrt((1 - dropout) / in_features))\n",
    "    nn.init.constant_(m.bias, 0)\n",
    "    return nn.utils.weight_norm(m)\n",
    "\n",
    "def Embedding(num_embeddings, embedding_dim, padding_idx=0):\n",
    "    m = nn.Embedding(num_embeddings, embedding_dim, padding_idx=padding_idx)\n",
    "    nn.init.normal_(m.weight, 0, 0.1)\n",
    "    nn.init.constant_(m.weight[padding_idx], 0)\n",
    "    return m\n",
    "\n",
    "class GradMultiply(torch.autograd.Function):\n",
    "    @staticmethod\n",
    "    def forward(ctx, x, scale):\n",
    "        ctx.scale = scale\n",
    "        res = x.new(x)\n",
    "        return res\n",
    "\n",
    "    @staticmethod\n",
    "    def backward(ctx, grad):\n",
    "        return grad * ctx.scale, None"
   ]
  },
  {
   "cell_type": "code",
   "execution_count": 17,
   "metadata": {
    "ExecuteTime": {
     "end_time": "2018-11-30T21:48:17.884136Z",
     "start_time": "2018-11-30T21:48:17.829105Z"
    }
   },
   "outputs": [],
   "source": [
    "class ConvLayer(nn.Module):\n",
    "    def __init__(self, embed_size, k, drop=0.2):\n",
    "        super().__init__()\n",
    "        \n",
    "        self.drop = nn.Dropout(drop)\n",
    "        \n",
    "        padding = k // 2 if (k % 2 == 1) else 0   # maintain size w/ appropriate padding\n",
    "        self.conv1 = Conv1d(embed_size, embed_size*2, k, dropout=drop, padding=padding)\n",
    "        self.conv2 = Conv1d(embed_size, embed_size*2, k, dropout=drop, padding=padding)\n",
    "        \n",
    "        self.bn1   = nn.BatchNorm1d(embed_size)\n",
    "        self.bn2   = nn.BatchNorm1d(embed_size)\n",
    "\n",
    "    def forward(self, x):\n",
    "        residual = x\n",
    "        x = self.drop(x)\n",
    "        x = F.glu( self.bn1( self.conv1(x) ), dim=1 )\n",
    "        x = F.glu( self.bn2( self.conv2(x) ), dim=1 )\n",
    "        x = (x + residual) * math.sqrt(0.5)\n",
    "\n",
    "        return x"
   ]
  },
  {
   "cell_type": "code",
   "execution_count": 39,
   "metadata": {
    "ExecuteTime": {
     "end_time": "2018-11-30T22:10:12.745389Z",
     "start_time": "2018-11-30T22:10:12.691571Z"
    }
   },
   "outputs": [],
   "source": [
    "class ConvLayer(nn.Module):\n",
    "    def __init__(self, embed_size, k, drop=0.2):\n",
    "        super().__init__()\n",
    "        \n",
    "        self.drop = nn.Dropout(drop)\n",
    "        padding = k // 2 if (k % 2 == 1) else 0   # maintain size w/ appropriate padding\n",
    "        self.conv = Conv1d(embed_size, embed_size*2, k, dropout=drop, padding=padding)\n",
    "\n",
    "    def forward(self, x):\n",
    "        x = F.glu(self.conv(self.drop(x)), dim=1)\n",
    "        return x"
   ]
  },
  {
   "cell_type": "code",
   "execution_count": 40,
   "metadata": {
    "ExecuteTime": {
     "end_time": "2018-11-30T22:10:19.704577Z",
     "start_time": "2018-11-30T22:10:19.650439Z"
    }
   },
   "outputs": [],
   "source": [
    "class InputEmbedding(nn.Module):\n",
    "    def __init__(self, embed_size, drop=0.2):\n",
    "        super().__init__()\n",
    "        \n",
    "        slices = {128: -4, 256: -3, 512: -2}\n",
    "        s = slices[embed_size]\n",
    "        \n",
    "        net = f(True)\n",
    "        modules = list(net.children())[:s]    #(8,8,256)  sz: 128\n",
    "        self.base = nn.Sequential(*modules)\n",
    "        \n",
    "        self.drop = nn.Dropout(drop)\n",
    "        \n",
    "    def forward(self, x):\n",
    "        x = self.drop(self.base(x).flatten(2, 3))\n",
    "        return x"
   ]
  },
  {
   "cell_type": "code",
   "execution_count": 47,
   "metadata": {
    "ExecuteTime": {
     "end_time": "2018-11-30T22:34:55.053913Z",
     "start_time": "2018-11-30T22:34:54.998818Z"
    }
   },
   "outputs": [],
   "source": [
    "class Encoder(nn.Module):\n",
    "    def __init__(self, embed_size, num_layers, num_dec_layers, drop=0.2):\n",
    "        super().__init__()\n",
    "        \n",
    "        self.num_dec_layers = num_dec_layers\n",
    "        \n",
    "        self.convs = nn.ModuleList()\n",
    "        for l in range(num_layers):\n",
    "            self.convs.append(ConvLayer(embed_size,3,drop))\n",
    "        \n",
    "    def forward(self, input_embedding):\n",
    "        x = input_embedding\n",
    "        \n",
    "        for conv in self.convs:\n",
    "            residual = x\n",
    "            x = conv(x)\n",
    "            x = (x + residual) * math.sqrt(0.5)\n",
    "            \n",
    "        # scale gradients (this only affects backward, not forward)\n",
    "        x = GradMultiply.apply(x, 1.0 / (2.0 * self.num_dec_layers))\n",
    "        \n",
    "        # add final output to input embedding for attention\n",
    "        y = (x + input_embedding) * math.sqrt(0.5)\n",
    "        \n",
    "        return (x,y)   #=> (([bs, em_sz, 16]), ([bs, em_sz, 16]))"
   ]
  },
  {
   "cell_type": "code",
   "execution_count": 48,
   "metadata": {
    "ExecuteTime": {
     "end_time": "2018-11-30T22:34:56.062764Z",
     "start_time": "2018-11-30T22:34:56.006790Z"
    }
   },
   "outputs": [],
   "source": [
    "class ConvAttention(nn.Module):\n",
    "    def __init__(self):\n",
    "        super().__init__()\n",
    "                \n",
    "    def forward(self, x, target_embedding, encoder_out):\n",
    "        residual = x\n",
    "                \n",
    "        x = (x + target_embedding) * math.sqrt(0.5)\n",
    "        x = torch.bmm(x.permute(0, 2, 1), encoder_out[0])\n",
    "\n",
    "        # softmax over last dim\n",
    "        x = F.softmax(x, dim=-1)                            #=> ([bs, targ_len, src_len])\n",
    "        attn_scores = x\n",
    "\n",
    "        x = torch.bmm(x, encoder_out[1].permute(0, 2, 1))   #=> ([bs, targ_len, em_sz])\n",
    "\n",
    "        # scale attention output by src_len (respecting potentially different lengths)\n",
    "        s = encoder_out[1].size(-1)\n",
    "        x = x * (s * math.sqrt(1.0 / s))\n",
    "        \n",
    "        x = x.permute(0, 2, 1)\n",
    "\n",
    "        x = (x + residual) * math.sqrt(0.5)\n",
    "        return x, attn_scores"
   ]
  },
  {
   "cell_type": "code",
   "execution_count": 49,
   "metadata": {
    "ExecuteTime": {
     "end_time": "2018-11-30T22:34:56.433018Z",
     "start_time": "2018-11-30T22:34:56.378267Z"
    }
   },
   "outputs": [],
   "source": [
    "class Decoder(nn.Module):\n",
    "    def __init__(self, embed_size, num_layers, vocab_size, drop=0.2):\n",
    "        super().__init__()\n",
    "        \n",
    "#         self.embed = Embedding(vocab_size, embed_size)\n",
    "\n",
    "        self.convs = nn.ModuleList()\n",
    "        self.attentions = nn.ModuleList()\n",
    "        \n",
    "        for l in range(num_layers):\n",
    "            self.convs.append(ConvLayer(embed_size,3,drop))\n",
    "            self.attentions.append(ConvAttention())\n",
    "        \n",
    "    def forward(self, target_embedding, encoder_out):\n",
    "#         target_embedding = self.embed(target.long())        # convert floats => idxs   ([bs, 32, em_sz])\n",
    "#         target_embedding = target_embedding.permute(0,2,1)  # match encoder out shapes ([bs, em_sz, 32])\n",
    "        x = target_embedding\n",
    "        \n",
    "        attn_scores = None\n",
    "        for conv,attention in zip(self.convs, self.attentions):\n",
    "            residual = x\n",
    "            x = conv(x)            \n",
    "            x, attn_scores = attention(x, target_embedding, encoder_out)\n",
    "            x = (x + residual) * math.sqrt(0.5)  # this must be before attn for training to progress\n",
    "\n",
    "        return x, attn_scores"
   ]
  },
  {
   "cell_type": "code",
   "execution_count": 57,
   "metadata": {
    "ExecuteTime": {
     "end_time": "2018-11-30T22:38:04.436838Z",
     "start_time": "2018-11-30T22:38:04.379978Z"
    }
   },
   "outputs": [],
   "source": [
    "class Net(nn.Module):\n",
    "    def __init__(self, embed_size, vocab_size, seq_len, enc_layers=3, dec_layers=3, drop=0.2):\n",
    "        super(Net, self).__init__()\n",
    "        self.seq_len = seq_len\n",
    "        \n",
    "        self.features = InputEmbedding(embed_size)\n",
    "        self.linear   = Linear(sz//4, seq_len)\n",
    "        \n",
    "        self.encoder = Encoder(embed_size, enc_layers, dec_layers)\n",
    "        self.decoder = Decoder(embed_size, dec_layers, vocab_size)\n",
    "\n",
    "        #mlp\n",
    "        self.drop = nn.Dropout(drop)\n",
    "        self.linear1 = Linear(embed_size, embed_size//2)\n",
    "        self.linear2 = Linear(embed_size//2, vocab_size)\n",
    "        \n",
    "    def forward(self, x, targets=None, ret_attn=False):\n",
    "        bs = x.size(0)\n",
    "        feats = self.features(x)\n",
    "\n",
    "        x = self.encoder(feats)       #=> ([bs, em_sz, 16])\n",
    "        targets = self.linear(feats)\n",
    "        \n",
    "#         targets = torch.ones((bs, self.seq_len), device=device) if targets is None else targets\n",
    "        x, a = self.decoder(targets, x)     #=> ([120, 256, 31]), ([120, 31, 16])\n",
    "        \n",
    "        x = self.linear2(F.relu(self.drop(self.linear1( x.permute(0,2,1) ))))  #=> (bs, sl, vocab)\n",
    "\n",
    "        # loss expects sl,bs,vocab\n",
    "        x = x.permute(1,0,2).contiguous()\n",
    "        return x,a if ret_attn else x"
   ]
  },
  {
   "cell_type": "code",
   "execution_count": 58,
   "metadata": {
    "ExecuteTime": {
     "end_time": "2018-11-30T22:38:06.807775Z",
     "start_time": "2018-11-30T22:38:06.115698Z"
    }
   },
   "outputs": [],
   "source": [
    "opt_fn = partial(optim.Adam, betas=(0.7, 0.99))\n",
    "rnn = Net(256, len(itos), 45)\n",
    "learn = RNN_Learner(data, SingleModel(to_gpu(rnn)), opt_fn=opt_fn)\n",
    "learn.clip = 0.25\n",
    "learn.crit = seq2seq_loss\n",
    "learn.metrics = [char_error_rate]"
   ]
  },
  {
   "cell_type": "markdown",
   "metadata": {},
   "source": [
    "### Testing"
   ]
  },
  {
   "cell_type": "code",
   "execution_count": 25,
   "metadata": {
    "ExecuteTime": {
     "end_time": "2018-11-30T21:48:56.967870Z",
     "start_time": "2018-11-30T21:48:56.911951Z"
    }
   },
   "outputs": [],
   "source": [
    "class Seq2SeqStepper(Stepper):\n",
    "    def step(self, xs, y, epoch):\n",
    "        self.m.pr_force = (10-epoch)*0.1 if epoch<10 else 0\n",
    "        xtra = []\n",
    "        output = self.m(*xs, y)\n",
    "        if isinstance(output,tuple): output,*xtra = output\n",
    "        self.opt.zero_grad()\n",
    "        loss = raw_loss = self.crit(output, y)\n",
    "        if self.reg_fn: loss = self.reg_fn(output, xtra, raw_loss)\n",
    "        loss.backward()\n",
    "        if self.clip:   # Gradient clipping\n",
    "            nn.utils.clip_grad_norm_(trainable_params_(self.m), self.clip)\n",
    "        self.opt.step()\n",
    "        return raw_loss.item()\n",
    "    \n",
    "    def evaluate(self, xs, y):\n",
    "        preds = self.m(*xs, y)\n",
    "        if isinstance(preds,tuple): preds=preds[0]\n",
    "        return preds, self.crit(preds, y)"
   ]
  },
  {
   "cell_type": "code",
   "execution_count": 61,
   "metadata": {
    "ExecuteTime": {
     "end_time": "2018-11-30T22:50:34.016396Z",
     "start_time": "2018-11-30T22:44:33.589702Z"
    },
    "scrolled": true
   },
   "outputs": [
    {
     "data": {
      "application/vnd.jupyter.widget-view+json": {
       "model_id": "f2eb0f4519c04b3eaf8b8a682cd41cb9",
       "version_major": 2,
       "version_minor": 0
      },
      "text/plain": [
       "HBox(children=(IntProgress(value=0, description='Epoch', max=1), HTML(value='')))"
      ]
     },
     "metadata": {},
     "output_type": "display_data"
    },
    {
     "name": "stdout",
     "output_type": "stream",
     "text": [
      "epoch      trn_loss   val_loss   char_error_rate           \n",
      "    0      74.114255  70.317195  0.831636  \n",
      "\n"
     ]
    },
    {
     "data": {
      "text/plain": [
       "[70.31719501201923, 0.8316356056493109]"
      ]
     },
     "execution_count": 61,
     "metadata": {},
     "output_type": "execute_result"
    }
   ],
   "source": [
    "lr = 1e-3\n",
    "learn.fit(lr, 1, cycle_len=1)\n",
    "\n",
    "# 56.095193  16.375653  0.237745\n",
    "# 10.733852  6.407018   0.095873\n",
    "\n",
    "# 53.234554  14.673208  0.158353   no residual w/in conv layer, residual prior to attn in decoder\n",
    "# 79.411642  13.500457  0.143145   residual w/in conv layer, residual prior to attn in decoder\n",
    "# 62.295315  10.11587   0.079368   residual w/in conv layer, residual after attn in decoder\n",
    "# 45.677287  10.837221  0.08989    no residual w/in conv layer, residual after attn in decoder\n",
    "\n",
    "# 115.-----  73.------  0.85----\n",
    "# 74.114255  70.317195  0.831636"
   ]
  },
  {
   "cell_type": "code",
   "execution_count": 60,
   "metadata": {
    "ExecuteTime": {
     "end_time": "2018-11-30T22:44:24.425803Z",
     "start_time": "2018-11-30T22:44:24.326096Z"
    }
   },
   "outputs": [],
   "source": [
    "learn.save('conv_experiment')"
   ]
  },
  {
   "cell_type": "markdown",
   "metadata": {
    "heading_collapsed": true
   },
   "source": [
    "# Arch modifications - annotated transformer, im2latex"
   ]
  },
  {
   "cell_type": "code",
   "execution_count": 41,
   "metadata": {
    "ExecuteTime": {
     "end_time": "2018-11-15T00:01:16.293579Z",
     "start_time": "2018-11-15T00:01:16.261505Z"
    },
    "hidden": true
   },
   "outputs": [],
   "source": [
    "class Encoder(nn.Module):\n",
    "    def __init__(self, embed_size, drop=0.2):\n",
    "        super().__init__()\n",
    "        \n",
    "        slices = {128: -4, 256: -3, 512: -2}\n",
    "        s = slices[embed_size]\n",
    "        \n",
    "        net = f(True)\n",
    "        modules = list(net.children())[:s]    #(8,8,256)  sz: 128\n",
    "        self.base = nn.Sequential(*modules)\n",
    "        \n",
    "        #pos_enc\n",
    "        self.pos_enc = PositionalEncoding(embed_size, drop)\n",
    "        \n",
    "        #mlp\n",
    "        self.linear1 = nn.Linear(embed_size, embed_size)\n",
    "        self.linear2 = nn.Linear(embed_size, embed_size)\n",
    "        self.drop = nn.Dropout(drop)\n",
    "        \n",
    "    def forward(self, inp):\n",
    "        bs,nf,h,w = inp.size()\n",
    "        \n",
    "        features = self.base(inp)\n",
    "        features = features.flatten(2, 3).permute(2, 0, 1)\n",
    "        features = self.pos_enc(features)\n",
    "        \n",
    "        # initial hidden is an average of features fed through an MLP\n",
    "        h = F.leaky_relu(self.linear1(features.mean(0)))\n",
    "        h = self.linear2(self.drop(h))\n",
    "        \n",
    "        # mean of features run through linear layer\n",
    "#         h = torch.tanh(self.linear1(h.mean(0)))\n",
    "                        \n",
    "        return features, h"
   ]
  },
  {
   "cell_type": "code",
   "execution_count": 40,
   "metadata": {
    "ExecuteTime": {
     "end_time": "2018-11-15T00:01:12.954383Z",
     "start_time": "2018-11-15T00:01:12.926982Z"
    },
    "hidden": true
   },
   "outputs": [],
   "source": [
    "class PositionalEncoding(nn.Module):\n",
    "    \"Implement the PE function.\"\n",
    "    def __init__(self, embed_size, dropout, max_len=500):\n",
    "        super(PositionalEncoding, self).__init__()\n",
    "        self.dropout = nn.Dropout(p=dropout)\n",
    "        \n",
    "        # Compute the positional encodings once in log space.\n",
    "        pe = torch.zeros(max_len, embed_size)\n",
    "        position = torch.arange(0.0, max_len).unsqueeze(1)\n",
    "        div_term = torch.exp(torch.arange(0.0, embed_size, 2) * -(math.log(10000.0) / embed_size))\n",
    "        pe[:, 0::2] = torch.sin(position * div_term)\n",
    "        pe[:, 1::2] = torch.cos(position * div_term)\n",
    "        pe = pe.unsqueeze(1)\n",
    "        self.register_buffer('pe', pe)\n",
    "        \n",
    "    def forward(self, x):\n",
    "        x = x + Variable(self.pe[:x.size(0)], requires_grad=False)    # ([sl, 1, 256])\n",
    "        return self.dropout(x)"
   ]
  },
  {
   "cell_type": "code",
   "execution_count": 21,
   "metadata": {
    "ExecuteTime": {
     "end_time": "2018-11-14T23:31:25.253265Z",
     "start_time": "2018-11-14T23:31:25.225424Z"
    },
    "hidden": true
   },
   "outputs": [],
   "source": [
    "def rand_t(*sz): return torch.randn(sz)/math.sqrt(sz[0])\n",
    "def rand_p(*sz): return nn.Parameter(rand_t(*sz))\n",
    "\n",
    "class Attention(nn.Module):\n",
    "    def __init__(self, embed_size, drop=0.1):\n",
    "        super().__init__()\n",
    "\n",
    "        self.attn_1 = nn.Linear(embed_size, embed_size)\n",
    "        self.attn_2 = nn.Linear(embed_size, embed_size)\n",
    "        self.drop   = nn.Dropout(drop)\n",
    "        self.attn_v = rand_p(embed_size)\n",
    "        \n",
    "    def forward(self, hidden, feats):\n",
    "        w1e = self.attn_1(feats)                    # ([64, 30, 256])\n",
    "        w2h = self.attn_2(hidden)                   # ([30, 256])\n",
    "        u = torch.tanh(w1e + w2h)                   # ([64, 30, 256])\n",
    "        u = self.drop(u)\n",
    "        a = torch.softmax(u @ self.attn_v, 0)       # ([64, 30]) - attention mask\n",
    "        context = (a.unsqueeze(2) * feats).sum(0)   # ([30, 256]) - weighted sum of features w/ attention\n",
    "        \n",
    "        return context, a"
   ]
  },
  {
   "cell_type": "code",
   "execution_count": 22,
   "metadata": {
    "ExecuteTime": {
     "end_time": "2018-11-14T23:31:26.107112Z",
     "start_time": "2018-11-14T23:31:26.080447Z"
    },
    "hidden": true
   },
   "outputs": [],
   "source": [
    "class RNNDecoder(nn.Module):\n",
    "    def __init__(self, embed_size, num_layers, drop=0.3):\n",
    "        super().__init__()\n",
    "        \n",
    "        self.num_layers = num_layers\n",
    "        self.rnn = nn.GRU(embed_size, embed_size, num_layers)\n",
    "        if self.num_layers > 1: self.rnn.dropout = drop\n",
    "\n",
    "    def forward(self, hidden, context):\n",
    "        _, h = self.rnn(context.unsqueeze(0), hidden.expand(self.num_layers, -1, -1).contiguous())\n",
    "        \n",
    "        return h[-1]"
   ]
  },
  {
   "cell_type": "code",
   "execution_count": 23,
   "metadata": {
    "ExecuteTime": {
     "end_time": "2018-11-14T23:31:27.115974Z",
     "start_time": "2018-11-14T23:31:27.088304Z"
    },
    "hidden": true
   },
   "outputs": [],
   "source": [
    "class DeepOutputLayer(nn.Module):\n",
    "    def __init__(self, embed_size, vocab_size, drop=0.3):\n",
    "        super().__init__()\n",
    "        \n",
    "        self.l1 = nn.Linear(embed_size*3, embed_size)\n",
    "        self.l2 = nn.Linear(embed_size, vocab_size)\n",
    "#         self.w0 = nn.Linear(embed_size, embed_size)\n",
    "#         self.w1 = nn.Linear(embed_size, embed_size)\n",
    "#         self.w2 = nn.Linear(embed_size, embed_size)\n",
    "#         self.w3 = nn.Linear(embed_size*3, vocab_size)\n",
    "        self.drop = nn.Dropout(drop)\n",
    "        \n",
    "    def forward(self, prev, hidden, context):\n",
    "        # this is called once for each timestep\n",
    "        #(30,256)\n",
    "#         a = self.w0(prev)\n",
    "#         b = self.w1(hidden)\n",
    "#         c = self.w2(context)\n",
    "#         out = torch.cat([a,b,c], 1)\n",
    "#         out = self.w3(self.drop(out))\n",
    "        out = self.l1(torch.cat([prev,hidden,context], -1))\n",
    "        out = self.l2(self.drop(F.leaky_relu(out)))\n",
    "        return out"
   ]
  },
  {
   "cell_type": "code",
   "execution_count": 24,
   "metadata": {
    "ExecuteTime": {
     "end_time": "2018-11-14T23:31:28.230369Z",
     "start_time": "2018-11-14T23:31:28.203828Z"
    },
    "hidden": true
   },
   "outputs": [],
   "source": [
    "class Embedding(nn.Module):\n",
    "    def __init__(self, vocab, d_model, drop=0.2):\n",
    "        super(Embedding, self).__init__()\n",
    "        self.lut = nn.Embedding(vocab, d_model)\n",
    "        self.d_model = d_model\n",
    "        self.drop = nn.Dropout(drop)\n",
    "\n",
    "    def forward(self, x):\n",
    "        emb = self.lut(x) * math.sqrt(self.d_model)\n",
    "        return self.drop(emb)"
   ]
  },
  {
   "cell_type": "code",
   "execution_count": 42,
   "metadata": {
    "ExecuteTime": {
     "end_time": "2018-11-15T00:01:25.142018Z",
     "start_time": "2018-11-15T00:01:25.113978Z"
    },
    "hidden": true
   },
   "outputs": [],
   "source": [
    "class Net(nn.Module):\n",
    "    def __init__(self, hidden_size, vocab_size, seq_len, n_layers=1):\n",
    "        super(Net, self).__init__()\n",
    "        self.seq_len = seq_len\n",
    "        \n",
    "        self.encoder = Encoder(hidden_size)\n",
    "        self.attn    = Attention(hidden_size)\n",
    "        self.decoder = RNNDecoder(hidden_size, n_layers)\n",
    "        self.embed   = Embedding(vocab_size, hidden_size)\n",
    "        self.output  = DeepOutputLayer(hidden_size, vocab_size)\n",
    "        \n",
    "    def forward(self, x, ret_attn=False):\n",
    "        bs = x.size(0)\n",
    "        feats, hidden = self.encoder(x)\n",
    "        \n",
    "        res,attns = [],[]\n",
    "        dec_inp = torch.ones(bs, device=device).long()\n",
    "        \n",
    "        for i in range(self.seq_len):\n",
    "            prev = self.embed(dec_inp)\n",
    "            \n",
    "            context, a = self.attn(hidden, feats)\n",
    "            hidden = self.decoder(hidden, context)\n",
    "            out = self.output(prev, hidden, context)\n",
    "            \n",
    "            res.append(out)\n",
    "            attns.append(a)\n",
    "            dec_inp = out.data.max(1)[1]\n",
    "            \n",
    "        res = torch.stack(res)\n",
    "        if ret_attn: res = res,torch.stack(attns)\n",
    "        return res"
   ]
  },
  {
   "cell_type": "code",
   "execution_count": 43,
   "metadata": {
    "ExecuteTime": {
     "end_time": "2018-11-15T00:01:28.349292Z",
     "start_time": "2018-11-15T00:01:27.648458Z"
    },
    "hidden": true
   },
   "outputs": [],
   "source": [
    "opt_fn = partial(optim.Adam, betas=(0.7, 0.99))\n",
    "rnn = Net(256, len(itos), 20)\n",
    "learn = RNN_Learner(data, SingleModel(to_gpu(rnn)), opt_fn=opt_fn)\n",
    "learn.clip = 0.25\n",
    "learn.crit = seq2seq_loss\n",
    "learn.metrics = [char_error_rate]"
   ]
  },
  {
   "cell_type": "code",
   "execution_count": 159,
   "metadata": {
    "ExecuteTime": {
     "end_time": "2018-11-14T23:03:30.819548Z",
     "start_time": "2018-11-14T22:49:19.208742Z"
    },
    "hidden": true
   },
   "outputs": [
    {
     "data": {
      "application/vnd.jupyter.widget-view+json": {
       "model_id": "f2a605b5b7744cf289d7aa99c295f630",
       "version_major": 2,
       "version_minor": 0
      },
      "text/plain": [
       "HBox(children=(IntProgress(value=0, description='Epoch', max=5), HTML(value='')))"
      ]
     },
     "metadata": {},
     "output_type": "display_data"
    },
    {
     "name": "stdout",
     "output_type": "stream",
     "text": [
      "epoch      trn_loss   val_loss   char_error_rate          \n",
      "    0      26.987927  22.325404  0.686034  \n",
      "    1      24.624356  21.293182  0.466135                 \n",
      "    2      23.801808  21.308162  0.453969                 \n",
      "    3      22.630354  20.645247  0.513439                 \n",
      "    4      22.104788  20.616136  0.544379                 \n"
     ]
    },
    {
     "data": {
      "text/plain": [
       "[20.616135597229004, 0.5443792303059426]"
      ]
     },
     "execution_count": 159,
     "metadata": {},
     "output_type": "execute_result"
    }
   ],
   "source": [
    "lr=1e-3\n",
    "# learn.fit(lr, 1, cycle_len=1)\n",
    "# 55.378511  25.041582  0.447107\n",
    "\n",
    "learn.fit(lr, 5, cycle_len=1, use_clr=(10,4))\n",
    "# sample ~5000\n",
    "# 21.156707  19.777774  0.523863    vanilla\n",
    "\n",
    "# scan, attend, read modifications\n",
    "# 21.623266  20.042625  0.557447    including 'location' attention (prev_attn.unsqueeze(2)*feats)\n",
    "# 21.839842  20.125603  0.53964     including tanh layer in deepoutput\n",
    "\n",
    "# im2latex modifications - https://guillaumegenthial.github.io/image-to-latex.html\n",
    "# 21.77534   20.100386  0.554967    enc: add pos_enc to features (modified from annotated transformer)\n",
    "# 21.374544  20.097782  0.57317     enc: \"\", feats.mean(0) prior to linear layer\n",
    "# 22.104788  20.616136  0.544379    \"\", leaky_relu, Embedding (annotated transformer)"
   ]
  },
  {
   "cell_type": "markdown",
   "metadata": {},
   "source": [
    "# Train"
   ]
  },
  {
   "cell_type": "code",
   "execution_count": null,
   "metadata": {
    "ExecuteTime": {
     "end_time": "2018-11-29T22:21:38.634684Z",
     "start_time": "2018-11-29T22:21:31.968682Z"
    },
    "scrolled": true
   },
   "outputs": [],
   "source": [
    "lr = 1e-3\n",
    "learn.fit(lr, 1, cycle_len=1, stepper=Seq2SeqStepper)\n",
    "# chars\n",
    "# 21.707373  21.732931  0.668435\n",
    "\n",
    "# words+chars\n",
    "# 42.288251  41.934733\n",
    "\n",
    "# 122.970944 106.329719 1.0"
   ]
  },
  {
   "cell_type": "code",
   "execution_count": 26,
   "metadata": {
    "ExecuteTime": {
     "end_time": "2018-11-27T16:29:56.502060Z",
     "start_time": "2018-11-27T16:16:57.614732Z"
    },
    "scrolled": true
   },
   "outputs": [
    {
     "data": {
      "application/vnd.jupyter.widget-view+json": {
       "model_id": "7dd58ea0907d41b8987480c8d787a68f",
       "version_major": 2,
       "version_minor": 0
      },
      "text/plain": [
       "HBox(children=(IntProgress(value=0, description='Epoch', max=3), HTML(value='')))"
      ]
     },
     "metadata": {},
     "output_type": "display_data"
    },
    {
     "name": "stdout",
     "output_type": "stream",
     "text": [
      "epoch      trn_loss   val_loss   char_error_rate           \n",
      "    0      106.292614 105.427622 1.0       \n",
      " 79%|███████▉  | 56/71 [05:34<01:29,  5.96s/it, loss=106]"
     ]
    },
    {
     "ename": "KeyboardInterrupt",
     "evalue": "",
     "output_type": "error",
     "traceback": [
      "\u001b[0;31m---------------------------------------------------------------------------\u001b[0m",
      "\u001b[0;31mKeyboardInterrupt\u001b[0m                         Traceback (most recent call last)",
      "\u001b[0;32m<ipython-input-26-dbfa42018f43>\u001b[0m in \u001b[0;36m<module>\u001b[0;34m\u001b[0m\n\u001b[0;32m----> 1\u001b[0;31m \u001b[0mlearn\u001b[0m\u001b[0;34m.\u001b[0m\u001b[0mfit\u001b[0m\u001b[0;34m(\u001b[0m\u001b[0mlr\u001b[0m\u001b[0;34m,\u001b[0m \u001b[0;36m3\u001b[0m\u001b[0;34m,\u001b[0m \u001b[0mcycle_len\u001b[0m\u001b[0;34m=\u001b[0m\u001b[0;36m1\u001b[0m\u001b[0;34m,\u001b[0m \u001b[0muse_clr\u001b[0m\u001b[0;34m=\u001b[0m\u001b[0;34m(\u001b[0m\u001b[0;36m10\u001b[0m\u001b[0;34m,\u001b[0m\u001b[0;36m4\u001b[0m\u001b[0;34m)\u001b[0m\u001b[0;34m)\u001b[0m\u001b[0;34m\u001b[0m\u001b[0m\n\u001b[0m\u001b[1;32m      2\u001b[0m \u001b[0;31m# words\u001b[0m\u001b[0;34m\u001b[0m\u001b[0;34m\u001b[0m\u001b[0m\n\u001b[1;32m      3\u001b[0m \u001b[0;31m# 18.377459  18.082117  0.604478\u001b[0m\u001b[0;34m\u001b[0m\u001b[0;34m\u001b[0m\u001b[0m\n\u001b[1;32m      4\u001b[0m \u001b[0;34m\u001b[0m\u001b[0m\n\u001b[1;32m      5\u001b[0m \u001b[0;31m# words+chars\u001b[0m\u001b[0;34m\u001b[0m\u001b[0;34m\u001b[0m\u001b[0m\n",
      "\u001b[0;32m~/Projects/DeepLearning/fastai/projects/fastai/text.py\u001b[0m in \u001b[0;36mfit\u001b[0;34m(self, *args, **kwargs)\u001b[0m\n\u001b[1;32m    209\u001b[0m \u001b[0;34m\u001b[0m\u001b[0m\n\u001b[1;32m    210\u001b[0m     \u001b[0;32mdef\u001b[0m \u001b[0m_get_crit\u001b[0m\u001b[0;34m(\u001b[0m\u001b[0mself\u001b[0m\u001b[0;34m,\u001b[0m \u001b[0mdata\u001b[0m\u001b[0;34m)\u001b[0m\u001b[0;34m:\u001b[0m \u001b[0;32mreturn\u001b[0m \u001b[0mF\u001b[0m\u001b[0;34m.\u001b[0m\u001b[0mcross_entropy\u001b[0m\u001b[0;34m\u001b[0m\u001b[0m\n\u001b[0;32m--> 211\u001b[0;31m     \u001b[0;32mdef\u001b[0m \u001b[0mfit\u001b[0m\u001b[0;34m(\u001b[0m\u001b[0mself\u001b[0m\u001b[0;34m,\u001b[0m \u001b[0;34m*\u001b[0m\u001b[0margs\u001b[0m\u001b[0;34m,\u001b[0m \u001b[0;34m**\u001b[0m\u001b[0mkwargs\u001b[0m\u001b[0;34m)\u001b[0m\u001b[0;34m:\u001b[0m \u001b[0;32mreturn\u001b[0m \u001b[0msuper\u001b[0m\u001b[0;34m(\u001b[0m\u001b[0;34m)\u001b[0m\u001b[0;34m.\u001b[0m\u001b[0mfit\u001b[0m\u001b[0;34m(\u001b[0m\u001b[0;34m*\u001b[0m\u001b[0margs\u001b[0m\u001b[0;34m,\u001b[0m \u001b[0;34m**\u001b[0m\u001b[0mkwargs\u001b[0m\u001b[0;34m,\u001b[0m \u001b[0mseq_first\u001b[0m\u001b[0;34m=\u001b[0m\u001b[0;32mTrue\u001b[0m\u001b[0;34m)\u001b[0m\u001b[0;34m\u001b[0m\u001b[0m\n\u001b[0m\u001b[1;32m    212\u001b[0m \u001b[0;34m\u001b[0m\u001b[0m\n\u001b[1;32m    213\u001b[0m     \u001b[0;32mdef\u001b[0m \u001b[0msave_encoder\u001b[0m\u001b[0;34m(\u001b[0m\u001b[0mself\u001b[0m\u001b[0;34m,\u001b[0m \u001b[0mname\u001b[0m\u001b[0;34m)\u001b[0m\u001b[0;34m:\u001b[0m \u001b[0msave_model\u001b[0m\u001b[0;34m(\u001b[0m\u001b[0mself\u001b[0m\u001b[0;34m.\u001b[0m\u001b[0mmodel\u001b[0m\u001b[0;34m[\u001b[0m\u001b[0;36m0\u001b[0m\u001b[0;34m]\u001b[0m\u001b[0;34m,\u001b[0m \u001b[0mself\u001b[0m\u001b[0;34m.\u001b[0m\u001b[0mget_model_path\u001b[0m\u001b[0;34m(\u001b[0m\u001b[0mname\u001b[0m\u001b[0;34m)\u001b[0m\u001b[0;34m)\u001b[0m\u001b[0;34m\u001b[0m\u001b[0m\n",
      "\u001b[0;32m~/Projects/DeepLearning/fastai/projects/fastai/learner.py\u001b[0m in \u001b[0;36mfit\u001b[0;34m(self, lrs, n_cycle, wds, **kwargs)\u001b[0m\n\u001b[1;32m    300\u001b[0m         \u001b[0mself\u001b[0m\u001b[0;34m.\u001b[0m\u001b[0msched\u001b[0m \u001b[0;34m=\u001b[0m \u001b[0;32mNone\u001b[0m\u001b[0;34m\u001b[0m\u001b[0m\n\u001b[1;32m    301\u001b[0m         \u001b[0mlayer_opt\u001b[0m \u001b[0;34m=\u001b[0m \u001b[0mself\u001b[0m\u001b[0;34m.\u001b[0m\u001b[0mget_layer_opt\u001b[0m\u001b[0;34m(\u001b[0m\u001b[0mlrs\u001b[0m\u001b[0;34m,\u001b[0m \u001b[0mwds\u001b[0m\u001b[0;34m)\u001b[0m\u001b[0;34m\u001b[0m\u001b[0m\n\u001b[0;32m--> 302\u001b[0;31m         \u001b[0;32mreturn\u001b[0m \u001b[0mself\u001b[0m\u001b[0;34m.\u001b[0m\u001b[0mfit_gen\u001b[0m\u001b[0;34m(\u001b[0m\u001b[0mself\u001b[0m\u001b[0;34m.\u001b[0m\u001b[0mmodel\u001b[0m\u001b[0;34m,\u001b[0m \u001b[0mself\u001b[0m\u001b[0;34m.\u001b[0m\u001b[0mdata\u001b[0m\u001b[0;34m,\u001b[0m \u001b[0mlayer_opt\u001b[0m\u001b[0;34m,\u001b[0m \u001b[0mn_cycle\u001b[0m\u001b[0;34m,\u001b[0m \u001b[0;34m**\u001b[0m\u001b[0mkwargs\u001b[0m\u001b[0;34m)\u001b[0m\u001b[0;34m\u001b[0m\u001b[0m\n\u001b[0m\u001b[1;32m    303\u001b[0m \u001b[0;34m\u001b[0m\u001b[0m\n\u001b[1;32m    304\u001b[0m     \u001b[0;32mdef\u001b[0m \u001b[0mwarm_up\u001b[0m\u001b[0;34m(\u001b[0m\u001b[0mself\u001b[0m\u001b[0;34m,\u001b[0m \u001b[0mlr\u001b[0m\u001b[0;34m,\u001b[0m \u001b[0mwds\u001b[0m\u001b[0;34m=\u001b[0m\u001b[0;32mNone\u001b[0m\u001b[0;34m)\u001b[0m\u001b[0;34m:\u001b[0m\u001b[0;34m\u001b[0m\u001b[0m\n",
      "\u001b[0;32m~/Projects/DeepLearning/fastai/projects/fastai/learner.py\u001b[0m in \u001b[0;36mfit_gen\u001b[0;34m(self, model, data, layer_opt, n_cycle, cycle_len, cycle_mult, cycle_save_name, best_save_name, use_clr, use_clr_beta, metrics, callbacks, use_wd_sched, norm_wds, wds_sched_mult, use_swa, swa_start, swa_eval_freq, **kwargs)\u001b[0m\n\u001b[1;32m    247\u001b[0m             \u001b[0mmetrics\u001b[0m\u001b[0;34m=\u001b[0m\u001b[0mmetrics\u001b[0m\u001b[0;34m,\u001b[0m \u001b[0mcallbacks\u001b[0m\u001b[0;34m=\u001b[0m\u001b[0mcallbacks\u001b[0m\u001b[0;34m,\u001b[0m \u001b[0mreg_fn\u001b[0m\u001b[0;34m=\u001b[0m\u001b[0mself\u001b[0m\u001b[0;34m.\u001b[0m\u001b[0mreg_fn\u001b[0m\u001b[0;34m,\u001b[0m \u001b[0mclip\u001b[0m\u001b[0;34m=\u001b[0m\u001b[0mself\u001b[0m\u001b[0;34m.\u001b[0m\u001b[0mclip\u001b[0m\u001b[0;34m,\u001b[0m \u001b[0mfp16\u001b[0m\u001b[0;34m=\u001b[0m\u001b[0mself\u001b[0m\u001b[0;34m.\u001b[0m\u001b[0mfp16\u001b[0m\u001b[0;34m,\u001b[0m\u001b[0;34m\u001b[0m\u001b[0m\n\u001b[1;32m    248\u001b[0m             \u001b[0mswa_model\u001b[0m\u001b[0;34m=\u001b[0m\u001b[0mself\u001b[0m\u001b[0;34m.\u001b[0m\u001b[0mswa_model\u001b[0m \u001b[0;32mif\u001b[0m \u001b[0muse_swa\u001b[0m \u001b[0;32melse\u001b[0m \u001b[0;32mNone\u001b[0m\u001b[0;34m,\u001b[0m \u001b[0mswa_start\u001b[0m\u001b[0;34m=\u001b[0m\u001b[0mswa_start\u001b[0m\u001b[0;34m,\u001b[0m\u001b[0;34m\u001b[0m\u001b[0m\n\u001b[0;32m--> 249\u001b[0;31m             swa_eval_freq=swa_eval_freq, **kwargs)\n\u001b[0m\u001b[1;32m    250\u001b[0m \u001b[0;34m\u001b[0m\u001b[0m\n\u001b[1;32m    251\u001b[0m     \u001b[0;32mdef\u001b[0m \u001b[0mget_layer_groups\u001b[0m\u001b[0;34m(\u001b[0m\u001b[0mself\u001b[0m\u001b[0;34m)\u001b[0m\u001b[0;34m:\u001b[0m \u001b[0;32mreturn\u001b[0m \u001b[0mself\u001b[0m\u001b[0;34m.\u001b[0m\u001b[0mmodels\u001b[0m\u001b[0;34m.\u001b[0m\u001b[0mget_layer_groups\u001b[0m\u001b[0;34m(\u001b[0m\u001b[0;34m)\u001b[0m\u001b[0;34m\u001b[0m\u001b[0m\n",
      "\u001b[0;32m~/Projects/DeepLearning/fastai/projects/fastai/model.py\u001b[0m in \u001b[0;36mfit\u001b[0;34m(model, data, n_epochs, opt, crit, metrics, callbacks, stepper, swa_model, swa_start, swa_eval_freq, visualize, **kwargs)\u001b[0m\n\u001b[1;32m    139\u001b[0m             \u001b[0mbatch_num\u001b[0m \u001b[0;34m+=\u001b[0m \u001b[0;36m1\u001b[0m\u001b[0;34m\u001b[0m\u001b[0m\n\u001b[1;32m    140\u001b[0m             \u001b[0;32mfor\u001b[0m \u001b[0mcb\u001b[0m \u001b[0;32min\u001b[0m \u001b[0mcallbacks\u001b[0m\u001b[0;34m:\u001b[0m \u001b[0mcb\u001b[0m\u001b[0;34m.\u001b[0m\u001b[0mon_batch_begin\u001b[0m\u001b[0;34m(\u001b[0m\u001b[0;34m)\u001b[0m\u001b[0;34m\u001b[0m\u001b[0m\n\u001b[0;32m--> 141\u001b[0;31m             \u001b[0mloss\u001b[0m \u001b[0;34m=\u001b[0m \u001b[0mmodel_stepper\u001b[0m\u001b[0;34m.\u001b[0m\u001b[0mstep\u001b[0m\u001b[0;34m(\u001b[0m\u001b[0mV\u001b[0m\u001b[0;34m(\u001b[0m\u001b[0mx\u001b[0m\u001b[0;34m)\u001b[0m\u001b[0;34m,\u001b[0m\u001b[0mV\u001b[0m\u001b[0;34m(\u001b[0m\u001b[0my\u001b[0m\u001b[0;34m)\u001b[0m\u001b[0;34m,\u001b[0m \u001b[0mepoch\u001b[0m\u001b[0;34m)\u001b[0m\u001b[0;34m\u001b[0m\u001b[0m\n\u001b[0m\u001b[1;32m    142\u001b[0m             \u001b[0mavg_loss\u001b[0m \u001b[0;34m=\u001b[0m \u001b[0mavg_loss\u001b[0m \u001b[0;34m*\u001b[0m \u001b[0mavg_mom\u001b[0m \u001b[0;34m+\u001b[0m \u001b[0mloss\u001b[0m \u001b[0;34m*\u001b[0m \u001b[0;34m(\u001b[0m\u001b[0;36m1\u001b[0m\u001b[0;34m-\u001b[0m\u001b[0mavg_mom\u001b[0m\u001b[0;34m)\u001b[0m\u001b[0;34m\u001b[0m\u001b[0m\n\u001b[1;32m    143\u001b[0m             \u001b[0mdebias_loss\u001b[0m \u001b[0;34m=\u001b[0m \u001b[0mavg_loss\u001b[0m \u001b[0;34m/\u001b[0m \u001b[0;34m(\u001b[0m\u001b[0;36m1\u001b[0m \u001b[0;34m-\u001b[0m \u001b[0mavg_mom\u001b[0m\u001b[0;34m**\u001b[0m\u001b[0mbatch_num\u001b[0m\u001b[0;34m)\u001b[0m\u001b[0;34m\u001b[0m\u001b[0m\n",
      "\u001b[0;32m~/Projects/DeepLearning/fastai/projects/fastai/model.py\u001b[0m in \u001b[0;36mstep\u001b[0;34m(self, xs, y, epoch)\u001b[0m\n\u001b[1;32m     48\u001b[0m     \u001b[0;32mdef\u001b[0m \u001b[0mstep\u001b[0m\u001b[0;34m(\u001b[0m\u001b[0mself\u001b[0m\u001b[0;34m,\u001b[0m \u001b[0mxs\u001b[0m\u001b[0;34m,\u001b[0m \u001b[0my\u001b[0m\u001b[0;34m,\u001b[0m \u001b[0mepoch\u001b[0m\u001b[0;34m)\u001b[0m\u001b[0;34m:\u001b[0m\u001b[0;34m\u001b[0m\u001b[0m\n\u001b[1;32m     49\u001b[0m         \u001b[0mxtra\u001b[0m \u001b[0;34m=\u001b[0m \u001b[0;34m[\u001b[0m\u001b[0;34m]\u001b[0m\u001b[0;34m\u001b[0m\u001b[0m\n\u001b[0;32m---> 50\u001b[0;31m         \u001b[0moutput\u001b[0m \u001b[0;34m=\u001b[0m \u001b[0mself\u001b[0m\u001b[0;34m.\u001b[0m\u001b[0mm\u001b[0m\u001b[0;34m(\u001b[0m\u001b[0;34m*\u001b[0m\u001b[0mxs\u001b[0m\u001b[0;34m)\u001b[0m\u001b[0;34m\u001b[0m\u001b[0m\n\u001b[0m\u001b[1;32m     51\u001b[0m         \u001b[0;32mif\u001b[0m \u001b[0misinstance\u001b[0m\u001b[0;34m(\u001b[0m\u001b[0moutput\u001b[0m\u001b[0;34m,\u001b[0m\u001b[0mtuple\u001b[0m\u001b[0;34m)\u001b[0m\u001b[0;34m:\u001b[0m \u001b[0moutput\u001b[0m\u001b[0;34m,\u001b[0m\u001b[0;34m*\u001b[0m\u001b[0mxtra\u001b[0m \u001b[0;34m=\u001b[0m \u001b[0moutput\u001b[0m\u001b[0;34m\u001b[0m\u001b[0m\n\u001b[1;32m     52\u001b[0m         \u001b[0;32mif\u001b[0m \u001b[0mself\u001b[0m\u001b[0;34m.\u001b[0m\u001b[0mfp16\u001b[0m\u001b[0;34m:\u001b[0m \u001b[0mself\u001b[0m\u001b[0;34m.\u001b[0m\u001b[0mm\u001b[0m\u001b[0;34m.\u001b[0m\u001b[0mzero_grad\u001b[0m\u001b[0;34m(\u001b[0m\u001b[0;34m)\u001b[0m\u001b[0;34m\u001b[0m\u001b[0m\n",
      "\u001b[0;32m~/anaconda3/envs/fastai-cpu/lib/python3.6/site-packages/torch/nn/modules/module.py\u001b[0m in \u001b[0;36m__call__\u001b[0;34m(self, *input, **kwargs)\u001b[0m\n\u001b[1;32m    475\u001b[0m             \u001b[0mresult\u001b[0m \u001b[0;34m=\u001b[0m \u001b[0mself\u001b[0m\u001b[0;34m.\u001b[0m\u001b[0m_slow_forward\u001b[0m\u001b[0;34m(\u001b[0m\u001b[0;34m*\u001b[0m\u001b[0minput\u001b[0m\u001b[0;34m,\u001b[0m \u001b[0;34m**\u001b[0m\u001b[0mkwargs\u001b[0m\u001b[0;34m)\u001b[0m\u001b[0;34m\u001b[0m\u001b[0m\n\u001b[1;32m    476\u001b[0m         \u001b[0;32melse\u001b[0m\u001b[0;34m:\u001b[0m\u001b[0;34m\u001b[0m\u001b[0m\n\u001b[0;32m--> 477\u001b[0;31m             \u001b[0mresult\u001b[0m \u001b[0;34m=\u001b[0m \u001b[0mself\u001b[0m\u001b[0;34m.\u001b[0m\u001b[0mforward\u001b[0m\u001b[0;34m(\u001b[0m\u001b[0;34m*\u001b[0m\u001b[0minput\u001b[0m\u001b[0;34m,\u001b[0m \u001b[0;34m**\u001b[0m\u001b[0mkwargs\u001b[0m\u001b[0;34m)\u001b[0m\u001b[0;34m\u001b[0m\u001b[0m\n\u001b[0m\u001b[1;32m    478\u001b[0m         \u001b[0;32mfor\u001b[0m \u001b[0mhook\u001b[0m \u001b[0;32min\u001b[0m \u001b[0mself\u001b[0m\u001b[0;34m.\u001b[0m\u001b[0m_forward_hooks\u001b[0m\u001b[0;34m.\u001b[0m\u001b[0mvalues\u001b[0m\u001b[0;34m(\u001b[0m\u001b[0;34m)\u001b[0m\u001b[0;34m:\u001b[0m\u001b[0;34m\u001b[0m\u001b[0m\n\u001b[1;32m    479\u001b[0m             \u001b[0mhook_result\u001b[0m \u001b[0;34m=\u001b[0m \u001b[0mhook\u001b[0m\u001b[0;34m(\u001b[0m\u001b[0mself\u001b[0m\u001b[0;34m,\u001b[0m \u001b[0minput\u001b[0m\u001b[0;34m,\u001b[0m \u001b[0mresult\u001b[0m\u001b[0;34m)\u001b[0m\u001b[0;34m\u001b[0m\u001b[0m\n",
      "\u001b[0;32m<ipython-input-23-c7e8155ff987>\u001b[0m in \u001b[0;36mforward\u001b[0;34m(self, x, ret_attn)\u001b[0m\n\u001b[1;32m     20\u001b[0m \u001b[0;31m#         num_words, feats, hidden = self.encoder(x)\u001b[0m\u001b[0;34m\u001b[0m\u001b[0;34m\u001b[0m\u001b[0m\n\u001b[1;32m     21\u001b[0m \u001b[0;31m#         feats = feats.flatten(2, 3).permute(2, 0, 1)\u001b[0m\u001b[0;34m\u001b[0m\u001b[0;34m\u001b[0m\u001b[0m\n\u001b[0;32m---> 22\u001b[0;31m         \u001b[0mfeats\u001b[0m\u001b[0;34m,\u001b[0m \u001b[0mhidden\u001b[0m \u001b[0;34m=\u001b[0m \u001b[0mself\u001b[0m\u001b[0;34m.\u001b[0m\u001b[0mencoder\u001b[0m\u001b[0;34m(\u001b[0m\u001b[0mx\u001b[0m\u001b[0;34m)\u001b[0m\u001b[0;34m\u001b[0m\u001b[0m\n\u001b[0m\u001b[1;32m     23\u001b[0m \u001b[0;34m\u001b[0m\u001b[0m\n\u001b[1;32m     24\u001b[0m         \u001b[0mres\u001b[0m\u001b[0;34m,\u001b[0m\u001b[0mattns\u001b[0m\u001b[0;34m,\u001b[0m\u001b[0mw_attns\u001b[0m \u001b[0;34m=\u001b[0m \u001b[0;34m[\u001b[0m\u001b[0;34m]\u001b[0m\u001b[0;34m,\u001b[0m\u001b[0;34m[\u001b[0m\u001b[0;34m]\u001b[0m\u001b[0;34m,\u001b[0m\u001b[0;34m[\u001b[0m\u001b[0;34m]\u001b[0m\u001b[0;34m\u001b[0m\u001b[0m\n",
      "\u001b[0;32m~/anaconda3/envs/fastai-cpu/lib/python3.6/site-packages/torch/nn/modules/module.py\u001b[0m in \u001b[0;36m__call__\u001b[0;34m(self, *input, **kwargs)\u001b[0m\n\u001b[1;32m    475\u001b[0m             \u001b[0mresult\u001b[0m \u001b[0;34m=\u001b[0m \u001b[0mself\u001b[0m\u001b[0;34m.\u001b[0m\u001b[0m_slow_forward\u001b[0m\u001b[0;34m(\u001b[0m\u001b[0;34m*\u001b[0m\u001b[0minput\u001b[0m\u001b[0;34m,\u001b[0m \u001b[0;34m**\u001b[0m\u001b[0mkwargs\u001b[0m\u001b[0;34m)\u001b[0m\u001b[0;34m\u001b[0m\u001b[0m\n\u001b[1;32m    476\u001b[0m         \u001b[0;32melse\u001b[0m\u001b[0;34m:\u001b[0m\u001b[0;34m\u001b[0m\u001b[0m\n\u001b[0;32m--> 477\u001b[0;31m             \u001b[0mresult\u001b[0m \u001b[0;34m=\u001b[0m \u001b[0mself\u001b[0m\u001b[0;34m.\u001b[0m\u001b[0mforward\u001b[0m\u001b[0;34m(\u001b[0m\u001b[0;34m*\u001b[0m\u001b[0minput\u001b[0m\u001b[0;34m,\u001b[0m \u001b[0;34m**\u001b[0m\u001b[0mkwargs\u001b[0m\u001b[0;34m)\u001b[0m\u001b[0;34m\u001b[0m\u001b[0m\n\u001b[0m\u001b[1;32m    478\u001b[0m         \u001b[0;32mfor\u001b[0m \u001b[0mhook\u001b[0m \u001b[0;32min\u001b[0m \u001b[0mself\u001b[0m\u001b[0;34m.\u001b[0m\u001b[0m_forward_hooks\u001b[0m\u001b[0;34m.\u001b[0m\u001b[0mvalues\u001b[0m\u001b[0;34m(\u001b[0m\u001b[0;34m)\u001b[0m\u001b[0;34m:\u001b[0m\u001b[0;34m\u001b[0m\u001b[0m\n\u001b[1;32m    479\u001b[0m             \u001b[0mhook_result\u001b[0m \u001b[0;34m=\u001b[0m \u001b[0mhook\u001b[0m\u001b[0;34m(\u001b[0m\u001b[0mself\u001b[0m\u001b[0;34m,\u001b[0m \u001b[0minput\u001b[0m\u001b[0;34m,\u001b[0m \u001b[0mresult\u001b[0m\u001b[0;34m)\u001b[0m\u001b[0;34m\u001b[0m\u001b[0m\n",
      "\u001b[0;32m<ipython-input-21-58e938646794>\u001b[0m in \u001b[0;36mforward\u001b[0;34m(self, inp)\u001b[0m\n\u001b[1;32m     18\u001b[0m         \u001b[0mbs\u001b[0m\u001b[0;34m,\u001b[0m\u001b[0mnf\u001b[0m\u001b[0;34m,\u001b[0m\u001b[0mh\u001b[0m\u001b[0;34m,\u001b[0m\u001b[0mw\u001b[0m \u001b[0;34m=\u001b[0m \u001b[0minp\u001b[0m\u001b[0;34m.\u001b[0m\u001b[0msize\u001b[0m\u001b[0;34m(\u001b[0m\u001b[0;34m)\u001b[0m\u001b[0;34m\u001b[0m\u001b[0m\n\u001b[1;32m     19\u001b[0m \u001b[0;34m\u001b[0m\u001b[0m\n\u001b[0;32m---> 20\u001b[0;31m         \u001b[0mfeatures\u001b[0m \u001b[0;34m=\u001b[0m \u001b[0mself\u001b[0m\u001b[0;34m.\u001b[0m\u001b[0mbase\u001b[0m\u001b[0;34m(\u001b[0m\u001b[0minp\u001b[0m\u001b[0;34m)\u001b[0m\u001b[0;34m\u001b[0m\u001b[0m\n\u001b[0m\u001b[1;32m     21\u001b[0m         \u001b[0mfeatures\u001b[0m \u001b[0;34m=\u001b[0m \u001b[0mfeatures\u001b[0m\u001b[0;34m.\u001b[0m\u001b[0mflatten\u001b[0m\u001b[0;34m(\u001b[0m\u001b[0;36m2\u001b[0m\u001b[0;34m,\u001b[0m \u001b[0;36m3\u001b[0m\u001b[0;34m)\u001b[0m\u001b[0;34m.\u001b[0m\u001b[0mpermute\u001b[0m\u001b[0;34m(\u001b[0m\u001b[0;36m2\u001b[0m\u001b[0;34m,\u001b[0m \u001b[0;36m0\u001b[0m\u001b[0;34m,\u001b[0m \u001b[0;36m1\u001b[0m\u001b[0;34m)\u001b[0m\u001b[0;34m\u001b[0m\u001b[0m\n\u001b[1;32m     22\u001b[0m \u001b[0;34m\u001b[0m\u001b[0m\n",
      "\u001b[0;32m~/anaconda3/envs/fastai-cpu/lib/python3.6/site-packages/torch/nn/modules/module.py\u001b[0m in \u001b[0;36m__call__\u001b[0;34m(self, *input, **kwargs)\u001b[0m\n\u001b[1;32m    475\u001b[0m             \u001b[0mresult\u001b[0m \u001b[0;34m=\u001b[0m \u001b[0mself\u001b[0m\u001b[0;34m.\u001b[0m\u001b[0m_slow_forward\u001b[0m\u001b[0;34m(\u001b[0m\u001b[0;34m*\u001b[0m\u001b[0minput\u001b[0m\u001b[0;34m,\u001b[0m \u001b[0;34m**\u001b[0m\u001b[0mkwargs\u001b[0m\u001b[0;34m)\u001b[0m\u001b[0;34m\u001b[0m\u001b[0m\n\u001b[1;32m    476\u001b[0m         \u001b[0;32melse\u001b[0m\u001b[0;34m:\u001b[0m\u001b[0;34m\u001b[0m\u001b[0m\n\u001b[0;32m--> 477\u001b[0;31m             \u001b[0mresult\u001b[0m \u001b[0;34m=\u001b[0m \u001b[0mself\u001b[0m\u001b[0;34m.\u001b[0m\u001b[0mforward\u001b[0m\u001b[0;34m(\u001b[0m\u001b[0;34m*\u001b[0m\u001b[0minput\u001b[0m\u001b[0;34m,\u001b[0m \u001b[0;34m**\u001b[0m\u001b[0mkwargs\u001b[0m\u001b[0;34m)\u001b[0m\u001b[0;34m\u001b[0m\u001b[0m\n\u001b[0m\u001b[1;32m    478\u001b[0m         \u001b[0;32mfor\u001b[0m \u001b[0mhook\u001b[0m \u001b[0;32min\u001b[0m \u001b[0mself\u001b[0m\u001b[0;34m.\u001b[0m\u001b[0m_forward_hooks\u001b[0m\u001b[0;34m.\u001b[0m\u001b[0mvalues\u001b[0m\u001b[0;34m(\u001b[0m\u001b[0;34m)\u001b[0m\u001b[0;34m:\u001b[0m\u001b[0;34m\u001b[0m\u001b[0m\n\u001b[1;32m    479\u001b[0m             \u001b[0mhook_result\u001b[0m \u001b[0;34m=\u001b[0m \u001b[0mhook\u001b[0m\u001b[0;34m(\u001b[0m\u001b[0mself\u001b[0m\u001b[0;34m,\u001b[0m \u001b[0minput\u001b[0m\u001b[0;34m,\u001b[0m \u001b[0mresult\u001b[0m\u001b[0;34m)\u001b[0m\u001b[0;34m\u001b[0m\u001b[0m\n",
      "\u001b[0;32m~/anaconda3/envs/fastai-cpu/lib/python3.6/site-packages/torch/nn/modules/container.py\u001b[0m in \u001b[0;36mforward\u001b[0;34m(self, input)\u001b[0m\n\u001b[1;32m     89\u001b[0m     \u001b[0;32mdef\u001b[0m \u001b[0mforward\u001b[0m\u001b[0;34m(\u001b[0m\u001b[0mself\u001b[0m\u001b[0;34m,\u001b[0m \u001b[0minput\u001b[0m\u001b[0;34m)\u001b[0m\u001b[0;34m:\u001b[0m\u001b[0;34m\u001b[0m\u001b[0m\n\u001b[1;32m     90\u001b[0m         \u001b[0;32mfor\u001b[0m \u001b[0mmodule\u001b[0m \u001b[0;32min\u001b[0m \u001b[0mself\u001b[0m\u001b[0;34m.\u001b[0m\u001b[0m_modules\u001b[0m\u001b[0;34m.\u001b[0m\u001b[0mvalues\u001b[0m\u001b[0;34m(\u001b[0m\u001b[0;34m)\u001b[0m\u001b[0;34m:\u001b[0m\u001b[0;34m\u001b[0m\u001b[0m\n\u001b[0;32m---> 91\u001b[0;31m             \u001b[0minput\u001b[0m \u001b[0;34m=\u001b[0m \u001b[0mmodule\u001b[0m\u001b[0;34m(\u001b[0m\u001b[0minput\u001b[0m\u001b[0;34m)\u001b[0m\u001b[0;34m\u001b[0m\u001b[0m\n\u001b[0m\u001b[1;32m     92\u001b[0m         \u001b[0;32mreturn\u001b[0m \u001b[0minput\u001b[0m\u001b[0;34m\u001b[0m\u001b[0m\n\u001b[1;32m     93\u001b[0m \u001b[0;34m\u001b[0m\u001b[0m\n",
      "\u001b[0;32m~/anaconda3/envs/fastai-cpu/lib/python3.6/site-packages/torch/nn/modules/module.py\u001b[0m in \u001b[0;36m__call__\u001b[0;34m(self, *input, **kwargs)\u001b[0m\n\u001b[1;32m    475\u001b[0m             \u001b[0mresult\u001b[0m \u001b[0;34m=\u001b[0m \u001b[0mself\u001b[0m\u001b[0;34m.\u001b[0m\u001b[0m_slow_forward\u001b[0m\u001b[0;34m(\u001b[0m\u001b[0;34m*\u001b[0m\u001b[0minput\u001b[0m\u001b[0;34m,\u001b[0m \u001b[0;34m**\u001b[0m\u001b[0mkwargs\u001b[0m\u001b[0;34m)\u001b[0m\u001b[0;34m\u001b[0m\u001b[0m\n\u001b[1;32m    476\u001b[0m         \u001b[0;32melse\u001b[0m\u001b[0;34m:\u001b[0m\u001b[0;34m\u001b[0m\u001b[0m\n\u001b[0;32m--> 477\u001b[0;31m             \u001b[0mresult\u001b[0m \u001b[0;34m=\u001b[0m \u001b[0mself\u001b[0m\u001b[0;34m.\u001b[0m\u001b[0mforward\u001b[0m\u001b[0;34m(\u001b[0m\u001b[0;34m*\u001b[0m\u001b[0minput\u001b[0m\u001b[0;34m,\u001b[0m \u001b[0;34m**\u001b[0m\u001b[0mkwargs\u001b[0m\u001b[0;34m)\u001b[0m\u001b[0;34m\u001b[0m\u001b[0m\n\u001b[0m\u001b[1;32m    478\u001b[0m         \u001b[0;32mfor\u001b[0m \u001b[0mhook\u001b[0m \u001b[0;32min\u001b[0m \u001b[0mself\u001b[0m\u001b[0;34m.\u001b[0m\u001b[0m_forward_hooks\u001b[0m\u001b[0;34m.\u001b[0m\u001b[0mvalues\u001b[0m\u001b[0;34m(\u001b[0m\u001b[0;34m)\u001b[0m\u001b[0;34m:\u001b[0m\u001b[0;34m\u001b[0m\u001b[0m\n\u001b[1;32m    479\u001b[0m             \u001b[0mhook_result\u001b[0m \u001b[0;34m=\u001b[0m \u001b[0mhook\u001b[0m\u001b[0;34m(\u001b[0m\u001b[0mself\u001b[0m\u001b[0;34m,\u001b[0m \u001b[0minput\u001b[0m\u001b[0;34m,\u001b[0m \u001b[0mresult\u001b[0m\u001b[0;34m)\u001b[0m\u001b[0;34m\u001b[0m\u001b[0m\n",
      "\u001b[0;32m~/anaconda3/envs/fastai-cpu/lib/python3.6/site-packages/torch/nn/modules/conv.py\u001b[0m in \u001b[0;36mforward\u001b[0;34m(self, input)\u001b[0m\n\u001b[1;32m    299\u001b[0m     \u001b[0;32mdef\u001b[0m \u001b[0mforward\u001b[0m\u001b[0;34m(\u001b[0m\u001b[0mself\u001b[0m\u001b[0;34m,\u001b[0m \u001b[0minput\u001b[0m\u001b[0;34m)\u001b[0m\u001b[0;34m:\u001b[0m\u001b[0;34m\u001b[0m\u001b[0m\n\u001b[1;32m    300\u001b[0m         return F.conv2d(input, self.weight, self.bias, self.stride,\n\u001b[0;32m--> 301\u001b[0;31m                         self.padding, self.dilation, self.groups)\n\u001b[0m\u001b[1;32m    302\u001b[0m \u001b[0;34m\u001b[0m\u001b[0m\n\u001b[1;32m    303\u001b[0m \u001b[0;34m\u001b[0m\u001b[0m\n",
      "\u001b[0;31mKeyboardInterrupt\u001b[0m: "
     ]
    }
   ],
   "source": [
    "learn.fit(lr, 3, cycle_len=1, use_clr=(10,4))\n",
    "# chars\n",
    "# 18.377459  18.082117  0.604478\n",
    "\n",
    "# words+chars\n",
    "# 30.31248   29.169749"
   ]
  },
  {
   "cell_type": "code",
   "execution_count": 99,
   "metadata": {
    "ExecuteTime": {
     "end_time": "2018-11-21T22:15:50.725596Z",
     "start_time": "2018-11-21T22:15:50.509812Z"
    }
   },
   "outputs": [],
   "source": [
    "# learn.save('3x1_word_64')\n",
    "learn.save('3x1_word+char_64')"
   ]
  },
  {
   "cell_type": "markdown",
   "metadata": {},
   "source": [
    "## Increase size"
   ]
  },
  {
   "cell_type": "code",
   "execution_count": 100,
   "metadata": {
    "ExecuteTime": {
     "end_time": "2018-11-21T22:15:53.315514Z",
     "start_time": "2018-11-21T22:15:53.290925Z"
    }
   },
   "outputs": [],
   "source": [
    "sz = 128\n",
    "bs = 100"
   ]
  },
  {
   "cell_type": "code",
   "execution_count": 106,
   "metadata": {
    "ExecuteTime": {
     "end_time": "2018-11-21T22:16:40.579660Z",
     "start_time": "2018-11-21T22:16:40.551042Z"
    }
   },
   "outputs": [],
   "source": [
    "learn.set_data(data)"
   ]
  },
  {
   "cell_type": "code",
   "execution_count": 107,
   "metadata": {
    "ExecuteTime": {
     "end_time": "2018-11-21T22:19:14.898112Z",
     "start_time": "2018-11-21T22:16:42.591605Z"
    }
   },
   "outputs": [
    {
     "data": {
      "application/vnd.jupyter.widget-view+json": {
       "model_id": "90d0575c20174ab18c5955a2670ce76b",
       "version_major": 2,
       "version_minor": 0
      },
      "text/plain": [
       "HBox(children=(IntProgress(value=0, description='Epoch', max=1), HTML(value='')))"
      ]
     },
     "metadata": {},
     "output_type": "display_data"
    },
    {
     "name": "stdout",
     "output_type": "stream",
     "text": [
      "epoch      trn_loss   val_loss                              \n",
      "    0      27.268278  26.218681 \n"
     ]
    },
    {
     "data": {
      "text/plain": [
       "[26.218681360880534]"
      ]
     },
     "execution_count": 107,
     "metadata": {},
     "output_type": "execute_result"
    }
   ],
   "source": [
    "lr = 1e-3\n",
    "learn.fit(lr, 1, cycle_len=1)\n",
    "# chars\n",
    "# 16.346225  15.799876  0.553588\n",
    "\n",
    "# words+chars\n",
    "# 27.268278  26.218681"
   ]
  },
  {
   "cell_type": "code",
   "execution_count": 108,
   "metadata": {
    "ExecuteTime": {
     "end_time": "2018-11-21T22:33:56.215460Z",
     "start_time": "2018-11-21T22:21:26.287293Z"
    }
   },
   "outputs": [
    {
     "data": {
      "application/vnd.jupyter.widget-view+json": {
       "model_id": "89364db78c5445eab0b34d4004386779",
       "version_major": 2,
       "version_minor": 0
      },
      "text/plain": [
       "HBox(children=(IntProgress(value=0, description='Epoch', max=5), HTML(value='')))"
      ]
     },
     "metadata": {},
     "output_type": "display_data"
    },
    {
     "name": "stdout",
     "output_type": "stream",
     "text": [
      "epoch      trn_loss   val_loss                              \n",
      "    0      24.197201  22.702862 \n",
      "    1      20.388673  19.423247                             \n",
      "    2      18.024528  17.481055                             \n",
      "    3      16.244249  16.335911                             \n",
      "    4      15.048695  15.405177                             \n"
     ]
    },
    {
     "data": {
      "text/plain": [
       "[15.405176722208658]"
      ]
     },
     "execution_count": 108,
     "metadata": {},
     "output_type": "execute_result"
    }
   ],
   "source": [
    "learn.fit(lr, 5, cycle_len=1, use_clr=(10,4))\n",
    "# chars\n",
    "# 4.515208   4.312007   0.218992\n",
    "\n",
    "# words+chars\n",
    "# 15.048695  15.405177"
   ]
  },
  {
   "cell_type": "code",
   "execution_count": 109,
   "metadata": {
    "ExecuteTime": {
     "end_time": "2018-11-21T22:35:23.176644Z",
     "start_time": "2018-11-21T22:35:23.070134Z"
    }
   },
   "outputs": [],
   "source": [
    "# learn.save('3x1_word_128')\n",
    "learn.save('3x1_word+char_128')"
   ]
  },
  {
   "cell_type": "markdown",
   "metadata": {},
   "source": [
    "## Increase size"
   ]
  },
  {
   "cell_type": "code",
   "execution_count": 110,
   "metadata": {
    "ExecuteTime": {
     "end_time": "2018-11-21T22:35:30.262778Z",
     "start_time": "2018-11-21T22:35:30.239942Z"
    }
   },
   "outputs": [],
   "source": [
    "sz = 256\n",
    "bs = 60"
   ]
  },
  {
   "cell_type": "code",
   "execution_count": 116,
   "metadata": {
    "ExecuteTime": {
     "end_time": "2018-11-21T22:35:48.576859Z",
     "start_time": "2018-11-21T22:35:48.521205Z"
    }
   },
   "outputs": [],
   "source": [
    "learn.set_data(data)"
   ]
  },
  {
   "cell_type": "code",
   "execution_count": 117,
   "metadata": {
    "ExecuteTime": {
     "end_time": "2018-11-21T22:41:51.225491Z",
     "start_time": "2018-11-21T22:35:49.140362Z"
    }
   },
   "outputs": [
    {
     "data": {
      "application/vnd.jupyter.widget-view+json": {
       "model_id": "0e8f5defe61046cca8e59fc06d71db36",
       "version_major": 2,
       "version_minor": 0
      },
      "text/plain": [
       "HBox(children=(IntProgress(value=0, description='Epoch', max=1), HTML(value='')))"
      ]
     },
     "metadata": {},
     "output_type": "display_data"
    },
    {
     "name": "stdout",
     "output_type": "stream",
     "text": [
      "epoch      trn_loss   val_loss                               \n",
      "    0      16.895141  16.577382 \n"
     ]
    },
    {
     "data": {
      "text/plain": [
       "[16.577382369995117]"
      ]
     },
     "execution_count": 117,
     "metadata": {},
     "output_type": "execute_result"
    }
   ],
   "source": [
    "lr = 1e-3\n",
    "learn.fit(lr, 1, cycle_len=1)\n",
    "# chars\n",
    "# 5.300004   4.813755   0.212666\n",
    "\n",
    "# words+chars\n",
    "#"
   ]
  },
  {
   "cell_type": "code",
   "execution_count": 118,
   "metadata": {
    "ExecuteTime": {
     "end_time": "2018-11-21T23:00:10.417248Z",
     "start_time": "2018-11-21T22:41:51.313082Z"
    }
   },
   "outputs": [
    {
     "data": {
      "application/vnd.jupyter.widget-view+json": {
       "model_id": "cc09b0c52d624eaca7804b1c40c839ba",
       "version_major": 2,
       "version_minor": 0
      },
      "text/plain": [
       "HBox(children=(IntProgress(value=0, description='Epoch', max=3), HTML(value='')))"
      ]
     },
     "metadata": {},
     "output_type": "display_data"
    },
    {
     "name": "stdout",
     "output_type": "stream",
     "text": [
      "epoch      trn_loss   val_loss                               \n",
      "    0      16.074193  15.503848 \n",
      "    1      14.344399  14.171622                              \n",
      "    2      13.327054  13.433134                              \n"
     ]
    },
    {
     "data": {
      "text/plain": [
       "[13.433133728027343]"
      ]
     },
     "execution_count": 118,
     "metadata": {},
     "output_type": "execute_result"
    }
   ],
   "source": [
    "learn.fit(lr, 3, cycle_len=1, use_clr=(10,4))\n",
    "# chars\n",
    "# 1.976117   2.009706   0.107352\n",
    "\n",
    "# words+chars\n",
    "# "
   ]
  },
  {
   "cell_type": "code",
   "execution_count": 119,
   "metadata": {
    "ExecuteTime": {
     "end_time": "2018-11-21T23:00:10.595580Z",
     "start_time": "2018-11-21T23:00:10.501356Z"
    }
   },
   "outputs": [],
   "source": [
    "# learn.save('3x1_word_256')\n",
    "learn.save('3x1_word+char_256')"
   ]
  },
  {
   "cell_type": "markdown",
   "metadata": {
    "heading_collapsed": true
   },
   "source": [
    "# Results"
   ]
  },
  {
   "cell_type": "code",
   "execution_count": 34,
   "metadata": {
    "ExecuteTime": {
     "end_time": "2018-11-13T23:46:28.995535Z",
     "start_time": "2018-11-13T23:46:28.891647Z"
    },
    "hidden": true
   },
   "outputs": [],
   "source": [
    "learn.load('3x1_word_256')"
   ]
  },
  {
   "cell_type": "code",
   "execution_count": 32,
   "metadata": {
    "ExecuteTime": {
     "end_time": "2018-11-30T16:09:51.763811Z",
     "start_time": "2018-11-30T16:09:48.591540Z"
    },
    "hidden": true
   },
   "outputs": [
    {
     "data": {
      "text/plain": [
       "tensor(6.4019, grad_fn=<DivBackward0>)"
      ]
     },
     "execution_count": 32,
     "metadata": {},
     "output_type": "execute_result"
    }
   ],
   "source": [
    "x,y = next(iter(data.val_dl))\n",
    "learn.model.eval()\n",
    "preds,attns = learn.model(x, y, ret_attn=True)   #attns ([sl, 256, bs])\n",
    "res = torch.argmax(preds, dim=-1)\n",
    "\n",
    "seq2seq_loss(preds, y)"
   ]
  },
  {
   "cell_type": "code",
   "execution_count": 33,
   "metadata": {
    "ExecuteTime": {
     "end_time": "2018-11-30T16:09:54.338016Z",
     "start_time": "2018-11-30T16:09:54.279161Z"
    },
    "hidden": true
   },
   "outputs": [
    {
     "data": {
      "text/plain": [
       "0.09816493947886794"
      ]
     },
     "execution_count": 33,
     "metadata": {},
     "output_type": "execute_result"
    }
   ],
   "source": [
    "char_error_rate(preds,y)"
   ]
  },
  {
   "cell_type": "markdown",
   "metadata": {
    "heading_collapsed": true,
    "hidden": true
   },
   "source": [
    "### Text"
   ]
  },
  {
   "cell_type": "code",
   "execution_count": 40,
   "metadata": {
    "ExecuteTime": {
     "end_time": "2018-11-21T16:24:33.033063Z",
     "start_time": "2018-11-21T16:24:32.974112Z"
    },
    "hidden": true
   },
   "outputs": [
    {
     "name": "stdout",
     "output_type": "stream",
     "text": [
      "_unk_ _unk_ _unk_ _eos_\n",
      "_unk_ _unk_ _unk_ _eos_\n",
      "_unk_ _unk_ _unk_ _eos_\n",
      "_unk_ _unk_ _unk_ _eos_\n",
      "_unk_ _unk_ _unk_ _eos_\n",
      "_unk_ _unk_ _unk_ _eos_\n",
      "_unk_ _unk_ _unk_ _eos_\n",
      "_unk_ _unk_ _unk_ _eos_\n",
      "_unk_ _unk_ _unk_ _eos_\n",
      "_unk_ _unk_ _unk_ _eos_\n"
     ]
    }
   ],
   "source": [
    "for i in range(10):\n",
    "    print(label_text(res[:,i]))"
   ]
  },
  {
   "cell_type": "markdown",
   "metadata": {
    "hidden": true
   },
   "source": [
    "### Images"
   ]
  },
  {
   "cell_type": "code",
   "execution_count": 34,
   "metadata": {
    "ExecuteTime": {
     "end_time": "2018-11-30T16:10:03.330735Z",
     "start_time": "2018-11-30T16:10:00.990823Z"
    },
    "hidden": true
   },
   "outputs": [
    {
     "name": "stderr",
     "output_type": "stream",
     "text": [
      "Clipping input data to the valid range for imshow with RGB data ([0..1] for floats or [0..255] for integers).\n",
      "Clipping input data to the valid range for imshow with RGB data ([0..1] for floats or [0..255] for integers).\n",
      "Clipping input data to the valid range for imshow with RGB data ([0..1] for floats or [0..255] for integers).\n",
      "Clipping input data to the valid range for imshow with RGB data ([0..1] for floats or [0..255] for integers).\n",
      "Clipping input data to the valid range for imshow with RGB data ([0..1] for floats or [0..255] for integers).\n",
      "Clipping input data to the valid range for imshow with RGB data ([0..1] for floats or [0..255] for integers).\n",
      "Clipping input data to the valid range for imshow with RGB data ([0..1] for floats or [0..255] for integers).\n"
     ]
    },
    {
     "data": {
      "image/png": "[encoded data removed]",
      "text/plain": [
       "<Figure size 720x720 with 16 Axes>"
      ]
     },
     "metadata": {
      "needs_background": "light"
     },
     "output_type": "display_data"
    }
   ],
   "source": [
    "imgs = data.trn_ds.denorm(x)\n",
    "\n",
    "fig, axes = plt.subplots(4,4, figsize=(10, 10))\n",
    "for i,ax in enumerate(axes.flat):\n",
    "    t = label_text(y[i])     #=>  char indices\n",
    "    p = label_text(res[:,i])\n",
    "    ax=show_img(imgs[i], ax=ax, title=p)#t+' '+p)\n",
    "    \n",
    "plt.tight_layout(pad=0.1)"
   ]
  },
  {
   "cell_type": "markdown",
   "metadata": {
    "hidden": true
   },
   "source": [
    "### Attention"
   ]
  },
  {
   "cell_type": "code",
   "execution_count": 41,
   "metadata": {
    "ExecuteTime": {
     "end_time": "2018-11-30T16:27:39.213804Z",
     "start_time": "2018-11-30T16:27:39.162944Z"
    },
    "hidden": true
   },
   "outputs": [],
   "source": [
    "attns = attns.permute(1,2,0)"
   ]
  },
  {
   "cell_type": "code",
   "execution_count": 37,
   "metadata": {
    "ExecuteTime": {
     "end_time": "2018-11-30T16:26:30.856446Z",
     "start_time": "2018-11-30T16:26:30.797784Z"
    },
    "hidden": true
   },
   "outputs": [],
   "source": [
    "imgs = data.trn_ds.denorm(x)"
   ]
  },
  {
   "cell_type": "code",
   "execution_count": 38,
   "metadata": {
    "ExecuteTime": {
     "end_time": "2018-11-30T16:26:32.185897Z",
     "start_time": "2018-11-30T16:26:32.133813Z"
    },
    "hidden": true
   },
   "outputs": [],
   "source": [
    "def torch_scale_attns(attns):\n",
    "    sl,_,bs = attns.shape\n",
    "    num = sz // 16\n",
    "    mod = attns.permute(2,0,1).view(bs,sl,num,num)\n",
    "    scaled = torch.nn.functional.interpolate(mod, size=sz)\n",
    "    return scaled  #([bs, sl, sz, sz])"
   ]
  },
  {
   "cell_type": "code",
   "execution_count": 39,
   "metadata": {
    "ExecuteTime": {
     "end_time": "2018-11-30T16:26:33.706223Z",
     "start_time": "2018-11-30T16:26:33.638335Z"
    },
    "hidden": true
   },
   "outputs": [],
   "source": [
    "from scipy.ndimage import gaussian_filter\n",
    "\n",
    "def g_filter(att, k=16):\n",
    "    return gaussian_filter(att, sigma=k)"
   ]
  },
  {
   "cell_type": "code",
   "execution_count": 45,
   "metadata": {
    "ExecuteTime": {
     "end_time": "2018-11-30T16:28:54.484424Z",
     "start_time": "2018-11-30T16:28:54.193564Z"
    },
    "hidden": true
   },
   "outputs": [],
   "source": [
    "idx  = 13\n",
    "img  = imgs[idx]\n",
    "pred = res[:,idx]\n",
    "img_attns = to_np(torch_scale_attns(attns)[idx])"
   ]
  },
  {
   "cell_type": "code",
   "execution_count": 60,
   "metadata": {
    "ExecuteTime": {
     "end_time": "2018-11-30T16:37:04.055571Z",
     "start_time": "2018-11-30T16:37:02.610266Z"
    },
    "hidden": true
   },
   "outputs": [
    {
     "data": {
      "image/png": "[encoded data removed]",
      "text/plain": [
       "<Figure size 720x720 with 16 Axes>"
      ]
     },
     "metadata": {
      "needs_background": "light"
     },
     "output_type": "display_data"
    }
   ],
   "source": [
    "fig, axes = plt.subplots(4, 4, figsize=(10, 10), gridspec_kw={'hspace': 0.5})\n",
    "for i,ax in enumerate(axes.flat):\n",
    "    a = g_filter(img_attns[i])\n",
    "    ax.imshow(img, alpha=None)\n",
    "    ax.imshow(a, cmap='Blues', interpolation='nearest', alpha=0.3)\n",
    "    \n",
    "    # Attention\n",
    "    ticks = np.arange(16, sz, 16)\n",
    "    ax.set_yticks(ticks, minor=False)\n",
    "    ax.set_xticks(ticks, minor=False)\n",
    "    ax.yaxis.grid(True)\n",
    "    ax.xaxis.grid(True)\n",
    "\n",
    "    ax.set_title(itos[pred[i].item()])"
   ]
  },
  {
   "cell_type": "markdown",
   "metadata": {
    "heading_collapsed": true
   },
   "source": [
    "# Beam Search"
   ]
  },
  {
   "cell_type": "code",
   "execution_count": 48,
   "metadata": {
    "ExecuteTime": {
     "end_time": "2018-11-13T23:54:29.680995Z",
     "start_time": "2018-11-13T23:54:29.629190Z"
    },
    "hidden": true
   },
   "outputs": [
    {
     "data": {
      "text/plain": [
       "torch.Size([20, 50, 82])"
      ]
     },
     "execution_count": 48,
     "metadata": {},
     "output_type": "execute_result"
    }
   ],
   "source": [
    "preds.shape   #(sl, bs, chars)"
   ]
  },
  {
   "cell_type": "code",
   "execution_count": 115,
   "metadata": {
    "ExecuteTime": {
     "end_time": "2018-11-21T18:10:07.969032Z",
     "start_time": "2018-11-21T18:10:07.941075Z"
    },
    "hidden": true
   },
   "outputs": [
    {
     "data": {
      "text/plain": [
       "(tensor([18.0591, 16.1076, 13.5562], device='cuda:0', grad_fn=<TopkBackward>),\n",
       " tensor([ 340,    2, 1327], device='cuda:0'))"
      ]
     },
     "execution_count": 115,
     "metadata": {},
     "output_type": "execute_result"
    }
   ],
   "source": [
    "prob = preds[:, idx]\n",
    "amts, idxs = torch.topk(prob[1], 3)\n",
    "amts, idxs"
   ]
  },
  {
   "cell_type": "code",
   "execution_count": 116,
   "metadata": {
    "ExecuteTime": {
     "end_time": "2018-11-21T18:10:13.125674Z",
     "start_time": "2018-11-21T18:10:13.099224Z"
    },
    "hidden": true
   },
   "outputs": [
    {
     "data": {
      "text/plain": [
       "['beyond', '_unk_', 'board']"
      ]
     },
     "execution_count": 116,
     "metadata": {},
     "output_type": "execute_result"
    }
   ],
   "source": [
    "[itos[i] for i in idxs]"
   ]
  },
  {
   "cell_type": "code",
   "execution_count": 118,
   "metadata": {
    "ExecuteTime": {
     "end_time": "2018-11-21T18:10:57.986333Z",
     "start_time": "2018-11-21T18:10:57.960708Z"
    },
    "hidden": true
   },
   "outputs": [
    {
     "data": {
      "text/plain": [
       "2"
      ]
     },
     "execution_count": 118,
     "metadata": {},
     "output_type": "execute_result"
    }
   ],
   "source": [
    "word_stoi['legend']"
   ]
  },
  {
   "cell_type": "code",
   "execution_count": null,
   "metadata": {
    "hidden": true
   },
   "outputs": [],
   "source": []
  }
 ],
 "metadata": {
  "kernelspec": {
   "display_name": "Python 3",
   "language": "python",
   "name": "python3"
  },
  "language_info": {
   "codemirror_mode": {
    "name": "ipython",
    "version": 3
   },
   "file_extension": ".py",
   "mimetype": "text/x-python",
   "name": "python",
   "nbconvert_exporter": "python",
   "pygments_lexer": "ipython3",
   "version": "3.6.6"
  },
  "notify_time": "30",
  "toc": {
   "nav_menu": {},
   "number_sections": true,
   "sideBar": true,
   "skip_h1_title": false,
   "title_cell": "Table of Contents",
   "title_sidebar": "Contents",
   "toc_cell": false,
   "toc_position": {},
   "toc_section_display": true,
   "toc_window_display": false
  },
  "varInspector": {
   "cols": {
    "lenName": 16,
    "lenType": 16,
    "lenVar": 40
   },
   "kernels_config": {
    "python": {
     "delete_cmd_postfix": "",
     "delete_cmd_prefix": "del ",
     "library": "var_list.py",
     "varRefreshCmd": "print(var_dic_list())"
    },
    "r": {
     "delete_cmd_postfix": ") ",
     "delete_cmd_prefix": "rm(",
     "library": "var_list.r",
     "varRefreshCmd": "cat(var_dic_list()) "
    }
   },
   "types_to_exclude": [
    "module",
    "function",
    "builtin_function_or_method",
    "instance",
    "_Feature"
   ],
   "window_display": false
  }
 },
 "nbformat": 4,
 "nbformat_minor": 2
}
