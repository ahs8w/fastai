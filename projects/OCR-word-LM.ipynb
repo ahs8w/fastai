{
 "cells": [
  {
   "cell_type": "code",
   "execution_count": 1,
   "metadata": {
    "ExecuteTime": {
     "end_time": "2018-12-24T22:19:45.527407Z",
     "start_time": "2018-12-24T22:19:45.140024Z"
    }
   },
   "outputs": [],
   "source": [
    "%matplotlib inline\n",
    "%reload_ext autoreload\n",
    "%autoreload 2"
   ]
  },
  {
   "cell_type": "code",
   "execution_count": 2,
   "metadata": {
    "ExecuteTime": {
     "end_time": "2018-12-24T22:19:50.106098Z",
     "start_time": "2018-12-24T22:19:45.539200Z"
    }
   },
   "outputs": [],
   "source": [
    "from fastai.conv_learner import *\n",
    "from fastai.text import *"
   ]
  },
  {
   "cell_type": "code",
   "execution_count": 3,
   "metadata": {
    "ExecuteTime": {
     "end_time": "2018-12-24T22:19:50.155177Z",
     "start_time": "2018-12-24T22:19:50.135631Z"
    }
   },
   "outputs": [],
   "source": [
    "PATH = Path('data/IAM_handwriting')\n",
    "TMP_PATH = PATH/'tmp'\n",
    "CSV = PATH/'words.csv'\n",
    "\n",
    "# !ls {PATH}"
   ]
  },
  {
   "cell_type": "code",
   "execution_count": 4,
   "metadata": {
    "ExecuteTime": {
     "end_time": "2018-12-24T22:19:50.207797Z",
     "start_time": "2018-12-24T22:19:50.185326Z"
    }
   },
   "outputs": [
    {
     "data": {
      "text/plain": [
       "device(type='cuda')"
      ]
     },
     "execution_count": 4,
     "metadata": {},
     "output_type": "execute_result"
    }
   ],
   "source": [
    "device = torch.device('cuda' if torch.cuda.is_available() else 'cpu')\n",
    "device"
   ]
  },
  {
   "cell_type": "markdown",
   "metadata": {
    "heading_collapsed": true
   },
   "source": [
    "# Prelim"
   ]
  },
  {
   "cell_type": "markdown",
   "metadata": {
    "heading_collapsed": true,
    "hidden": true
   },
   "source": [
    "### Manual DataFrame"
   ]
  },
  {
   "cell_type": "code",
   "execution_count": 9,
   "metadata": {
    "ExecuteTime": {
     "end_time": "2018-11-21T16:49:16.453935Z",
     "start_time": "2018-11-21T16:49:15.323245Z"
    },
    "collapsed": true,
    "hidden": true
   },
   "outputs": [],
   "source": [
    "maxTextLen = 32\n",
    "samples = []\n",
    "chars = set()\n",
    "\n",
    "f=open(f'{PATH}/ascii/words.txt')\n",
    "for line in f:\n",
    "    # ignore comment line\n",
    "    if not line or line[0]=='#':\n",
    "        continue\n",
    "\n",
    "    lineSplit = line.strip().split(' ')\n",
    "    assert len(lineSplit) >= 9\n",
    "\n",
    "    fileName = lineSplit[0]\n",
    "\n",
    "    # GT text are columns starting at 9\n",
    "    gtText = ''.join(lineSplit[8:])[:maxTextLen]\n",
    "    char_len = len(gtText)\n",
    "    chars = chars.union(set(list(gtText)))\n",
    "\n",
    "    # put sample into list\n",
    "    samples.append([fileName, gtText, char_len])\n",
    "    \n",
    "data = np.stack(samples)\n",
    "df = pd.DataFrame(data, columns=['filename', 'word', 'char_len'], )"
   ]
  },
  {
   "cell_type": "code",
   "execution_count": 10,
   "metadata": {
    "ExecuteTime": {
     "end_time": "2018-11-21T16:49:16.962275Z",
     "start_time": "2018-11-21T16:49:16.892075Z"
    },
    "hidden": true
   },
   "outputs": [
    {
     "data": {
      "text/html": [
       "<div>\n",
       "<style scoped>\n",
       "    .dataframe tbody tr th:only-of-type {\n",
       "        vertical-align: middle;\n",
       "    }\n",
       "\n",
       "    .dataframe tbody tr th {\n",
       "        vertical-align: top;\n",
       "    }\n",
       "\n",
       "    .dataframe thead th {\n",
       "        text-align: right;\n",
       "    }\n",
       "</style>\n",
       "<table border=\"1\" class=\"dataframe\">\n",
       "  <thead>\n",
       "    <tr style=\"text-align: right;\">\n",
       "      <th></th>\n",
       "      <th>filename</th>\n",
       "      <th>word</th>\n",
       "      <th>char_len</th>\n",
       "    </tr>\n",
       "  </thead>\n",
       "  <tbody>\n",
       "    <tr>\n",
       "      <th>1</th>\n",
       "      <td>a01-000u-00-01</td>\n",
       "      <td>MOVE</td>\n",
       "      <td>4</td>\n",
       "    </tr>\n",
       "    <tr>\n",
       "      <th>3</th>\n",
       "      <td>a01-000u-00-03</td>\n",
       "      <td>stop</td>\n",
       "      <td>4</td>\n",
       "    </tr>\n",
       "    <tr>\n",
       "      <th>5</th>\n",
       "      <td>a01-000u-00-05</td>\n",
       "      <td>Gaitskell</td>\n",
       "      <td>9</td>\n",
       "    </tr>\n",
       "    <tr>\n",
       "      <th>6</th>\n",
       "      <td>a01-000u-00-06</td>\n",
       "      <td>from</td>\n",
       "      <td>4</td>\n",
       "    </tr>\n",
       "    <tr>\n",
       "      <th>7</th>\n",
       "      <td>a01-000u-01-00</td>\n",
       "      <td>nominating</td>\n",
       "      <td>10</td>\n",
       "    </tr>\n",
       "  </tbody>\n",
       "</table>\n",
       "</div>"
      ],
      "text/plain": [
       "         filename        word  char_len\n",
       "1  a01-000u-00-01        MOVE         4\n",
       "3  a01-000u-00-03        stop         4\n",
       "5  a01-000u-00-05   Gaitskell         9\n",
       "6  a01-000u-00-06        from         4\n",
       "7  a01-000u-01-00  nominating        10"
      ]
     },
     "execution_count": 10,
     "metadata": {},
     "output_type": "execute_result"
    }
   ],
   "source": [
    "df['char_len'] = df.char_len.astype('int32')\n",
    "df = df.loc[df['char_len'] > 3]\n",
    "df.head()"
   ]
  },
  {
   "cell_type": "markdown",
   "metadata": {
    "heading_collapsed": true,
    "hidden": true
   },
   "source": [
    "### word itos"
   ]
  },
  {
   "cell_type": "code",
   "execution_count": 11,
   "metadata": {
    "ExecuteTime": {
     "end_time": "2018-11-21T16:49:32.098729Z",
     "start_time": "2018-11-21T16:49:31.924696Z"
    },
    "hidden": true,
    "scrolled": true
   },
   "outputs": [
    {
     "data": {
      "text/plain": [
       "5902"
      ]
     },
     "execution_count": 11,
     "metadata": {},
     "output_type": "execute_result"
    }
   ],
   "source": [
    "freq = Counter(df.word)\n",
    "min_freq = 1\n",
    "\n",
    "itos = [o for o,c in freq.most_common() if c>min_freq]\n",
    "itos.insert(0, '_pad_')\n",
    "itos.insert(1, ' ')\n",
    "itos.insert(2, '_unk_')\n",
    "itos.insert(3, '_eos_')\n",
    "len(itos)"
   ]
  },
  {
   "cell_type": "code",
   "execution_count": 12,
   "metadata": {
    "ExecuteTime": {
     "end_time": "2018-11-21T16:49:32.979435Z",
     "start_time": "2018-11-21T16:49:32.955046Z"
    },
    "collapsed": true,
    "hidden": true
   },
   "outputs": [],
   "source": [
    "word_itos = itos"
   ]
  },
  {
   "cell_type": "code",
   "execution_count": 13,
   "metadata": {
    "ExecuteTime": {
     "end_time": "2018-11-21T16:49:43.845064Z",
     "start_time": "2018-11-21T16:49:43.817178Z"
    },
    "collapsed": true,
    "hidden": true
   },
   "outputs": [],
   "source": [
    "pickle.dump(word_itos, open(TMP_PATH/'synth_word_itos.pkl', 'wb'))"
   ]
  },
  {
   "cell_type": "markdown",
   "metadata": {
    "heading_collapsed": true,
    "hidden": true
   },
   "source": [
    "### Convert synth_words.csv to word_ids"
   ]
  },
  {
   "cell_type": "code",
   "execution_count": 14,
   "metadata": {
    "ExecuteTime": {
     "end_time": "2018-11-21T16:50:27.656125Z",
     "start_time": "2018-11-21T16:50:27.631022Z"
    },
    "collapsed": true,
    "hidden": true
   },
   "outputs": [],
   "source": [
    "# this is specific to synth_words.csv\n",
    "# char_itos = pickle.load(open(TMP_PATH/'synth_char_itos.pkl', 'rb'))\n",
    "char_itos = pickle.load(open(TMP_PATH/'char_itos.pkl', 'rb'))"
   ]
  },
  {
   "cell_type": "markdown",
   "metadata": {
    "hidden": true
   },
   "source": [
    "#### Convert char_ids -> words -> word_ids"
   ]
  },
  {
   "cell_type": "code",
   "execution_count": 16,
   "metadata": {
    "ExecuteTime": {
     "end_time": "2018-11-21T16:51:08.211901Z",
     "start_time": "2018-11-21T16:51:08.087594Z"
    },
    "hidden": true,
    "scrolled": true
   },
   "outputs": [
    {
     "data": {
      "text/html": [
       "<div>\n",
       "<style scoped>\n",
       "    .dataframe tbody tr th:only-of-type {\n",
       "        vertical-align: middle;\n",
       "    }\n",
       "\n",
       "    .dataframe tbody tr th {\n",
       "        vertical-align: top;\n",
       "    }\n",
       "\n",
       "    .dataframe thead th {\n",
       "        text-align: right;\n",
       "    }\n",
       "</style>\n",
       "<table border=\"1\" class=\"dataframe\">\n",
       "  <thead>\n",
       "    <tr style=\"text-align: right;\">\n",
       "      <th></th>\n",
       "      <th>filename</th>\n",
       "      <th>char_ids</th>\n",
       "    </tr>\n",
       "  </thead>\n",
       "  <tbody>\n",
       "    <tr>\n",
       "      <th>0</th>\n",
       "      <td>000.png</td>\n",
       "      <td>68 70 74 75 1 71 60 70 71 67 60 1 59 64 74 58 3</td>\n",
       "    </tr>\n",
       "    <tr>\n",
       "      <th>1</th>\n",
       "      <td>001.png</td>\n",
       "      <td>75 63 60 68 1 70 58 58 76 73 74 1 59 73 64 60 ...</td>\n",
       "    </tr>\n",
       "    <tr>\n",
       "      <th>2</th>\n",
       "      <td>002.png</td>\n",
       "      <td>59 60 67 64 62 63 75 1 73 60 56 74 70 69 56 57...</td>\n",
       "    </tr>\n",
       "    <tr>\n",
       "      <th>3</th>\n",
       "      <td>003.png</td>\n",
       "      <td>75 63 60 80 1 56 61 75 60 73 1 73 60 56 59 80 3</td>\n",
       "    </tr>\n",
       "    <tr>\n",
       "      <th>4</th>\n",
       "      <td>004.png</td>\n",
       "      <td>58 63 70 74 60 69 1 56 67 56 73 68 60 59 1 56 ...</td>\n",
       "    </tr>\n",
       "  </tbody>\n",
       "</table>\n",
       "</div>"
      ],
      "text/plain": [
       "  filename                                           char_ids\n",
       "0  000.png    68 70 74 75 1 71 60 70 71 67 60 1 59 64 74 58 3\n",
       "1  001.png  75 63 60 68 1 70 58 58 76 73 74 1 59 73 64 60 ...\n",
       "2  002.png  59 60 67 64 62 63 75 1 73 60 56 74 70 69 56 57...\n",
       "3  003.png    75 63 60 80 1 56 61 75 60 73 1 73 60 56 59 80 3\n",
       "4  004.png  58 63 70 74 60 69 1 56 67 56 73 68 60 59 1 56 ..."
      ]
     },
     "execution_count": 16,
     "metadata": {},
     "output_type": "execute_result"
    }
   ],
   "source": [
    "CSV = PATH/'synth_words_50000.csv'\n",
    "csv = pd.read_csv(CSV)\n",
    "csv.head()"
   ]
  },
  {
   "cell_type": "code",
   "execution_count": 24,
   "metadata": {
    "ExecuteTime": {
     "end_time": "2018-11-21T16:53:29.936534Z",
     "start_time": "2018-11-21T16:53:29.559313Z"
    },
    "collapsed": true,
    "hidden": true
   },
   "outputs": [],
   "source": [
    "res = [''.join([char_itos[int(c)] for c in line[:-2].split(' ')]) for line in csv.char_ids]"
   ]
  },
  {
   "cell_type": "code",
   "execution_count": 25,
   "metadata": {
    "ExecuteTime": {
     "end_time": "2018-11-21T16:53:33.686163Z",
     "start_time": "2018-11-21T16:53:33.650517Z"
    },
    "hidden": true
   },
   "outputs": [
    {
     "data": {
      "text/html": [
       "<div>\n",
       "<style scoped>\n",
       "    .dataframe tbody tr th:only-of-type {\n",
       "        vertical-align: middle;\n",
       "    }\n",
       "\n",
       "    .dataframe tbody tr th {\n",
       "        vertical-align: top;\n",
       "    }\n",
       "\n",
       "    .dataframe thead th {\n",
       "        text-align: right;\n",
       "    }\n",
       "</style>\n",
       "<table border=\"1\" class=\"dataframe\">\n",
       "  <thead>\n",
       "    <tr style=\"text-align: right;\">\n",
       "      <th></th>\n",
       "      <th>filename</th>\n",
       "      <th>char_ids</th>\n",
       "      <th>words</th>\n",
       "    </tr>\n",
       "  </thead>\n",
       "  <tbody>\n",
       "    <tr>\n",
       "      <th>0</th>\n",
       "      <td>000.png</td>\n",
       "      <td>68 70 74 75 1 71 60 70 71 67 60 1 59 64 74 58 3</td>\n",
       "      <td>most people disc</td>\n",
       "    </tr>\n",
       "    <tr>\n",
       "      <th>1</th>\n",
       "      <td>001.png</td>\n",
       "      <td>75 63 60 68 1 70 58 58 76 73 74 1 59 73 64 60 ...</td>\n",
       "      <td>them occurs dried</td>\n",
       "    </tr>\n",
       "    <tr>\n",
       "      <th>2</th>\n",
       "      <td>002.png</td>\n",
       "      <td>59 60 67 64 62 63 75 1 73 60 56 74 70 69 56 57...</td>\n",
       "      <td>delight reasonably could</td>\n",
       "    </tr>\n",
       "    <tr>\n",
       "      <th>3</th>\n",
       "      <td>003.png</td>\n",
       "      <td>75 63 60 80 1 56 61 75 60 73 1 73 60 56 59 80 3</td>\n",
       "      <td>they after ready</td>\n",
       "    </tr>\n",
       "    <tr>\n",
       "      <th>4</th>\n",
       "      <td>004.png</td>\n",
       "      <td>58 63 70 74 60 69 1 56 67 56 73 68 60 59 1 56 ...</td>\n",
       "      <td>chosen alarmed authority</td>\n",
       "    </tr>\n",
       "  </tbody>\n",
       "</table>\n",
       "</div>"
      ],
      "text/plain": [
       "  filename                                           char_ids  \\\n",
       "0  000.png    68 70 74 75 1 71 60 70 71 67 60 1 59 64 74 58 3   \n",
       "1  001.png  75 63 60 68 1 70 58 58 76 73 74 1 59 73 64 60 ...   \n",
       "2  002.png  59 60 67 64 62 63 75 1 73 60 56 74 70 69 56 57...   \n",
       "3  003.png    75 63 60 80 1 56 61 75 60 73 1 73 60 56 59 80 3   \n",
       "4  004.png  58 63 70 74 60 69 1 56 67 56 73 68 60 59 1 56 ...   \n",
       "\n",
       "                      words  \n",
       "0          most people disc  \n",
       "1         them occurs dried  \n",
       "2  delight reasonably could  \n",
       "3          they after ready  \n",
       "4  chosen alarmed authority  "
      ]
     },
     "execution_count": 25,
     "metadata": {},
     "output_type": "execute_result"
    }
   ],
   "source": [
    "csv['words'] = res\n",
    "csv.head()"
   ]
  },
  {
   "cell_type": "code",
   "execution_count": 26,
   "metadata": {
    "ExecuteTime": {
     "end_time": "2018-11-21T16:54:00.645283Z",
     "start_time": "2018-11-21T16:54:00.454361Z"
    },
    "collapsed": true,
    "hidden": true
   },
   "outputs": [],
   "source": [
    "joined_labels = list(csv.words)\n",
    "\n",
    "word_stoi = collections.defaultdict(lambda: 2, {v:k for k,v in enumerate(word_itos)})\n",
    "ids = np.array([np.array([word_stoi[word] for word in line.split(' ')]+[3]) for line in joined_labels])"
   ]
  },
  {
   "cell_type": "code",
   "execution_count": 27,
   "metadata": {
    "ExecuteTime": {
     "end_time": "2018-11-21T16:54:03.535139Z",
     "start_time": "2018-11-21T16:54:03.197573Z"
    },
    "collapsed": true,
    "hidden": true
   },
   "outputs": [],
   "source": [
    "# convert to strings (as labels)\n",
    "str_ids = np.array([' '.join(str(l) for l in w) for w in ids]).reshape(-1,1)"
   ]
  },
  {
   "cell_type": "code",
   "execution_count": 28,
   "metadata": {
    "ExecuteTime": {
     "end_time": "2018-11-21T16:54:09.610492Z",
     "start_time": "2018-11-21T16:54:09.544693Z"
    },
    "hidden": true,
    "scrolled": true
   },
   "outputs": [
    {
     "data": {
      "text/html": [
       "<div>\n",
       "<style scoped>\n",
       "    .dataframe tbody tr th:only-of-type {\n",
       "        vertical-align: middle;\n",
       "    }\n",
       "\n",
       "    .dataframe tbody tr th {\n",
       "        vertical-align: top;\n",
       "    }\n",
       "\n",
       "    .dataframe thead th {\n",
       "        text-align: right;\n",
       "    }\n",
       "</style>\n",
       "<table border=\"1\" class=\"dataframe\">\n",
       "  <thead>\n",
       "    <tr style=\"text-align: right;\">\n",
       "      <th></th>\n",
       "      <th>filename</th>\n",
       "      <th>char_ids</th>\n",
       "      <th>words</th>\n",
       "      <th>word_ids</th>\n",
       "    </tr>\n",
       "  </thead>\n",
       "  <tbody>\n",
       "    <tr>\n",
       "      <th>0</th>\n",
       "      <td>000.png</td>\n",
       "      <td>68 70 74 75 1 71 60 70 71 67 60 1 59 64 74 58 3</td>\n",
       "      <td>most people disc</td>\n",
       "      <td>49 38 2597 3</td>\n",
       "    </tr>\n",
       "    <tr>\n",
       "      <th>1</th>\n",
       "      <td>001.png</td>\n",
       "      <td>75 63 60 68 1 70 58 58 76 73 74 1 59 73 64 60 ...</td>\n",
       "      <td>them occurs dried</td>\n",
       "      <td>22 5524 1904 3</td>\n",
       "    </tr>\n",
       "    <tr>\n",
       "      <th>2</th>\n",
       "      <td>002.png</td>\n",
       "      <td>59 60 67 64 62 63 75 1 73 60 56 74 70 69 56 57...</td>\n",
       "      <td>delight reasonably could</td>\n",
       "      <td>4731 1572 27 3</td>\n",
       "    </tr>\n",
       "    <tr>\n",
       "      <th>3</th>\n",
       "      <td>003.png</td>\n",
       "      <td>75 63 60 80 1 56 61 75 60 73 1 73 60 56 59 80 3</td>\n",
       "      <td>they after ready</td>\n",
       "      <td>13 66 716 3</td>\n",
       "    </tr>\n",
       "    <tr>\n",
       "      <th>4</th>\n",
       "      <td>004.png</td>\n",
       "      <td>58 63 70 74 60 69 1 56 67 56 73 68 60 59 1 56 ...</td>\n",
       "      <td>chosen alarmed authority</td>\n",
       "      <td>1455 4242 849 3</td>\n",
       "    </tr>\n",
       "  </tbody>\n",
       "</table>\n",
       "</div>"
      ],
      "text/plain": [
       "  filename                                           char_ids  \\\n",
       "0  000.png    68 70 74 75 1 71 60 70 71 67 60 1 59 64 74 58 3   \n",
       "1  001.png  75 63 60 68 1 70 58 58 76 73 74 1 59 73 64 60 ...   \n",
       "2  002.png  59 60 67 64 62 63 75 1 73 60 56 74 70 69 56 57...   \n",
       "3  003.png    75 63 60 80 1 56 61 75 60 73 1 73 60 56 59 80 3   \n",
       "4  004.png  58 63 70 74 60 69 1 56 67 56 73 68 60 59 1 56 ...   \n",
       "\n",
       "                      words         word_ids  \n",
       "0          most people disc     49 38 2597 3  \n",
       "1         them occurs dried   22 5524 1904 3  \n",
       "2  delight reasonably could   4731 1572 27 3  \n",
       "3          they after ready      13 66 716 3  \n",
       "4  chosen alarmed authority  1455 4242 849 3  "
      ]
     },
     "execution_count": 28,
     "metadata": {},
     "output_type": "execute_result"
    }
   ],
   "source": [
    "csv['word_ids'] = str_ids\n",
    "csv.head()"
   ]
  },
  {
   "cell_type": "markdown",
   "metadata": {
    "heading_collapsed": true,
    "hidden": true
   },
   "source": [
    "#### modify filenames to fit existing data structure"
   ]
  },
  {
   "cell_type": "code",
   "execution_count": 157,
   "metadata": {
    "ExecuteTime": {
     "end_time": "2018-11-16T17:17:23.574424Z",
     "start_time": "2018-11-16T17:17:23.517005Z"
    },
    "hidden": true
   },
   "outputs": [
    {
     "data": {
      "text/plain": [
       "['9995.png', '9996.png', '9997.png', '9998.png', '9999.png']"
      ]
     },
     "execution_count": 157,
     "metadata": {},
     "output_type": "execute_result"
    }
   ],
   "source": [
    "res = ['{:04d}'.format(i)+'.png' for i in range(10000)]"
   ]
  },
  {
   "cell_type": "code",
   "execution_count": 159,
   "metadata": {
    "ExecuteTime": {
     "end_time": "2018-11-16T17:18:44.127905Z",
     "start_time": "2018-11-16T17:18:44.076596Z"
    },
    "collapsed": true,
    "hidden": true
   },
   "outputs": [],
   "source": [
    "csv['filename'] = res"
   ]
  },
  {
   "cell_type": "markdown",
   "metadata": {
    "heading_collapsed": true,
    "hidden": true
   },
   "source": [
    "### Convert multi_synth_words.csv to word_ids"
   ]
  },
  {
   "cell_type": "code",
   "execution_count": 12,
   "metadata": {
    "ExecuteTime": {
     "end_time": "2018-12-11T22:38:34.805009Z",
     "start_time": "2018-12-11T22:38:34.026505Z"
    },
    "collapsed": true,
    "hidden": true
   },
   "outputs": [],
   "source": [
    "res = [''.join([itos[int(c)] for c in line[:-2].split(' ')]) for line in csv.char_ids]"
   ]
  },
  {
   "cell_type": "code",
   "execution_count": 14,
   "metadata": {
    "ExecuteTime": {
     "end_time": "2018-12-11T22:38:47.616626Z",
     "start_time": "2018-12-11T22:38:47.581638Z"
    },
    "hidden": true
   },
   "outputs": [
    {
     "data": {
      "text/html": [
       "<div>\n",
       "<style scoped>\n",
       "    .dataframe tbody tr th:only-of-type {\n",
       "        vertical-align: middle;\n",
       "    }\n",
       "\n",
       "    .dataframe tbody tr th {\n",
       "        vertical-align: top;\n",
       "    }\n",
       "\n",
       "    .dataframe thead th {\n",
       "        text-align: right;\n",
       "    }\n",
       "</style>\n",
       "<table border=\"1\" class=\"dataframe\">\n",
       "  <thead>\n",
       "    <tr style=\"text-align: right;\">\n",
       "      <th></th>\n",
       "      <th>filename</th>\n",
       "      <th>char_ids</th>\n",
       "      <th>words</th>\n",
       "    </tr>\n",
       "  </thead>\n",
       "  <tbody>\n",
       "    <tr>\n",
       "      <th>0</th>\n",
       "      <td>0000.png</td>\n",
       "      <td>67 56 58 60 14 1 59 60 56 75 63 1 61 70 76 73 ...</td>\n",
       "      <td>lace- death four warily considerably without</td>\n",
       "    </tr>\n",
       "    <tr>\n",
       "      <th>1</th>\n",
       "      <td>0001.png</td>\n",
       "      <td>61 70 70 59 1 75 78 60 69 75 64 60 75 63 1 52 ...</td>\n",
       "      <td>food twentieth Western been proved Rhodesia</td>\n",
       "    </tr>\n",
       "    <tr>\n",
       "      <th>2</th>\n",
       "      <td>0002.png</td>\n",
       "      <td>75 56 74 66 1 58 63 70 64 58 60 1 57 60 64 69 ...</td>\n",
       "      <td>task choice being longshore which childless</td>\n",
       "    </tr>\n",
       "    <tr>\n",
       "      <th>3</th>\n",
       "      <td>0003.png</td>\n",
       "      <td>56 59 77 64 74 60 73 74 1 75 63 56 75 1 36 34 ...</td>\n",
       "      <td>advisers that GENERAL were false example</td>\n",
       "    </tr>\n",
       "    <tr>\n",
       "      <th>4</th>\n",
       "      <td>0004.png</td>\n",
       "      <td>60 74 71 60 58 64 56 67 67 80 1 49 63 56 75 1 ...</td>\n",
       "      <td>especially That step rolls know been</td>\n",
       "    </tr>\n",
       "  </tbody>\n",
       "</table>\n",
       "</div>"
      ],
      "text/plain": [
       "   filename                                           char_ids  \\\n",
       "0  0000.png  67 56 58 60 14 1 59 60 56 75 63 1 61 70 76 73 ...   \n",
       "1  0001.png  61 70 70 59 1 75 78 60 69 75 64 60 75 63 1 52 ...   \n",
       "2  0002.png  75 56 74 66 1 58 63 70 64 58 60 1 57 60 64 69 ...   \n",
       "3  0003.png  56 59 77 64 74 60 73 74 1 75 63 56 75 1 36 34 ...   \n",
       "4  0004.png  60 74 71 60 58 64 56 67 67 80 1 49 63 56 75 1 ...   \n",
       "\n",
       "                                          words  \n",
       "0  lace- death four warily considerably without  \n",
       "1   food twentieth Western been proved Rhodesia  \n",
       "2   task choice being longshore which childless  \n",
       "3      advisers that GENERAL were false example  \n",
       "4          especially That step rolls know been  "
      ]
     },
     "execution_count": 14,
     "metadata": {},
     "output_type": "execute_result"
    }
   ],
   "source": [
    "csv['words'] = res\n",
    "csv.head()"
   ]
  },
  {
   "cell_type": "code",
   "execution_count": 15,
   "metadata": {
    "ExecuteTime": {
     "end_time": "2018-12-11T22:38:58.912075Z",
     "start_time": "2018-12-11T22:38:58.633707Z"
    },
    "collapsed": true,
    "hidden": true
   },
   "outputs": [],
   "source": [
    "joined_labels = list(csv.words)\n",
    "\n",
    "word_stoi = collections.defaultdict(lambda: 2, {v:k for k,v in enumerate(w_itos)})\n",
    "ids = np.array([np.array([word_stoi[word] for word in line.split(' ')]+[3]) for line in joined_labels])"
   ]
  },
  {
   "cell_type": "code",
   "execution_count": 16,
   "metadata": {
    "ExecuteTime": {
     "end_time": "2018-12-11T22:39:00.793958Z",
     "start_time": "2018-12-11T22:39:00.347764Z"
    },
    "collapsed": true,
    "hidden": true
   },
   "outputs": [],
   "source": [
    "# convert to strings (as labels)\n",
    "str_ids = np.array([' '.join(str(l) for l in w) for w in ids]).reshape(-1,1)"
   ]
  },
  {
   "cell_type": "code",
   "execution_count": 17,
   "metadata": {
    "ExecuteTime": {
     "end_time": "2018-12-11T22:39:05.755740Z",
     "start_time": "2018-12-11T22:39:05.673596Z"
    },
    "hidden": true,
    "scrolled": true
   },
   "outputs": [
    {
     "data": {
      "text/html": [
       "<div>\n",
       "<style scoped>\n",
       "    .dataframe tbody tr th:only-of-type {\n",
       "        vertical-align: middle;\n",
       "    }\n",
       "\n",
       "    .dataframe tbody tr th {\n",
       "        vertical-align: top;\n",
       "    }\n",
       "\n",
       "    .dataframe thead th {\n",
       "        text-align: right;\n",
       "    }\n",
       "</style>\n",
       "<table border=\"1\" class=\"dataframe\">\n",
       "  <thead>\n",
       "    <tr style=\"text-align: right;\">\n",
       "      <th></th>\n",
       "      <th>filename</th>\n",
       "      <th>char_ids</th>\n",
       "      <th>words</th>\n",
       "      <th>word_ids</th>\n",
       "    </tr>\n",
       "  </thead>\n",
       "  <tbody>\n",
       "    <tr>\n",
       "      <th>0</th>\n",
       "      <td>0000.png</td>\n",
       "      <td>67 56 58 60 14 1 59 60 56 75 63 1 61 70 76 73 ...</td>\n",
       "      <td>lace- death four warily considerably without</td>\n",
       "      <td>2 277 129 2 4775 99 3</td>\n",
       "    </tr>\n",
       "    <tr>\n",
       "      <th>1</th>\n",
       "      <td>0001.png</td>\n",
       "      <td>61 70 70 59 1 75 78 60 69 75 64 60 75 63 1 52 ...</td>\n",
       "      <td>food twentieth Western been proved Rhodesia</td>\n",
       "      <td>342 2 1311 9 523 327 3</td>\n",
       "    </tr>\n",
       "    <tr>\n",
       "      <th>2</th>\n",
       "      <td>0002.png</td>\n",
       "      <td>75 56 74 66 1 58 63 70 64 58 60 1 57 60 64 69 ...</td>\n",
       "      <td>task choice being longshore which childless</td>\n",
       "      <td>1465 2094 23 2 6 1616 3</td>\n",
       "    </tr>\n",
       "    <tr>\n",
       "      <th>3</th>\n",
       "      <td>0003.png</td>\n",
       "      <td>56 59 77 64 74 60 73 74 1 75 63 56 75 1 36 34 ...</td>\n",
       "      <td>advisers that GENERAL were false example</td>\n",
       "      <td>2412 4 4331 11 477 930 3</td>\n",
       "    </tr>\n",
       "    <tr>\n",
       "      <th>4</th>\n",
       "      <td>0004.png</td>\n",
       "      <td>60 74 71 60 58 64 56 67 67 80 1 49 63 56 75 1 ...</td>\n",
       "      <td>especially That step rolls know been</td>\n",
       "      <td>735 106 949 2 56 9 3</td>\n",
       "    </tr>\n",
       "  </tbody>\n",
       "</table>\n",
       "</div>"
      ],
      "text/plain": [
       "   filename                                           char_ids  \\\n",
       "0  0000.png  67 56 58 60 14 1 59 60 56 75 63 1 61 70 76 73 ...   \n",
       "1  0001.png  61 70 70 59 1 75 78 60 69 75 64 60 75 63 1 52 ...   \n",
       "2  0002.png  75 56 74 66 1 58 63 70 64 58 60 1 57 60 64 69 ...   \n",
       "3  0003.png  56 59 77 64 74 60 73 74 1 75 63 56 75 1 36 34 ...   \n",
       "4  0004.png  60 74 71 60 58 64 56 67 67 80 1 49 63 56 75 1 ...   \n",
       "\n",
       "                                          words                  word_ids  \n",
       "0  lace- death four warily considerably without     2 277 129 2 4775 99 3  \n",
       "1   food twentieth Western been proved Rhodesia    342 2 1311 9 523 327 3  \n",
       "2   task choice being longshore which childless   1465 2094 23 2 6 1616 3  \n",
       "3      advisers that GENERAL were false example  2412 4 4331 11 477 930 3  \n",
       "4          especially That step rolls know been      735 106 949 2 56 9 3  "
      ]
     },
     "execution_count": 17,
     "metadata": {},
     "output_type": "execute_result"
    }
   ],
   "source": [
    "csv['word_ids'] = str_ids\n",
    "csv.head()"
   ]
  },
  {
   "cell_type": "code",
   "execution_count": 18,
   "metadata": {
    "ExecuteTime": {
     "end_time": "2018-12-11T22:39:15.225345Z",
     "start_time": "2018-12-11T22:39:15.074495Z"
    },
    "collapsed": true,
    "hidden": true
   },
   "outputs": [],
   "source": [
    "W_CSV = PATH/'multi_synth_word_ids.csv'\n",
    "csv.to_csv(W_CSV, columns=['filename', 'word_ids'], index=False)"
   ]
  },
  {
   "cell_type": "markdown",
   "metadata": {
    "heading_collapsed": true,
    "hidden": true
   },
   "source": [
    "### Convert synth_words.csv to char_itos format"
   ]
  },
  {
   "cell_type": "code",
   "execution_count": null,
   "metadata": {
    "collapsed": true,
    "hidden": true
   },
   "outputs": [],
   "source": [
    "old_char_itos = pickle.load(open(TMP_PATH/'synth_char_itos.pkl', 'rb'))"
   ]
  },
  {
   "cell_type": "code",
   "execution_count": 87,
   "metadata": {
    "ExecuteTime": {
     "end_time": "2018-11-21T18:59:59.230392Z",
     "start_time": "2018-11-21T18:59:59.100435Z"
    },
    "collapsed": true,
    "hidden": true
   },
   "outputs": [],
   "source": [
    "res = [''.join([old_char_itos[int(c)] for c in line.split(' ')]) for line in char_csv.char_ids]"
   ]
  },
  {
   "cell_type": "code",
   "execution_count": 88,
   "metadata": {
    "ExecuteTime": {
     "end_time": "2018-11-21T19:00:05.755736Z",
     "start_time": "2018-11-21T19:00:05.646547Z"
    },
    "collapsed": true,
    "hidden": true
   },
   "outputs": [],
   "source": [
    "char_stoi = collections.defaultdict(lambda: 2, {v:k for k,v in enumerate(char_itos)})\n",
    "ids = np.array([np.array([char_stoi[char] for char in list(line)]+[3]) for line in res])"
   ]
  },
  {
   "cell_type": "code",
   "execution_count": 89,
   "metadata": {
    "ExecuteTime": {
     "end_time": "2018-11-21T19:00:07.147126Z",
     "start_time": "2018-11-21T19:00:06.909929Z"
    },
    "collapsed": true,
    "hidden": true
   },
   "outputs": [],
   "source": [
    "# convert to strings (as labels)\n",
    "str_ids = np.array([' '.join(str(l) for l in w) for w in ids]).reshape(-1,1)"
   ]
  },
  {
   "cell_type": "code",
   "execution_count": 90,
   "metadata": {
    "ExecuteTime": {
     "end_time": "2018-11-21T19:00:08.480870Z",
     "start_time": "2018-11-21T19:00:08.421405Z"
    },
    "hidden": true,
    "scrolled": true
   },
   "outputs": [
    {
     "data": {
      "text/html": [
       "<div>\n",
       "<style scoped>\n",
       "    .dataframe tbody tr th:only-of-type {\n",
       "        vertical-align: middle;\n",
       "    }\n",
       "\n",
       "    .dataframe tbody tr th {\n",
       "        vertical-align: top;\n",
       "    }\n",
       "\n",
       "    .dataframe thead th {\n",
       "        text-align: right;\n",
       "    }\n",
       "</style>\n",
       "<table border=\"1\" class=\"dataframe\">\n",
       "  <thead>\n",
       "    <tr style=\"text-align: right;\">\n",
       "      <th></th>\n",
       "      <th>filename</th>\n",
       "      <th>char_ids</th>\n",
       "    </tr>\n",
       "  </thead>\n",
       "  <tbody>\n",
       "    <tr>\n",
       "      <th>0</th>\n",
       "      <td>000.png</td>\n",
       "      <td>71 73 70 71 60 73 1 64 69 61 56 75 76 56 75 64...</td>\n",
       "    </tr>\n",
       "    <tr>\n",
       "      <th>1</th>\n",
       "      <td>001.png</td>\n",
       "      <td>56 74 74 76 68 71 75 64 70 69 1 56 76 75 76 68...</td>\n",
       "    </tr>\n",
       "    <tr>\n",
       "      <th>2</th>\n",
       "      <td>002.png</td>\n",
       "      <td>78 63 60 73 60 1 57 60 58 70 68 60 1 71 60 73 ...</td>\n",
       "    </tr>\n",
       "    <tr>\n",
       "      <th>3</th>\n",
       "      <td>003.png</td>\n",
       "      <td>64 69 61 70 73 68 56 75 64 70 69 1 74 70 68 60...</td>\n",
       "    </tr>\n",
       "    <tr>\n",
       "      <th>4</th>\n",
       "      <td>004.png</td>\n",
       "      <td>62 73 60 56 75 60 74 75 1 75 60 67 67 1 74 75 ...</td>\n",
       "    </tr>\n",
       "  </tbody>\n",
       "</table>\n",
       "</div>"
      ],
      "text/plain": [
       "  filename                                           char_ids\n",
       "0  000.png  71 73 70 71 60 73 1 64 69 61 56 75 76 56 75 64...\n",
       "1  001.png  56 74 74 76 68 71 75 64 70 69 1 56 76 75 76 68...\n",
       "2  002.png  78 63 60 73 60 1 57 60 58 70 68 60 1 71 60 73 ...\n",
       "3  003.png  64 69 61 70 73 68 56 75 64 70 69 1 74 70 68 60...\n",
       "4  004.png  62 73 60 56 75 60 74 75 1 75 60 67 67 1 74 75 ..."
      ]
     },
     "execution_count": 90,
     "metadata": {},
     "output_type": "execute_result"
    }
   ],
   "source": [
    "char_csv['char_ids'] = str_ids\n",
    "char_csv.head()"
   ]
  },
  {
   "cell_type": "markdown",
   "metadata": {
    "hidden": true
   },
   "source": [
    "#### modify filenames to fit existing data structure"
   ]
  },
  {
   "cell_type": "code",
   "execution_count": 91,
   "metadata": {
    "ExecuteTime": {
     "end_time": "2018-11-21T19:00:29.391119Z",
     "start_time": "2018-11-21T19:00:29.332073Z"
    },
    "collapsed": true,
    "hidden": true
   },
   "outputs": [],
   "source": [
    "res = ['{:04d}'.format(i)+'.png' for i in range(10000)]"
   ]
  },
  {
   "cell_type": "code",
   "execution_count": 92,
   "metadata": {
    "ExecuteTime": {
     "end_time": "2018-11-21T19:00:41.852493Z",
     "start_time": "2018-11-21T19:00:41.796637Z"
    },
    "hidden": true,
    "scrolled": true
   },
   "outputs": [
    {
     "data": {
      "text/html": [
       "<div>\n",
       "<style scoped>\n",
       "    .dataframe tbody tr th:only-of-type {\n",
       "        vertical-align: middle;\n",
       "    }\n",
       "\n",
       "    .dataframe tbody tr th {\n",
       "        vertical-align: top;\n",
       "    }\n",
       "\n",
       "    .dataframe thead th {\n",
       "        text-align: right;\n",
       "    }\n",
       "</style>\n",
       "<table border=\"1\" class=\"dataframe\">\n",
       "  <thead>\n",
       "    <tr style=\"text-align: right;\">\n",
       "      <th></th>\n",
       "      <th>filename</th>\n",
       "      <th>char_ids</th>\n",
       "    </tr>\n",
       "  </thead>\n",
       "  <tbody>\n",
       "    <tr>\n",
       "      <th>0</th>\n",
       "      <td>0000.png</td>\n",
       "      <td>71 73 70 71 60 73 1 64 69 61 56 75 76 56 75 64...</td>\n",
       "    </tr>\n",
       "    <tr>\n",
       "      <th>1</th>\n",
       "      <td>0001.png</td>\n",
       "      <td>56 74 74 76 68 71 75 64 70 69 1 56 76 75 76 68...</td>\n",
       "    </tr>\n",
       "    <tr>\n",
       "      <th>2</th>\n",
       "      <td>0002.png</td>\n",
       "      <td>78 63 60 73 60 1 57 60 58 70 68 60 1 71 60 73 ...</td>\n",
       "    </tr>\n",
       "    <tr>\n",
       "      <th>3</th>\n",
       "      <td>0003.png</td>\n",
       "      <td>64 69 61 70 73 68 56 75 64 70 69 1 74 70 68 60...</td>\n",
       "    </tr>\n",
       "    <tr>\n",
       "      <th>4</th>\n",
       "      <td>0004.png</td>\n",
       "      <td>62 73 60 56 75 60 74 75 1 75 60 67 67 1 74 75 ...</td>\n",
       "    </tr>\n",
       "  </tbody>\n",
       "</table>\n",
       "</div>"
      ],
      "text/plain": [
       "   filename                                           char_ids\n",
       "0  0000.png  71 73 70 71 60 73 1 64 69 61 56 75 76 56 75 64...\n",
       "1  0001.png  56 74 74 76 68 71 75 64 70 69 1 56 76 75 76 68...\n",
       "2  0002.png  78 63 60 73 60 1 57 60 58 70 68 60 1 71 60 73 ...\n",
       "3  0003.png  64 69 61 70 73 68 56 75 64 70 69 1 74 70 68 60...\n",
       "4  0004.png  62 73 60 56 75 60 74 75 1 75 60 67 67 1 74 75 ..."
      ]
     },
     "execution_count": 92,
     "metadata": {},
     "output_type": "execute_result"
    }
   ],
   "source": [
    "char_csv['filename'] = res\n",
    "char_csv.head()"
   ]
  },
  {
   "cell_type": "markdown",
   "metadata": {
    "heading_collapsed": true,
    "hidden": true
   },
   "source": [
    "### Convert multi_synth_words.csv to char_itos format"
   ]
  },
  {
   "cell_type": "code",
   "execution_count": 10,
   "metadata": {
    "ExecuteTime": {
     "end_time": "2018-12-10T21:47:56.155844Z",
     "start_time": "2018-12-10T21:47:56.106901Z"
    },
    "collapsed": true,
    "hidden": true
   },
   "outputs": [],
   "source": [
    "old_char_itos = pickle.load(open(TMP_PATH/'multi_synth_itos.pkl', 'rb'))"
   ]
  },
  {
   "cell_type": "code",
   "execution_count": 12,
   "metadata": {
    "ExecuteTime": {
     "end_time": "2018-12-10T21:48:40.659167Z",
     "start_time": "2018-12-10T21:48:40.458073Z"
    },
    "collapsed": true,
    "hidden": true
   },
   "outputs": [],
   "source": [
    "res = [''.join([old_char_itos[int(c)] for c in line.split(' ')]) for line in csv.char_ids]"
   ]
  },
  {
   "cell_type": "code",
   "execution_count": 46,
   "metadata": {
    "ExecuteTime": {
     "end_time": "2018-12-10T21:56:54.169242Z",
     "start_time": "2018-12-10T21:56:54.033375Z"
    },
    "collapsed": true,
    "hidden": true
   },
   "outputs": [],
   "source": [
    "stoi = collections.defaultdict(lambda: 2, {v:k for k,v in enumerate(itos)})\n",
    "ids = np.array([np.array([stoi[char] for char in list(line)]+[3]) for line in res])"
   ]
  },
  {
   "cell_type": "code",
   "execution_count": 47,
   "metadata": {
    "ExecuteTime": {
     "end_time": "2018-12-10T21:56:55.094597Z",
     "start_time": "2018-12-10T21:56:54.664690Z"
    },
    "collapsed": true,
    "hidden": true
   },
   "outputs": [],
   "source": [
    "# convert to strings (as labels)\n",
    "str_ids = np.array([' '.join(str(l) for l in w) for w in ids]).reshape(-1,1)"
   ]
  },
  {
   "cell_type": "code",
   "execution_count": 48,
   "metadata": {
    "ExecuteTime": {
     "end_time": "2018-12-10T21:56:59.515627Z",
     "start_time": "2018-12-10T21:56:59.455853Z"
    },
    "hidden": true,
    "scrolled": true
   },
   "outputs": [
    {
     "data": {
      "text/html": [
       "<div>\n",
       "<style scoped>\n",
       "    .dataframe tbody tr th:only-of-type {\n",
       "        vertical-align: middle;\n",
       "    }\n",
       "\n",
       "    .dataframe tbody tr th {\n",
       "        vertical-align: top;\n",
       "    }\n",
       "\n",
       "    .dataframe thead th {\n",
       "        text-align: right;\n",
       "    }\n",
       "</style>\n",
       "<table border=\"1\" class=\"dataframe\">\n",
       "  <thead>\n",
       "    <tr style=\"text-align: right;\">\n",
       "      <th></th>\n",
       "      <th>filename</th>\n",
       "      <th>char_ids</th>\n",
       "    </tr>\n",
       "  </thead>\n",
       "  <tbody>\n",
       "    <tr>\n",
       "      <th>0</th>\n",
       "      <td>0000.png</td>\n",
       "      <td>67 56 58 60 14 1 59 60 56 75 63 1 61 70 76 73 ...</td>\n",
       "    </tr>\n",
       "    <tr>\n",
       "      <th>1</th>\n",
       "      <td>0001.png</td>\n",
       "      <td>61 70 70 59 1 75 78 60 69 75 64 60 75 63 1 52 ...</td>\n",
       "    </tr>\n",
       "    <tr>\n",
       "      <th>2</th>\n",
       "      <td>0002.png</td>\n",
       "      <td>75 56 74 66 1 58 63 70 64 58 60 1 57 60 64 69 ...</td>\n",
       "    </tr>\n",
       "    <tr>\n",
       "      <th>3</th>\n",
       "      <td>0003.png</td>\n",
       "      <td>56 59 77 64 74 60 73 74 1 75 63 56 75 1 36 34 ...</td>\n",
       "    </tr>\n",
       "    <tr>\n",
       "      <th>4</th>\n",
       "      <td>0004.png</td>\n",
       "      <td>60 74 71 60 58 64 56 67 67 80 1 49 63 56 75 1 ...</td>\n",
       "    </tr>\n",
       "  </tbody>\n",
       "</table>\n",
       "</div>"
      ],
      "text/plain": [
       "   filename                                           char_ids\n",
       "0  0000.png  67 56 58 60 14 1 59 60 56 75 63 1 61 70 76 73 ...\n",
       "1  0001.png  61 70 70 59 1 75 78 60 69 75 64 60 75 63 1 52 ...\n",
       "2  0002.png  75 56 74 66 1 58 63 70 64 58 60 1 57 60 64 69 ...\n",
       "3  0003.png  56 59 77 64 74 60 73 74 1 75 63 56 75 1 36 34 ...\n",
       "4  0004.png  60 74 71 60 58 64 56 67 67 80 1 49 63 56 75 1 ..."
      ]
     },
     "execution_count": 48,
     "metadata": {},
     "output_type": "execute_result"
    }
   ],
   "source": [
    "csv['char_ids'] = str_ids\n",
    "csv.head()"
   ]
  },
  {
   "cell_type": "code",
   "execution_count": 53,
   "metadata": {
    "ExecuteTime": {
     "end_time": "2018-12-10T21:57:27.548853Z",
     "start_time": "2018-12-10T21:57:27.454231Z"
    },
    "collapsed": true,
    "hidden": true
   },
   "outputs": [],
   "source": [
    "csv.to_csv(CSV, columns=['filename', 'char_ids'], index=False)"
   ]
  },
  {
   "cell_type": "markdown",
   "metadata": {},
   "source": [
    "# Helper Functions"
   ]
  },
  {
   "cell_type": "code",
   "execution_count": 5,
   "metadata": {
    "ExecuteTime": {
     "end_time": "2018-12-24T22:19:50.255582Z",
     "start_time": "2018-12-24T22:19:50.235689Z"
    }
   },
   "outputs": [],
   "source": [
    "def label_text(pred):\n",
    "    ints = to_np(pred).astype(int)\n",
    "    ints = np.trim_zeros(ints)   # remove padding (0)\n",
    "    return ''.join([itos[i] for i in ints])"
   ]
  },
  {
   "cell_type": "code",
   "execution_count": 6,
   "metadata": {
    "ExecuteTime": {
     "end_time": "2018-12-24T22:19:50.304387Z",
     "start_time": "2018-12-24T22:19:50.284561Z"
    }
   },
   "outputs": [],
   "source": [
    "def show_img(im, figsize=None, ax=None, alpha=None, title=None):\n",
    "    if not ax: fig,ax = plt.subplots(figsize=figsize)\n",
    "    ax.imshow(im, alpha=alpha)\n",
    "    if title: ax.set_title(title)\n",
    "    return ax"
   ]
  },
  {
   "cell_type": "markdown",
   "metadata": {},
   "source": [
    "# Data"
   ]
  },
  {
   "cell_type": "code",
   "execution_count": 7,
   "metadata": {
    "ExecuteTime": {
     "end_time": "2018-12-24T22:19:51.687296Z",
     "start_time": "2018-12-24T22:19:51.656967Z"
    }
   },
   "outputs": [],
   "source": [
    "itos = pickle.load(open(TMP_PATH/'char_itos.pkl', 'rb'))"
   ]
  },
  {
   "cell_type": "markdown",
   "metadata": {
    "heading_collapsed": true
   },
   "source": [
    "### 3x1"
   ]
  },
  {
   "cell_type": "code",
   "execution_count": 8,
   "metadata": {
    "ExecuteTime": {
     "end_time": "2018-12-24T16:12:20.191593Z",
     "start_time": "2018-12-24T16:12:20.071101Z"
    },
    "hidden": true
   },
   "outputs": [
    {
     "data": {
      "text/plain": [
       "50000"
      ]
     },
     "execution_count": 8,
     "metadata": {},
     "output_type": "execute_result"
    }
   ],
   "source": [
    "fname = 'synth_words_50000.csv' if device.type == 'cuda' else 'synth_words.csv'\n",
    "CSV = PATH/fname\n",
    "FOLDER = 'synth_words'\n",
    "# char_csv.to_csv(CSV, columns=['filename', 'char_ids'], index=False)\n",
    "\n",
    "csv = pd.read_csv(CSV)\n",
    "len(csv)"
   ]
  },
  {
   "cell_type": "code",
   "execution_count": 9,
   "metadata": {
    "ExecuteTime": {
     "end_time": "2018-12-24T16:12:20.547061Z",
     "start_time": "2018-12-24T16:12:20.519693Z"
    },
    "hidden": true
   },
   "outputs": [],
   "source": [
    "seq_len = 45\n",
    "stats = (np.array([0.90382, 0.90382, 0.90382]), np.array([0.19798, 0.19798, 0.19798]))"
   ]
  },
  {
   "cell_type": "markdown",
   "metadata": {
    "heading_collapsed": true
   },
   "source": [
    "### 3x2"
   ]
  },
  {
   "cell_type": "code",
   "execution_count": 8,
   "metadata": {
    "ExecuteTime": {
     "end_time": "2018-12-19T19:29:27.923546Z",
     "start_time": "2018-12-19T19:29:27.786356Z"
    },
    "hidden": true
   },
   "outputs": [
    {
     "data": {
      "text/plain": [
       "50000"
      ]
     },
     "execution_count": 8,
     "metadata": {},
     "output_type": "execute_result"
    }
   ],
   "source": [
    "fname = 'multi_synth_words_50000.csv' if device.type == 'cuda' else 'multi_synth_words.csv'\n",
    "CSV = PATH/fname\n",
    "FOLDER = 'multi_synth_words'\n",
    "\n",
    "csv = pd.read_csv(CSV)\n",
    "len(csv)"
   ]
  },
  {
   "cell_type": "code",
   "execution_count": 9,
   "metadata": {
    "ExecuteTime": {
     "end_time": "2018-12-19T19:29:28.100805Z",
     "start_time": "2018-12-19T19:29:28.078843Z"
    },
    "hidden": true
   },
   "outputs": [],
   "source": [
    "seq_len = 75"
   ]
  },
  {
   "cell_type": "markdown",
   "metadata": {},
   "source": [
    "### Large (1000x1000)"
   ]
  },
  {
   "cell_type": "code",
   "execution_count": 8,
   "metadata": {
    "ExecuteTime": {
     "end_time": "2018-12-24T22:20:04.112405Z",
     "start_time": "2018-12-24T22:20:04.029952Z"
    }
   },
   "outputs": [
    {
     "data": {
      "text/plain": [
       "5000"
      ]
     },
     "execution_count": 8,
     "metadata": {},
     "output_type": "execute_result"
    }
   ],
   "source": [
    "CSV = PATH/'large_synth_words.csv'\n",
    "FOLDER = 'large_synth_words'\n",
    "\n",
    "csv = pd.read_csv(CSV)\n",
    "len(csv)"
   ]
  },
  {
   "cell_type": "code",
   "execution_count": 9,
   "metadata": {
    "ExecuteTime": {
     "end_time": "2018-12-24T22:20:05.839628Z",
     "start_time": "2018-12-24T22:20:05.814450Z"
    }
   },
   "outputs": [],
   "source": [
    "seq_len = 200\n",
    "stats = (np.array([0.93186, 0.93186, 0.93186]), np.array([0.17579, 0.17579, 0.17579]))"
   ]
  },
  {
   "cell_type": "markdown",
   "metadata": {
    "heading_collapsed": true
   },
   "source": [
    "### Word"
   ]
  },
  {
   "cell_type": "code",
   "execution_count": 7,
   "metadata": {
    "ExecuteTime": {
     "end_time": "2018-12-13T22:34:01.703792Z",
     "start_time": "2018-12-13T22:34:01.666248Z"
    },
    "collapsed": true,
    "hidden": true
   },
   "outputs": [],
   "source": [
    "w_itos = pickle.load(open(TMP_PATH/'synth_word_itos.pkl', 'rb'))"
   ]
  },
  {
   "cell_type": "code",
   "execution_count": 8,
   "metadata": {
    "ExecuteTime": {
     "end_time": "2018-12-13T22:34:02.176073Z",
     "start_time": "2018-12-13T22:34:02.078092Z"
    },
    "hidden": true
   },
   "outputs": [
    {
     "data": {
      "text/plain": [
       "50000"
      ]
     },
     "execution_count": 8,
     "metadata": {},
     "output_type": "execute_result"
    }
   ],
   "source": [
    "W_CSV = PATH/'multi_synth_word_ids.csv'\n",
    "FOLDER = 'multi_synth_words'\n",
    "# csv.to_csv(CSV, columns=['filename', 'word_ids'], index=False)\n",
    "\n",
    "w_csv = pd.read_csv(W_CSV)\n",
    "len(w_csv)"
   ]
  },
  {
   "cell_type": "markdown",
   "metadata": {
    "hidden": true
   },
   "source": [
    "#### Only word testing"
   ]
  },
  {
   "cell_type": "code",
   "execution_count": 9,
   "metadata": {
    "ExecuteTime": {
     "end_time": "2018-12-13T22:34:04.031504Z",
     "start_time": "2018-12-13T22:34:04.003848Z"
    },
    "collapsed": true,
    "hidden": true
   },
   "outputs": [],
   "source": [
    "itos = w_itos\n",
    "CSV = W_CSV\n",
    "csv = w_csv\n",
    "seq_len = 8"
   ]
  },
  {
   "cell_type": "markdown",
   "metadata": {},
   "source": [
    "### Get val_idxs"
   ]
  },
  {
   "cell_type": "code",
   "execution_count": 10,
   "metadata": {
    "ExecuteTime": {
     "end_time": "2018-12-24T22:20:08.144933Z",
     "start_time": "2018-12-24T22:20:08.115301Z"
    },
    "scrolled": true
   },
   "outputs": [
    {
     "data": {
      "text/plain": [
       "750"
      ]
     },
     "execution_count": 10,
     "metadata": {},
     "output_type": "execute_result"
    }
   ],
   "source": [
    "val_idxs = np.array(csv.sample(frac=0.15).index)\n",
    "len(val_idxs)"
   ]
  },
  {
   "cell_type": "markdown",
   "metadata": {
    "heading_collapsed": true
   },
   "source": [
    "### Calculate normalization stats"
   ]
  },
  {
   "cell_type": "code",
   "execution_count": null,
   "metadata": {
    "ExecuteTime": {
     "end_time": "2018-12-24T22:25:48.881146Z",
     "start_time": "2018-12-24T22:21:22.994243Z"
    },
    "hidden": true
   },
   "outputs": [],
   "source": [
    "means = []\n",
    "stds  = []\n",
    "for filename in os.listdir(PATH/FOLDER):\n",
    "    im=Image.open(PATH/FOLDER/filename)\n",
    "    img = np.array(im)\n",
    "    means.append(img.mean((0,1)))\n",
    "    stds.append(img.std((0,1)))\n",
    "    im.close()\n",
    "    \n",
    "means = np.stack(means)\n",
    "stds = np.stack(stds)"
   ]
  },
  {
   "cell_type": "code",
   "execution_count": 19,
   "metadata": {
    "ExecuteTime": {
     "end_time": "2018-12-24T22:26:19.791644Z",
     "start_time": "2018-12-24T22:26:19.769289Z"
    },
    "hidden": true
   },
   "outputs": [
    {
     "data": {
      "text/plain": [
       "(array([0.93186, 0.93186, 0.93186]), array([0.17579, 0.17579, 0.17579]))"
      ]
     },
     "execution_count": 19,
     "metadata": {},
     "output_type": "execute_result"
    }
   ],
   "source": [
    "stats = (np.array(means.mean(0)/255), np.array(stds.mean(0)/255))\n",
    "stats"
   ]
  },
  {
   "cell_type": "markdown",
   "metadata": {},
   "source": [
    "### ModelData object"
   ]
  },
  {
   "cell_type": "code",
   "execution_count": 20,
   "metadata": {
    "ExecuteTime": {
     "end_time": "2018-12-24T22:26:50.302067Z",
     "start_time": "2018-12-24T22:26:50.279129Z"
    }
   },
   "outputs": [],
   "source": [
    "f = resnet34\n",
    "# sz = 64\n",
    "# bs = 120\n",
    "\n",
    "sz = 256\n",
    "bs = 20"
   ]
  },
  {
   "cell_type": "code",
   "execution_count": 21,
   "metadata": {
    "ExecuteTime": {
     "end_time": "2018-12-24T22:26:59.970502Z",
     "start_time": "2018-12-24T22:26:59.264026Z"
    }
   },
   "outputs": [],
   "source": [
    "aug_tfms = [RandomRotate(3, mode=1), RandomLighting(0.05, 0.05)]\n",
    "\n",
    "# stats = (np.array([0.90382, 0.90382, 0.90382]), np.array([0.19798, 0.19798, 0.19798]))\n",
    "tfms = tfms_from_stats(stats, sz, crop_type=CropType.NO, aug_tfms=aug_tfms)\n",
    "# tfms = tfms_from_model(f, sz, crop_type=CropType.NO, aug_tfms=aug_tfms)\n",
    "# resizes in the transforms\n",
    "data = ImageClassifierData.from_csv(PATH, FOLDER, CSV, bs=bs, val_idxs=val_idxs, tfms=tfms, continuous=True)\n",
    "# loads in the data at full size"
   ]
  },
  {
   "cell_type": "code",
   "execution_count": 13,
   "metadata": {
    "ExecuteTime": {
     "end_time": "2018-12-24T16:12:26.705046Z",
     "start_time": "2018-12-24T16:12:25.824766Z"
    }
   },
   "outputs": [
    {
     "data": {
      "application/vnd.jupyter.widget-view+json": {
       "model_id": "fad30cdcd55d4ccc8d0e206aa1125692",
       "version_major": 2,
       "version_minor": 0
      },
      "text/plain": [
       "HBox(children=(IntProgress(value=0, max=6), HTML(value='')))"
      ]
     },
     "metadata": {},
     "output_type": "display_data"
    },
    {
     "name": "stdout",
     "output_type": "stream",
     "text": [
      "\n"
     ]
    }
   ],
   "source": [
    "# this saves a bit of memory\n",
    "data = data.resize(256)"
   ]
  },
  {
   "cell_type": "code",
   "execution_count": 22,
   "metadata": {
    "ExecuteTime": {
     "end_time": "2018-12-24T22:27:09.200306Z",
     "start_time": "2018-12-24T22:27:09.178784Z"
    }
   },
   "outputs": [],
   "source": [
    "# pad ends of lines with pad token for language model\n",
    "data.aug_dl.pre_pad=False\n",
    "data.trn_dl.pre_pad=False\n",
    "data.val_dl.pre_pad=False"
   ]
  },
  {
   "cell_type": "markdown",
   "metadata": {
    "heading_collapsed": true
   },
   "source": [
    "#### Verify dataset transforms"
   ]
  },
  {
   "cell_type": "code",
   "execution_count": 23,
   "metadata": {
    "ExecuteTime": {
     "end_time": "2018-12-24T22:27:19.804428Z",
     "start_time": "2018-12-24T22:27:18.111560Z"
    },
    "hidden": true
   },
   "outputs": [],
   "source": [
    "denorm = data.trn_ds.denorm\n",
    "x,y = next(iter(data.aug_dl))\n",
    "imgs = denorm(x)"
   ]
  },
  {
   "cell_type": "code",
   "execution_count": 24,
   "metadata": {
    "ExecuteTime": {
     "end_time": "2018-12-24T22:27:28.419228Z",
     "start_time": "2018-12-24T22:27:28.364706Z"
    },
    "hidden": true
   },
   "outputs": [
    {
     "name": "stdout",
     "output_type": "stream",
     "text": [
      "mean: tensor([-0.0180, -0.0180, -0.0180], device='cuda:0')\n",
      "std: tensor([0.8543, 0.8543, 0.8543], device='cuda:0')\n"
     ]
    }
   ],
   "source": [
    "# check image normalization\n",
    "reshaped = x.permute(1,0,2,3).contiguous().view(3,-1)\n",
    "trn_mean = reshaped.mean(1)\n",
    "trn_std  = reshaped.std(1)\n",
    "print(f\"mean: {trn_mean}\\nstd: {trn_std}\")"
   ]
  },
  {
   "cell_type": "code",
   "execution_count": 26,
   "metadata": {
    "ExecuteTime": {
     "end_time": "2018-12-24T22:28:12.756242Z",
     "start_time": "2018-12-24T22:28:11.470309Z"
    },
    "hidden": true,
    "scrolled": false
   },
   "outputs": [
    {
     "data": {
      "image/png": "[encoded data removed]",
      "text/plain": [
       "<Figure size 1440x1440 with 4 Axes>"
      ]
     },
     "metadata": {},
     "output_type": "display_data"
    }
   ],
   "source": [
    "fig, axes = plt.subplots(4,1, figsize=(20, 20))\n",
    "for i,ax in enumerate(axes.flat):\n",
    "    t = label_text(y[i])\n",
    "    ax=show_img(imgs[i], ax=ax, title=t)\n",
    "    \n",
    "plt.tight_layout(pad=0.1)"
   ]
  },
  {
   "cell_type": "markdown",
   "metadata": {
    "heading_collapsed": true
   },
   "source": [
    "### Combine word/char datasets"
   ]
  },
  {
   "cell_type": "code",
   "execution_count": 16,
   "metadata": {
    "ExecuteTime": {
     "end_time": "2018-12-13T19:33:41.195788Z",
     "start_time": "2018-12-13T19:33:41.168926Z"
    },
    "collapsed": true,
    "hidden": true
   },
   "outputs": [],
   "source": [
    "class ConcatLblDataset(Dataset):\n",
    "    def __init__(self, ds, y2):\n",
    "        self.ds,self.y2 = ds,y2\n",
    "        self.sz = ds.sz\n",
    "    def __len__(self): return len(self.ds)\n",
    "    \n",
    "    def __getitem__(self, i):\n",
    "        x,y = self.ds[i]\n",
    "        return (x, (y,self.y2[i]))"
   ]
  },
  {
   "cell_type": "code",
   "execution_count": 17,
   "metadata": {
    "ExecuteTime": {
     "end_time": "2018-12-13T19:33:42.923804Z",
     "start_time": "2018-12-13T19:33:42.168235Z"
    },
    "collapsed": true,
    "hidden": true
   },
   "outputs": [],
   "source": [
    "w_data = ImageClassifierData.from_csv(PATH, FOLDER, W_CSV, bs=bs, val_idxs=val_idxs, tfms=tfms, continuous=True)"
   ]
  },
  {
   "cell_type": "code",
   "execution_count": 18,
   "metadata": {
    "ExecuteTime": {
     "end_time": "2018-12-13T19:33:43.813398Z",
     "start_time": "2018-12-13T19:33:43.783599Z"
    },
    "collapsed": true,
    "hidden": true
   },
   "outputs": [],
   "source": [
    "trn_ds = ConcatLblDataset(data.trn_ds, w_data.trn_y)\n",
    "val_ds = ConcatLblDataset(data.val_ds, w_data.val_y)\n",
    "data.trn_dl.dataset = trn_ds\n",
    "data.val_dl.dataset = val_ds"
   ]
  },
  {
   "cell_type": "code",
   "execution_count": 19,
   "metadata": {
    "ExecuteTime": {
     "end_time": "2018-12-13T19:33:46.870771Z",
     "start_time": "2018-12-13T19:33:46.843374Z"
    },
    "collapsed": true,
    "hidden": true
   },
   "outputs": [],
   "source": [
    "# pad ends of lines with pad token for language model\n",
    "data.aug_dl.pre_pad=False\n",
    "data.trn_dl.pre_pad=False\n",
    "data.val_dl.pre_pad=False"
   ]
  },
  {
   "cell_type": "markdown",
   "metadata": {
    "hidden": true
   },
   "source": [
    "#### Verify multi-dataset"
   ]
  },
  {
   "cell_type": "code",
   "execution_count": 20,
   "metadata": {
    "ExecuteTime": {
     "end_time": "2018-12-13T19:33:57.857281Z",
     "start_time": "2018-12-13T19:33:49.178876Z"
    },
    "collapsed": true,
    "hidden": true
   },
   "outputs": [],
   "source": [
    "denorm = data.trn_ds.ds.denorm   # need the extra .ds when using ConcatLblDataset\n",
    "_,(y0,y1) = next(iter(data.trn_dl))"
   ]
  },
  {
   "cell_type": "code",
   "execution_count": 21,
   "metadata": {
    "ExecuteTime": {
     "end_time": "2018-12-13T19:33:57.962978Z",
     "start_time": "2018-12-13T19:33:57.935204Z"
    },
    "hidden": true
   },
   "outputs": [
    {
     "data": {
      "text/plain": [
       "'Tuesday little they that Above called_eos__pad__pad__pad__pad__pad__pad__pad__pad__pad__pad__pad__pad__pad__pad__pad__pad__pad__pad__pad_'"
      ]
     },
     "execution_count": 21,
     "metadata": {},
     "output_type": "execute_result"
    }
   ],
   "source": [
    "chars = [itos[int(w)] for w in y0[3]]\n",
    "''.join(chars)"
   ]
  },
  {
   "cell_type": "code",
   "execution_count": 22,
   "metadata": {
    "ExecuteTime": {
     "end_time": "2018-12-13T19:33:58.054824Z",
     "start_time": "2018-12-13T19:33:58.026856Z"
    },
    "hidden": true
   },
   "outputs": [
    {
     "data": {
      "text/plain": [
       "'Tuesday little they that Above called _eos_'"
      ]
     },
     "execution_count": 22,
     "metadata": {},
     "output_type": "execute_result"
    }
   ],
   "source": [
    "words = [w_itos[int(c)] for c in y1[3]]\n",
    "' '.join(words)"
   ]
  },
  {
   "cell_type": "markdown",
   "metadata": {},
   "source": [
    "# Loss and Metrics"
   ]
  },
  {
   "cell_type": "code",
   "execution_count": 27,
   "metadata": {
    "ExecuteTime": {
     "end_time": "2018-12-24T22:29:42.632514Z",
     "start_time": "2018-12-24T22:29:42.601501Z"
    }
   },
   "outputs": [],
   "source": [
    "# categorical cross entropy loss\n",
    "# list of probabilities for each word in vocab; target is correct word\n",
    "\n",
    "def seq2seq_loss(input, target):\n",
    "    target = target.permute(1,0).contiguous()\n",
    "    tsl = target.size(0)\n",
    "    sl,bs,nc = input.size()\n",
    "    \n",
    "    if sl>tsl: target = F.pad(target, (0,0,0,sl-tsl))\n",
    "    if tsl>sl: input = F.pad(input, (0,0,0,0,0,tsl-sl))\n",
    "        \n",
    "    targ = target.view(-1)\n",
    "    pred = input.view(-1, nc)\n",
    "\n",
    "    # combination of LogSoftmax and NLLLoss\n",
    "    return F.cross_entropy(pred, targ.long(), reduction='sum')/bs"
   ]
  },
  {
   "cell_type": "code",
   "execution_count": 28,
   "metadata": {
    "ExecuteTime": {
     "end_time": "2018-12-24T22:29:48.806732Z",
     "start_time": "2018-12-24T22:29:48.776551Z"
    }
   },
   "outputs": [],
   "source": [
    "import Levenshtein as Lev\n",
    "\n",
    "# pulled from Sean Nareen's deepspeech decoder module\n",
    "# https://github.com/SeanNaren/deepspeech.pytorch/blob/master/decoder.py\n",
    "\n",
    "def cer(t, p):\n",
    "    \"\"\"\n",
    "    Computes the Character Error Rate, defined as the edit distance.\n",
    "    Arguments:\n",
    "        t (string): target space-separated sentence\n",
    "        p (string): prediction space-separated sentence\n",
    "    \"\"\"\n",
    "    t, p, = t.replace(' ', ''), p.replace(' ', '')\n",
    "    return Lev.distance(t, p)/len(t)\n",
    "\n",
    "def wer(s1, s2):\n",
    "    \"\"\"\n",
    "    Computes the Word Error Rate, defined as the edit distance between the\n",
    "    two provided sentences after tokenizing to words.\n",
    "    Arguments:\n",
    "        s1 (string): space-separated sentence\n",
    "        s2 (string): space-separated sentence\n",
    "    \"\"\"\n",
    "\n",
    "    # build mapping of words to integers\n",
    "    b = set(s1.split() + s2.split())\n",
    "    word2char = dict(zip(b, range(len(b))))\n",
    "\n",
    "    # map the words to a char array (Levenshtein packages only accepts\n",
    "    # strings)\n",
    "    w1 = [chr(word2char[w]) for w in s1.split()]\n",
    "    w2 = [chr(word2char[w]) for w in s2.split()]\n",
    "\n",
    "    return Lev.distance(''.join(w1), ''.join(w2))/len(w1)"
   ]
  },
  {
   "cell_type": "code",
   "execution_count": 29,
   "metadata": {
    "ExecuteTime": {
     "end_time": "2018-12-24T22:29:54.886036Z",
     "start_time": "2018-12-24T22:29:54.860826Z"
    }
   },
   "outputs": [],
   "source": [
    "def error_label(pred):\n",
    "    ints = to_np(pred).astype(int)\n",
    "    ints = ints[np.nonzero(ints)]\n",
    "    return ''.join([itos[i] for i in ints])\n",
    "\n",
    "def word_error_label(pred):\n",
    "    ints = to_np(pred).astype(int)\n",
    "    ints = ints[np.nonzero(ints)]\n",
    "    return ' '.join([w_itos[i] for i in ints])\n",
    "\n",
    "def char_error_rate(preds, targs):\n",
    "    bs,sl = targs.size()      #=> ([bs, sl])\n",
    "    # preds.size()            #=> ([sl, bs, vs])\n",
    "        \n",
    "    res = torch.argmax(preds, dim=2)\n",
    "    error = 0\n",
    "    for i in range(bs):\n",
    "        p = error_label(res[:,i])\n",
    "        t = error_label(targs[i])\n",
    "        error += cer(t,p)\n",
    "    return error/bs\n",
    "\n",
    "def word_error_rate(preds, targs):\n",
    "    bs,sl = targs.size()      #=> ([bs, sl])\n",
    "    # preds.size()            #=> ([sl, bs, vs])\n",
    "        \n",
    "    res = torch.argmax(preds, dim=2)\n",
    "    error = 0\n",
    "    for i in range(bs):\n",
    "        p = word_error_label(res[:,i])\n",
    "        t = word_error_label(targs[i])\n",
    "        error += wer(t,p)\n",
    "    return error/bs"
   ]
  },
  {
   "cell_type": "markdown",
   "metadata": {},
   "source": [
    "### CTC"
   ]
  },
  {
   "cell_type": "code",
   "execution_count": 43,
   "metadata": {
    "ExecuteTime": {
     "end_time": "2018-12-24T22:53:29.504682Z",
     "start_time": "2018-12-24T22:53:29.450700Z"
    }
   },
   "outputs": [],
   "source": [
    "from warpctc_pytorch import CTCLoss\n",
    "\n",
    "ctc = CTCLoss(size_average=True)    #normalize loss by batch size\n",
    "\n",
    "def ctc_loss(input, target):\n",
    "    target = target.permute(1,0).contiguous()\n",
    "    tsl = target.size(0)\n",
    "    sl,bs,nc = input.size() \n",
    "    \n",
    "    inp_lens = torch.full((bs,), sl, dtype=torch.int32)\n",
    "    \n",
    "    ##NOTE: inp => gpu, everything else on cpu!!\n",
    "    \n",
    "    # need to remove 0s from labels (same as ctc blank character)\n",
    "    targ = []\n",
    "    targ_lens = []\n",
    "    for i in range(bs):\n",
    "        t = target[:,i]\n",
    "        # remove 0 padding from targets\n",
    "        t = t[t.nonzero().squeeze(1)]\n",
    "        targ.append(t)\n",
    "        targ_lens.append(len(t))\n",
    "\n",
    "    targ = torch.cat(targ).type(torch.int32).cpu()\n",
    "    targ_lens = torch.tensor(targ_lens, dtype=torch.int32)\n",
    "        \n",
    "    return ctc(input, targ, inp_lens, targ_lens)\n",
    "    # inputs: Tensor of (seqLength x batch x vocab_size) containing output activations from network (before softmax)\n",
    "    # targets: 1 dimensional Tensor containing all the targets of the batch in one large sequence\n",
    "    # input_lens: Tensor of size (batch) containing size of each output sequence from the network\n",
    "    # target_lens: Tensor of (batch) containing label length of each example"
   ]
  },
  {
   "cell_type": "markdown",
   "metadata": {
    "heading_collapsed": true
   },
   "source": [
    "### Combo word/char"
   ]
  },
  {
   "cell_type": "code",
   "execution_count": 59,
   "metadata": {
    "ExecuteTime": {
     "end_time": "2018-12-13T20:02:23.638528Z",
     "start_time": "2018-12-13T20:02:23.607080Z"
    },
    "collapsed": true,
    "hidden": true
   },
   "outputs": [],
   "source": [
    "def char_error(preds, targs):\n",
    "    c_preds,_ = preds\n",
    "    c_targs,_ = targs\n",
    "    \n",
    "    bs,sl = c_targs.size()      #=> ([bs, sl])\n",
    "    # preds.size()            #=> ([sl, bs, vs])\n",
    "        \n",
    "    res = torch.argmax(c_preds, dim=2)\n",
    "    error = 0\n",
    "    for i in range(bs):\n",
    "        p = error_label(res[:,i])\n",
    "        t = error_label(c_targs[i])\n",
    "        error += cer(t,p)\n",
    "    return error/bs\n",
    "\n",
    "def word_error(preds, targs):\n",
    "    _,w_preds = preds\n",
    "    _,w_targs = targs\n",
    "    \n",
    "    bs,sl = w_targs.size()      #=> ([bs, sl])\n",
    "    # preds.size()            #=> ([sl, bs, vs])\n",
    "        \n",
    "    res = torch.argmax(w_preds, dim=2)\n",
    "    error = 0\n",
    "    for i in range(bs):\n",
    "        p = word_error_label(res[:,i])\n",
    "        t = word_error_label(w_targs[i])\n",
    "        error += wer(t,p)\n",
    "    return error/bs/sl"
   ]
  },
  {
   "cell_type": "code",
   "execution_count": 39,
   "metadata": {
    "ExecuteTime": {
     "end_time": "2018-12-13T19:38:38.905021Z",
     "start_time": "2018-12-13T19:38:38.880376Z"
    },
    "collapsed": true,
    "hidden": true
   },
   "outputs": [],
   "source": [
    "def combo_loss(preds, targs):\n",
    "    char_loss = ctc_loss(preds[0], targs[0])\n",
    "    word_loss = seq2seq_loss(preds[1], targs[1])\n",
    "    return char_loss + word_loss.cpu()"
   ]
  },
  {
   "cell_type": "markdown",
   "metadata": {
    "heading_collapsed": true
   },
   "source": [
    "# Arch"
   ]
  },
  {
   "cell_type": "code",
   "execution_count": 51,
   "metadata": {
    "ExecuteTime": {
     "end_time": "2018-12-19T16:52:26.412875Z",
     "start_time": "2018-12-19T16:52:26.385099Z"
    },
    "hidden": true
   },
   "outputs": [],
   "source": [
    "class Encoder(nn.Module):\n",
    "    def __init__(self, embed_size, drop=0.4):\n",
    "        super().__init__()\n",
    "        \n",
    "        slices = {128: -4, 256: -3, 512: -2}\n",
    "        s = slices[embed_size]\n",
    "        \n",
    "        net = f(True)\n",
    "        modules = list(net.children())[:s]    #(8,8,256)  sz: 128\n",
    "        self.base = nn.Sequential(*modules)\n",
    "        \n",
    "        #mlp\n",
    "        self.drop = nn.Dropout(drop)\n",
    "        self.linear1 = nn.Linear(embed_size, embed_size)\n",
    "        self.linear2 = nn.Linear(embed_size, embed_size)\n",
    "        \n",
    "    def forward(self, inp):\n",
    "        bs,nf,h,w = inp.size()\n",
    "        \n",
    "        features = self.base(inp)\n",
    "        features = features.flatten(2, 3).permute(2, 0, 1)\n",
    "        \n",
    "        # initial hidden is an average of features fed through an MLP\n",
    "        h = self.drop(features)\n",
    "        h = self.linear2(F.relu(self.linear1(h))).mean(0)\n",
    "                        \n",
    "        return features, h"
   ]
  },
  {
   "cell_type": "code",
   "execution_count": 74,
   "metadata": {
    "ExecuteTime": {
     "end_time": "2018-12-19T17:21:03.419800Z",
     "start_time": "2018-12-19T17:21:03.390818Z"
    },
    "hidden": true
   },
   "outputs": [],
   "source": [
    "def rand_t(*sz): return torch.randn(sz)/math.sqrt(sz[0])\n",
    "def rand_p(*sz): return nn.Parameter(rand_t(*sz))\n",
    "\n",
    "class Attention(nn.Module):\n",
    "    def __init__(self, embed_size, drop=0.5):\n",
    "        super().__init__()\n",
    "\n",
    "        self.attn_1 = nn.Linear(embed_size, embed_size)\n",
    "        self.attn_2 = nn.Linear(embed_size, embed_size)\n",
    "        self.drop   = nn.Dropout(drop)\n",
    "        self.attn_v = rand_p(embed_size)\n",
    "        \n",
    "    def forward(self, hidden, feats):\n",
    "        # this is called once for each timestep\n",
    "        w1e = self.attn_1(feats)                    # ([64, 30, 256])\n",
    "        w2h = self.attn_2(hidden)                   # ([30, 256])\n",
    "        u = torch.tanh(w1e + w2h)                   # ([64, 30, 256])\n",
    "        u = self.drop(u)\n",
    "        a = torch.softmax(u @ self.attn_v, 0)       # ([64, 30]) - attention mask\n",
    "        context = (a.unsqueeze(2) * feats).sum(0)   # ([30, 256]) - weighted sum of features w/ attention\n",
    "        \n",
    "        return context, a"
   ]
  },
  {
   "cell_type": "code",
   "execution_count": 75,
   "metadata": {
    "ExecuteTime": {
     "end_time": "2018-12-19T17:21:04.007365Z",
     "start_time": "2018-12-19T17:21:03.980877Z"
    },
    "hidden": true
   },
   "outputs": [],
   "source": [
    "class RNNDecoder(nn.Module):\n",
    "    def __init__(self, embed_size, num_layers, drop=0.5):\n",
    "        super().__init__()\n",
    "        \n",
    "        self.num_layers = num_layers\n",
    "        self.rnn = nn.GRU(embed_size, embed_size, num_layers)\n",
    "        if self.num_layers > 1: self.rnn.dropout = drop\n",
    "\n",
    "    def forward(self, hidden, context):\n",
    "        _, h = self.rnn(context.unsqueeze(0), hidden.expand(self.num_layers, -1, -1).contiguous())\n",
    "        \n",
    "        return h[-1]"
   ]
  },
  {
   "cell_type": "code",
   "execution_count": 76,
   "metadata": {
    "ExecuteTime": {
     "end_time": "2018-12-19T17:21:04.677008Z",
     "start_time": "2018-12-19T17:21:04.648889Z"
    },
    "hidden": true
   },
   "outputs": [],
   "source": [
    "class DeepOutputLayer(nn.Module):\n",
    "    def __init__(self, embed_size, vocab_size, drop=0.5):\n",
    "        super().__init__()\n",
    "        \n",
    "        self.w0 = nn.Linear(embed_size, embed_size)\n",
    "        self.w1 = nn.Linear(embed_size, embed_size)\n",
    "        self.w2 = nn.Linear(embed_size, embed_size)\n",
    "        self.w3 = nn.Linear(embed_size*3, vocab_size)\n",
    "        self.drop = nn.Dropout(drop)\n",
    "        \n",
    "    def forward(self, prev, hidden, context):\n",
    "        # this is called once for each timestep\n",
    "        #(30,256)\n",
    "        a = self.w0(prev)\n",
    "        b = self.w1(hidden)\n",
    "        c = self.w2(context)\n",
    "        out = torch.cat([a,b,c], 1)\n",
    "        \n",
    "        return self.w3(self.drop(out))"
   ]
  },
  {
   "cell_type": "code",
   "execution_count": 77,
   "metadata": {
    "ExecuteTime": {
     "end_time": "2018-12-19T17:21:05.694711Z",
     "start_time": "2018-12-19T17:21:05.664400Z"
    },
    "hidden": true
   },
   "outputs": [],
   "source": [
    "class Net(nn.Module):\n",
    "    def __init__(self, hidden_size, vocab_size, seq_len, n_layers=1, drop=0.5):\n",
    "        super(Net, self).__init__()\n",
    "        self.seq_len = seq_len\n",
    "        \n",
    "        self.encoder = Encoder(hidden_size)\n",
    "        self.attention = Attention(hidden_size)\n",
    "        self.decoder = RNNDecoder(hidden_size, n_layers)\n",
    "        \n",
    "        self.embed   = nn.Embedding(vocab_size, hidden_size)\n",
    "        self.drop    = nn.Dropout(drop)\n",
    "        self.embed.weight.data.uniform_(-0.1, 0.1)\n",
    "\n",
    "        self.output  = DeepOutputLayer(hidden_size, vocab_size)\n",
    "        \n",
    "    def forward(self, x, ret_attn=False):\n",
    "        bs = x.size(0)\n",
    "        feats, hidden = self.encoder(x)\n",
    "        \n",
    "        res,attns = [],[]\n",
    "        dec_inp = torch.ones(bs, device=device).long()\n",
    "        \n",
    "        for i in range(self.seq_len):\n",
    "            prev = self.drop(self.embed(dec_inp))\n",
    "            \n",
    "            context, a = self.attention(hidden, feats)\n",
    "            hidden = self.decoder(hidden, context)\n",
    "            out = self.output(prev, hidden, context)\n",
    "            \n",
    "            res.append(out)\n",
    "            attns.append(a)\n",
    "            dec_inp = out.data.max(1)[1]\n",
    "            \n",
    "        res = torch.stack(res)\n",
    "        if ret_attn: res = res,torch.stack(attns)\n",
    "        return res"
   ]
  },
  {
   "cell_type": "code",
   "execution_count": 78,
   "metadata": {
    "ExecuteTime": {
     "end_time": "2018-12-19T17:21:09.793256Z",
     "start_time": "2018-12-19T17:21:09.186108Z"
    },
    "hidden": true
   },
   "outputs": [],
   "source": [
    "opt_fn = partial(optim.Adam, betas=(0.7, 0.99))\n",
    "rnn = Net(256, len(itos), seq_len, 1)\n",
    "learn = RNN_Learner(data, SingleModel(to_gpu(rnn)), opt_fn=opt_fn)\n",
    "learn.clip = 0.25\n",
    "learn.crit = seq2seq_loss\n",
    "learn.metrics = [char_error_rate]"
   ]
  },
  {
   "cell_type": "code",
   "execution_count": 58,
   "metadata": {
    "ExecuteTime": {
     "end_time": "2018-12-19T16:53:48.359919Z",
     "start_time": "2018-12-19T16:52:57.074291Z"
    },
    "hidden": true
   },
   "outputs": [
    {
     "data": {
      "application/vnd.jupyter.widget-view+json": {
       "model_id": "3c926626d916451fbef0e668f13164ef",
       "version_major": 2,
       "version_minor": 0
      },
      "text/plain": [
       "HBox(children=(IntProgress(value=0, description='Epoch', max=1), HTML(value='')))"
      ]
     },
     "metadata": {},
     "output_type": "display_data"
    },
    {
     "name": "stdout",
     "output_type": "stream",
     "text": [
      " 42%|████▏     | 150/355 [00:50<01:08,  2.98it/s, loss=388]"
     ]
    },
    {
     "data": {
      "image/png": "[encoded data removed]",
      "text/plain": [
       "<Figure size 432x288 with 1 Axes>"
      ]
     },
     "metadata": {},
     "output_type": "display_data"
    }
   ],
   "source": [
    "learn.lr_find()\n",
    "learn.sched.plot()"
   ]
  },
  {
   "cell_type": "code",
   "execution_count": 79,
   "metadata": {
    "ExecuteTime": {
     "end_time": "2018-12-19T17:26:41.778687Z",
     "start_time": "2018-12-19T17:21:14.512536Z"
    },
    "hidden": true,
    "scrolled": true
   },
   "outputs": [
    {
     "data": {
      "application/vnd.jupyter.widget-view+json": {
       "model_id": "",
       "version_major": 2,
       "version_minor": 0
      },
      "text/plain": [
       "HBox(children=(IntProgress(value=0, description='Epoch', max=3), HTML(value='')))"
      ]
     },
     "metadata": {},
     "output_type": "display_data"
    },
    {
     "name": "stdout",
     "output_type": "stream",
     "text": [
      "epoch      trn_loss   val_loss   char_error_rate            \n",
      "    0      70.503348  70.299874  0.806128  \n",
      "    1      68.23545   67.674061  0.787044                   \n",
      "    2      65.116957  63.882609  0.742186                   \n"
     ]
    },
    {
     "data": {
      "text/plain": [
       "[63.88260862562392, 0.7421860706910671]"
      ]
     },
     "execution_count": 79,
     "metadata": {},
     "output_type": "execute_result"
    }
   ],
   "source": [
    "# lr=1e-4\n",
    "# learn.fit(lr, 3, cycle_len=1, use_clr_beta=(10,10,0.95,0.85))\n",
    "\n",
    "lr=1e-3\n",
    "learn.fit(lr, 3, cycle_len=1, use_clr=(10,4))\n",
    "\n",
    "# 68.923135  68.804574  0.778221     arch, sz:96, lr:1e-4\n",
    "# 70.384609  70.11158   0.853604     \"\", sz: 64, lr:1e-4, clr_beta, feature slice based on sz\n",
    "\n",
    "# 65.013099  64.089046  0.744029     \"\", sz: 64, lr:1e-3, clr, feature slice based on sz\n",
    "# 65.116957  63.882609  0.742186     \"\", sz: 64, lr:1e-3, clr, feature slice based on sz, dropout"
   ]
  },
  {
   "cell_type": "markdown",
   "metadata": {
    "heading_collapsed": true
   },
   "source": [
    "# Arch mod"
   ]
  },
  {
   "cell_type": "code",
   "execution_count": 30,
   "metadata": {
    "ExecuteTime": {
     "end_time": "2018-12-24T22:30:03.604485Z",
     "start_time": "2018-12-24T22:30:03.571903Z"
    },
    "hidden": true
   },
   "outputs": [],
   "source": [
    "# modified for sz: 64\n",
    "\n",
    "class Encoder(nn.Module):\n",
    "    def __init__(self, embed_size, drop=0.5):\n",
    "        super().__init__()\n",
    "        \n",
    "#         slices = {128: -4, 256: -3, 512: -2}\n",
    "#         s = slices[embed_size]\n",
    "        \n",
    "        net = f(True)\n",
    "        modules = list(net.children())[:-4]    #(8,8,128)  sz: 64\n",
    "        self.base = nn.Sequential(*modules)\n",
    "        \n",
    "        self.linear0 = nn.Linear(128, embed_size)\n",
    "        \n",
    "        #mlp\n",
    "        self.drop = nn.Dropout(drop)\n",
    "        self.linear1 = nn.Linear(embed_size, embed_size)\n",
    "        self.linear2 = nn.Linear(embed_size, embed_size)\n",
    "        \n",
    "    def forward(self, inp):\n",
    "        bs,nf,h,w = inp.size()\n",
    "        \n",
    "        features = self.base(inp).flatten(2, 3).permute(2, 0, 1)\n",
    "        features = self.linear0(features)\n",
    "        \n",
    "        # initial hidden is an average of features fed through an MLP\n",
    "        h = self.drop(features)\n",
    "        h = self.linear2(F.relu(self.linear1(h))).mean(0)\n",
    "                        \n",
    "        return features, h"
   ]
  },
  {
   "cell_type": "code",
   "execution_count": 31,
   "metadata": {
    "ExecuteTime": {
     "end_time": "2018-12-24T22:30:09.817412Z",
     "start_time": "2018-12-24T22:30:09.792076Z"
    },
    "hidden": true
   },
   "outputs": [],
   "source": [
    "def rand_t(*sz): return torch.randn(sz)/math.sqrt(sz[0])\n",
    "def rand_p(*sz): return nn.Parameter(rand_t(*sz))\n",
    "\n",
    "class Attention(nn.Module):\n",
    "    def __init__(self, embed_size, drop=0.5):\n",
    "        super().__init__()\n",
    "\n",
    "        self.attn_1 = nn.Linear(embed_size, embed_size)\n",
    "        self.attn_2 = nn.Linear(embed_size, embed_size)\n",
    "        self.drop   = nn.Dropout(drop)\n",
    "        self.attn_v = rand_p(embed_size)\n",
    "        \n",
    "    def forward(self, hidden, feats):\n",
    "        w1e = self.attn_1(feats)                    # ([64, 30, 256])\n",
    "        w2h = self.attn_2(hidden)                   # ([30, 256])\n",
    "        u = self.drop(torch.tanh(w1e + w2h))        # ([64, 30, 256])\n",
    "        a = torch.softmax(u @ self.attn_v, 0)       # ([64, 30]) - attention mask\n",
    "        context = (a.unsqueeze(2) * feats).sum(0)   # ([30, 256]) - weighted sum of features w/ attention\n",
    "        \n",
    "        return context, a"
   ]
  },
  {
   "cell_type": "code",
   "execution_count": 32,
   "metadata": {
    "ExecuteTime": {
     "end_time": "2018-12-24T22:30:15.919845Z",
     "start_time": "2018-12-24T22:30:15.895964Z"
    },
    "hidden": true
   },
   "outputs": [],
   "source": [
    "class RNNDecoder(nn.Module):\n",
    "    def __init__(self, embed_size, num_layers, drop=0.5):\n",
    "        super().__init__()\n",
    "        \n",
    "        self.num_layers = num_layers\n",
    "        self.rnn = nn.GRU(embed_size, embed_size, num_layers, dropout=drop)\n",
    "\n",
    "    def forward(self, context, hidden):\n",
    "        out, h = self.rnn(context.unsqueeze(0), hidden.expand(self.num_layers, -1, -1).contiguous())\n",
    "        \n",
    "        return out[-1]"
   ]
  },
  {
   "cell_type": "code",
   "execution_count": 33,
   "metadata": {
    "ExecuteTime": {
     "end_time": "2018-12-24T22:30:21.917409Z",
     "start_time": "2018-12-24T22:30:21.892999Z"
    },
    "hidden": true
   },
   "outputs": [],
   "source": [
    "class DeepOutputLayer(nn.Module):\n",
    "    def __init__(self, embed_size, vocab_size, drop=0.5):\n",
    "        super().__init__()\n",
    "        \n",
    "        self.w0 = nn.Linear(embed_size, embed_size)\n",
    "        self.w1 = nn.Linear(embed_size, embed_size)\n",
    "        self.w2 = nn.Linear(embed_size, embed_size)\n",
    "        self.w3 = nn.Linear(embed_size*3, vocab_size)\n",
    "        self.drop = nn.Dropout(drop)\n",
    "        \n",
    "    def forward(self, prev, hidden, context):\n",
    "        # this is called once for each timestep\n",
    "        #(30,256)\n",
    "        a = self.w0(prev)\n",
    "        b = self.w1(hidden)\n",
    "        c = self.w2(context)\n",
    "        out = torch.cat([a,b,c], 1)\n",
    "        \n",
    "        return self.w3(self.drop(out))"
   ]
  },
  {
   "cell_type": "code",
   "execution_count": 37,
   "metadata": {
    "ExecuteTime": {
     "end_time": "2018-12-24T22:32:55.679624Z",
     "start_time": "2018-12-24T22:32:55.647056Z"
    },
    "hidden": true
   },
   "outputs": [],
   "source": [
    "class Net(nn.Module):\n",
    "    def __init__(self, hidden_size, vocab_size, seq_len, n_layers=1):\n",
    "        super(Net, self).__init__()\n",
    "        self.seq_len = seq_len\n",
    "        self.n_layers = n_layers\n",
    "        self.hidden_size = hidden_size\n",
    "        \n",
    "        self.encoder = Encoder(hidden_size)\n",
    "        self.attn    = Attention(hidden_size)\n",
    "        self.decoder = RNNDecoder(hidden_size, n_layers)\n",
    "        self.embed   = nn.Embedding(vocab_size, hidden_size)\n",
    "\n",
    "        self.output  = DeepOutputLayer(hidden_size, vocab_size)\n",
    "        \n",
    "    def forward(self, x, ret_attn=False):\n",
    "        bs = x.size(0)\n",
    "        feats, hidden = self.encoder(x)\n",
    "        \n",
    "        res,attns = [],[]\n",
    "        dec_inp = torch.ones(bs, device=device).long()\n",
    "        \n",
    "        for i in range(self.seq_len):\n",
    "            prev = self.embed(dec_inp)\n",
    "            \n",
    "            context, a = self.attn(hidden, feats)\n",
    "            hidden = self.decoder(context, hidden)\n",
    "            out = self.output(prev, hidden, context)\n",
    "            \n",
    "            if (self.seq_len-i)%40==0: hidden = repackage_var(hidden)\n",
    "\n",
    "            res.append(out)\n",
    "            attns.append(a)\n",
    "            dec_inp = out.data.max(1)[1]\n",
    "            if (dec_inp==0).all(): break\n",
    "\n",
    "        res = torch.stack(res)\n",
    "        if ret_attn: res = res,torch.stack(attns)\n",
    "        return res"
   ]
  },
  {
   "cell_type": "code",
   "execution_count": 38,
   "metadata": {
    "ExecuteTime": {
     "end_time": "2018-12-24T22:33:02.588196Z",
     "start_time": "2018-12-24T22:33:02.013339Z"
    },
    "hidden": true
   },
   "outputs": [],
   "source": [
    "opt_fn = partial(optim.Adam, betas=(0.7, 0.99))\n",
    "rnn = Net(256, len(itos), seq_len, 3)\n",
    "learn = RNN_Learner(data, SingleModel(to_gpu(rnn)), opt_fn=opt_fn)\n",
    "learn.clip = 0.25\n",
    "learn.crit = seq2seq_loss\n",
    "learn.metrics = [char_error_rate]"
   ]
  },
  {
   "cell_type": "code",
   "execution_count": 41,
   "metadata": {
    "ExecuteTime": {
     "end_time": "2018-12-24T22:37:33.811940Z",
     "start_time": "2018-12-24T22:37:33.492446Z"
    },
    "hidden": true
   },
   "outputs": [
    {
     "data": {
      "image/png": "[encoded data removed]",
      "text/plain": [
       "<Figure size 432x288 with 1 Axes>"
      ]
     },
     "metadata": {},
     "output_type": "display_data"
    }
   ],
   "source": [
    "learn.lr_find()\n",
    "learn.sched.plot(n_skip_end=3)"
   ]
  },
  {
   "cell_type": "code",
   "execution_count": 42,
   "metadata": {
    "ExecuteTime": {
     "end_time": "2018-12-24T22:51:25.880933Z",
     "start_time": "2018-12-24T22:37:51.537125Z"
    },
    "hidden": true,
    "scrolled": true
   },
   "outputs": [
    {
     "data": {
      "application/vnd.jupyter.widget-view+json": {
       "model_id": "7f8ef6e505f3419c81593d4ce4fb042a",
       "version_major": 2,
       "version_minor": 0
      },
      "text/plain": [
       "HBox(children=(IntProgress(value=0, description='Epoch', max=3), HTML(value='')))"
      ]
     },
     "metadata": {},
     "output_type": "display_data"
    },
    {
     "name": "stdout",
     "output_type": "stream",
     "text": [
      "epoch      trn_loss   val_loss   char_error_rate           \n",
      "    0      713.192363 704.499696 0.97691   \n",
      "    1      703.668684 703.723694 0.965365                  \n",
      "    2      702.314212 707.595531 0.965373                  \n"
     ]
    },
    {
     "data": {
      "text/plain": [
       "[707.5955312628495, 0.9653725638177648]"
      ]
     },
     "execution_count": 42,
     "metadata": {},
     "output_type": "execute_result"
    }
   ],
   "source": [
    "# lr=1e-4\n",
    "# learn.fit(lr, 3, cycle_len=1, use_clr_beta=(10,10,0.95,0.85))\n",
    "\n",
    "lr=1e-3\n",
    "learn.fit(lr, 3, cycle_len=1, use_clr=(10,4))\n",
    "\n",
    "# 3x1, sz: 64, sl: 45\n",
    "# 68.923135  68.804574  0.778221     sz:96, lr:1e-4\n",
    "# 70.384609  70.11158   0.853604     sz: 64, lr:1e-4 clr_beta, slice: -4    **sz most imp for attn!\n",
    "# 65.013099  64.089046  0.744029     \"\", lr:1e-3 clr, \"\"\n",
    "# 65.116957  63.882609  0.742186     \"\", \"\", \"\", dropout\n",
    "# 66.724635  65.784025  0.750741     \"\", \"\", \"\", \"\", init_hidden            **hidden doesn't make a big difference\n",
    "# 67.904225  66.286942  0.768866     \"\", \"\", \"\", \"\", simplified deep output\n",
    "# 67.210914  68.855696  0.6979 ?     \"\", \"\", \"\", \"\", mod deep output\n",
    "# 63.62897   61.755674  0.716586     \"\", \"\", \"\", \"\", 2 layers\n",
    "# 63.363833  61.547648  0.726961     \"\", \"\", \"\", \"\", 2 layers w/ dropout\n",
    "# 65.447725  64.916475  0.745606     \"\", \"\", \"\", \"\", 2 layers w/ dropout bidir\n",
    "# 66.733563  65.220792  0.725245     \"\", \"\", \"\", \"\", 1 layer bidir\n",
    "# 61.781128  58.316876  0.671617     \"\", \"\", \"\", \"\", 3 layers w/ dropout     ***\n",
    "# 66.353612  65.012771  0.742848     \"\", \"\", \"\", \"\", 3 layers w/ dropout, uniform embedding weights\n",
    "# 66.892848  65.19859   0.747121     \"\", \"\", \"\", \"\", 3 layers w/ dropout, Embedding\n",
    "\n",
    "# 60.088251  56.6687    0.64367      3 layers w/ dropout; data specific normalization stats    ***\n",
    "# 51.163667  48.662667  0.517828     2nd run\n",
    "# 44.073406  43.868489  0.413981     3rd run\n",
    "\n",
    "# 3x2, sz: 128, sl: 75\n",
    "# 134.990034 134.306841 0.831486     lr: 1e-3, slice: -4\n",
    "\n",
    "# large, sz: 256, sl: 200\n",
    "#       3 layer dropout; data norm stats"
   ]
  },
  {
   "cell_type": "code",
   "execution_count": 80,
   "metadata": {
    "ExecuteTime": {
     "end_time": "2018-12-24T17:24:44.020170Z",
     "start_time": "2018-12-24T17:24:43.872802Z"
    },
    "hidden": true
   },
   "outputs": [],
   "source": [
    "learn.save('experiment')"
   ]
  },
  {
   "cell_type": "markdown",
   "metadata": {
    "hidden": true
   },
   "source": [
    "## Increase size - 128"
   ]
  },
  {
   "cell_type": "code",
   "execution_count": 81,
   "metadata": {
    "ExecuteTime": {
     "end_time": "2018-12-24T17:24:50.342263Z",
     "start_time": "2018-12-24T17:24:50.304189Z"
    },
    "hidden": true
   },
   "outputs": [],
   "source": [
    "sz = 128\n",
    "bs = 100"
   ]
  },
  {
   "cell_type": "code",
   "execution_count": 84,
   "metadata": {
    "ExecuteTime": {
     "end_time": "2018-12-24T17:25:13.056656Z",
     "start_time": "2018-12-24T17:25:13.022999Z"
    },
    "hidden": true
   },
   "outputs": [],
   "source": [
    "learn.set_data(data)"
   ]
  },
  {
   "cell_type": "code",
   "execution_count": 85,
   "metadata": {
    "ExecuteTime": {
     "end_time": "2018-12-24T17:38:03.112842Z",
     "start_time": "2018-12-24T17:25:26.463914Z"
    },
    "hidden": true
   },
   "outputs": [
    {
     "data": {
      "application/vnd.jupyter.widget-view+json": {
       "model_id": "467d53f932a34b36b8ef6d094ffb248c",
       "version_major": 2,
       "version_minor": 0
      },
      "text/plain": [
       "HBox(children=(IntProgress(value=0, description='Epoch', max=3), HTML(value='')))"
      ]
     },
     "metadata": {},
     "output_type": "display_data"
    },
    {
     "name": "stdout",
     "output_type": "stream",
     "text": [
      "epoch      trn_loss   val_loss   char_error_rate            \n",
      "    0      30.535941  26.677609  0.199105  \n",
      "    1      28.539327  26.683865  0.193647                   \n",
      "    2      26.790512  25.242548  0.171986                   \n"
     ]
    },
    {
     "data": {
      "text/plain": [
       "[25.24254753112793, 0.17198596832193844]"
      ]
     },
     "execution_count": 85,
     "metadata": {},
     "output_type": "execute_result"
    }
   ],
   "source": [
    "lr = 1e-3\n",
    "learn.fit(lr, 3, cycle_len=1, use_clr=(10,4))\n",
    "# (3x1)\n",
    "# 26.790512  25.242548  0.171986      3 layers w/ dropout; data specific normalization stats    ***"
   ]
  },
  {
   "cell_type": "code",
   "execution_count": null,
   "metadata": {
    "hidden": true
   },
   "outputs": [],
   "source": [
    "learn.save('3x1_128')"
   ]
  },
  {
   "cell_type": "markdown",
   "metadata": {},
   "source": [
    "# Arch word parallel"
   ]
  },
  {
   "cell_type": "code",
   "execution_count": 44,
   "metadata": {
    "ExecuteTime": {
     "end_time": "2018-12-24T22:53:36.855456Z",
     "start_time": "2018-12-24T22:53:36.826335Z"
    }
   },
   "outputs": [],
   "source": [
    "# modified for sz: 64\n",
    "\n",
    "class Encoder(nn.Module):\n",
    "    def __init__(self, embed_size, drop=0.5):\n",
    "        super().__init__()\n",
    "        \n",
    "#         slices = {128: -4, 256: -3, 512: -2}\n",
    "#         s = slices[embed_size]\n",
    "        \n",
    "        net = f(True)\n",
    "        modules = list(net.children())  #[:6]    #(8,8,128)  sz: 64\n",
    "        self.base = nn.Sequential(*modules[:6])\n",
    "        self.linear0 = nn.Linear(128, embed_size)\n",
    "        \n",
    "        self.convs = nn.Sequential(*modules[6:8])\n",
    "        self.linear1 = nn.Linear(512, embed_size)\n",
    "        self.pool = nn.AdaptiveMaxPool1d(30)\n",
    "                \n",
    "        #mlp\n",
    "        self.drop = nn.Dropout(drop)\n",
    "#         self.linear1 = nn.Linear(embed_size, embed_size)\n",
    "#         self.linear2 = nn.Linear(embed_size, embed_size)\n",
    "        \n",
    "    def forward(self, inp):\n",
    "        bs,nf,h,w = inp.size()\n",
    "        \n",
    "        base = self.drop(self.base(inp))\n",
    "        features = self.linear0(base.flatten(2, 3).permute(2, 0, 1))\n",
    "        \n",
    "        h = self.convs(base)\n",
    "        h = self.pool(h.flatten(2,3)).permute(2,0,1)\n",
    "        h = self.linear1(h)\n",
    "        # initial hidden is an average of features fed through an MLP\n",
    "#         h = self.drop(features)\n",
    "#         h = self.linear2(F.relu(self.linear1(h))).mean(0)\n",
    "                        \n",
    "        return features, h"
   ]
  },
  {
   "cell_type": "code",
   "execution_count": 45,
   "metadata": {
    "ExecuteTime": {
     "end_time": "2018-12-24T22:53:42.954938Z",
     "start_time": "2018-12-24T22:53:42.926798Z"
    }
   },
   "outputs": [],
   "source": [
    "def rand_t(*sz): return torch.randn(sz)/math.sqrt(sz[0])\n",
    "def rand_p(*sz): return nn.Parameter(rand_t(*sz))\n",
    "\n",
    "class Attention(nn.Module):\n",
    "    def __init__(self, embed_size, drop=0.1):\n",
    "        super().__init__()\n",
    "\n",
    "        self.attn_1 = nn.Linear(embed_size, embed_size)\n",
    "        self.attn_2 = nn.Linear(embed_size, embed_size)\n",
    "        self.drop   = nn.Dropout(drop)\n",
    "        self.attn_v = rand_p(embed_size)\n",
    "        \n",
    "    def forward(self, hidden, feats):\n",
    "        w1e = self.attn_1(feats)                                        # ([64, bs, 256])\n",
    "        w2h = self.attn_2(hidden)                                       # ([3, bs, 256])\n",
    "        u = self.drop(torch.tanh(w1e.unsqueeze(0) + w2h.unsqueeze(1)))  # ([3, 64, bs, 256])\n",
    "        a = torch.softmax(u @ self.attn_v, -1)                          # ([3, 64, bs]) - attention mask\n",
    "        context = (a.unsqueeze(-1) * feats.unsqueeze(0)).sum(1)         # ([3, bs, 256]) - weighted sum of features\n",
    "        \n",
    "        return context, a"
   ]
  },
  {
   "cell_type": "code",
   "execution_count": 46,
   "metadata": {
    "ExecuteTime": {
     "end_time": "2018-12-24T22:53:48.895776Z",
     "start_time": "2018-12-24T22:53:48.871885Z"
    }
   },
   "outputs": [],
   "source": [
    "class RNNDecoder(nn.Module):\n",
    "    def __init__(self, embed_size, num_layers, drop=0.5):\n",
    "        super().__init__()\n",
    "        \n",
    "        self.num_layers = num_layers\n",
    "        self.rnn = nn.GRU(embed_size, embed_size, num_layers, dropout=drop)\n",
    "\n",
    "    def forward(self, context, hidden):\n",
    "        out, h = self.rnn(context, hidden.mean(0).expand(self.num_layers, -1, -1).contiguous())\n",
    "        \n",
    "        return out"
   ]
  },
  {
   "cell_type": "code",
   "execution_count": 47,
   "metadata": {
    "ExecuteTime": {
     "end_time": "2018-12-24T22:53:54.880211Z",
     "start_time": "2018-12-24T22:53:54.853592Z"
    }
   },
   "outputs": [],
   "source": [
    "class DeepOutputLayer(nn.Module):\n",
    "    def __init__(self, embed_size, vocab_size, drop=0.5):\n",
    "        super().__init__()\n",
    "        \n",
    "        self.w0 = nn.Linear(embed_size, embed_size)\n",
    "        self.w1 = nn.Linear(embed_size, embed_size)\n",
    "        self.w2 = nn.Linear(embed_size, embed_size)\n",
    "        self.w3 = nn.Linear(embed_size*3, vocab_size)\n",
    "        self.drop = nn.Dropout(drop)\n",
    "        \n",
    "    def forward(self, prev, hidden, context):\n",
    "        # this is called once for each timestep\n",
    "        #(30,256)\n",
    "        a = self.w0(prev)\n",
    "        b = self.w1(hidden)\n",
    "        c = self.w2(context)\n",
    "        out = torch.cat([a,b,c], -1)\n",
    "        \n",
    "        return self.w3(self.drop(out))"
   ]
  },
  {
   "cell_type": "code",
   "execution_count": 52,
   "metadata": {
    "ExecuteTime": {
     "end_time": "2018-12-24T22:55:02.416483Z",
     "start_time": "2018-12-24T22:55:02.386466Z"
    }
   },
   "outputs": [],
   "source": [
    "class Net(nn.Module):\n",
    "    def __init__(self, hidden_size, vocab_size, seq_len, n_layers=1):\n",
    "        super(Net, self).__init__()\n",
    "        self.seq_len = seq_len\n",
    "        self.n_layers = n_layers\n",
    "        self.hidden_size = hidden_size\n",
    "        \n",
    "        self.encoder = Encoder(hidden_size)\n",
    "        self.attn    = Attention(hidden_size)\n",
    "        self.decoder = RNNDecoder(hidden_size, n_layers)\n",
    "        self.embed   = nn.Embedding(vocab_size, hidden_size)\n",
    "\n",
    "        self.output  = DeepOutputLayer(hidden_size, vocab_size)\n",
    "        \n",
    "    def forward(self, x, ret_attn=False):\n",
    "        bs = x.size(0)\n",
    "        feats, hidden = self.encoder(x)\n",
    "        \n",
    "        res,attns = [],[]\n",
    "        dec_inp = torch.ones((30, bs), device=device).long()\n",
    "        \n",
    "        for i in range(15):\n",
    "            prev = self.embed(dec_inp)  # word embedding\n",
    "            \n",
    "            context, a = self.attn(hidden, feats)\n",
    "            hidden = self.decoder(context, hidden)\n",
    "            out = self.output(prev, hidden, context)\n",
    "            \n",
    "            res.append(out)\n",
    "            attns.append(a)\n",
    "            dec_inp = torch.argmax(out, dim=-1)\n",
    "            \n",
    "        res = torch.stack(res).flatten(0,1).contiguous()\n",
    "        attns = torch.stack(attns).flatten(0,1)\n",
    "        \n",
    "        if ret_attn: res = res, attns\n",
    "        return res"
   ]
  },
  {
   "cell_type": "code",
   "execution_count": 53,
   "metadata": {
    "ExecuteTime": {
     "end_time": "2018-12-24T22:55:09.197526Z",
     "start_time": "2018-12-24T22:55:08.607581Z"
    }
   },
   "outputs": [],
   "source": [
    "opt_fn = partial(optim.Adam, betas=(0.7, 0.99))\n",
    "rnn = Net(256, len(itos), seq_len, 3)\n",
    "learn = RNN_Learner(data, SingleModel(to_gpu(rnn)), opt_fn=opt_fn)\n",
    "learn.clip = 0.25\n",
    "learn.crit = ctc_loss\n",
    "learn.metrics = [char_error_rate]"
   ]
  },
  {
   "cell_type": "code",
   "execution_count": 54,
   "metadata": {
    "ExecuteTime": {
     "end_time": "2018-12-24T22:55:17.203525Z",
     "start_time": "2018-12-24T22:55:15.292080Z"
    },
    "scrolled": true
   },
   "outputs": [
    {
     "data": {
      "application/vnd.jupyter.widget-view+json": {
       "model_id": "2e51400995c7405eb75879cf37dad7c0",
       "version_major": 2,
       "version_minor": 0
      },
      "text/plain": [
       "HBox(children=(IntProgress(value=0, description='Epoch', max=3), HTML(value='')))"
      ]
     },
     "metadata": {},
     "output_type": "display_data"
    },
    {
     "name": "stdout",
     "output_type": "stream",
     "text": [
      "\r",
      "  0%|          | 0/213 [00:00<?, ?it/s]"
     ]
    },
    {
     "ename": "RuntimeError",
     "evalue": "CUDA error: out of memory",
     "output_type": "error",
     "traceback": [
      "\u001b[0;31m---------------------------------------------------------------------------\u001b[0m",
      "\u001b[0;31mRuntimeError\u001b[0m                              Traceback (most recent call last)",
      "\u001b[0;32m<ipython-input-54-8684346523a0>\u001b[0m in \u001b[0;36m<module>\u001b[0;34m()\u001b[0m\n\u001b[1;32m      1\u001b[0m \u001b[0mlr\u001b[0m\u001b[0;34m=\u001b[0m\u001b[0;36m1e-3\u001b[0m\u001b[0;34m\u001b[0m\u001b[0m\n\u001b[0;32m----> 2\u001b[0;31m \u001b[0mlearn\u001b[0m\u001b[0;34m.\u001b[0m\u001b[0mfit\u001b[0m\u001b[0;34m(\u001b[0m\u001b[0mlr\u001b[0m\u001b[0;34m,\u001b[0m \u001b[0;36m3\u001b[0m\u001b[0;34m,\u001b[0m \u001b[0mcycle_len\u001b[0m\u001b[0;34m=\u001b[0m\u001b[0;36m1\u001b[0m\u001b[0;34m,\u001b[0m \u001b[0muse_clr\u001b[0m\u001b[0;34m=\u001b[0m\u001b[0;34m(\u001b[0m\u001b[0;36m10\u001b[0m\u001b[0;34m,\u001b[0m\u001b[0;36m4\u001b[0m\u001b[0;34m)\u001b[0m\u001b[0;34m)\u001b[0m\u001b[0;34m\u001b[0m\u001b[0m\n\u001b[0m\u001b[1;32m      3\u001b[0m \u001b[0;34m\u001b[0m\u001b[0m\n\u001b[1;32m      4\u001b[0m \u001b[0;31m# 52.665683  49.088483  0.754987    w/ deep output\u001b[0m\u001b[0;34m\u001b[0m\u001b[0;34m\u001b[0m\u001b[0m\n\u001b[1;32m      5\u001b[0m \u001b[0;31m# 41.981947  38.029764  0.719204    2nd run\u001b[0m\u001b[0;34m\u001b[0m\u001b[0;34m\u001b[0m\u001b[0m\n",
      "\u001b[0;32m~/fastai/projects/fastai/text.py\u001b[0m in \u001b[0;36mfit\u001b[0;34m(self, *args, **kwargs)\u001b[0m\n\u001b[1;32m    209\u001b[0m \u001b[0;34m\u001b[0m\u001b[0m\n\u001b[1;32m    210\u001b[0m     \u001b[0;32mdef\u001b[0m \u001b[0m_get_crit\u001b[0m\u001b[0;34m(\u001b[0m\u001b[0mself\u001b[0m\u001b[0;34m,\u001b[0m \u001b[0mdata\u001b[0m\u001b[0;34m)\u001b[0m\u001b[0;34m:\u001b[0m \u001b[0;32mreturn\u001b[0m \u001b[0mF\u001b[0m\u001b[0;34m.\u001b[0m\u001b[0mcross_entropy\u001b[0m\u001b[0;34m\u001b[0m\u001b[0m\n\u001b[0;32m--> 211\u001b[0;31m     \u001b[0;32mdef\u001b[0m \u001b[0mfit\u001b[0m\u001b[0;34m(\u001b[0m\u001b[0mself\u001b[0m\u001b[0;34m,\u001b[0m \u001b[0;34m*\u001b[0m\u001b[0margs\u001b[0m\u001b[0;34m,\u001b[0m \u001b[0;34m**\u001b[0m\u001b[0mkwargs\u001b[0m\u001b[0;34m)\u001b[0m\u001b[0;34m:\u001b[0m \u001b[0;32mreturn\u001b[0m \u001b[0msuper\u001b[0m\u001b[0;34m(\u001b[0m\u001b[0;34m)\u001b[0m\u001b[0;34m.\u001b[0m\u001b[0mfit\u001b[0m\u001b[0;34m(\u001b[0m\u001b[0;34m*\u001b[0m\u001b[0margs\u001b[0m\u001b[0;34m,\u001b[0m \u001b[0;34m**\u001b[0m\u001b[0mkwargs\u001b[0m\u001b[0;34m,\u001b[0m \u001b[0mseq_first\u001b[0m\u001b[0;34m=\u001b[0m\u001b[0;32mTrue\u001b[0m\u001b[0;34m)\u001b[0m\u001b[0;34m\u001b[0m\u001b[0m\n\u001b[0m\u001b[1;32m    212\u001b[0m \u001b[0;34m\u001b[0m\u001b[0m\n\u001b[1;32m    213\u001b[0m     \u001b[0;32mdef\u001b[0m \u001b[0msave_encoder\u001b[0m\u001b[0;34m(\u001b[0m\u001b[0mself\u001b[0m\u001b[0;34m,\u001b[0m \u001b[0mname\u001b[0m\u001b[0;34m)\u001b[0m\u001b[0;34m:\u001b[0m \u001b[0msave_model\u001b[0m\u001b[0;34m(\u001b[0m\u001b[0mself\u001b[0m\u001b[0;34m.\u001b[0m\u001b[0mmodel\u001b[0m\u001b[0;34m[\u001b[0m\u001b[0;36m0\u001b[0m\u001b[0;34m]\u001b[0m\u001b[0;34m,\u001b[0m \u001b[0mself\u001b[0m\u001b[0;34m.\u001b[0m\u001b[0mget_model_path\u001b[0m\u001b[0;34m(\u001b[0m\u001b[0mname\u001b[0m\u001b[0;34m)\u001b[0m\u001b[0;34m)\u001b[0m\u001b[0;34m\u001b[0m\u001b[0m\n",
      "\u001b[0;32m~/fastai/projects/fastai/learner.py\u001b[0m in \u001b[0;36mfit\u001b[0;34m(self, lrs, n_cycle, wds, **kwargs)\u001b[0m\n\u001b[1;32m    300\u001b[0m         \u001b[0mself\u001b[0m\u001b[0;34m.\u001b[0m\u001b[0msched\u001b[0m \u001b[0;34m=\u001b[0m \u001b[0;32mNone\u001b[0m\u001b[0;34m\u001b[0m\u001b[0m\n\u001b[1;32m    301\u001b[0m         \u001b[0mlayer_opt\u001b[0m \u001b[0;34m=\u001b[0m \u001b[0mself\u001b[0m\u001b[0;34m.\u001b[0m\u001b[0mget_layer_opt\u001b[0m\u001b[0;34m(\u001b[0m\u001b[0mlrs\u001b[0m\u001b[0;34m,\u001b[0m \u001b[0mwds\u001b[0m\u001b[0;34m)\u001b[0m\u001b[0;34m\u001b[0m\u001b[0m\n\u001b[0;32m--> 302\u001b[0;31m         \u001b[0;32mreturn\u001b[0m \u001b[0mself\u001b[0m\u001b[0;34m.\u001b[0m\u001b[0mfit_gen\u001b[0m\u001b[0;34m(\u001b[0m\u001b[0mself\u001b[0m\u001b[0;34m.\u001b[0m\u001b[0mmodel\u001b[0m\u001b[0;34m,\u001b[0m \u001b[0mself\u001b[0m\u001b[0;34m.\u001b[0m\u001b[0mdata\u001b[0m\u001b[0;34m,\u001b[0m \u001b[0mlayer_opt\u001b[0m\u001b[0;34m,\u001b[0m \u001b[0mn_cycle\u001b[0m\u001b[0;34m,\u001b[0m \u001b[0;34m**\u001b[0m\u001b[0mkwargs\u001b[0m\u001b[0;34m)\u001b[0m\u001b[0;34m\u001b[0m\u001b[0m\n\u001b[0m\u001b[1;32m    303\u001b[0m \u001b[0;34m\u001b[0m\u001b[0m\n\u001b[1;32m    304\u001b[0m     \u001b[0;32mdef\u001b[0m \u001b[0mwarm_up\u001b[0m\u001b[0;34m(\u001b[0m\u001b[0mself\u001b[0m\u001b[0;34m,\u001b[0m \u001b[0mlr\u001b[0m\u001b[0;34m,\u001b[0m \u001b[0mwds\u001b[0m\u001b[0;34m=\u001b[0m\u001b[0;32mNone\u001b[0m\u001b[0;34m)\u001b[0m\u001b[0;34m:\u001b[0m\u001b[0;34m\u001b[0m\u001b[0m\n",
      "\u001b[0;32m~/fastai/projects/fastai/learner.py\u001b[0m in \u001b[0;36mfit_gen\u001b[0;34m(self, model, data, layer_opt, n_cycle, cycle_len, cycle_mult, cycle_save_name, best_save_name, use_clr, use_clr_beta, metrics, callbacks, use_wd_sched, norm_wds, wds_sched_mult, use_swa, swa_start, swa_eval_freq, **kwargs)\u001b[0m\n\u001b[1;32m    247\u001b[0m             \u001b[0mmetrics\u001b[0m\u001b[0;34m=\u001b[0m\u001b[0mmetrics\u001b[0m\u001b[0;34m,\u001b[0m \u001b[0mcallbacks\u001b[0m\u001b[0;34m=\u001b[0m\u001b[0mcallbacks\u001b[0m\u001b[0;34m,\u001b[0m \u001b[0mreg_fn\u001b[0m\u001b[0;34m=\u001b[0m\u001b[0mself\u001b[0m\u001b[0;34m.\u001b[0m\u001b[0mreg_fn\u001b[0m\u001b[0;34m,\u001b[0m \u001b[0mclip\u001b[0m\u001b[0;34m=\u001b[0m\u001b[0mself\u001b[0m\u001b[0;34m.\u001b[0m\u001b[0mclip\u001b[0m\u001b[0;34m,\u001b[0m \u001b[0mfp16\u001b[0m\u001b[0;34m=\u001b[0m\u001b[0mself\u001b[0m\u001b[0;34m.\u001b[0m\u001b[0mfp16\u001b[0m\u001b[0;34m,\u001b[0m\u001b[0;34m\u001b[0m\u001b[0m\n\u001b[1;32m    248\u001b[0m             \u001b[0mswa_model\u001b[0m\u001b[0;34m=\u001b[0m\u001b[0mself\u001b[0m\u001b[0;34m.\u001b[0m\u001b[0mswa_model\u001b[0m \u001b[0;32mif\u001b[0m \u001b[0muse_swa\u001b[0m \u001b[0;32melse\u001b[0m \u001b[0;32mNone\u001b[0m\u001b[0;34m,\u001b[0m \u001b[0mswa_start\u001b[0m\u001b[0;34m=\u001b[0m\u001b[0mswa_start\u001b[0m\u001b[0;34m,\u001b[0m\u001b[0;34m\u001b[0m\u001b[0m\n\u001b[0;32m--> 249\u001b[0;31m             swa_eval_freq=swa_eval_freq, **kwargs)\n\u001b[0m\u001b[1;32m    250\u001b[0m \u001b[0;34m\u001b[0m\u001b[0m\n\u001b[1;32m    251\u001b[0m     \u001b[0;32mdef\u001b[0m \u001b[0mget_layer_groups\u001b[0m\u001b[0;34m(\u001b[0m\u001b[0mself\u001b[0m\u001b[0;34m)\u001b[0m\u001b[0;34m:\u001b[0m \u001b[0;32mreturn\u001b[0m \u001b[0mself\u001b[0m\u001b[0;34m.\u001b[0m\u001b[0mmodels\u001b[0m\u001b[0;34m.\u001b[0m\u001b[0mget_layer_groups\u001b[0m\u001b[0;34m(\u001b[0m\u001b[0;34m)\u001b[0m\u001b[0;34m\u001b[0m\u001b[0m\n",
      "\u001b[0;32m~/fastai/projects/fastai/model.py\u001b[0m in \u001b[0;36mfit\u001b[0;34m(model, data, n_epochs, opt, crit, metrics, callbacks, stepper, swa_model, swa_start, swa_eval_freq, visualize, **kwargs)\u001b[0m\n\u001b[1;32m    139\u001b[0m             \u001b[0mbatch_num\u001b[0m \u001b[0;34m+=\u001b[0m \u001b[0;36m1\u001b[0m\u001b[0;34m\u001b[0m\u001b[0m\n\u001b[1;32m    140\u001b[0m             \u001b[0;32mfor\u001b[0m \u001b[0mcb\u001b[0m \u001b[0;32min\u001b[0m \u001b[0mcallbacks\u001b[0m\u001b[0;34m:\u001b[0m \u001b[0mcb\u001b[0m\u001b[0;34m.\u001b[0m\u001b[0mon_batch_begin\u001b[0m\u001b[0;34m(\u001b[0m\u001b[0;34m)\u001b[0m\u001b[0;34m\u001b[0m\u001b[0m\n\u001b[0;32m--> 141\u001b[0;31m             \u001b[0mloss\u001b[0m \u001b[0;34m=\u001b[0m \u001b[0mmodel_stepper\u001b[0m\u001b[0;34m.\u001b[0m\u001b[0mstep\u001b[0m\u001b[0;34m(\u001b[0m\u001b[0mV\u001b[0m\u001b[0;34m(\u001b[0m\u001b[0mx\u001b[0m\u001b[0;34m)\u001b[0m\u001b[0;34m,\u001b[0m\u001b[0mV\u001b[0m\u001b[0;34m(\u001b[0m\u001b[0my\u001b[0m\u001b[0;34m)\u001b[0m\u001b[0;34m,\u001b[0m \u001b[0mepoch\u001b[0m\u001b[0;34m)\u001b[0m\u001b[0;34m\u001b[0m\u001b[0m\n\u001b[0m\u001b[1;32m    142\u001b[0m             \u001b[0mavg_loss\u001b[0m \u001b[0;34m=\u001b[0m \u001b[0mavg_loss\u001b[0m \u001b[0;34m*\u001b[0m \u001b[0mavg_mom\u001b[0m \u001b[0;34m+\u001b[0m \u001b[0mloss\u001b[0m \u001b[0;34m*\u001b[0m \u001b[0;34m(\u001b[0m\u001b[0;36m1\u001b[0m\u001b[0;34m-\u001b[0m\u001b[0mavg_mom\u001b[0m\u001b[0;34m)\u001b[0m\u001b[0;34m\u001b[0m\u001b[0m\n\u001b[1;32m    143\u001b[0m             \u001b[0mdebias_loss\u001b[0m \u001b[0;34m=\u001b[0m \u001b[0mavg_loss\u001b[0m \u001b[0;34m/\u001b[0m \u001b[0;34m(\u001b[0m\u001b[0;36m1\u001b[0m \u001b[0;34m-\u001b[0m \u001b[0mavg_mom\u001b[0m\u001b[0;34m**\u001b[0m\u001b[0mbatch_num\u001b[0m\u001b[0;34m)\u001b[0m\u001b[0;34m\u001b[0m\u001b[0m\n",
      "\u001b[0;32m~/fastai/projects/fastai/model.py\u001b[0m in \u001b[0;36mstep\u001b[0;34m(self, xs, y, epoch)\u001b[0m\n\u001b[1;32m     48\u001b[0m     \u001b[0;32mdef\u001b[0m \u001b[0mstep\u001b[0m\u001b[0;34m(\u001b[0m\u001b[0mself\u001b[0m\u001b[0;34m,\u001b[0m \u001b[0mxs\u001b[0m\u001b[0;34m,\u001b[0m \u001b[0my\u001b[0m\u001b[0;34m,\u001b[0m \u001b[0mepoch\u001b[0m\u001b[0;34m)\u001b[0m\u001b[0;34m:\u001b[0m\u001b[0;34m\u001b[0m\u001b[0m\n\u001b[1;32m     49\u001b[0m         \u001b[0mxtra\u001b[0m \u001b[0;34m=\u001b[0m \u001b[0;34m[\u001b[0m\u001b[0;34m]\u001b[0m\u001b[0;34m\u001b[0m\u001b[0m\n\u001b[0;32m---> 50\u001b[0;31m         \u001b[0moutput\u001b[0m \u001b[0;34m=\u001b[0m \u001b[0mself\u001b[0m\u001b[0;34m.\u001b[0m\u001b[0mm\u001b[0m\u001b[0;34m(\u001b[0m\u001b[0;34m*\u001b[0m\u001b[0mxs\u001b[0m\u001b[0;34m)\u001b[0m\u001b[0;34m\u001b[0m\u001b[0m\n\u001b[0m\u001b[1;32m     51\u001b[0m         \u001b[0;32mif\u001b[0m \u001b[0misinstance\u001b[0m\u001b[0;34m(\u001b[0m\u001b[0moutput\u001b[0m\u001b[0;34m,\u001b[0m\u001b[0mtuple\u001b[0m\u001b[0;34m)\u001b[0m\u001b[0;34m:\u001b[0m \u001b[0moutput\u001b[0m\u001b[0;34m,\u001b[0m\u001b[0;34m*\u001b[0m\u001b[0mxtra\u001b[0m \u001b[0;34m=\u001b[0m \u001b[0moutput\u001b[0m\u001b[0;34m\u001b[0m\u001b[0m\n\u001b[1;32m     52\u001b[0m         \u001b[0;32mif\u001b[0m \u001b[0mself\u001b[0m\u001b[0;34m.\u001b[0m\u001b[0mfp16\u001b[0m\u001b[0;34m:\u001b[0m \u001b[0mself\u001b[0m\u001b[0;34m.\u001b[0m\u001b[0mm\u001b[0m\u001b[0;34m.\u001b[0m\u001b[0mzero_grad\u001b[0m\u001b[0;34m(\u001b[0m\u001b[0;34m)\u001b[0m\u001b[0;34m\u001b[0m\u001b[0m\n",
      "\u001b[0;32m~/anaconda3/envs/fastai/lib/python3.6/site-packages/torch/nn/modules/module.py\u001b[0m in \u001b[0;36m__call__\u001b[0;34m(self, *input, **kwargs)\u001b[0m\n\u001b[1;32m    475\u001b[0m             \u001b[0mresult\u001b[0m \u001b[0;34m=\u001b[0m \u001b[0mself\u001b[0m\u001b[0;34m.\u001b[0m\u001b[0m_slow_forward\u001b[0m\u001b[0;34m(\u001b[0m\u001b[0;34m*\u001b[0m\u001b[0minput\u001b[0m\u001b[0;34m,\u001b[0m \u001b[0;34m**\u001b[0m\u001b[0mkwargs\u001b[0m\u001b[0;34m)\u001b[0m\u001b[0;34m\u001b[0m\u001b[0m\n\u001b[1;32m    476\u001b[0m         \u001b[0;32melse\u001b[0m\u001b[0;34m:\u001b[0m\u001b[0;34m\u001b[0m\u001b[0m\n\u001b[0;32m--> 477\u001b[0;31m             \u001b[0mresult\u001b[0m \u001b[0;34m=\u001b[0m \u001b[0mself\u001b[0m\u001b[0;34m.\u001b[0m\u001b[0mforward\u001b[0m\u001b[0;34m(\u001b[0m\u001b[0;34m*\u001b[0m\u001b[0minput\u001b[0m\u001b[0;34m,\u001b[0m \u001b[0;34m**\u001b[0m\u001b[0mkwargs\u001b[0m\u001b[0;34m)\u001b[0m\u001b[0;34m\u001b[0m\u001b[0m\n\u001b[0m\u001b[1;32m    478\u001b[0m         \u001b[0;32mfor\u001b[0m \u001b[0mhook\u001b[0m \u001b[0;32min\u001b[0m \u001b[0mself\u001b[0m\u001b[0;34m.\u001b[0m\u001b[0m_forward_hooks\u001b[0m\u001b[0;34m.\u001b[0m\u001b[0mvalues\u001b[0m\u001b[0;34m(\u001b[0m\u001b[0;34m)\u001b[0m\u001b[0;34m:\u001b[0m\u001b[0;34m\u001b[0m\u001b[0m\n\u001b[1;32m    479\u001b[0m             \u001b[0mhook_result\u001b[0m \u001b[0;34m=\u001b[0m \u001b[0mhook\u001b[0m\u001b[0;34m(\u001b[0m\u001b[0mself\u001b[0m\u001b[0;34m,\u001b[0m \u001b[0minput\u001b[0m\u001b[0;34m,\u001b[0m \u001b[0mresult\u001b[0m\u001b[0;34m)\u001b[0m\u001b[0;34m\u001b[0m\u001b[0m\n",
      "\u001b[0;32m<ipython-input-52-45fe86a7eca0>\u001b[0m in \u001b[0;36mforward\u001b[0;34m(self, x, ret_attn)\u001b[0m\n\u001b[1;32m     23\u001b[0m             \u001b[0mprev\u001b[0m \u001b[0;34m=\u001b[0m \u001b[0mself\u001b[0m\u001b[0;34m.\u001b[0m\u001b[0membed\u001b[0m\u001b[0;34m(\u001b[0m\u001b[0mdec_inp\u001b[0m\u001b[0;34m)\u001b[0m  \u001b[0;31m# word embedding\u001b[0m\u001b[0;34m\u001b[0m\u001b[0m\n\u001b[1;32m     24\u001b[0m \u001b[0;34m\u001b[0m\u001b[0m\n\u001b[0;32m---> 25\u001b[0;31m             \u001b[0mcontext\u001b[0m\u001b[0;34m,\u001b[0m \u001b[0ma\u001b[0m \u001b[0;34m=\u001b[0m \u001b[0mself\u001b[0m\u001b[0;34m.\u001b[0m\u001b[0mattn\u001b[0m\u001b[0;34m(\u001b[0m\u001b[0mhidden\u001b[0m\u001b[0;34m,\u001b[0m \u001b[0mfeats\u001b[0m\u001b[0;34m)\u001b[0m\u001b[0;34m\u001b[0m\u001b[0m\n\u001b[0m\u001b[1;32m     26\u001b[0m             \u001b[0mhidden\u001b[0m \u001b[0;34m=\u001b[0m \u001b[0mself\u001b[0m\u001b[0;34m.\u001b[0m\u001b[0mdecoder\u001b[0m\u001b[0;34m(\u001b[0m\u001b[0mcontext\u001b[0m\u001b[0;34m,\u001b[0m \u001b[0mhidden\u001b[0m\u001b[0;34m)\u001b[0m\u001b[0;34m\u001b[0m\u001b[0m\n\u001b[1;32m     27\u001b[0m             \u001b[0mout\u001b[0m \u001b[0;34m=\u001b[0m \u001b[0mself\u001b[0m\u001b[0;34m.\u001b[0m\u001b[0moutput\u001b[0m\u001b[0;34m(\u001b[0m\u001b[0mprev\u001b[0m\u001b[0;34m,\u001b[0m \u001b[0mhidden\u001b[0m\u001b[0;34m,\u001b[0m \u001b[0mcontext\u001b[0m\u001b[0;34m)\u001b[0m\u001b[0;34m\u001b[0m\u001b[0m\n",
      "\u001b[0;32m~/anaconda3/envs/fastai/lib/python3.6/site-packages/torch/nn/modules/module.py\u001b[0m in \u001b[0;36m__call__\u001b[0;34m(self, *input, **kwargs)\u001b[0m\n\u001b[1;32m    475\u001b[0m             \u001b[0mresult\u001b[0m \u001b[0;34m=\u001b[0m \u001b[0mself\u001b[0m\u001b[0;34m.\u001b[0m\u001b[0m_slow_forward\u001b[0m\u001b[0;34m(\u001b[0m\u001b[0;34m*\u001b[0m\u001b[0minput\u001b[0m\u001b[0;34m,\u001b[0m \u001b[0;34m**\u001b[0m\u001b[0mkwargs\u001b[0m\u001b[0;34m)\u001b[0m\u001b[0;34m\u001b[0m\u001b[0m\n\u001b[1;32m    476\u001b[0m         \u001b[0;32melse\u001b[0m\u001b[0;34m:\u001b[0m\u001b[0;34m\u001b[0m\u001b[0m\n\u001b[0;32m--> 477\u001b[0;31m             \u001b[0mresult\u001b[0m \u001b[0;34m=\u001b[0m \u001b[0mself\u001b[0m\u001b[0;34m.\u001b[0m\u001b[0mforward\u001b[0m\u001b[0;34m(\u001b[0m\u001b[0;34m*\u001b[0m\u001b[0minput\u001b[0m\u001b[0;34m,\u001b[0m \u001b[0;34m**\u001b[0m\u001b[0mkwargs\u001b[0m\u001b[0;34m)\u001b[0m\u001b[0;34m\u001b[0m\u001b[0m\n\u001b[0m\u001b[1;32m    478\u001b[0m         \u001b[0;32mfor\u001b[0m \u001b[0mhook\u001b[0m \u001b[0;32min\u001b[0m \u001b[0mself\u001b[0m\u001b[0;34m.\u001b[0m\u001b[0m_forward_hooks\u001b[0m\u001b[0;34m.\u001b[0m\u001b[0mvalues\u001b[0m\u001b[0;34m(\u001b[0m\u001b[0;34m)\u001b[0m\u001b[0;34m:\u001b[0m\u001b[0;34m\u001b[0m\u001b[0m\n\u001b[1;32m    479\u001b[0m             \u001b[0mhook_result\u001b[0m \u001b[0;34m=\u001b[0m \u001b[0mhook\u001b[0m\u001b[0;34m(\u001b[0m\u001b[0mself\u001b[0m\u001b[0;34m,\u001b[0m \u001b[0minput\u001b[0m\u001b[0;34m,\u001b[0m \u001b[0mresult\u001b[0m\u001b[0;34m)\u001b[0m\u001b[0;34m\u001b[0m\u001b[0m\n",
      "\u001b[0;32m<ipython-input-45-2702858a367f>\u001b[0m in \u001b[0;36mforward\u001b[0;34m(self, hidden, feats)\u001b[0m\n\u001b[1;32m     14\u001b[0m         \u001b[0mw1e\u001b[0m \u001b[0;34m=\u001b[0m \u001b[0mself\u001b[0m\u001b[0;34m.\u001b[0m\u001b[0mattn_1\u001b[0m\u001b[0;34m(\u001b[0m\u001b[0mfeats\u001b[0m\u001b[0;34m)\u001b[0m                                        \u001b[0;31m# ([64, bs, 256])\u001b[0m\u001b[0;34m\u001b[0m\u001b[0m\n\u001b[1;32m     15\u001b[0m         \u001b[0mw2h\u001b[0m \u001b[0;34m=\u001b[0m \u001b[0mself\u001b[0m\u001b[0;34m.\u001b[0m\u001b[0mattn_2\u001b[0m\u001b[0;34m(\u001b[0m\u001b[0mhidden\u001b[0m\u001b[0;34m)\u001b[0m                                       \u001b[0;31m# ([3, bs, 256])\u001b[0m\u001b[0;34m\u001b[0m\u001b[0m\n\u001b[0;32m---> 16\u001b[0;31m         \u001b[0mu\u001b[0m \u001b[0;34m=\u001b[0m \u001b[0mself\u001b[0m\u001b[0;34m.\u001b[0m\u001b[0mdrop\u001b[0m\u001b[0;34m(\u001b[0m\u001b[0mtorch\u001b[0m\u001b[0;34m.\u001b[0m\u001b[0mtanh\u001b[0m\u001b[0;34m(\u001b[0m\u001b[0mw1e\u001b[0m\u001b[0;34m.\u001b[0m\u001b[0munsqueeze\u001b[0m\u001b[0;34m(\u001b[0m\u001b[0;36m0\u001b[0m\u001b[0;34m)\u001b[0m \u001b[0;34m+\u001b[0m \u001b[0mw2h\u001b[0m\u001b[0;34m.\u001b[0m\u001b[0munsqueeze\u001b[0m\u001b[0;34m(\u001b[0m\u001b[0;36m1\u001b[0m\u001b[0;34m)\u001b[0m\u001b[0;34m)\u001b[0m\u001b[0;34m)\u001b[0m  \u001b[0;31m# ([3, 64, bs, 256])\u001b[0m\u001b[0;34m\u001b[0m\u001b[0m\n\u001b[0m\u001b[1;32m     17\u001b[0m         \u001b[0ma\u001b[0m \u001b[0;34m=\u001b[0m \u001b[0mtorch\u001b[0m\u001b[0;34m.\u001b[0m\u001b[0msoftmax\u001b[0m\u001b[0;34m(\u001b[0m\u001b[0mu\u001b[0m \u001b[0;34m@\u001b[0m \u001b[0mself\u001b[0m\u001b[0;34m.\u001b[0m\u001b[0mattn_v\u001b[0m\u001b[0;34m,\u001b[0m \u001b[0;34m-\u001b[0m\u001b[0;36m1\u001b[0m\u001b[0;34m)\u001b[0m                          \u001b[0;31m# ([3, 64, bs]) - attention mask\u001b[0m\u001b[0;34m\u001b[0m\u001b[0m\n\u001b[1;32m     18\u001b[0m         \u001b[0mcontext\u001b[0m \u001b[0;34m=\u001b[0m \u001b[0;34m(\u001b[0m\u001b[0ma\u001b[0m\u001b[0;34m.\u001b[0m\u001b[0munsqueeze\u001b[0m\u001b[0;34m(\u001b[0m\u001b[0;34m-\u001b[0m\u001b[0;36m1\u001b[0m\u001b[0;34m)\u001b[0m \u001b[0;34m*\u001b[0m \u001b[0mfeats\u001b[0m\u001b[0;34m.\u001b[0m\u001b[0munsqueeze\u001b[0m\u001b[0;34m(\u001b[0m\u001b[0;36m0\u001b[0m\u001b[0;34m)\u001b[0m\u001b[0;34m)\u001b[0m\u001b[0;34m.\u001b[0m\u001b[0msum\u001b[0m\u001b[0;34m(\u001b[0m\u001b[0;36m1\u001b[0m\u001b[0;34m)\u001b[0m         \u001b[0;31m# ([3, bs, 256]) - weighted sum of features\u001b[0m\u001b[0;34m\u001b[0m\u001b[0m\n",
      "\u001b[0;31mRuntimeError\u001b[0m: CUDA error: out of memory"
     ]
    }
   ],
   "source": [
    "lr=1e-3\n",
    "learn.fit(lr, 3, cycle_len=1, use_clr=(10,4))\n",
    "\n",
    "# 52.665683  49.088483  0.754987    w/ deep output\n",
    "# 41.981947  38.029764  0.719204    2nd run\n",
    "# 35.092354  30.711854  0.708282    3rd run\n",
    "# 32.270289  25.463737  0.901564    4th run"
   ]
  },
  {
   "cell_type": "code",
   "execution_count": 27,
   "metadata": {
    "ExecuteTime": {
     "end_time": "2018-12-24T16:33:17.372569Z",
     "start_time": "2018-12-24T16:33:16.971217Z"
    }
   },
   "outputs": [],
   "source": [
    "learn.save('3x1_parallel')"
   ]
  },
  {
   "cell_type": "code",
   "execution_count": 25,
   "metadata": {
    "ExecuteTime": {
     "end_time": "2018-12-24T16:22:35.648357Z",
     "start_time": "2018-12-24T16:22:35.260536Z"
    }
   },
   "outputs": [],
   "source": [
    "learn.load('3x1_parallel')"
   ]
  },
  {
   "cell_type": "markdown",
   "metadata": {
    "heading_collapsed": true
   },
   "source": [
    "# Conv Seq2seq Arch"
   ]
  },
  {
   "cell_type": "code",
   "execution_count": 16,
   "metadata": {
    "ExecuteTime": {
     "end_time": "2018-12-03T18:24:41.456757Z",
     "start_time": "2018-12-03T18:24:41.418554Z"
    },
    "collapsed": true,
    "hidden": true
   },
   "outputs": [],
   "source": [
    "def Conv1d(in_channels, out_channels, kernel_size, dropout=0, **kwargs):\n",
    "    \"\"\"Weight-normalized Conv1d layer\"\"\"\n",
    "    m = nn.Conv1d(in_channels, out_channels, kernel_size, **kwargs)\n",
    "    std = math.sqrt((4 * (1.0 - dropout)) / (m.kernel_size[0] * in_channels))\n",
    "    nn.init.normal_(m.weight, mean=0, std=std)\n",
    "    nn.init.constant_(m.bias, 0)\n",
    "    return nn.utils.weight_norm(m, dim=2)\n",
    "\n",
    "def Linear(in_features, out_features, dropout=0):\n",
    "    \"\"\"Weight-normalized Linear layer (input: N x T x C)\"\"\"\n",
    "    m = nn.Linear(in_features, out_features)\n",
    "    nn.init.normal_(m.weight, mean=0, std=math.sqrt((1 - dropout) / in_features))\n",
    "    nn.init.constant_(m.bias, 0)\n",
    "    return nn.utils.weight_norm(m)\n",
    "\n",
    "def Embedding(num_embeddings, embedding_dim, padding_idx=0):\n",
    "    m = nn.Embedding(num_embeddings, embedding_dim, padding_idx=padding_idx)\n",
    "    nn.init.normal_(m.weight, 0, 0.1)\n",
    "    nn.init.constant_(m.weight[padding_idx], 0)\n",
    "    return m\n",
    "\n",
    "class GradMultiply(torch.autograd.Function):\n",
    "    @staticmethod\n",
    "    def forward(ctx, x, scale):\n",
    "        ctx.scale = scale\n",
    "        res = x.new(x)\n",
    "        return res\n",
    "\n",
    "    @staticmethod\n",
    "    def backward(ctx, grad):\n",
    "        return grad * ctx.scale, None"
   ]
  },
  {
   "cell_type": "code",
   "execution_count": 17,
   "metadata": {
    "ExecuteTime": {
     "end_time": "2018-12-03T18:24:45.709346Z",
     "start_time": "2018-12-03T18:24:45.678022Z"
    },
    "collapsed": true,
    "hidden": true
   },
   "outputs": [],
   "source": [
    "class ConvLayer(nn.Module):\n",
    "    def __init__(self, embed_size, k, drop=0.2):\n",
    "        super().__init__()\n",
    "        \n",
    "        self.drop = nn.Dropout(drop)\n",
    "        \n",
    "        padding = k // 2 if (k % 2 == 1) else 0   # maintain size w/ appropriate padding\n",
    "        self.conv = Conv1d(embed_size, embed_size*2, k, dropout=drop, padding=padding)\n",
    "\n",
    "    def forward(self, x):\n",
    "        x = F.glu(self.conv(self.drop(x)), dim=1)\n",
    "        return x"
   ]
  },
  {
   "cell_type": "code",
   "execution_count": 18,
   "metadata": {
    "ExecuteTime": {
     "end_time": "2018-12-03T18:24:47.649723Z",
     "start_time": "2018-12-03T18:24:47.618034Z"
    },
    "collapsed": true,
    "hidden": true
   },
   "outputs": [],
   "source": [
    "class InputEmbedding(nn.Module):\n",
    "    def __init__(self, embed_size, drop=0.2):\n",
    "        super().__init__()\n",
    "        \n",
    "        slices = {128: -4, 256: -3, 512: -2}\n",
    "        s = slices[embed_size]\n",
    "        \n",
    "        net = f(True)\n",
    "        modules = list(net.children())[:s]    #(8,8,256)  sz: 128\n",
    "        self.base = nn.Sequential(*modules)\n",
    "        \n",
    "        self.drop = nn.Dropout(drop)\n",
    "        \n",
    "    def forward(self, x):\n",
    "        x = self.drop(self.base(x).flatten(2, 3))\n",
    "        return x"
   ]
  },
  {
   "cell_type": "code",
   "execution_count": 19,
   "metadata": {
    "ExecuteTime": {
     "end_time": "2018-12-03T18:24:51.171400Z",
     "start_time": "2018-12-03T18:24:51.139571Z"
    },
    "collapsed": true,
    "hidden": true
   },
   "outputs": [],
   "source": [
    "class Encoder(nn.Module):\n",
    "    def __init__(self, embed_size, num_layers, num_dec_layers, drop=0.2):\n",
    "        super().__init__()\n",
    "        \n",
    "        self.num_dec_layers = num_dec_layers\n",
    "        \n",
    "        self.convs = nn.ModuleList()\n",
    "        for l in range(num_layers):\n",
    "            self.convs.append(ConvLayer(embed_size,3,drop))\n",
    "        \n",
    "    def forward(self, input_embedding):\n",
    "        x = input_embedding\n",
    "        \n",
    "        for conv in self.convs:\n",
    "            residual = x\n",
    "            x = conv(x)\n",
    "            x = (x + residual) * math.sqrt(0.5)\n",
    "            \n",
    "        # scale gradients (this only affects backward, not forward)\n",
    "        x = GradMultiply.apply(x, 1.0 / (2.0 * self.num_dec_layers))\n",
    "        \n",
    "        # add final output to input embedding for attention\n",
    "        x = (x + input_embedding) * math.sqrt(0.5)\n",
    "        \n",
    "        return x   #=> ([bs, em_sz, 16])"
   ]
  },
  {
   "cell_type": "code",
   "execution_count": 22,
   "metadata": {
    "ExecuteTime": {
     "end_time": "2018-11-30T22:55:52.702990Z",
     "start_time": "2018-11-30T22:55:52.675340Z"
    },
    "collapsed": true,
    "hidden": true
   },
   "outputs": [],
   "source": [
    "class ConvAttention(nn.Module):\n",
    "    def __init__(self):\n",
    "        super().__init__()\n",
    "                \n",
    "    def forward(self, x, target_embedding, encoder_out):\n",
    "        residual = x\n",
    "                \n",
    "        x = (x + target_embedding) * math.sqrt(0.5)\n",
    "        x = torch.bmm(x.permute(0, 2, 1), encoder_out[0])\n",
    "\n",
    "        # softmax over last dim\n",
    "        x = F.softmax(x, dim=-1)                            #=> ([bs, targ_len, src_len])\n",
    "        attn_scores = x\n",
    "\n",
    "        x = torch.bmm(x, encoder_out[1].permute(0, 2, 1))   #=> ([bs, targ_len, em_sz])\n",
    "\n",
    "        # scale attention output by src_len (respecting potentially different lengths)\n",
    "        s = encoder_out[1].size(-1)\n",
    "        x = x * (s * math.sqrt(1.0 / s))\n",
    "        \n",
    "        x = x.permute(0, 2, 1)\n",
    "\n",
    "        x = (x + residual) * math.sqrt(0.5)\n",
    "        return x, attn_scores"
   ]
  },
  {
   "cell_type": "code",
   "execution_count": 23,
   "metadata": {
    "ExecuteTime": {
     "end_time": "2018-11-30T22:55:54.458759Z",
     "start_time": "2018-11-30T22:55:54.429585Z"
    },
    "collapsed": true,
    "hidden": true
   },
   "outputs": [],
   "source": [
    "class Decoder(nn.Module):\n",
    "    def __init__(self, embed_size, num_layers, vocab_size, drop=0.2):\n",
    "        super().__init__()\n",
    "        \n",
    "#         self.embed = Embedding(vocab_size, embed_size)\n",
    "\n",
    "        self.convs = nn.ModuleList()\n",
    "        self.attentions = nn.ModuleList()\n",
    "        \n",
    "        for l in range(num_layers):\n",
    "            self.convs.append(ConvLayer(embed_size,3,drop))\n",
    "            self.attentions.append(ConvAttention())\n",
    "        \n",
    "    def forward(self, target_embedding, encoder_out):\n",
    "#         target_embedding = self.embed(target.long())        # convert floats => idxs   ([bs, 32, em_sz])\n",
    "#         target_embedding = target_embedding.permute(0,2,1)  # match encoder out shapes ([bs, em_sz, 32])\n",
    "        x = target_embedding\n",
    "        \n",
    "        attn_scores = None\n",
    "        for conv,attention in zip(self.convs, self.attentions):\n",
    "            residual = x\n",
    "            x = conv(x)            \n",
    "            x, attn_scores = attention(x, target_embedding, encoder_out)\n",
    "            x = (x + residual) * math.sqrt(0.5)  # this must be before attn for training to progress\n",
    "\n",
    "        return x, attn_scores"
   ]
  },
  {
   "cell_type": "code",
   "execution_count": 24,
   "metadata": {
    "ExecuteTime": {
     "end_time": "2018-11-30T22:55:56.340698Z",
     "start_time": "2018-11-30T22:55:56.311002Z"
    },
    "collapsed": true,
    "hidden": true
   },
   "outputs": [],
   "source": [
    "class Net(nn.Module):\n",
    "    def __init__(self, embed_size, vocab_size, seq_len, enc_layers=3, dec_layers=3, drop=0.2):\n",
    "        super(Net, self).__init__()\n",
    "        self.seq_len = seq_len\n",
    "        \n",
    "        self.features = InputEmbedding(embed_size)\n",
    "        self.linear   = Linear(sz//4, seq_len)\n",
    "        \n",
    "        self.encoder = Encoder(embed_size, enc_layers, dec_layers)\n",
    "        self.decoder = Decoder(embed_size, dec_layers, vocab_size)\n",
    "\n",
    "        #mlp\n",
    "        self.drop = nn.Dropout(drop)\n",
    "        self.linear1 = Linear(embed_size, embed_size//2)\n",
    "        self.linear2 = Linear(embed_size//2, vocab_size)\n",
    "        \n",
    "    def forward(self, x, targets=None, ret_attn=False):\n",
    "        bs = x.size(0)\n",
    "        feats = self.features(x)\n",
    "\n",
    "        x = self.encoder(feats)       #=> ([bs, em_sz, 16])\n",
    "        targets = self.linear(feats)\n",
    "        \n",
    "#         targets = torch.ones((bs, self.seq_len), device=device) if targets is None else targets\n",
    "        x, a = self.decoder(targets, x)     #=> ([120, 256, 31]), ([120, 31, 16])\n",
    "        \n",
    "        x = self.linear2(F.relu(self.drop(self.linear1( x.permute(0,2,1) ))))  #=> (bs, sl, vocab)\n",
    "\n",
    "        # loss expects sl,bs,vocab\n",
    "        x = x.permute(1,0,2).contiguous()\n",
    "        return x,a if ret_attn else x"
   ]
  },
  {
   "cell_type": "code",
   "execution_count": 23,
   "metadata": {
    "ExecuteTime": {
     "end_time": "2018-12-03T18:25:32.761799Z",
     "start_time": "2018-12-03T18:25:26.745400Z"
    },
    "collapsed": true,
    "hidden": true
   },
   "outputs": [],
   "source": [
    "opt_fn = partial(optim.Adam, betas=(0.7, 0.99))\n",
    "rnn = Net(256, len(itos), 45)\n",
    "learn = RNN_Learner(data, SingleModel(to_gpu(rnn)), opt_fn=opt_fn)\n",
    "learn.clip = 0.25\n",
    "learn.crit = seq2seq_loss\n",
    "learn.metrics = [char_error_rate]"
   ]
  },
  {
   "cell_type": "markdown",
   "metadata": {
    "heading_collapsed": true
   },
   "source": [
    "# Simplified Conv Seq2seq Arch"
   ]
  },
  {
   "cell_type": "code",
   "execution_count": 36,
   "metadata": {
    "ExecuteTime": {
     "end_time": "2018-12-24T16:47:30.926042Z",
     "start_time": "2018-12-24T16:47:30.898664Z"
    },
    "hidden": true
   },
   "outputs": [],
   "source": [
    "def Conv1d(in_channels, out_channels, kernel_size, dropout=0, **kwargs):\n",
    "    \"\"\"Weight-normalized Conv1d layer\"\"\"\n",
    "    m = nn.Conv1d(in_channels, out_channels, kernel_size, **kwargs)\n",
    "    std = math.sqrt((4 * (1.0 - dropout)) / (m.kernel_size[0] * in_channels))\n",
    "    nn.init.normal_(m.weight, mean=0, std=std)\n",
    "    nn.init.constant_(m.bias, 0)\n",
    "    return nn.utils.weight_norm(m, dim=2)\n",
    "\n",
    "def Linear(in_features, out_features, dropout=0):\n",
    "    \"\"\"Weight-normalized Linear layer (input: N x T x C)\"\"\"\n",
    "    m = nn.Linear(in_features, out_features)\n",
    "    nn.init.normal_(m.weight, mean=0, std=math.sqrt((1 - dropout) / in_features))\n",
    "    nn.init.constant_(m.bias, 0)\n",
    "    return nn.utils.weight_norm(m)\n",
    "\n",
    "def Embedding(num_embeddings, embedding_dim, padding_idx=0):\n",
    "    m = nn.Embedding(num_embeddings, embedding_dim, padding_idx=padding_idx)\n",
    "    nn.init.normal_(m.weight, 0, 0.1)\n",
    "    nn.init.constant_(m.weight[padding_idx], 0)\n",
    "    return m\n",
    "\n",
    "class GradMultiply(torch.autograd.Function):\n",
    "    @staticmethod\n",
    "    def forward(ctx, x, scale):\n",
    "        ctx.scale = scale\n",
    "        res = x.new(x)\n",
    "        return res\n",
    "\n",
    "    @staticmethod\n",
    "    def backward(ctx, grad):\n",
    "        return grad * ctx.scale, None"
   ]
  },
  {
   "cell_type": "code",
   "execution_count": 37,
   "metadata": {
    "ExecuteTime": {
     "end_time": "2018-12-24T16:47:32.875508Z",
     "start_time": "2018-12-24T16:47:32.853379Z"
    },
    "hidden": true
   },
   "outputs": [],
   "source": [
    "class ConvLayer(nn.Module):\n",
    "    def __init__(self, embed_size, k, drop=0.2):\n",
    "        super().__init__()\n",
    "        \n",
    "        self.drop = nn.Dropout(drop)\n",
    "        \n",
    "        padding = k // 2 if (k % 2 == 1) else 0   # maintain size w/ appropriate padding\n",
    "        self.conv = Conv1d(embed_size, embed_size*2, k, dropout=drop, padding=padding)\n",
    "\n",
    "    def forward(self, x):\n",
    "        x = F.glu(self.conv(self.drop(x)), dim=1)\n",
    "        return x"
   ]
  },
  {
   "cell_type": "code",
   "execution_count": 38,
   "metadata": {
    "ExecuteTime": {
     "end_time": "2018-12-24T16:47:34.903567Z",
     "start_time": "2018-12-24T16:47:34.879514Z"
    },
    "hidden": true
   },
   "outputs": [],
   "source": [
    "class BaseResnet(nn.Module):\n",
    "    def __init__(self, embed_size, drop=0.2):\n",
    "        super().__init__()\n",
    "        \n",
    "        slices = {128: -4, 256: -3, 512: -2}\n",
    "        s = slices[embed_size]\n",
    "        \n",
    "        net = f(True)\n",
    "        modules = list(net.children())[:s]    #(8,8,256)  sz: 128\n",
    "        self.base = nn.Sequential(*modules)\n",
    "        \n",
    "        self.drop = nn.Dropout(drop)\n",
    "        \n",
    "    def forward(self, x):\n",
    "        x = self.drop(self.base(x).flatten(2, 3))\n",
    "        return x"
   ]
  },
  {
   "cell_type": "code",
   "execution_count": 39,
   "metadata": {
    "ExecuteTime": {
     "end_time": "2018-12-24T16:47:36.841293Z",
     "start_time": "2018-12-24T16:47:36.819431Z"
    },
    "hidden": true
   },
   "outputs": [],
   "source": [
    "class Encoder(nn.Module):\n",
    "    def __init__(self, embed_size, num_layers, num_dec_layers, drop=0.2):\n",
    "        super().__init__()\n",
    "        \n",
    "        self.num_dec_layers = num_dec_layers\n",
    "        \n",
    "        self.convs = nn.ModuleList()\n",
    "        for l in range(num_layers):\n",
    "            self.convs.append(ConvLayer(embed_size,3,drop))\n",
    "        \n",
    "    def forward(self, input_embedding):\n",
    "        x = input_embedding\n",
    "        \n",
    "        for conv in self.convs:\n",
    "            residual = x\n",
    "            x = conv(x)\n",
    "            x = (x + residual) * math.sqrt(0.5)\n",
    "            \n",
    "        # scale gradients (this only affects backward, not forward)\n",
    "        x = GradMultiply.apply(x, 1.0 / (2.0 * self.num_dec_layers))\n",
    "        \n",
    "        # add final output to input embedding for attention\n",
    "        x = (x + input_embedding) * math.sqrt(0.5)\n",
    "        \n",
    "        return x   #=> ([bs, em_sz, 16])"
   ]
  },
  {
   "cell_type": "code",
   "execution_count": 40,
   "metadata": {
    "ExecuteTime": {
     "end_time": "2018-12-24T16:47:38.766503Z",
     "start_time": "2018-12-24T16:47:38.743078Z"
    },
    "hidden": true
   },
   "outputs": [],
   "source": [
    "class ConvAttention(nn.Module):\n",
    "    def __init__(self):\n",
    "        super().__init__()\n",
    "                        \n",
    "    def forward(self, hidden, feats):\n",
    "        \n",
    "        x = torch.bmm(hidden.permute(0, 2, 1), feats)\n",
    "\n",
    "        x = F.softmax(x, dim=-1)                            #=> ([bs, targ_len, src_len])\n",
    "        attn_scores = x\n",
    "\n",
    "        x = torch.bmm(x, feats.permute(0, 2, 1))            #=> ([bs, targ_len, em_sz])\n",
    "        \n",
    "        x = x.permute(0, 2, 1)                              #=> ([bs, em_sz, targ_len])\n",
    "\n",
    "        return x, attn_scores"
   ]
  },
  {
   "cell_type": "code",
   "execution_count": 41,
   "metadata": {
    "ExecuteTime": {
     "end_time": "2018-12-24T16:47:40.802553Z",
     "start_time": "2018-12-24T16:47:40.778731Z"
    },
    "hidden": true
   },
   "outputs": [],
   "source": [
    "class Decoder(nn.Module):\n",
    "    def __init__(self, embed_size, num_layers, vocab_size, drop=0.2):\n",
    "        super().__init__()\n",
    "        \n",
    "        self.convs = nn.ModuleList()\n",
    "        for l in range(num_layers):\n",
    "            self.convs.append(ConvLayer(embed_size,3,drop))\n",
    "        \n",
    "    def forward(self, target_embedding):\n",
    "        x = target_embedding\n",
    "        \n",
    "        for conv in self.convs:\n",
    "            residual = x\n",
    "            x = conv(x)            \n",
    "            x = (x + residual) * math.sqrt(0.5)\n",
    "           \n",
    "        x = (x + target_embedding) * math.sqrt(0.5)\n",
    "        \n",
    "        return x"
   ]
  },
  {
   "cell_type": "code",
   "execution_count": 62,
   "metadata": {
    "ExecuteTime": {
     "end_time": "2018-12-06T23:46:05.352548Z",
     "start_time": "2018-12-06T23:46:05.318759Z"
    },
    "collapsed": true,
    "hidden": true
   },
   "outputs": [],
   "source": [
    "class Net(nn.Module):\n",
    "    def __init__(self, embed_size, vocab_size, seq_len, enc_layers=3, dec_layers=3, drop=0.2):\n",
    "        super(Net, self).__init__()\n",
    "        self.seq_len = seq_len\n",
    "        \n",
    "        self.features = BaseResnet(embed_size)   #sz: 16->256, seq_len: 50->500\n",
    "        self.pool     = nn.AdaptiveMaxPool1d(seq_len)\n",
    "        \n",
    "        self.encoder = Encoder(embed_size, enc_layers, dec_layers)\n",
    "        \n",
    "        self.attention = ConvAttention()\n",
    "        \n",
    "        self.decoder = Decoder(embed_size, dec_layers, vocab_size)\n",
    "\n",
    "        #mlp\n",
    "        self.drop = nn.Dropout(drop)\n",
    "        self.linear1 = Linear(embed_size, embed_size//2)\n",
    "        self.linear2 = Linear(embed_size//2, vocab_size)\n",
    "        \n",
    "    def forward(self, x, ret_attn=False):\n",
    "        feats = self.features(x)\n",
    "        \n",
    "        x = self.encoder(feats)       #=> ([bs, em_sz, 16])\n",
    "        x = self.pool(x)              #=> ([bs, em_sz, 45])\n",
    "        \n",
    "        context, a = self.attention(x, feats)\n",
    "\n",
    "        x = self.decoder(context)     #=> ([bs, em_sz, seq_len])\n",
    "        \n",
    "        x = self.linear2(F.relu(self.drop(self.linear1( x.permute(0,2,1) ))))  #=> (bs, sl, vocab)\n",
    "\n",
    "        # loss expects sl,bs,vocab\n",
    "        x = x.permute(1,0,2).contiguous()\n",
    "        return x,a if ret_attn else x"
   ]
  },
  {
   "cell_type": "code",
   "execution_count": 63,
   "metadata": {
    "ExecuteTime": {
     "end_time": "2018-12-06T23:46:08.265737Z",
     "start_time": "2018-12-06T23:46:07.508243Z"
    },
    "collapsed": true,
    "hidden": true
   },
   "outputs": [],
   "source": [
    "opt_fn = partial(optim.Adam, betas=(0.7, 0.99))\n",
    "rnn = Net(256, len(itos), seq_len)\n",
    "learn = RNN_Learner(data, SingleModel(to_gpu(rnn)), opt_fn=opt_fn)\n",
    "learn.clip = 0.25\n",
    "learn.crit = seq2seq_loss\n",
    "learn.metrics = [char_error_rate]"
   ]
  },
  {
   "cell_type": "markdown",
   "metadata": {
    "heading_collapsed": true
   },
   "source": [
    "# Attend and Rectify"
   ]
  },
  {
   "cell_type": "code",
   "execution_count": 111,
   "metadata": {
    "ExecuteTime": {
     "end_time": "2018-12-05T23:23:00.682078Z",
     "start_time": "2018-12-05T23:23:00.630747Z"
    },
    "collapsed": true,
    "hidden": true
   },
   "outputs": [],
   "source": [
    "class Conv(torch.nn.Module):\n",
    "    def __init__(self, in_ch, out_ch, k=3):\n",
    "        super(Conv, self).__init__()\n",
    "        self.conv = nn.Conv2d(in_ch, out_ch, k, padding=k//2, bias=False)\n",
    "        torch.nn.init.kaiming_normal_(self.conv.weight.data)\n",
    "\n",
    "    def forward(self, x):\n",
    "        return self.conv(x).flatten(2,3)"
   ]
  },
  {
   "cell_type": "code",
   "execution_count": 94,
   "metadata": {
    "ExecuteTime": {
     "end_time": "2018-12-05T21:53:54.563769Z",
     "start_time": "2018-12-05T21:53:54.504662Z"
    },
    "collapsed": true,
    "hidden": true
   },
   "outputs": [],
   "source": [
    "class MultiHeadAttention(nn.Module):\n",
    "    def __init__(self, nf, labels, seq_len, parent, drop=0.1):\n",
    "        super().__init__()\n",
    "        self.outs = parent.outs\n",
    "        self.nheads = 3\n",
    "        self.labels = labels\n",
    "        \n",
    "        self.head = Conv(nf, self.nheads, 3, padding=1)\n",
    "        self.out = Conv(nf, labels*self.nheads, 3, padding=1)\n",
    "        self.seq = Conv(nf, seq_len, 3, padding=1) \n",
    "                \n",
    "    def forward(self, x):\n",
    "        bs, c, h, w = x.size()\n",
    "        \n",
    "        mask = torch.softmax(self.head(x).flatten(2,3).unsqueeze(2), dim=-1)\n",
    "        out = (self.out(x).view(bs, self.nheads, self.labels, h*w) * mask).sum(1)  # sum over heads        \n",
    "        seq = self.seq(x).flatten(2,3)\n",
    "        probs = torch.bmm(seq, out.permute(0, 2, 1))\n",
    "\n",
    "        self.outs.append(probs)\n",
    "        return x\n",
    "\n",
    "class SingleHeadAttention(nn.Module):\n",
    "    def __init__(self, nf, labels, seq_len, drop=0.1):\n",
    "        super().__init__()\n",
    "\n",
    "        self.out = Conv(nf, labels, 3)\n",
    "        self.seq = Conv(nf, seq_len, 3) \n",
    "                \n",
    "    def forward(self, x):        \n",
    "        out = torch.tanh(self.out(x))                       #=> ([bs, vocab, h*w])\n",
    "        seq = torch.tanh(self.seq(x))                       #=> ([bs, seq_len, h*w])\n",
    "        \n",
    "        mask = F.softmax(seq, dim=-1)                       #=>  spatial attention mask over seq_len\n",
    "        probs = torch.bmm(mask, out.permute(0, 2, 1))       #=> ([bs, seq_len, vocab])\n",
    "\n",
    "        return probs"
   ]
  },
  {
   "cell_type": "code",
   "execution_count": 116,
   "metadata": {
    "ExecuteTime": {
     "end_time": "2018-12-05T23:24:27.309353Z",
     "start_time": "2018-12-05T23:24:27.245729Z"
    },
    "collapsed": true,
    "hidden": true
   },
   "outputs": [],
   "source": [
    "class ConvLayer(nn.Module):\n",
    "    def __init__(self, ni, nf, k=3, stride=1):\n",
    "        super().__init__()\n",
    "        self.conv = nn.Conv2d(ni, nf, k, bias=False, stride=stride, padding=k//2)\n",
    "        self.bn   = nn.BatchNorm2d(nf, momentum=0.01)\n",
    "        self.relu = nn.LeakyReLU(negative_slope=0.1, inplace=True)\n",
    "\n",
    "    def forward(self, x):\n",
    "        return self.relu(self.bn(self.conv(x)))\n",
    "\n",
    "    \n",
    "class ResLayer(nn.Module):\n",
    "    def __init__(self, ni):\n",
    "        super().__init__()\n",
    "        self.conv1 = ConvLayer(ni, ni//2, k=1)\n",
    "        self.conv2 = ConvLayer(ni//2, ni, k=3)\n",
    "        \n",
    "    def forward(self, x):\n",
    "        return x.add(self.conv2(self.conv1(x)))\n",
    "\n",
    "    \n",
    "class Block(nn.Module):\n",
    "    def __init__(self, ni, nf, stride=2):\n",
    "        super().__init__()\n",
    "        \n",
    "        self.conv = ConvLayer(ni, nf, stride=stride)\n",
    "        self.res1 = ResLayer(nf)\n",
    "        self.res2 = ResLayer(nf)\n",
    "    \n",
    "    def forward(self, x):\n",
    "        return self.res2(self.res1(self.conv(x)))\n",
    "        \n",
    "        \n",
    "class Darknet(nn.Module):\n",
    "    def __init__(self, num_blocks, vocab_size, embed_size, seq_len, nf=32):\n",
    "        super().__init__()\n",
    "\n",
    "        self.layer1 = ConvLayer(3, 32, k=3, stride=1)\n",
    "        self.block1 = Block(32, 64, 2)\n",
    "        self.attn1  = SingleHeadAttention(64, vocab_size, seq_len)\n",
    "        \n",
    "        self.block2 = Block(64, 128, 2)\n",
    "        self.attn2  = SingleHeadAttention(128, vocab_size, seq_len)\n",
    "\n",
    "        self.block3 = Block(128, 256, 2)\n",
    "        self.attn3  = SingleHeadAttention(256, vocab_size, seq_len)\n",
    "        \n",
    "    def forward(self, x):\n",
    "        x = self.block1(self.layer1(x))\n",
    "        out1 = self.attn1(x)\n",
    "        x = self.block2(x)\n",
    "        out2 = self.attn2(x)\n",
    "        x = self.block3(x)\n",
    "        out3 = self.attn3(x)\n",
    "\n",
    "        out = torch.tanh(out1 + out2 + out3)\n",
    "\n",
    "        # loss expects sl,bs,vocab\n",
    "        out = out.permute(1,0,2).contiguous()\n",
    "        return out"
   ]
  },
  {
   "cell_type": "code",
   "execution_count": 56,
   "metadata": {
    "ExecuteTime": {
     "end_time": "2018-12-06T17:15:40.856999Z",
     "start_time": "2018-12-06T17:15:40.194607Z"
    },
    "collapsed": true,
    "hidden": true
   },
   "outputs": [],
   "source": [
    "opt_fn = partial(optim.Adam, betas=(0.7, 0.99))\n",
    "net = Darknet([1, 2, 4, 1], len(itos), 256, seq_len, nf=32)\n",
    "learn = ConvLearner.from_model_data(to_gpu(net), data, opt_fn=opt_fn)\n",
    "learn.clip = 0.25\n",
    "learn.crit = seq2seq_loss\n",
    "learn.metrics = [char_error_rate]"
   ]
  },
  {
   "cell_type": "markdown",
   "metadata": {
    "heading_collapsed": true
   },
   "source": [
    "# Baseline - resnet/custom head"
   ]
  },
  {
   "cell_type": "code",
   "execution_count": 40,
   "metadata": {
    "ExecuteTime": {
     "end_time": "2018-12-21T17:38:38.593317Z",
     "start_time": "2018-12-21T17:38:38.541597Z"
    },
    "hidden": true
   },
   "outputs": [],
   "source": [
    "class Head(nn.Module):\n",
    "    def __init__(self, em_sz, seq_len, vocab_size, drop=0.3):\n",
    "        super().__init__()\n",
    "        \n",
    "        self.pool = nn.AdaptiveMaxPool1d(seq_len)\n",
    "        self.fc1  = nn.Linear(em_sz, em_sz*4)\n",
    "        self.fc2  = nn.Linear(em_sz*4, vocab_size)\n",
    "        self.drop = nn.Dropout(drop)\n",
    "\n",
    "    def forward(self, x):\n",
    "        x = self.pool(x.flatten(2,3)).permute(0,2,1)\n",
    "        x = self.fc2(self.drop(F.relu(self.fc1(x))))\n",
    "        return x.permute(1,0,2).contiguous()"
   ]
  },
  {
   "cell_type": "code",
   "execution_count": 25,
   "metadata": {
    "ExecuteTime": {
     "end_time": "2018-12-12T19:57:05.097387Z",
     "start_time": "2018-12-12T19:57:04.336081Z"
    },
    "collapsed": true,
    "hidden": true
   },
   "outputs": [],
   "source": [
    "opt_fn = partial(optim.Adam, betas=(0.7, 0.99))\n",
    "head = Head(256, seq_len, len(itos))\n",
    "net = ConvnetBuilder(f, 0, 0, True, custom_head=head, xtra_cut=1).model\n",
    "learn = ConvLearner.from_model_data(to_gpu(net), data, opt_fn=opt_fn)\n",
    "learn.clip = 0.25\n",
    "learn.crit = custom_loss #seq2seq_loss\n",
    "learn.metrics = [word_error_rate] #[char_error_rate]"
   ]
  },
  {
   "cell_type": "markdown",
   "metadata": {
    "heading_collapsed": true
   },
   "source": [
    "# Baseline word / gru char decoder"
   ]
  },
  {
   "cell_type": "code",
   "execution_count": 30,
   "metadata": {
    "ExecuteTime": {
     "end_time": "2018-12-13T19:35:17.496350Z",
     "start_time": "2018-12-13T19:35:17.247196Z"
    },
    "collapsed": true,
    "hidden": true
   },
   "outputs": [],
   "source": [
    "def base_resnet(em_sz):\n",
    "    slices = {128: -4, 256: -3, 512: -2}\n",
    "    s = slices[em_sz]\n",
    "    net = f(True)\n",
    "    modules = list(net.children())[:s]\n",
    "    return nn.Sequential(*modules)\n",
    "\n",
    "class Encoder(nn.Module):\n",
    "    def __init__(self, em_sz, vocab_size, seq_len, drop=0.2):\n",
    "        super().__init__()\n",
    "\n",
    "        self.enc  = base_resnet(em_sz)\n",
    "        self.pool = nn.AdaptiveMaxPool1d(seq_len) \n",
    "        self.fc1  = nn.Linear(em_sz, em_sz*4)\n",
    "        self.fc2  = nn.Linear(em_sz*4, vocab_size)\n",
    "        self.drop = nn.Dropout(drop)\n",
    "\n",
    "    def forward(self, x):\n",
    "        feats = self.enc(x).flatten(2,3)\n",
    "        h = self.pool(feats).permute(0,2,1)\n",
    "        out = self.fc2(F.relu(self.fc1(self.drop(h))))\n",
    "        return feats, h.flatten(0,1), out"
   ]
  },
  {
   "cell_type": "code",
   "execution_count": 31,
   "metadata": {
    "ExecuteTime": {
     "end_time": "2018-12-13T19:35:17.928382Z",
     "start_time": "2018-12-13T19:35:17.899556Z"
    },
    "collapsed": true,
    "hidden": true
   },
   "outputs": [],
   "source": [
    "def rand_t(*sz): return torch.randn(sz)/math.sqrt(sz[0])\n",
    "def rand_p(*sz): return nn.Parameter(rand_t(*sz))\n",
    "\n",
    "class Attention(nn.Module):\n",
    "    def __init__(self, embed_size, drop=0.1):\n",
    "        super().__init__()\n",
    "\n",
    "        self.attn_1 = nn.Linear(embed_size, embed_size)\n",
    "        self.attn_2 = nn.Linear(embed_size, embed_size)\n",
    "        self.drop   = nn.Dropout(drop)\n",
    "        self.attn_v = rand_p(embed_size)\n",
    "        \n",
    "    def forward(self, hidden, feats):\n",
    "        bs, em_sz, hw = feats.shape\n",
    "        \n",
    "        feats = feats.permute(0,2,1).unsqueeze(1)   # bs, 1, h*w, em_sz\n",
    "        hidden = hidden.view(bs, -1, 1, em_sz)      # bs, num, 1, em_sz\n",
    "\n",
    "        w1e = self.attn_1(feats)                    # ([64, 30, 256])   # bs,1,h*w,em_sz\n",
    "        w2h = self.attn_2(hidden)                   # ([30, 256])       # bs,num,1,em_sz\n",
    "        u = torch.tanh(w1e + w2h)                   # ([64, 30, 256])   # bs,num,h*w,em_sz\n",
    "        u = self.drop(u)\n",
    "        a = torch.softmax(u @ self.attn_v, -1)      # ([64, 30]) - attention mask    # bs,num,h*w\n",
    "        context = (a.unsqueeze(3) * feats).sum(2)   # ([30, 256]) - weighted sum of features w/ attention\n",
    "        \n",
    "        return context.flatten(0,1), a              # (bs*num,em_sz),  (bs,num,h*w)"
   ]
  },
  {
   "cell_type": "code",
   "execution_count": 32,
   "metadata": {
    "ExecuteTime": {
     "end_time": "2018-12-13T19:35:18.479610Z",
     "start_time": "2018-12-13T19:35:18.454311Z"
    },
    "collapsed": true,
    "hidden": true
   },
   "outputs": [],
   "source": [
    "class RNNDecoder(nn.Module):\n",
    "    def __init__(self, embed_size, num_layers, drop=0.3):\n",
    "        super().__init__()\n",
    "        \n",
    "        self.num_layers = num_layers\n",
    "        self.rnn = nn.GRU(embed_size, embed_size, num_layers)\n",
    "        if self.num_layers > 1: self.rnn.dropout = drop\n",
    "\n",
    "    def forward(self, context, hidden):\n",
    "        _, h = self.rnn(context.unsqueeze(0), hidden.expand(self.num_layers, -1, -1).contiguous())\n",
    "        \n",
    "        return h[-1]"
   ]
  },
  {
   "cell_type": "code",
   "execution_count": 33,
   "metadata": {
    "ExecuteTime": {
     "end_time": "2018-12-13T19:35:19.183615Z",
     "start_time": "2018-12-13T19:35:19.156875Z"
    },
    "collapsed": true,
    "hidden": true
   },
   "outputs": [],
   "source": [
    "class DeepOutputLayer(nn.Module):\n",
    "    def __init__(self, embed_size, vocab_size, drop=0.3):\n",
    "        super().__init__()\n",
    "        \n",
    "        self.w0 = nn.Linear(embed_size, embed_size)\n",
    "        self.w1 = nn.Linear(embed_size, embed_size)\n",
    "        self.w2 = nn.Linear(embed_size, embed_size)\n",
    "        self.w3 = nn.Linear(embed_size*3, vocab_size)\n",
    "        self.drop = nn.Dropout(drop)\n",
    "        \n",
    "    def forward(self, prev, hidden, context):\n",
    "        # this is called once for each timestep\n",
    "        #(30,256)\n",
    "        a = self.w0(prev)\n",
    "        b = self.w1(hidden)\n",
    "        c = self.w2(context)\n",
    "        out = torch.tanh(torch.cat([a,b,c], -1))\n",
    "        \n",
    "        return self.w3(self.drop(out)) "
   ]
  },
  {
   "cell_type": "code",
   "execution_count": 40,
   "metadata": {
    "ExecuteTime": {
     "end_time": "2018-12-13T19:38:42.520744Z",
     "start_time": "2018-12-13T19:38:42.487413Z"
    },
    "collapsed": true,
    "hidden": true
   },
   "outputs": [],
   "source": [
    "class Net(nn.Module):\n",
    "    def __init__(self, hidden_size, w_vocab, w_seq, c_vocab, c_seq, n_layers=1, drop=0.2):\n",
    "        super(Net, self).__init__()\n",
    "        self.c_seq = c_seq\n",
    "        self.w_seq = w_seq\n",
    "        \n",
    "        self.encoder = Encoder(hidden_size, w_vocab, w_seq)\n",
    "        self.c_attn  = Attention(hidden_size)\n",
    "        self.decoder = RNNDecoder(hidden_size, n_layers)\n",
    "        \n",
    "        self.embed   = nn.Embedding(c_vocab, hidden_size)\n",
    "        self.drop    = nn.Dropout(drop)\n",
    "        self.embed.weight.data.uniform_(-0.1, 0.1)\n",
    "\n",
    "        self.output  = DeepOutputLayer(hidden_size, c_vocab)\n",
    "        \n",
    "    def forward(self, x, ret_attn=False):\n",
    "        bs = x.size(0)\n",
    "        feats, hidden, words = self.encoder(x)       # (bs, em_sz, h*w), (bs*num, em_sz), (bs,w_seq,w_vocab)\n",
    "                        \n",
    "        chars,attns = [],[]\n",
    "        dec_inp = torch.ones(bs*self.w_seq, device=device).long()\n",
    "        \n",
    "        for i in range(self.c_seq):\n",
    "            context, a = self.c_attn(hidden, feats)   # (bs*num, em_sz)\n",
    "            hidden = self.decoder(context, hidden)    # (bs*num, em_sz)\n",
    "            prev = self.drop(self.embed(dec_inp))     # (bs*num, em_sz)\n",
    "            \n",
    "            out = self.output(prev, hidden, context)  # (bs*num, vocab)\n",
    "            \n",
    "            chars.append(out)\n",
    "            attns.append(a)\n",
    "            dec_inp = out.data.max(-1)[1]\n",
    "            \n",
    "        chars = torch.stack(chars).permute(1,0,2)   # bs*num,15,vocab\n",
    "        chars = chars.view(bs, self.w_seq, self.c_seq, -1)\n",
    "        chars = chars.flatten(1,2)                  # bs,seq,vocab\n",
    "        \n",
    "        chars = chars.permute(1,0,2).contiguous()       \n",
    "        words = words.permute(1,0,2).contiguous()\n",
    "        \n",
    "        res = [chars,words]\n",
    "        if ret_attn: res = res.append(torch.stack(attns))\n",
    "        return res"
   ]
  },
  {
   "cell_type": "code",
   "execution_count": null,
   "metadata": {
    "ExecuteTime": {
     "end_time": "2018-12-13T19:38:43.717309Z",
     "start_time": "2018-12-13T19:38:42.994209Z"
    },
    "collapsed": true,
    "hidden": true
   },
   "outputs": [],
   "source": [
    "opt_fn = partial(optim.Adam, betas=(0.7, 0.99))\n",
    "rnn = Net(256, len(w_itos), 8, len(itos), 15)\n",
    "learn = RNN_Learner(data, SingleModel(to_gpu(rnn)), opt_fn=opt_fn)\n",
    "learn.clip = 0.25\n",
    "# learn.crit = seq2seq_loss\n",
    "learn.crit = combo_loss\n",
    "learn.metrics = [char_error, word_error]"
   ]
  },
  {
   "cell_type": "code",
   "execution_count": 64,
   "metadata": {
    "ExecuteTime": {
     "end_time": "2018-12-13T20:06:02.208136Z",
     "start_time": "2018-12-13T20:04:31.949000Z"
    },
    "hidden": true
   },
   "outputs": [
    {
     "data": {
      "application/vnd.jupyter.widget-view+json": {
       "model_id": "e36530fa91d54549bc23b08a7e3f4905",
       "version_major": 2,
       "version_minor": 0
      },
      "text/plain": [
       "HBox(children=(IntProgress(value=0, description='Epoch', max=1), HTML(value='')))"
      ]
     },
     "metadata": {},
     "output_type": "display_data"
    },
    {
     "name": "stdout",
     "output_type": "stream",
     "text": [
      " 52%|█████▏    | 221/425 [01:29<01:22,  2.48it/s, loss=209]"
     ]
    },
    {
     "data": {
      "image/png": "[encoded data removed]",
      "text/plain": [
       "<Figure size 432x288 with 1 Axes>"
      ]
     },
     "metadata": {},
     "output_type": "display_data"
    }
   ],
   "source": [
    "learn.lr_find()\n",
    "learn.sched.plot()"
   ]
  },
  {
   "cell_type": "code",
   "execution_count": 67,
   "metadata": {
    "ExecuteTime": {
     "end_time": "2018-12-13T20:19:44.094237Z",
     "start_time": "2018-12-13T20:10:25.396719Z"
    },
    "hidden": true,
    "scrolled": true
   },
   "outputs": [
    {
     "data": {
      "application/vnd.jupyter.widget-view+json": {
       "model_id": "6dfdb9b8f262404cbb4fac2e3a4cc610",
       "version_major": 2,
       "version_minor": 0
      },
      "text/plain": [
       "HBox(children=(IntProgress(value=0, description='Epoch', max=3), HTML(value='')))"
      ]
     },
     "metadata": {},
     "output_type": "display_data"
    },
    {
     "name": "stdout",
     "output_type": "stream",
     "text": [
      "epoch      trn_loss   val_loss   char_error word_error     \n",
      "    0      195.585222 198.734708 1.0        1.131371  \n",
      "    1      194.659753 197.827848 1.0        1.0            \n",
      "    2      193.806557 197.222208 1.0        1.0            \n"
     ]
    },
    {
     "data": {
      "text/plain": [
       "[array([197.22221]), 1.0, 1.0]"
      ]
     },
     "execution_count": 67,
     "metadata": {},
     "output_type": "execute_result"
    }
   ],
   "source": [
    "lr=1e-3\n",
    "learn.fit(lr, 3, cycle_len=1, use_clr_beta=(10,10,0.95,0.85))"
   ]
  },
  {
   "cell_type": "markdown",
   "metadata": {
    "heading_collapsed": true
   },
   "source": [
    "# Baseline w/ attention"
   ]
  },
  {
   "cell_type": "code",
   "execution_count": 52,
   "metadata": {
    "ExecuteTime": {
     "end_time": "2018-12-13T23:27:37.801058Z",
     "start_time": "2018-12-13T23:27:37.774648Z"
    },
    "collapsed": true,
    "hidden": true
   },
   "outputs": [],
   "source": [
    "def rand_t(*sz): return torch.randn(sz)/math.sqrt(sz[0])\n",
    "def rand_p(*sz): return nn.Parameter(rand_t(*sz))\n",
    "\n",
    "class Attention(nn.Module):\n",
    "    def __init__(self, embed_size, drop=0.1):\n",
    "        super().__init__()\n",
    "\n",
    "        self.attn_1 = nn.Linear(embed_size, embed_size)\n",
    "        self.attn_2 = nn.Linear(embed_size, embed_size)\n",
    "        self.drop   = nn.Dropout(drop)\n",
    "        self.attn_v = rand_p(embed_size)\n",
    "        \n",
    "    def forward(self, hidden, feats):\n",
    "        # this is called once for each timestep\n",
    "        w1e = self.attn_1(feats)                    # ([64, 30, 256])\n",
    "        w2h = self.attn_2(hidden)                   # ([30, 256])\n",
    "        u = torch.tanh(w1e + w2h)                   # ([64, 30, 256])\n",
    "        u = self.drop(u)\n",
    "        a = torch.softmax(u @ self.attn_v, 0)       # ([64, 30]) - attention mask\n",
    "        context = (a.unsqueeze(2) * feats).sum(0)   # ([30, 256]) - weighted sum of features w/ attention\n",
    "        \n",
    "        return context, a"
   ]
  },
  {
   "cell_type": "code",
   "execution_count": 65,
   "metadata": {
    "ExecuteTime": {
     "end_time": "2018-12-13T23:31:12.929856Z",
     "start_time": "2018-12-13T23:31:12.897744Z"
    },
    "collapsed": true,
    "hidden": true
   },
   "outputs": [],
   "source": [
    "def base_resnet(em_sz, f):\n",
    "    slices = {128: -4, 256: -3, 512: -2}\n",
    "    s = slices[em_sz]\n",
    "    net = f(True)\n",
    "    return nn.Sequential(*list(net.children())[:s])\n",
    "\n",
    "class Net(nn.Module):\n",
    "    def __init__(self, em_sz, seq_len, vocab_size, drop=0.3):\n",
    "        super(Net, self).__init__()\n",
    "        self.seq_len = seq_len\n",
    "        \n",
    "        self.base = base_resnet(em_sz, f)\n",
    "        self.attention = Attention(em_sz)\n",
    "        \n",
    "        self.embed   = nn.Embedding(vocab_size, em_sz)\n",
    "        self.drop    = nn.Dropout(drop)\n",
    "        self.embed.weight.data.uniform_(-0.1, 0.1)\n",
    "\n",
    "        self.fc1  = nn.Linear(em_sz, em_sz*4)\n",
    "        self.fc2  = nn.Linear(em_sz*4, vocab_size)\n",
    "        self.fc_d = nn.Dropout(drop)\n",
    "        \n",
    "    def forward(self, x, ret_attn=False):\n",
    "        bs = x.size(0)\n",
    "        feats = self.base(x).flatten(2,3).permute(2,0,1)\n",
    "        \n",
    "        res,attns = [],[]\n",
    "        dec_inp = torch.ones(bs, device=device).long()\n",
    "        \n",
    "        for i in range(self.seq_len):\n",
    "            prev = self.drop(self.embed(dec_inp))\n",
    "            context, a = self.attention(prev, feats)\n",
    "            out = self.fc2(F.relu(self.fc1(self.fc_d(context))))\n",
    "            \n",
    "            res.append(out)\n",
    "            attns.append(a)\n",
    "            dec_inp = out.data.max(1)[1]\n",
    "            \n",
    "        res = torch.stack(res)\n",
    "        if ret_attn: res = res,torch.stack(attns)\n",
    "        return res"
   ]
  },
  {
   "cell_type": "code",
   "execution_count": 18,
   "metadata": {
    "ExecuteTime": {
     "end_time": "2018-12-13T22:34:30.343473Z",
     "start_time": "2018-12-13T22:34:30.317036Z"
    },
    "collapsed": true,
    "hidden": true
   },
   "outputs": [],
   "source": [
    "def rand_t(*sz): return torch.randn(sz)/math.sqrt(sz[0])\n",
    "def rand_p(*sz): return nn.Parameter(rand_t(*sz))\n",
    "\n",
    "class Attention(nn.Module):\n",
    "    def __init__(self, em_sz, drop=0.2):\n",
    "        super().__init__()\n",
    "\n",
    "        self.lin1 = nn.Linear(em_sz*2, em_sz)\n",
    "        self.lin2 = nn.Linear(em_sz*2, em_sz)\n",
    "        self.drop = nn.Dropout(drop)\n",
    "        self.attn_v = rand_p(em_sz)\n",
    "        \n",
    "    def forward(self, feats, out): \n",
    "        f = self.lin1(feats.permute(0,2,1))        # bs,h*w,em_sz\n",
    "        o = self.lin2(out.permute(0,2,1))          # bs,seq,em_sz\n",
    "        \n",
    "        u = torch.tanh(f.unsqueeze(1) + o.unsqueeze(2))\n",
    "        u = self.drop(u)                                     # (bs, seq, h*w, em_sz)\n",
    "        a = torch.softmax(u @ self.attn_v, 2)                # (bs, seq, h*w) - attention mask\n",
    "        context = (a.unsqueeze(3) * f.unsqueeze(1)).sum(2)   # (bs, seq_len, em_sz)\n",
    "\n",
    "        return context, a"
   ]
  },
  {
   "cell_type": "code",
   "execution_count": 27,
   "metadata": {
    "ExecuteTime": {
     "end_time": "2018-12-13T22:39:09.936521Z",
     "start_time": "2018-12-13T22:39:09.811731Z"
    },
    "collapsed": true,
    "hidden": true
   },
   "outputs": [],
   "source": [
    "def base_resnet(em_sz, f):\n",
    "    slices = {128: -4, 256: -3, 512: -2}\n",
    "    s = slices[em_sz]\n",
    "    net = f(True)\n",
    "    return nn.Sequential(*list(net.children())[:s])\n",
    "\n",
    "class Net(nn.Module):\n",
    "    def __init__(self, em_sz, seq_len, vocab_size, drop=0.3):\n",
    "        super().__init__()\n",
    "\n",
    "        self.base = base_resnet(em_sz, f)\n",
    "        self.attn = Attention(em_sz, seq_len)\n",
    "        \n",
    "        self.fc1  = nn.Linear(em_sz, em_sz*4)\n",
    "        self.fc2  = nn.Linear(em_sz*4, vocab_size)\n",
    "        \n",
    "        self.drop = nn.Dropout(drop)\n",
    "\n",
    "    def forward(self, x, ret_attn=False):\n",
    "        feats = self.base(x).flatten(2,3)     #bs,hidden,h*w\n",
    "        out   = self.pool(feats)              #bs,hidden,seq\n",
    "        out, attn = self.attn(feats, out)\n",
    "        out = self.fc2(self.drop(F.relu(self.fc1(out))))\n",
    "        out = out.permute(1,0,2).contiguous()\n",
    "        if ret_attn: out = out,attn\n",
    "        return out"
   ]
  },
  {
   "cell_type": "code",
   "execution_count": 66,
   "metadata": {
    "ExecuteTime": {
     "end_time": "2018-12-13T23:31:16.680440Z",
     "start_time": "2018-12-13T23:31:15.907291Z"
    },
    "collapsed": true,
    "hidden": true
   },
   "outputs": [],
   "source": [
    "opt_fn = partial(optim.Adam, betas=(0.7, 0.99))\n",
    "net = Net(256, seq_len, len(itos))\n",
    "learn = ConvLearner.from_model_data(to_gpu(net), data, opt_fn=opt_fn)\n",
    "learn.clip = 0.25\n",
    "learn.crit = seq2seq_loss\n",
    "learn.metrics = [word_error_rate]"
   ]
  },
  {
   "cell_type": "code",
   "execution_count": null,
   "metadata": {
    "ExecuteTime": {
     "start_time": "2018-12-13T23:31:17.027Z"
    },
    "hidden": true,
    "scrolled": false
   },
   "outputs": [
    {
     "data": {
      "application/vnd.jupyter.widget-view+json": {
       "model_id": "f2ca144181ee420a89db3bb652630482",
       "version_major": 2,
       "version_minor": 0
      },
      "text/plain": [
       "HBox(children=(IntProgress(value=0, description='Epoch', max=5), HTML(value='')))"
      ]
     },
     "metadata": {},
     "output_type": "display_data"
    },
    {
     "name": "stdout",
     "output_type": "stream",
     "text": [
      "epoch      trn_loss   val_loss   word_error_rate            \n",
      "    0      48.862049  49.671623  1.040457  \n",
      " 28%|██▊       | 118/425 [00:34<01:28,  3.46it/s, loss=48.4]"
     ]
    }
   ],
   "source": [
    "lr=1e-3\n",
    "learn.fit(lr, 5, cycle_len=1, use_clr_beta=(10,10,0.95,0.85))\n",
    "# use_clr_beta: (ratio btw initial chosen lr, % of cycle on slow decrease, *momentum values)\n",
    "\n",
    "# 28.52144   27.718629  0.67499     attention\n",
    "# 21.272572  20.69161   0.592019    2nd run\n",
    "\n",
    "#       sequential attention; simple fc out"
   ]
  },
  {
   "cell_type": "code",
   "execution_count": 35,
   "metadata": {
    "ExecuteTime": {
     "end_time": "2018-12-13T23:04:57.931800Z",
     "start_time": "2018-12-13T23:04:57.794942Z"
    },
    "collapsed": true,
    "hidden": true
   },
   "outputs": [],
   "source": [
    "learn.save('baseline_attn')"
   ]
  },
  {
   "cell_type": "markdown",
   "metadata": {
    "heading_collapsed": true
   },
   "source": [
    "# Baseline - rnn"
   ]
  },
  {
   "cell_type": "code",
   "execution_count": 27,
   "metadata": {
    "ExecuteTime": {
     "end_time": "2018-12-13T22:39:09.936521Z",
     "start_time": "2018-12-13T22:39:09.811731Z"
    },
    "collapsed": true,
    "hidden": true
   },
   "outputs": [],
   "source": [
    "def base_resnet(em_sz, f):\n",
    "    slices = {128: -4, 256: -3, 512: -2}\n",
    "    s = slices[em_sz]\n",
    "    net = f(True)\n",
    "    return nn.Sequential(*list(net.children())[:s])\n",
    "\n",
    "class Net(nn.Module):\n",
    "    def __init__(self, em_sz, seq_len, vocab_size, drop=0.3):\n",
    "        super().__init__()\n",
    "\n",
    "        self.base = base_resnet(em_sz*2, f)\n",
    "        self.pool = nn.Linearar(seq_len)\n",
    "\n",
    "        self.rnn = nn.GRU(em_sz, em_sz)\n",
    "        \n",
    "        self.fc1  = nn.Linear(em_sz, em_sz*4)\n",
    "        self.fc2  = nn.Linear(em_sz*4, vocab_size)\n",
    "        \n",
    "        self.drop = nn.Dropout(drop)\n",
    "\n",
    "    def forward(self, x, ret_attn=False):\n",
    "        feats = self.base(x).flatten(2,3)     #bs,hidden,h*w\n",
    "        out   = self.pool(feats)              #bs,hidden,seq\n",
    "        \n",
    "        out, h = self.rnn(out.permute(2,0,1), out)\n",
    "        \n",
    "        out = self.fc2(self.drop(F.relu(self.fc1(out))))\n",
    "        out = out.permute(1,0,2).contiguous()\n",
    "        if ret_attn: out = out,attn\n",
    "        return out"
   ]
  },
  {
   "cell_type": "code",
   "execution_count": null,
   "metadata": {
    "ExecuteTime": {
     "end_time": "2018-12-13T22:39:12.559619Z",
     "start_time": "2018-12-13T22:39:10.235893Z"
    },
    "collapsed": true,
    "hidden": true
   },
   "outputs": [],
   "source": [
    "opt_fn = partial(optim.Adam, betas=(0.7, 0.99))\n",
    "net = Net(256, seq_len, len(itos))\n",
    "learn = ConvLearner.from_model_data(to_gpu(net), data, opt_fn=opt_fn)\n",
    "learn.clip = 0.25\n",
    "learn.crit = seq2seq_loss\n",
    "learn.metrics = [word_error_rate]"
   ]
  },
  {
   "cell_type": "code",
   "execution_count": null,
   "metadata": {
    "ExecuteTime": {
     "start_time": "2018-12-13T22:54:48.396Z"
    },
    "collapsed": true,
    "hidden": true,
    "scrolled": false
   },
   "outputs": [],
   "source": [
    "lr=1e-3\n",
    "learn.fit(lr, 5, cycle_len=1, use_clr_beta=(10,10,0.95,0.85))\n",
    "# use_clr_beta: (ratio btw initial chosen lr, % of cycle on slow decrease, *momentum values)\n",
    "\n"
   ]
  },
  {
   "cell_type": "markdown",
   "metadata": {
    "heading_collapsed": true
   },
   "source": [
    "# Train - Words"
   ]
  },
  {
   "cell_type": "code",
   "execution_count": 37,
   "metadata": {
    "ExecuteTime": {
     "end_time": "2018-12-11T22:43:24.167874Z",
     "start_time": "2018-12-11T22:41:58.645790Z"
    },
    "hidden": true,
    "scrolled": true
   },
   "outputs": [
    {
     "data": {
      "application/vnd.jupyter.widget-view+json": {
       "model_id": "",
       "version_major": 2,
       "version_minor": 0
      },
      "text/plain": [
       "HBox(children=(IntProgress(value=0, description='Epoch', max=1), HTML(value='')))"
      ]
     },
     "metadata": {},
     "output_type": "display_data"
    },
    {
     "name": "stdout",
     "output_type": "stream",
     "text": [
      " 50%|█████     | 213/425 [01:23<01:23,  2.54it/s, loss=155] "
     ]
    },
    {
     "data": {
      "image/png": "[encoded data removed]",
      "text/plain": [
       "<Figure size 432x288 with 1 Axes>"
      ]
     },
     "metadata": {},
     "output_type": "display_data"
    }
   ],
   "source": [
    "learn.lr_find()\n",
    "learn.sched.plot()"
   ]
  },
  {
   "cell_type": "code",
   "execution_count": 27,
   "metadata": {
    "ExecuteTime": {
     "end_time": "2018-12-12T20:20:06.928132Z",
     "start_time": "2018-12-12T20:09:17.715150Z"
    },
    "hidden": true
   },
   "outputs": [
    {
     "data": {
      "application/vnd.jupyter.widget-view+json": {
       "model_id": "ff12ea34ad634a9a9ef12ba7ccfd3822",
       "version_major": 2,
       "version_minor": 0
      },
      "text/plain": [
       "HBox(children=(IntProgress(value=0, description='Epoch', max=5), HTML(value='')))"
      ]
     },
     "metadata": {},
     "output_type": "display_data"
    },
    {
     "name": "stdout",
     "output_type": "stream",
     "text": [
      "epoch      trn_loss   val_loss   word_error_rate                \n",
      "    0      1348.680782 1262.901956 2.910933  \n",
      "    1      1129.468657 1116.729368 2.613867                     \n",
      "    2      995.638273 1017.155671 2.507333                      \n",
      "    3      877.223489 946.691742 2.3188                         \n",
      "    4      780.755029 897.458031 2.285733                  \n",
      "\n"
     ]
    },
    {
     "data": {
      "text/plain": [
       "[array([897.45803]), 2.2857333333333334]"
      ]
     },
     "execution_count": 27,
     "metadata": {},
     "output_type": "execute_result"
    }
   ],
   "source": [
    "lr=4e-3\n",
    "learn.fit(lr, 5, cycle_len=1, use_clr_beta=(10,10,0.95,0.85))\n",
    "# use_clr_beta: (ratio btw initial chosen lr, % of cycle on slow decrease, *momentum values)\n",
    "\n",
    "# (3x2) sz:128, 50,000\n",
    "# 15.190993  13.448569  3.217467      Baseline (no attn)     - baseline\n",
    "# 6.592356   6.297714   1.688         2nd run (~12min)\n",
    "\n",
    "# 18.815987  16.850847  3.6789        Baseline (resnet - 512)\n",
    "# 9.375152   8.614126   2.207067      2nd run (~10min)\n",
    "\n",
    "# 1544.492761 1452.823649 3.084533    CTC loss (~11min)\n",
    "# 780.755029 897.458031 2.285733      2nd run (~11min)\n",
    "\n",
    "# 35.315192  34.958913  5.200267      Darknet w/ SeqConvAttn - darknet_attn\n",
    "# 43.352003  43.168126  5.288133      Arch                   - arch_attn  XXX"
   ]
  },
  {
   "cell_type": "code",
   "execution_count": 82,
   "metadata": {
    "ExecuteTime": {
     "end_time": "2018-12-12T00:09:37.272562Z",
     "start_time": "2018-12-12T00:09:37.042989Z"
    },
    "collapsed": true,
    "hidden": true
   },
   "outputs": [],
   "source": [
    "learn.save('baseline')"
   ]
  },
  {
   "cell_type": "markdown",
   "metadata": {},
   "source": [
    "# Train - Chars"
   ]
  },
  {
   "cell_type": "markdown",
   "metadata": {
    "heading_collapsed": true
   },
   "source": [
    "## Size - 64"
   ]
  },
  {
   "cell_type": "code",
   "execution_count": 24,
   "metadata": {
    "ExecuteTime": {
     "end_time": "2018-12-17T17:40:46.225920Z",
     "start_time": "2018-12-17T17:39:15.309783Z"
    },
    "hidden": true,
    "scrolled": true
   },
   "outputs": [
    {
     "data": {
      "application/vnd.jupyter.widget-view+json": {
       "model_id": "b86b01ad27fc4c0785e856ed2365d673",
       "version_major": 2,
       "version_minor": 0
      },
      "text/plain": [
       "HBox(children=(IntProgress(value=0, description='Epoch', max=1), HTML(value='')))"
      ]
     },
     "metadata": {},
     "output_type": "display_data"
    },
    {
     "name": "stdout",
     "output_type": "stream",
     "text": [
      "epoch      trn_loss   val_loss   char_error_rate            \n",
      "    0      70.667268  69.891583  0.844056  \n",
      "\n"
     ]
    },
    {
     "data": {
      "text/plain": [
       "[69.89158327617342, 0.84405568607942]"
      ]
     },
     "execution_count": 24,
     "metadata": {},
     "output_type": "execute_result"
    }
   ],
   "source": [
    "lr = 1e-3\n",
    "learn.fit(lr, 1, cycle_len=1)\n",
    "# (3x1)\n",
    "# 68.188703  67.462092  0.803682     baseline - resnet/custom_head\n",
    "# 69.182447  68.162813  0.804299     baseline w/ attention (conv/bmm)\n",
    "# 70.943861  70.301181  0.83561      arch (rnn/attention)\n",
    "\n",
    "# conv experiment\n",
    "# 73.214677  69.61903   0.835478\n",
    "\n",
    "# conv w/ simplifications and adaptive maxpool\n",
    "# 70.18898   68.045741  0.790613\n",
    "# 69.927028  69.080644  0.779864\n",
    "# 70.757535  68.880742  0.808883    resconvs\n",
    "# 69.347886  68.431367  0.768814    conv_layers=5\n",
    "# 70.749352  69.080723  0.822875    w/out added final residuals in enc/dec\n",
    "# 72.764275  70.528827  0.852199    conv2d in encoder\n",
    "# 71.389636  69.762311  0.813627    linear layers in attention\n",
    "# 87.063197  71.888277  0.850598    no encoder layers\n",
    "\n",
    "# 69.812866  68.951414  0.851105   baseline (256), wd=1e-4, conv/bmm attention\n",
    "\n",
    "# 70.667268  69.891583  0.844056    parallel char arch"
   ]
  },
  {
   "cell_type": "code",
   "execution_count": 25,
   "metadata": {
    "ExecuteTime": {
     "end_time": "2018-12-17T17:45:26.323013Z",
     "start_time": "2018-12-17T17:40:57.151759Z"
    },
    "hidden": true,
    "scrolled": true
   },
   "outputs": [
    {
     "data": {
      "application/vnd.jupyter.widget-view+json": {
       "model_id": "31fdc0a4fa1946a3823edc84c0497742",
       "version_major": 2,
       "version_minor": 0
      },
      "text/plain": [
       "HBox(children=(IntProgress(value=0, description='Epoch', max=3), HTML(value='')))"
      ]
     },
     "metadata": {},
     "output_type": "display_data"
    },
    {
     "name": "stdout",
     "output_type": "stream",
     "text": [
      "epoch      trn_loss   val_loss   char_error_rate            \n",
      "    0      69.801769  68.732292  0.798533  \n",
      "    1      68.308923  67.645352  0.791466                   \n",
      "    2      66.65313   66.210673  0.78559                    \n",
      "\n"
     ]
    },
    {
     "data": {
      "text/plain": [
       "[66.21067301432292, 0.7855897005252367]"
      ]
     },
     "execution_count": 25,
     "metadata": {},
     "output_type": "execute_result"
    }
   ],
   "source": [
    "learn.fit(lr, 3, cycle_len=1, use_clr=(10,4))\n",
    "# (3x1)\n",
    "# 59.228838  58.388024  0.725408     baseline - resnet/custom_head\n",
    "# 64.626164  63.946299  0.728518     baseline w/ attention (conv/bmm)\n",
    "# 66.662413  66.404993  0.756807     arch (rnn/attention)\n",
    "\n",
    "# conv experiment\n",
    "# 65.19376   64.20149   0.719524\n",
    "\n",
    "# conv w/ simplifications and adaptive maxpool\n",
    "# 63.015537  60.894915  0.697941\n",
    "# 63.109174  62.333232  0.701321\n",
    "# 63.616028  61.46433   0.704286    resconvs\n",
    "# 62.765629  62.088464  0.699989    conv_layers=5\n",
    "\n",
    "# 66.213983  66.010552  0.731343    baseline (256), wd=1e-4, conv/bmm attention\n",
    "\n",
    "# 66.65313   66.210673  0.78559     parallel char arch"
   ]
  },
  {
   "cell_type": "code",
   "execution_count": 65,
   "metadata": {
    "ExecuteTime": {
     "end_time": "2018-12-04T17:21:29.937861Z",
     "start_time": "2018-12-04T17:21:29.650284Z"
    },
    "collapsed": true,
    "hidden": true
   },
   "outputs": [],
   "source": [
    "# learn.save('3x1_word_64')\n",
    "learn.save('conv_experiment')"
   ]
  },
  {
   "cell_type": "markdown",
   "metadata": {
    "heading_collapsed": true
   },
   "source": [
    "## Increase size - 128"
   ]
  },
  {
   "cell_type": "code",
   "execution_count": 32,
   "metadata": {
    "ExecuteTime": {
     "end_time": "2018-12-20T22:36:21.416355Z",
     "start_time": "2018-12-20T22:36:21.389461Z"
    },
    "hidden": true
   },
   "outputs": [],
   "source": [
    "sz = 128\n",
    "bs = 100"
   ]
  },
  {
   "cell_type": "code",
   "execution_count": 36,
   "metadata": {
    "ExecuteTime": {
     "end_time": "2018-12-20T22:36:44.810292Z",
     "start_time": "2018-12-20T22:36:44.780431Z"
    },
    "hidden": true
   },
   "outputs": [],
   "source": [
    "learn.set_data(data)"
   ]
  },
  {
   "cell_type": "code",
   "execution_count": 29,
   "metadata": {
    "ExecuteTime": {
     "end_time": "2018-12-11T15:58:09.354515Z",
     "start_time": "2018-12-11T15:40:38.802810Z"
    },
    "hidden": true
   },
   "outputs": [
    {
     "data": {
      "application/vnd.jupyter.widget-view+json": {
       "model_id": "43182285889b481eabfb4e9badd3bd41",
       "version_major": 2,
       "version_minor": 0
      },
      "text/plain": [
       "HBox(children=(IntProgress(value=0, description='Epoch', max=1), HTML(value='')))"
      ]
     },
     "metadata": {},
     "output_type": "display_data"
    },
    {
     "name": "stdout",
     "output_type": "stream",
     "text": [
      "epoch      trn_loss   val_loss   char_error_rate           \n",
      "    0      52.65204   43.077581  0.747448  \n",
      "\n"
     ]
    },
    {
     "data": {
      "text/plain": [
       "[43.07758076985677, 0.7474482860855992]"
      ]
     },
     "execution_count": 29,
     "metadata": {},
     "output_type": "execute_result"
    }
   ],
   "source": [
    "lr = 1e-3\n",
    "learn.fit(lr, 1, cycle_len=1)\n",
    "# (3x1)\n",
    "# 63.521986  61.991029  0.695108    baseline - resnet/custom_head (128 start, no resize!)\n",
    "\n",
    "# 71.23541   70.589466  0.826625    baseline - resnet/custom_head - resize              ** Doesn't train!! **\n",
    "# 68.409156  68.288845  0.832502    baseline w/ attention (conv/bmm) - resize           ** Doesn't train!! **\n",
    "# 69.293385  68.271496  0.819791    baseline w/ attention (conv/bmm) (128 start, no resize!)\n",
    "\n",
    "# 62.044829  60.714955  0.702971    conv w/ simplifications and adaptive maxpool\n",
    "# 70.734958  69.832263  0.839252\n",
    "\n",
    "# 65.040021  65.156013  0.754225    arch (rnn/attention)\n",
    "\n",
    "\n",
    "# (3x2)\n",
    "# 114.570165 110.74643  0.670681"
   ]
  },
  {
   "cell_type": "code",
   "execution_count": null,
   "metadata": {
    "ExecuteTime": {
     "start_time": "2018-12-11T22:47:20.064Z"
    },
    "collapsed": true,
    "hidden": true
   },
   "outputs": [],
   "source": [
    "learn.fit(lr, 5, cycle_len=1, use_clr=(10,4))\n",
    "# (3x1)\n",
    "# 35.506904  34.055226  0.337052    baseline - resnet/custom_head (128 start, no resize!)\n",
    "# 26.811809  31.248865  0.293136    (2nd run, lr: 1e-4)\n",
    "\n",
    "# 68.809309  68.306966  0.809793    baseline - resnet/custom_head - resize             ** Doesn't train!! **\n",
    "# 67.593682  67.457652  0.833319    baseline w/ attention (conv/bmm) - resize          ** Doesn't train!! **\n",
    "# 62.830883  62.034249  0.704091    baseline w/ attention (conv/bmm) (128 start, no resize!)\n",
    "\n",
    "# 44.299002  41.717289  0.431205    conv w/ simplifications and adaptive maxpool\n",
    "# 32.616935  33.17603   0.299842    (2nd run)\n",
    "# 54.708528  52.792418  0.56402\n",
    "\n",
    "# 36.143758  35.722759  0.305048    arch (rnn/attention)\n",
    "# 26.082217  28.070608  0.220027    (2nd run)\n",
    "\n",
    "# (3x2)\n",
    "# 101.995117 98.570376  0.564582"
   ]
  },
  {
   "cell_type": "code",
   "execution_count": 49,
   "metadata": {
    "ExecuteTime": {
     "end_time": "2018-12-06T23:40:16.565121Z",
     "start_time": "2018-12-06T23:40:16.396188Z"
    },
    "collapsed": true,
    "hidden": true
   },
   "outputs": [],
   "source": [
    "# learn.save('3x1_word_128')\n",
    "# learn.save('3x1_word+char_128')\n",
    "# learn.save('conv_experiment_128')  # 0.299842 cer\n",
    "learn.save('3x1_arch_128')  # 0.305048 cer\n",
    "# learn.save('3x1_baseline_128')  # 0.293136 cer"
   ]
  },
  {
   "cell_type": "markdown",
   "metadata": {
    "heading_collapsed": true
   },
   "source": [
    "## Increase size - 256"
   ]
  },
  {
   "cell_type": "code",
   "execution_count": 66,
   "metadata": {
    "ExecuteTime": {
     "end_time": "2018-12-04T17:21:33.019385Z",
     "start_time": "2018-12-04T17:21:32.989931Z"
    },
    "collapsed": true,
    "hidden": true
   },
   "outputs": [],
   "source": [
    "sz = 256\n",
    "bs = 60"
   ]
  },
  {
   "cell_type": "code",
   "execution_count": 69,
   "metadata": {
    "ExecuteTime": {
     "end_time": "2018-12-04T17:21:47.563461Z",
     "start_time": "2018-12-04T17:21:47.529685Z"
    },
    "collapsed": true,
    "hidden": true
   },
   "outputs": [],
   "source": [
    "learn.set_data(data)"
   ]
  },
  {
   "cell_type": "code",
   "execution_count": 70,
   "metadata": {
    "ExecuteTime": {
     "end_time": "2018-12-04T17:30:15.069642Z",
     "start_time": "2018-12-04T17:22:13.132725Z"
    },
    "hidden": true
   },
   "outputs": [
    {
     "data": {
      "application/vnd.jupyter.widget-view+json": {
       "model_id": "294bbec254b34770b62d5dc2528df2a9",
       "version_major": 2,
       "version_minor": 0
      },
      "text/plain": [
       "HBox(children=(IntProgress(value=0, description='Epoch', max=1), HTML(value='')))"
      ]
     },
     "metadata": {},
     "output_type": "display_data"
    },
    {
     "name": "stdout",
     "output_type": "stream",
     "text": [
      "epoch      trn_loss   val_loss   char_error_rate             \n",
      "    0      93.238619  87.797493  0.522051  \n",
      "\n"
     ]
    },
    {
     "data": {
      "text/plain": [
       "[87.7974931640625, 0.5220514058416956]"
      ]
     },
     "execution_count": 70,
     "metadata": {},
     "output_type": "execute_result"
    }
   ],
   "source": [
    "lr = 1e-3\n",
    "learn.fit(lr, 1, cycle_len=1)\n",
    "# chars\n",
    "# 5.300004   4.813755   0.212666\n",
    "\n",
    "# words+chars\n",
    "# 16.895141  16.577382\n",
    "\n",
    "\n",
    "# conv w/ simplifications and adaptive maxpool\n",
    "# 3x2\n",
    "# 93.238619  87.797493  0.522051"
   ]
  },
  {
   "cell_type": "code",
   "execution_count": 73,
   "metadata": {
    "ExecuteTime": {
     "end_time": "2018-12-04T18:19:28.470131Z",
     "start_time": "2018-12-04T17:55:21.974475Z"
    },
    "hidden": true
   },
   "outputs": [
    {
     "data": {
      "application/vnd.jupyter.widget-view+json": {
       "model_id": "94a1e7ea79884f2f8a664a72119bb402",
       "version_major": 2,
       "version_minor": 0
      },
      "text/plain": [
       "HBox(children=(IntProgress(value=0, description='Epoch', max=3), HTML(value='')))"
      ]
     },
     "metadata": {},
     "output_type": "display_data"
    },
    {
     "name": "stdout",
     "output_type": "stream",
     "text": [
      "epoch      trn_loss   val_loss   char_error_rate             \n",
      "    0      69.225388  64.591053  0.335963  \n",
      "    1      64.610005  62.303687  0.300595                    \n",
      "    2      60.359325  59.946065  0.276625                    \n",
      "\n"
     ]
    },
    {
     "data": {
      "text/plain": [
       "[59.94606509399414, 0.2766251592666216]"
      ]
     },
     "execution_count": 73,
     "metadata": {},
     "output_type": "execute_result"
    }
   ],
   "source": [
    "learn.fit(lr, 3, cycle_len=1, use_clr=(10,4))\n",
    "# chars\n",
    "# 1.976117   2.009706   0.107352\n",
    "\n",
    "# words+chars\n",
    "# 13.327054  13.433134 \n",
    "\n",
    "# conv w/ simplifications and adaptive maxpool\n",
    "# 3x2\n",
    "# 73.780399  69.005882  0.363635\n",
    "# 60.359325  59.946065  0.276625  (2nd run)"
   ]
  },
  {
   "cell_type": "code",
   "execution_count": 74,
   "metadata": {
    "ExecuteTime": {
     "end_time": "2018-12-04T18:19:59.881132Z",
     "start_time": "2018-12-04T18:19:59.689711Z"
    },
    "collapsed": true,
    "hidden": true
   },
   "outputs": [],
   "source": [
    "# learn.save('3x1_word_256')\n",
    "# learn.save('3x1_word+char_256')\n",
    "learn.save('conv_experiment_256')"
   ]
  },
  {
   "cell_type": "markdown",
   "metadata": {},
   "source": [
    "# Results"
   ]
  },
  {
   "cell_type": "code",
   "execution_count": 66,
   "metadata": {
    "ExecuteTime": {
     "end_time": "2018-12-06T23:59:30.166106Z",
     "start_time": "2018-12-06T23:59:29.943875Z"
    },
    "collapsed": true
   },
   "outputs": [],
   "source": [
    "learn.load('conv_experiment_128')"
   ]
  },
  {
   "cell_type": "code",
   "execution_count": 28,
   "metadata": {
    "ExecuteTime": {
     "end_time": "2018-12-24T16:33:57.359335Z",
     "start_time": "2018-12-24T16:33:56.152773Z"
    }
   },
   "outputs": [
    {
     "data": {
      "text/plain": [
       "tensor([27.2955], grad_fn=<_CTCBackward>)"
      ]
     },
     "execution_count": 28,
     "metadata": {},
     "output_type": "execute_result"
    }
   ],
   "source": [
    "x,y = next(iter(data.val_dl))\n",
    "learn.model.eval()\n",
    "preds,attns = learn.model(x, ret_attn=True)\n",
    "# preds = learn.model(x)\n",
    "res = torch.argmax(preds, dim=-1)\n",
    "\n",
    "ctc_loss(preds, y)"
   ]
  },
  {
   "cell_type": "code",
   "execution_count": null,
   "metadata": {},
   "outputs": [],
   "source": [
    "def ctc_decode(probs, attns):\n",
    "    sl,bs = probs.shape\n",
    "    attns = attns.permute(0,2,1)  #sl,bs,sz\n",
    "    \n",
    "    p_res = []\n",
    "    a_res = []\n",
    "    for i in range(bs):\n",
    "        prob = probs[:,i]\n",
    "        attn = attns[:,i]\n",
    "        a_out = []\n",
    "        p_out = []\n",
    "        last = 0\n",
    "        for char,att in zip(prob,attn):\n",
    "            if char not in [last,0]:\n",
    "                p_out.append(itos[char])\n",
    "                a_out.append(att)\n",
    "            last = char\n",
    "        ''.join(a_out)\n",
    "    return ''.join(out)"
   ]
  },
  {
   "cell_type": "code",
   "execution_count": 37,
   "metadata": {
    "ExecuteTime": {
     "end_time": "2018-12-13T23:05:51.141103Z",
     "start_time": "2018-12-13T23:05:51.098440Z"
    }
   },
   "outputs": [
    {
     "data": {
      "text/plain": [
       "0.5857142857142857"
      ]
     },
     "execution_count": 37,
     "metadata": {},
     "output_type": "execute_result"
    }
   ],
   "source": [
    "word_error_rate(preds,y)"
   ]
  },
  {
   "cell_type": "code",
   "execution_count": 40,
   "metadata": {
    "ExecuteTime": {
     "end_time": "2018-12-21T20:16:05.055422Z",
     "start_time": "2018-12-21T20:16:05.007314Z"
    }
   },
   "outputs": [
    {
     "data": {
      "text/plain": [
       "0.6900018849930272"
      ]
     },
     "execution_count": 40,
     "metadata": {},
     "output_type": "execute_result"
    }
   ],
   "source": [
    "char_error_rate(preds,y)"
   ]
  },
  {
   "cell_type": "markdown",
   "metadata": {},
   "source": [
    "### Images"
   ]
  },
  {
   "cell_type": "code",
   "execution_count": 31,
   "metadata": {
    "ExecuteTime": {
     "end_time": "2018-12-24T16:35:57.450114Z",
     "start_time": "2018-12-24T16:35:57.424321Z"
    }
   },
   "outputs": [],
   "source": [
    "def ctc_decode(pred):\n",
    "    out = []\n",
    "    last = 0\n",
    "    for char in pred:\n",
    "        if char not in [last,0]: out.append(itos[char])\n",
    "        last = char\n",
    "    return ''.join(out)"
   ]
  },
  {
   "cell_type": "code",
   "execution_count": 32,
   "metadata": {
    "ExecuteTime": {
     "end_time": "2018-12-24T16:35:59.558441Z",
     "start_time": "2018-12-24T16:35:58.620403Z"
    }
   },
   "outputs": [
    {
     "name": "stderr",
     "output_type": "stream",
     "text": [
      "Clipping input data to the valid range for imshow with RGB data ([0..1] for floats or [0..255] for integers).\n",
      "Clipping input data to the valid range for imshow with RGB data ([0..1] for floats or [0..255] for integers).\n",
      "Clipping input data to the valid range for imshow with RGB data ([0..1] for floats or [0..255] for integers).\n"
     ]
    },
    {
     "data": {
      "image/png": "[encoded data removed]",
      "text/plain": [
       "<Figure size 1440x1440 with 4 Axes>"
      ]
     },
     "metadata": {},
     "output_type": "display_data"
    }
   ],
   "source": [
    "imgs = data.trn_ds.denorm(x)\n",
    "\n",
    "fig, axes = plt.subplots(4,1, figsize=(20, 20))\n",
    "for i,ax in enumerate(axes.flat):\n",
    "    #t = label_text(y[i])     #=>  char indices\n",
    "#     p = label_text(res[:,i])\n",
    "    p = ctc_decode(res[:,i])\n",
    "    ax=show_img(imgs[i], ax=ax, title=p)#t+' '+p)\n",
    "    \n",
    "plt.tight_layout(pad=0.1)"
   ]
  },
  {
   "cell_type": "markdown",
   "metadata": {},
   "source": [
    "### Attention"
   ]
  },
  {
   "cell_type": "code",
   "execution_count": 45,
   "metadata": {
    "ExecuteTime": {
     "end_time": "2018-12-24T16:50:22.460542Z",
     "start_time": "2018-12-24T16:50:22.434542Z"
    }
   },
   "outputs": [],
   "source": [
    "# use for arch\n",
    "attns = attns.permute(2,0,1)"
   ]
  },
  {
   "cell_type": "code",
   "execution_count": 50,
   "metadata": {
    "ExecuteTime": {
     "end_time": "2018-12-24T16:51:49.556182Z",
     "start_time": "2018-12-24T16:51:49.530580Z"
    }
   },
   "outputs": [],
   "source": [
    "# conv\n",
    "k = 8 #32 #16\n",
    "def torch_scale_attns(attns):\n",
    "    bs,sl,_ = attns.shape\n",
    "    num = sz // k\n",
    "    mod = attns.view(bs,sl,num,num)\n",
    "    scaled = torch.nn.functional.interpolate(mod, size=sz)\n",
    "    return scaled  #([bs, sl, sz, sz])"
   ]
  },
  {
   "cell_type": "code",
   "execution_count": 51,
   "metadata": {
    "ExecuteTime": {
     "end_time": "2018-12-24T16:51:51.528514Z",
     "start_time": "2018-12-24T16:51:51.502343Z"
    }
   },
   "outputs": [],
   "source": [
    "from scipy.ndimage import gaussian_filter\n",
    "\n",
    "def g_filter(att):\n",
    "    return gaussian_filter(att, sigma=k)"
   ]
  },
  {
   "cell_type": "code",
   "execution_count": 54,
   "metadata": {
    "ExecuteTime": {
     "end_time": "2018-12-24T16:52:35.121841Z",
     "start_time": "2018-12-24T16:52:35.086959Z"
    }
   },
   "outputs": [],
   "source": [
    "idx  = 0\n",
    "img  = imgs[idx]\n",
    "pred = res[:,idx]\n",
    "img_attns = to_np(torch_scale_attns(attns)[idx])"
   ]
  },
  {
   "cell_type": "code",
   "execution_count": 61,
   "metadata": {
    "ExecuteTime": {
     "end_time": "2018-12-24T16:54:00.605892Z",
     "start_time": "2018-12-24T16:53:59.428842Z"
    }
   },
   "outputs": [
    {
     "data": {
      "image/png": "[encoded data removed]",
      "text/plain": [
       "<Figure size 1440x720 with 16 Axes>"
      ]
     },
     "metadata": {},
     "output_type": "display_data"
    }
   ],
   "source": [
    "fig, axes = plt.subplots(4, 4, figsize=(20, 10), gridspec_kw={'hspace': 0.5})\n",
    "for i,ax in enumerate(axes.flat):\n",
    "    a = g_filter(img_attns[i])\n",
    "    ax.imshow(img, alpha=None)\n",
    "    ax.imshow(a, cmap='Blues', interpolation='nearest', alpha=0.3)\n",
    "    \n",
    "    # Attention\n",
    "    ticks = np.arange(16, sz, 16)\n",
    "    ax.set_yticks(ticks, minor=False)\n",
    "    ax.set_xticks(ticks, minor=False)\n",
    "    ax.yaxis.grid(True)\n",
    "    ax.xaxis.grid(True)\n",
    "\n",
    "    ax.set_title(itos[pred[i].item()])"
   ]
  },
  {
   "cell_type": "markdown",
   "metadata": {
    "heading_collapsed": true
   },
   "source": [
    "# Beam Search"
   ]
  },
  {
   "cell_type": "code",
   "execution_count": 86,
   "metadata": {
    "ExecuteTime": {
     "end_time": "2018-12-12T00:14:52.990187Z",
     "start_time": "2018-12-12T00:14:52.965895Z"
    },
    "collapsed": true,
    "hidden": true
   },
   "outputs": [],
   "source": [
    "idx=12"
   ]
  },
  {
   "cell_type": "code",
   "execution_count": 87,
   "metadata": {
    "ExecuteTime": {
     "end_time": "2018-12-12T00:14:53.642852Z",
     "start_time": "2018-12-12T00:14:53.614162Z"
    },
    "hidden": true
   },
   "outputs": [
    {
     "data": {
      "text/plain": [
       "(tensor([-18.0286, -20.7020, -21.7893, -21.8339, -22.1800],\n",
       "        device='cuda:0', grad_fn=<TopkBackward>),\n",
       " tensor([  69,  121,    2, 1503,  456], device='cuda:0'))"
      ]
     },
     "execution_count": 87,
     "metadata": {},
     "output_type": "execute_result"
    }
   ],
   "source": [
    "prob = preds[:, idx]\n",
    "amts, idxs = torch.topk(prob[0], 5)\n",
    "amts, idxs"
   ]
  },
  {
   "cell_type": "code",
   "execution_count": 88,
   "metadata": {
    "ExecuteTime": {
     "end_time": "2018-12-12T00:14:54.800156Z",
     "start_time": "2018-12-12T00:14:54.772565Z"
    },
    "hidden": true
   },
   "outputs": [
    {
     "data": {
      "text/plain": [
       "['under', 'number', '_unk_', 'murder', 'winter']"
      ]
     },
     "execution_count": 88,
     "metadata": {},
     "output_type": "execute_result"
    }
   ],
   "source": [
    "[itos[i] for i in idxs]"
   ]
  },
  {
   "cell_type": "code",
   "execution_count": 77,
   "metadata": {
    "ExecuteTime": {
     "end_time": "2018-12-11T23:54:01.624610Z",
     "start_time": "2018-12-11T23:54:01.601397Z"
    },
    "hidden": true
   },
   "outputs": [
    {
     "data": {
      "text/plain": [
       "3176"
      ]
     },
     "execution_count": 77,
     "metadata": {},
     "output_type": "execute_result"
    }
   ],
   "source": [
    "word_stoi['deliberately']"
   ]
  },
  {
   "cell_type": "markdown",
   "metadata": {},
   "source": [
    "# Experiments"
   ]
  },
  {
   "cell_type": "markdown",
   "metadata": {
    "heading_collapsed": true
   },
   "source": [
    "## MaxPool2d"
   ]
  },
  {
   "cell_type": "code",
   "execution_count": 20,
   "metadata": {
    "ExecuteTime": {
     "end_time": "2018-12-12T16:47:26.756307Z",
     "start_time": "2018-12-12T16:47:26.708791Z"
    },
    "collapsed": true,
    "hidden": true
   },
   "outputs": [],
   "source": [
    "pool = nn.MaxPool2d(2)"
   ]
  },
  {
   "cell_type": "code",
   "execution_count": 33,
   "metadata": {
    "ExecuteTime": {
     "end_time": "2018-12-12T16:52:42.379282Z",
     "start_time": "2018-12-12T16:52:40.196373Z"
    },
    "collapsed": true,
    "hidden": true
   },
   "outputs": [],
   "source": [
    "denorm = data.trn_ds.denorm\n",
    "x,y = next(iter(data.aug_dl))\n",
    "imgs = denorm(x)"
   ]
  },
  {
   "cell_type": "code",
   "execution_count": 35,
   "metadata": {
    "ExecuteTime": {
     "end_time": "2018-12-12T16:52:57.935674Z",
     "start_time": "2018-12-12T16:52:57.675635Z"
    },
    "hidden": true
   },
   "outputs": [
    {
     "data": {
      "text/plain": [
       "<matplotlib.image.AxesImage at 0x138e57278>"
      ]
     },
     "execution_count": 35,
     "metadata": {},
     "output_type": "execute_result"
    },
    {
     "data": {
      "image/png": "[encoded data removed]",
      "text/plain": [
       "<Figure size 432x288 with 1 Axes>"
      ]
     },
     "metadata": {
      "needs_background": "light"
     },
     "output_type": "display_data"
    }
   ],
   "source": [
    "plt.imshow(imgs[0])"
   ]
  },
  {
   "cell_type": "code",
   "execution_count": 39,
   "metadata": {
    "ExecuteTime": {
     "end_time": "2018-12-12T16:53:51.208892Z",
     "start_time": "2018-12-12T16:53:51.157370Z"
    },
    "collapsed": true,
    "hidden": true
   },
   "outputs": [],
   "source": [
    "out = pool(x[0])"
   ]
  },
  {
   "cell_type": "code",
   "execution_count": 42,
   "metadata": {
    "ExecuteTime": {
     "end_time": "2018-12-12T16:54:32.239968Z",
     "start_time": "2018-12-12T16:54:32.191286Z"
    },
    "collapsed": true,
    "hidden": true
   },
   "outputs": [],
   "source": [
    "out_img = denorm(out[None])"
   ]
  },
  {
   "cell_type": "code",
   "execution_count": 47,
   "metadata": {
    "ExecuteTime": {
     "end_time": "2018-12-12T16:55:17.718312Z",
     "start_time": "2018-12-12T16:55:17.477459Z"
    },
    "hidden": true,
    "scrolled": true
   },
   "outputs": [
    {
     "data": {
      "text/plain": [
       "<matplotlib.image.AxesImage at 0x138e71ef0>"
      ]
     },
     "execution_count": 47,
     "metadata": {},
     "output_type": "execute_result"
    },
    {
     "data": {
      "image/png": "[encoded data removed]",
      "text/plain": [
       "<Figure size 432x288 with 1 Axes>"
      ]
     },
     "metadata": {
      "needs_background": "light"
     },
     "output_type": "display_data"
    }
   ],
   "source": [
    "plt.imshow(out_img[0])"
   ]
  },
  {
   "cell_type": "code",
   "execution_count": null,
   "metadata": {
    "collapsed": true,
    "hidden": true
   },
   "outputs": [],
   "source": []
  }
 ],
 "metadata": {
  "kernelspec": {
   "display_name": "Python 3",
   "language": "python",
   "name": "python3"
  },
  "language_info": {
   "codemirror_mode": {
    "name": "ipython",
    "version": 3
   },
   "file_extension": ".py",
   "mimetype": "text/x-python",
   "name": "python",
   "nbconvert_exporter": "python",
   "pygments_lexer": "ipython3",
   "version": "3.6.5"
  },
  "notify_time": "30",
  "toc": {
   "nav_menu": {},
   "number_sections": true,
   "sideBar": true,
   "skip_h1_title": false,
   "title_cell": "Table of Contents",
   "title_sidebar": "Contents",
   "toc_cell": false,
   "toc_position": {},
   "toc_section_display": true,
   "toc_window_display": false
  },
  "varInspector": {
   "cols": {
    "lenName": 16,
    "lenType": 16,
    "lenVar": 40
   },
   "kernels_config": {
    "python": {
     "delete_cmd_postfix": "",
     "delete_cmd_prefix": "del ",
     "library": "var_list.py",
     "varRefreshCmd": "print(var_dic_list())"
    },
    "r": {
     "delete_cmd_postfix": ") ",
     "delete_cmd_prefix": "rm(",
     "library": "var_list.r",
     "varRefreshCmd": "cat(var_dic_list()) "
    }
   },
   "types_to_exclude": [
    "module",
    "function",
    "builtin_function_or_method",
    "instance",
    "_Feature"
   ],
   "window_display": false
  }
 },
 "nbformat": 4,
 "nbformat_minor": 2
}
