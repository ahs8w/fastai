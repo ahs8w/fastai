{
 "cells": [
  {
   "cell_type": "code",
   "execution_count": null,
   "metadata": {
    "ExecuteTime": {},
    "heading_collapsed": true,
    "hidden": true
   },
   "outputs": [],
   "source": [
    "%matplotlib inline\n",
    "%reload_ext autoreload\n",
    "%autoreload 2"
   ]
  },
  {
   "cell_type": "code",
   "execution_count": null,
   "metadata": {
    "ExecuteTime": {},
    "heading_collapsed": true,
    "hidden": true
   },
   "outputs": [],
   "source": [
    "from fastai.text import *"
   ]
  },
  {
   "cell_type": "code",
   "execution_count": null,
   "metadata": {
    "ExecuteTime": {},
    "heading_collapsed": true,
    "hidden": true
   },
   "outputs": [],
   "source": [
    "PATH = Path('data/fonts/')"
   ]
  },
  {
   "cell_type": "code",
   "execution_count": null,
   "metadata": {
    "ExecuteTime": {},
    "heading_collapsed": true,
    "hidden": true
   },
   "outputs": [],
   "source": [
    "from selenium import webdriver\n",
    "from selenium.webdriver import ActionChains\n",
    "from selenium.webdriver.chrome.options import Options"
   ]
  },
  {
   "cell_type": "code",
   "execution_count": null,
   "metadata": {
    "ExecuteTime": {},
    "heading_collapsed": true,
    "hidden": true
   },
   "outputs": [],
   "source": [
    "#1050 width\n",
    "fonts = {'Indie Flower':29, 'Dancing Script':35, 'Pacifico':31, 'Shadows into Light':33, 'Satisfy':33, 'Courgette':28,\n",
    " 'Caveat':38, 'Butterfly Kids':43, 'Kaushan Script':32, 'Great Vibes':40, 'Cookie':44, 'Tangerine':49,\n",
    "        \n",
    " 'Gloria Hallelujah':28, 'Sacramento':46, 'Marck Script':36, 'Gochi Hand':34, 'Bad Script':38, 'Yellowtail':44,\n",
    " 'Parisienne':40, 'Schoolbell':35, 'Homemade Apple':25, 'Allura':44, 'Damion':40, 'Alex Brush':45,\n",
    " 'Covered By Your Grace':40, 'Italianno':57, 'Mr Dafoe':43, 'Nothing You Could Do':29, 'Pinyon Script':40,\n",
    " 'Niconne':44, 'Nanum Pen Script':42, 'Yesteryear':45, 'Reenie Beanie':42, 'Leckerli One':31, 'Arizonia':42,\n",
    " 'Just Another Hand':70, 'Coming Soon':31, 'Rochester':44, 'Grand Hotel':49, 'Berkshire Swash':35,\n",
    " 'Nanum Brush Script':45, 'Norican':42, 'Annie Use Your Telescope':42, 'Sue Ellen Francisco':55,\n",
    " 'Herr Von MuellerHoff':59, 'Mr De Haviland':63, 'Calligraffitti':39, 'Kristi':59, 'Sofia':33, 'Aladin':44,\n",
    " 'The Girl Next Door':30, 'Give You Glory':32, 'Cedarville Cursive':32, 'Monsieur La Doulaise':50, 'Montez':47,\n",
    " 'Qwigley':62, 'Rouge Script':51, 'La Belle Aurore':35, 'Bilbo Swash Caps':53, 'Crafty Girls':27,\n",
    " 'Waiting For The Sunrise':37, 'Meddon':25, 'Aguafina Script':51, 'Loved By The King':46, 'Vibur':41,\n",
    " 'Just Me Again Down Here':48, 'Princess Sofia':42, 'Dawning Of A New Day':40, 'Mrs Saint Delafield':58,\n",
    " 'Over The Rainbow':33, 'Swanky and Moo Moo':35, 'Engagement':59, 'Sedgwick Ave Display':36, 'Mr Bedfort':39,\n",
    " 'Lovers Quarrel':64, 'Condiment':43, 'Charmonman':37, 'League Script':32, 'Bilbo':56, 'Gaegu':34, 'Stalemate':71,\n",
    " 'Julee':37, 'Jim Nightshade':50, 'Miss Fajardose':70, 'Ruthie':53, 'Dokdo':35, 'Mrs Sheppards':43, 'Dr Sugiyama':48,\n",
    " 'Felipa':43, 'Molle':30, 'Devonshire':49, 'East Sea Dokdo':49, 'Gamja Flower':39, 'Hi Melody':44, 'Ruge Boogie':50,\n",
    " 'Sunshiney':43, 'Romanesco':63, 'Lakki Ready':32}"
   ]
  },
  {
   "cell_type": "code",
   "execution_count": null,
   "metadata": {
    "ExecuteTime": {},
    "heading_collapsed": true,
    "hidden": true
   },
   "outputs": [],
   "source": [
    "#1200 width\n",
    "fonts = {'Indie Flower':37, 'Dancing Script':45, 'Pacifico':39, 'Shadows into Light':43, 'Satisfy':43, 'Courgette':36,\n",
    " 'Caveat':48, 'Butterfly Kids':50, 'Kaushan Script':37, 'Great Vibes':45, 'Cookie':51, 'Tangerine':64,\n",
    " 'Gloria Hallelujah':28, 'Sacramento':46, 'Marck Script':36, 'Gochi Hand':34, 'Bad Script':38, 'Yellowtail':44,\n",
    " 'Parisienne':40, 'Schoolbell':35, 'Homemade Apple':25, 'Allura':44, 'Damion':40, 'Alex Brush':45,\n",
    " 'Covered By Your Grace':40, 'Italianno':57, 'Mr Dafoe':43, 'Nothing You Could Do':29, 'Pinyon Script':40,\n",
    " 'Niconne':44, 'Nanum Pen Script':42, 'Yesteryear':45, 'Reenie Beanie':42, 'Leckerli One':31, 'Arizonia':42,\n",
    " 'Just Another Hand':70, 'Coming Soon':31, 'Rochester':44, 'Grand Hotel':49, 'Berkshire Swash':35,\n",
    " 'Nanum Brush Script':45, 'Norican':42, 'Annie Use Your Telescope':42, 'Sue Ellen Francisco':55,\n",
    " 'Herr Von MuellerHoff':59, 'Mr De Haviland':63, 'Calligraffitti':39, 'Kristi':59, 'Sofia':33, 'Aladin':44,\n",
    " 'The Girl Next Door':30, 'Give You Glory':32, 'Cedarville Cursive':32, 'Monsieur La Doulaise':50, 'Montez':47,\n",
    " 'Qwigley':62, 'Rouge Script':51, 'La Belle Aurore':35, 'Bilbo Swash Caps':53, 'Crafty Girls':27,\n",
    " 'Waiting For The Sunrise':37, 'Meddon':25, 'Aguafina Script':51, 'Loved By The King':46, 'Vibur':41,\n",
    " 'Just Me Again Down Here':48, 'Princess Sofia':42, 'Dawning Of A New Day':40, 'Mrs Saint Delafield':58,\n",
    " 'Over The Rainbow':33, 'Swanky and Moo Moo':35, 'Engagement':59, 'Sedgwick Ave Display':36, 'Mr Bedfort':39,\n",
    " 'Lovers Quarrel':64, 'Condiment':43, 'Charmonman':37, 'League Script':32, 'Bilbo':56, 'Gaegu':34, 'Stalemate':71,\n",
    " 'Julee':37, 'Jim Nightshade':50, 'Miss Fajardose':70, 'Ruthie':53, 'Dokdo':35, 'Mrs Sheppards':43, 'Dr Sugiyama':48,\n",
    " 'Felipa':43, 'Molle':30, 'Devonshire':49, 'East Sea Dokdo':49, 'Gamja Flower':39, 'Hi Melody':44, 'Ruge Boogie':50,\n",
    " 'Sunshiney':43, 'Romanesco':63, 'Lakki Ready':32}"
   ]
  },
  {
   "cell_type": "code",
   "execution_count": null,
   "metadata": {
    "ExecuteTime": {},
    "heading_collapsed": true,
    "hidden": true
   },
   "outputs": [],
   "source": [
    "name = random.choice(list(fonts.keys()))\n",
    "fonts[name]"
   ]
  },
  {
   "cell_type": "code",
   "execution_count": null,
   "metadata": {
    "ExecuteTime": {},
    "heading_collapsed": true,
    "hidden": true
   },
   "outputs": [],
   "source": [
    "# fontsize = range(24,40,2)\n",
    "\n",
    "# width = range(700,1150,50)\n",
    "# height = 1000"
   ]
  },
  {
   "cell_type": "code",
   "execution_count": null,
   "metadata": {
    "ExecuteTime": {},
    "heading_collapsed": true,
    "hidden": true
   },
   "outputs": [],
   "source": [
    "chrome_options = Options()\n",
    "chrome_options.add_argument(\"--headless\")  \n",
    "chrome_options.add_argument(\"--window-size=1200,1500\")   #(\"--window-size=%s\" % WINDOW_SIZE)"
   ]
  },
  {
   "cell_type": "code",
   "execution_count": null,
   "metadata": {
    "ExecuteTime": {},
    "heading_collapsed": true,
    "hidden": true
   },
   "outputs": [],
   "source": [
    "driver = webdriver.Chrome(options=chrome_options)\n",
    "actions = ActionChains(driver)"
   ]
  },
  {
   "cell_type": "code",
   "execution_count": null,
   "metadata": {
    "ExecuteTime": {},
    "heading_collapsed": true,
    "hidden": true
   },
   "outputs": [],
   "source": [
    "driver.get('https://fonts.google.com/?category=Handwriting')"
   ]
  },
  {
   "cell_type": "code",
   "execution_count": null,
   "metadata": {
    "ExecuteTime": {},
    "heading_collapsed": true,
    "hidden": true
   },
   "outputs": [],
   "source": [
    "def set_font_size(driver, actions, value):\n",
    "    slider = driver.find_element_by_class_name('md-track-container') # whole container not just the slider\n",
    "    width = slider.size['width']\n",
    "    s_max,s_min = 300,8\n",
    "    step = width / (s_max - s_min)\n",
    "    val = int(step * (value - s_min + 1))\n",
    "    actions.click_and_hold(slider).move_by_offset(-width//2,0).move_by_offset(val,0).release().perform()"
   ]
  },
  {
   "cell_type": "code",
   "execution_count": null,
   "metadata": {
    "ExecuteTime": {},
    "heading_collapsed": true,
    "hidden": true
   },
   "outputs": [],
   "source": [
    "#view as list\n",
    "driver.find_element_by_class_name('font-preview-layout-toggle-button').click()\n",
    "# if toggle.find_element_by_class_name('md-tooltip').text == 'View as list':\n",
    "#     toggle.click()"
   ]
  },
  {
   "cell_type": "code",
   "execution_count": null,
   "metadata": {
    "ExecuteTime": {},
    "heading_collapsed": true,
    "hidden": true
   },
   "outputs": [],
   "source": [
    "# set font name\n",
    "font_input = driver.find_element_by_id('input_4')\n",
    "font_input.clear()\n",
    "name = random.choice(list(fonts.keys()))\n",
    "font_input.send_keys(name)\n",
    "\n",
    "# set font size\n",
    "size = fonts[name] - random.randint(0,4)\n",
    "set_font_size(driver, actions, size)"
   ]
  },
  {
   "cell_type": "code",
   "execution_count": null,
   "metadata": {
    "ExecuteTime": {},
    "heading_collapsed": true,
    "hidden": true
   },
   "outputs": [],
   "source": [
    "name, size"
   ]
  },
  {
   "cell_type": "code",
   "execution_count": null,
   "metadata": {
    "ExecuteTime": {},
    "heading_collapsed": true,
    "hidden": true
   },
   "outputs": [],
   "source": [
    "# fit window size to element\n",
    "driver.set_window_size(1200,1500)"
   ]
  },
  {
   "cell_type": "code",
   "execution_count": null,
   "metadata": {
    "ExecuteTime": {},
    "heading_collapsed": true,
    "hidden": true
   },
   "outputs": [],
   "source": [
    "# input text\n",
    "text_form = driver.find_element_by_class_name('font-preview-text')\n",
    "text_form.clear()\n",
    "text_form.send_keys(st)"
   ]
  },
  {
   "cell_type": "code",
   "execution_count": null,
   "metadata": {
    "ExecuteTime": {},
    "heading_collapsed": true,
    "hidden": true
   },
   "outputs": [],
   "source": [
    "# hide scroll-to-top button\n",
    "scroll_btn = driver.find_element_by_class_name('scroll-top-button-fab')\n",
    "if scroll_btn.is_displayed():\n",
    "    driver.execute_script(\"arguments[0].setAttribute('class',' hide')\", scroll_btn)"
   ]
  },
  {
   "cell_type": "code",
   "execution_count": null,
   "metadata": {
    "ExecuteTime": {},
    "heading_collapsed": true,
    "hidden": true
   },
   "outputs": [],
   "source": [
    "text_form.size"
   ]
  },
  {
   "cell_type": "code",
   "execution_count": null,
   "metadata": {
    "ExecuteTime": {},
    "heading_collapsed": true,
    "hidden": true
   },
   "outputs": [],
   "source": [
    "text_form.screenshot(str(PATH/'test.png'))"
   ]
  },
  {
   "cell_type": "code",
   "execution_count": null,
   "metadata": {
    "ExecuteTime": {},
    "heading_collapsed": true,
    "hidden": true
   },
   "outputs": [],
   "source": [
    "driver.save_screenshot(str(PATH/'test.png'))"
   ]
  },
  {
   "cell_type": "code",
   "execution_count": null,
   "metadata": {
    "ExecuteTime": {},
    "heading_collapsed": true,
    "hidden": true
   },
   "outputs": [],
   "source": [
    "driver.close()"
   ]
  },
  {
   "cell_type": "markdown",
   "metadata": {
    "ExecuteTime": {}
   },
   "source": [
    "# Text Data"
   ]
  },
  {
   "cell_type": "code",
   "execution_count": null,
   "metadata": {
    "ExecuteTime": {},
    "heading_collapsed": true,
    "hidden": true
   },
   "outputs": [],
   "source": [
    "with open(Path('data/texts/room_with_a_view.txt')) as file:  \n",
    "    text = file.read()"
   ]
  },
  {
   "cell_type": "code",
   "execution_count": null,
   "metadata": {
    "ExecuteTime": {},
    "heading_collapsed": true,
    "hidden": true
   },
   "outputs": [],
   "source": [
    "lines = text.split('\\n\\n')\n",
    "len(lines)"
   ]
  },
  {
   "cell_type": "code",
   "execution_count": null,
   "metadata": {
    "ExecuteTime": {},
    "heading_collapsed": true,
    "hidden": true
   },
   "outputs": [],
   "source": [
    "df = pd.DataFrame({'text': lines})\n",
    "len(df)"
   ]
  },
  {
   "cell_type": "code",
   "execution_count": null,
   "metadata": {
    "ExecuteTime": {},
    "heading_collapsed": true,
    "hidden": true
   },
   "outputs": [],
   "source": [
    "# remove empty lines\n",
    "df['char_len'] = df.text.map(len)\n",
    "df = df[df['char_len'] > 0]\n",
    "df.sort_values('char_len', inplace=True)\n",
    "df.head(5)"
   ]
  },
  {
   "cell_type": "code",
   "execution_count": null,
   "metadata": {
    "ExecuteTime": {},
    "heading_collapsed": true,
    "hidden": true
   },
   "outputs": [],
   "source": [
    "# truncate text len to 1000 w/ textwrap\n",
    "df['text'] = df.text.map(lambda x: textwrap.wrap(x, width=1000)[0])\n",
    "df['char_len'] = df.text.map(len)\n",
    "df.sort_values('char_len', inplace=True, ascending=False)\n",
    "df.head(5)"
   ]
  },
  {
   "cell_type": "code",
   "execution_count": null,
   "metadata": {
    "ExecuteTime": {},
    "heading_collapsed": true,
    "hidden": true
   },
   "outputs": [],
   "source": [
    "st = df.loc[2083].text"
   ]
  },
  {
   "cell_type": "code",
   "execution_count": null,
   "metadata": {
    "ExecuteTime": {},
    "heading_collapsed": true,
    "hidden": true,
    "scrolled": true
   },
   "outputs": [],
   "source": [
    "print(st)"
   ]
  },
  {
   "cell_type": "code",
   "execution_count": null,
   "metadata": {
    "ExecuteTime": {},
    "heading_collapsed": true,
    "hidden": true
   },
   "outputs": [],
   "source": []
  }
 ],
 "metadata": {
  "kernelspec": {
   "display_name": "Python 3",
   "language": "python",
   "name": "python3"
  },
  "language_info": {
   "codemirror_mode": {
    "name": "ipython",
    "version": 3
   },
   "file_extension": ".py",
   "mimetype": "text/x-python",
   "name": "python",
   "nbconvert_exporter": "python",
   "pygments_lexer": "ipython3",
   "version": "3.7.3"
  },
  "toc": {
   "nav_menu": {},
   "number_sections": true,
   "sideBar": true,
   "skip_h1_title": false,
   "title_cell": "Table of Contents",
   "title_sidebar": "Contents",
   "toc_cell": false,
   "toc_position": {},
   "toc_section_display": true,
   "toc_window_display": false
  },
  "varInspector": {
   "cols": {
    "lenName": 16,
    "lenType": 16,
    "lenVar": 40
   },
   "kernels_config": {
    "python": {
     "delete_cmd_postfix": "",
     "delete_cmd_prefix": "del ",
     "library": "var_list.py",
     "varRefreshCmd": "print(var_dic_list())"
    },
    "r": {
     "delete_cmd_postfix": ") ",
     "delete_cmd_prefix": "rm(",
     "library": "var_list.r",
     "varRefreshCmd": "cat(var_dic_list()) "
    }
   },
   "types_to_exclude": [
    "module",
    "function",
    "builtin_function_or_method",
    "instance",
    "_Feature"
   ],
   "window_display": false
  }
 },
 "nbformat": 4,
 "nbformat_minor": 2
}
