{
 "cells": [
  {
   "cell_type": "code",
   "execution_count": null,
   "metadata": {
    "ExecuteTime": {},
    "heading_collapsed": true,
    "hidden": true
   },
   "outputs": [],
   "source": [
    "%matplotlib inline\n",
    "%reload_ext autoreload\n",
    "%autoreload 2"
   ]
  },
  {
   "cell_type": "code",
   "execution_count": null,
   "metadata": {
    "ExecuteTime": {},
    "heading_collapsed": true,
    "hidden": true
   },
   "outputs": [],
   "source": [
    "from fastai.text import *\n",
    "from PIL import Image\n",
    "import pdb"
   ]
  },
  {
   "cell_type": "code",
   "execution_count": null,
   "metadata": {
    "ExecuteTime": {},
    "heading_collapsed": true,
    "hidden": true
   },
   "outputs": [],
   "source": [
    "PATH = Path('data/IAM_handwriting/')"
   ]
  },
  {
   "cell_type": "markdown",
   "metadata": {},
   "source": [
    "# Sources"
   ]
  },
  {
   "cell_type": "markdown",
   "metadata": {},
   "source": [
    "## IMDB"
   ]
  },
  {
   "cell_type": "code",
   "execution_count": null,
   "metadata": {
    "ExecuteTime": {},
    "heading_collapsed": true,
    "hidden": true
   },
   "outputs": [],
   "source": [
    "img_path = PATH/'imdb_unsup'\n",
    "csv_path = PATH/'imdb_unsup1.csv'\n",
    "text_path = Path('data/texts/unsup.txt')"
   ]
  },
  {
   "cell_type": "code",
   "execution_count": null,
   "metadata": {
    "ExecuteTime": {},
    "heading_collapsed": true,
    "hidden": true
   },
   "outputs": [],
   "source": [
    "# combine\n",
    "# a = pd.read_csv(PATH/'imdb_unsup.csv')\n",
    "# b = pd.read_csv(PATH/'imdb_unsup1.csv')\n",
    "# c = pd.read_csv(PATH/'imdb_unsup2.csv')\n",
    "new = pd.concat([a,b,c], ignore_index=True)\n",
    "new.head()"
   ]
  },
  {
   "cell_type": "code",
   "execution_count": null,
   "metadata": {
    "ExecuteTime": {},
    "heading_collapsed": true,
    "hidden": true
   },
   "outputs": [],
   "source": [
    "new.sort_values('filename', inplace=True)\n",
    "new.reset_index(inplace=True, drop=True)"
   ]
  },
  {
   "cell_type": "code",
   "execution_count": null,
   "metadata": {
    "ExecuteTime": {},
    "heading_collapsed": true,
    "hidden": true
   },
   "outputs": [],
   "source": [
    "def img_height(filename):\n",
    "    with Image.open(img_path/filename) as img:\n",
    "        return img.size[1]\n",
    "    \n",
    "heights = new.filename.apply(lambda x: img_height(x))  \n",
    "new['height'] = heights.astype('int32')"
   ]
  },
  {
   "cell_type": "code",
   "execution_count": null,
   "metadata": {
    "ExecuteTime": {},
    "heading_collapsed": true,
    "hidden": true
   },
   "outputs": [],
   "source": [
    "new.head()"
   ]
  },
  {
   "cell_type": "code",
   "execution_count": null,
   "metadata": {
    "ExecuteTime": {},
    "heading_collapsed": true,
    "hidden": true
   },
   "outputs": [],
   "source": [
    "new.to_csv(PATH/'imdb_unsup_20k_debug.csv', index=False)"
   ]
  },
  {
   "cell_type": "markdown",
   "metadata": {
    "heading_collapsed": true
   },
   "source": [
    "## Arthur - Cast Adrift"
   ]
  },
  {
   "cell_type": "code",
   "execution_count": null,
   "metadata": {
    "ExecuteTime": {},
    "heading_collapsed": true,
    "hidden": true
   },
   "outputs": [],
   "source": [
    "img_path = PATH/'adrift'\n",
    "csv_path = PATH/'arthur_adrift.csv'\n",
    "text_path = Path('data/texts/cast_adrift.txt')"
   ]
  },
  {
   "cell_type": "code",
   "execution_count": null,
   "metadata": {
    "ExecuteTime": {},
    "heading_collapsed": true,
    "hidden": true
   },
   "outputs": [],
   "source": [
    "# combine\n",
    "df = pd.read_csv(PATH/'arthur_adrift.csv')\n",
    "len(df)"
   ]
  },
  {
   "cell_type": "code",
   "execution_count": null,
   "metadata": {
    "ExecuteTime": {},
    "heading_collapsed": true,
    "hidden": true
   },
   "outputs": [],
   "source": [
    "df.to_csv(PATH/'arthur_adrift_10k.csv', columns=['filename', 'label'], index=False)"
   ]
  },
  {
   "cell_type": "markdown",
   "metadata": {
    "heading_collapsed": true
   },
   "source": [
    "## Grey - Betty Zane"
   ]
  },
  {
   "cell_type": "code",
   "execution_count": null,
   "metadata": {
    "ExecuteTime": {},
    "heading_collapsed": true,
    "hidden": true
   },
   "outputs": [],
   "source": [
    "img_path = PATH/'zane'\n",
    "csv_path = PATH/'zane.csv'\n",
    "text_path = Path('data/texts/betty_zane.txt')"
   ]
  },
  {
   "cell_type": "code",
   "execution_count": null,
   "metadata": {
    "ExecuteTime": {},
    "heading_collapsed": true,
    "hidden": true
   },
   "outputs": [],
   "source": [
    "# combine\n",
    "df = pd.read_csv(PATH/'zane.csv')\n",
    "len(df)"
   ]
  },
  {
   "cell_type": "code",
   "execution_count": null,
   "metadata": {
    "ExecuteTime": {},
    "heading_collapsed": true,
    "hidden": true
   },
   "outputs": [],
   "source": [
    "df.to_csv(PATH/'zane_10k.csv', columns=['filename', 'label'], index=False)"
   ]
  },
  {
   "cell_type": "markdown",
   "metadata": {
    "heading_collapsed": true
   },
   "source": [
    "## James - The American"
   ]
  },
  {
   "cell_type": "code",
   "execution_count": null,
   "metadata": {
    "ExecuteTime": {},
    "heading_collapsed": true,
    "hidden": true
   },
   "outputs": [],
   "source": [
    "img_path = PATH/'american'\n",
    "csv_path = PATH/'james_american.csv'\n",
    "text_path = Path('data/texts/the_american.txt')"
   ]
  },
  {
   "cell_type": "code",
   "execution_count": null,
   "metadata": {
    "ExecuteTime": {},
    "heading_collapsed": true,
    "hidden": true
   },
   "outputs": [],
   "source": [
    "# combine\n",
    "df = pd.read_csv(PATH/'james_american.csv')\n",
    "len(df)"
   ]
  },
  {
   "cell_type": "code",
   "execution_count": null,
   "metadata": {
    "ExecuteTime": {},
    "heading_collapsed": true,
    "hidden": true
   },
   "outputs": [],
   "source": [
    "df.to_csv(PATH/'james_american_10k.csv', columns=['filename', 'label'], index=False)"
   ]
  },
  {
   "cell_type": "markdown",
   "metadata": {
    "heading_collapsed": true
   },
   "source": [
    "## Wharton - Age of Innocence"
   ]
  },
  {
   "cell_type": "code",
   "execution_count": null,
   "metadata": {
    "ExecuteTime": {},
    "heading_collapsed": true,
    "hidden": true
   },
   "outputs": [],
   "source": [
    "img_path = PATH/'age'\n",
    "csv_path = PATH/'wharton_age0.csv'\n",
    "text_path = Path('data/texts/age_of_innocence.txt')"
   ]
  },
  {
   "cell_type": "code",
   "execution_count": null,
   "metadata": {
    "ExecuteTime": {},
    "heading_collapsed": true,
    "hidden": true
   },
   "outputs": [],
   "source": [
    "# combine\n",
    "df = pd.read_csv(PATH/'wharton_age0.csv')\n",
    "len(df)"
   ]
  },
  {
   "cell_type": "code",
   "execution_count": null,
   "metadata": {
    "ExecuteTime": {},
    "heading_collapsed": true,
    "hidden": true
   },
   "outputs": [],
   "source": [
    "df.to_csv(PATH/'wharton_age_10k.csv', columns=['filename', 'label'], index=False)"
   ]
  },
  {
   "cell_type": "markdown",
   "metadata": {
    "heading_collapsed": true
   },
   "source": [
    "## Austen - Northanger Abbey"
   ]
  },
  {
   "cell_type": "code",
   "execution_count": null,
   "metadata": {
    "ExecuteTime": {},
    "heading_collapsed": true,
    "hidden": true
   },
   "outputs": [],
   "source": [
    "img_path = PATH/'abbey'\n",
    "csv_path = PATH/'austen_abbey0.csv'\n",
    "text_path = Path('data/texts/northanger_abbey.txt')"
   ]
  },
  {
   "cell_type": "code",
   "execution_count": null,
   "metadata": {
    "ExecuteTime": {},
    "heading_collapsed": true,
    "hidden": true
   },
   "outputs": [],
   "source": [
    "# combine\n",
    "a = pd.read_csv(PATH/'austen_abbey0.csv')\n",
    "b = pd.read_csv(PATH/'austen_abbey1.csv')\n",
    "new = pd.concat([a,b], ignore_index=True)\n",
    "new.head()"
   ]
  },
  {
   "cell_type": "code",
   "execution_count": null,
   "metadata": {
    "ExecuteTime": {},
    "heading_collapsed": true,
    "hidden": true
   },
   "outputs": [],
   "source": [
    "new.sort_values('filename', inplace=True)\n",
    "new.reset_index(inplace=True, drop=True)"
   ]
  },
  {
   "cell_type": "code",
   "execution_count": null,
   "metadata": {
    "ExecuteTime": {},
    "heading_collapsed": true,
    "hidden": true
   },
   "outputs": [],
   "source": [
    "new.to_csv(PATH/'forster_room_10k.csv', columns=['filename', 'label'], index=False)"
   ]
  },
  {
   "cell_type": "markdown",
   "metadata": {
    "heading_collapsed": true
   },
   "source": [
    "## Forster - Room with a View"
   ]
  },
  {
   "cell_type": "code",
   "execution_count": null,
   "metadata": {
    "ExecuteTime": {},
    "heading_collapsed": true,
    "hidden": true
   },
   "outputs": [],
   "source": [
    "img_path = PATH/'fonts'\n",
    "csv_path = PATH/'forster_room1.csv'\n",
    "text_path = Path('data/texts/room_with_a_view.txt')"
   ]
  },
  {
   "cell_type": "code",
   "execution_count": null,
   "metadata": {
    "ExecuteTime": {},
    "heading_collapsed": true,
    "hidden": true
   },
   "outputs": [],
   "source": [
    "# combine\n",
    "a = pd.read_csv(PATH/'forster_room0.csv')\n",
    "b = pd.read_csv(PATH/'forster_room1.csv')\n",
    "new = pd.concat([a,b], ignore_index=True)\n",
    "new.head()"
   ]
  },
  {
   "cell_type": "code",
   "execution_count": null,
   "metadata": {
    "ExecuteTime": {},
    "heading_collapsed": true,
    "hidden": true
   },
   "outputs": [],
   "source": [
    "new.sort_values('filename', inplace=True)\n",
    "new.reset_index(inplace=True, drop=True)"
   ]
  },
  {
   "cell_type": "code",
   "execution_count": null,
   "metadata": {
    "ExecuteTime": {},
    "heading_collapsed": true,
    "hidden": true
   },
   "outputs": [],
   "source": [
    "new.to_csv(PATH/'forster_room_10k.csv', columns=['filename', 'label'], index=False)"
   ]
  },
  {
   "cell_type": "markdown",
   "metadata": {
    "heading_collapsed": true
   },
   "source": [
    "## Shaw - Irrational Knot"
   ]
  },
  {
   "cell_type": "code",
   "execution_count": null,
   "metadata": {
    "ExecuteTime": {},
    "heading_collapsed": true,
    "hidden": true
   },
   "outputs": [],
   "source": [
    "img_path = PATH/'knot'\n",
    "csv_path = PATH/'shaw_knot.csv'\n",
    "text_path = Path('data/texts/irrational_knot.txt')"
   ]
  },
  {
   "cell_type": "code",
   "execution_count": null,
   "metadata": {
    "ExecuteTime": {},
    "heading_collapsed": true,
    "hidden": true
   },
   "outputs": [],
   "source": [
    "# combine\n",
    "a = pd.read_csv(PATH/'shaw_knot.csv')\n",
    "b = pd.read_csv(PATH/'shaw_knot1.csv')\n",
    "new = pd.concat([a,b], ignore_index=True)\n",
    "new.head()"
   ]
  },
  {
   "cell_type": "code",
   "execution_count": null,
   "metadata": {
    "ExecuteTime": {},
    "heading_collapsed": true,
    "hidden": true
   },
   "outputs": [],
   "source": [
    "new.sort_values('filename', inplace=True)\n",
    "new.reset_index(inplace=True, drop=True)"
   ]
  },
  {
   "cell_type": "code",
   "execution_count": null,
   "metadata": {
    "ExecuteTime": {},
    "heading_collapsed": true,
    "hidden": true
   },
   "outputs": [],
   "source": [
    "new.to_csv(PATH/'shaw_knot_10k.csv', columns=['filename', 'label'], index=False)"
   ]
  },
  {
   "cell_type": "markdown",
   "metadata": {
    "heading_collapsed": true
   },
   "source": [
    "# Google Fonts"
   ]
  },
  {
   "cell_type": "code",
   "execution_count": null,
   "metadata": {
    "ExecuteTime": {},
    "heading_collapsed": true,
    "hidden": true
   },
   "outputs": [],
   "source": [
    "from selenium import webdriver\n",
    "from selenium.webdriver import ActionChains\n",
    "from selenium.webdriver.chrome.options import Options\n",
    "from selenium.webdriver.support.ui import WebDriverWait\n",
    "from selenium.webdriver.support import expected_conditions as EC\n",
    "from selenium.webdriver.common.by import By"
   ]
  },
  {
   "cell_type": "code",
   "execution_count": null,
   "metadata": {
    "ExecuteTime": {},
    "heading_collapsed": true,
    "hidden": true
   },
   "outputs": [],
   "source": [
    "#1050 width\n",
    "fonts = {'Indie Flower':29, 'Dancing Script':35, 'Pacifico':31, 'Shadows into Light':33, 'Satisfy':33, 'Courgette':28,\n",
    " 'Caveat':38, 'Butterfly Kids':43, 'Kaushan Script':32, 'Great Vibes':40, 'Cookie':40, 'Tangerine':49,\n",
    " 'Gloria Hallelujah':25, 'Sacramento':38, 'Marck Script':30, 'Gochi Hand':30, 'Bad Script':33, 'Yellowtail':36,\n",
    " 'Parisienne':34, 'Schoolbell':31, 'Homemade Apple':22, 'Allura':37, 'Damion':35, 'Alex Brush':36,\n",
    " 'Covered By Your Grace':35, 'Italianno':48, 'Mr Dafoe':37, 'Nothing You Could Do':26, 'Pinyon Script':32,\n",
    " 'Niconne':37, 'Nanum Pen Script':36, 'Yesteryear':39, 'Reenie Beanie':34, 'Leckerli One':27, 'Arizonia':33,\n",
    " 'Just Another Hand':61, 'Coming Soon':27, 'Rochester':39, 'Grand Hotel':42, 'Berkshire Swash':30,\n",
    " 'Nanum Brush Script':39, 'Norican':37, 'Annie Use Your Telescope':37, 'Sue Ellen Francisco':47,\n",
    " 'Herr Von MuellerHoff':49, 'Mr De Haviland':51, 'Calligraffitti':34, 'Kristi':50, 'Sofia':28, 'Aladin':38,\n",
    " 'The Girl Next Door':26, 'Give You Glory':27, 'Cedarville Cursive':27, 'Monsieur La Doulaise':36, 'Montez':40,\n",
    " 'Qwigley':53, 'Rouge Script':41, 'La Belle Aurore':29, 'Bilbo Swash Caps':45, 'Crafty Girls':24,\n",
    " 'Waiting For The Sunrise':32, 'Meddon':20, 'Aguafina Script':44, 'Loved By The King':39, 'Vibur':35,\n",
    " 'Just Me Again Down Here':42, 'Princess Sofia':37, 'Dawning Of A New Day':34, 'Mrs Saint Delafield':46,\n",
    " 'Over The Rainbow':27, 'Swanky and Moo Moo':31, 'Engagement':51, 'Sedgwick Ave Display':32, 'Mr Bedfort':33,\n",
    " 'Lovers Quarrel':54, 'Condiment':37, 'Charmonman':31, 'League Script':29, 'Bilbo':47, 'Gaegu':29, 'Stalemate':58,\n",
    " 'Julee':32, 'Jim Nightshade':43, 'Miss Fajardose':54, 'Ruthie':44, 'Dokdo':31, 'Mrs Sheppards':37, 'Dr Sugiyama':39,\n",
    " 'Felipa':34, 'Molle':25, 'Devonshire':42, 'East Sea Dokdo':43, 'Gamja Flower':35, 'Hi Melody':34, 'Ruge Boogie':40,\n",
    " 'Sunshiney':37, 'Romanesco':53, 'Lakki Reddy':28}\n",
    "\n",
    "# #1200 width\n",
    "# fonts = {'Indie Flower':37, 'Dancing Script':45, 'Pacifico':39, 'Shadows into Light':43, 'Satisfy':43, 'Courgette':36,\n",
    "#  'Caveat':48, 'Butterfly Kids':50, 'Kaushan Script':37, 'Great Vibes':45, 'Cookie':51, 'Tangerine':64,\n",
    "#  'Gloria Hallelujah':28, 'Sacramento':46, 'Marck Script':36, 'Gochi Hand':34, 'Bad Script':38, 'Yellowtail':44,\n",
    "#  'Parisienne':40, 'Schoolbell':35, 'Homemade Apple':25, 'Allura':44, 'Damion':40, 'Alex Brush':45,\n",
    "#  'Covered By Your Grace':40, 'Italianno':57, 'Mr Dafoe':43, 'Nothing You Could Do':29, 'Pinyon Script':40,\n",
    "#  'Niconne':44, 'Nanum Pen Script':42, 'Yesteryear':45, 'Reenie Beanie':42, 'Leckerli One':31, 'Arizonia':42,\n",
    "#  'Just Another Hand':70, 'Coming Soon':31, 'Rochester':44, 'Grand Hotel':49, 'Berkshire Swash':35,\n",
    "#  'Nanum Brush Script':45, 'Norican':42, 'Annie Use Your Telescope':42, 'Sue Ellen Francisco':55,\n",
    "#  'Herr Von MuellerHoff':59, 'Mr De Haviland':63, 'Calligraffitti':39, 'Kristi':59, 'Sofia':33, 'Aladin':44,\n",
    "#  'The Girl Next Door':30, 'Give You Glory':32, 'Cedarville Cursive':32, 'Monsieur La Doulaise':50, 'Montez':47,\n",
    "#  'Qwigley':62, 'Rouge Script':51, 'La Belle Aurore':35, 'Bilbo Swash Caps':53, 'Crafty Girls':27,\n",
    "#  'Waiting For The Sunrise':37, 'Meddon':25, 'Aguafina Script':51, 'Loved By The King':46, 'Vibur':41,\n",
    "#  'Just Me Again Down Here':48, 'Princess Sofia':42, 'Dawning Of A New Day':40, 'Mrs Saint Delafield':58,\n",
    "#  'Over The Rainbow':33, 'Swanky and Moo Moo':35, 'Engagement':59, 'Sedgwick Ave Display':36, 'Mr Bedfort':39,\n",
    "#  'Lovers Quarrel':64, 'Condiment':43, 'Charmonman':37, 'League Script':32, 'Bilbo':56, 'Gaegu':34, 'Stalemate':71,\n",
    "#  'Julee':37, 'Jim Nightshade':50, 'Miss Fajardose':70, 'Ruthie':53, 'Dokdo':35, 'Mrs Sheppards':43, 'Dr Sugiyama':48,\n",
    "#  'Felipa':43, 'Molle':30, 'Devonshire':49, 'East Sea Dokdo':49, 'Gamja Flower':39, 'Hi Melody':44, 'Ruge Boogie':50,\n",
    "#  'Sunshiney':43, 'Romanesco':63, 'Lakki Ready':32}"
   ]
  },
  {
   "cell_type": "code",
   "execution_count": null,
   "metadata": {
    "ExecuteTime": {},
    "heading_collapsed": true,
    "hidden": true
   },
   "outputs": [],
   "source": [
    "def set_font_size(driver, actions, value):\n",
    "    slider = driver.find_element_by_class_name('md-track-container') # whole container not just the slider\n",
    "    width = slider.size['width']\n",
    "    s_max,s_min = 300,8\n",
    "    step = width / (s_max - s_min)\n",
    "    val = int(step * (value - s_min + 1))\n",
    "    actions.click_and_hold(slider).move_by_offset(-width//2,0).move_by_offset(val,0).release().perform()"
   ]
  },
  {
   "cell_type": "markdown",
   "metadata": {
    "heading_collapsed": true,
    "hidden": true
   },
   "source": [
    "## bulk"
   ]
  },
  {
   "cell_type": "code",
   "execution_count": null,
   "metadata": {
    "ExecuteTime": {},
    "heading_collapsed": true,
    "hidden": true
   },
   "outputs": [],
   "source": [
    "chrome_options = Options()\n",
    "chrome_options.add_argument(\"--headless\")  \n",
    "chrome_options.add_argument(\"--window-size=1050,1000\")   #(\"--window-size=%s\" % WINDOW_SIZE)"
   ]
  },
  {
   "cell_type": "code",
   "execution_count": null,
   "metadata": {
    "ExecuteTime": {},
    "heading_collapsed": true,
    "hidden": true
   },
   "outputs": [],
   "source": [
    "def new_driver(old_driver=None):\n",
    "    try:\n",
    "        old_driver.close()\n",
    "    except:\n",
    "        pass\n",
    "\n",
    "    driver = webdriver.Chrome(options=chrome_options)\n",
    "    driver.get('https://fonts.google.com/?category=Handwriting')\n",
    "    #view as list\n",
    "    driver.find_element_by_class_name('font-preview-layout-toggle-button').click()\n",
    "    # remove scroll-to-top button\n",
    "    scroll_btn = driver.find_element_by_class_name('scroll-top-button-fab')\n",
    "    driver.execute_script(\"arguments[0].parentNode.removeChild(arguments[0]);\", scroll_btn)\n",
    "    return driver, ActionChains(driver), WebDriverWait(driver, 5)"
   ]
  },
  {
   "cell_type": "code",
   "execution_count": null,
   "metadata": {
    "ExecuteTime": {},
    "heading_collapsed": true,
    "hidden": true
   },
   "outputs": [],
   "source": [
    "def save_images(total, texts, num, img_path, csv_path, pre='', offset=0):\n",
    "    try:\n",
    "        res = []\n",
    "        for idx in progress_bar(range(total)):\n",
    "            # reset driver every now and then to keep from getting throttled\n",
    "            if idx%10 == 0: driver,actions,wait = new_driver()\n",
    "\n",
    "            # set font name and size\n",
    "            name = random.choice(list(fonts.keys()))\n",
    "            #font_input = driver.find_element_by_id('input_4')\n",
    "            font_input = wait.until(EC.element_to_be_clickable((By.ID, 'input_4')))\n",
    "            font_input.clear()\n",
    "            font_input.send_keys(name)\n",
    "            size = fonts[name] - random.randint(1,5)\n",
    "            set_font_size(driver, actions, size)\n",
    "\n",
    "            # sample texts\n",
    "            ts = np.random.choice(texts, num)\n",
    "            for i,t in enumerate(ts):\n",
    "                # input text\n",
    "                #text_form = driver.find_element_by_class_name('font-preview-text')\n",
    "                text_form = wait.until(EC.element_to_be_clickable((By.CLASS_NAME, 'font-preview-text')))\n",
    "                text_form.clear()\n",
    "                text_form.send_keys(t)\n",
    "                # remove cursor\n",
    "                font_input.send_keys(\"\")\n",
    "                # save img\n",
    "                fname = pre+'{:04d}'.format(idx+offset)+f\"_{i}.png\"\n",
    "                text_form.screenshot(str(img_path/fname))\n",
    "                res.append({'filename':fname, 'label':t, 'font':name, 'size':size})\n",
    "    except:\n",
    "        print(sys.exc_info())\n",
    "        driver.save_screenshot(str(img_path/'fail.png'))\n",
    "    finally:\n",
    "        pd.DataFrame(res).to_csv(csv_path, index=False)\n",
    "        driver.close()"
   ]
  },
  {
   "cell_type": "code",
   "execution_count": null,
   "metadata": {
    "ExecuteTime": {},
    "heading_collapsed": true,
    "hidden": true
   },
   "outputs": [],
   "source": [
    "img_path, csv_path"
   ]
  },
  {
   "cell_type": "code",
   "execution_count": null,
   "metadata": {
    "ExecuteTime": {},
    "heading_collapsed": true,
    "hidden": true
   },
   "outputs": [],
   "source": [
    "# !rm -rf {img_path}\n",
    "os.makedirs(img_path, exist_ok=True)"
   ]
  },
  {
   "cell_type": "code",
   "execution_count": null,
   "metadata": {
    "ExecuteTime": {},
    "heading_collapsed": true,
    "hidden": true,
    "scrolled": true
   },
   "outputs": [],
   "source": [
    "save_images(1155, texts, 5, img_path, csv_path, pre='imdb_unsup_', offset=2846)"
   ]
  },
  {
   "cell_type": "markdown",
   "metadata": {
    "heading_collapsed": true,
    "hidden": true
   },
   "source": [
    "## Individual"
   ]
  },
  {
   "cell_type": "code",
   "execution_count": null,
   "metadata": {
    "ExecuteTime": {},
    "heading_collapsed": true,
    "hidden": true
   },
   "outputs": [],
   "source": [
    "opts = Options()\n",
    "opts.add_argument(\"--window-size=1050,1000\")   #(\"--window-size=%s\" % WINDOW_SIZE)"
   ]
  },
  {
   "cell_type": "code",
   "execution_count": null,
   "metadata": {
    "ExecuteTime": {},
    "heading_collapsed": true,
    "hidden": true
   },
   "outputs": [],
   "source": [
    "driver = webdriver.Chrome(options=opts)\n",
    "actions = ActionChains(driver)\n",
    "wait = WebDriverWait(driver, 5)"
   ]
  },
  {
   "cell_type": "code",
   "execution_count": null,
   "metadata": {
    "ExecuteTime": {},
    "heading_collapsed": true,
    "hidden": true
   },
   "outputs": [],
   "source": [
    "driver.get('https://fonts.google.com/?category=Handwriting')\n",
    "#view as list\n",
    "driver.find_element_by_class_name('font-preview-layout-toggle-button').click()\n",
    "# remove scroll-to-top button\n",
    "scroll_btn = driver.find_element_by_class_name('scroll-top-button-fab')\n",
    "driver.execute_script(\"arguments[0].parentNode.removeChild(arguments[0]);\", scroll_btn)"
   ]
  },
  {
   "cell_type": "code",
   "execution_count": null,
   "metadata": {
    "ExecuteTime": {},
    "heading_collapsed": true,
    "hidden": true
   },
   "outputs": [],
   "source": [
    "# set font name\n",
    "# font_input = driver.find_element_by_id('input_4')\n",
    "font_input = wait.until(EC.element_to_be_clickable((By.ID, 'input_4')))\n",
    "font_input.clear()\n",
    "name = random.choice(list(fonts.keys()))\n",
    "font_input.send_keys(name)\n",
    "\n",
    "# set font size\n",
    "size = fonts[name] - random.randint(0,4)\n",
    "set_font_size(driver, actions, size)"
   ]
  },
  {
   "cell_type": "code",
   "execution_count": null,
   "metadata": {
    "ExecuteTime": {},
    "heading_collapsed": true,
    "hidden": true
   },
   "outputs": [],
   "source": [
    "txt = '''Outstanding film dealing with the murder of 3 civil rights workers\n",
    "during the fiery civil rights struggle of the 1960s.'''"
   ]
  },
  {
   "cell_type": "code",
   "execution_count": null,
   "metadata": {
    "ExecuteTime": {},
    "heading_collapsed": true,
    "hidden": true
   },
   "outputs": [],
   "source": [
    "# input text\n",
    "# text_form = driver.find_element_by_class_name('font-preview-text')\n",
    "text_form = wait.until(EC.element_to_be_clickable((By.CLASS_NAME, 'font-preview-text')))\n",
    "text_form.clear()\n",
    "text_form.send_keys(st)"
   ]
  },
  {
   "cell_type": "code",
   "execution_count": null,
   "metadata": {
    "ExecuteTime": {},
    "heading_collapsed": true,
    "hidden": true
   },
   "outputs": [],
   "source": [
    "font_input.send_keys(\"\")"
   ]
  },
  {
   "cell_type": "code",
   "execution_count": null,
   "metadata": {
    "ExecuteTime": {},
    "heading_collapsed": true,
    "hidden": true
   },
   "outputs": [],
   "source": [
    "# driver.find_element_by_class_name('font-preview-button-bar').find_element_by_tag_name('button').click()\n",
    "# text_form.send_keys(\"\")\n",
    "# driver.find_element_by_class_name('font-preview-button-bar').find_element_by_tag_name('button').click()"
   ]
  },
  {
   "cell_type": "code",
   "execution_count": null,
   "metadata": {
    "ExecuteTime": {},
    "heading_collapsed": true,
    "hidden": true
   },
   "outputs": [],
   "source": [
    "text_form.size"
   ]
  },
  {
   "cell_type": "code",
   "execution_count": null,
   "metadata": {
    "ExecuteTime": {},
    "heading_collapsed": true,
    "hidden": true
   },
   "outputs": [],
   "source": [
    "text_form.screenshot(str(Path('data/fonts/test.png')))"
   ]
  },
  {
   "cell_type": "code",
   "execution_count": null,
   "metadata": {
    "ExecuteTime": {},
    "heading_collapsed": true,
    "hidden": true,
    "scrolled": true
   },
   "outputs": [],
   "source": [
    "driver.save_screenshot(str(Path('data/fonts/test.png')))"
   ]
  },
  {
   "cell_type": "code",
   "execution_count": null,
   "metadata": {
    "ExecuteTime": {},
    "heading_collapsed": true,
    "hidden": true
   },
   "outputs": [],
   "source": [
    "driver.close()"
   ]
  },
  {
   "cell_type": "markdown",
   "metadata": {},
   "source": [
    "# Scripts"
   ]
  },
  {
   "cell_type": "markdown",
   "metadata": {
    "heading_collapsed": true
   },
   "source": [
    "## Comparing img heights w/ estimated heights by font/size"
   ]
  },
  {
   "cell_type": "code",
   "execution_count": null,
   "metadata": {
    "ExecuteTime": {},
    "heading_collapsed": true,
    "hidden": true
   },
   "outputs": [],
   "source": [
    "def set_font(wait, fontName):\n",
    "    font_input = wait.until(EC.element_to_be_clickable((By.ID, 'input_4')))\n",
    "    font_input.clear()\n",
    "    font_input.send_keys(fontName)"
   ]
  },
  {
   "cell_type": "code",
   "execution_count": null,
   "metadata": {
    "ExecuteTime": {},
    "heading_collapsed": true,
    "hidden": true
   },
   "outputs": [],
   "source": [
    "def determine_max_line_heights(csv_path):\n",
    "    res = []\n",
    "    txt = \"ABC\\nDEF\\nGHI\\nJKL\\nMNO\\nPQR\\nSTU\\nVWX\"\n",
    "    driver = None\n",
    "    \n",
    "    try:\n",
    "        for name,size in progress_bar(fonts.items(), total=len(fonts)): \n",
    "            driver,actions,wait = new_driver(driver)\n",
    "            set_font(wait, name)\n",
    "\n",
    "            text_form = wait.until(EC.element_to_be_clickable((By.CLASS_NAME, 'font-preview-text')))\n",
    "            text_form.clear()\n",
    "            text_form.send_keys(txt)\n",
    "\n",
    "            for sz in range(size-5,size):\n",
    "                set_font_size(driver, actions, sz)\n",
    "                total = text_form.size['height']\n",
    "                res.append({'font': name, 'size': sz, 'line_height': total//8})\n",
    "    finally:\n",
    "        pd.DataFrame(res).to_csv(csv_path, index=False)\n",
    "        driver.close()"
   ]
  },
  {
   "cell_type": "code",
   "execution_count": null,
   "metadata": {
    "ExecuteTime": {},
    "heading_collapsed": true,
    "hidden": true
   },
   "outputs": [],
   "source": [
    "determine_max_line_heights(PATH/'line_heights.csv')"
   ]
  },
  {
   "cell_type": "code",
   "execution_count": null,
   "metadata": {
    "ExecuteTime": {},
    "heading_collapsed": true,
    "hidden": true
   },
   "outputs": [],
   "source": [
    "lh = pd.read_csv(PATH/'line_heights.csv')\n",
    "lh.set_index(['font', 'size'], inplace=True)  #multi-index\n",
    "lh.head(10)"
   ]
  },
  {
   "cell_type": "code",
   "execution_count": null,
   "metadata": {
    "ExecuteTime": {},
    "heading_collapsed": true,
    "hidden": true
   },
   "outputs": [],
   "source": [
    "def expected_height(row):\n",
    "    h = lh.loc[row['font'], row['size']].line_height\n",
    "    nl = len(row['label'].split('\\n'))\n",
    "    return max(264, h * nl * 2)  # 264 is minimum height\n",
    "\n",
    "hgt = new.apply(lambda x: expected_height(x), axis=1)  \n",
    "new['exp_height'] = hgt.astype('int32')"
   ]
  },
  {
   "cell_type": "code",
   "execution_count": null,
   "metadata": {
    "ExecuteTime": {},
    "heading_collapsed": true,
    "hidden": true
   },
   "outputs": [],
   "source": [
    "less = new[new['height'] < new['exp_height']]\n",
    "len(less)"
   ]
  },
  {
   "cell_type": "code",
   "execution_count": null,
   "metadata": {
    "ExecuteTime": {},
    "heading_collapsed": true,
    "hidden": true
   },
   "outputs": [],
   "source": [
    "more = new[new['height'] > new['exp_height']]\n",
    "len(more)"
   ]
  },
  {
   "cell_type": "markdown",
   "metadata": {
    "heading_collapsed": true
   },
   "source": [
    "## Replace overflowing images"
   ]
  },
  {
   "cell_type": "code",
   "execution_count": null,
   "metadata": {
    "ExecuteTime": {},
    "heading_collapsed": true,
    "hidden": true
   },
   "outputs": [],
   "source": [
    "def replace_images(df, img_path):\n",
    "    driver = None\n",
    "    try:\n",
    "        for idx,row in progress_bar(df.iterrows(), total=len(df)):\n",
    "            if idx%20 == 0: driver,actions,wait = new_driver(driver)\n",
    "\n",
    "            # set font name and size\n",
    "            name = random.choice(list(fonts.keys()))\n",
    "            #font_input = driver.find_element_by_id('input_4')\n",
    "            font_input = wait.until(EC.element_to_be_clickable((By.ID, 'input_4')))\n",
    "            font_input.clear()\n",
    "            font_input.send_keys(name)\n",
    "            size = fonts[name] - 10 #random.randint(1,5)\n",
    "            set_font_size(driver, actions, size)\n",
    "\n",
    "            text_form = wait.until(EC.element_to_be_clickable((By.CLASS_NAME, 'font-preview-text')))\n",
    "            text_form.clear()\n",
    "            text_form.send_keys(t)\n",
    "            # remove cursor\n",
    "            font_input.send_keys(\"\")\n",
    "                # save img\n",
    "                fname = pre+'{:04d}'.format(idx+offset)+f\"_{i}.png\"\n",
    "                text_form.screenshot(str(img_path/fname))\n",
    "                res.append({'filename':fname, 'label':t, 'font':name, 'size':size})\n",
    "    except:\n",
    "        print(sys.exc_info())\n",
    "        driver.save_screenshot(str(img_path/'fail.png'))\n",
    "    finally:\n",
    "        pd.DataFrame(res).to_csv(csv_path, index=False)\n",
    "        driver.close()"
   ]
  },
  {
   "cell_type": "code",
   "execution_count": null,
   "metadata": {
    "ExecuteTime": {},
    "heading_collapsed": true,
    "hidden": true
   },
   "outputs": [],
   "source": [
    "img_path, csv_path"
   ]
  },
  {
   "cell_type": "code",
   "execution_count": null,
   "metadata": {
    "ExecuteTime": {},
    "heading_collapsed": true,
    "hidden": true
   },
   "outputs": [],
   "source": [
    "# !rm -rf {img_path}\n",
    "os.makedirs(img_path, exist_ok=True)"
   ]
  },
  {
   "cell_type": "code",
   "execution_count": null,
   "metadata": {
    "ExecuteTime": {},
    "heading_collapsed": true,
    "hidden": true,
    "scrolled": true
   },
   "outputs": [],
   "source": [
    "save_images(1155, texts, 5, img_path, csv_path, pre='imdb_unsup_', offset=2846)"
   ]
  },
  {
   "cell_type": "markdown",
   "metadata": {
    "heading_collapsed": true
   },
   "source": [
    "## Naive check for overflow"
   ]
  },
  {
   "cell_type": "code",
   "execution_count": null,
   "metadata": {
    "ExecuteTime": {},
    "heading_collapsed": true,
    "hidden": true
   },
   "outputs": [],
   "source": [
    "def text_overflow(txt, text_form):\n",
    "    st = \"\\nABCDEFGHI\\nJKLMNOPQR\\nSTUVWXYZ\\n\"\n",
    "    st += txt\n",
    "    num_lines = len(st.split(\"\\n\"))\n",
    "    text_form.clear()\n",
    "    text_form.send_keys(st)\n",
    "    line_height = text_form.find_element_by_xpath(\"div[3]\").size['height']\n",
    "    total_height = text_form.size['height']\n",
    "    return total_height != line_height * num_lines"
   ]
  },
  {
   "cell_type": "code",
   "execution_count": null,
   "metadata": {
    "ExecuteTime": {},
    "heading_collapsed": true,
    "hidden": true
   },
   "outputs": [],
   "source": [
    "def check_images_for_overflow(csv_path, img_path):\n",
    "    df = pd.read_csv(csv_path)\n",
    "    pageFont,pageSize = None,None\n",
    "    driver = None\n",
    "    redo = False\n",
    "    \n",
    "    for idx,row in progress_bar(df.iterrows(), total=len(df)):\n",
    "        if idx%20 == 0: driver,actions,wait = new_driver(driver)\n",
    "            \n",
    "        fname,txt,rowFont,rowSize = row['filename'],row['label'],row['font'],row['size']\n",
    "        if pageFont != rowFont: set_font(wait, rowFont)\n",
    "        if pageSize != rowSize: set_font_size(driver, actions, rowSize)\n",
    "        \n",
    "        text_form = wait.until(EC.element_to_be_clickable((By.CLASS_NAME, 'font-preview-text')))\n",
    "        while text_overflow(txt, text_form):\n",
    "            redo = True\n",
    "            set_font_size(driver, actions, rowSize-5)\n",
    "        \n",
    "        if redo:\n",
    "            text_form.clear()\n",
    "            text_form.send_keys(txt)\n",
    "        \n",
    "            # remove cursor\n",
    "            set_font(wait, rowFont)\n",
    "\n",
    "            new_path = str(img_path)+'_overflow/'+fname\n",
    "            text_form.screenshot(new_path)\n",
    "        redo = False"
   ]
  },
  {
   "cell_type": "code",
   "execution_count": null,
   "metadata": {
    "ExecuteTime": {},
    "heading_collapsed": true,
    "hidden": true
   },
   "outputs": [],
   "source": [
    "img_path, csv_path"
   ]
  },
  {
   "cell_type": "code",
   "execution_count": null,
   "metadata": {
    "ExecuteTime": {},
    "heading_collapsed": true,
    "hidden": true
   },
   "outputs": [],
   "source": [
    "os.makedirs(str(img_path)+'_overflow/', exist_ok=True)"
   ]
  },
  {
   "cell_type": "code",
   "execution_count": null,
   "metadata": {
    "ExecuteTime": {},
    "heading_collapsed": true,
    "hidden": true,
    "scrolled": true
   },
   "outputs": [],
   "source": [
    "check_images_for_overflow(PATH/'imdb_unsup_20k_debug.csv', img_path)"
   ]
  },
  {
   "cell_type": "markdown",
   "metadata": {
    "ExecuteTime": {},
    "heading_collapsed": true
   },
   "source": [
    "# Text Data"
   ]
  },
  {
   "cell_type": "code",
   "execution_count": null,
   "metadata": {
    "ExecuteTime": {},
    "heading_collapsed": true,
    "hidden": true
   },
   "outputs": [],
   "source": [
    "with open(text_path) as file:  \n",
    "    text = file.read()"
   ]
  },
  {
   "cell_type": "code",
   "execution_count": null,
   "metadata": {
    "ExecuteTime": {},
    "heading_collapsed": true,
    "hidden": true
   },
   "outputs": [],
   "source": [
    "lines = text.split('\\n')\n",
    "len(lines)"
   ]
  },
  {
   "cell_type": "code",
   "execution_count": null,
   "metadata": {
    "ExecuteTime": {},
    "heading_collapsed": true,
    "hidden": true
   },
   "outputs": [],
   "source": [
    "df = pd.DataFrame({'text': lines})"
   ]
  },
  {
   "cell_type": "code",
   "execution_count": null,
   "metadata": {
    "ExecuteTime": {},
    "heading_collapsed": true,
    "hidden": true
   },
   "outputs": [],
   "source": [
    "# remove small lines\n",
    "df['char_len'] = df.text.map(len)\n",
    "df = df[df['char_len'] > 15]\n",
    "df.sort_values('char_len', inplace=True)\n",
    "df.head(5)"
   ]
  },
  {
   "cell_type": "code",
   "execution_count": null,
   "metadata": {
    "ExecuteTime": {},
    "heading_collapsed": true,
    "hidden": true
   },
   "outputs": [],
   "source": [
    "import textwrap\n",
    "\n",
    "# truncate text len to 1000 w/ textwrap\n",
    "df['text'] = df.text.map(lambda x: textwrap.wrap(x, width=1000, replace_whitespace=False)[0])\n",
    "\n",
    "# wrap at 68 chars\n",
    "df['text'] = df.text.map(lambda x: textwrap.fill(x, width=65))\n",
    "\n",
    "df.sort_index(inplace=True)"
   ]
  },
  {
   "cell_type": "code",
   "execution_count": null,
   "metadata": {
    "ExecuteTime": {},
    "heading_collapsed": true,
    "hidden": true,
    "scrolled": true
   },
   "outputs": [],
   "source": [
    "print(df.text.values[100])"
   ]
  },
  {
   "cell_type": "code",
   "execution_count": null,
   "metadata": {
    "ExecuteTime": {},
    "heading_collapsed": true,
    "hidden": true
   },
   "outputs": [],
   "source": [
    "texts = df.text.values"
   ]
  },
  {
   "cell_type": "code",
   "execution_count": null,
   "metadata": {
    "ExecuteTime": {},
    "heading_collapsed": true,
    "hidden": true
   },
   "outputs": [],
   "source": [
    "print(texts[-1])"
   ]
  },
  {
   "cell_type": "code",
   "execution_count": null,
   "metadata": {
    "ExecuteTime": {},
    "heading_collapsed": true,
    "hidden": true
   },
   "outputs": [],
   "source": [
    "len(texts)"
   ]
  },
  {
   "cell_type": "markdown",
   "metadata": {
    "ExecuteTime": {},
    "heading_collapsed": true
   },
   "source": [
    "# Verify"
   ]
  },
  {
   "cell_type": "code",
   "execution_count": null,
   "metadata": {
    "ExecuteTime": {},
    "heading_collapsed": true,
    "hidden": true
   },
   "outputs": [],
   "source": [
    "less.reset_index(drop=True,inplace=True)"
   ]
  },
  {
   "cell_type": "code",
   "execution_count": null,
   "metadata": {
    "ExecuteTime": {},
    "heading_collapsed": true,
    "hidden": true
   },
   "outputs": [],
   "source": [
    "df = less #pd.read_csv(PATH/'imdb_unsup_20k.csv')\n",
    "img_path = PATH/'imdb_unsup'"
   ]
  },
  {
   "cell_type": "code",
   "execution_count": null,
   "metadata": {
    "ExecuteTime": {},
    "heading_collapsed": true,
    "hidden": true
   },
   "outputs": [],
   "source": [
    "df.head()"
   ]
  },
  {
   "cell_type": "code",
   "execution_count": null,
   "metadata": {
    "ExecuteTime": {},
    "heading_collapsed": true,
    "hidden": true
   },
   "outputs": [],
   "source": [
    "def yrange(n, start=0):\n",
    "    i = 0\n",
    "    while i < n:\n",
    "        yield start\n",
    "        start += 1\n",
    "        i += 1\n",
    "        \n",
    "y = yrange(225,50)"
   ]
  },
  {
   "cell_type": "code",
   "execution_count": null,
   "metadata": {
    "ExecuteTime": {},
    "heading_collapsed": true,
    "hidden": true
   },
   "outputs": [],
   "source": [
    "y = (n for n in df.index.values)"
   ]
  },
  {
   "cell_type": "code",
   "execution_count": null,
   "metadata": {
    "ExecuteTime": {},
    "heading_collapsed": true,
    "hidden": true,
    "scrolled": true
   },
   "outputs": [],
   "source": [
    "i = next(y)\n",
    "# i = 5\n",
    "row = df.iloc[i]\n",
    "im = Image.open(img_path/row.filename)\n",
    "fig,ax = plt.subplots(figsize=(18,12))\n",
    "ax.imshow(im)\n",
    "print(row.label)\n",
    "# row\n",
    "row.font, row['size']"
   ]
  },
  {
   "cell_type": "code",
   "execution_count": null,
   "metadata": {
    "ExecuteTime": {},
    "heading_collapsed": true,
    "hidden": true
   },
   "outputs": [],
   "source": []
  }
 ],
 "metadata": {
  "kernelspec": {
   "display_name": "Python 3",
   "language": "python",
   "name": "python3"
  },
  "language_info": {
   "codemirror_mode": {
    "name": "ipython",
    "version": 3
   },
   "file_extension": ".py",
   "mimetype": "text/x-python",
   "name": "python",
   "nbconvert_exporter": "python",
   "pygments_lexer": "ipython3",
   "version": "3.7.3"
  },
  "toc": {
   "nav_menu": {},
   "number_sections": true,
   "sideBar": true,
   "skip_h1_title": false,
   "title_cell": "Table of Contents",
   "title_sidebar": "Contents",
   "toc_cell": false,
   "toc_position": {},
   "toc_section_display": true,
   "toc_window_display": false
  },
  "varInspector": {
   "cols": {
    "lenName": 16,
    "lenType": 16,
    "lenVar": 40
   },
   "kernels_config": {
    "python": {
     "delete_cmd_postfix": "",
     "delete_cmd_prefix": "del ",
     "library": "var_list.py",
     "varRefreshCmd": "print(var_dic_list())"
    },
    "r": {
     "delete_cmd_postfix": ") ",
     "delete_cmd_prefix": "rm(",
     "library": "var_list.r",
     "varRefreshCmd": "cat(var_dic_list()) "
    }
   },
   "types_to_exclude": [
    "module",
    "function",
    "builtin_function_or_method",
    "instance",
    "_Feature"
   ],
   "window_display": false
  }
 },
 "nbformat": 4,
 "nbformat_minor": 2
}
