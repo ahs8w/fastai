{
 "cells": [
  {
   "cell_type": "code",
   "execution_count": null,
   "metadata": {
    "ExecuteTime": {},
    "heading_collapsed": true,
    "hidden": true
   },
   "outputs": [],
   "source": [
    "%matplotlib inline\n",
    "%reload_ext autoreload\n",
    "%autoreload 2"
   ]
  },
  {
   "cell_type": "code",
   "execution_count": null,
   "metadata": {
    "ExecuteTime": {},
    "heading_collapsed": true,
    "hidden": true
   },
   "outputs": [],
   "source": [
    "from fastai.text import *\n",
    "import PIL\n",
    "import pdb"
   ]
  },
  {
   "cell_type": "code",
   "execution_count": null,
   "metadata": {
    "ExecuteTime": {},
    "heading_collapsed": true,
    "hidden": true
   },
   "outputs": [],
   "source": [
    "PATH = Path('data/fonts/')"
   ]
  },
  {
   "cell_type": "code",
   "execution_count": null,
   "metadata": {
    "ExecuteTime": {},
    "heading_collapsed": true,
    "hidden": true
   },
   "outputs": [],
   "source": [
    "# img_path = PATH/'fonts_resize'\n",
    "# df = pd.read_csv(PATH/'edited_font.csv')"
   ]
  },
  {
   "cell_type": "markdown",
   "metadata": {},
   "source": [
    "# Sources"
   ]
  },
  {
   "cell_type": "markdown",
   "metadata": {},
   "source": [
    "## Combo"
   ]
  },
  {
   "cell_type": "code",
   "execution_count": null,
   "metadata": {
    "ExecuteTime": {},
    "heading_collapsed": true,
    "hidden": true
   },
   "outputs": [],
   "source": [
    "a = pd.read_csv(PATH/'knot.csv', usecols=['filename', 'label'])\n",
    "# b = pd.read_csv(PATH/'imdb_unsup_21k_debug.csv', usecols=['filename', 'label'])\n",
    "c = pd.read_csv(PATH/'adrift.csv', usecols=['filename', 'label'])\n",
    "d = pd.read_csv(PATH/'zane.csv', usecols=['filename', 'label'])\n",
    "e = pd.read_csv(PATH/'american.csv', usecols=['filename', 'label'])\n",
    "f = pd.read_csv(PATH/'age.csv', usecols=['filename', 'label'])\n",
    "g = pd.read_csv(PATH/'room.csv', usecols=['filename', 'label'])\n",
    "new = pd.concat([a,c,d,e,f,g], ignore_index=True)\n",
    "new.head()"
   ]
  },
  {
   "cell_type": "code",
   "execution_count": null,
   "metadata": {
    "ExecuteTime": {},
    "heading_collapsed": true,
    "hidden": true
   },
   "outputs": [],
   "source": [
    "lines = new.label.apply(lambda x: len(x.split('\\n'))) \n",
    "new['num_lines'] = lines.astype('int32')"
   ]
  },
  {
   "cell_type": "code",
   "execution_count": null,
   "metadata": {
    "ExecuteTime": {},
    "heading_collapsed": true,
    "hidden": true
   },
   "outputs": [],
   "source": [
    "new.head()"
   ]
  },
  {
   "cell_type": "code",
   "execution_count": null,
   "metadata": {
    "ExecuteTime": {},
    "heading_collapsed": true,
    "hidden": true
   },
   "outputs": [],
   "source": [
    "lines = new.label.apply(lambda x: sum(1 for c in x if c.isupper())) \n",
    "new['num_caps'] = lines.astype('int32')"
   ]
  },
  {
   "cell_type": "code",
   "execution_count": null,
   "metadata": {
    "ExecuteTime": {},
    "heading_collapsed": true,
    "hidden": true
   },
   "outputs": [],
   "source": [
    "new.head()"
   ]
  },
  {
   "cell_type": "code",
   "execution_count": null,
   "metadata": {
    "ExecuteTime": {},
    "heading_collapsed": true,
    "hidden": true
   },
   "outputs": [],
   "source": [
    "ten_lines = new[new.num_caps > 9]"
   ]
  },
  {
   "cell_type": "code",
   "execution_count": null,
   "metadata": {
    "ExecuteTime": {},
    "heading_collapsed": true,
    "hidden": true
   },
   "outputs": [],
   "source": [
    "len(ten_lines)"
   ]
  },
  {
   "cell_type": "code",
   "execution_count": null,
   "metadata": {
    "ExecuteTime": {},
    "heading_collapsed": true,
    "hidden": true
   },
   "outputs": [],
   "source": [
    "def move_images(fnames, src, targ):\n",
    "    for fname in fnames:\n",
    "        try:\n",
    "            os.rename(src/fname, targ/fname)\n",
    "        except FileNotFoundError:\n",
    "            pass"
   ]
  },
  {
   "cell_type": "code",
   "execution_count": null,
   "metadata": {
    "ExecuteTime": {},
    "heading_collapsed": true,
    "hidden": true
   },
   "outputs": [],
   "source": [
    "src_path = PATH/'combo'\n",
    "targ_path = PATH/'combo_test'\n",
    "os.makedirs(targ_path, exist_ok=True)\n",
    "\n",
    "move_images(ten_lines.filename.values, src_path, targ_path)"
   ]
  },
  {
   "cell_type": "code",
   "execution_count": null,
   "metadata": {
    "ExecuteTime": {},
    "heading_collapsed": true,
    "hidden": true
   },
   "outputs": [],
   "source": [
    "new = new.sample(frac=1).reset_index(drop=True)\n",
    "len(new)"
   ]
  },
  {
   "cell_type": "code",
   "execution_count": null,
   "metadata": {
    "ExecuteTime": {},
    "heading_collapsed": true,
    "hidden": true
   },
   "outputs": [],
   "source": [
    "new.to_csv(PATH/'font_combo.csv', index=False)"
   ]
  },
  {
   "cell_type": "markdown",
   "metadata": {
    "heading_collapsed": true
   },
   "source": [
    "### Remove files not in df"
   ]
  },
  {
   "cell_type": "code",
   "execution_count": null,
   "metadata": {
    "ExecuteTime": {},
    "heading_collapsed": true,
    "hidden": true
   },
   "outputs": [],
   "source": [
    "files = []"
   ]
  },
  {
   "cell_type": "code",
   "execution_count": null,
   "metadata": {
    "ExecuteTime": {},
    "heading_collapsed": true,
    "hidden": true
   },
   "outputs": [],
   "source": [
    "for filename in progress_bar(os.listdir(PATH/'fonts'), total=81256):\n",
    "    if filename not in new.filename.values:\n",
    "        files.append(filename)\n",
    "        os.rename(str(PATH/'fonts'/filename), str(PATH/'overflow_fonts'/filename))  # move\n",
    "#         os.remove(filename)"
   ]
  },
  {
   "cell_type": "code",
   "execution_count": null,
   "metadata": {
    "ExecuteTime": {},
    "heading_collapsed": true,
    "hidden": true
   },
   "outputs": [],
   "source": [
    "# files = []\n",
    "for fname in progress_bar(mins.filename.values):\n",
    "#     files.append(fname)\n",
    "    os.rename(str(PATH/'fonts'/fname), str(PATH/'fonts_removed'/fname))"
   ]
  },
  {
   "cell_type": "code",
   "execution_count": null,
   "metadata": {
    "ExecuteTime": {},
    "heading_collapsed": true,
    "hidden": true
   },
   "outputs": [],
   "source": [
    "len(files)"
   ]
  },
  {
   "cell_type": "code",
   "execution_count": null,
   "metadata": {
    "ExecuteTime": {},
    "heading_collapsed": true,
    "hidden": true
   },
   "outputs": [],
   "source": [
    "row = mins[mins.filename == 'zane_1508_0.png']\n",
    "print(mins.loc[row.index[0]]['label'])"
   ]
  },
  {
   "cell_type": "markdown",
   "metadata": {
    "heading_collapsed": true
   },
   "source": [
    "## IMDB"
   ]
  },
  {
   "cell_type": "code",
   "execution_count": null,
   "metadata": {
    "ExecuteTime": {},
    "heading_collapsed": true,
    "hidden": true
   },
   "outputs": [],
   "source": [
    "img_path = PATH/'imdb'\n",
    "csv_path = PATH/'imdb.csv'\n",
    "text_path = Path('data/texts/unsup.txt')"
   ]
  },
  {
   "cell_type": "code",
   "execution_count": null,
   "metadata": {
    "ExecuteTime": {},
    "heading_collapsed": true,
    "hidden": true
   },
   "outputs": [],
   "source": [
    "# combine\n",
    "# a = pd.read_csv(PATH/'imdb_unsup.csv')\n",
    "# b = pd.read_csv(PATH/'imdb_unsup1.csv')\n",
    "# c = pd.read_csv(PATH/'imdb_unsup2.csv')\n",
    "# d = pd.read_csv(PATH/'imdb_unsup3.csv')\n",
    "new = pd.concat([df,df2], ignore_index=True)\n",
    "new.head()"
   ]
  },
  {
   "cell_type": "code",
   "execution_count": null,
   "metadata": {
    "ExecuteTime": {},
    "heading_collapsed": true,
    "hidden": true
   },
   "outputs": [],
   "source": [
    "new.sort_values('filename', inplace=True)\n",
    "new.reset_index(inplace=True, drop=True)"
   ]
  },
  {
   "cell_type": "code",
   "execution_count": null,
   "metadata": {
    "ExecuteTime": {},
    "heading_collapsed": true,
    "hidden": true
   },
   "outputs": [],
   "source": [
    "new.to_csv(PATH/'imdb_unsup_21k_debug.csv', index=False)"
   ]
  },
  {
   "cell_type": "code",
   "execution_count": null,
   "metadata": {
    "ExecuteTime": {},
    "heading_collapsed": true,
    "hidden": true
   },
   "outputs": [],
   "source": [
    "df = pd.read_csv(PATH/'imdb_unsup_20k_debug.csv')"
   ]
  },
  {
   "cell_type": "markdown",
   "metadata": {
    "heading_collapsed": true
   },
   "source": [
    "## Arthur - Cast Adrift"
   ]
  },
  {
   "cell_type": "code",
   "execution_count": null,
   "metadata": {
    "ExecuteTime": {},
    "heading_collapsed": true,
    "hidden": true
   },
   "outputs": [],
   "source": [
    "img_path = PATH/'adrift'\n",
    "csv_path = PATH/'adrift.csv'\n",
    "text_path = Path('data/texts/cast_adrift.txt')"
   ]
  },
  {
   "cell_type": "code",
   "execution_count": null,
   "metadata": {
    "ExecuteTime": {},
    "heading_collapsed": true,
    "hidden": true
   },
   "outputs": [],
   "source": [
    "# combine\n",
    "df = pd.read_csv(PATH/'adrift.csv')\n",
    "len(df)"
   ]
  },
  {
   "cell_type": "code",
   "execution_count": null,
   "metadata": {
    "ExecuteTime": {},
    "heading_collapsed": true,
    "hidden": true
   },
   "outputs": [],
   "source": [
    "df.to_csv(PATH/'arthur_adrift_10k_debug.csv', columns=['filename', 'label'], index=False)"
   ]
  },
  {
   "cell_type": "markdown",
   "metadata": {
    "heading_collapsed": true
   },
   "source": [
    "## Grey - Betty Zane"
   ]
  },
  {
   "cell_type": "code",
   "execution_count": null,
   "metadata": {
    "ExecuteTime": {},
    "heading_collapsed": true,
    "hidden": true
   },
   "outputs": [],
   "source": [
    "img_path = PATH/'zane'\n",
    "csv_path = PATH/'zane.csv'\n",
    "text_path = Path('data/texts/betty_zane.txt')"
   ]
  },
  {
   "cell_type": "code",
   "execution_count": null,
   "metadata": {
    "ExecuteTime": {},
    "heading_collapsed": true,
    "hidden": true
   },
   "outputs": [],
   "source": [
    "# combine\n",
    "df = pd.read_csv(PATH/'zane.csv')\n",
    "len(df)"
   ]
  },
  {
   "cell_type": "code",
   "execution_count": null,
   "metadata": {
    "ExecuteTime": {},
    "heading_collapsed": true,
    "hidden": true
   },
   "outputs": [],
   "source": [
    "df.to_csv(PATH/'zane_10k_debug.csv', columns=['filename', 'label'], index=False)"
   ]
  },
  {
   "cell_type": "markdown",
   "metadata": {
    "heading_collapsed": true
   },
   "source": [
    "## James - The American"
   ]
  },
  {
   "cell_type": "code",
   "execution_count": null,
   "metadata": {
    "ExecuteTime": {},
    "heading_collapsed": true,
    "hidden": true
   },
   "outputs": [],
   "source": [
    "img_path = PATH/'american'\n",
    "csv_path = PATH/'american.csv'\n",
    "text_path = Path('data/texts/the_american.txt')"
   ]
  },
  {
   "cell_type": "code",
   "execution_count": null,
   "metadata": {
    "ExecuteTime": {},
    "heading_collapsed": true,
    "hidden": true
   },
   "outputs": [],
   "source": [
    "# combine\n",
    "df = pd.read_csv(PATH/'james_american.csv')\n",
    "len(df)"
   ]
  },
  {
   "cell_type": "code",
   "execution_count": null,
   "metadata": {
    "ExecuteTime": {},
    "heading_collapsed": true,
    "hidden": true
   },
   "outputs": [],
   "source": [
    "df.to_csv(PATH/'james_american_10k_debug.csv', columns=['filename', 'label'], index=False)"
   ]
  },
  {
   "cell_type": "markdown",
   "metadata": {
    "heading_collapsed": true
   },
   "source": [
    "## Wharton - Age of Innocence"
   ]
  },
  {
   "cell_type": "code",
   "execution_count": null,
   "metadata": {
    "ExecuteTime": {},
    "heading_collapsed": true,
    "hidden": true
   },
   "outputs": [],
   "source": [
    "img_path = PATH/'age'\n",
    "csv_path = PATH/'age.csv'\n",
    "text_path = Path('data/texts/age_of_innocence.txt')"
   ]
  },
  {
   "cell_type": "code",
   "execution_count": null,
   "metadata": {
    "ExecuteTime": {},
    "heading_collapsed": true,
    "hidden": true
   },
   "outputs": [],
   "source": [
    "# combine\n",
    "df = pd.read_csv(PATH/'wharton_age0.csv')\n",
    "len(df)"
   ]
  },
  {
   "cell_type": "code",
   "execution_count": null,
   "metadata": {
    "ExecuteTime": {},
    "heading_collapsed": true,
    "hidden": true
   },
   "outputs": [],
   "source": [
    "df.to_csv(PATH/'wharton_age_10k_debug.csv', columns=['filename', 'label'], index=False)"
   ]
  },
  {
   "cell_type": "markdown",
   "metadata": {
    "heading_collapsed": true
   },
   "source": [
    "## Forster - Room with a View"
   ]
  },
  {
   "cell_type": "code",
   "execution_count": null,
   "metadata": {
    "ExecuteTime": {},
    "heading_collapsed": true,
    "hidden": true
   },
   "outputs": [],
   "source": [
    "img_path = PATH/'room'\n",
    "csv_path = PATH/'room.csv'\n",
    "text_path = Path('data/texts/room_with_a_view.txt')"
   ]
  },
  {
   "cell_type": "code",
   "execution_count": null,
   "metadata": {
    "ExecuteTime": {},
    "heading_collapsed": true,
    "hidden": true
   },
   "outputs": [],
   "source": [
    "# combine\n",
    "a = pd.read_csv(PATH/'forster_room0.csv')\n",
    "b = pd.read_csv(PATH/'forster_room1.csv')\n",
    "df = pd.concat([a,b], ignore_index=True)\n",
    "df.head()"
   ]
  },
  {
   "cell_type": "code",
   "execution_count": null,
   "metadata": {
    "ExecuteTime": {},
    "heading_collapsed": true,
    "hidden": true
   },
   "outputs": [],
   "source": [
    "df.sort_values('filename', inplace=True)\n",
    "df.reset_index(inplace=True, drop=True)"
   ]
  },
  {
   "cell_type": "code",
   "execution_count": null,
   "metadata": {
    "ExecuteTime": {},
    "heading_collapsed": true,
    "hidden": true
   },
   "outputs": [],
   "source": [
    "df.to_csv(PATH/'forster_room_10k_debug.csv', columns=['filename', 'label'], index=False)"
   ]
  },
  {
   "cell_type": "markdown",
   "metadata": {
    "heading_collapsed": true
   },
   "source": [
    "## Shaw - Irrational Knot"
   ]
  },
  {
   "cell_type": "code",
   "execution_count": null,
   "metadata": {
    "ExecuteTime": {},
    "heading_collapsed": true,
    "hidden": true
   },
   "outputs": [],
   "source": [
    "img_path = PATH/'knot'\n",
    "csv_path = PATH/'knot.csv'\n",
    "text_path = Path('data/texts/irrational_knot.txt')"
   ]
  },
  {
   "cell_type": "code",
   "execution_count": null,
   "metadata": {
    "ExecuteTime": {},
    "heading_collapsed": true,
    "hidden": true
   },
   "outputs": [],
   "source": [
    "# combine\n",
    "a = pd.read_csv(PATH/'shaw_knot.csv')\n",
    "b = pd.read_csv(PATH/'shaw_knot1.csv')\n",
    "df = pd.concat([a,b], ignore_index=True)\n",
    "df.head()"
   ]
  },
  {
   "cell_type": "code",
   "execution_count": null,
   "metadata": {
    "ExecuteTime": {},
    "heading_collapsed": true,
    "hidden": true
   },
   "outputs": [],
   "source": [
    "df.sort_values('filename', inplace=True)\n",
    "df.reset_index(inplace=True, drop=True)"
   ]
  },
  {
   "cell_type": "code",
   "execution_count": null,
   "metadata": {
    "ExecuteTime": {},
    "heading_collapsed": true,
    "hidden": true
   },
   "outputs": [],
   "source": [
    "df.to_csv(PATH/'shaw_knot_10k_debug.csv', columns=['filename', 'label'], index=False)"
   ]
  },
  {
   "cell_type": "markdown",
   "metadata": {
    "ExecuteTime": {},
    "heading_collapsed": true
   },
   "source": [
    "# Text Data"
   ]
  },
  {
   "cell_type": "code",
   "execution_count": null,
   "metadata": {
    "ExecuteTime": {},
    "heading_collapsed": true,
    "hidden": true
   },
   "outputs": [],
   "source": [
    "with open(text_path) as file:  \n",
    "    text = file.read()"
   ]
  },
  {
   "cell_type": "code",
   "execution_count": null,
   "metadata": {
    "ExecuteTime": {},
    "heading_collapsed": true,
    "hidden": true
   },
   "outputs": [],
   "source": [
    "text = text.replace('\\n',' ')"
   ]
  },
  {
   "cell_type": "code",
   "execution_count": null,
   "metadata": {
    "ExecuteTime": {},
    "heading_collapsed": true,
    "hidden": true
   },
   "outputs": [],
   "source": [
    "lines = text.split('  ')\n",
    "len(lines)"
   ]
  },
  {
   "cell_type": "code",
   "execution_count": null,
   "metadata": {
    "ExecuteTime": {},
    "heading_collapsed": true,
    "hidden": true
   },
   "outputs": [],
   "source": [
    "df = pd.DataFrame({'text': lines})"
   ]
  },
  {
   "cell_type": "code",
   "execution_count": null,
   "metadata": {
    "ExecuteTime": {},
    "heading_collapsed": true,
    "hidden": true
   },
   "outputs": [],
   "source": [
    "# remove small lines\n",
    "df['char_len'] = df.text.map(len)\n",
    "df = df[df['char_len'] > 15]\n",
    "df.sort_values('char_len', inplace=True)\n",
    "df.head(5)"
   ]
  },
  {
   "cell_type": "code",
   "execution_count": null,
   "metadata": {
    "ExecuteTime": {},
    "heading_collapsed": true,
    "hidden": true
   },
   "outputs": [],
   "source": [
    "import textwrap\n",
    "\n",
    "# truncate text len to 1000 w/ textwrap\n",
    "df['text'] = df.text.map(lambda x: textwrap.wrap(x, width=700, replace_whitespace=False)[0])\n",
    "df['char_len'] = df.text.map(len)"
   ]
  },
  {
   "cell_type": "code",
   "execution_count": null,
   "metadata": {
    "ExecuteTime": {},
    "heading_collapsed": true,
    "hidden": true
   },
   "outputs": [],
   "source": [
    "df.sort_index(inplace=True)"
   ]
  },
  {
   "cell_type": "code",
   "execution_count": null,
   "metadata": {
    "ExecuteTime": {},
    "heading_collapsed": true,
    "hidden": true
   },
   "outputs": [],
   "source": [
    "texts = df.text.values"
   ]
  },
  {
   "cell_type": "code",
   "execution_count": null,
   "metadata": {
    "ExecuteTime": {},
    "heading_collapsed": true,
    "hidden": true
   },
   "outputs": [],
   "source": [
    "len(texts)"
   ]
  },
  {
   "cell_type": "markdown",
   "metadata": {},
   "source": [
    "# Google Fonts"
   ]
  },
  {
   "cell_type": "code",
   "execution_count": null,
   "metadata": {
    "ExecuteTime": {},
    "heading_collapsed": true,
    "hidden": true
   },
   "outputs": [],
   "source": [
    "from selenium import webdriver\n",
    "from selenium.webdriver import ActionChains\n",
    "from selenium.webdriver.chrome.options import Options\n",
    "from selenium.webdriver.support.ui import WebDriverWait\n",
    "from selenium.webdriver.support import expected_conditions as EC\n",
    "from selenium.webdriver.common.keys import Keys\n",
    "from selenium.webdriver.common.by import By"
   ]
  },
  {
   "cell_type": "code",
   "execution_count": null,
   "metadata": {
    "ExecuteTime": {},
    "heading_collapsed": true,
    "hidden": true
   },
   "outputs": [],
   "source": [
    "#1050 width\n",
    "fonts = {'Indie Flower':29, 'Dancing Script':35, 'Pacifico':31, 'Shadows into Light':33, 'Satisfy':33, 'Courgette':28,\n",
    " 'Caveat':38, 'Butterfly Kids':43, 'Kaushan Script':32, 'Great Vibes':40, 'Cookie':40, 'Tangerine':49,\n",
    " 'Gloria Hallelujah':25, 'Sacramento':38, 'Marck Script':30, 'Gochi Hand':30, 'Bad Script':33, 'Yellowtail':36,\n",
    " 'Parisienne':34, 'Schoolbell':31, 'Homemade Apple':22, 'Allura':37, 'Damion':35, 'Alex Brush':36,\n",
    " 'Covered By Your Grace':35, 'Italianno':48, 'Mr Dafoe':37, 'Nothing You Could Do':26, 'Pinyon Script':32,\n",
    " 'Niconne':37, 'Nanum Pen Script':36, 'Yesteryear':39, 'Reenie Beanie':34, 'Leckerli One':27, 'Arizonia':33,\n",
    " 'Just Another Hand':61, 'Coming Soon':27, 'Rochester':39, 'Grand Hotel':42, 'Berkshire Swash':30,\n",
    " 'Nanum Brush Script':39, 'Norican':37, 'Annie Use Your Telescope':37, 'Sue Ellen Francisco':47,\n",
    " 'Herr Von MuellerHoff':49, 'Mr De Haviland':51, 'Calligraffitti':34, 'Kristi':50, 'Sofia':28, 'Aladin':38,\n",
    " 'The Girl Next Door':26, 'Give You Glory':27, 'Cedarville Cursive':27, 'Monsieur La Doulaise':36, 'Montez':40,\n",
    " 'Qwigley':53, 'Rouge Script':41, 'La Belle Aurore':29, 'Bilbo Swash Caps':45, 'Crafty Girls':24,\n",
    " 'Waiting For The Sunrise':32, 'Meddon':20, 'Aguafina Script':44, 'Loved By The King':39, 'Vibur':35,\n",
    " 'Just Me Again Down Here':42, 'Princess Sofia':37, 'Dawning Of A New Day':34, 'Mrs Saint Delafield':46,\n",
    " 'Over The Rainbow':27, 'Swanky and Moo Moo':31, 'Engagement':51, 'Sedgwick Ave Display':32, 'Mr Bedfort':33,\n",
    " 'Lovers Quarrel':54, 'Condiment':37, 'Charmonman':31, 'League Script':29, 'Bilbo':47, 'Gaegu':29, 'Stalemate':58,\n",
    " 'Julee':32, 'Jim Nightshade':43, 'Miss Fajardose':54, 'Ruthie':44, 'Dokdo':31, 'Mrs Sheppards':37, 'Dr Sugiyama':39,\n",
    " 'Felipa':34, 'Molle':25, 'Devonshire':42, 'East Sea Dokdo':43, 'Gamja Flower':35, 'Hi Melody':34, 'Ruge Boogie':40,\n",
    " 'Sunshiney':37, 'Romanesco':53, 'Lakki Reddy':28}\n",
    "\n",
    "# #1200 width\n",
    "# fonts = {'Indie Flower':37, 'Dancing Script':45, 'Pacifico':39, 'Shadows into Light':43, 'Satisfy':43, 'Courgette':36,\n",
    "#  'Caveat':48, 'Butterfly Kids':50, 'Kaushan Script':37, 'Great Vibes':45, 'Cookie':51, 'Tangerine':64,\n",
    "#  'Gloria Hallelujah':28, 'Sacramento':46, 'Marck Script':36, 'Gochi Hand':34, 'Bad Script':38, 'Yellowtail':44,\n",
    "#  'Parisienne':40, 'Schoolbell':35, 'Homemade Apple':25, 'Allura':44, 'Damion':40, 'Alex Brush':45,\n",
    "#  'Covered By Your Grace':40, 'Italianno':57, 'Mr Dafoe':43, 'Nothing You Could Do':29, 'Pinyon Script':40,\n",
    "#  'Niconne':44, 'Nanum Pen Script':42, 'Yesteryear':45, 'Reenie Beanie':42, 'Leckerli One':31, 'Arizonia':42,\n",
    "#  'Just Another Hand':70, 'Coming Soon':31, 'Rochester':44, 'Grand Hotel':49, 'Berkshire Swash':35,\n",
    "#  'Nanum Brush Script':45, 'Norican':42, 'Annie Use Your Telescope':42, 'Sue Ellen Francisco':55,\n",
    "#  'Herr Von MuellerHoff':59, 'Mr De Haviland':63, 'Calligraffitti':39, 'Kristi':59, 'Sofia':33, 'Aladin':44,\n",
    "#  'The Girl Next Door':30, 'Give You Glory':32, 'Cedarville Cursive':32, 'Monsieur La Doulaise':50, 'Montez':47,\n",
    "#  'Qwigley':62, 'Rouge Script':51, 'La Belle Aurore':35, 'Bilbo Swash Caps':53, 'Crafty Girls':27,\n",
    "#  'Waiting For The Sunrise':37, 'Meddon':25, 'Aguafina Script':51, 'Loved By The King':46, 'Vibur':41,\n",
    "#  'Just Me Again Down Here':48, 'Princess Sofia':42, 'Dawning Of A New Day':40, 'Mrs Saint Delafield':58,\n",
    "#  'Over The Rainbow':33, 'Swanky and Moo Moo':35, 'Engagement':59, 'Sedgwick Ave Display':36, 'Mr Bedfort':39,\n",
    "#  'Lovers Quarrel':64, 'Condiment':43, 'Charmonman':37, 'League Script':32, 'Bilbo':56, 'Gaegu':34, 'Stalemate':71,\n",
    "#  'Julee':37, 'Jim Nightshade':50, 'Miss Fajardose':70, 'Ruthie':53, 'Dokdo':35, 'Mrs Sheppards':43, 'Dr Sugiyama':48,\n",
    "#  'Felipa':43, 'Molle':30, 'Devonshire':49, 'East Sea Dokdo':49, 'Gamja Flower':39, 'Hi Melody':44, 'Ruge Boogie':50,\n",
    "#  'Sunshiney':43, 'Romanesco':63, 'Lakki Ready':32}"
   ]
  },
  {
   "cell_type": "code",
   "execution_count": null,
   "metadata": {
    "ExecuteTime": {},
    "heading_collapsed": true,
    "hidden": true
   },
   "outputs": [],
   "source": [
    "def set_font_size(driver, actions, value):\n",
    "    slider = driver.find_element_by_class_name('md-track-container') # whole container not just the slider\n",
    "    width = slider.size['width']\n",
    "    s_max,s_min = 300,8\n",
    "    step = width / (s_max - s_min)\n",
    "    val = int(step * (value - s_min + 1))\n",
    "    actions.click_and_hold(slider).move_by_offset(-width//2,0).move_by_offset(val,0).release().perform()"
   ]
  },
  {
   "cell_type": "code",
   "execution_count": null,
   "metadata": {
    "ExecuteTime": {},
    "heading_collapsed": true,
    "hidden": true
   },
   "outputs": [],
   "source": [
    "def input_text(text_form, text):\n",
    "    text_form.clear()\n",
    "    text_form.send_keys(text)\n",
    "\n",
    "def text_settings(driver, text_form, p_top=10, lh=1.8):\n",
    "    #padding\n",
    "    driver.execute_script(f\"arguments[0].style.paddingTop = '{p_top}px';\", text_form)\n",
    "    #line height\n",
    "    driver.execute_script(f\"arguments[0].style.lineHeight = {lh};\", text_form)\n",
    "\n",
    "# calculated by linear regression\n",
    "def line_height(font): return -0.01*font+1.55 + 0.6"
   ]
  },
  {
   "cell_type": "code",
   "execution_count": null,
   "metadata": {
    "ExecuteTime": {},
    "heading_collapsed": true,
    "hidden": true
   },
   "outputs": [],
   "source": [
    "def remove_cursor():\n",
    "    try:\n",
    "        font_input.send_keys(\"\")\n",
    "        return True\n",
    "    except:\n",
    "        return False"
   ]
  },
  {
   "cell_type": "code",
   "execution_count": null,
   "metadata": {
    "ExecuteTime": {},
    "heading_collapsed": true,
    "hidden": true
   },
   "outputs": [],
   "source": [
    "def check_heights():\n",
    "    fsz = int(text_form.value_of_css_property('fontSize')[:-2])\n",
    "    exp = nl*fsz*lh+p_top\n",
    "    act = text_form.size['height']\n",
    "    return (exp>=act and act<=940)"
   ]
  },
  {
   "cell_type": "markdown",
   "metadata": {
    "heading_collapsed": true
   },
   "source": [
    "## bulk"
   ]
  },
  {
   "cell_type": "code",
   "execution_count": null,
   "metadata": {
    "ExecuteTime": {},
    "heading_collapsed": true,
    "hidden": true
   },
   "outputs": [],
   "source": [
    "options = Options()\n",
    "options.add_argument(\"--headless\")  \n",
    "options.add_argument(\"--window-size=1050,1000\")   #(\"--window-size=%s\" % WINDOW_SIZE)"
   ]
  },
  {
   "cell_type": "code",
   "execution_count": null,
   "metadata": {
    "ExecuteTime": {},
    "heading_collapsed": true,
    "hidden": true
   },
   "outputs": [],
   "source": [
    "def new_driver(old_driver=None):\n",
    "    try:\n",
    "        old_driver.close()\n",
    "    except:\n",
    "        pass\n",
    "\n",
    "    driver = webdriver.Chrome(options=options)\n",
    "    driver.get('https://fonts.google.com/?category=Handwriting')\n",
    "    #view as list\n",
    "    driver.find_element_by_class_name('font-preview-layout-toggle-button').click()\n",
    "    # remove scroll-to-top button\n",
    "    scroll_btn = driver.find_element_by_class_name('scroll-top-button-fab')\n",
    "    driver.execute_script(\"arguments[0].parentNode.removeChild(arguments[0]);\", scroll_btn)\n",
    "    # remove footer\n",
    "    footer = driver.find_element_by_id('footer')\n",
    "    driver.execute_script(\"arguments[0].parentNode.removeChild(arguments[0]);\", footer)\n",
    "    return driver, ActionChains(driver), WebDriverWait(driver, 5)"
   ]
  },
  {
   "cell_type": "code",
   "execution_count": null,
   "metadata": {
    "ExecuteTime": {},
    "heading_collapsed": true,
    "hidden": true
   },
   "outputs": [],
   "source": [
    "def save_images(total, texts, num, img_path, csv_path, pre='', offset=0):\n",
    "    try:\n",
    "        res = []\n",
    "        for idx in progress_bar(range(total)):\n",
    "            # reset driver every now and then to keep from getting throttled\n",
    "            if idx%10 == 0: driver,actions,wait = new_driver()\n",
    "\n",
    "            # set font name and size\n",
    "            name = random.choice(list(fonts.keys()))\n",
    "            font_input = wait.until(EC.element_to_be_clickable((By.ID, 'input_4')))\n",
    "            font_input.clear()\n",
    "            font_input.send_keys(name)\n",
    "            \n",
    "            size = int(fonts[name]*.75) - random.randint(1,5)\n",
    "            set_font_size(driver, actions, size)\n",
    "            \n",
    "            text_form = wait.until(EC.element_to_be_clickable((By.CLASS_NAME, 'font-preview-text')))\n",
    "            \n",
    "            p_top = 10\n",
    "            lh = line_height(size)\n",
    "\n",
    "            # sample texts\n",
    "            ts = np.random.choice(texts, num)\n",
    "            for i,t in enumerate(ts):\n",
    "                # input text\n",
    "                t = textwrap.fill(t, width=60-random.randint(0,10)) #random_wrap_choice())\n",
    "                t = t.split('\\n')[:10]      #maximum of 10 lines\n",
    "                t = '\\n'.join(t)\n",
    "                nl = len(t)\n",
    "                \n",
    "                input_text(text_form, t)\n",
    "                text_settings(driver, text_form, p_top, lh)\n",
    "                input_text(text_form, t)\n",
    "                \n",
    "                while not remove_cursor():\n",
    "                    # remove last 2 lines at a time\n",
    "                    t = t.split('\\n')[:-2]\n",
    "                    nl = len(t)\n",
    "                    t = '\\n'.join(t)\n",
    "                    input_text(text_form, t)\n",
    "           \n",
    "                while not check_heights():\n",
    "                    size -= 5\n",
    "                    set_font_size(driver, actions, size)\n",
    "                    \n",
    "                # save img\n",
    "                fname = pre+'{:04d}'.format(idx+offset)+f\"_{i}.png\"\n",
    "                text_form.screenshot(str(img_path/fname))\n",
    "                res.append({'filename':fname, 'label':t, 'font_name':name, 'font_size':fsz})\n",
    "    except:\n",
    "        print(sys.exc_info())\n",
    "        print(f\"label:{t}, font_name:{name}, font_size:{fsz}\")\n",
    "        driver.save_screenshot(str(img_path/'fail.png'))\n",
    "    finally:\n",
    "        pd.DataFrame(res).to_csv(csv_path, index=False)\n",
    "        driver.close()"
   ]
  },
  {
   "cell_type": "code",
   "execution_count": null,
   "metadata": {
    "ExecuteTime": {},
    "heading_collapsed": true,
    "hidden": true
   },
   "outputs": [],
   "source": [
    "img_path, csv_path"
   ]
  },
  {
   "cell_type": "code",
   "execution_count": null,
   "metadata": {
    "ExecuteTime": {},
    "heading_collapsed": true,
    "hidden": true
   },
   "outputs": [],
   "source": [
    "!rm -rf {img_path}\n",
    "os.makedirs(img_path, exist_ok=True)"
   ]
  },
  {
   "cell_type": "code",
   "execution_count": null,
   "metadata": {
    "ExecuteTime": {},
    "heading_collapsed": true,
    "hidden": true,
    "scrolled": true
   },
   "outputs": [],
   "source": [
    "save_images(1000, texts, 5, img_path, csv_path, pre='knot_', offset=0)"
   ]
  },
  {
   "cell_type": "markdown",
   "metadata": {},
   "source": [
    "## Individual"
   ]
  },
  {
   "cell_type": "code",
   "execution_count": null,
   "metadata": {
    "ExecuteTime": {},
    "heading_collapsed": true,
    "hidden": true
   },
   "outputs": [],
   "source": [
    "options = Options()\n",
    "options.add_argument(\"--window-size=1050,1000\")   #(\"--window-size=%s\" % WINDOW_SIZE)"
   ]
  },
  {
   "cell_type": "code",
   "execution_count": null,
   "metadata": {
    "ExecuteTime": {},
    "heading_collapsed": true,
    "hidden": true
   },
   "outputs": [],
   "source": [
    "nl=10\n",
    "t = \"Now, this was abominably impertinent, and she\\nought to have been furious. But it is sometimes as\\ndifficult to lose one's temper as it is difficult\\nat other times to keep it. Lucy could not get\\ncross. Mr. Emerson was an old man, and surely a\\ngirl might humour him. On the other hand, his son\\nwas a young man, and she felt that a girl ought to\\nbe offended with him, or at all events be offended\\nbefore him. It was at him that she gazed before\\nreplying.\\nNow, this was abominably impertinent, and she\\nought to have been furious. But it is sometimes as\\ndifficult to lose one's temper as it is difficult\\nat other times to keep it. Lucy could not get\\ncross. Mr. Emerson was an old man, and surely a\\ngirl might humour him. On the other hand, his son\\nwas a young man, and she felt that a girl ought to\\nbe offended with him, or at all events be offended\\nbefore him. It was at him that she gazed before\\nreplying.\""
   ]
  },
  {
   "cell_type": "code",
   "execution_count": null,
   "metadata": {
    "ExecuteTime": {},
    "heading_collapsed": true,
    "hidden": true
   },
   "outputs": [],
   "source": [
    "driver,actions,wait = new_driver()\n",
    "\n",
    "# set font name and size\n",
    "name = 'Just Another Hand' #random.choice(list(fonts.keys()))\n",
    "font_input = wait.until(EC.element_to_be_clickable((By.ID, 'input_4')))\n",
    "font_input.clear()\n",
    "font_input.send_keys(name)\n",
    "\n",
    "size = 44 #int(fonts[name]*.75) - random.randint(1,5)\n",
    "set_font_size(driver, actions, size)\n",
    "\n",
    "p_top = 10\n",
    "lh = line_height(size)\n",
    "\n",
    "text_form = wait.until(EC.element_to_be_clickable((By.CLASS_NAME, 'font-preview-text')))\n",
    "    \n",
    "input_text(text_form, t)\n",
    "text_settings(driver, text_form, p_top, lh)\n",
    "input_text(text_form, t)\n",
    "\n",
    "# while not remove_cursor():\n",
    "#     # remove last 2 lines at a time\n",
    "#     t = t.split('\\n')[:-2]\n",
    "#     nl = len(t)\n",
    "#     t = '\\n'.join(t)\n",
    "#     input_text(text_form, t)\n",
    "\n",
    "\n",
    "#### THIS IS NOT WORKING ####\n",
    "while not check_heights():\n",
    "    pdb.set_trace()\n",
    "    size -= 5\n",
    "    set_font_size(driver, actions, size)\n",
    "\n",
    "# save img\n",
    "text_form.screenshot(str(Path('data/fonts/test.png')))\n",
    "driver.close()"
   ]
  },
  {
   "cell_type": "code",
   "execution_count": null,
   "metadata": {
    "ExecuteTime": {},
    "heading_collapsed": true,
    "hidden": true
   },
   "outputs": [],
   "source": [
    "driver.close()"
   ]
  },
  {
   "cell_type": "markdown",
   "metadata": {},
   "source": [
    "# Scripts"
   ]
  },
  {
   "cell_type": "markdown",
   "metadata": {
    "heading_collapsed": true
   },
   "source": [
    "## Comparing img heights w/ estimated heights by font/size"
   ]
  },
  {
   "cell_type": "markdown",
   "metadata": {
    "heading_collapsed": true,
    "hidden": true
   },
   "source": [
    "### Calculating Estimated Line Heights"
   ]
  },
  {
   "cell_type": "code",
   "execution_count": null,
   "metadata": {
    "ExecuteTime": {},
    "heading_collapsed": true,
    "hidden": true
   },
   "outputs": [],
   "source": [
    "def set_font(wait, fontName):\n",
    "    font_input = wait.until(EC.element_to_be_clickable((By.ID, 'input_4')))\n",
    "    font_input.clear()\n",
    "    font_input.send_keys(fontName)"
   ]
  },
  {
   "cell_type": "code",
   "execution_count": null,
   "metadata": {
    "ExecuteTime": {},
    "heading_collapsed": true,
    "hidden": true
   },
   "outputs": [],
   "source": [
    "def determine_max_line_heights(csv_path):\n",
    "    res = []\n",
    "    txt = \"ABC\\nDEF\\nGHI\\nJKL\\nMNO\\nPQR\\nSTU\\nVWX\"\n",
    "    driver = None\n",
    "    \n",
    "    try:\n",
    "        for name,size in progress_bar(fonts.items(), total=len(fonts)): \n",
    "            driver,actions,wait = new_driver(driver)\n",
    "            set_font(wait, name)\n",
    "\n",
    "            text_form = wait.until(EC.element_to_be_clickable((By.CLASS_NAME, 'font-preview-text')))\n",
    "            text_form.clear()\n",
    "            text_form.send_keys(txt)\n",
    "\n",
    "            for sz in range(size-5,size):\n",
    "                set_font_size(driver, actions, sz)\n",
    "                total = text_form.size['height']\n",
    "                res.append({'font': name, 'size': sz, 'line_height': total//8})\n",
    "    finally:\n",
    "        pd.DataFrame(res).to_csv(csv_path, index=False)\n",
    "        driver.close()"
   ]
  },
  {
   "cell_type": "code",
   "execution_count": null,
   "metadata": {
    "ExecuteTime": {},
    "heading_collapsed": true,
    "hidden": true
   },
   "outputs": [],
   "source": [
    "lh"
   ]
  },
  {
   "cell_type": "code",
   "execution_count": null,
   "metadata": {
    "ExecuteTime": {},
    "heading_collapsed": true,
    "hidden": true
   },
   "outputs": [],
   "source": [
    "determine_max_line_heights(PATH/'line_heights.csv')"
   ]
  },
  {
   "cell_type": "code",
   "execution_count": null,
   "metadata": {
    "ExecuteTime": {},
    "heading_collapsed": true,
    "hidden": true
   },
   "outputs": [],
   "source": [
    "1.8-.1"
   ]
  },
  {
   "cell_type": "markdown",
   "metadata": {
    "heading_collapsed": true,
    "hidden": true
   },
   "source": [
    "### Calculating Actual/Expected Heights"
   ]
  },
  {
   "cell_type": "code",
   "execution_count": null,
   "metadata": {
    "ExecuteTime": {},
    "heading_collapsed": true,
    "hidden": true
   },
   "outputs": [],
   "source": [
    "lh = pd.read_csv(PATH/'line_heights.csv')\n",
    "lh.set_index(['font', 'size'], inplace=True)  #multi-index\n",
    "# lh.head(10)"
   ]
  },
  {
   "cell_type": "code",
   "execution_count": null,
   "metadata": {
    "ExecuteTime": {},
    "heading_collapsed": true,
    "hidden": true
   },
   "outputs": [],
   "source": [
    "def img_height(row):\n",
    "    with Image.open(img_path/row['filename']) as img:\n",
    "        return img.size[1]\n",
    "    \n",
    "def expected_height(row):\n",
    "    try:\n",
    "        h = lh.loc[row['font'], row['size']].line_height\n",
    "    except TypeError:\n",
    "        h = lh.loc[row['font']].values.flatten()[0]  #size is missing: choose smallest size\n",
    "    nl = len(row['label'].split('\\n'))\n",
    "    return max(264, h * nl * 2)  # 264 is minimum height\n",
    "\n",
    "\n",
    "def set_heights(df):\n",
    "    heights = df.apply(lambda x: img_height(x), axis=1)  \n",
    "    df['height'] = heights.astype('int32')\n",
    "    \n",
    "#     hgt = df.apply(lambda x: expected_height(x), axis=1)  \n",
    "#     df['exp_height'] = hgt.astype('int32')\n",
    "    \n",
    "#     df['diff'] = df.apply(lambda row: (row['height'] - row['exp_height']), axis=1)\n",
    "    \n",
    "    \n",
    "def taller_than_expected(df): return df[df['diff'] > 0].sort_values('diff', ascending=False)"
   ]
  },
  {
   "cell_type": "code",
   "execution_count": null,
   "metadata": {
    "ExecuteTime": {},
    "heading_collapsed": true,
    "hidden": true
   },
   "outputs": [],
   "source": [
    "# set_heights(df)\n",
    "df.head()"
   ]
  },
  {
   "cell_type": "code",
   "execution_count": null,
   "metadata": {
    "ExecuteTime": {},
    "heading_collapsed": true,
    "hidden": true
   },
   "outputs": [],
   "source": [
    "# calculate character lengths\n",
    "lgts = df.label.apply(len)  \n",
    "df['char_len'] = lgts.astype('int32')"
   ]
  },
  {
   "cell_type": "code",
   "execution_count": null,
   "metadata": {
    "ExecuteTime": {},
    "heading_collapsed": true,
    "hidden": true
   },
   "outputs": [],
   "source": [
    "more = taller_than_expected(df)\n",
    "len(more)"
   ]
  },
  {
   "cell_type": "markdown",
   "metadata": {
    "heading_collapsed": true,
    "hidden": true
   },
   "source": [
    "### Remove from df"
   ]
  },
  {
   "cell_type": "code",
   "execution_count": null,
   "metadata": {
    "ExecuteTime": {},
    "heading_collapsed": true,
    "hidden": true
   },
   "outputs": [],
   "source": [
    "df.drop(more.index.values, inplace=True)\n",
    "len(df)"
   ]
  },
  {
   "cell_type": "markdown",
   "metadata": {
    "heading_collapsed": true,
    "hidden": true
   },
   "source": [
    "### Check images below minimum"
   ]
  },
  {
   "cell_type": "code",
   "execution_count": null,
   "metadata": {
    "ExecuteTime": {},
    "heading_collapsed": true,
    "hidden": true
   },
   "outputs": [],
   "source": [
    "mins = df[(df['height'] < 265) & (df['char_len'] > 65)]\n",
    "len(mins)"
   ]
  },
  {
   "cell_type": "code",
   "execution_count": null,
   "metadata": {
    "ExecuteTime": {},
    "heading_collapsed": true,
    "hidden": true
   },
   "outputs": [],
   "source": [
    "im = PIL.Image.open(PATH/'fonts_removed'/'zane_1507_1.png')"
   ]
  },
  {
   "cell_type": "code",
   "execution_count": null,
   "metadata": {
    "ExecuteTime": {},
    "heading_collapsed": true,
    "hidden": true
   },
   "outputs": [],
   "source": [
    "im.size"
   ]
  },
  {
   "cell_type": "code",
   "execution_count": null,
   "metadata": {
    "ExecuteTime": {},
    "heading_collapsed": true,
    "hidden": true
   },
   "outputs": [],
   "source": [
    "img_path = PATH/'fonts_removed'"
   ]
  },
  {
   "cell_type": "code",
   "execution_count": null,
   "metadata": {
    "ExecuteTime": {},
    "heading_collapsed": true,
    "hidden": true
   },
   "outputs": [],
   "source": [
    "def trim(im):\n",
    "    bg = PIL.Image.new(im.mode, im.size, im.getpixel((0,0)))\n",
    "    diff = PIL.ImageChops.difference(im, bg)\n",
    "    diff = PIL.ImageChops.add(diff, diff, 2.0, -100)\n",
    "    bbox = diff.getbbox()\n",
    "    if bbox:\n",
    "        return im.crop(bbox).size[1]\n",
    "    else:\n",
    "        return 264\n",
    "    \n",
    "def trimmed_height(row):\n",
    "    with PIL.Image.open(img_path/row['filename']) as img:\n",
    "        return trim(img)\n",
    "    \n",
    "def set_heights(df):\n",
    "    heights = df.apply(lambda x: trimmed_height(x), axis=1)\n",
    "    df['height'] = heights.astype('int32')\n",
    "    \n",
    "    nl = df.label.apply(lambda x: len(x.split('\\n')))  \n",
    "    df['num_lines'] = nl.astype('int32')\n",
    "    \n",
    "#     df['diff'] = df.apply(lambda row: (row['height'] - row['exp_height']), axis=1)\n",
    "    \n",
    "    \n",
    "def taller_than_expected(df): return df[df['diff'] > 0].sort_values('diff', ascending=False)"
   ]
  },
  {
   "cell_type": "code",
   "execution_count": null,
   "metadata": {
    "ExecuteTime": {},
    "heading_collapsed": true,
    "hidden": true
   },
   "outputs": [],
   "source": [
    "set_heights(mins)"
   ]
  },
  {
   "cell_type": "code",
   "execution_count": null,
   "metadata": {
    "ExecuteTime": {},
    "heading_collapsed": true,
    "hidden": true
   },
   "outputs": [],
   "source": [
    "mins[mins['height']<10]"
   ]
  },
  {
   "cell_type": "code",
   "execution_count": null,
   "metadata": {
    "ExecuteTime": {},
    "heading_collapsed": true,
    "hidden": true
   },
   "outputs": [],
   "source": [
    "more = taller_than_expected(df)\n",
    "len(more)"
   ]
  },
  {
   "cell_type": "markdown",
   "metadata": {
    "heading_collapsed": true
   },
   "source": [
    "## Replace overflowing images"
   ]
  },
  {
   "cell_type": "code",
   "execution_count": null,
   "metadata": {
    "ExecuteTime": {},
    "heading_collapsed": true,
    "hidden": true
   },
   "outputs": [],
   "source": [
    "def replace_images(df, img_path):\n",
    "    driver = None\n",
    "    try:\n",
    "        for idx,row in progress_bar(df.iterrows(), total=len(df)):\n",
    "            if idx%20 == 0: driver,actions,wait = new_driver(driver)\n",
    "\n",
    "            # set font name and size\n",
    "            name = random.choice(list(fonts.keys()))\n",
    "            #font_input = driver.find_element_by_id('input_4')\n",
    "            font_input = wait.until(EC.element_to_be_clickable((By.ID, 'input_4')))\n",
    "            font_input.clear()\n",
    "            font_input.send_keys(name)\n",
    "            size = fonts[name] - 10 #random.randint(1,5)\n",
    "            set_font_size(driver, actions, size)\n",
    "\n",
    "            text_form = wait.until(EC.element_to_be_clickable((By.CLASS_NAME, 'font-preview-text')))\n",
    "            text_form.clear()\n",
    "            text_form.send_keys(t)\n",
    "            # remove cursor\n",
    "            font_input.send_keys(\"\")\n",
    "                # save img\n",
    "                fname = pre+'{:04d}'.format(idx+offset)+f\"_{i}.png\"\n",
    "                text_form.screenshot(str(img_path/fname))\n",
    "                res.append({'filename':fname, 'label':t, 'font':name, 'size':size})\n",
    "    except:\n",
    "        print(sys.exc_info())\n",
    "        driver.save_screenshot(str(img_path/'fail.png'))\n",
    "    finally:\n",
    "        pd.DataFrame(res).to_csv(csv_path, index=False)\n",
    "        driver.close()"
   ]
  },
  {
   "cell_type": "code",
   "execution_count": null,
   "metadata": {
    "ExecuteTime": {},
    "heading_collapsed": true,
    "hidden": true
   },
   "outputs": [],
   "source": [
    "img_path, csv_path"
   ]
  },
  {
   "cell_type": "code",
   "execution_count": null,
   "metadata": {
    "ExecuteTime": {},
    "heading_collapsed": true,
    "hidden": true
   },
   "outputs": [],
   "source": [
    "# !rm -rf {img_path}\n",
    "os.makedirs(img_path, exist_ok=True)"
   ]
  },
  {
   "cell_type": "code",
   "execution_count": null,
   "metadata": {
    "ExecuteTime": {},
    "heading_collapsed": true,
    "hidden": true,
    "scrolled": true
   },
   "outputs": [],
   "source": [
    "save_images(1155, texts, 5, img_path, csv_path, pre='imdb_unsup_', offset=2846)"
   ]
  },
  {
   "cell_type": "markdown",
   "metadata": {
    "heading_collapsed": true
   },
   "source": [
    "## Naive check for overflow"
   ]
  },
  {
   "cell_type": "code",
   "execution_count": null,
   "metadata": {
    "ExecuteTime": {},
    "heading_collapsed": true,
    "hidden": true
   },
   "outputs": [],
   "source": [
    "def text_overflow(txt, text_form):\n",
    "    st = \"\\nABCDEFGHI\\nJKLMNOPQR\\nSTUVWXYZ\\n\"\n",
    "    st += txt\n",
    "    num_lines = len(st.split(\"\\n\"))\n",
    "    text_form.clear()\n",
    "    text_form.send_keys(st)\n",
    "    line_height = text_form.find_element_by_xpath(\"div[3]\").size['height']\n",
    "    total_height = text_form.size['height']\n",
    "    return total_height != line_height * num_lines"
   ]
  },
  {
   "cell_type": "code",
   "execution_count": null,
   "metadata": {
    "ExecuteTime": {},
    "heading_collapsed": true,
    "hidden": true
   },
   "outputs": [],
   "source": [
    "def check_images_for_overflow(csv_path, img_path):\n",
    "    df = pd.read_csv(csv_path)\n",
    "    pageFont,pageSize = None,None\n",
    "    driver = None\n",
    "    redo = False\n",
    "    \n",
    "    for idx,row in progress_bar(df.iterrows(), total=len(df)):\n",
    "        if idx%20 == 0: driver,actions,wait = new_driver(driver)\n",
    "            \n",
    "        fname,txt,rowFont,rowSize = row['filename'],row['label'],row['font'],row['size']\n",
    "        if pageFont != rowFont: set_font(wait, rowFont)\n",
    "        if pageSize != rowSize: set_font_size(driver, actions, rowSize)\n",
    "        \n",
    "        text_form = wait.until(EC.element_to_be_clickable((By.CLASS_NAME, 'font-preview-text')))\n",
    "        while text_overflow(txt, text_form):\n",
    "            redo = True\n",
    "            set_font_size(driver, actions, rowSize-5)\n",
    "        \n",
    "        if redo:\n",
    "            text_form.clear()\n",
    "            text_form.send_keys(txt)\n",
    "        \n",
    "            # remove cursor\n",
    "            set_font(wait, rowFont)\n",
    "\n",
    "            new_path = str(img_path)+'_overflow/'+fname\n",
    "            text_form.screenshot(new_path)\n",
    "        redo = False"
   ]
  },
  {
   "cell_type": "code",
   "execution_count": null,
   "metadata": {
    "ExecuteTime": {},
    "heading_collapsed": true,
    "hidden": true
   },
   "outputs": [],
   "source": [
    "img_path, csv_path"
   ]
  },
  {
   "cell_type": "code",
   "execution_count": null,
   "metadata": {
    "ExecuteTime": {},
    "heading_collapsed": true,
    "hidden": true
   },
   "outputs": [],
   "source": [
    "os.makedirs(str(img_path)+'_overflow/', exist_ok=True)"
   ]
  },
  {
   "cell_type": "code",
   "execution_count": null,
   "metadata": {
    "ExecuteTime": {},
    "heading_collapsed": true,
    "hidden": true,
    "scrolled": true
   },
   "outputs": [],
   "source": [
    "check_images_for_overflow(PATH/'imdb_unsup_20k_debug.csv', img_path)"
   ]
  },
  {
   "cell_type": "markdown",
   "metadata": {
    "ExecuteTime": {}
   },
   "source": [
    "# Verify"
   ]
  },
  {
   "cell_type": "code",
   "execution_count": null,
   "metadata": {
    "ExecuteTime": {},
    "heading_collapsed": true,
    "hidden": true
   },
   "outputs": [],
   "source": [
    "# more.reset_index(drop=True,inplace=True)"
   ]
  },
  {
   "cell_type": "code",
   "execution_count": null,
   "metadata": {
    "ExecuteTime": {},
    "heading_collapsed": true,
    "hidden": true
   },
   "outputs": [],
   "source": [
    "df_v = pd.read_csv(csv_path)"
   ]
  },
  {
   "cell_type": "code",
   "execution_count": null,
   "metadata": {
    "ExecuteTime": {},
    "heading_collapsed": true,
    "hidden": true
   },
   "outputs": [],
   "source": [
    "df_v.tail()"
   ]
  },
  {
   "cell_type": "code",
   "execution_count": null,
   "metadata": {
    "ExecuteTime": {},
    "heading_collapsed": true,
    "hidden": true
   },
   "outputs": [],
   "source": [
    "y = iter(range(len(df_v)))"
   ]
  },
  {
   "cell_type": "code",
   "execution_count": null,
   "metadata": {
    "ExecuteTime": {},
    "heading_collapsed": true,
    "hidden": true,
    "scrolled": false
   },
   "outputs": [],
   "source": [
    "# i = random.randint(0, len(df_v))\n",
    "i = next(y)\n",
    "row = df_v.iloc[i]\n",
    "im = PIL.Image.open(img_path/row.filename)\n",
    "fig,ax = plt.subplots(figsize=(18,12))\n",
    "ax.imshow(im)\n",
    "print(row.label)"
   ]
  },
  {
   "cell_type": "code",
   "execution_count": null,
   "metadata": {
    "ExecuteTime": {},
    "heading_collapsed": true,
    "hidden": true
   },
   "outputs": [],
   "source": []
  }
 ],
 "metadata": {
  "kernelspec": {
   "display_name": "Python 3",
   "language": "python",
   "name": "python3"
  },
  "language_info": {
   "codemirror_mode": {
    "name": "ipython",
    "version": 3
   },
   "file_extension": ".py",
   "mimetype": "text/x-python",
   "name": "python",
   "nbconvert_exporter": "python",
   "pygments_lexer": "ipython3",
   "version": "3.7.3"
  },
  "toc": {
   "nav_menu": {},
   "number_sections": true,
   "sideBar": true,
   "skip_h1_title": false,
   "title_cell": "Table of Contents",
   "title_sidebar": "Contents",
   "toc_cell": false,
   "toc_position": {},
   "toc_section_display": true,
   "toc_window_display": false
  },
  "varInspector": {
   "cols": {
    "lenName": 16,
    "lenType": 16,
    "lenVar": 40
   },
   "kernels_config": {
    "python": {
     "delete_cmd_postfix": "",
     "delete_cmd_prefix": "del ",
     "library": "var_list.py",
     "varRefreshCmd": "print(var_dic_list())"
    },
    "r": {
     "delete_cmd_postfix": ") ",
     "delete_cmd_prefix": "rm(",
     "library": "var_list.r",
     "varRefreshCmd": "cat(var_dic_list()) "
    }
   },
   "types_to_exclude": [
    "module",
    "function",
    "builtin_function_or_method",
    "instance",
    "_Feature"
   ],
   "window_display": false
  }
 },
 "nbformat": 4,
 "nbformat_minor": 2
}
