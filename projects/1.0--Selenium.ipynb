{
 "cells": [
  {
   "cell_type": "code",
   "execution_count": null,
   "metadata": {
    "ExecuteTime": {},
    "heading_collapsed": true,
    "hidden": true
   },
   "outputs": [],
   "source": [
    "%matplotlib inline\n",
    "%reload_ext autoreload\n",
    "%autoreload 2"
   ]
  },
  {
   "cell_type": "code",
   "execution_count": null,
   "metadata": {
    "ExecuteTime": {},
    "heading_collapsed": true,
    "hidden": true
   },
   "outputs": [],
   "source": [
    "from fastai.text import *\n",
    "from PIL import Image\n",
    "import pdb"
   ]
  },
  {
   "cell_type": "code",
   "execution_count": null,
   "metadata": {
    "ExecuteTime": {},
    "heading_collapsed": true,
    "hidden": true
   },
   "outputs": [],
   "source": [
    "PATH = Path('data/IAM_handwriting/')"
   ]
  },
  {
   "cell_type": "markdown",
   "metadata": {},
   "source": [
    "# Sources"
   ]
  },
  {
   "cell_type": "markdown",
   "metadata": {
    "heading_collapsed": true
   },
   "source": [
    "## Wharton - Age of Innocence"
   ]
  },
  {
   "cell_type": "code",
   "execution_count": null,
   "metadata": {
    "ExecuteTime": {},
    "heading_collapsed": true,
    "hidden": true
   },
   "outputs": [],
   "source": [
    "img_path = PATH/'age'\n",
    "csv_path = PATH/'wharton_age0.csv'\n",
    "text_path = Path('data/texts/age_of_innocence.txt')"
   ]
  },
  {
   "cell_type": "code",
   "execution_count": null,
   "metadata": {
    "ExecuteTime": {},
    "heading_collapsed": true,
    "hidden": true
   },
   "outputs": [],
   "source": [
    "# combine\n",
    "df = pd.read_csv(PATH/'wharton_age0.csv')\n",
    "len(df)"
   ]
  },
  {
   "cell_type": "code",
   "execution_count": null,
   "metadata": {
    "ExecuteTime": {},
    "heading_collapsed": true,
    "hidden": true
   },
   "outputs": [],
   "source": [
    "df.to_csv(PATH/'wharton_age_10k.csv', columns=['filename', 'label'], index=False)"
   ]
  },
  {
   "cell_type": "markdown",
   "metadata": {
    "heading_collapsed": true
   },
   "source": [
    "## Austen - Northanger Abbey"
   ]
  },
  {
   "cell_type": "code",
   "execution_count": null,
   "metadata": {
    "ExecuteTime": {},
    "heading_collapsed": true,
    "hidden": true
   },
   "outputs": [],
   "source": [
    "img_path = PATH/'abbey'\n",
    "csv_path = PATH/'austen_abbey0.csv'\n",
    "text_path = Path('data/texts/northanger_abbey.txt')"
   ]
  },
  {
   "cell_type": "code",
   "execution_count": null,
   "metadata": {
    "ExecuteTime": {},
    "heading_collapsed": true,
    "hidden": true
   },
   "outputs": [],
   "source": [
    "# combine\n",
    "a = pd.read_csv(PATH/'austen_abbey0.csv')\n",
    "b = pd.read_csv(PATH/'austen_abbey1.csv')\n",
    "new = pd.concat([a,b], ignore_index=True)\n",
    "new.head()"
   ]
  },
  {
   "cell_type": "code",
   "execution_count": null,
   "metadata": {
    "ExecuteTime": {},
    "heading_collapsed": true,
    "hidden": true
   },
   "outputs": [],
   "source": [
    "new.sort_values('filename', inplace=True)\n",
    "new.reset_index(inplace=True, drop=True)"
   ]
  },
  {
   "cell_type": "code",
   "execution_count": null,
   "metadata": {
    "ExecuteTime": {},
    "heading_collapsed": true,
    "hidden": true
   },
   "outputs": [],
   "source": [
    "new.to_csv(PATH/'forster_room_10k.csv', columns=['filename', 'label'], index=False)"
   ]
  },
  {
   "cell_type": "markdown",
   "metadata": {
    "heading_collapsed": true
   },
   "source": [
    "## Forster - Room with a View"
   ]
  },
  {
   "cell_type": "code",
   "execution_count": null,
   "metadata": {
    "ExecuteTime": {},
    "heading_collapsed": true,
    "hidden": true
   },
   "outputs": [],
   "source": [
    "img_path = PATH/'fonts'\n",
    "csv_path = PATH/'forster_room1.csv'\n",
    "text_path = Path('data/texts/room_with_a_view.txt')"
   ]
  },
  {
   "cell_type": "code",
   "execution_count": null,
   "metadata": {
    "ExecuteTime": {},
    "heading_collapsed": true,
    "hidden": true
   },
   "outputs": [],
   "source": [
    "# combine\n",
    "a = pd.read_csv(PATH/'forster_room0.csv')\n",
    "b = pd.read_csv(PATH/'forster_room1.csv')\n",
    "new = pd.concat([a,b], ignore_index=True)\n",
    "new.head()"
   ]
  },
  {
   "cell_type": "code",
   "execution_count": null,
   "metadata": {
    "ExecuteTime": {},
    "heading_collapsed": true,
    "hidden": true
   },
   "outputs": [],
   "source": [
    "new.sort_values('filename', inplace=True)\n",
    "new.reset_index(inplace=True, drop=True)"
   ]
  },
  {
   "cell_type": "code",
   "execution_count": null,
   "metadata": {
    "ExecuteTime": {},
    "heading_collapsed": true,
    "hidden": true
   },
   "outputs": [],
   "source": [
    "new.to_csv(PATH/'forster_room_10k.csv', columns=['filename', 'label'], index=False)"
   ]
  },
  {
   "cell_type": "markdown",
   "metadata": {
    "heading_collapsed": true
   },
   "source": [
    "## Shaw - Irrational Knot"
   ]
  },
  {
   "cell_type": "code",
   "execution_count": null,
   "metadata": {
    "ExecuteTime": {},
    "heading_collapsed": true,
    "hidden": true
   },
   "outputs": [],
   "source": [
    "img_path = PATH/'knot'\n",
    "csv_path = PATH/'shaw_knot.csv'\n",
    "text_path = Path('data/texts/irrational_knot.txt')"
   ]
  },
  {
   "cell_type": "code",
   "execution_count": null,
   "metadata": {
    "ExecuteTime": {},
    "heading_collapsed": true,
    "hidden": true
   },
   "outputs": [],
   "source": [
    "# combine\n",
    "a = pd.read_csv(PATH/'shaw_knot.csv')\n",
    "b = pd.read_csv(PATH/'shaw_knot1.csv')\n",
    "new = pd.concat([a,b], ignore_index=True)\n",
    "new.head()"
   ]
  },
  {
   "cell_type": "code",
   "execution_count": null,
   "metadata": {
    "ExecuteTime": {},
    "heading_collapsed": true,
    "hidden": true
   },
   "outputs": [],
   "source": [
    "new.sort_values('filename', inplace=True)\n",
    "new.reset_index(inplace=True, drop=True)"
   ]
  },
  {
   "cell_type": "code",
   "execution_count": null,
   "metadata": {
    "ExecuteTime": {},
    "heading_collapsed": true,
    "hidden": true
   },
   "outputs": [],
   "source": [
    "new.to_csv(PATH/'shaw_knot_10k.csv', columns=['filename', 'label'], index=False)"
   ]
  },
  {
   "cell_type": "markdown",
   "metadata": {},
   "source": [
    "# Google Fonts"
   ]
  },
  {
   "cell_type": "code",
   "execution_count": null,
   "metadata": {
    "ExecuteTime": {},
    "heading_collapsed": true,
    "hidden": true
   },
   "outputs": [],
   "source": [
    "from selenium import webdriver\n",
    "from selenium.webdriver import ActionChains\n",
    "from selenium.webdriver.chrome.options import Options\n",
    "from selenium.webdriver.support.ui import WebDriverWait\n",
    "from selenium.webdriver.support import expected_conditions as EC\n",
    "from selenium.webdriver.common.by import By"
   ]
  },
  {
   "cell_type": "code",
   "execution_count": null,
   "metadata": {
    "ExecuteTime": {},
    "heading_collapsed": true,
    "hidden": true
   },
   "outputs": [],
   "source": [
    "#1050 width\n",
    "fonts = {'Indie Flower':29, 'Dancing Script':35, 'Pacifico':31, 'Shadows into Light':33, 'Satisfy':33, 'Courgette':28,\n",
    " 'Caveat':38, 'Butterfly Kids':43, 'Kaushan Script':32, 'Great Vibes':40, 'Cookie':44, 'Tangerine':49,\n",
    " 'Gloria Hallelujah':25, 'Sacramento':38, 'Marck Script':30, 'Gochi Hand':30, 'Bad Script':33, 'Yellowtail':39,\n",
    " 'Parisienne':34, 'Schoolbell':31, 'Homemade Apple':22, 'Allura':37, 'Damion':35, 'Alex Brush':36,\n",
    " 'Covered By Your Grace':35, 'Italianno':48, 'Mr Dafoe':37, 'Nothing You Could Do':26, 'Pinyon Script':34,\n",
    " 'Niconne':37, 'Nanum Pen Script':36, 'Yesteryear':39, 'Reenie Beanie':37, 'Leckerli One':27, 'Arizonia':33,\n",
    " 'Just Another Hand':61, 'Coming Soon':27, 'Rochester':39, 'Grand Hotel':42, 'Berkshire Swash':30,\n",
    " 'Nanum Brush Script':39, 'Norican':37, 'Annie Use Your Telescope':37, 'Sue Ellen Francisco':47,\n",
    " 'Herr Von MuellerHoff':49, 'Mr De Haviland':51, 'Calligraffitti':34, 'Kristi':50, 'Sofia':28, 'Aladin':38,\n",
    " 'The Girl Next Door':26, 'Give You Glory':27, 'Cedarville Cursive':27, 'Monsieur La Doulaise':36, 'Montez':40,\n",
    " 'Qwigley':53, 'Rouge Script':41, 'La Belle Aurore':29, 'Bilbo Swash Caps':45, 'Crafty Girls':24,\n",
    " 'Waiting For The Sunrise':32, 'Meddon':20, 'Aguafina Script':44, 'Loved By The King':39, 'Vibur':35,\n",
    " 'Just Me Again Down Here':42, 'Princess Sofia':37, 'Dawning Of A New Day':34, 'Mrs Saint Delafield':46,\n",
    " 'Over The Rainbow':27, 'Swanky and Moo Moo':31, 'Engagement':51, 'Sedgwick Ave Display':32, 'Mr Bedfort':33,\n",
    " 'Lovers Quarrel':54, 'Condiment':37, 'Charmonman':31, 'League Script':29, 'Bilbo':47, 'Gaegu':29, 'Stalemate':58,\n",
    " 'Julee':32, 'Jim Nightshade':43, 'Miss Fajardose':54, 'Ruthie':44, 'Dokdo':31, 'Mrs Sheppards':37, 'Dr Sugiyama':39,\n",
    " 'Felipa':37, 'Molle':25, 'Devonshire':42, 'East Sea Dokdo':43, 'Gamja Flower':35, 'Hi Melody':38, 'Ruge Boogie':43,\n",
    " 'Sunshiney':37, 'Romanesco':53, 'Lakki Reddy':28}\n",
    "\n",
    "# #1200 width\n",
    "# fonts = {'Indie Flower':37, 'Dancing Script':45, 'Pacifico':39, 'Shadows into Light':43, 'Satisfy':43, 'Courgette':36,\n",
    "#  'Caveat':48, 'Butterfly Kids':50, 'Kaushan Script':37, 'Great Vibes':45, 'Cookie':51, 'Tangerine':64,\n",
    "#  'Gloria Hallelujah':28, 'Sacramento':46, 'Marck Script':36, 'Gochi Hand':34, 'Bad Script':38, 'Yellowtail':44,\n",
    "#  'Parisienne':40, 'Schoolbell':35, 'Homemade Apple':25, 'Allura':44, 'Damion':40, 'Alex Brush':45,\n",
    "#  'Covered By Your Grace':40, 'Italianno':57, 'Mr Dafoe':43, 'Nothing You Could Do':29, 'Pinyon Script':40,\n",
    "#  'Niconne':44, 'Nanum Pen Script':42, 'Yesteryear':45, 'Reenie Beanie':42, 'Leckerli One':31, 'Arizonia':42,\n",
    "#  'Just Another Hand':70, 'Coming Soon':31, 'Rochester':44, 'Grand Hotel':49, 'Berkshire Swash':35,\n",
    "#  'Nanum Brush Script':45, 'Norican':42, 'Annie Use Your Telescope':42, 'Sue Ellen Francisco':55,\n",
    "#  'Herr Von MuellerHoff':59, 'Mr De Haviland':63, 'Calligraffitti':39, 'Kristi':59, 'Sofia':33, 'Aladin':44,\n",
    "#  'The Girl Next Door':30, 'Give You Glory':32, 'Cedarville Cursive':32, 'Monsieur La Doulaise':50, 'Montez':47,\n",
    "#  'Qwigley':62, 'Rouge Script':51, 'La Belle Aurore':35, 'Bilbo Swash Caps':53, 'Crafty Girls':27,\n",
    "#  'Waiting For The Sunrise':37, 'Meddon':25, 'Aguafina Script':51, 'Loved By The King':46, 'Vibur':41,\n",
    "#  'Just Me Again Down Here':48, 'Princess Sofia':42, 'Dawning Of A New Day':40, 'Mrs Saint Delafield':58,\n",
    "#  'Over The Rainbow':33, 'Swanky and Moo Moo':35, 'Engagement':59, 'Sedgwick Ave Display':36, 'Mr Bedfort':39,\n",
    "#  'Lovers Quarrel':64, 'Condiment':43, 'Charmonman':37, 'League Script':32, 'Bilbo':56, 'Gaegu':34, 'Stalemate':71,\n",
    "#  'Julee':37, 'Jim Nightshade':50, 'Miss Fajardose':70, 'Ruthie':53, 'Dokdo':35, 'Mrs Sheppards':43, 'Dr Sugiyama':48,\n",
    "#  'Felipa':43, 'Molle':30, 'Devonshire':49, 'East Sea Dokdo':49, 'Gamja Flower':39, 'Hi Melody':44, 'Ruge Boogie':50,\n",
    "#  'Sunshiney':43, 'Romanesco':63, 'Lakki Ready':32}"
   ]
  },
  {
   "cell_type": "code",
   "execution_count": null,
   "metadata": {
    "ExecuteTime": {},
    "heading_collapsed": true,
    "hidden": true
   },
   "outputs": [],
   "source": [
    "def set_font_size(driver, actions, value):\n",
    "    slider = driver.find_element_by_class_name('md-track-container') # whole container not just the slider\n",
    "    width = slider.size['width']\n",
    "    s_max,s_min = 300,8\n",
    "    step = width / (s_max - s_min)\n",
    "    val = int(step * (value - s_min + 1))\n",
    "    actions.click_and_hold(slider).move_by_offset(-width//2,0).move_by_offset(val,0).release().perform()"
   ]
  },
  {
   "cell_type": "code",
   "execution_count": null,
   "metadata": {
    "ExecuteTime": {},
    "heading_collapsed": true,
    "hidden": true
   },
   "outputs": [],
   "source": [
    "chrome_options = Options()\n",
    "chrome_options.add_argument(\"--headless\")  \n",
    "chrome_options.add_argument(\"--window-size=1050,1000\")   #(\"--window-size=%s\" % WINDOW_SIZE)"
   ]
  },
  {
   "cell_type": "markdown",
   "metadata": {},
   "source": [
    "## bulk"
   ]
  },
  {
   "cell_type": "code",
   "execution_count": null,
   "metadata": {
    "ExecuteTime": {},
    "heading_collapsed": true,
    "hidden": true
   },
   "outputs": [],
   "source": [
    "def new_driver():\n",
    "    try:\n",
    "        driver.close()\n",
    "    except:\n",
    "        pass\n",
    "\n",
    "    driver = webdriver.Chrome(options=chrome_options)\n",
    "    driver.get('https://fonts.google.com/?category=Handwriting')\n",
    "    #view as list\n",
    "    driver.find_element_by_class_name('font-preview-layout-toggle-button').click()\n",
    "    # remove scroll-to-top button\n",
    "    scroll_btn = driver.find_element_by_class_name('scroll-top-button-fab')\n",
    "    driver.execute_script(\"arguments[0].parentNode.removeChild(arguments[0]);\", scroll_btn)\n",
    "    return driver, ActionChains(driver), WebDriverWait(driver, 5)"
   ]
  },
  {
   "cell_type": "code",
   "execution_count": null,
   "metadata": {
    "ExecuteTime": {},
    "heading_collapsed": true,
    "hidden": true
   },
   "outputs": [],
   "source": [
    "def save_images(total, texts, num, img_path, csv_path, pre='', offset=0):\n",
    "    try:\n",
    "        res = []\n",
    "        for idx in progress_bar(range(total)):\n",
    "            # reset driver every now and then to keep from getting throttled\n",
    "            if idx%10 == 0: driver,actions,wait = new_driver()\n",
    "\n",
    "            # set font name and size\n",
    "            name = random.choice(list(fonts.keys()))\n",
    "            #font_input = driver.find_element_by_id('input_4')\n",
    "            font_input = wait.until(EC.element_to_be_clickable((By.ID, 'input_4')))\n",
    "            font_input.clear()\n",
    "            font_input.send_keys(name)\n",
    "            size = fonts[name] - random.randint(0,4)\n",
    "            set_font_size(driver, actions, size)\n",
    "\n",
    "            # sample texts\n",
    "            ts = np.random.choice(texts, num)\n",
    "            for i,t in enumerate(ts):\n",
    "                # input text\n",
    "                #text_form = driver.find_element_by_class_name('font-preview-text')\n",
    "                text_form = wait.until(EC.element_to_be_clickable((By.CLASS_NAME, 'font-preview-text')))\n",
    "                text_form.clear()\n",
    "                text_form.send_keys(t)\n",
    "                # remove cursor\n",
    "                font_input.send_keys(\"\")\n",
    "                # save img\n",
    "                fname = pre+'{:04d}'.format(idx+offset)+f\"_{i}.png\"\n",
    "                text_form.screenshot(str(img_path/fname))\n",
    "                res.append({'filename':fname, 'label':t, 'font':name, 'size':size})\n",
    "    except:\n",
    "        print(sys.exc_info())\n",
    "        driver.save_screenshot(str(img_path/'fail.png'))\n",
    "    finally:\n",
    "        pd.DataFrame(res).to_csv(csv_path, index=False)\n",
    "        driver.close()"
   ]
  },
  {
   "cell_type": "code",
   "execution_count": null,
   "metadata": {
    "ExecuteTime": {},
    "heading_collapsed": true,
    "hidden": true
   },
   "outputs": [],
   "source": [
    "csv_path = PATH/'wharton_age1.csv'"
   ]
  },
  {
   "cell_type": "code",
   "execution_count": null,
   "metadata": {
    "ExecuteTime": {},
    "heading_collapsed": true,
    "hidden": true
   },
   "outputs": [],
   "source": [
    "img_path, csv_path"
   ]
  },
  {
   "cell_type": "code",
   "execution_count": null,
   "metadata": {
    "ExecuteTime": {},
    "heading_collapsed": true,
    "hidden": true
   },
   "outputs": [],
   "source": [
    "!rm -rf {img_path}\n",
    "os.makedirs(img_path, exist_ok=True)"
   ]
  },
  {
   "cell_type": "code",
   "execution_count": null,
   "metadata": {
    "ExecuteTime": {},
    "heading_collapsed": true,
    "hidden": true,
    "scrolled": true
   },
   "outputs": [],
   "source": [
    "# save images\n",
    "save_images(2000, texts, 5, img_path, csv_path, pre='wharton_age_', offset=0)"
   ]
  },
  {
   "cell_type": "markdown",
   "metadata": {
    "heading_collapsed": true
   },
   "source": [
    "## Individual"
   ]
  },
  {
   "cell_type": "code",
   "execution_count": null,
   "metadata": {
    "ExecuteTime": {},
    "heading_collapsed": true,
    "hidden": true
   },
   "outputs": [],
   "source": [
    "opts = Options()\n",
    "opts.add_argument(\"--window-size=1050,1000\")   #(\"--window-size=%s\" % WINDOW_SIZE)"
   ]
  },
  {
   "cell_type": "code",
   "execution_count": null,
   "metadata": {
    "ExecuteTime": {},
    "heading_collapsed": true,
    "hidden": true
   },
   "outputs": [],
   "source": [
    "driver = webdriver.Chrome(options=opts)\n",
    "actions = ActionChains(driver)\n",
    "wait = WebDriverWait(driver, 5)"
   ]
  },
  {
   "cell_type": "code",
   "execution_count": null,
   "metadata": {
    "ExecuteTime": {},
    "heading_collapsed": true,
    "hidden": true
   },
   "outputs": [],
   "source": [
    "driver.get('https://fonts.google.com/?category=Handwriting')\n",
    "#view as list\n",
    "driver.find_element_by_class_name('font-preview-layout-toggle-button').click()\n",
    "# remove scroll-to-top button\n",
    "scroll_btn = driver.find_element_by_class_name('scroll-top-button-fab')\n",
    "driver.execute_script(\"arguments[0].parentNode.removeChild(arguments[0]);\", scroll_btn)"
   ]
  },
  {
   "cell_type": "code",
   "execution_count": null,
   "metadata": {
    "ExecuteTime": {},
    "heading_collapsed": true,
    "hidden": true
   },
   "outputs": [],
   "source": [
    "# set font name\n",
    "# font_input = driver.find_element_by_id('input_4')\n",
    "font_input = wait.until(EC.element_to_be_clickable((By.ID, 'input_4')))\n",
    "font_input.clear()\n",
    "name = random.choice(list(fonts.keys()))\n",
    "font_input.send_keys(name)\n",
    "\n",
    "# set font size\n",
    "size = fonts[name] - random.randint(0,4)\n",
    "set_font_size(driver, actions, size)"
   ]
  },
  {
   "cell_type": "code",
   "execution_count": null,
   "metadata": {
    "ExecuteTime": {},
    "heading_collapsed": true,
    "hidden": true
   },
   "outputs": [],
   "source": [
    "st = '''\"Take an old man's word; there's nothing worse than a muddle in\n",
    "all the world. It is easy to face Death and Fate, and the things'''"
   ]
  },
  {
   "cell_type": "code",
   "execution_count": null,
   "metadata": {
    "ExecuteTime": {},
    "heading_collapsed": true,
    "hidden": true
   },
   "outputs": [],
   "source": [
    "# input text\n",
    "# text_form = driver.find_element_by_class_name('font-preview-text')\n",
    "text_form = wait.until(EC.element_to_be_clickable((By.CLASS_NAME, 'font-preview-text')))\n",
    "text_form.clear()\n",
    "text_form.send_keys(st)"
   ]
  },
  {
   "cell_type": "code",
   "execution_count": null,
   "metadata": {
    "ExecuteTime": {},
    "heading_collapsed": true,
    "hidden": true
   },
   "outputs": [],
   "source": [
    "# driver.find_element_by_class_name('font-preview-button-bar').find_element_by_tag_name('button').click()\n",
    "# text_form.send_keys(\"\")\n",
    "# driver.find_element_by_class_name('font-preview-button-bar').find_element_by_tag_name('button').click()"
   ]
  },
  {
   "cell_type": "code",
   "execution_count": null,
   "metadata": {
    "ExecuteTime": {},
    "heading_collapsed": true,
    "hidden": true
   },
   "outputs": [],
   "source": [
    "name, size"
   ]
  },
  {
   "cell_type": "code",
   "execution_count": null,
   "metadata": {
    "ExecuteTime": {},
    "heading_collapsed": true,
    "hidden": true
   },
   "outputs": [],
   "source": [
    "text_form.size"
   ]
  },
  {
   "cell_type": "code",
   "execution_count": null,
   "metadata": {
    "ExecuteTime": {},
    "heading_collapsed": true,
    "hidden": true
   },
   "outputs": [],
   "source": [
    "text_form.screenshot(str(Path('data/fonts/test.png')))"
   ]
  },
  {
   "cell_type": "code",
   "execution_count": null,
   "metadata": {
    "ExecuteTime": {},
    "heading_collapsed": true,
    "hidden": true,
    "scrolled": true
   },
   "outputs": [],
   "source": [
    "driver.save_screenshot(str(Path('data/fonts/test.png')))"
   ]
  },
  {
   "cell_type": "code",
   "execution_count": null,
   "metadata": {
    "ExecuteTime": {},
    "heading_collapsed": true,
    "hidden": true
   },
   "outputs": [],
   "source": [
    "driver.close()"
   ]
  },
  {
   "cell_type": "markdown",
   "metadata": {
    "ExecuteTime": {},
    "heading_collapsed": true
   },
   "source": [
    "# Text Data"
   ]
  },
  {
   "cell_type": "code",
   "execution_count": null,
   "metadata": {
    "ExecuteTime": {},
    "heading_collapsed": true,
    "hidden": true
   },
   "outputs": [],
   "source": [
    "with open(text_path) as file:  \n",
    "    text = file.read()"
   ]
  },
  {
   "cell_type": "code",
   "execution_count": null,
   "metadata": {
    "ExecuteTime": {},
    "heading_collapsed": true,
    "hidden": true
   },
   "outputs": [],
   "source": [
    "lines = text.split('\\n\\n')\n",
    "len(lines)"
   ]
  },
  {
   "cell_type": "code",
   "execution_count": null,
   "metadata": {
    "ExecuteTime": {},
    "heading_collapsed": true,
    "hidden": true
   },
   "outputs": [],
   "source": [
    "df = pd.DataFrame({'text': lines})"
   ]
  },
  {
   "cell_type": "code",
   "execution_count": null,
   "metadata": {
    "ExecuteTime": {},
    "heading_collapsed": true,
    "hidden": true
   },
   "outputs": [],
   "source": [
    "# remove small lines\n",
    "df['char_len'] = df.text.map(len)\n",
    "df = df[df['char_len'] > 15]\n",
    "df.sort_values('char_len', inplace=True)\n",
    "df.head(5)"
   ]
  },
  {
   "cell_type": "code",
   "execution_count": null,
   "metadata": {
    "ExecuteTime": {},
    "heading_collapsed": true,
    "hidden": true
   },
   "outputs": [],
   "source": [
    "import textwrap\n",
    "\n",
    "# truncate text len to 1000 w/ textwrap\n",
    "df['text'] = df.text.map(lambda x: textwrap.wrap(x, width=1000, replace_whitespace=False)[0])\n",
    "df['char_len'] = df.text.map(len)\n",
    "df.sort_values('char_len', inplace=True, ascending=False)\n",
    "df.head(5)"
   ]
  },
  {
   "cell_type": "code",
   "execution_count": null,
   "metadata": {
    "ExecuteTime": {},
    "heading_collapsed": true,
    "hidden": true
   },
   "outputs": [],
   "source": [
    "print(df.text.values[0])"
   ]
  },
  {
   "cell_type": "code",
   "execution_count": null,
   "metadata": {
    "ExecuteTime": {},
    "heading_collapsed": true,
    "hidden": true
   },
   "outputs": [],
   "source": [
    "df.sort_index(inplace=True)"
   ]
  },
  {
   "cell_type": "code",
   "execution_count": null,
   "metadata": {
    "ExecuteTime": {},
    "heading_collapsed": true,
    "hidden": true
   },
   "outputs": [],
   "source": [
    "texts = df.text.values"
   ]
  },
  {
   "cell_type": "code",
   "execution_count": null,
   "metadata": {
    "ExecuteTime": {},
    "heading_collapsed": true,
    "hidden": true
   },
   "outputs": [],
   "source": [
    "print(texts[2])"
   ]
  },
  {
   "cell_type": "markdown",
   "metadata": {
    "ExecuteTime": {}
   },
   "source": [
    "# Verify"
   ]
  },
  {
   "cell_type": "code",
   "execution_count": null,
   "metadata": {
    "ExecuteTime": {},
    "heading_collapsed": true,
    "hidden": true
   },
   "outputs": [],
   "source": [
    "df = pd.read_csv(csv_path)\n",
    "df.tail()"
   ]
  },
  {
   "cell_type": "code",
   "execution_count": null,
   "metadata": {
    "ExecuteTime": {},
    "heading_collapsed": true,
    "hidden": true
   },
   "outputs": [],
   "source": [
    "def yrange(n, start=0):\n",
    "    while start < n:\n",
    "        yield start\n",
    "        start += 1\n",
    "        \n",
    "y = yrange(100,0)"
   ]
  },
  {
   "cell_type": "code",
   "execution_count": null,
   "metadata": {
    "ExecuteTime": {},
    "heading_collapsed": true,
    "hidden": true,
    "scrolled": true
   },
   "outputs": [],
   "source": [
    "i = next(y)\n",
    "row = df.iloc[i]\n",
    "im = Image.open(img_path/row.filename)\n",
    "fig,ax = plt.subplots(figsize=(18,10))\n",
    "ax.imshow(im)\n",
    "print(row.label)"
   ]
  },
  {
   "cell_type": "code",
   "execution_count": null,
   "metadata": {
    "ExecuteTime": {},
    "heading_collapsed": true,
    "hidden": true
   },
   "outputs": [],
   "source": []
  }
 ],
 "metadata": {
  "kernelspec": {
   "display_name": "Python 3",
   "language": "python",
   "name": "python3"
  },
  "language_info": {
   "codemirror_mode": {
    "name": "ipython",
    "version": 3
   },
   "file_extension": ".py",
   "mimetype": "text/x-python",
   "name": "python",
   "nbconvert_exporter": "python",
   "pygments_lexer": "ipython3",
   "version": "3.7.3"
  },
  "toc": {
   "nav_menu": {},
   "number_sections": true,
   "sideBar": true,
   "skip_h1_title": false,
   "title_cell": "Table of Contents",
   "title_sidebar": "Contents",
   "toc_cell": false,
   "toc_position": {},
   "toc_section_display": true,
   "toc_window_display": false
  },
  "varInspector": {
   "cols": {
    "lenName": 16,
    "lenType": 16,
    "lenVar": 40
   },
   "kernels_config": {
    "python": {
     "delete_cmd_postfix": "",
     "delete_cmd_prefix": "del ",
     "library": "var_list.py",
     "varRefreshCmd": "print(var_dic_list())"
    },
    "r": {
     "delete_cmd_postfix": ") ",
     "delete_cmd_prefix": "rm(",
     "library": "var_list.r",
     "varRefreshCmd": "cat(var_dic_list()) "
    }
   },
   "types_to_exclude": [
    "module",
    "function",
    "builtin_function_or_method",
    "instance",
    "_Feature"
   ],
   "window_display": false
  }
 },
 "nbformat": 4,
 "nbformat_minor": 2
}
