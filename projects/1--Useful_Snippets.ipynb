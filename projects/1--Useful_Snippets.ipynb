{
 "cells": [
  {
   "cell_type": "markdown",
   "metadata": {},
   "source": [
    "# Debug"
   ]
  },
  {
   "cell_type": "code",
   "execution_count": null,
   "metadata": {
    "ExecuteTime": {},
    "heading_collapsed": true,
    "hidden": true
   },
   "outputs": [],
   "source": [
    "### RuntimeError: cuda runtime error (59) : device-side assert triggered ###\n",
    "\n",
    "import os\n",
    "os.environ['CUDA_LAUNCH_BLOCKING'] = '1'"
   ]
  },
  {
   "cell_type": "markdown",
   "metadata": {},
   "source": [
    "# Memory"
   ]
  },
  {
   "cell_type": "code",
   "execution_count": null,
   "metadata": {
    "ExecuteTime": {},
    "heading_collapsed": true,
    "hidden": true
   },
   "outputs": [],
   "source": [
    "import psutil\n",
    "\n",
    "def memory_func(name):\n",
    "    print(f\"{name}: {psutil.virtual_memory().percent}\")\n",
    "\n",
    "def memory_usage(fn, *args, **kwargs):\n",
    "    before = psutil.virtual_memory().used\n",
    "    res = fn(*args, **kwargs)\n",
    "    after = psutil.virtual_memory().used\n",
    "    mem = after-before\n",
    "    return res, round(mem / math.pow(1024,2), 2)"
   ]
  },
  {
   "cell_type": "markdown",
   "metadata": {},
   "source": [
    "# Images"
   ]
  },
  {
   "cell_type": "code",
   "execution_count": null,
   "metadata": {
    "ExecuteTime": {},
    "heading_collapsed": true,
    "hidden": true
   },
   "outputs": [],
   "source": [
    "def show_img(im, figsize=None, ax=None, alpha=None, title=None):\n",
    "    if not ax: fig,ax = plt.subplots(figsize=figsize)\n",
    "    ax.imshow(image2np(im.data), alpha=alpha)\n",
    "    if title: ax.set_title(title)\n",
    "    return ax"
   ]
  },
  {
   "cell_type": "markdown",
   "metadata": {},
   "source": [
    "# Model Telemetry"
   ]
  },
  {
   "cell_type": "code",
   "execution_count": null,
   "metadata": {
    "ExecuteTime": {},
    "heading_collapsed": true,
    "hidden": true
   },
   "outputs": [],
   "source": [
    "from fastai.callbacks.hooks import *"
   ]
  },
  {
   "cell_type": "code",
   "execution_count": null,
   "metadata": {
    "ExecuteTime": {},
    "heading_collapsed": true,
    "hidden": true
   },
   "outputs": [],
   "source": [
    "class FullStats(HookCallback):\n",
    "    def on_train_begin(self, **kwargs):\n",
    "        self.modules = [m for m in flatten_model(self.learn.model) if hasattr(m, 'weight')]\n",
    "        self.g_hooks = Hooks(self.modules, self.g_hook, is_forward=False)\n",
    "        self.a_hooks = Hooks(self.modules, self.a_hook)\n",
    "        self.grads,self.acts = [],[]\n",
    "\n",
    "    def g_hook(self, m:nn.Module, i:Tensors, o:Tensors)->Tuple[Rank0Tensor,Rank0Tensor]:\n",
    "        oo = next(o)\n",
    "        return oo.mean().item(),oo.std().item()\n",
    "    \n",
    "    def a_hook(self, m:nn.Module, i:Tensors, o:Tensors)->Tuple[Rank0Tensor,Rank0Tensor]:\n",
    "        return o.mean().item(),o.std().item()\n",
    "\n",
    "    def on_batch_end(self, train, **kwargs):\n",
    "        if train:\n",
    "            self.acts.append(self.a_hooks.stored)\n",
    "            self.grads.append(self.g_hooks.stored)\n",
    "            \n",
    "    def on_train_end(self, **kwargs):\n",
    "        self.a_hooks.remove()\n",
    "        self.g_hooks.remove()\n",
    "        self.acts = tensor(self.acts).permute(2,1,0)\n",
    "        self.grads = tensor(self.grads).permute(2,1,0)"
   ]
  },
  {
   "cell_type": "code",
   "execution_count": null,
   "metadata": {
    "ExecuteTime": {},
    "heading_collapsed": true,
    "hidden": true
   },
   "outputs": [],
   "source": [
    "learn.fit(1, 1e-5, callbacks=[FullStats(learn)])#, StopAfterNBatches(n_batches=2)])"
   ]
  },
  {
   "cell_type": "code",
   "execution_count": null,
   "metadata": {
    "ExecuteTime": {},
    "heading_collapsed": true,
    "hidden": true
   },
   "outputs": [],
   "source": [
    "acts,grads = learn.full_stats.acts, learn.full_stats.grads\n",
    "acts.shape,grads.shape"
   ]
  },
  {
   "cell_type": "code",
   "execution_count": null,
   "metadata": {
    "ExecuteTime": {},
    "heading_collapsed": true,
    "hidden": true
   },
   "outputs": [],
   "source": [
    "avg_act_stds_by_layer = acts[1,:].mean(-1)\n",
    "avg_grad_stds_by_layer = grads[1,:].mean(-1)\n",
    "\n",
    "plt.plot(avg_act_stds_by_layer)\n",
    "\n",
    "plt.plot(avg_grad_stds_by_layer)\n",
    "\n",
    "for (i,mod),a,g in zip(enumerate(names), avg_act_stds_by_layer, avg_grad_stds_by_layer):\n",
    "    mod_name = str(mod).split('(')[0]\n",
    "    print(f\"{str(i).ljust(3)} {mod_name.ljust(60)} \\\n",
    "            {str(round(a.item(),5)).ljust(6)} {str(round(g.item(),5)).ljust(6)}\")\n",
    "\n",
    "# Last batch activations by layer\n",
    "\n",
    "for (i,mod),m,s in zip(enumerate(names), acts[0,:,-1], acts[1,:,-1]):\n",
    "    mod_name = str(mod).split('(')[0]\n",
    "    print(f\"{str(i).ljust(3)} {mod_name.ljust(50)} \\\n",
    "            {str(round(m.item(),5)).ljust(6)}  {str(round(s.item(),5)).ljust(6)}\")"
   ]
  }
 ],
 "metadata": {
  "kernelspec": {
   "display_name": "Python 3",
   "language": "python",
   "name": "python3"
  },
  "language_info": {
   "codemirror_mode": {
    "name": "ipython",
    "version": 3
   },
   "file_extension": ".py",
   "mimetype": "text/x-python",
   "name": "python",
   "nbconvert_exporter": "python",
   "pygments_lexer": "ipython3",
   "version": "3.6.5"
  },
  "varInspector": {
   "cols": {
    "lenName": 16,
    "lenType": 16,
    "lenVar": 40
   },
   "kernels_config": {
    "python": {
     "delete_cmd_postfix": "",
     "delete_cmd_prefix": "del ",
     "library": "var_list.py",
     "varRefreshCmd": "print(var_dic_list())"
    },
    "r": {
     "delete_cmd_postfix": ") ",
     "delete_cmd_prefix": "rm(",
     "library": "var_list.r",
     "varRefreshCmd": "cat(var_dic_list()) "
    }
   },
   "types_to_exclude": [
    "module",
    "function",
    "builtin_function_or_method",
    "instance",
    "_Feature"
   ],
   "window_display": false
  }
 },
 "nbformat": 4,
 "nbformat_minor": 2
}
