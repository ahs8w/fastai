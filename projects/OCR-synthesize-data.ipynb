{
 "cells": [
  {
   "cell_type": "code",
   "execution_count": 1,
   "metadata": {
    "ExecuteTime": {
     "end_time": "2019-04-30T21:45:41.740149Z",
     "start_time": "2019-04-30T21:45:41.334875Z"
    }
   },
   "outputs": [],
   "source": [
    "%matplotlib inline\n",
    "%reload_ext autoreload\n",
    "%autoreload 2"
   ]
  },
  {
   "cell_type": "code",
   "execution_count": 2,
   "metadata": {
    "ExecuteTime": {
     "end_time": "2019-04-30T21:45:43.565545Z",
     "start_time": "2019-04-30T21:45:41.793190Z"
    }
   },
   "outputs": [
    {
     "name": "stderr",
     "output_type": "stream",
     "text": [
      "/Users/adamschiller/anaconda3/envs/fastai-cpu/lib/python3.6/site-packages/sklearn/ensemble/weight_boosting.py:29: DeprecationWarning: numpy.core.umath_tests is an internal NumPy module and should not be imported. It will be removed in a future NumPy release.\n",
      "  from numpy.core.umath_tests import inner1d\n"
     ]
    }
   ],
   "source": [
    "from fastai.conv_learner import *\n",
    "from fastai.text import *\n",
    "\n",
    "import textwrap"
   ]
  },
  {
   "cell_type": "code",
   "execution_count": 3,
   "metadata": {
    "ExecuteTime": {
     "end_time": "2019-04-30T21:45:43.747529Z",
     "start_time": "2019-04-30T21:45:43.694329Z"
    }
   },
   "outputs": [],
   "source": [
    "PATH = Path('data/IAM_handwriting')\n",
    "TMP_PATH = PATH/'tmp'"
   ]
  },
  {
   "cell_type": "code",
   "execution_count": 4,
   "metadata": {
    "ExecuteTime": {
     "end_time": "2019-04-30T21:45:43.929158Z",
     "start_time": "2019-04-30T21:45:43.873017Z"
    }
   },
   "outputs": [
    {
     "data": {
      "text/plain": [
       "device(type='cpu')"
      ]
     },
     "execution_count": 4,
     "metadata": {},
     "output_type": "execute_result"
    }
   ],
   "source": [
    "device = torch.device('cuda' if torch.cuda.is_available() else 'cpu')\n",
    "device"
   ]
  },
  {
   "cell_type": "markdown",
   "metadata": {},
   "source": [
    "# Helpers"
   ]
  },
  {
   "cell_type": "code",
   "execution_count": 9,
   "metadata": {
    "ExecuteTime": {
     "end_time": "2019-04-30T21:45:50.658061Z",
     "start_time": "2019-04-30T21:45:50.604899Z"
    }
   },
   "outputs": [],
   "source": [
    "def standardize_imgs(imgs, baseheight):\n",
    "    resized_imgs = []\n",
    "    for img in imgs:\n",
    "        hpercent = (baseheight / float(img.size[1]))\n",
    "        wsize = int((float(img.size[0]) * float(hpercent)))\n",
    "        img = img.resize((wsize, baseheight), PIL.Image.ANTIALIAS)\n",
    "        resized_imgs.append(img)\n",
    "    return resized_imgs"
   ]
  },
  {
   "cell_type": "code",
   "execution_count": 5,
   "metadata": {
    "ExecuteTime": {
     "end_time": "2019-04-30T21:45:44.945189Z",
     "start_time": "2019-04-30T21:45:44.893177Z"
    }
   },
   "outputs": [],
   "source": [
    "def resize_max(im, size=512):\n",
    "    \"Resize an image so that the largest dimension is of specified size\"\n",
    "    r,c = im.size\n",
    "    ratio = size/max(r,c)\n",
    "    return im.resize((int(r*ratio), int(c*ratio)), Image.ANTIALIAS)"
   ]
  },
  {
   "cell_type": "code",
   "execution_count": 70,
   "metadata": {
    "ExecuteTime": {
     "end_time": "2019-04-30T22:36:30.010811Z",
     "start_time": "2019-04-30T22:36:29.955774Z"
    }
   },
   "outputs": [],
   "source": [
    "def square_max(im, top_left=False, size=None):\n",
    "    '''\n",
    "    Add whitespace to square an image by its largest dimension.\n",
    "    Args:\n",
    "        top_left: image is aligned with the top_left corner\n",
    "        size: size of final squared image.  If left blank size = largest dimension\n",
    "    '''\n",
    "    \n",
    "    r,c = im.size\n",
    "    sz = size if size is not None else max(r,c)\n",
    "    new_im = Image.new('RGB', (sz, sz), color=(255,255,255))  # new white image\n",
    "    \n",
    "    # box logic\n",
    "    if top_left:\n",
    "        box = (0,0)\n",
    "    else:\n",
    "        if sz == r:\n",
    "            box = (0,random.randint(0,sz-c)) \n",
    "        elif sz == c:\n",
    "            box = (random.randint(0,sz-r),0)\n",
    "        else:\n",
    "            box = (random.randint(0,sz-r),random.randint(0,sz-c))\n",
    "            \n",
    "    new_im.paste(im, box=box)\n",
    "    return new_im"
   ]
  },
  {
   "cell_type": "code",
   "execution_count": 74,
   "metadata": {
    "ExecuteTime": {
     "end_time": "2019-04-30T22:39:27.430290Z",
     "start_time": "2019-04-30T22:39:27.375559Z"
    }
   },
   "outputs": [],
   "source": [
    "def resize_dir(fn, src, targ=None):\n",
    "    if targ is None: targ = src\n",
    "    dirs = os.listdir(src)\n",
    "    for item in tqdm(dirs):\n",
    "        if os.path.isdir(src/item): continue     # skip if src dir\n",
    "#         if os.path.isfile(targ/item): continue   # skip if file exists in targ dir\n",
    "        im = Image.open(src/item)\n",
    "        rsz = fn(im)\n",
    "        rsz.save(targ/item)\n",
    "        rsz.close()\n",
    "        im.close()"
   ]
  },
  {
   "cell_type": "code",
   "execution_count": 76,
   "metadata": {
    "ExecuteTime": {
     "end_time": "2019-04-30T22:40:32.482453Z",
     "start_time": "2019-04-30T22:40:32.430008Z"
    }
   },
   "outputs": [],
   "source": [
    "def resize_to_square(src_dir, targ_dir, size):\n",
    "    \"Resize and square all images in src_dir and save in targ_dir\"\n",
    "    resize_dir(partial(resize_max, size=size), src_dir, targ_dir)\n",
    "    resize_dir(square_max, targ_dir)"
   ]
  },
  {
   "cell_type": "markdown",
   "metadata": {
    "heading_collapsed": true
   },
   "source": [
    "# Batch Resize"
   ]
  },
  {
   "cell_type": "code",
   "execution_count": 64,
   "metadata": {
    "ExecuteTime": {
     "end_time": "2019-04-30T22:29:34.298335Z",
     "start_time": "2019-04-30T22:29:34.245000Z"
    },
    "hidden": true
   },
   "outputs": [],
   "source": [
    "src_path = PATH/'cat_lines'\n",
    "targ_path = PATH/'resized_cat_lines'\n",
    "os.makedirs(targ_path, exist_ok=True)"
   ]
  },
  {
   "cell_type": "code",
   "execution_count": 65,
   "metadata": {
    "ExecuteTime": {
     "end_time": "2019-04-30T22:29:50.221163Z",
     "start_time": "2019-04-30T22:29:34.733329Z"
    },
    "hidden": true
   },
   "outputs": [
    {
     "name": "stdout",
     "output_type": "stream",
     "text": [
      "100%|██████████| 101/101 [00:04<00:00, 21.01it/s]\n",
      "100%|██████████| 100/100 [00:10<00:00,  9.92it/s]\n"
     ]
    }
   ],
   "source": [
    "resize_to_square(src_path, targ_path, 1000)"
   ]
  },
  {
   "cell_type": "code",
   "execution_count": 75,
   "metadata": {
    "ExecuteTime": {
     "end_time": "2019-04-30T22:39:41.018604Z",
     "start_time": "2019-04-30T22:39:30.398886Z"
    },
    "hidden": true
   },
   "outputs": [
    {
     "name": "stdout",
     "output_type": "stream",
     "text": [
      "100%|██████████| 100/100 [00:02<00:00, 42.25it/s]\n",
      "100%|██████████| 100/100 [00:08<00:00, 12.22it/s]\n"
     ]
    }
   ],
   "source": [
    "resize_dir(partial(resize_max, size=512), src_path)\n",
    "resize_dir(partial(square_max, size=1000), src_path)"
   ]
  },
  {
   "cell_type": "markdown",
   "metadata": {},
   "source": [
    "# Synthesize Data"
   ]
  },
  {
   "cell_type": "markdown",
   "metadata": {
    "heading_collapsed": true
   },
   "source": [
    "## Lines"
   ]
  },
  {
   "cell_type": "markdown",
   "metadata": {
    "hidden": true
   },
   "source": [
    "### DataFrame"
   ]
  },
  {
   "cell_type": "code",
   "execution_count": 10,
   "metadata": {
    "ExecuteTime": {
     "end_time": "2019-04-30T21:45:53.242232Z",
     "start_time": "2019-04-30T21:45:52.813427Z"
    },
    "hidden": true
   },
   "outputs": [
    {
     "data": {
      "text/html": [
       "<div>\n",
       "<style scoped>\n",
       "    .dataframe tbody tr th:only-of-type {\n",
       "        vertical-align: middle;\n",
       "    }\n",
       "\n",
       "    .dataframe tbody tr th {\n",
       "        vertical-align: top;\n",
       "    }\n",
       "\n",
       "    .dataframe thead th {\n",
       "        text-align: right;\n",
       "    }\n",
       "</style>\n",
       "<table border=\"1\" class=\"dataframe\">\n",
       "  <thead>\n",
       "    <tr style=\"text-align: right;\">\n",
       "      <th></th>\n",
       "      <th>filename</th>\n",
       "      <th>result</th>\n",
       "      <th>value</th>\n",
       "      <th>text</th>\n",
       "      <th>text_len</th>\n",
       "    </tr>\n",
       "  </thead>\n",
       "  <tbody>\n",
       "    <tr>\n",
       "      <th>0</th>\n",
       "      <td>a01-000u-00</td>\n",
       "      <td>ok</td>\n",
       "      <td>A|MOVE|to|stop|Mr.|Gaitskell|from</td>\n",
       "      <td>A MOVE to stop Mr. Gaitskell from</td>\n",
       "      <td>33</td>\n",
       "    </tr>\n",
       "    <tr>\n",
       "      <th>1</th>\n",
       "      <td>a01-000u-01</td>\n",
       "      <td>ok</td>\n",
       "      <td>nominating|any|more|Labour|life|Peers</td>\n",
       "      <td>nominating any more Labour life Peers</td>\n",
       "      <td>37</td>\n",
       "    </tr>\n",
       "    <tr>\n",
       "      <th>2</th>\n",
       "      <td>a01-000u-02</td>\n",
       "      <td>ok</td>\n",
       "      <td>is|to|be|made|at|a|meeting|of|Labour</td>\n",
       "      <td>is to be made at a meeting of Labour</td>\n",
       "      <td>36</td>\n",
       "    </tr>\n",
       "    <tr>\n",
       "      <th>3</th>\n",
       "      <td>a01-000u-03</td>\n",
       "      <td>err</td>\n",
       "      <td>MPs|tomorrow|.|Mr.|Michael|Foot|has</td>\n",
       "      <td>MPs tomorrow . Mr. Michael Foot has</td>\n",
       "      <td>35</td>\n",
       "    </tr>\n",
       "    <tr>\n",
       "      <th>4</th>\n",
       "      <td>a01-000u-04</td>\n",
       "      <td>ok</td>\n",
       "      <td>put|down|a|resolution|on|the|subject</td>\n",
       "      <td>put down a resolution on the subject</td>\n",
       "      <td>36</td>\n",
       "    </tr>\n",
       "  </tbody>\n",
       "</table>\n",
       "</div>"
      ],
      "text/plain": [
       "      filename result                                  value  \\\n",
       "0  a01-000u-00     ok      A|MOVE|to|stop|Mr.|Gaitskell|from   \n",
       "1  a01-000u-01     ok  nominating|any|more|Labour|life|Peers   \n",
       "2  a01-000u-02     ok   is|to|be|made|at|a|meeting|of|Labour   \n",
       "3  a01-000u-03    err    MPs|tomorrow|.|Mr.|Michael|Foot|has   \n",
       "4  a01-000u-04     ok   put|down|a|resolution|on|the|subject   \n",
       "\n",
       "                                    text  text_len  \n",
       "0      A MOVE to stop Mr. Gaitskell from        33  \n",
       "1  nominating any more Labour life Peers        37  \n",
       "2   is to be made at a meeting of Labour        36  \n",
       "3    MPs tomorrow . Mr. Michael Foot has        35  \n",
       "4   put down a resolution on the subject        36  "
      ]
     },
     "execution_count": 10,
     "metadata": {},
     "output_type": "execute_result"
    }
   ],
   "source": [
    "df = pd.read_csv(f'{PATH}/ascii/lines.txt', names=['filename','result','value'], escapechar='\\\\',\n",
    "                          delim_whitespace=True, skiprows=23, header=None, usecols=[0,1,8])\n",
    "df['text'] = df.apply(lambda row: row.value.replace('|', ' '), axis=1)\n",
    "\n",
    "# calculate character lengths\n",
    "lgts = df.text.apply(len)  \n",
    "df['text_len'] = lgts.astype('int32')\n",
    "\n",
    "df.head()"
   ]
  },
  {
   "cell_type": "code",
   "execution_count": 11,
   "metadata": {
    "ExecuteTime": {
     "end_time": "2019-04-30T21:45:53.500650Z",
     "start_time": "2019-04-30T21:45:53.437552Z"
    },
    "hidden": true
   },
   "outputs": [
    {
     "data": {
      "text/plain": [
       "10940"
      ]
     },
     "execution_count": 11,
     "metadata": {},
     "output_type": "execute_result"
    }
   ],
   "source": [
    "df = df[df.result != 'err']\n",
    "df = df.loc[df['text_len'] > 20]\n",
    "len(df)"
   ]
  },
  {
   "cell_type": "code",
   "execution_count": 12,
   "metadata": {
    "ExecuteTime": {
     "end_time": "2019-04-30T21:45:54.236749Z",
     "start_time": "2019-04-30T21:45:54.180360Z"
    },
    "hidden": true
   },
   "outputs": [
    {
     "data": {
      "text/plain": [
       "(21, 43.0, 93)"
      ]
     },
     "execution_count": 12,
     "metadata": {},
     "output_type": "execute_result"
    }
   ],
   "source": [
    "df.text_len.min(), df.text_len.median(), df.text_len.max()"
   ]
  },
  {
   "cell_type": "markdown",
   "metadata": {
    "heading_collapsed": true,
    "hidden": true
   },
   "source": [
    "### remove lines in paragraph validation set"
   ]
  },
  {
   "cell_type": "code",
   "execution_count": 13,
   "metadata": {
    "ExecuteTime": {
     "end_time": "2019-04-30T21:45:56.826383Z",
     "start_time": "2019-04-30T21:45:56.748735Z"
    },
    "hidden": true
   },
   "outputs": [],
   "source": [
    "# get paragraph val idxs\n",
    "PG_CSV = PATH/'paragraph_chars.csv'\n",
    "pg_csv = pd.read_csv(PG_CSV)\n",
    "val_idxs = np.array(pg_csv.sample(frac=0.15, random_state=42).index)"
   ]
  },
  {
   "cell_type": "code",
   "execution_count": 14,
   "metadata": {
    "ExecuteTime": {
     "end_time": "2019-04-30T21:45:57.098193Z",
     "start_time": "2019-04-30T21:45:57.045469Z"
    },
    "hidden": true
   },
   "outputs": [],
   "source": [
    "names = pg_csv.filename[val_idxs].values\n",
    "names = [name[:-4] for name in names]"
   ]
  },
  {
   "cell_type": "code",
   "execution_count": 15,
   "metadata": {
    "ExecuteTime": {
     "end_time": "2019-04-30T21:45:57.475727Z",
     "start_time": "2019-04-30T21:45:57.421390Z"
    },
    "hidden": true
   },
   "outputs": [],
   "source": [
    "fnames = df.filename.values\n",
    "fnames = [name[:-3] for name in fnames]"
   ]
  },
  {
   "cell_type": "code",
   "execution_count": 16,
   "metadata": {
    "ExecuteTime": {
     "end_time": "2019-04-30T21:45:57.953805Z",
     "start_time": "2019-04-30T21:45:57.899048Z"
    },
    "hidden": true
   },
   "outputs": [
    {
     "data": {
      "text/plain": [
       "(1638, 10940)"
      ]
     },
     "execution_count": 16,
     "metadata": {},
     "output_type": "execute_result"
    }
   ],
   "source": [
    "st = set(names)\n",
    "vals = [i for i, e in enumerate(fnames) if e in st]\n",
    "len(vals), len(fnames)"
   ]
  },
  {
   "cell_type": "code",
   "execution_count": 17,
   "metadata": {
    "ExecuteTime": {
     "end_time": "2019-04-30T21:45:59.220422Z",
     "start_time": "2019-04-30T21:45:59.109038Z"
    },
    "hidden": true
   },
   "outputs": [
    {
     "data": {
      "text/plain": [
       "9302"
      ]
     },
     "execution_count": 17,
     "metadata": {},
     "output_type": "execute_result"
    }
   ],
   "source": [
    "# remove vals from df\n",
    "df.drop(df.index[vals], inplace=True)\n",
    "len(df)"
   ]
  },
  {
   "cell_type": "markdown",
   "metadata": {
    "hidden": true
   },
   "source": [
    "### Create Data"
   ]
  },
  {
   "cell_type": "code",
   "execution_count": 18,
   "metadata": {
    "ExecuteTime": {
     "end_time": "2019-04-30T21:46:03.751646Z",
     "start_time": "2019-04-30T21:46:03.692812Z"
    },
    "hidden": true
   },
   "outputs": [],
   "source": [
    "def create_img(imgs, targ, sz=None, max_size=1000, pad=30):\n",
    "    if sz==None: sz=(1, len(files))  #(w,h)\n",
    "    w = 1 #sz[0]  \n",
    "    h = sz  #sz[1]\n",
    "        \n",
    "    widths, heights = zip(*(i.size for i in imgs))\n",
    "    \n",
    "    median_height = int(np.median(heights))\n",
    "    stzd_imgs = standardize_imgs(imgs, median_height)\n",
    "    lines = [stzd_imgs[i:i + w] for i in range(0, len(stzd_imgs), w)]\n",
    "    \n",
    "    total_width = max([np.sum([word.size[0] for word in line]) for line in lines]) + (pad*(w+1))   \n",
    "    total_height = (median_height * h) + (pad*(h+1)) #sum(heights)\n",
    "\n",
    "    new_im = Image.new('RGB', (total_width, total_height), color=(255,255,255))\n",
    "\n",
    "    y_offset = pad\n",
    "    x_offset = pad\n",
    "    \n",
    "    for line in lines:\n",
    "        x_offset = pad\n",
    "        for word in line:\n",
    "            new_im.paste(word, (x_offset,y_offset))\n",
    "            x_offset += word.size[0] + pad\n",
    "        y_offset += median_height + pad\n",
    "    \n",
    "    resize_max(new_im, max_size).save(targ)\n",
    "#     new_im.save(synth_path/fname)"
   ]
  },
  {
   "cell_type": "code",
   "execution_count": 19,
   "metadata": {
    "ExecuteTime": {
     "end_time": "2019-04-30T21:46:04.459293Z",
     "start_time": "2019-04-30T21:46:04.404433Z"
    },
    "hidden": true
   },
   "outputs": [],
   "source": [
    "# number of words/image\n",
    "def create_synth_data(num, num_lines, src_path, targ_path, max_size=None, offset=0):\n",
    "    d={}\n",
    "    for i in tqdm(range(num)):\n",
    "        samp = df.sample(num_lines)\n",
    "        files = list(map(lambda x: x+'.png', samp.filename.values))\n",
    "        imgs  = [Image.open(src_path/f) for f in files]\n",
    "        label = ' '.join(samp.text.values)\n",
    "\n",
    "        fname = str(num_lines)+'_'+'{:04d}'.format(i+offset)+'.png'\n",
    "        create_img(imgs, targ_path/fname, num_lines, max_size)\n",
    "        [f.close() for f in imgs]\n",
    "        d[fname] = label\n",
    "    return d"
   ]
  },
  {
   "cell_type": "code",
   "execution_count": 20,
   "metadata": {
    "ExecuteTime": {
     "end_time": "2019-04-30T21:46:15.237457Z",
     "start_time": "2019-04-30T21:46:06.676904Z"
    },
    "hidden": true
   },
   "outputs": [
    {
     "name": "stdout",
     "output_type": "stream",
     "text": [
      "100%|██████████| 100/100 [00:08<00:00, 11.87it/s]\n"
     ]
    },
    {
     "data": {
      "text/plain": [
       "100"
      ]
     },
     "execution_count": 20,
     "metadata": {},
     "output_type": "execute_result"
    }
   ],
   "source": [
    "src_path = PATH/'lines'\n",
    "targ_path = PATH/'cat_lines'\n",
    "\n",
    "num_lines = 3\n",
    "d = create_synth_data(100, num_lines, src_path, targ_path)\n",
    "len(d)"
   ]
  },
  {
   "cell_type": "code",
   "execution_count": 21,
   "metadata": {
    "ExecuteTime": {
     "end_time": "2019-04-30T21:46:15.472749Z",
     "start_time": "2019-04-30T21:46:15.410648Z"
    },
    "hidden": true,
    "scrolled": true
   },
   "outputs": [
    {
     "data": {
      "text/html": [
       "<div>\n",
       "<style scoped>\n",
       "    .dataframe tbody tr th:only-of-type {\n",
       "        vertical-align: middle;\n",
       "    }\n",
       "\n",
       "    .dataframe tbody tr th {\n",
       "        vertical-align: top;\n",
       "    }\n",
       "\n",
       "    .dataframe thead th {\n",
       "        text-align: right;\n",
       "    }\n",
       "</style>\n",
       "<table border=\"1\" class=\"dataframe\">\n",
       "  <thead>\n",
       "    <tr style=\"text-align: right;\">\n",
       "      <th></th>\n",
       "      <th>filename</th>\n",
       "      <th>labels</th>\n",
       "    </tr>\n",
       "  </thead>\n",
       "  <tbody>\n",
       "    <tr>\n",
       "      <th>0</th>\n",
       "      <td>3_0000.png</td>\n",
       "      <td>had tin mugs filled with hot black coffee brou...</td>\n",
       "    </tr>\n",
       "    <tr>\n",
       "      <th>1</th>\n",
       "      <td>3_0001.png</td>\n",
       "      <td>at the speed recorder . It seemed almost incre...</td>\n",
       "    </tr>\n",
       "    <tr>\n",
       "      <th>2</th>\n",
       "      <td>3_0002.png</td>\n",
       "      <td>At last Derek got tired and left . letter . Sh...</td>\n",
       "    </tr>\n",
       "    <tr>\n",
       "      <th>3</th>\n",
       "      <td>3_0003.png</td>\n",
       "      <td>During that time a description of the girl was...</td>\n",
       "    </tr>\n",
       "    <tr>\n",
       "      <th>4</th>\n",
       "      <td>3_0004.png</td>\n",
       "      <td>The Foreign Ministry spokesman added him a gre...</td>\n",
       "    </tr>\n",
       "  </tbody>\n",
       "</table>\n",
       "</div>"
      ],
      "text/plain": [
       "     filename                                             labels\n",
       "0  3_0000.png  had tin mugs filled with hot black coffee brou...\n",
       "1  3_0001.png  at the speed recorder . It seemed almost incre...\n",
       "2  3_0002.png  At last Derek got tired and left . letter . Sh...\n",
       "3  3_0003.png  During that time a description of the girl was...\n",
       "4  3_0004.png  The Foreign Ministry spokesman added him a gre..."
      ]
     },
     "execution_count": 21,
     "metadata": {},
     "output_type": "execute_result"
    }
   ],
   "source": [
    "synth = pd.DataFrame({'filename': list(d.keys()), 'labels': list(d.values())})\n",
    "synth.head()"
   ]
  },
  {
   "cell_type": "code",
   "execution_count": null,
   "metadata": {
    "hidden": true
   },
   "outputs": [],
   "source": []
  },
  {
   "cell_type": "code",
   "execution_count": 166,
   "metadata": {
    "ExecuteTime": {
     "end_time": "2019-03-15T19:59:35.408421Z",
     "start_time": "2019-03-15T18:42:24.611976Z"
    },
    "hidden": true
   },
   "outputs": [
    {
     "name": "stdout",
     "output_type": "stream",
     "text": [
      "100%|██████████| 5000/5000 [16:35<00:00,  5.02it/s]\n",
      "100%|██████████| 5000/5000 [18:33<00:00,  4.49it/s]\n",
      "100%|██████████| 5000/5000 [19:58<00:00,  4.17it/s]\n",
      "100%|██████████| 5000/5000 [21:53<00:00,  3.81it/s]\n",
      "100%|██████████| 4/4 [1:17:10<00:00, 1157.69s/it]"
     ]
    }
   ],
   "source": [
    "# for i in tqdm([9,10,11,12]):\n",
    "#     num_lines = i\n",
    "#     d = create_synth_data(5000, num_lines, src_path, targ_path)\n",
    "#     synth = pd.DataFrame({'filename': list(d.keys()), 'labels': list(d.values())})\n",
    "    \n",
    "#     joined_labels = list(synth.labels) #list(map(lambda x: ' '.join(x), labels))\n",
    "\n",
    "#     stoi = collections.defaultdict(lambda: 2, {v:k for k,v in enumerate(itos)})\n",
    "#     ids = np.array([np.array([stoi[letter] for letter in word] + [3]) for word in joined_labels])\n",
    "\n",
    "#     # convert to strings (as labels)\n",
    "#     str_ids = np.array([' '.join(str(l) for l in w) for w in ids]).reshape(-1,1)\n",
    "#     synth['char_ids'] = str_ids\n",
    "    \n",
    "#     CSV = str(targ_path)+'_'+str(num_lines)+'.csv'\n",
    "#     synth.to_csv(CSV, columns=['filename', 'char_ids'], index=False)"
   ]
  },
  {
   "cell_type": "markdown",
   "metadata": {},
   "source": [
    "## Words"
   ]
  },
  {
   "cell_type": "markdown",
   "metadata": {},
   "source": [
    "### pd.read_csv"
   ]
  },
  {
   "cell_type": "code",
   "execution_count": 90,
   "metadata": {
    "ExecuteTime": {
     "end_time": "2019-04-30T23:10:37.464209Z",
     "start_time": "2019-04-30T23:10:37.283971Z"
    }
   },
   "outputs": [
    {
     "data": {
      "text/plain": [
       "75597"
      ]
     },
     "execution_count": 90,
     "metadata": {},
     "output_type": "execute_result"
    }
   ],
   "source": [
    "df = pd.read_csv(f'{PATH}/ascii/words.txt', names=['filename','result','value'], escapechar='\\\\', delim_whitespace=True, skiprows=23, header=None, usecols=[0,1,8])\n",
    "df.rename(columns={'value': 'word'}, inplace=True)\n",
    "len(df)"
   ]
  },
  {
   "cell_type": "code",
   "execution_count": 91,
   "metadata": {
    "ExecuteTime": {
     "end_time": "2019-04-30T23:10:38.172252Z",
     "start_time": "2019-04-30T23:10:38.109385Z"
    }
   },
   "outputs": [
    {
     "data": {
      "text/plain": [
       "64750"
      ]
     },
     "execution_count": 91,
     "metadata": {},
     "output_type": "execute_result"
    }
   ],
   "source": [
    "# remove errors\n",
    "df = df[df.result != 'err']\n",
    "len(df)"
   ]
  },
  {
   "cell_type": "code",
   "execution_count": 92,
   "metadata": {
    "ExecuteTime": {
     "end_time": "2019-04-30T23:10:39.955534Z",
     "start_time": "2019-04-30T23:10:39.780239Z"
    }
   },
   "outputs": [],
   "source": [
    "# calculate character lengths\n",
    "lgts = df.word.apply(len)  \n",
    "df['char_len'] = lgts.astype('int32')"
   ]
  },
  {
   "cell_type": "code",
   "execution_count": 93,
   "metadata": {
    "ExecuteTime": {
     "end_time": "2019-04-30T23:10:41.366346Z",
     "start_time": "2019-04-30T23:10:41.308438Z"
    }
   },
   "outputs": [],
   "source": [
    "# lots of errors from pd.read_csv\n",
    "# only keep rows w/ word length < 20\n",
    "df = df[df.char_len < 20]"
   ]
  },
  {
   "cell_type": "code",
   "execution_count": 94,
   "metadata": {
    "ExecuteTime": {
     "end_time": "2019-04-30T23:10:41.654638Z",
     "start_time": "2019-04-30T23:10:41.597249Z"
    }
   },
   "outputs": [],
   "source": [
    "df = df.loc[df['char_len'] > 3]"
   ]
  },
  {
   "cell_type": "code",
   "execution_count": 95,
   "metadata": {
    "ExecuteTime": {
     "end_time": "2019-04-30T23:10:42.101010Z",
     "start_time": "2019-04-30T23:10:42.042932Z"
    },
    "scrolled": true
   },
   "outputs": [
    {
     "data": {
      "text/html": [
       "<div>\n",
       "<style scoped>\n",
       "    .dataframe tbody tr th:only-of-type {\n",
       "        vertical-align: middle;\n",
       "    }\n",
       "\n",
       "    .dataframe tbody tr th {\n",
       "        vertical-align: top;\n",
       "    }\n",
       "\n",
       "    .dataframe thead th {\n",
       "        text-align: right;\n",
       "    }\n",
       "</style>\n",
       "<table border=\"1\" class=\"dataframe\">\n",
       "  <thead>\n",
       "    <tr style=\"text-align: right;\">\n",
       "      <th></th>\n",
       "      <th>filename</th>\n",
       "      <th>result</th>\n",
       "      <th>word</th>\n",
       "      <th>char_len</th>\n",
       "    </tr>\n",
       "  </thead>\n",
       "  <tbody>\n",
       "    <tr>\n",
       "      <th>0</th>\n",
       "      <td>a01-000u-00-05</td>\n",
       "      <td>ok</td>\n",
       "      <td>Gaitskell</td>\n",
       "      <td>9</td>\n",
       "    </tr>\n",
       "    <tr>\n",
       "      <th>1</th>\n",
       "      <td>a01-000u-00-06</td>\n",
       "      <td>ok</td>\n",
       "      <td>from</td>\n",
       "      <td>4</td>\n",
       "    </tr>\n",
       "    <tr>\n",
       "      <th>2</th>\n",
       "      <td>a01-000u-01-00</td>\n",
       "      <td>ok</td>\n",
       "      <td>nominating</td>\n",
       "      <td>10</td>\n",
       "    </tr>\n",
       "    <tr>\n",
       "      <th>4</th>\n",
       "      <td>a01-000u-01-02</td>\n",
       "      <td>ok</td>\n",
       "      <td>more</td>\n",
       "      <td>4</td>\n",
       "    </tr>\n",
       "    <tr>\n",
       "      <th>5</th>\n",
       "      <td>a01-000u-01-03</td>\n",
       "      <td>ok</td>\n",
       "      <td>Labour</td>\n",
       "      <td>6</td>\n",
       "    </tr>\n",
       "  </tbody>\n",
       "</table>\n",
       "</div>"
      ],
      "text/plain": [
       "         filename result        word  char_len\n",
       "0  a01-000u-00-05     ok   Gaitskell         9\n",
       "1  a01-000u-00-06     ok        from         4\n",
       "2  a01-000u-01-00     ok  nominating        10\n",
       "4  a01-000u-01-02     ok        more         4\n",
       "5  a01-000u-01-03     ok      Labour         6"
      ]
     },
     "execution_count": 95,
     "metadata": {},
     "output_type": "execute_result"
    }
   ],
   "source": [
    "df.head()"
   ]
  },
  {
   "cell_type": "markdown",
   "metadata": {
    "heading_collapsed": true
   },
   "source": [
    "### manually created df"
   ]
  },
  {
   "cell_type": "code",
   "execution_count": 78,
   "metadata": {
    "ExecuteTime": {
     "end_time": "2019-04-30T23:07:27.474149Z",
     "start_time": "2019-04-30T23:07:26.105948Z"
    },
    "hidden": true
   },
   "outputs": [],
   "source": [
    "maxTextLen = 32\n",
    "samples = []\n",
    "chars = set()\n",
    "\n",
    "f=open(f'{PATH}/ascii/words.txt')\n",
    "for line in f:\n",
    "    # ignore comment line\n",
    "    if not line or line[0]=='#':\n",
    "        continue\n",
    "\n",
    "    lineSplit = line.strip().split(' ')\n",
    "    assert len(lineSplit) >= 9\n",
    "\n",
    "    fileName = lineSplit[0]\n",
    "\n",
    "    # GT text are columns starting at 9\n",
    "    gtText = ''.join(lineSplit[8:])[:maxTextLen]\n",
    "    char_len = len(gtText)\n",
    "    chars = chars.union(set(list(gtText)))\n",
    "\n",
    "    # put sample into list\n",
    "    samples.append([fileName, gtText, char_len])\n",
    "    \n",
    "samples = np.stack(samples)\n",
    "df = pd.DataFrame(samples, columns=['filename', 'word', 'char_len'], )\n",
    "del samples"
   ]
  },
  {
   "cell_type": "code",
   "execution_count": 79,
   "metadata": {
    "ExecuteTime": {
     "end_time": "2019-04-30T23:07:27.748830Z",
     "start_time": "2019-04-30T23:07:27.645816Z"
    },
    "hidden": true,
    "scrolled": true
   },
   "outputs": [
    {
     "data": {
      "text/html": [
       "<div>\n",
       "<style scoped>\n",
       "    .dataframe tbody tr th:only-of-type {\n",
       "        vertical-align: middle;\n",
       "    }\n",
       "\n",
       "    .dataframe tbody tr th {\n",
       "        vertical-align: top;\n",
       "    }\n",
       "\n",
       "    .dataframe thead th {\n",
       "        text-align: right;\n",
       "    }\n",
       "</style>\n",
       "<table border=\"1\" class=\"dataframe\">\n",
       "  <thead>\n",
       "    <tr style=\"text-align: right;\">\n",
       "      <th></th>\n",
       "      <th>filename</th>\n",
       "      <th>word</th>\n",
       "      <th>char_len</th>\n",
       "    </tr>\n",
       "  </thead>\n",
       "  <tbody>\n",
       "    <tr>\n",
       "      <th>1</th>\n",
       "      <td>a01-000u-00-01</td>\n",
       "      <td>MOVE</td>\n",
       "      <td>4</td>\n",
       "    </tr>\n",
       "    <tr>\n",
       "      <th>3</th>\n",
       "      <td>a01-000u-00-03</td>\n",
       "      <td>stop</td>\n",
       "      <td>4</td>\n",
       "    </tr>\n",
       "    <tr>\n",
       "      <th>5</th>\n",
       "      <td>a01-000u-00-05</td>\n",
       "      <td>Gaitskell</td>\n",
       "      <td>9</td>\n",
       "    </tr>\n",
       "    <tr>\n",
       "      <th>6</th>\n",
       "      <td>a01-000u-00-06</td>\n",
       "      <td>from</td>\n",
       "      <td>4</td>\n",
       "    </tr>\n",
       "    <tr>\n",
       "      <th>7</th>\n",
       "      <td>a01-000u-01-00</td>\n",
       "      <td>nominating</td>\n",
       "      <td>10</td>\n",
       "    </tr>\n",
       "  </tbody>\n",
       "</table>\n",
       "</div>"
      ],
      "text/plain": [
       "         filename        word  char_len\n",
       "1  a01-000u-00-01        MOVE         4\n",
       "3  a01-000u-00-03        stop         4\n",
       "5  a01-000u-00-05   Gaitskell         9\n",
       "6  a01-000u-00-06        from         4\n",
       "7  a01-000u-01-00  nominating        10"
      ]
     },
     "execution_count": 79,
     "metadata": {},
     "output_type": "execute_result"
    }
   ],
   "source": [
    "df['char_len'] = df.char_len.astype('int32')\n",
    "df = df.loc[df['char_len'] > 3]\n",
    "df = df.loc[df['char_len'] < 20]\n",
    "df.head()"
   ]
  },
  {
   "cell_type": "markdown",
   "metadata": {},
   "source": [
    "### specify number of words per line"
   ]
  },
  {
   "cell_type": "code",
   "execution_count": 96,
   "metadata": {
    "ExecuteTime": {
     "end_time": "2019-04-30T23:10:46.409003Z",
     "start_time": "2019-04-30T23:10:46.347748Z"
    }
   },
   "outputs": [],
   "source": [
    "def create_img(files, fname, sz=None, pad=30):\n",
    "    if sz==None: sz=(1, len(files))  #(w,h)\n",
    "    w = sz[1]\n",
    "    h = sz[0]\n",
    "        \n",
    "    imgs    = [ PIL.Image.open(PATH/'words'/f) for f in files ]\n",
    "    widths, heights = zip(*(i.size for i in imgs))\n",
    "    \n",
    "    median_height = int(np.median(heights))\n",
    "    stzd_imgs = standardize_imgs(imgs, median_height)\n",
    "    lines = [stzd_imgs[i:i + w] for i in range(0, len(stzd_imgs), w)]\n",
    "    \n",
    "    total_width = max([np.sum([word.size[0] for word in line]) for line in lines]) + (pad*(w+1))   \n",
    "    total_height = (median_height * h) + (pad*(h+1)) #sum(heights)\n",
    "\n",
    "    new_im = Image.new('RGB', (total_width, total_height), color=(255,255,255))\n",
    "\n",
    "    y_offset = pad\n",
    "    x_offset = pad\n",
    "    \n",
    "    for line in lines:\n",
    "        x_offset = pad\n",
    "        for word in line:\n",
    "            new_im.paste(word, (x_offset,y_offset))\n",
    "            x_offset += word.size[0] + pad\n",
    "        y_offset += median_height + pad\n",
    "        \n",
    "    new_im.save(synth_path/fname)"
   ]
  },
  {
   "cell_type": "markdown",
   "metadata": {},
   "source": [
    "#### Create Data"
   ]
  },
  {
   "cell_type": "code",
   "execution_count": 97,
   "metadata": {
    "ExecuteTime": {
     "end_time": "2019-04-30T23:10:49.380562Z",
     "start_time": "2019-04-30T23:10:49.195549Z"
    }
   },
   "outputs": [],
   "source": [
    "synth_path = PATH/'test_synth_words'\n",
    "!rm -rf {synth_path}\n",
    "\n",
    "os.makedirs(synth_path, exist_ok=True)"
   ]
  },
  {
   "cell_type": "code",
   "execution_count": 98,
   "metadata": {
    "ExecuteTime": {
     "end_time": "2019-04-30T23:10:50.350689Z",
     "start_time": "2019-04-30T23:10:49.884433Z"
    },
    "scrolled": true
   },
   "outputs": [
    {
     "name": "stdout",
     "output_type": "stream",
     "text": [
      "100%|██████████| 10/10 [00:00<00:00, 24.60it/s]\n"
     ]
    },
    {
     "data": {
      "text/plain": [
       "10"
      ]
     },
     "execution_count": 98,
     "metadata": {},
     "output_type": "execute_result"
    }
   ],
   "source": [
    "# number of words/image\n",
    "def create_synth_data(num, sz, offset=0):\n",
    "    samp = np.product(sz)\n",
    "    d={}\n",
    "    for i in tqdm(range(num)):\n",
    "        res = df.sample(samp)\n",
    "        files = list(map(lambda x: x+'.png', res.filename.values))\n",
    "        label = ' '.join(res.word.values)\n",
    "\n",
    "        fname = '{:04d}'.format(i+offset)+'.png'\n",
    "        create_img(files, fname, sz)\n",
    "        d[fname] = label\n",
    "    return d\n",
    "\n",
    "d = create_synth_data(10, (1,3))\n",
    "len(d)"
   ]
  },
  {
   "cell_type": "code",
   "execution_count": 99,
   "metadata": {
    "ExecuteTime": {
     "end_time": "2019-04-30T23:10:51.671703Z",
     "start_time": "2019-04-30T23:10:51.611223Z"
    },
    "scrolled": true
   },
   "outputs": [
    {
     "data": {
      "text/html": [
       "<div>\n",
       "<style scoped>\n",
       "    .dataframe tbody tr th:only-of-type {\n",
       "        vertical-align: middle;\n",
       "    }\n",
       "\n",
       "    .dataframe tbody tr th {\n",
       "        vertical-align: top;\n",
       "    }\n",
       "\n",
       "    .dataframe thead th {\n",
       "        text-align: right;\n",
       "    }\n",
       "</style>\n",
       "<table border=\"1\" class=\"dataframe\">\n",
       "  <thead>\n",
       "    <tr style=\"text-align: right;\">\n",
       "      <th></th>\n",
       "      <th>filename</th>\n",
       "      <th>labels</th>\n",
       "    </tr>\n",
       "  </thead>\n",
       "  <tbody>\n",
       "    <tr>\n",
       "      <th>0</th>\n",
       "      <td>0000.png</td>\n",
       "      <td>string wooden including</td>\n",
       "    </tr>\n",
       "    <tr>\n",
       "      <th>1</th>\n",
       "      <td>0001.png</td>\n",
       "      <td>larger strong economic</td>\n",
       "    </tr>\n",
       "    <tr>\n",
       "      <th>2</th>\n",
       "      <td>0002.png</td>\n",
       "      <td>mess older crying</td>\n",
       "    </tr>\n",
       "    <tr>\n",
       "      <th>3</th>\n",
       "      <td>0003.png</td>\n",
       "      <td>theory HAVE whom</td>\n",
       "    </tr>\n",
       "    <tr>\n",
       "      <th>4</th>\n",
       "      <td>0004.png</td>\n",
       "      <td>WITH have been</td>\n",
       "    </tr>\n",
       "  </tbody>\n",
       "</table>\n",
       "</div>"
      ],
      "text/plain": [
       "   filename                   labels\n",
       "0  0000.png  string wooden including\n",
       "1  0001.png   larger strong economic\n",
       "2  0002.png        mess older crying\n",
       "3  0003.png         theory HAVE whom\n",
       "4  0004.png           WITH have been"
      ]
     },
     "execution_count": 99,
     "metadata": {},
     "output_type": "execute_result"
    }
   ],
   "source": [
    "synth = pd.DataFrame({'filename': list(d.keys()), 'labels': list(d.values())})\n",
    "synth.head()"
   ]
  },
  {
   "cell_type": "markdown",
   "metadata": {
    "heading_collapsed": true
   },
   "source": [
    "### specify size of image"
   ]
  },
  {
   "cell_type": "code",
   "execution_count": 45,
   "metadata": {
    "ExecuteTime": {
     "end_time": "2019-03-01T15:41:49.747751Z",
     "start_time": "2019-03-01T15:41:49.688652Z"
    },
    "hidden": true
   },
   "outputs": [],
   "source": [
    "def create_img(sz, fname, pad=30, median_height=None):\n",
    "    # TODO: randomize padding\n",
    "    new_im = Image.new('RGB', (sz,sz), color=(255,255,255))\n",
    "    \n",
    "    res   = df.sample(50)\n",
    "    files = list(map(lambda x: x+'.png', res.filename.values))\n",
    "    lbls  = res.word.values.tolist()\n",
    "    imgs  = [ PIL.Image.open(PATH/'words'/f) for f in files ]\n",
    "    \n",
    "    if median_height is None:\n",
    "        w, h  = zip(*(i.size for i in imgs))\n",
    "        # standardize heights and sort longest to shortest words\n",
    "        median_height = int(np.median(h))        # TODO: randomize this between mean/std\n",
    "        \n",
    "    stzd_imgs = standardize_imgs(imgs, median_height)\n",
    "    \n",
    "    #loop through standardized images and find the next image which satisfies the condition\n",
    "    labels = []\n",
    "    y_offset = pad\n",
    "    while y_offset+median_height+pad < sz:        \n",
    "        x_offset = pad\n",
    "        \n",
    "        gen = (i for i,x in enumerate(stzd_imgs) if x.size[0]+x_offset+pad <= sz)\n",
    "        for idx in gen:\n",
    "            word = stzd_imgs.pop(idx)            \n",
    "            labels.append(lbls.pop(idx))\n",
    "            new_im.paste(word, (x_offset,y_offset))\n",
    "            x_offset += word.size[0] + pad\n",
    "        y_offset += median_height+pad\n",
    "\n",
    "    new_im.save(synth_path/fname)\n",
    "    return ' '.join(labels)"
   ]
  },
  {
   "cell_type": "markdown",
   "metadata": {
    "hidden": true
   },
   "source": [
    "#### Create Data"
   ]
  },
  {
   "cell_type": "code",
   "execution_count": 44,
   "metadata": {
    "ExecuteTime": {
     "end_time": "2019-03-01T15:41:41.906689Z",
     "start_time": "2019-03-01T15:41:41.720776Z"
    },
    "hidden": true
   },
   "outputs": [],
   "source": [
    "# for testing\n",
    "synth_path = PATH/'large_synth_words'\n",
    "!rm -rf {synth_path}\n",
    "\n",
    "os.makedirs(synth_path, exist_ok=True)"
   ]
  },
  {
   "cell_type": "code",
   "execution_count": 46,
   "metadata": {
    "ExecuteTime": {
     "end_time": "2019-03-01T15:41:57.832145Z",
     "start_time": "2019-03-01T15:41:56.151245Z"
    },
    "hidden": true,
    "scrolled": true
   },
   "outputs": [
    {
     "data": {
      "text/plain": [
       "10"
      ]
     },
     "execution_count": 46,
     "metadata": {},
     "output_type": "execute_result"
    }
   ],
   "source": [
    "# size of image\n",
    "def create_synth_data(qty, sz, fname_offset=0):\n",
    "    d={}\n",
    "    for i in range(qty):\n",
    "        fname = '{:04d}'.format(i+fname_offset)+'.png'\n",
    "        p = random.randint(10,20)\n",
    "        h = random.randint(25,35)\n",
    "        d[fname] = create_img(sz, fname, pad=p, median_height=h)\n",
    "    return d\n",
    "\n",
    "d = create_synth_data(10, 512)\n",
    "len(d)\n",
    "\n",
    "# ~25min to create 5000 1000x1000 images"
   ]
  },
  {
   "cell_type": "code",
   "execution_count": 47,
   "metadata": {
    "ExecuteTime": {
     "end_time": "2019-03-01T15:41:57.973439Z",
     "start_time": "2019-03-01T15:41:57.913287Z"
    },
    "hidden": true,
    "scrolled": true
   },
   "outputs": [
    {
     "data": {
      "text/html": [
       "<div>\n",
       "<style scoped>\n",
       "    .dataframe tbody tr th:only-of-type {\n",
       "        vertical-align: middle;\n",
       "    }\n",
       "\n",
       "    .dataframe tbody tr th {\n",
       "        vertical-align: top;\n",
       "    }\n",
       "\n",
       "    .dataframe thead th {\n",
       "        text-align: right;\n",
       "    }\n",
       "</style>\n",
       "<table border=\"1\" class=\"dataframe\">\n",
       "  <thead>\n",
       "    <tr style=\"text-align: right;\">\n",
       "      <th></th>\n",
       "      <th>filename</th>\n",
       "      <th>labels</th>\n",
       "    </tr>\n",
       "  </thead>\n",
       "  <tbody>\n",
       "    <tr>\n",
       "      <th>0</th>\n",
       "      <td>0000.png</td>\n",
       "      <td>away truth Vesuvius British enough Stone neigh...</td>\n",
       "    </tr>\n",
       "    <tr>\n",
       "      <th>1</th>\n",
       "      <td>0001.png</td>\n",
       "      <td>tray said blue near fires factor households th...</td>\n",
       "    </tr>\n",
       "    <tr>\n",
       "      <th>2</th>\n",
       "      <td>0002.png</td>\n",
       "      <td>weapon personal really together minds their la...</td>\n",
       "    </tr>\n",
       "    <tr>\n",
       "      <th>3</th>\n",
       "      <td>0003.png</td>\n",
       "      <td>tendon hypnotised Superintendent hopeless ment...</td>\n",
       "    </tr>\n",
       "    <tr>\n",
       "      <th>4</th>\n",
       "      <td>0004.png</td>\n",
       "      <td>cured sings burden method from gladly imaginat...</td>\n",
       "    </tr>\n",
       "  </tbody>\n",
       "</table>\n",
       "</div>"
      ],
      "text/plain": [
       "   filename                                             labels\n",
       "0  0000.png  away truth Vesuvius British enough Stone neigh...\n",
       "1  0001.png  tray said blue near fires factor households th...\n",
       "2  0002.png  weapon personal really together minds their la...\n",
       "3  0003.png  tendon hypnotised Superintendent hopeless ment...\n",
       "4  0004.png  cured sings burden method from gladly imaginat..."
      ]
     },
     "execution_count": 47,
     "metadata": {},
     "output_type": "execute_result"
    }
   ],
   "source": [
    "synth = pd.DataFrame({'filename': list(d.keys()), 'labels': list(d.values())})\n",
    "synth.head()"
   ]
  },
  {
   "cell_type": "markdown",
   "metadata": {},
   "source": [
    "## Verify"
   ]
  },
  {
   "cell_type": "code",
   "execution_count": 100,
   "metadata": {
    "ExecuteTime": {
     "end_time": "2019-04-30T23:10:55.986278Z",
     "start_time": "2019-04-30T23:10:54.851374Z"
    },
    "scrolled": false
   },
   "outputs": [
    {
     "data": {
      "image/png": "[encoded data removed]",
      "text/plain": [
       "<Figure size 1440x720 with 4 Axes>"
      ]
     },
     "metadata": {
      "needs_background": "light"
     },
     "output_type": "display_data"
    }
   ],
   "source": [
    "fig, axes = plt.subplots(2,2, figsize=(20, 10))\n",
    "for i,ax in enumerate(axes.flat):\n",
    "    row = synth.iloc[i]\n",
    "    im = Image.open(synth_path/row.filename)\n",
    "    ax.imshow(im)\n",
    "    label = '\\n'.join(textwrap.wrap(row.labels, 70))\n",
    "    ax.set_title(label)\n",
    "    \n",
    "plt.tight_layout(pad=0.2)"
   ]
  },
  {
   "cell_type": "markdown",
   "metadata": {
    "heading_collapsed": true
   },
   "source": [
    "## Numericalize characters"
   ]
  },
  {
   "cell_type": "code",
   "execution_count": 116,
   "metadata": {
    "ExecuteTime": {
     "end_time": "2019-03-15T17:14:55.568642Z",
     "start_time": "2019-03-15T17:14:55.534687Z"
    },
    "hidden": true
   },
   "outputs": [
    {
     "data": {
      "text/plain": [
       "82"
      ]
     },
     "execution_count": 116,
     "metadata": {},
     "output_type": "execute_result"
    }
   ],
   "source": [
    "# same as used in single word / multi-word\n",
    "itos = pickle.load(open(TMP_PATH/'char_itos.pkl', 'rb'))\n",
    "len(itos)"
   ]
  },
  {
   "cell_type": "code",
   "execution_count": 163,
   "metadata": {
    "ExecuteTime": {
     "end_time": "2019-03-15T18:42:14.770763Z",
     "start_time": "2019-03-15T18:42:12.962110Z"
    },
    "hidden": true
   },
   "outputs": [],
   "source": [
    "joined_labels = list(synth.labels) #list(map(lambda x: ' '.join(x), labels))\n",
    "\n",
    "stoi = collections.defaultdict(lambda: 2, {v:k for k,v in enumerate(itos)})\n",
    "ids = np.array([np.array([stoi[letter] for letter in word] + [3]) for word in joined_labels])\n",
    "\n",
    "# convert to strings (as labels)\n",
    "str_ids = np.array([' '.join(str(l) for l in w) for w in ids]).reshape(-1,1)"
   ]
  },
  {
   "cell_type": "code",
   "execution_count": 164,
   "metadata": {
    "ExecuteTime": {
     "end_time": "2019-03-15T18:42:15.523087Z",
     "start_time": "2019-03-15T18:42:15.455570Z"
    },
    "hidden": true,
    "scrolled": false
   },
   "outputs": [
    {
     "data": {
      "text/html": [
       "<div>\n",
       "<style scoped>\n",
       "    .dataframe tbody tr th:only-of-type {\n",
       "        vertical-align: middle;\n",
       "    }\n",
       "\n",
       "    .dataframe tbody tr th {\n",
       "        vertical-align: top;\n",
       "    }\n",
       "\n",
       "    .dataframe thead th {\n",
       "        text-align: right;\n",
       "    }\n",
       "</style>\n",
       "<table border=\"1\" class=\"dataframe\">\n",
       "  <thead>\n",
       "    <tr style=\"text-align: right;\">\n",
       "      <th></th>\n",
       "      <th>filename</th>\n",
       "      <th>labels</th>\n",
       "      <th>char_ids</th>\n",
       "    </tr>\n",
       "  </thead>\n",
       "  <tbody>\n",
       "    <tr>\n",
       "      <th>0</th>\n",
       "      <td>8_0000.png</td>\n",
       "      <td>thrown in . \" I don't want to talk like an adu...</td>\n",
       "      <td>75 63 73 70 78 69 1 64 69 1 15 1 5 1 38 1 59 7...</td>\n",
       "    </tr>\n",
       "    <tr>\n",
       "      <th>1</th>\n",
       "      <td>8_0001.png</td>\n",
       "      <td>primary dependence of diurnal supported the si...</td>\n",
       "      <td>71 73 64 68 56 73 80 1 59 60 71 60 69 59 60 69...</td>\n",
       "    </tr>\n",
       "    <tr>\n",
       "      <th>2</th>\n",
       "      <td>8_0002.png</td>\n",
       "      <td>brandy owner's solo swish on his anecdotal And...</td>\n",
       "      <td>57 73 56 69 59 80 1 70 78 69 60 73 8 74 1 74 7...</td>\n",
       "    </tr>\n",
       "    <tr>\n",
       "      <th>3</th>\n",
       "      <td>8_0003.png</td>\n",
       "      <td>progress , because they were men of taste a tr...</td>\n",
       "      <td>71 73 70 62 73 60 74 74 1 13 1 57 60 58 56 76 ...</td>\n",
       "    </tr>\n",
       "    <tr>\n",
       "      <th>4</th>\n",
       "      <td>8_0004.png</td>\n",
       "      <td>and 74 per cent respectively . will not keep u...</td>\n",
       "      <td>56 69 59 1 24 21 1 71 60 73 1 58 60 69 75 1 73...</td>\n",
       "    </tr>\n",
       "  </tbody>\n",
       "</table>\n",
       "</div>"
      ],
      "text/plain": [
       "     filename                                             labels  \\\n",
       "0  8_0000.png  thrown in . \" I don't want to talk like an adu...   \n",
       "1  8_0001.png  primary dependence of diurnal supported the si...   \n",
       "2  8_0002.png  brandy owner's solo swish on his anecdotal And...   \n",
       "3  8_0003.png  progress , because they were men of taste a tr...   \n",
       "4  8_0004.png  and 74 per cent respectively . will not keep u...   \n",
       "\n",
       "                                            char_ids  \n",
       "0  75 63 73 70 78 69 1 64 69 1 15 1 5 1 38 1 59 7...  \n",
       "1  71 73 64 68 56 73 80 1 59 60 71 60 69 59 60 69...  \n",
       "2  57 73 56 69 59 80 1 70 78 69 60 73 8 74 1 74 7...  \n",
       "3  71 73 70 62 73 60 74 74 1 13 1 57 60 58 56 76 ...  \n",
       "4  56 69 59 1 24 21 1 71 60 73 1 58 60 69 75 1 73...  "
      ]
     },
     "execution_count": 164,
     "metadata": {},
     "output_type": "execute_result"
    }
   ],
   "source": [
    "synth['char_ids'] = str_ids\n",
    "synth.head()"
   ]
  },
  {
   "cell_type": "code",
   "execution_count": 165,
   "metadata": {
    "ExecuteTime": {
     "end_time": "2019-03-15T18:42:17.315056Z",
     "start_time": "2019-03-15T18:42:17.177632Z"
    },
    "hidden": true
   },
   "outputs": [],
   "source": [
    "CSV = str(targ_path)+'_'+str(num_lines)+'.csv'\n",
    "synth.to_csv(CSV, columns=['filename', 'char_ids'], index=False)"
   ]
  },
  {
   "cell_type": "markdown",
   "metadata": {
    "hidden": true
   },
   "source": [
    "### Concatenate CSVs"
   ]
  },
  {
   "cell_type": "code",
   "execution_count": 167,
   "metadata": {
    "ExecuteTime": {
     "end_time": "2019-03-15T20:33:47.202408Z",
     "start_time": "2019-03-15T20:33:47.096939Z"
    },
    "hidden": true
   },
   "outputs": [],
   "source": [
    "a = pd.read_csv(PATH/'cat_lines_3.csv')\n",
    "b = pd.read_csv(PATH/'cat_lines_4.csv')\n",
    "c = pd.read_csv(PATH/'cat_lines_5.csv')"
   ]
  },
  {
   "cell_type": "code",
   "execution_count": 168,
   "metadata": {
    "ExecuteTime": {
     "end_time": "2019-03-15T20:34:19.209784Z",
     "start_time": "2019-03-15T20:34:19.176472Z"
    },
    "hidden": true
   },
   "outputs": [
    {
     "data": {
      "text/plain": [
       "15000"
      ]
     },
     "execution_count": 168,
     "metadata": {},
     "output_type": "execute_result"
    }
   ],
   "source": [
    "new = pd.concat([a,b,c], ignore_index=True)\n",
    "len(new)"
   ]
  },
  {
   "cell_type": "code",
   "execution_count": 169,
   "metadata": {
    "ExecuteTime": {
     "end_time": "2019-03-15T20:35:03.158654Z",
     "start_time": "2019-03-15T20:35:02.940164Z"
    },
    "hidden": true
   },
   "outputs": [],
   "source": [
    "new.to_csv(PATH/'cat_lines_345.csv', index=False)"
   ]
  },
  {
   "cell_type": "markdown",
   "metadata": {
    "heading_collapsed": true,
    "hidden": true
   },
   "source": [
    "### Add to existing CSV"
   ]
  },
  {
   "cell_type": "code",
   "execution_count": 50,
   "metadata": {
    "ExecuteTime": {
     "end_time": "2019-01-18T21:05:46.150717Z",
     "start_time": "2019-01-18T21:05:46.040506Z"
    },
    "hidden": true
   },
   "outputs": [
    {
     "data": {
      "text/plain": [
       "10000"
      ]
     },
     "execution_count": 50,
     "metadata": {},
     "output_type": "execute_result"
    }
   ],
   "source": [
    "CSV = PATH/'large_synth_words_10000.csv'\n",
    "csv = pd.read_csv(CSV)\n",
    "len(csv)"
   ]
  },
  {
   "cell_type": "code",
   "execution_count": 51,
   "metadata": {
    "ExecuteTime": {
     "end_time": "2019-01-18T21:06:05.594151Z",
     "start_time": "2019-01-18T21:06:04.759969Z"
    },
    "hidden": true
   },
   "outputs": [],
   "source": [
    "# CSV = PATH/'synth_words_50000.csv'\n",
    "CSV = PATH/'large_synth_words_50000.csv'\n",
    "\n",
    "new = pd.concat([csv, synth[['filename', 'char_ids']]], ignore_index=True)\n",
    "new.to_csv(CSV, columns=['filename', 'char_ids'], index=False)"
   ]
  },
  {
   "cell_type": "code",
   "execution_count": 52,
   "metadata": {
    "ExecuteTime": {
     "end_time": "2019-01-18T21:06:06.758715Z",
     "start_time": "2019-01-18T21:06:06.730092Z"
    },
    "hidden": true
   },
   "outputs": [
    {
     "data": {
      "text/plain": [
       "50000"
      ]
     },
     "execution_count": 52,
     "metadata": {},
     "output_type": "execute_result"
    }
   ],
   "source": [
    "len(new)"
   ]
  },
  {
   "cell_type": "markdown",
   "metadata": {
    "heading_collapsed": true
   },
   "source": [
    "## Numericalize words"
   ]
  },
  {
   "cell_type": "code",
   "execution_count": 53,
   "metadata": {
    "ExecuteTime": {
     "end_time": "2019-01-18T21:06:21.848019Z",
     "start_time": "2019-01-18T21:06:21.818877Z"
    },
    "hidden": true
   },
   "outputs": [
    {
     "data": {
      "text/plain": [
       "5902"
      ]
     },
     "execution_count": 53,
     "metadata": {},
     "output_type": "execute_result"
    }
   ],
   "source": [
    "itos = pickle.load(open(TMP_PATH/'synth_word_itos.pkl', 'rb'))\n",
    "len(itos)"
   ]
  },
  {
   "cell_type": "code",
   "execution_count": 54,
   "metadata": {
    "ExecuteTime": {
     "end_time": "2019-01-18T21:06:30.094202Z",
     "start_time": "2019-01-18T21:06:28.428334Z"
    },
    "hidden": true
   },
   "outputs": [],
   "source": [
    "joined_labels = list(synth.labels)\n",
    "\n",
    "stoi = collections.defaultdict(lambda: 2, {v:k for k,v in enumerate(itos)})\n",
    "ids = np.array([np.array([stoi[word] for word in line.split(' ')]+[3]) for line in joined_labels])\n",
    "\n",
    "# convert to strings (as labels)\n",
    "str_ids = np.array([' '.join(str(l) for l in w) for w in ids]).reshape(-1,1)"
   ]
  },
  {
   "cell_type": "code",
   "execution_count": 55,
   "metadata": {
    "ExecuteTime": {
     "end_time": "2019-01-18T21:06:31.946374Z",
     "start_time": "2019-01-18T21:06:31.887480Z"
    },
    "hidden": true,
    "scrolled": false
   },
   "outputs": [
    {
     "data": {
      "text/html": [
       "<div>\n",
       "<style scoped>\n",
       "    .dataframe tbody tr th:only-of-type {\n",
       "        vertical-align: middle;\n",
       "    }\n",
       "\n",
       "    .dataframe tbody tr th {\n",
       "        vertical-align: top;\n",
       "    }\n",
       "\n",
       "    .dataframe thead th {\n",
       "        text-align: right;\n",
       "    }\n",
       "</style>\n",
       "<table border=\"1\" class=\"dataframe\">\n",
       "  <thead>\n",
       "    <tr style=\"text-align: right;\">\n",
       "      <th></th>\n",
       "      <th>filename</th>\n",
       "      <th>labels</th>\n",
       "      <th>char_ids</th>\n",
       "      <th>word_ids</th>\n",
       "    </tr>\n",
       "  </thead>\n",
       "  <tbody>\n",
       "    <tr>\n",
       "      <th>0</th>\n",
       "      <td>10000.png</td>\n",
       "      <td>with carriage verso that content circum- could...</td>\n",
       "      <td>78 64 75 63 1 58 56 73 73 64 56 62 60 1 77 60 ...</td>\n",
       "      <td>5 3542 2 4 1051 2 27 29 2 2 29 1314 66 2 372 3...</td>\n",
       "    </tr>\n",
       "    <tr>\n",
       "      <th>1</th>\n",
       "      <td>10001.png</td>\n",
       "      <td>Referring West 3,000 England cruel strained de...</td>\n",
       "      <td>47 60 61 60 73 73 64 69 62 1 52 60 74 75 1 20 ...</td>\n",
       "      <td>2 156 4251 219 4271 2 2 572 247 483 2495 2429 ...</td>\n",
       "    </tr>\n",
       "    <tr>\n",
       "      <th>2</th>\n",
       "      <td>10002.png</td>\n",
       "      <td>tary were made extremes advantage good Greppes...</td>\n",
       "      <td>75 56 73 80 1 78 60 73 60 1 68 56 59 60 1 60 7...</td>\n",
       "      <td>2 11 36 2 1840 53 2 75 902 757 40 16 3061 4 32...</td>\n",
       "    </tr>\n",
       "    <tr>\n",
       "      <th>3</th>\n",
       "      <td>10003.png</td>\n",
       "      <td>that make such east brother-in-law forty with ...</td>\n",
       "      <td>75 63 56 75 1 68 56 66 60 1 74 76 58 63 1 60 5...</td>\n",
       "      <td>4 76 74 2 570 1583 5 17 2 373 5 553 277 183 25...</td>\n",
       "    </tr>\n",
       "    <tr>\n",
       "      <th>4</th>\n",
       "      <td>10004.png</td>\n",
       "      <td>made late landing whose bone-jarring that Larr...</td>\n",
       "      <td>68 56 59 60 1 67 56 75 60 1 67 56 69 59 64 69 ...</td>\n",
       "      <td>36 326 3833 364 2 4 5856 13 14 250 84 2419 12 ...</td>\n",
       "    </tr>\n",
       "  </tbody>\n",
       "</table>\n",
       "</div>"
      ],
      "text/plain": [
       "    filename                                             labels  \\\n",
       "0  10000.png  with carriage verso that content circum- could...   \n",
       "1  10001.png  Referring West 3,000 England cruel strained de...   \n",
       "2  10002.png  tary were made extremes advantage good Greppes...   \n",
       "3  10003.png  that make such east brother-in-law forty with ...   \n",
       "4  10004.png  made late landing whose bone-jarring that Larr...   \n",
       "\n",
       "                                            char_ids  \\\n",
       "0  78 64 75 63 1 58 56 73 73 64 56 62 60 1 77 60 ...   \n",
       "1  47 60 61 60 73 73 64 69 62 1 52 60 74 75 1 20 ...   \n",
       "2  75 56 73 80 1 78 60 73 60 1 68 56 59 60 1 60 7...   \n",
       "3  75 63 56 75 1 68 56 66 60 1 74 76 58 63 1 60 5...   \n",
       "4  68 56 59 60 1 67 56 75 60 1 67 56 69 59 64 69 ...   \n",
       "\n",
       "                                            word_ids  \n",
       "0  5 3542 2 4 1051 2 27 29 2 2 29 1314 66 2 372 3...  \n",
       "1  2 156 4251 219 4271 2 2 572 247 483 2495 2429 ...  \n",
       "2  2 11 36 2 1840 53 2 75 902 757 40 16 3061 4 32...  \n",
       "3  4 76 74 2 570 1583 5 17 2 373 5 553 277 183 25...  \n",
       "4  36 326 3833 364 2 4 5856 13 14 250 84 2419 12 ...  "
      ]
     },
     "execution_count": 55,
     "metadata": {},
     "output_type": "execute_result"
    }
   ],
   "source": [
    "synth['word_ids'] = str_ids\n",
    "synth.head()"
   ]
  },
  {
   "cell_type": "markdown",
   "metadata": {
    "hidden": true
   },
   "source": [
    "### Add to existing CSV"
   ]
  },
  {
   "cell_type": "code",
   "execution_count": 56,
   "metadata": {
    "ExecuteTime": {
     "end_time": "2019-01-18T21:06:48.253615Z",
     "start_time": "2019-01-18T21:06:48.203010Z"
    },
    "hidden": true
   },
   "outputs": [],
   "source": [
    "CSV = PATH/'large_synth_word_ids_10000.csv'\n",
    "csv = pd.read_csv(CSV)"
   ]
  },
  {
   "cell_type": "code",
   "execution_count": 57,
   "metadata": {
    "ExecuteTime": {
     "end_time": "2019-01-18T21:06:58.207797Z",
     "start_time": "2019-01-18T21:06:57.927699Z"
    },
    "hidden": true
   },
   "outputs": [],
   "source": [
    "# CSV = PATH/'synth_words_50000.csv'\n",
    "CSV = PATH/'large_synth_word_ids_50000.csv'\n",
    "\n",
    "new = pd.concat([csv, synth[['filename', 'word_ids']]], ignore_index=True)\n",
    "new.to_csv(CSV, columns=['filename', 'word_ids'], index=False)"
   ]
  },
  {
   "cell_type": "code",
   "execution_count": 58,
   "metadata": {
    "ExecuteTime": {
     "end_time": "2019-01-18T21:06:59.141612Z",
     "start_time": "2019-01-18T21:06:59.111213Z"
    },
    "hidden": true
   },
   "outputs": [
    {
     "data": {
      "text/plain": [
       "50000"
      ]
     },
     "execution_count": 58,
     "metadata": {},
     "output_type": "execute_result"
    }
   ],
   "source": [
    "len(new)"
   ]
  },
  {
   "cell_type": "markdown",
   "metadata": {
    "heading_collapsed": true,
    "hidden": true
   },
   "source": [
    "### Modify csv/itos to match previous versions"
   ]
  },
  {
   "cell_type": "code",
   "execution_count": 63,
   "metadata": {
    "ExecuteTime": {
     "end_time": "2018-11-09T16:40:45.894395Z",
     "start_time": "2018-11-09T16:40:45.867333Z"
    },
    "hidden": true
   },
   "outputs": [],
   "source": [
    "itos_old = pickle.load(open(TMP_PATH/'synth_word_itos.pkl', 'rb'))\n",
    "\n",
    "# same as used in single word / multi-word\n",
    "itos = pickle.load(open(TMP_PATH/'char_itos.pkl', 'rb'))"
   ]
  },
  {
   "cell_type": "code",
   "execution_count": 64,
   "metadata": {
    "ExecuteTime": {
     "end_time": "2018-11-09T16:40:47.022253Z",
     "start_time": "2018-11-09T16:40:46.855708Z"
    },
    "hidden": true,
    "scrolled": false
   },
   "outputs": [
    {
     "data": {
      "text/html": [
       "<div>\n",
       "<style scoped>\n",
       "    .dataframe tbody tr th:only-of-type {\n",
       "        vertical-align: middle;\n",
       "    }\n",
       "\n",
       "    .dataframe tbody tr th {\n",
       "        vertical-align: top;\n",
       "    }\n",
       "\n",
       "    .dataframe thead th {\n",
       "        text-align: right;\n",
       "    }\n",
       "</style>\n",
       "<table border=\"1\" class=\"dataframe\">\n",
       "  <thead>\n",
       "    <tr style=\"text-align: right;\">\n",
       "      <th></th>\n",
       "      <th>filename</th>\n",
       "      <th>char_ids</th>\n",
       "      <th>words</th>\n",
       "    </tr>\n",
       "  </thead>\n",
       "  <tbody>\n",
       "    <tr>\n",
       "      <th>0</th>\n",
       "      <td>0000.png</td>\n",
       "      <td>66 55 57 59 13 1 58 59 55 74 62 1 60 69 75 72 ...</td>\n",
       "      <td>lace- death four warily considerably without</td>\n",
       "    </tr>\n",
       "    <tr>\n",
       "      <th>1</th>\n",
       "      <td>0001.png</td>\n",
       "      <td>60 69 69 58 1 74 77 59 68 74 63 59 74 62 1 51 ...</td>\n",
       "      <td>food twentieth Western been proved Rhodesia</td>\n",
       "    </tr>\n",
       "    <tr>\n",
       "      <th>2</th>\n",
       "      <td>0002.png</td>\n",
       "      <td>74 55 73 65 1 57 62 69 63 57 59 1 56 59 63 68 ...</td>\n",
       "      <td>task choice being longshore which childless</td>\n",
       "    </tr>\n",
       "    <tr>\n",
       "      <th>3</th>\n",
       "      <td>0003.png</td>\n",
       "      <td>55 58 76 63 73 59 72 73 1 74 62 55 74 1 35 33 ...</td>\n",
       "      <td>advisers that GENERAL were false example</td>\n",
       "    </tr>\n",
       "    <tr>\n",
       "      <th>4</th>\n",
       "      <td>0004.png</td>\n",
       "      <td>59 73 70 59 57 63 55 66 66 79 1 48 62 55 74 1 ...</td>\n",
       "      <td>especially That step rolls know been</td>\n",
       "    </tr>\n",
       "  </tbody>\n",
       "</table>\n",
       "</div>"
      ],
      "text/plain": [
       "   filename                                           char_ids  \\\n",
       "0  0000.png  66 55 57 59 13 1 58 59 55 74 62 1 60 69 75 72 ...   \n",
       "1  0001.png  60 69 69 58 1 74 77 59 68 74 63 59 74 62 1 51 ...   \n",
       "2  0002.png  74 55 73 65 1 57 62 69 63 57 59 1 56 59 63 68 ...   \n",
       "3  0003.png  55 58 76 63 73 59 72 73 1 74 62 55 74 1 35 33 ...   \n",
       "4  0004.png  59 73 70 59 57 63 55 66 66 79 1 48 62 55 74 1 ...   \n",
       "\n",
       "                                          words  \n",
       "0  lace- death four warily considerably without  \n",
       "1   food twentieth Western been proved Rhodesia  \n",
       "2   task choice being longshore which childless  \n",
       "3      advisers that GENERAL were false example  \n",
       "4          especially That step rolls know been  "
      ]
     },
     "execution_count": 64,
     "metadata": {},
     "output_type": "execute_result"
    }
   ],
   "source": [
    "res = [''.join([itos_old[int(c)] for c in line.split(' ')]) for line in csv.char_ids]\n",
    "csv['words'] = res\n",
    "csv.head()"
   ]
  },
  {
   "cell_type": "code",
   "execution_count": 65,
   "metadata": {
    "ExecuteTime": {
     "end_time": "2018-11-09T16:41:43.063529Z",
     "start_time": "2018-11-09T16:41:42.942652Z"
    },
    "hidden": true
   },
   "outputs": [],
   "source": [
    "joined_labels = list(csv.words) #list(map(lambda x: ' '.join(x), labels))\n",
    "\n",
    "stoi = collections.defaultdict(lambda: 2, {v:k for k,v in enumerate(itos)})\n",
    "ids = np.array([np.array([stoi[letter] for letter in word]+[3]) for word in joined_labels])"
   ]
  },
  {
   "cell_type": "code",
   "execution_count": 66,
   "metadata": {
    "ExecuteTime": {
     "end_time": "2018-11-09T16:41:44.692786Z",
     "start_time": "2018-11-09T16:41:44.317573Z"
    },
    "hidden": true
   },
   "outputs": [],
   "source": [
    "# convert to strings (as labels)\n",
    "str_ids = np.array([' '.join(str(l) for l in w) for w in ids]).reshape(-1,1)"
   ]
  },
  {
   "cell_type": "code",
   "execution_count": 72,
   "metadata": {
    "ExecuteTime": {
     "end_time": "2018-11-09T16:44:14.517602Z",
     "start_time": "2018-11-09T16:44:14.470520Z"
    },
    "hidden": true,
    "scrolled": true
   },
   "outputs": [
    {
     "data": {
      "text/html": [
       "<div>\n",
       "<style scoped>\n",
       "    .dataframe tbody tr th:only-of-type {\n",
       "        vertical-align: middle;\n",
       "    }\n",
       "\n",
       "    .dataframe tbody tr th {\n",
       "        vertical-align: top;\n",
       "    }\n",
       "\n",
       "    .dataframe thead th {\n",
       "        text-align: right;\n",
       "    }\n",
       "</style>\n",
       "<table border=\"1\" class=\"dataframe\">\n",
       "  <thead>\n",
       "    <tr style=\"text-align: right;\">\n",
       "      <th></th>\n",
       "      <th>filename</th>\n",
       "      <th>char_ids</th>\n",
       "    </tr>\n",
       "  </thead>\n",
       "  <tbody>\n",
       "    <tr>\n",
       "      <th>0</th>\n",
       "      <td>0000.png</td>\n",
       "      <td>67 56 58 60 14 1 59 60 56 75 63 1 61 70 76 73 ...</td>\n",
       "    </tr>\n",
       "    <tr>\n",
       "      <th>1</th>\n",
       "      <td>0001.png</td>\n",
       "      <td>61 70 70 59 1 75 78 60 69 75 64 60 75 63 1 52 ...</td>\n",
       "    </tr>\n",
       "    <tr>\n",
       "      <th>2</th>\n",
       "      <td>0002.png</td>\n",
       "      <td>75 56 74 66 1 58 63 70 64 58 60 1 57 60 64 69 ...</td>\n",
       "    </tr>\n",
       "    <tr>\n",
       "      <th>3</th>\n",
       "      <td>0003.png</td>\n",
       "      <td>56 59 77 64 74 60 73 74 1 75 63 56 75 1 36 34 ...</td>\n",
       "    </tr>\n",
       "    <tr>\n",
       "      <th>4</th>\n",
       "      <td>0004.png</td>\n",
       "      <td>60 74 71 60 58 64 56 67 67 80 1 49 63 56 75 1 ...</td>\n",
       "    </tr>\n",
       "  </tbody>\n",
       "</table>\n",
       "</div>"
      ],
      "text/plain": [
       "   filename                                           char_ids\n",
       "0  0000.png  67 56 58 60 14 1 59 60 56 75 63 1 61 70 76 73 ...\n",
       "1  0001.png  61 70 70 59 1 75 78 60 69 75 64 60 75 63 1 52 ...\n",
       "2  0002.png  75 56 74 66 1 58 63 70 64 58 60 1 57 60 64 69 ...\n",
       "3  0003.png  56 59 77 64 74 60 73 74 1 75 63 56 75 1 36 34 ...\n",
       "4  0004.png  60 74 71 60 58 64 56 67 67 80 1 49 63 56 75 1 ..."
      ]
     },
     "execution_count": 72,
     "metadata": {},
     "output_type": "execute_result"
    }
   ],
   "source": [
    "csv['char_ids'] = str_ids\n",
    "csv = csv[['filename', 'char_ids']]\n",
    "csv.head()"
   ]
  },
  {
   "cell_type": "markdown",
   "metadata": {
    "heading_collapsed": true,
    "hidden": true
   },
   "source": [
    "### Verify"
   ]
  },
  {
   "cell_type": "code",
   "execution_count": 31,
   "metadata": {
    "ExecuteTime": {
     "end_time": "2018-11-14T00:03:51.167018Z",
     "start_time": "2018-11-14T00:03:51.136151Z"
    },
    "hidden": true
   },
   "outputs": [],
   "source": [
    "def label_text(pred):\n",
    "#     ints = to_np(pred).astype(int)\n",
    "#     ints = np.trim_zeros(ints)   # remove padding (0)\n",
    "    return ''.join([itos[int(i)] for i in pred])"
   ]
  },
  {
   "cell_type": "code",
   "execution_count": 34,
   "metadata": {
    "ExecuteTime": {
     "end_time": "2018-11-14T00:07:22.202877Z",
     "start_time": "2018-11-14T00:07:20.938069Z"
    },
    "hidden": true,
    "scrolled": true
   },
   "outputs": [
    {
     "ename": "ValueError",
     "evalue": "left cannot be >= right",
     "output_type": "error",
     "traceback": [
      "\u001b[0;31m---------------------------------------------------------------------------\u001b[0m",
      "\u001b[0;31mValueError\u001b[0m                                Traceback (most recent call last)",
      "\u001b[0;32m<ipython-input-34-cd2491f54cb3>\u001b[0m in \u001b[0;36m<module>\u001b[0;34m()\u001b[0m\n\u001b[1;32m      6\u001b[0m     \u001b[0max\u001b[0m\u001b[0;34m.\u001b[0m\u001b[0mset_title\u001b[0m\u001b[0;34m(\u001b[0m\u001b[0mlabel_text\u001b[0m\u001b[0;34m(\u001b[0m\u001b[0mrow\u001b[0m\u001b[0;34m.\u001b[0m\u001b[0mchar_ids\u001b[0m\u001b[0;34m.\u001b[0m\u001b[0msplit\u001b[0m\u001b[0;34m(\u001b[0m\u001b[0;34m' '\u001b[0m\u001b[0;34m)\u001b[0m\u001b[0;34m)\u001b[0m\u001b[0;34m)\u001b[0m\u001b[0;34m\u001b[0m\u001b[0m\n\u001b[1;32m      7\u001b[0m \u001b[0;34m\u001b[0m\u001b[0m\n\u001b[0;32m----> 8\u001b[0;31m \u001b[0mplt\u001b[0m\u001b[0;34m.\u001b[0m\u001b[0mtight_layout\u001b[0m\u001b[0;34m(\u001b[0m\u001b[0mpad\u001b[0m\u001b[0;34m=\u001b[0m\u001b[0;36m0.2\u001b[0m\u001b[0;34m)\u001b[0m\u001b[0;34m\u001b[0m\u001b[0m\n\u001b[0m",
      "\u001b[0;32m~/anaconda3/envs/fastai/lib/python3.6/site-packages/matplotlib/pyplot.py\u001b[0m in \u001b[0;36mtight_layout\u001b[0;34m(pad, h_pad, w_pad, rect)\u001b[0m\n\u001b[1;32m   1364\u001b[0m     \"\"\"\n\u001b[1;32m   1365\u001b[0m     \u001b[0mfig\u001b[0m \u001b[0;34m=\u001b[0m \u001b[0mgcf\u001b[0m\u001b[0;34m(\u001b[0m\u001b[0;34m)\u001b[0m\u001b[0;34m\u001b[0m\u001b[0m\n\u001b[0;32m-> 1366\u001b[0;31m     \u001b[0mfig\u001b[0m\u001b[0;34m.\u001b[0m\u001b[0mtight_layout\u001b[0m\u001b[0;34m(\u001b[0m\u001b[0mpad\u001b[0m\u001b[0;34m=\u001b[0m\u001b[0mpad\u001b[0m\u001b[0;34m,\u001b[0m \u001b[0mh_pad\u001b[0m\u001b[0;34m=\u001b[0m\u001b[0mh_pad\u001b[0m\u001b[0;34m,\u001b[0m \u001b[0mw_pad\u001b[0m\u001b[0;34m=\u001b[0m\u001b[0mw_pad\u001b[0m\u001b[0;34m,\u001b[0m \u001b[0mrect\u001b[0m\u001b[0;34m=\u001b[0m\u001b[0mrect\u001b[0m\u001b[0;34m)\u001b[0m\u001b[0;34m\u001b[0m\u001b[0m\n\u001b[0m\u001b[1;32m   1367\u001b[0m \u001b[0;34m\u001b[0m\u001b[0m\n\u001b[1;32m   1368\u001b[0m \u001b[0;34m\u001b[0m\u001b[0m\n",
      "\u001b[0;32m~/anaconda3/envs/fastai/lib/python3.6/site-packages/matplotlib/figure.py\u001b[0m in \u001b[0;36mtight_layout\u001b[0;34m(self, renderer, pad, h_pad, w_pad, rect)\u001b[0m\n\u001b[1;32m   2274\u001b[0m             \u001b[0mself\u001b[0m\u001b[0;34m,\u001b[0m \u001b[0mself\u001b[0m\u001b[0;34m.\u001b[0m\u001b[0maxes\u001b[0m\u001b[0;34m,\u001b[0m \u001b[0msubplotspec_list\u001b[0m\u001b[0;34m,\u001b[0m \u001b[0mrenderer\u001b[0m\u001b[0;34m,\u001b[0m\u001b[0;34m\u001b[0m\u001b[0m\n\u001b[1;32m   2275\u001b[0m             pad=pad, h_pad=h_pad, w_pad=w_pad, rect=rect)\n\u001b[0;32m-> 2276\u001b[0;31m         \u001b[0mself\u001b[0m\u001b[0;34m.\u001b[0m\u001b[0msubplots_adjust\u001b[0m\u001b[0;34m(\u001b[0m\u001b[0;34m**\u001b[0m\u001b[0mkwargs\u001b[0m\u001b[0;34m)\u001b[0m\u001b[0;34m\u001b[0m\u001b[0m\n\u001b[0m\u001b[1;32m   2277\u001b[0m \u001b[0;34m\u001b[0m\u001b[0m\n\u001b[1;32m   2278\u001b[0m     \u001b[0;32mdef\u001b[0m \u001b[0malign_xlabels\u001b[0m\u001b[0;34m(\u001b[0m\u001b[0mself\u001b[0m\u001b[0;34m,\u001b[0m \u001b[0maxs\u001b[0m\u001b[0;34m=\u001b[0m\u001b[0;32mNone\u001b[0m\u001b[0;34m)\u001b[0m\u001b[0;34m:\u001b[0m\u001b[0;34m\u001b[0m\u001b[0m\n",
      "\u001b[0;32m~/anaconda3/envs/fastai/lib/python3.6/site-packages/matplotlib/figure.py\u001b[0m in \u001b[0;36msubplots_adjust\u001b[0;34m(self, *args, **kwargs)\u001b[0m\n\u001b[1;32m   2086\u001b[0m \u001b[0;34m\u001b[0m\u001b[0m\n\u001b[1;32m   2087\u001b[0m         \"\"\"\n\u001b[0;32m-> 2088\u001b[0;31m         \u001b[0mself\u001b[0m\u001b[0;34m.\u001b[0m\u001b[0msubplotpars\u001b[0m\u001b[0;34m.\u001b[0m\u001b[0mupdate\u001b[0m\u001b[0;34m(\u001b[0m\u001b[0;34m*\u001b[0m\u001b[0margs\u001b[0m\u001b[0;34m,\u001b[0m \u001b[0;34m**\u001b[0m\u001b[0mkwargs\u001b[0m\u001b[0;34m)\u001b[0m\u001b[0;34m\u001b[0m\u001b[0m\n\u001b[0m\u001b[1;32m   2089\u001b[0m         \u001b[0;32mfor\u001b[0m \u001b[0max\u001b[0m \u001b[0;32min\u001b[0m \u001b[0mself\u001b[0m\u001b[0;34m.\u001b[0m\u001b[0maxes\u001b[0m\u001b[0;34m:\u001b[0m\u001b[0;34m\u001b[0m\u001b[0m\n\u001b[1;32m   2090\u001b[0m             \u001b[0;32mif\u001b[0m \u001b[0;32mnot\u001b[0m \u001b[0misinstance\u001b[0m\u001b[0;34m(\u001b[0m\u001b[0max\u001b[0m\u001b[0;34m,\u001b[0m \u001b[0mSubplotBase\u001b[0m\u001b[0;34m)\u001b[0m\u001b[0;34m:\u001b[0m\u001b[0;34m\u001b[0m\u001b[0m\n",
      "\u001b[0;32m~/anaconda3/envs/fastai/lib/python3.6/site-packages/matplotlib/figure.py\u001b[0m in \u001b[0;36mupdate\u001b[0;34m(self, left, bottom, right, top, wspace, hspace)\u001b[0m\n\u001b[1;32m    239\u001b[0m             \u001b[0;32mif\u001b[0m \u001b[0mself\u001b[0m\u001b[0;34m.\u001b[0m\u001b[0mleft\u001b[0m \u001b[0;34m>=\u001b[0m \u001b[0mself\u001b[0m\u001b[0;34m.\u001b[0m\u001b[0mright\u001b[0m\u001b[0;34m:\u001b[0m\u001b[0;34m\u001b[0m\u001b[0m\n\u001b[1;32m    240\u001b[0m                 \u001b[0mreset\u001b[0m\u001b[0;34m(\u001b[0m\u001b[0;34m)\u001b[0m\u001b[0;34m\u001b[0m\u001b[0m\n\u001b[0;32m--> 241\u001b[0;31m                 \u001b[0;32mraise\u001b[0m \u001b[0mValueError\u001b[0m\u001b[0;34m(\u001b[0m\u001b[0;34m'left cannot be >= right'\u001b[0m\u001b[0;34m)\u001b[0m\u001b[0;34m\u001b[0m\u001b[0m\n\u001b[0m\u001b[1;32m    242\u001b[0m \u001b[0;34m\u001b[0m\u001b[0m\n\u001b[1;32m    243\u001b[0m             \u001b[0;32mif\u001b[0m \u001b[0mself\u001b[0m\u001b[0;34m.\u001b[0m\u001b[0mbottom\u001b[0m \u001b[0;34m>=\u001b[0m \u001b[0mself\u001b[0m\u001b[0;34m.\u001b[0m\u001b[0mtop\u001b[0m\u001b[0;34m:\u001b[0m\u001b[0;34m\u001b[0m\u001b[0m\n",
      "\u001b[0;31mValueError\u001b[0m: left cannot be >= right"
     ]
    },
    {
     "data": {
      "image/png": "[encoded data removed]",
      "text/plain": [
       "<Figure size 720x720 with 5 Axes>"
      ]
     },
     "metadata": {},
     "output_type": "display_data"
    }
   ],
   "source": [
    "fig, axes = plt.subplots(5,1, figsize=(10, 10))\n",
    "for i,ax in enumerate(axes.flat):\n",
    "    row = synth.iloc[i]\n",
    "    im = Image.open(synth_path/row.filename)\n",
    "    ax.imshow(im)\n",
    "    ax.set_title(label_text(row.char_ids.split(' ')))\n",
    "    \n",
    "plt.tight_layout(pad=0.2)"
   ]
  },
  {
   "cell_type": "code",
   "execution_count": null,
   "metadata": {
    "hidden": true
   },
   "outputs": [],
   "source": []
  }
 ],
 "metadata": {
  "kernelspec": {
   "display_name": "Python 3",
   "language": "python",
   "name": "python3"
  },
  "language_info": {
   "codemirror_mode": {
    "name": "ipython",
    "version": 3
   },
   "file_extension": ".py",
   "mimetype": "text/x-python",
   "name": "python",
   "nbconvert_exporter": "python",
   "pygments_lexer": "ipython3",
   "version": "3.6.6"
  },
  "notify_time": "30",
  "toc": {
   "nav_menu": {},
   "number_sections": true,
   "sideBar": true,
   "skip_h1_title": false,
   "title_cell": "Table of Contents",
   "title_sidebar": "Contents",
   "toc_cell": false,
   "toc_position": {},
   "toc_section_display": true,
   "toc_window_display": false
  },
  "varInspector": {
   "cols": {
    "lenName": 16,
    "lenType": 16,
    "lenVar": 40
   },
   "kernels_config": {
    "python": {
     "delete_cmd_postfix": "",
     "delete_cmd_prefix": "del ",
     "library": "var_list.py",
     "varRefreshCmd": "print(var_dic_list())"
    },
    "r": {
     "delete_cmd_postfix": ") ",
     "delete_cmd_prefix": "rm(",
     "library": "var_list.r",
     "varRefreshCmd": "cat(var_dic_list()) "
    }
   },
   "types_to_exclude": [
    "module",
    "function",
    "builtin_function_or_method",
    "instance",
    "_Feature"
   ],
   "window_display": false
  }
 },
 "nbformat": 4,
 "nbformat_minor": 2
}
