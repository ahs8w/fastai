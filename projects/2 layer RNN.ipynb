{
 "cells": [
  {
   "cell_type": "code",
   "execution_count": 56,
   "metadata": {
    "ExecuteTime": {
     "end_time": "2018-10-11T23:22:23.513907Z",
     "start_time": "2018-10-11T23:22:23.363566Z"
    }
   },
   "outputs": [],
   "source": [
    "%reload_ext autoreload\n",
    "%autoreload 2\n",
    "%matplotlib inline\n",
    "\n",
    "from fastai.io import *\n",
    "from fastai.conv_learner import *\n",
    "\n",
    "from fastai.column_data import *\n",
    "from fastai.lm_rnn import repackage_var"
   ]
  },
  {
   "cell_type": "markdown",
   "metadata": {},
   "source": [
    "# Prelim"
   ]
  },
  {
   "cell_type": "code",
   "execution_count": 2,
   "metadata": {
    "ExecuteTime": {
     "end_time": "2018-10-11T22:33:26.253520Z",
     "start_time": "2018-10-11T22:33:26.075375Z"
    }
   },
   "outputs": [],
   "source": [
    "!mkdir 'data/nietzsche'\n",
    "PATH = Path('data/nietzsche')"
   ]
  },
  {
   "cell_type": "code",
   "execution_count": 3,
   "metadata": {
    "ExecuteTime": {
     "end_time": "2018-10-11T22:33:43.678424Z",
     "start_time": "2018-10-11T22:33:39.938144Z"
    }
   },
   "outputs": [
    {
     "name": "stderr",
     "output_type": "stream",
     "text": [
      "nietzsche.txt: 606kB [00:03, 164kB/s]                             "
     ]
    },
    {
     "name": "stdout",
     "output_type": "stream",
     "text": [
      "corpus length: 600893\n"
     ]
    },
    {
     "name": "stderr",
     "output_type": "stream",
     "text": [
      "\n"
     ]
    }
   ],
   "source": [
    "get_data(\"https://s3.amazonaws.com/text-datasets/nietzsche.txt\", f'{PATH}nietzsche.txt')\n",
    "text = open(f'{PATH}nietzsche.txt').read()\n",
    "print('corpus length:', len(text))"
   ]
  },
  {
   "cell_type": "code",
   "execution_count": 4,
   "metadata": {
    "ExecuteTime": {
     "end_time": "2018-10-11T22:33:56.157719Z",
     "start_time": "2018-10-11T22:33:56.106789Z"
    }
   },
   "outputs": [
    {
     "data": {
      "text/plain": [
       "'PREFACE\\n\\n\\nSUPPOSING that Truth is a woman--what then? Is there not ground\\nfor suspecting that all philosophers, in so far as they have been\\ndogmatists, have failed to understand women--that the terrible\\nseriousness and clumsy importunity with which they have usually paid\\ntheir addresses to Truth, have been unskilled and unseemly methods for\\nwinning a woman? Certainly she has never allowed herself '"
      ]
     },
     "execution_count": 4,
     "metadata": {},
     "output_type": "execute_result"
    }
   ],
   "source": [
    "text[:400]"
   ]
  },
  {
   "cell_type": "code",
   "execution_count": 5,
   "metadata": {
    "ExecuteTime": {
     "end_time": "2018-10-11T22:34:09.453224Z",
     "start_time": "2018-10-11T22:34:09.393452Z"
    }
   },
   "outputs": [
    {
     "name": "stdout",
     "output_type": "stream",
     "text": [
      "total chars: 85\n"
     ]
    }
   ],
   "source": [
    "chars = sorted(set(text))\n",
    "vocab_size = len(chars)+1\n",
    "print('total chars:', vocab_size)"
   ]
  },
  {
   "cell_type": "code",
   "execution_count": 8,
   "metadata": {
    "ExecuteTime": {
     "end_time": "2018-10-11T22:36:34.886542Z",
     "start_time": "2018-10-11T22:36:34.835640Z"
    }
   },
   "outputs": [
    {
     "data": {
      "text/plain": [
       "'_pad_\\n !\"\\'(),-.0123456789:;=?ABCDEFGHIJKLMNOPQRSTUVWXYZ[]_abcdefghijklmnopqrstuvwxyzÆäæéë'"
      ]
     },
     "execution_count": 8,
     "metadata": {},
     "output_type": "execute_result"
    }
   ],
   "source": [
    "chars.insert(0, '_pad_')\n",
    "''.join(chars)"
   ]
  },
  {
   "cell_type": "code",
   "execution_count": 9,
   "metadata": {
    "ExecuteTime": {
     "end_time": "2018-10-11T22:36:48.523707Z",
     "start_time": "2018-10-11T22:36:48.474371Z"
    }
   },
   "outputs": [],
   "source": [
    "char_indices = {c: i for i, c in enumerate(chars)}\n",
    "indices_char = {i: c for i, c in enumerate(chars)}"
   ]
  },
  {
   "cell_type": "code",
   "execution_count": 10,
   "metadata": {
    "ExecuteTime": {
     "end_time": "2018-10-11T22:37:00.403715Z",
     "start_time": "2018-10-11T22:37:00.305953Z"
    }
   },
   "outputs": [
    {
     "data": {
      "text/plain": [
       "[40, 42, 29, 30, 25, 27, 29, 1, 1, 1]"
      ]
     },
     "execution_count": 10,
     "metadata": {},
     "output_type": "execute_result"
    }
   ],
   "source": [
    "idx = [char_indices[c] for c in text]\n",
    "idx[:10]"
   ]
  },
  {
   "cell_type": "markdown",
   "metadata": {},
   "source": [
    "# Data"
   ]
  },
  {
   "cell_type": "code",
   "execution_count": 12,
   "metadata": {
    "ExecuteTime": {
     "end_time": "2018-10-11T22:42:36.467379Z",
     "start_time": "2018-10-11T22:42:35.595279Z"
    }
   },
   "outputs": [
    {
     "name": "stdout",
     "output_type": "stream",
     "text": [
      "(60089, 10) (60089, 10)\n"
     ]
    },
    {
     "data": {
      "text/plain": [
       "(array([[40, 42, 29, 30, 25, 27, 29,  1,  1,  1],\n",
       "        [43, 45, 40, 40, 39, 43, 33, 38, 31,  2],\n",
       "        [73, 61, 54, 73,  2, 44, 71, 74, 73, 61],\n",
       "        [ 2, 62, 72,  2, 54,  2, 76, 68, 66, 54],\n",
       "        [67,  9,  9, 76, 61, 54, 73,  2, 73, 61],\n",
       "        [58, 67, 24,  2, 33, 72,  2, 73, 61, 58],\n",
       "        [71, 58,  2, 67, 68, 73,  2, 60, 71, 68],\n",
       "        [74, 67, 57,  1, 59, 68, 71,  2, 72, 74],\n",
       "        [72, 69, 58, 56, 73, 62, 67, 60,  2, 73],\n",
       "        [61, 54, 73,  2, 54, 65, 65,  2, 69, 61]]),\n",
       " array([[42, 29, 30, 25, 27, 29,  1,  1,  1, 43],\n",
       "        [45, 40, 40, 39, 43, 33, 38, 31,  2, 73],\n",
       "        [61, 54, 73,  2, 44, 71, 74, 73, 61,  2],\n",
       "        [62, 72,  2, 54,  2, 76, 68, 66, 54, 67],\n",
       "        [ 9,  9, 76, 61, 54, 73,  2, 73, 61, 58],\n",
       "        [67, 24,  2, 33, 72,  2, 73, 61, 58, 71],\n",
       "        [58,  2, 67, 68, 73,  2, 60, 71, 68, 74],\n",
       "        [67, 57,  1, 59, 68, 71,  2, 72, 74, 72],\n",
       "        [69, 58, 56, 73, 62, 67, 60,  2, 73, 61],\n",
       "        [54, 73,  2, 54, 65, 65,  2, 69, 61, 62]]))"
      ]
     },
     "execution_count": 12,
     "metadata": {},
     "output_type": "execute_result"
    }
   ],
   "source": [
    "cs = 10\n",
    "c_in_data  = [[idx[i+j] for i in range(cs)] for j in range(0, len(idx)-cs-1, cs)]\n",
    "c_out_data = [[idx[i+j] for i in range(cs)] for j in range(1, len(idx)-cs, cs)]\n",
    "\n",
    "xs = np.stack(c_in_data)\n",
    "ys = np.stack(c_out_data)\n",
    "print(xs.shape, ys.shape)\n",
    "\n",
    "xs[:cs,:cs], ys[:cs,:cs]"
   ]
  },
  {
   "cell_type": "code",
   "execution_count": 14,
   "metadata": {
    "ExecuteTime": {
     "end_time": "2018-10-11T22:43:44.764849Z",
     "start_time": "2018-10-11T22:43:44.668426Z"
    }
   },
   "outputs": [],
   "source": [
    "val_idx = get_cv_idxs(len(xs)-cs-1)"
   ]
  },
  {
   "cell_type": "code",
   "execution_count": 15,
   "metadata": {
    "ExecuteTime": {
     "end_time": "2018-10-11T22:43:54.441214Z",
     "start_time": "2018-10-11T22:43:54.333980Z"
    }
   },
   "outputs": [],
   "source": [
    "md = ColumnarModelData.from_arrays('.', val_idx, xs, ys, bs=512)"
   ]
  },
  {
   "cell_type": "code",
   "execution_count": 23,
   "metadata": {
    "ExecuteTime": {
     "end_time": "2018-10-11T22:55:25.099735Z",
     "start_time": "2018-10-11T22:55:24.977029Z"
    }
   },
   "outputs": [],
   "source": [
    "*xs,yt = next(iter(md.trn_dl))\n",
    "# xs => 10 x [512]\n",
    "# yt = tensor(512,10)"
   ]
  },
  {
   "cell_type": "code",
   "execution_count": null,
   "metadata": {},
   "outputs": [],
   "source": [
    "t = m(*V(xs))"
   ]
  },
  {
   "cell_type": "markdown",
   "metadata": {},
   "source": [
    "# RNN"
   ]
  },
  {
   "cell_type": "code",
   "execution_count": 74,
   "metadata": {
    "ExecuteTime": {
     "end_time": "2018-10-11T23:43:26.608267Z",
     "start_time": "2018-10-11T23:43:26.468838Z"
    }
   },
   "outputs": [],
   "source": [
    "class CustomRnn(nn.Module):\n",
    "    def __init__(self, vocab_size, n_hidden):\n",
    "        super().__init__()\n",
    "        self.n_hidden = n_hidden\n",
    "        \n",
    "        self.embed = nn.Embedding(vocab_size, n_hidden)\n",
    "        self.l_in  = nn.Linear(n_hidden+n_hidden, n_hidden)\n",
    "        self.l_hidden = nn.Linear(n_hidden, n_hidden)\n",
    "        self.l_out = nn.Linear(n_hidden, vocab_size)\n",
    "        self.init_weights()\n",
    "        self.h = torch.tensor([])    # need this to maintain state past 10 chars\n",
    "        \n",
    "    def init_weights(self):\n",
    "        # use this to avoid gradient explosion (matrix multiplier increasing/decreasing activations exponentially)\n",
    "        self.l_hidden.weight.data.copy_(torch.eye(self.n_hidden))\n",
    "        self.l_hidden.bias.data.fill_(0)\n",
    "        \n",
    "    def forward(self, *cs):\n",
    "        bs = cs[0].size(0)  #512\n",
    "        if self.h.size(0) != bs: self.h = V(torch.zeros(bs, self.n_hidden))\n",
    "        res = []\n",
    "        for c in cs:\n",
    "            inp = torch.cat((self.h, self.embed(c)), 1)\n",
    "            inp = torch.relu(self.l_in(inp))\n",
    "            self.h = torch.tanh(self.l_hidden(inp))   # hidden state\n",
    "            out = torch.log_softmax(self.l_out(self.h), dim=-1)\n",
    "            res.append(out)\n",
    "            \n",
    "        self.h = repackage_var(self.h)   # bptt\n",
    "        return torch.stack(res)"
   ]
  },
  {
   "cell_type": "code",
   "execution_count": 75,
   "metadata": {
    "ExecuteTime": {
     "end_time": "2018-10-11T23:43:27.463105Z",
     "start_time": "2018-10-11T23:43:27.337922Z"
    }
   },
   "outputs": [],
   "source": [
    "m = CustomRnn(vocab_size, 256)\n",
    "opt = optim.Adam(m.parameters(), 1e-3)"
   ]
  },
  {
   "cell_type": "code",
   "execution_count": 76,
   "metadata": {
    "ExecuteTime": {
     "end_time": "2018-10-11T23:43:28.586204Z",
     "start_time": "2018-10-11T23:43:28.452070Z"
    }
   },
   "outputs": [],
   "source": [
    "# original implementation expects 2 minibatches of vectors (2 rank 2 tensors)\n",
    "# we have a rank 3 tensor: we have 8 time steps of 84 probabilities for 512 items in the minibatch\n",
    "def nll_loss_seq(inp, targ):\n",
    "    # input: (10,512,85) tensor\n",
    "    sl,bs,nc = inp.size()\n",
    "    # target: (512,10) -> need to transpose\n",
    "    targ = targ.permute(1,0).contiguous().view(-1)\n",
    "    return F.nll_loss(inp.view(-1,nc), targ, reduction='sum')/bs"
   ]
  },
  {
   "cell_type": "code",
   "execution_count": 77,
   "metadata": {
    "ExecuteTime": {
     "end_time": "2018-10-11T23:43:45.952888Z",
     "start_time": "2018-10-11T23:43:29.303816Z"
    }
   },
   "outputs": [
    {
     "data": {
      "application/vnd.jupyter.widget-view+json": {
       "model_id": "5c2c0bc73f0d4e9baaa9263b2cd032d5",
       "version_major": 2,
       "version_minor": 0
      },
      "text/plain": [
       "HBox(children=(IntProgress(value=0, description='Epoch', max=1), HTML(value='')))"
      ]
     },
     "metadata": {},
     "output_type": "display_data"
    },
    {
     "name": "stdout",
     "output_type": "stream",
     "text": [
      "epoch      trn_loss   val_loss                             \n",
      "    0      24.523248  22.657841 \n"
     ]
    },
    {
     "data": {
      "text/plain": [
       "[22.657840973865575]"
      ]
     },
     "execution_count": 77,
     "metadata": {},
     "output_type": "execute_result"
    }
   ],
   "source": [
    "fit(m, md, 1, opt, nll_loss_seq)"
   ]
  },
  {
   "cell_type": "code",
   "execution_count": 78,
   "metadata": {
    "ExecuteTime": {
     "end_time": "2018-10-11T23:44:51.915982Z",
     "start_time": "2018-10-11T23:44:02.037680Z"
    }
   },
   "outputs": [
    {
     "data": {
      "application/vnd.jupyter.widget-view+json": {
       "model_id": "f0b5c688152e46c6bbec1be06f958cb5",
       "version_major": 2,
       "version_minor": 0
      },
      "text/plain": [
       "HBox(children=(IntProgress(value=0, description='Epoch', max=3), HTML(value='')))"
      ]
     },
     "metadata": {},
     "output_type": "display_data"
    },
    {
     "name": "stdout",
     "output_type": "stream",
     "text": [
      "epoch      trn_loss   val_loss                             \n",
      "    0      21.508363  20.948729 \n",
      "    1      20.600999  20.149365                            \n",
      "    2      19.912185  19.613193                            \n"
     ]
    },
    {
     "data": {
      "text/plain": [
       "[19.613192843795566]"
      ]
     },
     "execution_count": 78,
     "metadata": {},
     "output_type": "execute_result"
    }
   ],
   "source": [
    "fit(m, md, 3, opt, nll_loss_seq)"
   ]
  },
  {
   "cell_type": "markdown",
   "metadata": {},
   "source": [
    "## Test"
   ]
  },
  {
   "cell_type": "code",
   "execution_count": 105,
   "metadata": {
    "ExecuteTime": {
     "end_time": "2018-10-11T23:54:29.039248Z",
     "start_time": "2018-10-11T23:54:28.906809Z"
    }
   },
   "outputs": [],
   "source": [
    "def get_next(inp):\n",
    "    idxs = T(np.array([char_indices[c] for c in inp]))[None]\n",
    "    p = m(*VV(idxs))\n",
    "    outs = np.argmax(to_np(p), axis=-1)[0]\n",
    "    return ''.join([chars[i] for i in outs])"
   ]
  },
  {
   "cell_type": "code",
   "execution_count": 108,
   "metadata": {
    "ExecuteTime": {
     "end_time": "2018-10-11T23:55:16.327673Z",
     "start_time": "2018-10-11T23:55:16.190901Z"
    }
   },
   "outputs": [
    {
     "data": {
      "text/plain": [
       "'tneyr  y'"
      ]
     },
     "execution_count": 108,
     "metadata": {},
     "output_type": "execute_result"
    }
   ],
   "source": [
    "get_next('aimlessl')"
   ]
  },
  {
   "cell_type": "code",
   "execution_count": 79,
   "metadata": {
    "ExecuteTime": {
     "end_time": "2018-10-11T23:45:31.338462Z",
     "start_time": "2018-10-11T23:45:31.204031Z"
    }
   },
   "outputs": [],
   "source": [
    "def get_next_n(inp, n):\n",
    "    res = inp\n",
    "    for i in range(n):\n",
    "        c = get_next(inp)\n",
    "        res += c\n",
    "        inp = inp[1:]+c\n",
    "    return res"
   ]
  },
  {
   "cell_type": "code",
   "execution_count": 80,
   "metadata": {
    "ExecuteTime": {
     "end_time": "2018-10-11T23:45:38.847199Z",
     "start_time": "2018-10-11T23:45:38.699498Z"
    }
   },
   "outputs": [
    {
     "ename": "NameError",
     "evalue": "name 'get_next' is not defined",
     "output_type": "error",
     "traceback": [
      "\u001b[0;31m---------------------------------------------------------------------------\u001b[0m",
      "\u001b[0;31mNameError\u001b[0m                                 Traceback (most recent call last)",
      "\u001b[0;32m<ipython-input-80-d70d2997a112>\u001b[0m in \u001b[0;36m<module>\u001b[0;34m\u001b[0m\n\u001b[0;32m----> 1\u001b[0;31m \u001b[0mget_next_n\u001b[0m\u001b[0;34m(\u001b[0m\u001b[0;34m'for thos'\u001b[0m\u001b[0;34m,\u001b[0m \u001b[0;36m40\u001b[0m\u001b[0;34m)\u001b[0m\u001b[0;34m\u001b[0m\u001b[0m\n\u001b[0m",
      "\u001b[0;32m<ipython-input-79-edc2f4b73f5f>\u001b[0m in \u001b[0;36mget_next_n\u001b[0;34m(inp, n)\u001b[0m\n\u001b[1;32m      2\u001b[0m     \u001b[0mres\u001b[0m \u001b[0;34m=\u001b[0m \u001b[0minp\u001b[0m\u001b[0;34m\u001b[0m\u001b[0m\n\u001b[1;32m      3\u001b[0m     \u001b[0;32mfor\u001b[0m \u001b[0mi\u001b[0m \u001b[0;32min\u001b[0m \u001b[0mrange\u001b[0m\u001b[0;34m(\u001b[0m\u001b[0mn\u001b[0m\u001b[0;34m)\u001b[0m\u001b[0;34m:\u001b[0m\u001b[0;34m\u001b[0m\u001b[0m\n\u001b[0;32m----> 4\u001b[0;31m         \u001b[0mc\u001b[0m \u001b[0;34m=\u001b[0m \u001b[0mget_next\u001b[0m\u001b[0;34m(\u001b[0m\u001b[0minp\u001b[0m\u001b[0;34m)\u001b[0m\u001b[0;34m\u001b[0m\u001b[0m\n\u001b[0m\u001b[1;32m      5\u001b[0m         \u001b[0mres\u001b[0m \u001b[0;34m+=\u001b[0m \u001b[0mc\u001b[0m\u001b[0;34m\u001b[0m\u001b[0m\n\u001b[1;32m      6\u001b[0m         \u001b[0minp\u001b[0m \u001b[0;34m=\u001b[0m \u001b[0minp\u001b[0m\u001b[0;34m[\u001b[0m\u001b[0;36m1\u001b[0m\u001b[0;34m:\u001b[0m\u001b[0;34m]\u001b[0m\u001b[0;34m+\u001b[0m\u001b[0mc\u001b[0m\u001b[0;34m\u001b[0m\u001b[0m\n",
      "\u001b[0;31mNameError\u001b[0m: name 'get_next' is not defined"
     ]
    }
   ],
   "source": [
    "get_next_n('for thos', 40)"
   ]
  },
  {
   "cell_type": "code",
   "execution_count": null,
   "metadata": {},
   "outputs": [],
   "source": []
  }
 ],
 "metadata": {
  "kernelspec": {
   "display_name": "Python 3",
   "language": "python",
   "name": "python3"
  },
  "language_info": {
   "codemirror_mode": {
    "name": "ipython",
    "version": 3
   },
   "file_extension": ".py",
   "mimetype": "text/x-python",
   "name": "python",
   "nbconvert_exporter": "python",
   "pygments_lexer": "ipython3",
   "version": "3.6.6"
  },
  "toc": {
   "nav_menu": {},
   "number_sections": true,
   "sideBar": true,
   "skip_h1_title": false,
   "title_cell": "Table of Contents",
   "title_sidebar": "Contents",
   "toc_cell": false,
   "toc_position": {},
   "toc_section_display": true,
   "toc_window_display": false
  },
  "varInspector": {
   "cols": {
    "lenName": 16,
    "lenType": 16,
    "lenVar": 40
   },
   "kernels_config": {
    "python": {
     "delete_cmd_postfix": "",
     "delete_cmd_prefix": "del ",
     "library": "var_list.py",
     "varRefreshCmd": "print(var_dic_list())"
    },
    "r": {
     "delete_cmd_postfix": ") ",
     "delete_cmd_prefix": "rm(",
     "library": "var_list.r",
     "varRefreshCmd": "cat(var_dic_list()) "
    }
   },
   "types_to_exclude": [
    "module",
    "function",
    "builtin_function_or_method",
    "instance",
    "_Feature"
   ],
   "window_display": false
  }
 },
 "nbformat": 4,
 "nbformat_minor": 2
}
