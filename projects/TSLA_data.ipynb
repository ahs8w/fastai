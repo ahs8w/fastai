{
 "cells": [
  {
   "cell_type": "code",
   "execution_count": 1,
   "metadata": {
    "ExecuteTime": {
     "end_time": "2018-05-24T21:05:06.182882Z",
     "start_time": "2018-05-24T21:05:06.180120Z"
    },
    "collapsed": true
   },
   "outputs": [],
   "source": [
    "api_key = 'W4KB22GXZC6HLLMP'"
   ]
  },
  {
   "cell_type": "code",
   "execution_count": 2,
   "metadata": {
    "ExecuteTime": {
     "end_time": "2018-05-24T21:05:06.770792Z",
     "start_time": "2018-05-24T21:05:06.342083Z"
    },
    "collapsed": true
   },
   "outputs": [],
   "source": [
    "import matplotlib.pyplot as plt\n",
    "%matplotlib inline\n",
    "#plt.rcParams['figure.figsize'] = (20.0, 10.0)"
   ]
  },
  {
   "cell_type": "code",
   "execution_count": 3,
   "metadata": {
    "ExecuteTime": {
     "end_time": "2018-05-24T21:05:07.393238Z",
     "start_time": "2018-05-24T21:05:06.780219Z"
    },
    "collapsed": true
   },
   "outputs": [],
   "source": [
    "from alpha_vantage.timeseries import TimeSeries\n",
    "from alpha_vantage.techindicators import TechIndicators\n",
    "from alpha_vantage.sectorperformance import SectorPerformances"
   ]
  },
  {
   "cell_type": "code",
   "execution_count": 4,
   "metadata": {
    "ExecuteTime": {
     "end_time": "2018-05-24T21:05:07.405892Z",
     "start_time": "2018-05-24T21:05:07.402454Z"
    },
    "collapsed": true
   },
   "outputs": [],
   "source": [
    "import pandas as pd\n",
    "import os"
   ]
  },
  {
   "cell_type": "code",
   "execution_count": 5,
   "metadata": {
    "ExecuteTime": {
     "end_time": "2018-05-24T21:05:08.007798Z",
     "start_time": "2018-05-24T21:05:08.003720Z"
    },
    "collapsed": true
   },
   "outputs": [],
   "source": [
    "p = 'data/tsla/'\n",
    "os.makedirs(p, exist_ok=True)\n",
    "PATH = p"
   ]
  },
  {
   "cell_type": "code",
   "execution_count": 6,
   "metadata": {
    "ExecuteTime": {
     "end_time": "2018-05-24T21:05:08.364852Z",
     "start_time": "2018-05-24T21:05:08.361898Z"
    },
    "collapsed": true
   },
   "outputs": [],
   "source": [
    "stock = 'TSLA'"
   ]
  },
  {
   "cell_type": "markdown",
   "metadata": {},
   "source": [
    "# Time Series"
   ]
  },
  {
   "cell_type": "code",
   "execution_count": 8,
   "metadata": {
    "ExecuteTime": {
     "end_time": "2018-05-24T21:06:42.191337Z",
     "start_time": "2018-05-24T21:06:40.095332Z"
    },
    "collapsed": true
   },
   "outputs": [],
   "source": [
    "ts = TimeSeries(key=api_key, output_format='pandas')\n",
    "ts_data, meta_data = ts.get_daily(stock, outputsize='full')"
   ]
  },
  {
   "cell_type": "code",
   "execution_count": 14,
   "metadata": {
    "ExecuteTime": {
     "end_time": "2018-05-24T21:08:00.427641Z",
     "start_time": "2018-05-24T21:08:00.421702Z"
    },
    "collapsed": true
   },
   "outputs": [],
   "source": [
    "prices = ts_data[['4. close','5. volume']].rename(index=str, columns={\"4. close\": \"price\", '5. volume': 'volume'})\n",
    "prices = prices.tail(1000)"
   ]
  },
  {
   "cell_type": "code",
   "execution_count": null,
   "metadata": {
    "ExecuteTime": {
     "end_time": "2018-05-23T21:25:11.072114Z",
     "start_time": "2018-05-23T21:25:11.059320Z"
    },
    "collapsed": true
   },
   "outputs": [],
   "source": [
    "# offset price data as the previous trading day's close: prev_close\n",
    "p_1 = prices.as_matrix(['price']).squeeze()[:-1]  # drop last value in the array of prices\n",
    "prices = prices[1:].copy()  # drop first row in df\n",
    "prices['prev_close'] = p_1\n",
    "prices.head()"
   ]
  },
  {
   "cell_type": "code",
   "execution_count": null,
   "metadata": {
    "ExecuteTime": {
     "end_time": "2018-05-23T21:31:16.840888Z",
     "start_time": "2018-05-23T21:31:16.829393Z"
    },
    "collapsed": true
   },
   "outputs": [],
   "source": [
    "# offset price data as the next day's close: next_close (this is the value we're trying to predict)\n",
    "n_1 = prices.as_matrix(['price']).squeeze()[1:]  # drop first value in the array of prices\n",
    "# append fake to end to make right length  **REMOVE last row after merges**\n",
    "n_1 = np.append(n_1, np.mean(n_1))\n",
    "prices['next_close'] = n_1\n",
    "prices.tail()"
   ]
  },
  {
   "cell_type": "markdown",
   "metadata": {},
   "source": [
    "# Technical Indicators"
   ]
  },
  {
   "cell_type": "code",
   "execution_count": 10,
   "metadata": {
    "ExecuteTime": {
     "end_time": "2018-05-24T21:06:55.266699Z",
     "start_time": "2018-05-24T21:06:55.263495Z"
    },
    "collapsed": true
   },
   "outputs": [],
   "source": [
    "ti = TechIndicators(key=api_key, output_format='pandas')"
   ]
  },
  {
   "cell_type": "code",
   "execution_count": 11,
   "metadata": {
    "ExecuteTime": {
     "end_time": "2018-05-24T21:07:00.143536Z",
     "start_time": "2018-05-24T21:06:55.839097Z"
    },
    "collapsed": true
   },
   "outputs": [],
   "source": [
    "# exponential moving averages (weighted towards recent movements)\n",
    "ema_10_data, meta = ti.get_ema(stock, time_period=10)\n",
    "ema_50_data, meta = ti.get_ema(stock, time_period=50)\n",
    "ema_200_data, meta = ti.get_ema(stock, time_period=200)\n",
    "ema10 = ema_10_data.tail(1000).rename(index=str, columns={\"EMA\": \"ema10\"})\n",
    "ema50 = ema_50_data.tail(1000).rename(index=str, columns={\"EMA\": \"ema50\"})\n",
    "ema200 = ema_200_data.tail(1000).rename(index=str, columns={\"EMA\": \"ema200\"})"
   ]
  },
  {
   "cell_type": "code",
   "execution_count": 12,
   "metadata": {
    "ExecuteTime": {
     "end_time": "2018-05-24T21:07:01.771304Z",
     "start_time": "2018-05-24T21:07:00.216304Z"
    },
    "collapsed": true
   },
   "outputs": [],
   "source": [
    "# moving average convergence divergence\n",
    "macd, meta = ti.get_macd(stock)\n",
    "macd = macd.tail(100)"
   ]
  },
  {
   "cell_type": "code",
   "execution_count": 13,
   "metadata": {
    "ExecuteTime": {
     "end_time": "2018-05-24T21:07:03.370176Z",
     "start_time": "2018-05-24T21:07:01.852083Z"
    },
    "collapsed": true
   },
   "outputs": [],
   "source": [
    "# stochastic oscillator\n",
    "so, meta = ti.get_stoch(stock)\n",
    "so = so.tail(1000)"
   ]
  },
  {
   "cell_type": "code",
   "execution_count": 15,
   "metadata": {
    "ExecuteTime": {
     "end_time": "2018-05-24T21:08:08.556430Z",
     "start_time": "2018-05-24T21:08:07.005706Z"
    },
    "collapsed": true
   },
   "outputs": [],
   "source": [
    "# rate of change\n",
    "roc, meta = ti.get_roc(stock)\n",
    "roc = roc.tail(1000)"
   ]
  },
  {
   "cell_type": "code",
   "execution_count": 16,
   "metadata": {
    "ExecuteTime": {
     "end_time": "2018-05-24T21:08:10.089778Z",
     "start_time": "2018-05-24T21:08:08.642875Z"
    },
    "collapsed": true
   },
   "outputs": [],
   "source": [
    "# average directional movement index\n",
    "adx, meta = ti.get_adx(stock)\n",
    "adx = adx.tail(1000)"
   ]
  },
  {
   "cell_type": "code",
   "execution_count": 17,
   "metadata": {
    "ExecuteTime": {
     "end_time": "2018-05-24T21:08:11.623276Z",
     "start_time": "2018-05-24T21:08:10.180912Z"
    },
    "collapsed": true
   },
   "outputs": [],
   "source": [
    "# relative strength index\n",
    "rsi, meta = ti.get_rsi(stock)\n",
    "rsi = rsi.tail(1000)"
   ]
  },
  {
   "cell_type": "code",
   "execution_count": 18,
   "metadata": {
    "ExecuteTime": {
     "end_time": "2018-05-24T21:08:13.473446Z",
     "start_time": "2018-05-24T21:08:11.713348Z"
    },
    "collapsed": true
   },
   "outputs": [],
   "source": [
    "# on-balance volume\n",
    "obv, meta = ti.get_obv(stock)\n",
    "obv = obv.tail(1000)"
   ]
  },
  {
   "cell_type": "code",
   "execution_count": 19,
   "metadata": {
    "ExecuteTime": {
     "end_time": "2018-05-24T21:08:17.462652Z",
     "start_time": "2018-05-24T21:08:13.574711Z"
    },
    "collapsed": true
   },
   "outputs": [],
   "source": [
    "# commodity channel index\n",
    "cci, meta = ti.get_cci(stock)\n",
    "cci = cci.tail(1000)"
   ]
  },
  {
   "cell_type": "code",
   "execution_count": 20,
   "metadata": {
    "ExecuteTime": {
     "end_time": "2018-05-24T21:08:20.445029Z",
     "start_time": "2018-05-24T21:08:17.562443Z"
    },
    "collapsed": true
   },
   "outputs": [],
   "source": [
    "# Chaikin A/D line\n",
    "ad, meta = ti.get_ad(stock)\n",
    "ad = ad.tail(1000)"
   ]
  },
  {
   "cell_type": "code",
   "execution_count": 21,
   "metadata": {
    "ExecuteTime": {
     "end_time": "2018-05-24T21:08:23.068554Z",
     "start_time": "2018-05-24T21:08:20.543982Z"
    },
    "collapsed": true
   },
   "outputs": [],
   "source": [
    "# Aroon values\n",
    "aroon, meta = ti.get_aroon(stock)\n",
    "aroon = aroon.tail(1000)"
   ]
  },
  {
   "cell_type": "markdown",
   "metadata": {},
   "source": [
    "### join dfs"
   ]
  },
  {
   "cell_type": "code",
   "execution_count": 22,
   "metadata": {
    "ExecuteTime": {
     "end_time": "2018-05-24T21:08:25.367833Z",
     "start_time": "2018-05-24T21:08:25.341182Z"
    },
    "collapsed": true
   },
   "outputs": [],
   "source": [
    "df = prices.join(ema10)\n",
    "df = df.join(ema50)\n",
    "df = df.join(ema200)\n",
    "df = df.join(macd)\n",
    "df = df.join(so)\n",
    "df = df.join(roc)\n",
    "df = df.join(adx)\n",
    "df = df.join(rsi)\n",
    "df = df.join(obv)\n",
    "df = df.join(cci)\n",
    "df = df.join(ad)\n",
    "df = df.join(aroon)"
   ]
  },
  {
   "cell_type": "code",
   "execution_count": 23,
   "metadata": {
    "ExecuteTime": {
     "end_time": "2018-05-24T21:08:27.322858Z",
     "start_time": "2018-05-24T21:08:27.300110Z"
    }
   },
   "outputs": [
    {
     "data": {
      "text/html": [
       "<div>\n",
       "<style>\n",
       "    .dataframe thead tr:only-child th {\n",
       "        text-align: right;\n",
       "    }\n",
       "\n",
       "    .dataframe thead th {\n",
       "        text-align: left;\n",
       "    }\n",
       "\n",
       "    .dataframe tbody tr th {\n",
       "        vertical-align: top;\n",
       "    }\n",
       "</style>\n",
       "<table border=\"1\" class=\"dataframe\">\n",
       "  <thead>\n",
       "    <tr style=\"text-align: right;\">\n",
       "      <th></th>\n",
       "      <th>price</th>\n",
       "      <th>volume</th>\n",
       "      <th>ema10</th>\n",
       "      <th>ema50</th>\n",
       "      <th>ema200</th>\n",
       "      <th>MACD_Signal</th>\n",
       "      <th>MACD_Hist</th>\n",
       "      <th>MACD</th>\n",
       "      <th>SlowD</th>\n",
       "      <th>SlowK</th>\n",
       "      <th>ROC</th>\n",
       "      <th>ADX</th>\n",
       "      <th>RSI</th>\n",
       "      <th>OBV</th>\n",
       "      <th>CCI</th>\n",
       "      <th>Chaikin A/D</th>\n",
       "      <th>Aroon Down</th>\n",
       "      <th>Aroon Up</th>\n",
       "    </tr>\n",
       "    <tr>\n",
       "      <th>date</th>\n",
       "      <th></th>\n",
       "      <th></th>\n",
       "      <th></th>\n",
       "      <th></th>\n",
       "      <th></th>\n",
       "      <th></th>\n",
       "      <th></th>\n",
       "      <th></th>\n",
       "      <th></th>\n",
       "      <th></th>\n",
       "      <th></th>\n",
       "      <th></th>\n",
       "      <th></th>\n",
       "      <th></th>\n",
       "      <th></th>\n",
       "      <th></th>\n",
       "      <th></th>\n",
       "      <th></th>\n",
       "    </tr>\n",
       "  </thead>\n",
       "  <tbody>\n",
       "    <tr>\n",
       "      <th>2018-05-18</th>\n",
       "      <td>276.82</td>\n",
       "      <td>7251887.0</td>\n",
       "      <td>289.3731</td>\n",
       "      <td>299.3293</td>\n",
       "      <td>313.3454</td>\n",
       "      <td>-1.4826</td>\n",
       "      <td>-1.5992</td>\n",
       "      <td>-3.0818</td>\n",
       "      <td>13.0103</td>\n",
       "      <td>13.9185</td>\n",
       "      <td>-4.6238</td>\n",
       "      <td>13.0771</td>\n",
       "      <td>42.0497</td>\n",
       "      <td>347153798.0</td>\n",
       "      <td>-109.5258</td>\n",
       "      <td>1.706525e+08</td>\n",
       "      <td>100.0</td>\n",
       "      <td>70.0</td>\n",
       "    </tr>\n",
       "    <tr>\n",
       "      <th>2018-05-21</th>\n",
       "      <td>284.49</td>\n",
       "      <td>9182571.0</td>\n",
       "      <td>288.4853</td>\n",
       "      <td>298.7473</td>\n",
       "      <td>313.0582</td>\n",
       "      <td>-1.8480</td>\n",
       "      <td>-1.4616</td>\n",
       "      <td>-3.3096</td>\n",
       "      <td>18.7833</td>\n",
       "      <td>27.7756</td>\n",
       "      <td>0.3952</td>\n",
       "      <td>13.0970</td>\n",
       "      <td>45.4339</td>\n",
       "      <td>356336369.0</td>\n",
       "      <td>-50.6148</td>\n",
       "      <td>1.672192e+08</td>\n",
       "      <td>95.0</td>\n",
       "      <td>65.0</td>\n",
       "    </tr>\n",
       "    <tr>\n",
       "      <th>2018-05-22</th>\n",
       "      <td>275.01</td>\n",
       "      <td>8945756.0</td>\n",
       "      <td>286.0352</td>\n",
       "      <td>297.8165</td>\n",
       "      <td>312.6796</td>\n",
       "      <td>-2.3197</td>\n",
       "      <td>-1.8868</td>\n",
       "      <td>-4.2066</td>\n",
       "      <td>22.5514</td>\n",
       "      <td>25.9602</td>\n",
       "      <td>-2.9810</td>\n",
       "      <td>13.3928</td>\n",
       "      <td>42.2257</td>\n",
       "      <td>347390613.0</td>\n",
       "      <td>-102.8579</td>\n",
       "      <td>1.602224e+08</td>\n",
       "      <td>100.0</td>\n",
       "      <td>60.0</td>\n",
       "    </tr>\n",
       "    <tr>\n",
       "      <th>2018-05-23</th>\n",
       "      <td>279.07</td>\n",
       "      <td>5971542.0</td>\n",
       "      <td>284.7688</td>\n",
       "      <td>297.0813</td>\n",
       "      <td>312.3452</td>\n",
       "      <td>-2.7633</td>\n",
       "      <td>-1.7743</td>\n",
       "      <td>-4.5376</td>\n",
       "      <td>29.0259</td>\n",
       "      <td>33.3419</td>\n",
       "      <td>-0.5771</td>\n",
       "      <td>13.6739</td>\n",
       "      <td>44.0081</td>\n",
       "      <td>353362155.0</td>\n",
       "      <td>-108.6757</td>\n",
       "      <td>1.644966e+08</td>\n",
       "      <td>95.0</td>\n",
       "      <td>55.0</td>\n",
       "    </tr>\n",
       "    <tr>\n",
       "      <th>2018-05-24</th>\n",
       "      <td>277.85</td>\n",
       "      <td>4194011.0</td>\n",
       "      <td>283.5109</td>\n",
       "      <td>296.3271</td>\n",
       "      <td>312.0020</td>\n",
       "      <td>-3.1791</td>\n",
       "      <td>-1.6633</td>\n",
       "      <td>-4.8425</td>\n",
       "      <td>26.9403</td>\n",
       "      <td>21.5187</td>\n",
       "      <td>-2.6727</td>\n",
       "      <td>13.8773</td>\n",
       "      <td>43.5828</td>\n",
       "      <td>349168144.0</td>\n",
       "      <td>-102.1261</td>\n",
       "      <td>1.642943e+08</td>\n",
       "      <td>90.0</td>\n",
       "      <td>50.0</td>\n",
       "    </tr>\n",
       "  </tbody>\n",
       "</table>\n",
       "</div>"
      ],
      "text/plain": [
       "             price     volume     ema10     ema50    ema200  MACD_Signal  \\\n",
       "date                                                                       \n",
       "2018-05-18  276.82  7251887.0  289.3731  299.3293  313.3454      -1.4826   \n",
       "2018-05-21  284.49  9182571.0  288.4853  298.7473  313.0582      -1.8480   \n",
       "2018-05-22  275.01  8945756.0  286.0352  297.8165  312.6796      -2.3197   \n",
       "2018-05-23  279.07  5971542.0  284.7688  297.0813  312.3452      -2.7633   \n",
       "2018-05-24  277.85  4194011.0  283.5109  296.3271  312.0020      -3.1791   \n",
       "\n",
       "            MACD_Hist    MACD    SlowD    SlowK     ROC      ADX      RSI  \\\n",
       "date                                                                        \n",
       "2018-05-18    -1.5992 -3.0818  13.0103  13.9185 -4.6238  13.0771  42.0497   \n",
       "2018-05-21    -1.4616 -3.3096  18.7833  27.7756  0.3952  13.0970  45.4339   \n",
       "2018-05-22    -1.8868 -4.2066  22.5514  25.9602 -2.9810  13.3928  42.2257   \n",
       "2018-05-23    -1.7743 -4.5376  29.0259  33.3419 -0.5771  13.6739  44.0081   \n",
       "2018-05-24    -1.6633 -4.8425  26.9403  21.5187 -2.6727  13.8773  43.5828   \n",
       "\n",
       "                    OBV       CCI   Chaikin A/D  Aroon Down  Aroon Up  \n",
       "date                                                                   \n",
       "2018-05-18  347153798.0 -109.5258  1.706525e+08       100.0      70.0  \n",
       "2018-05-21  356336369.0  -50.6148  1.672192e+08        95.0      65.0  \n",
       "2018-05-22  347390613.0 -102.8579  1.602224e+08       100.0      60.0  \n",
       "2018-05-23  353362155.0 -108.6757  1.644966e+08        95.0      55.0  \n",
       "2018-05-24  349168144.0 -102.1261  1.642943e+08        90.0      50.0  "
      ]
     },
     "execution_count": 23,
     "metadata": {},
     "output_type": "execute_result"
    }
   ],
   "source": [
    "df.tail()"
   ]
  },
  {
   "cell_type": "code",
   "execution_count": null,
   "metadata": {
    "ExecuteTime": {
     "end_time": "2018-05-23T21:34:09.187317Z",
     "start_time": "2018-05-23T21:34:09.183188Z"
    },
    "collapsed": true
   },
   "outputs": [],
   "source": [
    "# remove last row (fake next_close data)\n",
    "df = df[:-1]"
   ]
  },
  {
   "cell_type": "code",
   "execution_count": 24,
   "metadata": {
    "ExecuteTime": {
     "end_time": "2018-05-24T21:08:40.325780Z",
     "start_time": "2018-05-24T21:08:40.318193Z"
    }
   },
   "outputs": [
    {
     "name": "stdout",
     "output_type": "stream",
     "text": [
      "<class 'pandas.core.frame.DataFrame'>\n",
      "Index: 1000 entries, 2014-06-06 to 2018-05-24\n",
      "Data columns (total 18 columns):\n",
      "price          1000 non-null float64\n",
      "volume         1000 non-null float64\n",
      "ema10          1000 non-null float64\n",
      "ema50          1000 non-null float64\n",
      "ema200         1000 non-null float64\n",
      "MACD_Signal    1000 non-null float64\n",
      "MACD_Hist      1000 non-null float64\n",
      "MACD           1000 non-null float64\n",
      "SlowD          1000 non-null float64\n",
      "SlowK          1000 non-null float64\n",
      "ROC            1000 non-null float64\n",
      "ADX            1000 non-null float64\n",
      "RSI            1000 non-null float64\n",
      "OBV            1000 non-null float64\n",
      "CCI            1000 non-null float64\n",
      "Chaikin A/D    1000 non-null float64\n",
      "Aroon Down     1000 non-null float64\n",
      "Aroon Up       1000 non-null float64\n",
      "dtypes: float64(18)\n",
      "memory usage: 188.4+ KB\n"
     ]
    }
   ],
   "source": [
    "df.info()"
   ]
  },
  {
   "cell_type": "code",
   "execution_count": 25,
   "metadata": {
    "ExecuteTime": {
     "end_time": "2018-05-24T21:08:53.700291Z",
     "start_time": "2018-05-24T21:08:53.689896Z"
    },
    "collapsed": true
   },
   "outputs": [],
   "source": [
    "df.reset_index(inplace=True)\n",
    "df.to_feather(f'{PATH}original_1000')"
   ]
  },
  {
   "cell_type": "markdown",
   "metadata": {},
   "source": [
    "# Fastai Structured"
   ]
  },
  {
   "cell_type": "code",
   "execution_count": 26,
   "metadata": {
    "ExecuteTime": {
     "end_time": "2018-05-24T21:09:01.324459Z",
     "start_time": "2018-05-24T21:09:01.301693Z"
    }
   },
   "outputs": [
    {
     "data": {
      "text/html": [
       "<div>\n",
       "<style>\n",
       "    .dataframe thead tr:only-child th {\n",
       "        text-align: right;\n",
       "    }\n",
       "\n",
       "    .dataframe thead th {\n",
       "        text-align: left;\n",
       "    }\n",
       "\n",
       "    .dataframe tbody tr th {\n",
       "        vertical-align: top;\n",
       "    }\n",
       "</style>\n",
       "<table border=\"1\" class=\"dataframe\">\n",
       "  <thead>\n",
       "    <tr style=\"text-align: right;\">\n",
       "      <th></th>\n",
       "      <th>date</th>\n",
       "      <th>price</th>\n",
       "      <th>volume</th>\n",
       "      <th>ema10</th>\n",
       "      <th>ema50</th>\n",
       "      <th>ema200</th>\n",
       "      <th>MACD_Signal</th>\n",
       "      <th>MACD_Hist</th>\n",
       "      <th>MACD</th>\n",
       "      <th>SlowD</th>\n",
       "      <th>SlowK</th>\n",
       "      <th>ROC</th>\n",
       "      <th>ADX</th>\n",
       "      <th>RSI</th>\n",
       "      <th>OBV</th>\n",
       "      <th>CCI</th>\n",
       "      <th>Chaikin A/D</th>\n",
       "      <th>Aroon Down</th>\n",
       "      <th>Aroon Up</th>\n",
       "    </tr>\n",
       "  </thead>\n",
       "  <tbody>\n",
       "    <tr>\n",
       "      <th>0</th>\n",
       "      <td>2014-06-06</td>\n",
       "      <td>208.171</td>\n",
       "      <td>3073800.0</td>\n",
       "      <td>205.5908</td>\n",
       "      <td>204.3624</td>\n",
       "      <td>177.4997</td>\n",
       "      <td>0.1981</td>\n",
       "      <td>1.0464</td>\n",
       "      <td>1.2444</td>\n",
       "      <td>34.7453</td>\n",
       "      <td>48.2549</td>\n",
       "      <td>16.5636</td>\n",
       "      <td>11.3504</td>\n",
       "      <td>52.6447</td>\n",
       "      <td>289310000.0</td>\n",
       "      <td>72.3467</td>\n",
       "      <td>2.591509e+07</td>\n",
       "      <td>5.0</td>\n",
       "      <td>75.0</td>\n",
       "    </tr>\n",
       "    <tr>\n",
       "      <th>1</th>\n",
       "      <td>2014-06-09</td>\n",
       "      <td>205.310</td>\n",
       "      <td>2805700.0</td>\n",
       "      <td>205.5397</td>\n",
       "      <td>204.3996</td>\n",
       "      <td>177.7764</td>\n",
       "      <td>0.3922</td>\n",
       "      <td>0.7766</td>\n",
       "      <td>1.1689</td>\n",
       "      <td>45.1972</td>\n",
       "      <td>55.6666</td>\n",
       "      <td>12.6468</td>\n",
       "      <td>10.8265</td>\n",
       "      <td>50.6495</td>\n",
       "      <td>286504300.0</td>\n",
       "      <td>49.7303</td>\n",
       "      <td>2.418515e+07</td>\n",
       "      <td>0.0</td>\n",
       "      <td>70.0</td>\n",
       "    </tr>\n",
       "    <tr>\n",
       "      <th>2</th>\n",
       "      <td>2014-06-10</td>\n",
       "      <td>202.300</td>\n",
       "      <td>3514700.0</td>\n",
       "      <td>204.9507</td>\n",
       "      <td>204.3172</td>\n",
       "      <td>178.0204</td>\n",
       "      <td>0.4850</td>\n",
       "      <td>0.3712</td>\n",
       "      <td>0.8562</td>\n",
       "      <td>50.2103</td>\n",
       "      <td>46.7096</td>\n",
       "      <td>9.5468</td>\n",
       "      <td>10.5141</td>\n",
       "      <td>48.6092</td>\n",
       "      <td>282989600.0</td>\n",
       "      <td>18.2753</td>\n",
       "      <td>2.164316e+07</td>\n",
       "      <td>0.0</td>\n",
       "      <td>65.0</td>\n",
       "    </tr>\n",
       "    <tr>\n",
       "      <th>3</th>\n",
       "      <td>2014-06-11</td>\n",
       "      <td>204.470</td>\n",
       "      <td>3977500.0</td>\n",
       "      <td>204.8633</td>\n",
       "      <td>204.3232</td>\n",
       "      <td>178.2836</td>\n",
       "      <td>0.5430</td>\n",
       "      <td>0.2317</td>\n",
       "      <td>0.7746</td>\n",
       "      <td>46.4165</td>\n",
       "      <td>36.8735</td>\n",
       "      <td>7.5252</td>\n",
       "      <td>10.3747</td>\n",
       "      <td>50.1336</td>\n",
       "      <td>286967100.0</td>\n",
       "      <td>4.4669</td>\n",
       "      <td>2.488729e+07</td>\n",
       "      <td>0.0</td>\n",
       "      <td>60.0</td>\n",
       "    </tr>\n",
       "    <tr>\n",
       "      <th>4</th>\n",
       "      <td>2014-06-12</td>\n",
       "      <td>203.520</td>\n",
       "      <td>5993700.0</td>\n",
       "      <td>204.6191</td>\n",
       "      <td>204.2917</td>\n",
       "      <td>178.5347</td>\n",
       "      <td>0.5596</td>\n",
       "      <td>0.0665</td>\n",
       "      <td>0.6261</td>\n",
       "      <td>39.0128</td>\n",
       "      <td>33.4554</td>\n",
       "      <td>6.7674</td>\n",
       "      <td>9.8724</td>\n",
       "      <td>49.4575</td>\n",
       "      <td>280973400.0</td>\n",
       "      <td>28.4393</td>\n",
       "      <td>2.024781e+07</td>\n",
       "      <td>5.0</td>\n",
       "      <td>55.0</td>\n",
       "    </tr>\n",
       "  </tbody>\n",
       "</table>\n",
       "</div>"
      ],
      "text/plain": [
       "         date    price     volume     ema10     ema50    ema200  MACD_Signal  \\\n",
       "0  2014-06-06  208.171  3073800.0  205.5908  204.3624  177.4997       0.1981   \n",
       "1  2014-06-09  205.310  2805700.0  205.5397  204.3996  177.7764       0.3922   \n",
       "2  2014-06-10  202.300  3514700.0  204.9507  204.3172  178.0204       0.4850   \n",
       "3  2014-06-11  204.470  3977500.0  204.8633  204.3232  178.2836       0.5430   \n",
       "4  2014-06-12  203.520  5993700.0  204.6191  204.2917  178.5347       0.5596   \n",
       "\n",
       "   MACD_Hist    MACD    SlowD    SlowK      ROC      ADX      RSI  \\\n",
       "0     1.0464  1.2444  34.7453  48.2549  16.5636  11.3504  52.6447   \n",
       "1     0.7766  1.1689  45.1972  55.6666  12.6468  10.8265  50.6495   \n",
       "2     0.3712  0.8562  50.2103  46.7096   9.5468  10.5141  48.6092   \n",
       "3     0.2317  0.7746  46.4165  36.8735   7.5252  10.3747  50.1336   \n",
       "4     0.0665  0.6261  39.0128  33.4554   6.7674   9.8724  49.4575   \n",
       "\n",
       "           OBV      CCI   Chaikin A/D  Aroon Down  Aroon Up  \n",
       "0  289310000.0  72.3467  2.591509e+07         5.0      75.0  \n",
       "1  286504300.0  49.7303  2.418515e+07         0.0      70.0  \n",
       "2  282989600.0  18.2753  2.164316e+07         0.0      65.0  \n",
       "3  286967100.0   4.4669  2.488729e+07         0.0      60.0  \n",
       "4  280973400.0  28.4393  2.024781e+07         5.0      55.0  "
      ]
     },
     "execution_count": 26,
     "metadata": {},
     "output_type": "execute_result"
    }
   ],
   "source": [
    "df = pd.read_feather(f'{PATH}original_1000')\n",
    "df.head()"
   ]
  },
  {
   "cell_type": "code",
   "execution_count": 27,
   "metadata": {
    "ExecuteTime": {
     "end_time": "2018-05-24T21:09:08.173864Z",
     "start_time": "2018-05-24T21:09:06.618799Z"
    },
    "collapsed": true
   },
   "outputs": [],
   "source": [
    "from fastai.fastai.structured import *\n",
    "from fastai.fastai.column_data import *"
   ]
  },
  {
   "cell_type": "code",
   "execution_count": 28,
   "metadata": {
    "ExecuteTime": {
     "end_time": "2018-05-24T21:09:08.334529Z",
     "start_time": "2018-05-24T21:09:08.291902Z"
    }
   },
   "outputs": [
    {
     "data": {
      "text/html": [
       "<div>\n",
       "<style>\n",
       "    .dataframe thead tr:only-child th {\n",
       "        text-align: right;\n",
       "    }\n",
       "\n",
       "    .dataframe thead th {\n",
       "        text-align: left;\n",
       "    }\n",
       "\n",
       "    .dataframe tbody tr th {\n",
       "        vertical-align: top;\n",
       "    }\n",
       "</style>\n",
       "<table border=\"1\" class=\"dataframe\">\n",
       "  <thead>\n",
       "    <tr style=\"text-align: right;\">\n",
       "      <th></th>\n",
       "      <th>price</th>\n",
       "      <th>volume</th>\n",
       "      <th>ema10</th>\n",
       "      <th>ema50</th>\n",
       "      <th>ema200</th>\n",
       "      <th>MACD_Signal</th>\n",
       "      <th>MACD_Hist</th>\n",
       "      <th>MACD</th>\n",
       "      <th>SlowD</th>\n",
       "      <th>SlowK</th>\n",
       "      <th>...</th>\n",
       "      <th>Day</th>\n",
       "      <th>Dayofweek</th>\n",
       "      <th>Dayofyear</th>\n",
       "      <th>Is_month_end</th>\n",
       "      <th>Is_month_start</th>\n",
       "      <th>Is_quarter_end</th>\n",
       "      <th>Is_quarter_start</th>\n",
       "      <th>Is_year_end</th>\n",
       "      <th>Is_year_start</th>\n",
       "      <th>Elapsed</th>\n",
       "    </tr>\n",
       "  </thead>\n",
       "  <tbody>\n",
       "    <tr>\n",
       "      <th>0</th>\n",
       "      <td>208.171</td>\n",
       "      <td>3073800.0</td>\n",
       "      <td>205.5908</td>\n",
       "      <td>204.3624</td>\n",
       "      <td>177.4997</td>\n",
       "      <td>0.1981</td>\n",
       "      <td>1.0464</td>\n",
       "      <td>1.2444</td>\n",
       "      <td>34.7453</td>\n",
       "      <td>48.2549</td>\n",
       "      <td>...</td>\n",
       "      <td>6</td>\n",
       "      <td>4</td>\n",
       "      <td>157</td>\n",
       "      <td>False</td>\n",
       "      <td>False</td>\n",
       "      <td>False</td>\n",
       "      <td>False</td>\n",
       "      <td>False</td>\n",
       "      <td>False</td>\n",
       "      <td>1402012800</td>\n",
       "    </tr>\n",
       "    <tr>\n",
       "      <th>1</th>\n",
       "      <td>205.310</td>\n",
       "      <td>2805700.0</td>\n",
       "      <td>205.5397</td>\n",
       "      <td>204.3996</td>\n",
       "      <td>177.7764</td>\n",
       "      <td>0.3922</td>\n",
       "      <td>0.7766</td>\n",
       "      <td>1.1689</td>\n",
       "      <td>45.1972</td>\n",
       "      <td>55.6666</td>\n",
       "      <td>...</td>\n",
       "      <td>9</td>\n",
       "      <td>0</td>\n",
       "      <td>160</td>\n",
       "      <td>False</td>\n",
       "      <td>False</td>\n",
       "      <td>False</td>\n",
       "      <td>False</td>\n",
       "      <td>False</td>\n",
       "      <td>False</td>\n",
       "      <td>1402272000</td>\n",
       "    </tr>\n",
       "    <tr>\n",
       "      <th>2</th>\n",
       "      <td>202.300</td>\n",
       "      <td>3514700.0</td>\n",
       "      <td>204.9507</td>\n",
       "      <td>204.3172</td>\n",
       "      <td>178.0204</td>\n",
       "      <td>0.4850</td>\n",
       "      <td>0.3712</td>\n",
       "      <td>0.8562</td>\n",
       "      <td>50.2103</td>\n",
       "      <td>46.7096</td>\n",
       "      <td>...</td>\n",
       "      <td>10</td>\n",
       "      <td>1</td>\n",
       "      <td>161</td>\n",
       "      <td>False</td>\n",
       "      <td>False</td>\n",
       "      <td>False</td>\n",
       "      <td>False</td>\n",
       "      <td>False</td>\n",
       "      <td>False</td>\n",
       "      <td>1402358400</td>\n",
       "    </tr>\n",
       "    <tr>\n",
       "      <th>3</th>\n",
       "      <td>204.470</td>\n",
       "      <td>3977500.0</td>\n",
       "      <td>204.8633</td>\n",
       "      <td>204.3232</td>\n",
       "      <td>178.2836</td>\n",
       "      <td>0.5430</td>\n",
       "      <td>0.2317</td>\n",
       "      <td>0.7746</td>\n",
       "      <td>46.4165</td>\n",
       "      <td>36.8735</td>\n",
       "      <td>...</td>\n",
       "      <td>11</td>\n",
       "      <td>2</td>\n",
       "      <td>162</td>\n",
       "      <td>False</td>\n",
       "      <td>False</td>\n",
       "      <td>False</td>\n",
       "      <td>False</td>\n",
       "      <td>False</td>\n",
       "      <td>False</td>\n",
       "      <td>1402444800</td>\n",
       "    </tr>\n",
       "    <tr>\n",
       "      <th>4</th>\n",
       "      <td>203.520</td>\n",
       "      <td>5993700.0</td>\n",
       "      <td>204.6191</td>\n",
       "      <td>204.2917</td>\n",
       "      <td>178.5347</td>\n",
       "      <td>0.5596</td>\n",
       "      <td>0.0665</td>\n",
       "      <td>0.6261</td>\n",
       "      <td>39.0128</td>\n",
       "      <td>33.4554</td>\n",
       "      <td>...</td>\n",
       "      <td>12</td>\n",
       "      <td>3</td>\n",
       "      <td>163</td>\n",
       "      <td>False</td>\n",
       "      <td>False</td>\n",
       "      <td>False</td>\n",
       "      <td>False</td>\n",
       "      <td>False</td>\n",
       "      <td>False</td>\n",
       "      <td>1402531200</td>\n",
       "    </tr>\n",
       "  </tbody>\n",
       "</table>\n",
       "<p>5 rows × 31 columns</p>\n",
       "</div>"
      ],
      "text/plain": [
       "     price     volume     ema10     ema50    ema200  MACD_Signal  MACD_Hist  \\\n",
       "0  208.171  3073800.0  205.5908  204.3624  177.4997       0.1981     1.0464   \n",
       "1  205.310  2805700.0  205.5397  204.3996  177.7764       0.3922     0.7766   \n",
       "2  202.300  3514700.0  204.9507  204.3172  178.0204       0.4850     0.3712   \n",
       "3  204.470  3977500.0  204.8633  204.3232  178.2836       0.5430     0.2317   \n",
       "4  203.520  5993700.0  204.6191  204.2917  178.5347       0.5596     0.0665   \n",
       "\n",
       "     MACD    SlowD    SlowK     ...      Day  Dayofweek  Dayofyear  \\\n",
       "0  1.2444  34.7453  48.2549     ...        6          4        157   \n",
       "1  1.1689  45.1972  55.6666     ...        9          0        160   \n",
       "2  0.8562  50.2103  46.7096     ...       10          1        161   \n",
       "3  0.7746  46.4165  36.8735     ...       11          2        162   \n",
       "4  0.6261  39.0128  33.4554     ...       12          3        163   \n",
       "\n",
       "   Is_month_end  Is_month_start  Is_quarter_end  Is_quarter_start  \\\n",
       "0         False           False           False             False   \n",
       "1         False           False           False             False   \n",
       "2         False           False           False             False   \n",
       "3         False           False           False             False   \n",
       "4         False           False           False             False   \n",
       "\n",
       "   Is_year_end  Is_year_start     Elapsed  \n",
       "0        False          False  1402012800  \n",
       "1        False          False  1402272000  \n",
       "2        False          False  1402358400  \n",
       "3        False          False  1402444800  \n",
       "4        False          False  1402531200  \n",
       "\n",
       "[5 rows x 31 columns]"
      ]
     },
     "execution_count": 28,
     "metadata": {},
     "output_type": "execute_result"
    }
   ],
   "source": [
    "# feature extraction of dates\n",
    "add_datepart(df, 'date')\n",
    "df.head()"
   ]
  },
  {
   "cell_type": "code",
   "execution_count": 29,
   "metadata": {
    "ExecuteTime": {
     "end_time": "2018-05-24T21:09:11.639232Z",
     "start_time": "2018-05-24T21:09:11.634520Z"
    },
    "collapsed": true
   },
   "outputs": [],
   "source": [
    "df.drop(['Elapsed', 'Is_year_end', 'Is_year_start'], axis=1, inplace=True)"
   ]
  },
  {
   "cell_type": "code",
   "execution_count": 30,
   "metadata": {
    "ExecuteTime": {
     "end_time": "2018-05-24T21:09:12.799701Z",
     "start_time": "2018-05-24T21:09:12.794408Z"
    }
   },
   "outputs": [
    {
     "data": {
      "text/plain": [
       "Index(['price', 'volume', 'ema10', 'ema50', 'ema200', 'MACD_Signal',\n",
       "       'MACD_Hist', 'MACD', 'SlowD', 'SlowK', 'ROC', 'ADX', 'RSI', 'OBV',\n",
       "       'CCI', 'Chaikin A/D', 'Aroon Down', 'Aroon Up', 'Year', 'Month', 'Week',\n",
       "       'Day', 'Dayofweek', 'Dayofyear', 'Is_month_end', 'Is_month_start',\n",
       "       'Is_quarter_end', 'Is_quarter_start'],\n",
       "      dtype='object')"
      ]
     },
     "execution_count": 30,
     "metadata": {},
     "output_type": "execute_result"
    }
   ],
   "source": [
    "df.columns"
   ]
  },
  {
   "cell_type": "code",
   "execution_count": 31,
   "metadata": {
    "ExecuteTime": {
     "end_time": "2018-05-24T21:10:25.183582Z",
     "start_time": "2018-05-24T21:10:25.180320Z"
    },
    "collapsed": true
   },
   "outputs": [],
   "source": [
    "cat_vars = ['Year', 'Month', 'Week', 'Day', 'Dayofweek', 'Dayofyear']"
   ]
  },
  {
   "cell_type": "code",
   "execution_count": 32,
   "metadata": {
    "ExecuteTime": {
     "end_time": "2018-05-24T21:10:25.775738Z",
     "start_time": "2018-05-24T21:10:25.771779Z"
    },
    "collapsed": true
   },
   "outputs": [],
   "source": [
    "contin_vars = ['price', 'volume', 'ema10', 'ema50',\n",
    "       'ema200', 'MACD_Hist', 'MACD', 'MACD_Signal', 'SlowK', 'SlowD', 'ROC',\n",
    "       'ADX', 'RSI', 'OBV', 'CCI', 'Chaikin A/D', 'Aroon Up', 'Aroon Down']"
   ]
  },
  {
   "cell_type": "code",
   "execution_count": 33,
   "metadata": {
    "ExecuteTime": {
     "end_time": "2018-05-24T21:10:30.059420Z",
     "start_time": "2018-05-24T21:10:30.043708Z"
    },
    "collapsed": true
   },
   "outputs": [],
   "source": [
    "for v in cat_vars: df[v] = df[v].astype('category').cat.as_ordered()\n",
    "for c in contin_vars: df[c] = df[c].astype('float32')"
   ]
  },
  {
   "cell_type": "code",
   "execution_count": 35,
   "metadata": {
    "ExecuteTime": {
     "end_time": "2018-05-24T21:11:12.672778Z",
     "start_time": "2018-05-24T21:11:12.669307Z"
    }
   },
   "outputs": [],
   "source": [
    "df['next_close'] = df['price']"
   ]
  },
  {
   "cell_type": "code",
   "execution_count": 37,
   "metadata": {
    "ExecuteTime": {
     "end_time": "2018-05-24T21:11:40.865399Z",
     "start_time": "2018-05-24T21:11:40.861260Z"
    },
    "collapsed": true
   },
   "outputs": [],
   "source": [
    "# save original df for embeddings\n",
    "df_orig = df.copy()"
   ]
  },
  {
   "cell_type": "code",
   "execution_count": 38,
   "metadata": {
    "ExecuteTime": {
     "end_time": "2018-05-24T21:11:49.858361Z",
     "start_time": "2018-05-24T21:11:49.851373Z"
    }
   },
   "outputs": [
    {
     "data": {
      "text/plain": [
       "[(6, 3), (13, 7), (54, 27), (32, 16), (6, 3), (363, 50)]"
      ]
     },
     "execution_count": 38,
     "metadata": {},
     "output_type": "execute_result"
    }
   ],
   "source": [
    "cat_sz = [(c, len(df[c].cat.categories)+1) for c in cat_vars]\n",
    "emb_szs = [(c, min(50, (c+1)//2)) for _,c in cat_sz]\n",
    "emb_szs"
   ]
  },
  {
   "cell_type": "code",
   "execution_count": 75,
   "metadata": {
    "ExecuteTime": {
     "end_time": "2018-05-24T21:35:25.355075Z",
     "start_time": "2018-05-24T21:35:25.303642Z"
    },
    "collapsed": true
   },
   "outputs": [],
   "source": [
    "df, y, nas, mapper = proc_df(df, 'next_close', do_scale=True)"
   ]
  },
  {
   "cell_type": "code",
   "execution_count": 76,
   "metadata": {
    "ExecuteTime": {
     "end_time": "2018-05-24T21:35:38.028469Z",
     "start_time": "2018-05-24T21:35:38.005854Z"
    }
   },
   "outputs": [
    {
     "data": {
      "text/html": [
       "<div>\n",
       "<style>\n",
       "    .dataframe thead tr:only-child th {\n",
       "        text-align: right;\n",
       "    }\n",
       "\n",
       "    .dataframe thead th {\n",
       "        text-align: left;\n",
       "    }\n",
       "\n",
       "    .dataframe tbody tr th {\n",
       "        vertical-align: top;\n",
       "    }\n",
       "</style>\n",
       "<table border=\"1\" class=\"dataframe\">\n",
       "  <thead>\n",
       "    <tr style=\"text-align: right;\">\n",
       "      <th></th>\n",
       "      <th>price</th>\n",
       "      <th>volume</th>\n",
       "      <th>ema10</th>\n",
       "      <th>ema50</th>\n",
       "      <th>ema200</th>\n",
       "      <th>MACD_Signal</th>\n",
       "      <th>MACD_Hist</th>\n",
       "      <th>MACD</th>\n",
       "      <th>SlowD</th>\n",
       "      <th>SlowK</th>\n",
       "      <th>...</th>\n",
       "      <th>Year</th>\n",
       "      <th>Month</th>\n",
       "      <th>Week</th>\n",
       "      <th>Day</th>\n",
       "      <th>Dayofweek</th>\n",
       "      <th>Dayofyear</th>\n",
       "      <th>Is_month_end</th>\n",
       "      <th>Is_month_start</th>\n",
       "      <th>Is_quarter_end</th>\n",
       "      <th>Is_quarter_start</th>\n",
       "    </tr>\n",
       "  </thead>\n",
       "  <tbody>\n",
       "    <tr>\n",
       "      <th>0</th>\n",
       "      <td>-0.909291</td>\n",
       "      <td>-0.801410</td>\n",
       "      <td>-0.967704</td>\n",
       "      <td>-1.010018</td>\n",
       "      <td>-1.607363</td>\n",
       "      <td>-0.075568</td>\n",
       "      <td>0.490528</td>\n",
       "      <td>0.095175</td>\n",
       "      <td>-0.752373</td>\n",
       "      <td>-0.172213</td>\n",
       "      <td>...</td>\n",
       "      <td>1</td>\n",
       "      <td>6</td>\n",
       "      <td>23</td>\n",
       "      <td>6</td>\n",
       "      <td>5</td>\n",
       "      <td>156</td>\n",
       "      <td>-0.184733</td>\n",
       "      <td>-0.178862</td>\n",
       "      <td>-0.110208</td>\n",
       "      <td>-0.08396</td>\n",
       "    </tr>\n",
       "    <tr>\n",
       "      <th>1</th>\n",
       "      <td>-0.963900</td>\n",
       "      <td>-0.894543</td>\n",
       "      <td>-0.968695</td>\n",
       "      <td>-1.009254</td>\n",
       "      <td>-1.600509</td>\n",
       "      <td>-0.042866</td>\n",
       "      <td>0.365540</td>\n",
       "      <td>0.083399</td>\n",
       "      <td>-0.314073</td>\n",
       "      <td>0.116038</td>\n",
       "      <td>...</td>\n",
       "      <td>1</td>\n",
       "      <td>6</td>\n",
       "      <td>24</td>\n",
       "      <td>9</td>\n",
       "      <td>1</td>\n",
       "      <td>159</td>\n",
       "      <td>-0.184733</td>\n",
       "      <td>-0.178862</td>\n",
       "      <td>-0.110208</td>\n",
       "      <td>-0.08396</td>\n",
       "    </tr>\n",
       "    <tr>\n",
       "      <th>2</th>\n",
       "      <td>-1.021352</td>\n",
       "      <td>-0.648251</td>\n",
       "      <td>-0.980126</td>\n",
       "      <td>-1.010946</td>\n",
       "      <td>-1.594466</td>\n",
       "      <td>-0.027231</td>\n",
       "      <td>0.177735</td>\n",
       "      <td>0.034630</td>\n",
       "      <td>-0.103848</td>\n",
       "      <td>-0.232312</td>\n",
       "      <td>...</td>\n",
       "      <td>1</td>\n",
       "      <td>6</td>\n",
       "      <td>24</td>\n",
       "      <td>10</td>\n",
       "      <td>2</td>\n",
       "      <td>160</td>\n",
       "      <td>-0.184733</td>\n",
       "      <td>-0.178862</td>\n",
       "      <td>-0.110208</td>\n",
       "      <td>-0.08396</td>\n",
       "    </tr>\n",
       "    <tr>\n",
       "      <th>3</th>\n",
       "      <td>-0.979933</td>\n",
       "      <td>-0.487484</td>\n",
       "      <td>-0.981822</td>\n",
       "      <td>-1.010823</td>\n",
       "      <td>-1.587947</td>\n",
       "      <td>-0.017459</td>\n",
       "      <td>0.113111</td>\n",
       "      <td>0.021903</td>\n",
       "      <td>-0.262941</td>\n",
       "      <td>-0.614852</td>\n",
       "      <td>...</td>\n",
       "      <td>1</td>\n",
       "      <td>6</td>\n",
       "      <td>24</td>\n",
       "      <td>11</td>\n",
       "      <td>3</td>\n",
       "      <td>161</td>\n",
       "      <td>-0.184733</td>\n",
       "      <td>-0.178862</td>\n",
       "      <td>-0.110208</td>\n",
       "      <td>-0.08396</td>\n",
       "    </tr>\n",
       "    <tr>\n",
       "      <th>4</th>\n",
       "      <td>-0.998066</td>\n",
       "      <td>0.212900</td>\n",
       "      <td>-0.986561</td>\n",
       "      <td>-1.011470</td>\n",
       "      <td>-1.581728</td>\n",
       "      <td>-0.014662</td>\n",
       "      <td>0.036580</td>\n",
       "      <td>-0.001258</td>\n",
       "      <td>-0.573415</td>\n",
       "      <td>-0.747786</td>\n",
       "      <td>...</td>\n",
       "      <td>1</td>\n",
       "      <td>6</td>\n",
       "      <td>24</td>\n",
       "      <td>12</td>\n",
       "      <td>4</td>\n",
       "      <td>162</td>\n",
       "      <td>-0.184733</td>\n",
       "      <td>-0.178862</td>\n",
       "      <td>-0.110208</td>\n",
       "      <td>-0.08396</td>\n",
       "    </tr>\n",
       "  </tbody>\n",
       "</table>\n",
       "<p>5 rows × 28 columns</p>\n",
       "</div>"
      ],
      "text/plain": [
       "      price    volume     ema10     ema50    ema200  MACD_Signal  MACD_Hist  \\\n",
       "0 -0.909291 -0.801410 -0.967704 -1.010018 -1.607363    -0.075568   0.490528   \n",
       "1 -0.963900 -0.894543 -0.968695 -1.009254 -1.600509    -0.042866   0.365540   \n",
       "2 -1.021352 -0.648251 -0.980126 -1.010946 -1.594466    -0.027231   0.177735   \n",
       "3 -0.979933 -0.487484 -0.981822 -1.010823 -1.587947    -0.017459   0.113111   \n",
       "4 -0.998066  0.212900 -0.986561 -1.011470 -1.581728    -0.014662   0.036580   \n",
       "\n",
       "       MACD     SlowD     SlowK        ...         Year  Month  Week  Day  \\\n",
       "0  0.095175 -0.752373 -0.172213        ...            1      6    23    6   \n",
       "1  0.083399 -0.314073  0.116038        ...            1      6    24    9   \n",
       "2  0.034630 -0.103848 -0.232312        ...            1      6    24   10   \n",
       "3  0.021903 -0.262941 -0.614852        ...            1      6    24   11   \n",
       "4 -0.001258 -0.573415 -0.747786        ...            1      6    24   12   \n",
       "\n",
       "   Dayofweek  Dayofyear  Is_month_end  Is_month_start  Is_quarter_end  \\\n",
       "0          5        156     -0.184733       -0.178862       -0.110208   \n",
       "1          1        159     -0.184733       -0.178862       -0.110208   \n",
       "2          2        160     -0.184733       -0.178862       -0.110208   \n",
       "3          3        161     -0.184733       -0.178862       -0.110208   \n",
       "4          4        162     -0.184733       -0.178862       -0.110208   \n",
       "\n",
       "   Is_quarter_start  \n",
       "0          -0.08396  \n",
       "1          -0.08396  \n",
       "2          -0.08396  \n",
       "3          -0.08396  \n",
       "4          -0.08396  \n",
       "\n",
       "[5 rows x 28 columns]"
      ]
     },
     "execution_count": 76,
     "metadata": {},
     "output_type": "execute_result"
    }
   ],
   "source": [
    "df.head()"
   ]
  },
  {
   "cell_type": "code",
   "execution_count": null,
   "metadata": {
    "collapsed": true
   },
   "outputs": [],
   "source": [
    "# Add offset same-scaled price as prev_close values\n",
    "\n",
    "price_scaled = df['price']\n",
    "\n",
    "# drop last value of price_scaled\n",
    "price_scaled = price_scaled[:-1].copy()\n",
    "\n",
    "# drop first row of df\n",
    "df = df[1:].copy()\n",
    "df.reset_index(inplace=True, drop=True)\n",
    "\n",
    "df = df.assign(prev_close=price_scaled.values)"
   ]
  },
  {
   "cell_type": "code",
   "execution_count": 79,
   "metadata": {
    "ExecuteTime": {
     "end_time": "2018-05-24T21:37:48.089972Z",
     "start_time": "2018-05-24T21:37:48.065980Z"
    }
   },
   "outputs": [
    {
     "data": {
      "text/html": [
       "<div>\n",
       "<style>\n",
       "    .dataframe thead tr:only-child th {\n",
       "        text-align: right;\n",
       "    }\n",
       "\n",
       "    .dataframe thead th {\n",
       "        text-align: left;\n",
       "    }\n",
       "\n",
       "    .dataframe tbody tr th {\n",
       "        vertical-align: top;\n",
       "    }\n",
       "</style>\n",
       "<table border=\"1\" class=\"dataframe\">\n",
       "  <thead>\n",
       "    <tr style=\"text-align: right;\">\n",
       "      <th></th>\n",
       "      <th>price</th>\n",
       "      <th>volume</th>\n",
       "      <th>ema10</th>\n",
       "      <th>ema50</th>\n",
       "      <th>ema200</th>\n",
       "      <th>MACD_Signal</th>\n",
       "      <th>MACD_Hist</th>\n",
       "      <th>MACD</th>\n",
       "      <th>SlowD</th>\n",
       "      <th>SlowK</th>\n",
       "      <th>...</th>\n",
       "      <th>Month</th>\n",
       "      <th>Week</th>\n",
       "      <th>Day</th>\n",
       "      <th>Dayofweek</th>\n",
       "      <th>Dayofyear</th>\n",
       "      <th>Is_month_end</th>\n",
       "      <th>Is_month_start</th>\n",
       "      <th>Is_quarter_end</th>\n",
       "      <th>Is_quarter_start</th>\n",
       "      <th>prev_close</th>\n",
       "    </tr>\n",
       "  </thead>\n",
       "  <tbody>\n",
       "    <tr>\n",
       "      <th>0</th>\n",
       "      <td>-0.963900</td>\n",
       "      <td>-0.894543</td>\n",
       "      <td>-0.968695</td>\n",
       "      <td>-1.009254</td>\n",
       "      <td>-1.600509</td>\n",
       "      <td>-0.042866</td>\n",
       "      <td>0.365540</td>\n",
       "      <td>0.083399</td>\n",
       "      <td>-0.314073</td>\n",
       "      <td>0.116038</td>\n",
       "      <td>...</td>\n",
       "      <td>6</td>\n",
       "      <td>24</td>\n",
       "      <td>9</td>\n",
       "      <td>1</td>\n",
       "      <td>159</td>\n",
       "      <td>-0.184733</td>\n",
       "      <td>-0.178862</td>\n",
       "      <td>-0.110208</td>\n",
       "      <td>-0.08396</td>\n",
       "      <td>-0.909291</td>\n",
       "    </tr>\n",
       "    <tr>\n",
       "      <th>1</th>\n",
       "      <td>-1.021352</td>\n",
       "      <td>-0.648251</td>\n",
       "      <td>-0.980126</td>\n",
       "      <td>-1.010946</td>\n",
       "      <td>-1.594466</td>\n",
       "      <td>-0.027231</td>\n",
       "      <td>0.177735</td>\n",
       "      <td>0.034630</td>\n",
       "      <td>-0.103848</td>\n",
       "      <td>-0.232312</td>\n",
       "      <td>...</td>\n",
       "      <td>6</td>\n",
       "      <td>24</td>\n",
       "      <td>10</td>\n",
       "      <td>2</td>\n",
       "      <td>160</td>\n",
       "      <td>-0.184733</td>\n",
       "      <td>-0.178862</td>\n",
       "      <td>-0.110208</td>\n",
       "      <td>-0.08396</td>\n",
       "      <td>-0.963900</td>\n",
       "    </tr>\n",
       "    <tr>\n",
       "      <th>2</th>\n",
       "      <td>-0.979933</td>\n",
       "      <td>-0.487484</td>\n",
       "      <td>-0.981822</td>\n",
       "      <td>-1.010823</td>\n",
       "      <td>-1.587947</td>\n",
       "      <td>-0.017459</td>\n",
       "      <td>0.113111</td>\n",
       "      <td>0.021903</td>\n",
       "      <td>-0.262941</td>\n",
       "      <td>-0.614852</td>\n",
       "      <td>...</td>\n",
       "      <td>6</td>\n",
       "      <td>24</td>\n",
       "      <td>11</td>\n",
       "      <td>3</td>\n",
       "      <td>161</td>\n",
       "      <td>-0.184733</td>\n",
       "      <td>-0.178862</td>\n",
       "      <td>-0.110208</td>\n",
       "      <td>-0.08396</td>\n",
       "      <td>-1.021352</td>\n",
       "    </tr>\n",
       "    <tr>\n",
       "      <th>3</th>\n",
       "      <td>-0.998066</td>\n",
       "      <td>0.212900</td>\n",
       "      <td>-0.986561</td>\n",
       "      <td>-1.011470</td>\n",
       "      <td>-1.581728</td>\n",
       "      <td>-0.014662</td>\n",
       "      <td>0.036580</td>\n",
       "      <td>-0.001258</td>\n",
       "      <td>-0.573415</td>\n",
       "      <td>-0.747786</td>\n",
       "      <td>...</td>\n",
       "      <td>6</td>\n",
       "      <td>24</td>\n",
       "      <td>12</td>\n",
       "      <td>4</td>\n",
       "      <td>162</td>\n",
       "      <td>-0.184733</td>\n",
       "      <td>-0.178862</td>\n",
       "      <td>-0.110208</td>\n",
       "      <td>-0.08396</td>\n",
       "      <td>-0.979933</td>\n",
       "    </tr>\n",
       "    <tr>\n",
       "      <th>4</th>\n",
       "      <td>-0.942713</td>\n",
       "      <td>-0.637969</td>\n",
       "      <td>-0.980207</td>\n",
       "      <td>-1.009755</td>\n",
       "      <td>-1.574854</td>\n",
       "      <td>-0.008782</td>\n",
       "      <td>0.070398</td>\n",
       "      <td>0.015555</td>\n",
       "      <td>-0.532826</td>\n",
       "      <td>-0.119383</td>\n",
       "      <td>...</td>\n",
       "      <td>6</td>\n",
       "      <td>24</td>\n",
       "      <td>13</td>\n",
       "      <td>5</td>\n",
       "      <td>163</td>\n",
       "      <td>-0.184733</td>\n",
       "      <td>-0.178862</td>\n",
       "      <td>-0.110208</td>\n",
       "      <td>-0.08396</td>\n",
       "      <td>-0.998066</td>\n",
       "    </tr>\n",
       "  </tbody>\n",
       "</table>\n",
       "<p>5 rows × 29 columns</p>\n",
       "</div>"
      ],
      "text/plain": [
       "      price    volume     ema10     ema50    ema200  MACD_Signal  MACD_Hist  \\\n",
       "0 -0.963900 -0.894543 -0.968695 -1.009254 -1.600509    -0.042866   0.365540   \n",
       "1 -1.021352 -0.648251 -0.980126 -1.010946 -1.594466    -0.027231   0.177735   \n",
       "2 -0.979933 -0.487484 -0.981822 -1.010823 -1.587947    -0.017459   0.113111   \n",
       "3 -0.998066  0.212900 -0.986561 -1.011470 -1.581728    -0.014662   0.036580   \n",
       "4 -0.942713 -0.637969 -0.980207 -1.009755 -1.574854    -0.008782   0.070398   \n",
       "\n",
       "       MACD     SlowD     SlowK     ...      Month  Week  Day  Dayofweek  \\\n",
       "0  0.083399 -0.314073  0.116038     ...          6    24    9          1   \n",
       "1  0.034630 -0.103848 -0.232312     ...          6    24   10          2   \n",
       "2  0.021903 -0.262941 -0.614852     ...          6    24   11          3   \n",
       "3 -0.001258 -0.573415 -0.747786     ...          6    24   12          4   \n",
       "4  0.015555 -0.532826 -0.119383     ...          6    24   13          5   \n",
       "\n",
       "   Dayofyear  Is_month_end  Is_month_start  Is_quarter_end  Is_quarter_start  \\\n",
       "0        159     -0.184733       -0.178862       -0.110208          -0.08396   \n",
       "1        160     -0.184733       -0.178862       -0.110208          -0.08396   \n",
       "2        161     -0.184733       -0.178862       -0.110208          -0.08396   \n",
       "3        162     -0.184733       -0.178862       -0.110208          -0.08396   \n",
       "4        163     -0.184733       -0.178862       -0.110208          -0.08396   \n",
       "\n",
       "   prev_close  \n",
       "0   -0.909291  \n",
       "1   -0.963900  \n",
       "2   -1.021352  \n",
       "3   -0.979933  \n",
       "4   -0.998066  \n",
       "\n",
       "[5 rows x 29 columns]"
      ]
     },
     "execution_count": 79,
     "metadata": {},
     "output_type": "execute_result"
    }
   ],
   "source": [
    "df.head()"
   ]
  },
  {
   "cell_type": "code",
   "execution_count": 89,
   "metadata": {
    "ExecuteTime": {
     "end_time": "2018-05-24T21:51:32.622701Z",
     "start_time": "2018-05-24T21:51:32.615138Z"
    }
   },
   "outputs": [
    {
     "data": {
      "text/plain": [
       "(998, 998)"
      ]
     },
     "execution_count": 89,
     "metadata": {},
     "output_type": "execute_result"
    }
   ],
   "source": [
    "# sync up y values (as next days close) w/ df\n",
    "\n",
    "# remove first two values from y\n",
    "y = y[2:].copy()\n",
    "\n",
    "# remove last row from df\n",
    "df = df[:-1].copy()\n",
    "\n",
    "len(y), len(df)"
   ]
  },
  {
   "cell_type": "markdown",
   "metadata": {
    "collapsed": true
   },
   "source": [
    "## Separate train/val/test"
   ]
  },
  {
   "cell_type": "code",
   "execution_count": 90,
   "metadata": {
    "ExecuteTime": {
     "end_time": "2018-05-24T21:52:04.411398Z",
     "start_time": "2018-05-24T21:52:04.404424Z"
    },
    "collapsed": true
   },
   "outputs": [],
   "source": [
    "trn_df = df[:900].copy()\n",
    "trn_y = y[:900].copy()\n",
    "\n",
    "# val_df = df[700:900].copy()\n",
    "# val_y = y[700:900].copy()\n",
    "val_idxs = list(range(850,900))\n",
    "\n",
    "test_df = df[900:].copy()\n",
    "test_y = y[900:].copy()"
   ]
  },
  {
   "cell_type": "code",
   "execution_count": 91,
   "metadata": {
    "ExecuteTime": {
     "end_time": "2018-05-24T21:52:26.741375Z",
     "start_time": "2018-05-24T21:52:26.726235Z"
    },
    "collapsed": true
   },
   "outputs": [],
   "source": [
    "def inv_y(a): return np.exp(a)\n",
    "def y_log(a): return np.log(a)\n",
    "\n",
    "def exp_rmspe(y_pred, targ):\n",
    "    targ = inv_y(targ)\n",
    "    pred = inv_y(y_pred)\n",
    "    pct_var = (targ - pred)/targ\n",
    "    return math.sqrt((pct_var**2).mean())\n",
    "\n",
    "# def rmsle(pred, targ):\n",
    "#     # pred and targs are both log1p values already\n",
    "#     mean_diff = np.square(pred - targ).mean()\n",
    "#     return round(math.sqrt(mean_diff), 4)\n",
    "\n",
    "trn_yl = np.log(trn_y)\n",
    "yl = np.log(y)\n",
    "max_log_y = np.max(yl)\n",
    "y_range = (0, max_log_y*1.2)"
   ]
  },
  {
   "cell_type": "code",
   "execution_count": 138,
   "metadata": {
    "ExecuteTime": {
     "end_time": "2018-05-24T22:24:29.949539Z",
     "start_time": "2018-05-24T22:24:29.937752Z"
    },
    "collapsed": true
   },
   "outputs": [],
   "source": [
    "### IMPORTANT\n",
    "# y needs to be log values!!\n",
    "# need to use small bs if few pieces of data (1000)\n",
    "\n",
    "md = ColumnarModelData.from_data_frame(PATH, val_idxs, trn_df, trn_yl, cat_flds=cat_vars,\n",
    "                                        bs=10, test_df=test_df)"
   ]
  },
  {
   "cell_type": "code",
   "execution_count": 139,
   "metadata": {
    "ExecuteTime": {
     "end_time": "2018-05-24T22:24:30.815226Z",
     "start_time": "2018-05-24T22:24:30.799043Z"
    }
   },
   "outputs": [
    {
     "name": "stderr",
     "output_type": "stream",
     "text": [
      "/Users/adamschiller/Projects/DeepLearning/fastai/fastai/column_data.py:101: UserWarning: nn.init.kaiming_normal is now deprecated in favor of nn.init.kaiming_normal_.\n",
      "  for o in self.lins: kaiming_normal(o.weight.data)\n",
      "/Users/adamschiller/Projects/DeepLearning/fastai/fastai/column_data.py:103: UserWarning: nn.init.kaiming_normal is now deprecated in favor of nn.init.kaiming_normal_.\n",
      "  kaiming_normal(self.outp.weight.data)\n"
     ]
    }
   ],
   "source": [
    "m = md.get_learner(emb_szs, len(df.columns)-len(cat_vars),\n",
    "                   0.04, 1, [1000,500], [0.001,0.01], y_range=y_range)"
   ]
  },
  {
   "cell_type": "markdown",
   "metadata": {},
   "source": [
    "## Training"
   ]
  },
  {
   "cell_type": "code",
   "execution_count": 140,
   "metadata": {
    "ExecuteTime": {
     "end_time": "2018-05-24T22:24:35.159704Z",
     "start_time": "2018-05-24T22:24:33.960161Z"
    }
   },
   "outputs": [
    {
     "data": {
      "application/vnd.jupyter.widget-view+json": {
       "model_id": "3d8afd01420348f59cba4cba6d2cbe62",
       "version_major": 2,
       "version_minor": 0
      },
      "text/plain": [
       "A Jupyter Widget"
      ]
     },
     "metadata": {},
     "output_type": "display_data"
    },
    {
     "name": "stdout",
     "output_type": "stream",
     "text": [
      "epoch      trn_loss   val_loss                            \n",
      "    0      1.97217    1.884546  \n",
      "\n"
     ]
    }
   ],
   "source": [
    "m.lr_find()"
   ]
  },
  {
   "cell_type": "code",
   "execution_count": 141,
   "metadata": {
    "ExecuteTime": {
     "end_time": "2018-05-24T22:24:37.149503Z",
     "start_time": "2018-05-24T22:24:36.863844Z"
    }
   },
   "outputs": [
    {
     "data": {
      "image/png": "[encoded data removed]",
      "text/plain": [
       "<matplotlib.figure.Figure at 0x132820e48>"
      ]
     },
     "metadata": {},
     "output_type": "display_data"
    }
   ],
   "source": [
    "m.sched.plot(5)"
   ]
  },
  {
   "cell_type": "code",
   "execution_count": 142,
   "metadata": {
    "ExecuteTime": {
     "end_time": "2018-05-24T22:24:51.365494Z",
     "start_time": "2018-05-24T22:24:51.362391Z"
    },
    "collapsed": true
   },
   "outputs": [],
   "source": [
    "lr = 1e-4"
   ]
  },
  {
   "cell_type": "code",
   "execution_count": 143,
   "metadata": {
    "ExecuteTime": {
     "end_time": "2018-05-24T22:24:58.851267Z",
     "start_time": "2018-05-24T22:24:55.459580Z"
    }
   },
   "outputs": [
    {
     "data": {
      "application/vnd.jupyter.widget-view+json": {
       "model_id": "3c8579124ea341e59738128a9042f720",
       "version_major": 2,
       "version_minor": 0
      },
      "text/plain": [
       "A Jupyter Widget"
      ]
     },
     "metadata": {},
     "output_type": "display_data"
    },
    {
     "name": "stdout",
     "output_type": "stream",
     "text": [
      "epoch      trn_loss   val_loss   exp_rmspe                 \n",
      "    0      0.19568    0.100131   0.23875   \n",
      "    1      0.056066   0.093827   0.233099                   \n",
      "    2      0.02561    0.080342   0.221767                   \n",
      "\n"
     ]
    },
    {
     "data": {
      "text/plain": [
       "[0.080342411994934082, 0.22176702182254346]"
      ]
     },
     "execution_count": 143,
     "metadata": {},
     "output_type": "execute_result"
    }
   ],
   "source": [
    "m.fit(lr, 3, metrics=[exp_rmspe])"
   ]
  },
  {
   "cell_type": "code",
   "execution_count": 144,
   "metadata": {
    "ExecuteTime": {
     "end_time": "2018-05-24T22:26:45.581843Z",
     "start_time": "2018-05-24T22:26:39.857413Z"
    }
   },
   "outputs": [
    {
     "data": {
      "application/vnd.jupyter.widget-view+json": {
       "model_id": "83cf2a8e64ae4e19bd4a806895eeceae",
       "version_major": 2,
       "version_minor": 0
      },
      "text/plain": [
       "A Jupyter Widget"
      ]
     },
     "metadata": {},
     "output_type": "display_data"
    },
    {
     "name": "stdout",
     "output_type": "stream",
     "text": [
      "epoch      trn_loss   val_loss   exp_rmspe                  \n",
      "    0      0.017343   0.056052   0.183144  \n",
      "    1      0.012621   0.060802   0.192758                   \n",
      "    2      0.011721   0.046363   0.170695                   \n",
      "    3      0.00946    0.043509   0.167832                    \n",
      "    4      0.00955    0.030517   0.143224                    \n",
      "\n"
     ]
    },
    {
     "data": {
      "text/plain": [
       "[0.030516732484102249, 0.1432239719373615]"
      ]
     },
     "execution_count": 144,
     "metadata": {},
     "output_type": "execute_result"
    }
   ],
   "source": [
    "m.fit(lr, 5, cycle_len=1, metrics=[exp_rmspe])"
   ]
  },
  {
   "cell_type": "code",
   "execution_count": 144,
   "metadata": {
    "ExecuteTime": {
     "end_time": "2018-05-24T22:26:45.581843Z",
     "start_time": "2018-05-24T22:26:39.857413Z"
    }
   },
   "outputs": [
    {
     "data": {
      "application/vnd.jupyter.widget-view+json": {
       "model_id": "83cf2a8e64ae4e19bd4a806895eeceae",
       "version_major": 2,
       "version_minor": 0
      },
      "text/plain": [
       "A Jupyter Widget"
      ]
     },
     "metadata": {},
     "output_type": "display_data"
    },
    {
     "name": "stdout",
     "output_type": "stream",
     "text": [
      "epoch      trn_loss   val_loss   exp_rmspe                  \n",
      "    0      0.017343   0.056052   0.183144  \n",
      "    1      0.012621   0.060802   0.192758                   \n",
      "    2      0.011721   0.046363   0.170695                   \n",
      "    3      0.00946    0.043509   0.167832                    \n",
      "    4      0.00955    0.030517   0.143224                    \n",
      "\n"
     ]
    },
    {
     "data": {
      "text/plain": [
       "[0.030516732484102249, 0.1432239719373615]"
      ]
     },
     "execution_count": 144,
     "metadata": {},
     "output_type": "execute_result"
    }
   ],
   "source": [
    "m.fit(lr, 2, cycle_len=4, metrics=[exp_rmspe])"
   ]
  },
  {
   "cell_type": "code",
   "execution_count": 145,
   "metadata": {
    "ExecuteTime": {
     "end_time": "2018-05-24T22:31:41.128068Z",
     "start_time": "2018-05-24T22:31:41.112148Z"
    }
   },
   "outputs": [
    {
     "name": "stderr",
     "output_type": "stream",
     "text": [
      "/Users/adamschiller/Projects/DeepLearning/fastai/fastai/column_data.py:101: UserWarning: nn.init.kaiming_normal is now deprecated in favor of nn.init.kaiming_normal_.\n",
      "  for o in self.lins: kaiming_normal(o.weight.data)\n",
      "/Users/adamschiller/Projects/DeepLearning/fastai/fastai/column_data.py:103: UserWarning: nn.init.kaiming_normal is now deprecated in favor of nn.init.kaiming_normal_.\n",
      "  kaiming_normal(self.outp.weight.data)\n"
     ]
    }
   ],
   "source": [
    "m = md.get_learner(emb_szs, len(df.columns)-len(cat_vars),\n",
    "                   0.08, 1, [1000,500], [0.01,0.1], y_range=y_range)"
   ]
  },
  {
   "cell_type": "code",
   "execution_count": 146,
   "metadata": {
    "ExecuteTime": {
     "end_time": "2018-05-24T22:32:01.633764Z",
     "start_time": "2018-05-24T22:31:58.184479Z"
    }
   },
   "outputs": [
    {
     "data": {
      "application/vnd.jupyter.widget-view+json": {
       "model_id": "aa41c6e2d58f4189a582f0af1ec3797e",
       "version_major": 2,
       "version_minor": 0
      },
      "text/plain": [
       "A Jupyter Widget"
      ]
     },
     "metadata": {},
     "output_type": "display_data"
    },
    {
     "name": "stdout",
     "output_type": "stream",
     "text": [
      "epoch      trn_loss   val_loss   exp_rmspe                 \n",
      "    0      0.19815    0.005726   0.072941  \n",
      "    1      0.081451   0.017278   0.143823                   \n",
      "    2      0.068257   0.008141   0.086546                   \n",
      "\n"
     ]
    },
    {
     "data": {
      "text/plain": [
       "[0.0081406095996499062, 0.086546377322792023]"
      ]
     },
     "execution_count": 146,
     "metadata": {},
     "output_type": "execute_result"
    }
   ],
   "source": [
    "m.fit(lr, 3, metrics=[exp_rmspe])"
   ]
  },
  {
   "cell_type": "code",
   "execution_count": 147,
   "metadata": {
    "ExecuteTime": {
     "end_time": "2018-05-24T22:32:34.584073Z",
     "start_time": "2018-05-24T22:32:25.516039Z"
    }
   },
   "outputs": [
    {
     "data": {
      "application/vnd.jupyter.widget-view+json": {
       "model_id": "6f228cc65cf54cd1b2afb3e5ac8c0a71",
       "version_major": 2,
       "version_minor": 0
      },
      "text/plain": [
       "A Jupyter Widget"
      ]
     },
     "metadata": {},
     "output_type": "display_data"
    },
    {
     "name": "stdout",
     "output_type": "stream",
     "text": [
      "epoch      trn_loss   val_loss   exp_rmspe                  \n",
      "    0      0.063185   0.041374   0.18176   \n",
      "    1      0.044022   0.00547    0.07797                    \n",
      "    2      0.032748   0.003234   0.055359                   \n",
      "    3      0.026147   0.00224    0.04892                    \n",
      "    4      0.044527   0.001826   0.043977                   \n",
      "    5      0.056596   0.00398    0.066548                   \n",
      "    6      0.042439   0.001333   0.036707                   \n",
      "    7      0.043708   0.001251   0.036218                   \n",
      "\n"
     ]
    },
    {
     "data": {
      "text/plain": [
       "[0.0012514183763414621, 0.036217712202747325]"
      ]
     },
     "execution_count": 147,
     "metadata": {},
     "output_type": "execute_result"
    }
   ],
   "source": [
    "m.fit(lr, 2, cycle_len=4, metrics=[exp_rmspe])"
   ]
  },
  {
   "cell_type": "code",
   "execution_count": 149,
   "metadata": {
    "ExecuteTime": {
     "end_time": "2018-05-24T22:34:40.727759Z",
     "start_time": "2018-05-24T22:34:40.721951Z"
    }
   },
   "outputs": [],
   "source": [
    "m.save(f'{stock}_0.036rmspe')"
   ]
  },
  {
   "cell_type": "code",
   "execution_count": 158,
   "metadata": {
    "ExecuteTime": {
     "end_time": "2018-05-24T22:57:57.665214Z",
     "start_time": "2018-05-24T22:57:57.657187Z"
    }
   },
   "outputs": [
    {
     "data": {
      "text/plain": [
       "0.036217712202747325"
      ]
     },
     "execution_count": 158,
     "metadata": {},
     "output_type": "execute_result"
    }
   ],
   "source": [
    "preds,targs=m.predict_with_targs()\n",
    "exp_rmspe(preds,targs)"
   ]
  },
  {
   "cell_type": "code",
   "execution_count": 164,
   "metadata": {
    "ExecuteTime": {
     "end_time": "2018-05-24T23:01:02.449520Z",
     "start_time": "2018-05-24T23:01:02.440065Z"
    }
   },
   "outputs": [
    {
     "name": "stdout",
     "output_type": "stream",
     "text": [
      "predicted: [ 359.08453]  actual: [ 331.10007]\n",
      "predicted: [ 330.47403]  actual: [ 328.98007]\n",
      "predicted: [ 325.73392]  actual: [ 331.66006]\n",
      "predicted: [ 329.13461]  actual: [ 325.20004]\n",
      "predicted: [ 303.77118]  actual: [ 317.29001]\n",
      "predicted: [ 326.62155]  actual: [ 311.64008]\n",
      "predicted: [ 317.59332]  actual: [ 315.35992]\n",
      "predicted: [ 313.4985]  actual: [ 311.35001]\n",
      "predicted: [ 314.51834]  actual: [ 320.52994]\n",
      "predicted: [ 326.82797]  actual: [ 317.25006]\n"
     ]
    }
   ],
   "source": [
    "for p,t in zip(inv_y(preds), inv_y(targs)):\n",
    "    print(f'predicted: {p}  actual: {t}')"
   ]
  },
  {
   "cell_type": "markdown",
   "metadata": {},
   "source": [
    "### Test predictions"
   ]
  },
  {
   "cell_type": "code",
   "execution_count": null,
   "metadata": {
    "collapsed": true
   },
   "outputs": [],
   "source": []
  },
  {
   "cell_type": "markdown",
   "metadata": {},
   "source": [
    "# RandomForest"
   ]
  },
  {
   "cell_type": "code",
   "execution_count": 135,
   "metadata": {
    "ExecuteTime": {
     "end_time": "2018-05-24T22:11:08.947497Z",
     "start_time": "2018-05-24T22:11:08.944194Z"
    },
    "collapsed": true
   },
   "outputs": [],
   "source": [
    "from sklearn.ensemble import RandomForestRegressor"
   ]
  },
  {
   "cell_type": "code",
   "execution_count": 172,
   "metadata": {
    "ExecuteTime": {
     "end_time": "2018-05-24T23:14:12.661300Z",
     "start_time": "2018-05-24T23:14:12.657502Z"
    },
    "collapsed": true
   },
   "outputs": [],
   "source": [
    "((val,trn), (y_val,y_trn)) = split_by_idx(val_idxs, df.values, yl)"
   ]
  },
  {
   "cell_type": "code",
   "execution_count": 175,
   "metadata": {
    "ExecuteTime": {
     "end_time": "2018-05-24T23:16:22.623015Z",
     "start_time": "2018-05-24T23:16:22.617858Z"
    }
   },
   "outputs": [
    {
     "data": {
      "text/plain": [
       "((10, 29), (988, 29), (10,), (988,))"
      ]
     },
     "execution_count": 175,
     "metadata": {},
     "output_type": "execute_result"
    }
   ],
   "source": [
    "val.shape, trn.shape, y_val.shape, y_trn.shape"
   ]
  },
  {
   "cell_type": "code",
   "execution_count": 176,
   "metadata": {
    "ExecuteTime": {
     "end_time": "2018-05-24T23:19:37.493186Z",
     "start_time": "2018-05-24T23:19:37.487387Z"
    },
    "collapsed": true
   },
   "outputs": [],
   "source": [
    "def print_score(m):\n",
    "    res = [exp_rmspe(m.predict(trn), y_trn), exp_rmspe(m.predict(val), y_val),\n",
    "                round(m.score(trn, y_trn),4), round(m.score(val, y_val),4)]\n",
    "    if hasattr(m, 'oob_score_'): res.append(m.oob_score_)\n",
    "    print(res)"
   ]
  },
  {
   "cell_type": "code",
   "execution_count": 173,
   "metadata": {
    "ExecuteTime": {
     "end_time": "2018-05-24T23:14:15.457766Z",
     "start_time": "2018-05-24T23:14:15.306686Z"
    }
   },
   "outputs": [],
   "source": [
    "m = RandomForestRegressor(n_estimators=40, max_features=0.99, min_samples_leaf=2,\n",
    "                          n_jobs=-1, oob_score=True)\n",
    "m.fit(trn, y_trn);"
   ]
  },
  {
   "cell_type": "code",
   "execution_count": 177,
   "metadata": {
    "ExecuteTime": {
     "end_time": "2018-05-24T23:19:53.547104Z",
     "start_time": "2018-05-24T23:19:53.110879Z"
    }
   },
   "outputs": [
    {
     "name": "stdout",
     "output_type": "stream",
     "text": [
      "[0.012189362331844162, 0.023505708478655764, 0.99629999999999996, -0.035700000000000003, 0.98166316529986497]\n"
     ]
    }
   ],
   "source": [
    "print_score(m)"
   ]
  },
  {
   "cell_type": "markdown",
   "metadata": {},
   "source": [
    "## Feature Importance"
   ]
  },
  {
   "cell_type": "code",
   "execution_count": 180,
   "metadata": {
    "ExecuteTime": {
     "end_time": "2018-05-24T23:22:13.956327Z",
     "start_time": "2018-05-24T23:22:13.832619Z"
    }
   },
   "outputs": [
    {
     "name": "stdout",
     "output_type": "stream",
     "text": [
      "Variable: price                Importance: 0.96\n",
      "Variable: prev_close           Importance: 0.02\n",
      "Variable: volume               Importance: 0.0\n",
      "Variable: ema10                Importance: 0.0\n",
      "Variable: ema50                Importance: 0.0\n",
      "Variable: ema200               Importance: 0.0\n",
      "Variable: MACD_Signal          Importance: 0.0\n",
      "Variable: MACD_Hist            Importance: 0.0\n",
      "Variable: MACD                 Importance: 0.0\n",
      "Variable: SlowD                Importance: 0.0\n",
      "Variable: SlowK                Importance: 0.0\n",
      "Variable: ROC                  Importance: 0.0\n",
      "Variable: ADX                  Importance: 0.0\n",
      "Variable: RSI                  Importance: 0.0\n",
      "Variable: OBV                  Importance: 0.0\n",
      "Variable: CCI                  Importance: 0.0\n",
      "Variable: Chaikin A/D          Importance: 0.0\n",
      "Variable: Aroon Down           Importance: 0.0\n",
      "Variable: Aroon Up             Importance: 0.0\n",
      "Variable: Year                 Importance: 0.0\n",
      "Variable: Month                Importance: 0.0\n",
      "Variable: Week                 Importance: 0.0\n",
      "Variable: Day                  Importance: 0.0\n",
      "Variable: Dayofweek            Importance: 0.0\n",
      "Variable: Dayofyear            Importance: 0.0\n",
      "Variable: Is_month_end         Importance: 0.0\n",
      "Variable: Is_month_start       Importance: 0.0\n",
      "Variable: Is_quarter_end       Importance: 0.0\n",
      "Variable: Is_quarter_start     Importance: 0.0\n"
     ]
    }
   ],
   "source": [
    "features = list(df.columns)\n",
    "\n",
    "# Get numerical feature importances\n",
    "importances = list(m.feature_importances_)\n",
    "\n",
    "# List of tuples with variable and importance\n",
    "feature_importances = [(feature, round(importance, 2)) for feature, importance in zip(features, importances)]\n",
    "\n",
    "# Sort the feature importances by most important first\n",
    "feature_importances = sorted(feature_importances, key = lambda x: x[1], reverse = True)\n",
    "\n",
    "# Print out the feature and importances \n",
    "[print('Variable: {:20} Importance: {}'.format(*pair)) for pair in feature_importances];"
   ]
  },
  {
   "cell_type": "markdown",
   "metadata": {},
   "source": [
    "## Feature Reduction"
   ]
  },
  {
   "cell_type": "markdown",
   "metadata": {},
   "source": [
    "# Vanilla Neural Network"
   ]
  },
  {
   "cell_type": "code",
   "execution_count": null,
   "metadata": {
    "collapsed": true
   },
   "outputs": [],
   "source": []
  }
 ],
 "metadata": {
  "kernelspec": {
   "display_name": "Python 3",
   "language": "python",
   "name": "python3"
  },
  "language_info": {
   "codemirror_mode": {
    "name": "ipython",
    "version": 3
   },
   "file_extension": ".py",
   "mimetype": "text/x-python",
   "name": "python",
   "nbconvert_exporter": "python",
   "pygments_lexer": "ipython3",
   "version": "3.6.3"
  },
  "toc": {
   "nav_menu": {},
   "number_sections": true,
   "sideBar": true,
   "skip_h1_title": false,
   "title_cell": "Table of Contents",
   "title_sidebar": "Contents",
   "toc_cell": false,
   "toc_position": {},
   "toc_section_display": true,
   "toc_window_display": false
  },
  "varInspector": {
   "cols": {
    "lenName": 16,
    "lenType": 16,
    "lenVar": 40
   },
   "kernels_config": {
    "python": {
     "delete_cmd_postfix": "",
     "delete_cmd_prefix": "del ",
     "library": "var_list.py",
     "varRefreshCmd": "print(var_dic_list())"
    },
    "r": {
     "delete_cmd_postfix": ") ",
     "delete_cmd_prefix": "rm(",
     "library": "var_list.r",
     "varRefreshCmd": "cat(var_dic_list()) "
    }
   },
   "types_to_exclude": [
    "module",
    "function",
    "builtin_function_or_method",
    "instance",
    "_Feature"
   ],
   "window_display": false
  }
 },
 "nbformat": 4,
 "nbformat_minor": 2
}
