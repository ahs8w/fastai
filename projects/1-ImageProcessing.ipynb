{
 "cells": [
  {
   "cell_type": "code",
   "execution_count": null,
   "metadata": {
    "ExecuteTime": {},
    "heading_collapsed": true,
    "hidden": true
   },
   "outputs": [],
   "source": [
    "%matplotlib inline\n",
    "%reload_ext autoreload\n",
    "%autoreload 2"
   ]
  },
  {
   "cell_type": "code",
   "execution_count": null,
   "metadata": {
    "ExecuteTime": {},
    "heading_collapsed": true,
    "hidden": true
   },
   "outputs": [],
   "source": [
    "from fastai import *\n",
    "from fastai.vision import *\n",
    "import pdb"
   ]
  },
  {
   "cell_type": "code",
   "execution_count": null,
   "metadata": {
    "ExecuteTime": {},
    "heading_collapsed": true,
    "hidden": true
   },
   "outputs": [],
   "source": [
    "from scipy import signal,ndimage\n",
    "import statistics"
   ]
  },
  {
   "cell_type": "code",
   "execution_count": null,
   "metadata": {
    "ExecuteTime": {},
    "heading_collapsed": true,
    "hidden": true
   },
   "outputs": [],
   "source": [
    "PATH = Path('data/IAM_handwriting')"
   ]
  },
  {
   "cell_type": "markdown",
   "metadata": {},
   "source": [
    "# Helpers"
   ]
  },
  {
   "cell_type": "code",
   "execution_count": null,
   "metadata": {
    "ExecuteTime": {},
    "heading_collapsed": true,
    "hidden": true
   },
   "outputs": [],
   "source": [
    "# random image from folder\n",
    "def rand_from_folder(f_path):\n",
    "    files = [f for f in os.listdir(f_path) if not f.startswith(\".\")]  # remove .DS_Store and other hidden files\n",
    "    fname = random.choice(files)\n",
    "    return PIL.Image.open(f_path/fname).convert('L')"
   ]
  },
  {
   "cell_type": "code",
   "execution_count": null,
   "metadata": {
    "ExecuteTime": {},
    "heading_collapsed": true,
    "hidden": true
   },
   "outputs": [],
   "source": [
    "def array_stats(im):\n",
    "    arr = np.array(im)\n",
    "    print(f\"mean: {arr.mean()}, std: {arr.std()}, min: {arr.min()}, max: {arr.max()}\")\n",
    "    return arr"
   ]
  },
  {
   "cell_type": "markdown",
   "metadata": {
    "heading_collapsed": true
   },
   "source": [
    "# global stats - paragraphs"
   ]
  },
  {
   "cell_type": "code",
   "execution_count": null,
   "metadata": {
    "ExecuteTime": {},
    "heading_collapsed": true,
    "hidden": true
   },
   "outputs": [],
   "source": [
    "fname = 'edited_pg.csv' #'paragraphs.csv'\n",
    "CSV = PATH/fname\n",
    "FOLDER = 'paragraphs'\n",
    "\n",
    "df = pd.read_csv(CSV)\n",
    "len(df)"
   ]
  },
  {
   "cell_type": "code",
   "execution_count": null,
   "metadata": {
    "ExecuteTime": {},
    "heading_collapsed": true,
    "hidden": true
   },
   "outputs": [],
   "source": [
    "data = ImageList.from_df(df, path=PATH, folder=FOLDER).split_none()"
   ]
  },
  {
   "cell_type": "code",
   "execution_count": null,
   "metadata": {
    "ExecuteTime": {},
    "heading_collapsed": true,
    "hidden": true
   },
   "outputs": [],
   "source": [
    "fig, axes = plt.subplots(3,3, gridspec_kw={'hspace': 0.4}, figsize=(18, 10))\n",
    "for i,ax in enumerate(axes.flat):\n",
    "    ax=show_image(data.train[i], ax=ax)"
   ]
  },
  {
   "cell_type": "markdown",
   "metadata": {
    "heading_collapsed": true,
    "hidden": true
   },
   "source": [
    "## Determine average line length"
   ]
  },
  {
   "cell_type": "code",
   "execution_count": null,
   "metadata": {
    "ExecuteTime": {},
    "heading_collapsed": true,
    "hidden": true
   },
   "outputs": [],
   "source": [
    "df['char_len'] = df.label.map(len)\n",
    "df.char_len.values.max()"
   ]
  },
  {
   "cell_type": "code",
   "execution_count": null,
   "metadata": {
    "ExecuteTime": {},
    "heading_collapsed": true,
    "hidden": true
   },
   "outputs": [],
   "source": [
    "lines = [pg.split('\\n')[:-1] for pg in df.label.values]   # remove final line per label (incomplete)\n",
    "lines = functools.reduce(operator.iconcat, lines, [])     # flatten lines list"
   ]
  },
  {
   "cell_type": "code",
   "execution_count": null,
   "metadata": {
    "ExecuteTime": {},
    "heading_collapsed": true,
    "hidden": true
   },
   "outputs": [],
   "source": [
    "lens = np.array(list(map(lambda x: len(x), lines)))\n",
    "lens.mean(), lens.std()"
   ]
  },
  {
   "cell_type": "code",
   "execution_count": null,
   "metadata": {
    "ExecuteTime": {},
    "heading_collapsed": true,
    "hidden": true
   },
   "outputs": [],
   "source": [
    "plt.hist(lens)"
   ]
  },
  {
   "cell_type": "code",
   "execution_count": null,
   "metadata": {
    "ExecuteTime": {},
    "heading_collapsed": true,
    "hidden": true,
    "scrolled": true
   },
   "outputs": [],
   "source": [
    "# image w/ longest lines\n",
    "im = PIL.Image.open(PATH/'paragraphs'/'c04-110.png')\n",
    "im"
   ]
  },
  {
   "cell_type": "code",
   "execution_count": null,
   "metadata": {
    "ExecuteTime": {},
    "heading_collapsed": true,
    "hidden": true
   },
   "outputs": [],
   "source": [
    "# line lengths of above image\n",
    "lens[3657:3661]"
   ]
  },
  {
   "cell_type": "markdown",
   "metadata": {},
   "source": [
    "# View individual images"
   ]
  },
  {
   "cell_type": "code",
   "execution_count": null,
   "metadata": {
    "ExecuteTime": {},
    "heading_collapsed": true,
    "hidden": true,
    "scrolled": true
   },
   "outputs": [],
   "source": [
    "im = rand_from_folder(PATH/'uploads')\n",
    "im = im.resize((512,512))\n",
    "im"
   ]
  },
  {
   "cell_type": "code",
   "execution_count": null,
   "metadata": {
    "ExecuteTime": {},
    "heading_collapsed": true,
    "hidden": true
   },
   "outputs": [],
   "source": [
    "arr = np.array(im)\n",
    "arr.mean(), arr.std(), arr.min(), arr.max()"
   ]
  },
  {
   "cell_type": "code",
   "execution_count": null,
   "metadata": {
    "ExecuteTime": {},
    "heading_collapsed": true,
    "hidden": true
   },
   "outputs": [],
   "source": [
    "arr.shape"
   ]
  },
  {
   "cell_type": "code",
   "execution_count": null,
   "metadata": {
    "ExecuteTime": {},
    "heading_collapsed": true,
    "hidden": true
   },
   "outputs": [],
   "source": [
    "def show_lines(arr):\n",
    "    stds = arr.std(axis=1)\n",
    "    g_stds = scipy.ndimage.gaussian_filter1d(stds, 5)\n",
    "    peaks,_ = scipy.signal.find_peaks(g_stds, prominence=5, height=stds.mean(), distance=20)\n",
    "    mins = scipy.signal.argrelextrema(g_stds, np.less_equal)[0]  # np.less_equal critical for flat minima, edges\n",
    "    fig, axs = plt.subplots(math.ceil(len(peaks)/2),2,figsize=(18,15))\n",
    "    for p,ax in zip(peaks, axs.flatten()):\n",
    "        line = range(mins[mins < p][-1], mins[mins > p][0])\n",
    "        im = PIL.Image.fromarray(arr[line])\n",
    "        ax.imshow(im)"
   ]
  },
  {
   "cell_type": "code",
   "execution_count": null,
   "metadata": {
    "ExecuteTime": {},
    "heading_collapsed": true,
    "hidden": true
   },
   "outputs": [],
   "source": [
    "show_lines(arr)"
   ]
  },
  {
   "cell_type": "code",
   "execution_count": null,
   "metadata": {
    "ExecuteTime": {},
    "heading_collapsed": true,
    "hidden": true
   },
   "outputs": [],
   "source": [
    "stds = arr.std(axis=1)\n",
    "means = arr.mean(axis=1)"
   ]
  },
  {
   "cell_type": "code",
   "execution_count": null,
   "metadata": {
    "ExecuteTime": {},
    "heading_collapsed": true,
    "hidden": true
   },
   "outputs": [],
   "source": [
    "plt.bar(list(range(0,512)), stds)"
   ]
  },
  {
   "cell_type": "code",
   "execution_count": null,
   "metadata": {
    "ExecuteTime": {},
    "heading_collapsed": true,
    "hidden": true
   },
   "outputs": [],
   "source": [
    "g_stds = scipy.ndimage.gaussian_filter1d(stds, 5)   # gaussian smoothing\n",
    "plt.bar(list(range(0,512)), g_stds)"
   ]
  },
  {
   "cell_type": "code",
   "execution_count": null,
   "metadata": {
    "ExecuteTime": {},
    "heading_collapsed": true,
    "hidden": true
   },
   "outputs": [],
   "source": [
    "stds.mean(), stds.std()"
   ]
  },
  {
   "cell_type": "code",
   "execution_count": null,
   "metadata": {
    "ExecuteTime": {},
    "heading_collapsed": true,
    "hidden": true
   },
   "outputs": [],
   "source": [
    "peaks,_ = scipy.signal.find_peaks(g_stds, prominence=5, height=stds.mean(), distance=20)"
   ]
  },
  {
   "cell_type": "code",
   "execution_count": null,
   "metadata": {
    "ExecuteTime": {},
    "heading_collapsed": true,
    "hidden": true,
    "scrolled": true
   },
   "outputs": [],
   "source": [
    "peaks"
   ]
  },
  {
   "cell_type": "code",
   "execution_count": null,
   "metadata": {
    "ExecuteTime": {},
    "heading_collapsed": true,
    "hidden": true
   },
   "outputs": [],
   "source": [
    "x = np.array([0, 2, 1, 2, 3, 2, 0, 1, 0])\n",
    "scipy.signal.argrelextrema(x, np.less_equal)[0]"
   ]
  },
  {
   "cell_type": "code",
   "execution_count": null,
   "metadata": {
    "ExecuteTime": {},
    "heading_collapsed": true,
    "hidden": true
   },
   "outputs": [],
   "source": [
    "minima = scipy.signal.argrelextrema(g_stds, np.less_equal)[0]\n",
    "minima"
   ]
  },
  {
   "cell_type": "code",
   "execution_count": null,
   "metadata": {
    "ExecuteTime": {},
    "heading_collapsed": true,
    "hidden": true
   },
   "outputs": [],
   "source": [
    "mins[mins < peaks[0]][-1]"
   ]
  },
  {
   "cell_type": "code",
   "execution_count": null,
   "metadata": {
    "ExecuteTime": {},
    "heading_collapsed": true,
    "hidden": true
   },
   "outputs": [],
   "source": [
    "widths = []\n",
    "for p in peaks:\n",
    "    widths.append(range(mins[mins < p][-1], mins[mins > p][0]))"
   ]
  },
  {
   "cell_type": "code",
   "execution_count": null,
   "metadata": {
    "ExecuteTime": {},
    "heading_collapsed": true,
    "hidden": true
   },
   "outputs": [],
   "source": [
    "PIL.Image.fromarray(arr[widths[5]])"
   ]
  },
  {
   "cell_type": "code",
   "execution_count": null,
   "metadata": {
    "ExecuteTime": {},
    "heading_collapsed": true,
    "hidden": true
   },
   "outputs": [],
   "source": [
    "fig, axs = plt.subplots(7,2,figsize=(18,20))\n",
    "for w,ax in zip(widths, axs.flatten()):\n",
    "    im = PIL.Image.fromarray(arr[w])\n",
    "    ax.imshow(im)"
   ]
  },
  {
   "cell_type": "code",
   "execution_count": null,
   "metadata": {
    "ExecuteTime": {},
    "heading_collapsed": true,
    "hidden": true
   },
   "outputs": [],
   "source": [
    "idxs = list(range(392-55, 392+55))\n",
    "PIL.Image.fromarray(arr[idxs])"
   ]
  },
  {
   "cell_type": "code",
   "execution_count": null,
   "metadata": {
    "ExecuteTime": {},
    "heading_collapsed": true,
    "hidden": true,
    "scrolled": true
   },
   "outputs": [],
   "source": [
    "# with np.printoptions(threshold=np.inf, linewidth=np.inf):   # context manager to view large array without truncation\n",
    "#     print(arr)"
   ]
  },
  {
   "cell_type": "code",
   "execution_count": null,
   "metadata": {
    "ExecuteTime": {},
    "heading_collapsed": true,
    "hidden": true
   },
   "outputs": [],
   "source": [
    "# plt.rcParams[\"figure.figsize\"] = [12,9]\n",
    "\n",
    "plt.imshow(im, cmap='hot')\n",
    "plt.colorbar()\n",
    "plt.show()"
   ]
  },
  {
   "cell_type": "code",
   "execution_count": null,
   "metadata": {
    "ExecuteTime": {},
    "heading_collapsed": true,
    "hidden": true
   },
   "outputs": [],
   "source": [
    "mask = arr < np.percentile(arr, 6)\n",
    "\n",
    "plt.imshow(mask.astype(int), cmap='hot')\n",
    "plt.colorbar()\n",
    "plt.show()"
   ]
  },
  {
   "cell_type": "code",
   "execution_count": null,
   "metadata": {
    "ExecuteTime": {},
    "heading_collapsed": true,
    "hidden": true
   },
   "outputs": [],
   "source": [
    "mask = arr > np.percentile(arr, 6)\n",
    "\n",
    "plt.imshow(mask.astype(int), cmap='hot')\n",
    "plt.colorbar()\n",
    "plt.show()"
   ]
  },
  {
   "cell_type": "code",
   "execution_count": null,
   "metadata": {
    "ExecuteTime": {},
    "heading_collapsed": true,
    "hidden": true
   },
   "outputs": [],
   "source": [
    "import scipy\n",
    "from scipy import ndimage"
   ]
  },
  {
   "cell_type": "code",
   "execution_count": null,
   "metadata": {
    "ExecuteTime": {},
    "heading_collapsed": true,
    "hidden": true
   },
   "outputs": [],
   "source": [
    "mask = np.greater(arr, np.percentile(arr, 6))\n",
    "np.putmask(arr, mask, 255)\n",
    "\n",
    "plt.imshow(ndimage.gaussian_filter(arr, 2), cmap='hot')\n",
    "plt.colorbar()\n",
    "plt.show()"
   ]
  },
  {
   "cell_type": "markdown",
   "metadata": {
    "ExecuteTime": {}
   },
   "source": [
    "# Test Images"
   ]
  },
  {
   "cell_type": "code",
   "execution_count": null,
   "metadata": {
    "ExecuteTime": {},
    "heading_collapsed": true,
    "hidden": true
   },
   "outputs": [],
   "source": [
    "dl_path = Path('data/fonts/test')"
   ]
  },
  {
   "cell_type": "code",
   "execution_count": null,
   "metadata": {
    "ExecuteTime": {},
    "heading_collapsed": true,
    "hidden": true
   },
   "outputs": [],
   "source": [
    "t_im = rand_from_folder(dl_path)\n",
    "t_im"
   ]
  },
  {
   "cell_type": "code",
   "execution_count": null,
   "metadata": {
    "ExecuteTime": {},
    "heading_collapsed": true,
    "hidden": true
   },
   "outputs": [],
   "source": [
    "t_im = PIL.Image.open(dl_path/'2.png').convert('L')\n",
    "t_im"
   ]
  },
  {
   "cell_type": "code",
   "execution_count": null,
   "metadata": {
    "ExecuteTime": {},
    "heading_collapsed": true,
    "hidden": true
   },
   "outputs": [],
   "source": [
    "t_arr = array_stats(t_im)\n",
    "t_arr"
   ]
  },
  {
   "cell_type": "code",
   "execution_count": null,
   "metadata": {
    "ExecuteTime": {},
    "heading_collapsed": true,
    "hidden": true
   },
   "outputs": [],
   "source": [
    "plt.hist(t_arr.flatten())"
   ]
  },
  {
   "cell_type": "code",
   "execution_count": null,
   "metadata": {
    "ExecuteTime": {},
    "heading_collapsed": true,
    "hidden": true
   },
   "outputs": [],
   "source": []
  },
  {
   "cell_type": "code",
   "execution_count": null,
   "metadata": {
    "ExecuteTime": {},
    "heading_collapsed": true,
    "hidden": true
   },
   "outputs": [],
   "source": [
    "plt.hist(bg_arr.flatten())"
   ]
  },
  {
   "cell_type": "code",
   "execution_count": null,
   "metadata": {
    "ExecuteTime": {},
    "heading_collapsed": true,
    "hidden": true
   },
   "outputs": [],
   "source": [
    "import scipy.stats as stats\n",
    "\n",
    "lower, upper = 200, 251\n",
    "mu, sigma = 242, 10\n",
    "dist = stats.truncnorm((lower - mu) / sigma, (upper - mu) / sigma, loc=mu, scale=sigma)\n",
    "trunc_norm_dist = dist.rvs(300)"
   ]
  },
  {
   "cell_type": "code",
   "execution_count": null,
   "metadata": {
    "ExecuteTime": {},
    "heading_collapsed": true,
    "hidden": true
   },
   "outputs": [],
   "source": [
    "plt.hist(trunc_norm_dist)"
   ]
  },
  {
   "cell_type": "code",
   "execution_count": null,
   "metadata": {
    "ExecuteTime": {},
    "heading_collapsed": true,
    "hidden": true
   },
   "outputs": [],
   "source": [
    "def random_wrap_bg(): return np.random.choice(trunc_norm_dist)"
   ]
  },
  {
   "cell_type": "markdown",
   "metadata": {},
   "source": [
    "# Background noise"
   ]
  },
  {
   "cell_type": "code",
   "execution_count": null,
   "metadata": {
    "ExecuteTime": {},
    "heading_collapsed": true,
    "hidden": true
   },
   "outputs": [],
   "source": [
    "def skew_pixels(im, brightness=0.5, sharpness=-0.5):\n",
    "    '''increase brightness to lighten darks\n",
    "       decrease sharpness to spread values out\n",
    "    '''\n",
    "    enhance = PIL.ImageEnhance.Brightness(im)\n",
    "    im = enhance.enhance(1.0 + brightness)  # increase brightness\n",
    "    enhance = PIL.ImageEnhance.Sharpness(im)\n",
    "    im = enhance.enhance(1.0 + sharpness)  # decrease sharpness\n",
    "    return im"
   ]
  },
  {
   "cell_type": "code",
   "execution_count": null,
   "metadata": {
    "ExecuteTime": {},
    "heading_collapsed": true,
    "hidden": true
   },
   "outputs": [],
   "source": [
    "def overlay_bg(im, bg_img=None):\n",
    "    if bg_img is None:\n",
    "        bg_img = rand_from_folder(PATH/'paragraphs')\n",
    "    blur = 70 #random.randint(70,150) \n",
    "    bg = bg_img.filter(PIL.ImageFilter.GaussianBlur(blur))\n",
    "    # random flips\n",
    "    choices = [PIL.Image.FLIP_LEFT_RIGHT, PIL.Image.FLIP_TOP_BOTTOM, PIL.Image.ROTATE_90, PIL.Image.ROTATE_180, PIL.Image.ROTATE_270]\n",
    "    bg.transpose(random.choice(choices))\n",
    "\n",
    "    return PIL.ImageChops.darker(im, bg.resize(im.size))\n",
    "#     diff = PIL.ImageChops.difference(im, bg.resize(im.size))\n",
    "#     return PIL.ImageChops.subtract(im, diff)"
   ]
  },
  {
   "cell_type": "code",
   "execution_count": null,
   "metadata": {
    "ExecuteTime": {},
    "heading_collapsed": true,
    "hidden": true
   },
   "outputs": [],
   "source": [
    "def gaussian_noise(im):\n",
    "    arr = np.array(im)\n",
    "    out = np.clip(arr, 45, 230) + np.random.normal(0,4, arr.shape)\n",
    "    out = out.astype('uint8')\n",
    "    #print(f\"mean: {out.mean()}, std: {out.std()}, max: {out.max()}, min: {out.min()}\")\n",
    "    return PIL.Image.fromarray(out, mode='L')"
   ]
  },
  {
   "cell_type": "code",
   "execution_count": null,
   "metadata": {
    "ExecuteTime": {},
    "heading_collapsed": true,
    "hidden": true
   },
   "outputs": [],
   "source": [
    "def poisson_noise(image, mod=1.5):\n",
    "    image = np.array(image)\n",
    "    # Determine unique values in image & calculate the next power of two\n",
    "    vals = len(np.unique(image))\n",
    "    vals = mod ** np.ceil(np.log2(vals))\n",
    "\n",
    "    # Generating noise for each unique value in image.\n",
    "    out = np.random.poisson(image * vals) / float(vals)\n",
    "    return PIL.Image.fromarray(out.astype('uint8'), mode='L')"
   ]
  },
  {
   "cell_type": "code",
   "execution_count": null,
   "metadata": {
    "ExecuteTime": {},
    "heading_collapsed": true,
    "hidden": true
   },
   "outputs": [],
   "source": [
    "res = skew_pixels(res)\n",
    "plt.imshow(res)"
   ]
  },
  {
   "cell_type": "code",
   "execution_count": null,
   "metadata": {
    "ExecuteTime": {},
    "heading_collapsed": true,
    "hidden": true
   },
   "outputs": [],
   "source": [
    "# overlay bg\n",
    "res = overlay_bg(res)\n",
    "plt.imshow(res) "
   ]
  },
  {
   "cell_type": "code",
   "execution_count": null,
   "metadata": {
    "ExecuteTime": {},
    "heading_collapsed": true,
    "hidden": true
   },
   "outputs": [],
   "source": [
    "res"
   ]
  },
  {
   "cell_type": "code",
   "execution_count": null,
   "metadata": {
    "ExecuteTime": {},
    "heading_collapsed": true,
    "hidden": true
   },
   "outputs": [],
   "source": [
    "# gaussian noise\n",
    "gtim = gaussian_noise(t_im)\n",
    "gtim"
   ]
  },
  {
   "cell_type": "code",
   "execution_count": null,
   "metadata": {
    "ExecuteTime": {},
    "heading_collapsed": true,
    "hidden": true
   },
   "outputs": [],
   "source": [
    "gtarr = array_stats(gtim)"
   ]
  },
  {
   "cell_type": "code",
   "execution_count": null,
   "metadata": {
    "ExecuteTime": {},
    "heading_collapsed": true,
    "hidden": true
   },
   "outputs": [],
   "source": [
    "gtarr"
   ]
  },
  {
   "cell_type": "code",
   "execution_count": null,
   "metadata": {
    "ExecuteTime": {},
    "heading_collapsed": true,
    "hidden": true
   },
   "outputs": [],
   "source": [
    "ptim = poisson_noise(t_im)\n",
    "ptim"
   ]
  },
  {
   "cell_type": "markdown",
   "metadata": {},
   "source": [
    "# Crop and Pad"
   ]
  },
  {
   "cell_type": "code",
   "execution_count": null,
   "metadata": {
    "ExecuteTime": {},
    "heading_collapsed": true,
    "hidden": true
   },
   "outputs": [],
   "source": [
    "def crop_image(im):    \n",
    "    bg = PIL.Image.new(im.mode, im.size, im.getpixel((0,0)))\n",
    "    diff = PIL.ImageChops.difference(im, bg)\n",
    "    diff = PIL.ImageChops.add(diff, diff, 2.0, -100)\n",
    "    box = diff.getbbox()\n",
    "    return im.crop(box)"
   ]
  },
  {
   "cell_type": "code",
   "execution_count": null,
   "metadata": {
    "ExecuteTime": {},
    "heading_collapsed": true,
    "hidden": true
   },
   "outputs": [],
   "source": [
    "def pad_image(im, pad_range=(10,50)):\n",
    "    \"adjusted to minimize large ratio differences\"\n",
    "    row,col = im.size\n",
    "    bg_color = im.getpixel((0,0))\n",
    "    l = int(random.randint(*pad_range) * col/row)\n",
    "    u = int(random.randint(*pad_range) * row/col)\n",
    "    r = int(random.randint(*pad_range) * col/row)\n",
    "    b = int(random.randint(*pad_range) * row/col)\n",
    "    #print(l,u,r,b)\n",
    "    return PIL.ImageOps.expand(im, border=(l,u,r,b), fill=bg_color)"
   ]
  },
  {
   "cell_type": "code",
   "execution_count": null,
   "metadata": {
    "ExecuteTime": {},
    "heading_collapsed": true,
    "hidden": true
   },
   "outputs": [],
   "source": [
    "# crop\n",
    "res = crop_image(t_im)\n",
    "plt.imshow(res)"
   ]
  },
  {
   "cell_type": "code",
   "execution_count": null,
   "metadata": {
    "ExecuteTime": {},
    "heading_collapsed": true,
    "hidden": true
   },
   "outputs": [],
   "source": [
    "# pad\n",
    "res = pad_image(res)\n",
    "plt.imshow(res)"
   ]
  },
  {
   "cell_type": "markdown",
   "metadata": {},
   "source": [
    "# Script"
   ]
  },
  {
   "cell_type": "code",
   "execution_count": null,
   "metadata": {
    "ExecuteTime": {},
    "heading_collapsed": true,
    "hidden": true,
    "scrolled": true
   },
   "outputs": [],
   "source": [
    "ntim = overlay_bg(skew_pixels(pad_image(crop_image(t_im))))\n",
    "ntim"
   ]
  },
  {
   "cell_type": "code",
   "execution_count": null,
   "metadata": {
    "ExecuteTime": {},
    "heading_collapsed": true,
    "hidden": true
   },
   "outputs": [],
   "source": [
    "poisson_noise(ntim, mod=2.1)"
   ]
  },
  {
   "cell_type": "code",
   "execution_count": null,
   "metadata": {
    "ExecuteTime": {},
    "heading_collapsed": true,
    "hidden": true
   },
   "outputs": [],
   "source": [
    "f_path = Path('data/fonts')\n",
    "src_path = f_path/'imdb'\n",
    "targ_path = f_path/'imdb_res'\n",
    "\n",
    "os.makedirs(targ_path, exist_ok=True)"
   ]
  },
  {
   "cell_type": "code",
   "execution_count": null,
   "metadata": {
    "ExecuteTime": {},
    "heading_collapsed": true,
    "hidden": true
   },
   "outputs": [],
   "source": [
    "def process_one(fpath, i=None, targ_path=None, prepend='', crop=True, pad=True, skew=True, bg=True):\n",
    "    if fpath.suffix != '.png': return\n",
    "    img = PIL.Image.open(fpath).convert('L')\n",
    "    if crop: img = crop_image(img)\n",
    "    if pad: img = pad_image(img)\n",
    "    if skew: img = skew_pixels(img)\n",
    "    if bg: img = overlay_bg(img)\n",
    "    img = poisson_noise(img, mod=1.8)\n",
    "#     img = gaussian_noise(img)\n",
    "    #img = img.resize((512,512))\n",
    "    if targ_path is None:\n",
    "        return img\n",
    "    else:\n",
    "        name = prepend + fpath.name\n",
    "        img.save(targ_path/name)"
   ]
  },
  {
   "cell_type": "code",
   "execution_count": null,
   "metadata": {
    "ExecuteTime": {},
    "heading_collapsed": true,
    "hidden": true,
    "scrolled": true
   },
   "outputs": [],
   "source": [
    "il = ImageList.from_folder(src_path)\n",
    "parallel(partial(process_one, targ_path=targ_path), il.items)"
   ]
  },
  {
   "cell_type": "markdown",
   "metadata": {
    "heading_collapsed": true
   },
   "source": [
    "## Poisson images"
   ]
  },
  {
   "cell_type": "code",
   "execution_count": null,
   "metadata": {
    "ExecuteTime": {},
    "heading_collapsed": true,
    "hidden": true
   },
   "outputs": [],
   "source": [
    "f_path = Path('data/handwriting_images')\n",
    "src_path = f_path/'poisson'\n",
    "targ_path = f_path/'v10'\n",
    "\n",
    "os.makedirs(targ_path, exist_ok=True)"
   ]
  },
  {
   "cell_type": "code",
   "execution_count": null,
   "metadata": {
    "ExecuteTime": {},
    "heading_collapsed": true,
    "hidden": true
   },
   "outputs": [],
   "source": [
    "def process_one(fpath, i=None, targ_path=None, prepend=''):\n",
    "    if fpath.suffix != '.png': return\n",
    "    img = PIL.Image.open(fpath).convert('L')\n",
    "#     img = poisson_noise(img, 2.1)\n",
    "    img = gaussian_noise(img)\n",
    "    img = overlay_bg(img)\n",
    "    #img = img.resize((512,512))\n",
    "    if targ_path is None:\n",
    "        return img\n",
    "    else:\n",
    "        name = prepend + fpath.name\n",
    "        img.save(targ_path/name)"
   ]
  },
  {
   "cell_type": "code",
   "execution_count": null,
   "metadata": {
    "ExecuteTime": {},
    "heading_collapsed": true,
    "hidden": true,
    "scrolled": true
   },
   "outputs": [],
   "source": [
    "il = ImageList.from_folder(src_path)\n",
    "parallel(partial(process_one, targ_path=targ_path, prepend='v10_'), il.items)"
   ]
  },
  {
   "cell_type": "markdown",
   "metadata": {},
   "source": [
    "# Experiments"
   ]
  },
  {
   "cell_type": "markdown",
   "metadata": {
    "heading_collapsed": true
   },
   "source": [
    "## Bounding Boxes"
   ]
  },
  {
   "cell_type": "code",
   "execution_count": null,
   "metadata": {
    "ExecuteTime": {},
    "heading_collapsed": true,
    "hidden": true
   },
   "outputs": [],
   "source": [
    "im = PATH/'uploads'/'test2.png'\n",
    "im = PIL.Image.open(im).convert('L')\n",
    "im"
   ]
  },
  {
   "cell_type": "code",
   "execution_count": null,
   "metadata": {
    "ExecuteTime": {},
    "heading_collapsed": true,
    "hidden": true
   },
   "outputs": [],
   "source": [
    "bg = PIL.Image.new(im.mode, im.size, im.getpixel((0,0)))\n",
    "diff = PIL.ImageChops.difference(im, bg)\n",
    "diff = PIL.ImageChops.add(diff, diff, 2.0, -100)"
   ]
  },
  {
   "cell_type": "code",
   "execution_count": null,
   "metadata": {
    "ExecuteTime": {},
    "heading_collapsed": true,
    "hidden": true
   },
   "outputs": [],
   "source": [
    "box = diff.getbbox()"
   ]
  },
  {
   "cell_type": "code",
   "execution_count": null,
   "metadata": {
    "ExecuteTime": {},
    "heading_collapsed": true,
    "hidden": true
   },
   "outputs": [],
   "source": [
    "box"
   ]
  },
  {
   "cell_type": "code",
   "execution_count": null,
   "metadata": {
    "ExecuteTime": {},
    "heading_collapsed": true,
    "hidden": true
   },
   "outputs": [],
   "source": [
    "crop_image(img)"
   ]
  },
  {
   "cell_type": "code",
   "execution_count": null,
   "metadata": {
    "ExecuteTime": {},
    "heading_collapsed": true,
    "hidden": true
   },
   "outputs": [],
   "source": [
    "plt.hist(im, bins=10)"
   ]
  },
  {
   "cell_type": "code",
   "execution_count": null,
   "metadata": {
    "ExecuteTime": {},
    "heading_collapsed": true,
    "hidden": true
   },
   "outputs": [],
   "source": [
    "im = np.array(im)\n",
    "\n",
    "mask = (im > im.mean()).astype(np.float)\n",
    "mask += 0.1 * im\n",
    "img = mask + 0.2*np.random.randn(*mask.shape)\n",
    "\n",
    "hist, bin_edges = np.histogram(img, bins=60)\n",
    "bin_centers = 0.5*(bin_edges[:-1] + bin_edges[1:])\n",
    "binary_img = img > 0.5"
   ]
  },
  {
   "cell_type": "code",
   "execution_count": null,
   "metadata": {
    "ExecuteTime": {},
    "heading_collapsed": true,
    "hidden": true
   },
   "outputs": [],
   "source": [
    "plt.imshow(binary_img, cmap=plt.cm.gray, interpolation='nearest')"
   ]
  },
  {
   "cell_type": "code",
   "execution_count": null,
   "metadata": {
    "ExecuteTime": {},
    "heading_collapsed": true,
    "hidden": true
   },
   "outputs": [],
   "source": [
    "plt.plot(bin_centers, hist, lw=2)"
   ]
  },
  {
   "cell_type": "markdown",
   "metadata": {
    "heading_collapsed": true
   },
   "source": [
    "## Scipy histogram segmentation"
   ]
  },
  {
   "cell_type": "code",
   "execution_count": null,
   "metadata": {
    "ExecuteTime": {},
    "heading_collapsed": true,
    "hidden": true
   },
   "outputs": [],
   "source": [
    "from scipy import ndimage"
   ]
  },
  {
   "cell_type": "code",
   "execution_count": null,
   "metadata": {
    "ExecuteTime": {},
    "heading_collapsed": true,
    "hidden": true
   },
   "outputs": [],
   "source": [
    "n = 10\n",
    "l = 256\n",
    "im = np.zeros((l, l))\n",
    "# np.random.seed(1)\n",
    "points = l*np.random.random((2, n**2))\n",
    "im[(points[0]).astype(np.int), (points[1]).astype(np.int)] = 1\n",
    "im = ndimage.gaussian_filter(im, sigma=l/(4.*n))\n",
    "\n",
    "mask = (im > im.mean()).astype(np.float)\n",
    "mask += 0.1 * im\n",
    "img = mask + 0.2*np.random.randn(*mask.shape)\n",
    "\n",
    "hist, bin_edges = np.histogram(img, bins=60)\n",
    "bin_centers = 0.5*(bin_edges[:-1] + bin_edges[1:])\n",
    "binary_img = img > 0.5"
   ]
  },
  {
   "cell_type": "code",
   "execution_count": null,
   "metadata": {
    "ExecuteTime": {},
    "heading_collapsed": true,
    "hidden": true
   },
   "outputs": [],
   "source": [
    "plt.figure(figsize=(11,4))\n",
    "\n",
    "plt.subplot(131)\n",
    "plt.imshow(img)\n",
    "plt.axis('off')\n",
    "plt.subplot(132)\n",
    "plt.plot(bin_centers, hist, lw=2)\n",
    "plt.axvline(0.5, color='r', ls='--', lw=2)\n",
    "plt.text(0.57, 0.8, 'histogram', fontsize=20, transform = plt.gca().transAxes)\n",
    "plt.yticks([])\n",
    "plt.subplot(133)\n",
    "plt.imshow(binary_img, cmap=plt.cm.gray, interpolation='nearest')\n",
    "plt.axis('off')\n",
    "\n",
    "plt.subplots_adjust(wspace=0.02, hspace=0.3, top=1, bottom=0.1, left=0, right=1)\n",
    "plt.show()"
   ]
  },
  {
   "cell_type": "markdown",
   "metadata": {
    "heading_collapsed": true
   },
   "source": [
    "## PG text analysis"
   ]
  },
  {
   "cell_type": "code",
   "execution_count": null,
   "metadata": {
    "ExecuteTime": {},
    "heading_collapsed": true,
    "hidden": true,
    "scrolled": false
   },
   "outputs": [],
   "source": [
    "im = rand_from_folder(PATH/'paragraphs')\n",
    "im"
   ]
  },
  {
   "cell_type": "code",
   "execution_count": null,
   "metadata": {
    "ExecuteTime": {},
    "heading_collapsed": true,
    "hidden": true
   },
   "outputs": [],
   "source": [
    "arr = np.array(im)"
   ]
  },
  {
   "cell_type": "code",
   "execution_count": null,
   "metadata": {
    "ExecuteTime": {},
    "heading_collapsed": true,
    "hidden": true
   },
   "outputs": [],
   "source": [
    "new_arr = arr[50:110, 170:258]"
   ]
  },
  {
   "cell_type": "code",
   "execution_count": null,
   "metadata": {
    "ExecuteTime": {},
    "heading_collapsed": true,
    "hidden": true,
    "scrolled": true
   },
   "outputs": [],
   "source": [
    "with np.printoptions(threshold=np.inf, linewidth=np.inf):   # context manager to view large array without truncation\n",
    "    print(new_arr[:,:28])"
   ]
  },
  {
   "cell_type": "code",
   "execution_count": null,
   "metadata": {
    "ExecuteTime": {},
    "heading_collapsed": true,
    "hidden": true
   },
   "outputs": [],
   "source": [
    "fig, ax = plt.subplots(figsize=(10,10))\n",
    "im = ax.imshow(new_arr, cmap='hot', interpolation='nearest')\n",
    "plt.colorbar(im)\n",
    "plt.show()"
   ]
  },
  {
   "cell_type": "code",
   "execution_count": null,
   "metadata": {
    "ExecuteTime": {},
    "heading_collapsed": true,
    "hidden": true
   },
   "outputs": [],
   "source": [
    "image_stats(im)"
   ]
  },
  {
   "cell_type": "code",
   "execution_count": null,
   "metadata": {
    "ExecuteTime": {},
    "heading_collapsed": true,
    "hidden": true
   },
   "outputs": [],
   "source": [
    "plt.hist(im.getdata(), bins=20)"
   ]
  },
  {
   "cell_type": "code",
   "execution_count": null,
   "metadata": {
    "ExecuteTime": {},
    "heading_collapsed": true,
    "hidden": true
   },
   "outputs": [],
   "source": [
    "image_stats(res)"
   ]
  },
  {
   "cell_type": "code",
   "execution_count": null,
   "metadata": {
    "ExecuteTime": {},
    "heading_collapsed": true,
    "hidden": true
   },
   "outputs": [],
   "source": [
    "plt.hist(res.getdata(), bins=20)"
   ]
  },
  {
   "cell_type": "code",
   "execution_count": null,
   "metadata": {
    "ExecuteTime": {},
    "heading_collapsed": true,
    "hidden": true
   },
   "outputs": [],
   "source": [
    "plt.hist(tim.getdata(), bins=20)"
   ]
  },
  {
   "cell_type": "markdown",
   "metadata": {
    "ExecuteTime": {
     "end_time": "2019-09-12T19:17:42.848899Z",
     "start_time": "2019-09-12T19:17:42.802948Z"
    },
    "heading_collapsed": true
   },
   "source": [
    "## Test image text analysis"
   ]
  },
  {
   "cell_type": "code",
   "execution_count": null,
   "metadata": {
    "ExecuteTime": {},
    "heading_collapsed": true,
    "hidden": true,
    "scrolled": true
   },
   "outputs": [],
   "source": [
    "tim = rand_from_folder(Path('data/fonts/adrift'))\n",
    "tim"
   ]
  },
  {
   "cell_type": "code",
   "execution_count": null,
   "metadata": {
    "ExecuteTime": {},
    "heading_collapsed": true,
    "hidden": true
   },
   "outputs": [],
   "source": [
    "tarr = np.array(tim)\n",
    "tarr"
   ]
  },
  {
   "cell_type": "code",
   "execution_count": null,
   "metadata": {
    "ExecuteTime": {},
    "heading_collapsed": true,
    "hidden": true
   },
   "outputs": [],
   "source": [
    "new_tarr = tarr[75:150, 50:78]"
   ]
  },
  {
   "cell_type": "code",
   "execution_count": null,
   "metadata": {
    "ExecuteTime": {},
    "heading_collapsed": true,
    "hidden": true,
    "scrolled": true
   },
   "outputs": [],
   "source": [
    "with np.printoptions(threshold=np.inf, linewidth=np.inf):   # context manager to view large array without truncation\n",
    "    print(new_tarr)"
   ]
  },
  {
   "cell_type": "code",
   "execution_count": null,
   "metadata": {
    "ExecuteTime": {},
    "heading_collapsed": true,
    "hidden": true
   },
   "outputs": [],
   "source": [
    "fig, ax = plt.subplots(figsize=(10,10))\n",
    "image = ax.imshow(new_tarr, cmap='hot', interpolation='nearest')\n",
    "plt.colorbar(image)\n",
    "plt.show()"
   ]
  },
  {
   "cell_type": "code",
   "execution_count": null,
   "metadata": {
    "ExecuteTime": {},
    "heading_collapsed": true,
    "hidden": true
   },
   "outputs": [],
   "source": []
  },
  {
   "cell_type": "code",
   "execution_count": null,
   "metadata": {
    "ExecuteTime": {},
    "heading_collapsed": true,
    "hidden": true
   },
   "outputs": [],
   "source": []
  },
  {
   "cell_type": "code",
   "execution_count": null,
   "metadata": {
    "ExecuteTime": {},
    "heading_collapsed": true,
    "hidden": true
   },
   "outputs": [],
   "source": [
    "enhance = PIL.ImageEnhance.Brightness(tim)\n",
    "timo = enhance.enhance(1.5)  # increase brightness\n",
    "enhance = PIL.ImageEnhance.Sharpness(timo)\n",
    "timo = enhance.enhance(0.5)  # decrease sharpness"
   ]
  },
  {
   "cell_type": "code",
   "execution_count": null,
   "metadata": {
    "ExecuteTime": {},
    "heading_collapsed": true,
    "hidden": true
   },
   "outputs": [],
   "source": [
    "bg_img = rand_from_folder(PATH/'paragraphs')\n",
    "# blur = random.randint(70,150) \n",
    "bg = bg_img.filter(PIL.ImageFilter.GaussianBlur(70))\n",
    "\n",
    "choices = [PIL.Image.FLIP_LEFT_RIGHT, PIL.Image.FLIP_TOP_BOTTOM, PIL.Image.ROTATE_90, PIL.Image.ROTATE_180, PIL.Image.ROTATE_270]\n",
    "bg.transpose(random.choice(choices))\n",
    "\n",
    "res=PIL.ImageChops.darker(timo, bg)\n",
    "res"
   ]
  },
  {
   "cell_type": "code",
   "execution_count": null,
   "metadata": {
    "ExecuteTime": {},
    "heading_collapsed": true,
    "hidden": true
   },
   "outputs": [],
   "source": [
    "# adjusted test image\n",
    "plt.hist(res.getdata(), bins=20)"
   ]
  },
  {
   "cell_type": "code",
   "execution_count": null,
   "metadata": {
    "ExecuteTime": {},
    "heading_collapsed": true,
    "hidden": true
   },
   "outputs": [],
   "source": [
    "# test image no changes\n",
    "plt.hist(tim.getdata(), bins=20)"
   ]
  },
  {
   "cell_type": "code",
   "execution_count": null,
   "metadata": {
    "ExecuteTime": {},
    "heading_collapsed": true,
    "hidden": true
   },
   "outputs": [],
   "source": [
    "# baseline dataset image\n",
    "plt.hist(im.getdata(), bins=20)"
   ]
  },
  {
   "cell_type": "markdown",
   "metadata": {
    "ExecuteTime": {
     "end_time": "2019-09-13T15:20:07.257609Z",
     "start_time": "2019-09-13T15:20:07.195989Z"
    },
    "heading_collapsed": true
   },
   "source": [
    "## Histogram matching"
   ]
  },
  {
   "cell_type": "code",
   "execution_count": null,
   "metadata": {
    "ExecuteTime": {},
    "heading_collapsed": true,
    "hidden": true
   },
   "outputs": [],
   "source": [
    "def hist_match(source, template):\n",
    "    \"\"\"\n",
    "    Adjust the pixel values of a grayscale image such that its histogram\n",
    "    matches that of a target image\n",
    "\n",
    "    Arguments:\n",
    "    -----------\n",
    "        source: np.ndarray\n",
    "            Image to transform; the histogram is computed over the flattened\n",
    "            array\n",
    "        template: np.ndarray\n",
    "            Template image; can have different dimensions to source\n",
    "    Returns:\n",
    "    -----------\n",
    "        matched: np.ndarray\n",
    "            The transformed output image\n",
    "    \"\"\"\n",
    "\n",
    "    oldshape = source.shape\n",
    "    source = source.ravel()\n",
    "    template = template.ravel()\n",
    "\n",
    "    # get the set of unique pixel values and their corresponding indices and counts\n",
    "    s_values, bin_idx, s_counts = np.unique(source, return_inverse=True,return_counts=True)\n",
    "    t_values, t_counts = np.unique(template, return_counts=True)\n",
    "\n",
    "    # take the cumsum of the counts and normalize by the number of pixels to\n",
    "    # get the empirical cumulative distribution functions for the source and\n",
    "    # template images (maps pixel value --> quantile)\n",
    "    s_quantiles = np.cumsum(s_counts).astype(np.float64)\n",
    "    s_quantiles /= s_quantiles[-1]\n",
    "    t_quantiles = np.cumsum(t_counts).astype(np.float64)\n",
    "    t_quantiles /= t_quantiles[-1]\n",
    "\n",
    "    # interpolate linearly to find the pixel values in the template image\n",
    "    # that correspond most closely to the quantiles in the source image\n",
    "    interp_t_values = np.interp(s_quantiles, t_quantiles, t_values)\n",
    "\n",
    "    return interp_t_values[bin_idx].reshape(oldshape)"
   ]
  },
  {
   "cell_type": "code",
   "execution_count": null,
   "metadata": {
    "ExecuteTime": {},
    "heading_collapsed": true,
    "hidden": true
   },
   "outputs": [],
   "source": [
    "nim = hist_match(np.array(res),np.array(im))"
   ]
  },
  {
   "cell_type": "code",
   "execution_count": null,
   "metadata": {
    "ExecuteTime": {},
    "heading_collapsed": true,
    "hidden": true
   },
   "outputs": [],
   "source": [
    "nim = PIL.Image.fromarray(nim.astype('uint8'), mode='L')\n",
    "nim"
   ]
  },
  {
   "cell_type": "code",
   "execution_count": null,
   "metadata": {
    "ExecuteTime": {},
    "heading_collapsed": true,
    "hidden": true,
    "scrolled": true
   },
   "outputs": [],
   "source": [
    "plt.hist(ntim.getdata(), bins=20)"
   ]
  },
  {
   "cell_type": "code",
   "execution_count": null,
   "metadata": {
    "ExecuteTime": {},
    "heading_collapsed": true,
    "hidden": true
   },
   "outputs": [],
   "source": [
    "plt.hist(im.getdata(), bins=20)"
   ]
  },
  {
   "cell_type": "markdown",
   "metadata": {
    "ExecuteTime": {},
    "heading_collapsed": true
   },
   "source": [
    "## creating font images via PIL"
   ]
  },
  {
   "cell_type": "code",
   "execution_count": null,
   "metadata": {
    "ExecuteTime": {},
    "heading_collapsed": true,
    "hidden": true
   },
   "outputs": [],
   "source": [
    "from PIL import Image, ImageDraw, ImageFont"
   ]
  },
  {
   "cell_type": "code",
   "execution_count": null,
   "metadata": {
    "ExecuteTime": {},
    "heading_collapsed": true,
    "hidden": true
   },
   "outputs": [],
   "source": [
    "font.getsize('i')"
   ]
  },
  {
   "cell_type": "code",
   "execution_count": null,
   "metadata": {
    "ExecuteTime": {},
    "heading_collapsed": true,
    "hidden": true
   },
   "outputs": [],
   "source": [
    "font.getsize('j')"
   ]
  },
  {
   "cell_type": "code",
   "execution_count": null,
   "metadata": {
    "ExecuteTime": {},
    "heading_collapsed": true,
    "hidden": true
   },
   "outputs": [],
   "source": [
    "font.size"
   ]
  },
  {
   "cell_type": "code",
   "execution_count": null,
   "metadata": {
    "ExecuteTime": {},
    "heading_collapsed": true,
    "hidden": true,
    "scrolled": true
   },
   "outputs": [],
   "source": [
    "bg = random.randrange(230,255)\n",
    "image = Image.new(\"L\", (700, 300), color=bg)\n",
    "font_filepath = \"./data/fonts/font_files/AguafinaScript-Regular.ttf\"  # relative to current directory\n",
    "font_size = random.randrange(30,40)\n",
    "\n",
    "draw = ImageDraw.Draw(image)\n",
    "font = ImageFont.truetype(font_filepath, font_size)\n",
    "\n",
    "xy = (10, 10)\n",
    "text = '''I shall see the face of Mars, anyhow, and that will be a rare\n",
    "experience.  It seems to me that a view of the heavenly bodies\n",
    "through a fine telescope, as well as a tour round the world, should\n",
    "form a part of a liberal education.\n",
    "152309852340923'''\n",
    "\n",
    "spacing = random.randrange(0,30)\n",
    "color = random.randrange(10,100)\n",
    "draw.text(xy, text, fill=color, font=font, spacing=spacing)\n",
    "image"
   ]
  },
  {
   "cell_type": "code",
   "execution_count": null,
   "metadata": {
    "ExecuteTime": {},
    "heading_collapsed": true,
    "hidden": true
   },
   "outputs": [],
   "source": [
    "def line_boxes(text, font, spacing, xy):\n",
    "    lines = text.split('\\n')\n",
    "    lh = font.getsize(\"A\")[1] + spacing\n",
    "    for i, line in enumerate(lines):\n",
    "        h = font.getmask(line).size[1]\n",
    "        w = font.getsize(line)[0]\n",
    "        x_off,y_off = font.getoffset(line)\n",
    "        t = i * lh + y_off + xy[1]\n",
    "        l = xy[0] + x_off\n",
    "        r = l+w\n",
    "        b = t+h\n",
    "        draw.rectangle((l, t, r, b), None, \"#f00\")\n",
    "    return image"
   ]
  },
  {
   "cell_type": "code",
   "execution_count": null,
   "metadata": {
    "ExecuteTime": {},
    "heading_collapsed": true,
    "hidden": true
   },
   "outputs": [],
   "source": [
    "line_boxes(text,font,spacing,xy)"
   ]
  },
  {
   "cell_type": "code",
   "execution_count": null,
   "metadata": {
    "ExecuteTime": {},
    "heading_collapsed": true,
    "hidden": true
   },
   "outputs": [],
   "source": [
    "text_path = Path('data/fonts/texts/imdb_iam_wiki103.txt')\n",
    "\n",
    "with open(text_path) as file:  \n",
    "    text = file.read()\n",
    "\n",
    "text = re.sub(r'[^\\x00-\\x7F]+','', text)\n",
    "\n",
    "with open(str(text_path), \"w\") as text_file:\n",
    "    print(text, file=text_file)"
   ]
  },
  {
   "cell_type": "code",
   "execution_count": null,
   "metadata": {
    "ExecuteTime": {},
    "heading_collapsed": true,
    "hidden": true
   },
   "outputs": [],
   "source": [
    "image.save()"
   ]
  },
  {
   "cell_type": "code",
   "execution_count": null,
   "metadata": {
    "ExecuteTime": {},
    "heading_collapsed": true,
    "hidden": true
   },
   "outputs": [],
   "source": []
  }
 ],
 "metadata": {
  "kernelspec": {
   "display_name": "Python 3",
   "language": "python",
   "name": "python3"
  },
  "language_info": {
   "codemirror_mode": {
    "name": "ipython",
    "version": 3
   },
   "file_extension": ".py",
   "mimetype": "text/x-python",
   "name": "python",
   "nbconvert_exporter": "python",
   "pygments_lexer": "ipython3",
   "version": "3.7.3"
  },
  "toc": {
   "nav_menu": {},
   "number_sections": true,
   "sideBar": true,
   "skip_h1_title": false,
   "title_cell": "Table of Contents",
   "title_sidebar": "Contents",
   "toc_cell": false,
   "toc_position": {},
   "toc_section_display": true,
   "toc_window_display": false
  },
  "varInspector": {
   "cols": {
    "lenName": 16,
    "lenType": 16,
    "lenVar": 40
   },
   "kernels_config": {
    "python": {
     "delete_cmd_postfix": "",
     "delete_cmd_prefix": "del ",
     "library": "var_list.py",
     "varRefreshCmd": "print(var_dic_list())"
    },
    "r": {
     "delete_cmd_postfix": ") ",
     "delete_cmd_prefix": "rm(",
     "library": "var_list.r",
     "varRefreshCmd": "cat(var_dic_list()) "
    }
   },
   "types_to_exclude": [
    "module",
    "function",
    "builtin_function_or_method",
    "instance",
    "_Feature"
   ],
   "window_display": false
  }
 },
 "nbformat": 4,
 "nbformat_minor": 2
}
