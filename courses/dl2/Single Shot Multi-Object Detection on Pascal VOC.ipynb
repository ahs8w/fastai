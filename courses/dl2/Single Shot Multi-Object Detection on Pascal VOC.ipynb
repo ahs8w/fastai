{
 "cells": [
  {
   "cell_type": "code",
   "execution_count": 1,
   "metadata": {
    "ExecuteTime": {
     "end_time": "2018-05-29T15:17:07.691808Z",
     "start_time": "2018-05-29T15:17:07.216262Z"
    },
    "collapsed": true
   },
   "outputs": [],
   "source": [
    "%matplotlib inline\n",
    "%reload_ext autoreload\n",
    "%autoreload 2"
   ]
  },
  {
   "cell_type": "code",
   "execution_count": 2,
   "metadata": {
    "ExecuteTime": {
     "end_time": "2018-05-29T15:17:25.739288Z",
     "start_time": "2018-05-29T15:17:23.015116Z"
    },
    "collapsed": true
   },
   "outputs": [],
   "source": [
    "from fastai.conv_learner import *\n",
    "from fastai.dataset import *\n",
    "\n",
    "import json, pdb\n",
    "from PIL import ImageDraw, ImageFont\n",
    "from matplotlib import patches, patheffects"
   ]
  },
  {
   "cell_type": "code",
   "execution_count": 107,
   "metadata": {
    "ExecuteTime": {
     "end_time": "2018-05-29T17:59:07.224895Z",
     "start_time": "2018-05-29T17:59:07.175294Z"
    },
    "collapsed": true
   },
   "outputs": [],
   "source": [
    "PATH = Path('data/pascal')\n",
    "JPEGS = 'VOCdevkit/VOC2007/JPEGImages'"
   ]
  },
  {
   "cell_type": "code",
   "execution_count": 5,
   "metadata": {
    "ExecuteTime": {
     "end_time": "2018-05-29T15:20:14.783392Z",
     "start_time": "2018-05-29T15:20:14.696549Z"
    }
   },
   "outputs": [
    {
     "data": {
      "text/plain": [
       "dict_keys(['images', 'type', 'annotations', 'categories'])"
      ]
     },
     "execution_count": 5,
     "metadata": {},
     "output_type": "execute_result"
    }
   ],
   "source": [
    "trn_j = json.load((PATH/'pascal_train2007.json').open())\n",
    "trn_j.keys()"
   ]
  },
  {
   "cell_type": "code",
   "execution_count": 11,
   "metadata": {
    "ExecuteTime": {
     "end_time": "2018-05-29T15:26:57.157783Z",
     "start_time": "2018-05-29T15:26:57.101930Z"
    }
   },
   "outputs": [],
   "source": [
    "annotations = pd.DataFrame(trn_j['annotations'])\n",
    "images = pd.DataFrame(trn_j['images'])\n",
    "categories = pd.DataFrame(trn_j['categories'])"
   ]
  },
  {
   "cell_type": "code",
   "execution_count": null,
   "metadata": {
    "collapsed": true
   },
   "outputs": [],
   "source": [
    "# {image_id: [(box coordinates, category_id),()]}"
   ]
  },
  {
   "cell_type": "code",
   "execution_count": 12,
   "metadata": {
    "ExecuteTime": {
     "end_time": "2018-05-29T15:27:05.118978Z",
     "start_time": "2018-05-29T15:27:05.060153Z"
    }
   },
   "outputs": [
    {
     "data": {
      "text/html": [
       "<div>\n",
       "<style>\n",
       "    .dataframe thead tr:only-child th {\n",
       "        text-align: right;\n",
       "    }\n",
       "\n",
       "    .dataframe thead th {\n",
       "        text-align: left;\n",
       "    }\n",
       "\n",
       "    .dataframe tbody tr th {\n",
       "        vertical-align: top;\n",
       "    }\n",
       "</style>\n",
       "<table border=\"1\" class=\"dataframe\">\n",
       "  <thead>\n",
       "    <tr style=\"text-align: right;\">\n",
       "      <th></th>\n",
       "      <th>area</th>\n",
       "      <th>bbox</th>\n",
       "      <th>category_id</th>\n",
       "      <th>id</th>\n",
       "      <th>ignore</th>\n",
       "      <th>image_id</th>\n",
       "      <th>iscrowd</th>\n",
       "      <th>segmentation</th>\n",
       "    </tr>\n",
       "  </thead>\n",
       "  <tbody>\n",
       "    <tr>\n",
       "      <th>0</th>\n",
       "      <td>34104</td>\n",
       "      <td>[155, 96, 196, 174]</td>\n",
       "      <td>7</td>\n",
       "      <td>1</td>\n",
       "      <td>0</td>\n",
       "      <td>12</td>\n",
       "      <td>0</td>\n",
       "      <td>[[155, 96, 155, 270, 351, 270, 351, 96]]</td>\n",
       "    </tr>\n",
       "    <tr>\n",
       "      <th>1</th>\n",
       "      <td>13110</td>\n",
       "      <td>[184, 61, 95, 138]</td>\n",
       "      <td>15</td>\n",
       "      <td>2</td>\n",
       "      <td>0</td>\n",
       "      <td>17</td>\n",
       "      <td>0</td>\n",
       "      <td>[[184, 61, 184, 199, 279, 199, 279, 61]]</td>\n",
       "    </tr>\n",
       "    <tr>\n",
       "      <th>2</th>\n",
       "      <td>81326</td>\n",
       "      <td>[89, 77, 314, 259]</td>\n",
       "      <td>13</td>\n",
       "      <td>3</td>\n",
       "      <td>0</td>\n",
       "      <td>17</td>\n",
       "      <td>0</td>\n",
       "      <td>[[89, 77, 89, 336, 403, 336, 403, 77]]</td>\n",
       "    </tr>\n",
       "    <tr>\n",
       "      <th>3</th>\n",
       "      <td>64227</td>\n",
       "      <td>[8, 229, 237, 271]</td>\n",
       "      <td>2</td>\n",
       "      <td>4</td>\n",
       "      <td>0</td>\n",
       "      <td>23</td>\n",
       "      <td>0</td>\n",
       "      <td>[[8, 229, 8, 500, 245, 500, 245, 229]]</td>\n",
       "    </tr>\n",
       "    <tr>\n",
       "      <th>4</th>\n",
       "      <td>29505</td>\n",
       "      <td>[229, 219, 105, 281]</td>\n",
       "      <td>2</td>\n",
       "      <td>5</td>\n",
       "      <td>0</td>\n",
       "      <td>23</td>\n",
       "      <td>0</td>\n",
       "      <td>[[229, 219, 229, 500, 334, 500, 334, 219]]</td>\n",
       "    </tr>\n",
       "  </tbody>\n",
       "</table>\n",
       "</div>"
      ],
      "text/plain": [
       "    area                  bbox  category_id  id  ignore  image_id  iscrowd  \\\n",
       "0  34104   [155, 96, 196, 174]            7   1       0        12        0   \n",
       "1  13110    [184, 61, 95, 138]           15   2       0        17        0   \n",
       "2  81326    [89, 77, 314, 259]           13   3       0        17        0   \n",
       "3  64227    [8, 229, 237, 271]            2   4       0        23        0   \n",
       "4  29505  [229, 219, 105, 281]            2   5       0        23        0   \n",
       "\n",
       "                                 segmentation  \n",
       "0    [[155, 96, 155, 270, 351, 270, 351, 96]]  \n",
       "1    [[184, 61, 184, 199, 279, 199, 279, 61]]  \n",
       "2      [[89, 77, 89, 336, 403, 336, 403, 77]]  \n",
       "3      [[8, 229, 8, 500, 245, 500, 245, 229]]  \n",
       "4  [[229, 219, 229, 500, 334, 500, 334, 219]]  "
      ]
     },
     "execution_count": 12,
     "metadata": {},
     "output_type": "execute_result"
    }
   ],
   "source": [
    "annotations.head()"
   ]
  },
  {
   "cell_type": "code",
   "execution_count": 13,
   "metadata": {
    "ExecuteTime": {
     "end_time": "2018-05-29T15:27:12.006326Z",
     "start_time": "2018-05-29T15:27:11.955852Z"
    }
   },
   "outputs": [
    {
     "data": {
      "text/html": [
       "<div>\n",
       "<style>\n",
       "    .dataframe thead tr:only-child th {\n",
       "        text-align: right;\n",
       "    }\n",
       "\n",
       "    .dataframe thead th {\n",
       "        text-align: left;\n",
       "    }\n",
       "\n",
       "    .dataframe tbody tr th {\n",
       "        vertical-align: top;\n",
       "    }\n",
       "</style>\n",
       "<table border=\"1\" class=\"dataframe\">\n",
       "  <thead>\n",
       "    <tr style=\"text-align: right;\">\n",
       "      <th></th>\n",
       "      <th>file_name</th>\n",
       "      <th>height</th>\n",
       "      <th>id</th>\n",
       "      <th>width</th>\n",
       "    </tr>\n",
       "  </thead>\n",
       "  <tbody>\n",
       "    <tr>\n",
       "      <th>0</th>\n",
       "      <td>000012.jpg</td>\n",
       "      <td>333</td>\n",
       "      <td>12</td>\n",
       "      <td>500</td>\n",
       "    </tr>\n",
       "    <tr>\n",
       "      <th>1</th>\n",
       "      <td>000017.jpg</td>\n",
       "      <td>364</td>\n",
       "      <td>17</td>\n",
       "      <td>480</td>\n",
       "    </tr>\n",
       "    <tr>\n",
       "      <th>2</th>\n",
       "      <td>000023.jpg</td>\n",
       "      <td>500</td>\n",
       "      <td>23</td>\n",
       "      <td>334</td>\n",
       "    </tr>\n",
       "    <tr>\n",
       "      <th>3</th>\n",
       "      <td>000026.jpg</td>\n",
       "      <td>333</td>\n",
       "      <td>26</td>\n",
       "      <td>500</td>\n",
       "    </tr>\n",
       "    <tr>\n",
       "      <th>4</th>\n",
       "      <td>000032.jpg</td>\n",
       "      <td>281</td>\n",
       "      <td>32</td>\n",
       "      <td>500</td>\n",
       "    </tr>\n",
       "  </tbody>\n",
       "</table>\n",
       "</div>"
      ],
      "text/plain": [
       "    file_name  height  id  width\n",
       "0  000012.jpg     333  12    500\n",
       "1  000017.jpg     364  17    480\n",
       "2  000023.jpg     500  23    334\n",
       "3  000026.jpg     333  26    500\n",
       "4  000032.jpg     281  32    500"
      ]
     },
     "execution_count": 13,
     "metadata": {},
     "output_type": "execute_result"
    }
   ],
   "source": [
    "images.head()"
   ]
  },
  {
   "cell_type": "code",
   "execution_count": 14,
   "metadata": {
    "ExecuteTime": {
     "end_time": "2018-05-29T15:27:21.463588Z",
     "start_time": "2018-05-29T15:27:21.410505Z"
    }
   },
   "outputs": [
    {
     "data": {
      "text/html": [
       "<div>\n",
       "<style>\n",
       "    .dataframe thead tr:only-child th {\n",
       "        text-align: right;\n",
       "    }\n",
       "\n",
       "    .dataframe thead th {\n",
       "        text-align: left;\n",
       "    }\n",
       "\n",
       "    .dataframe tbody tr th {\n",
       "        vertical-align: top;\n",
       "    }\n",
       "</style>\n",
       "<table border=\"1\" class=\"dataframe\">\n",
       "  <thead>\n",
       "    <tr style=\"text-align: right;\">\n",
       "      <th></th>\n",
       "      <th>id</th>\n",
       "      <th>name</th>\n",
       "      <th>supercategory</th>\n",
       "    </tr>\n",
       "  </thead>\n",
       "  <tbody>\n",
       "    <tr>\n",
       "      <th>0</th>\n",
       "      <td>1</td>\n",
       "      <td>aeroplane</td>\n",
       "      <td>none</td>\n",
       "    </tr>\n",
       "    <tr>\n",
       "      <th>1</th>\n",
       "      <td>2</td>\n",
       "      <td>bicycle</td>\n",
       "      <td>none</td>\n",
       "    </tr>\n",
       "    <tr>\n",
       "      <th>2</th>\n",
       "      <td>3</td>\n",
       "      <td>bird</td>\n",
       "      <td>none</td>\n",
       "    </tr>\n",
       "    <tr>\n",
       "      <th>3</th>\n",
       "      <td>4</td>\n",
       "      <td>boat</td>\n",
       "      <td>none</td>\n",
       "    </tr>\n",
       "    <tr>\n",
       "      <th>4</th>\n",
       "      <td>5</td>\n",
       "      <td>bottle</td>\n",
       "      <td>none</td>\n",
       "    </tr>\n",
       "  </tbody>\n",
       "</table>\n",
       "</div>"
      ],
      "text/plain": [
       "   id       name supercategory\n",
       "0   1  aeroplane          none\n",
       "1   2    bicycle          none\n",
       "2   3       bird          none\n",
       "3   4       boat          none\n",
       "4   5     bottle          none"
      ]
     },
     "execution_count": 14,
     "metadata": {},
     "output_type": "execute_result"
    }
   ],
   "source": [
    "categories.head()"
   ]
  },
  {
   "cell_type": "code",
   "execution_count": 16,
   "metadata": {
    "ExecuteTime": {
     "end_time": "2018-05-29T15:35:40.680680Z",
     "start_time": "2018-05-29T15:35:40.607812Z"
    }
   },
   "outputs": [
    {
     "data": {
      "text/html": [
       "<div>\n",
       "<style>\n",
       "    .dataframe thead tr:only-child th {\n",
       "        text-align: right;\n",
       "    }\n",
       "\n",
       "    .dataframe thead th {\n",
       "        text-align: left;\n",
       "    }\n",
       "\n",
       "    .dataframe tbody tr th {\n",
       "        vertical-align: top;\n",
       "    }\n",
       "</style>\n",
       "<table border=\"1\" class=\"dataframe\">\n",
       "  <thead>\n",
       "    <tr style=\"text-align: right;\">\n",
       "      <th></th>\n",
       "      <th>area</th>\n",
       "      <th>bbox</th>\n",
       "      <th>category_id</th>\n",
       "      <th>id_x</th>\n",
       "      <th>ignore</th>\n",
       "      <th>image_id</th>\n",
       "      <th>iscrowd</th>\n",
       "      <th>segmentation</th>\n",
       "      <th>file_name</th>\n",
       "      <th>height</th>\n",
       "      <th>id_y</th>\n",
       "      <th>width</th>\n",
       "      <th>id</th>\n",
       "      <th>name</th>\n",
       "      <th>supercategory</th>\n",
       "    </tr>\n",
       "  </thead>\n",
       "  <tbody>\n",
       "    <tr>\n",
       "      <th>0</th>\n",
       "      <td>34104</td>\n",
       "      <td>[155, 96, 196, 174]</td>\n",
       "      <td>7</td>\n",
       "      <td>1</td>\n",
       "      <td>0</td>\n",
       "      <td>12</td>\n",
       "      <td>0</td>\n",
       "      <td>[[155, 96, 155, 270, 351, 270, 351, 96]]</td>\n",
       "      <td>000012.jpg</td>\n",
       "      <td>333</td>\n",
       "      <td>12</td>\n",
       "      <td>500</td>\n",
       "      <td>7</td>\n",
       "      <td>car</td>\n",
       "      <td>none</td>\n",
       "    </tr>\n",
       "    <tr>\n",
       "      <th>1</th>\n",
       "      <td>13110</td>\n",
       "      <td>[184, 61, 95, 138]</td>\n",
       "      <td>15</td>\n",
       "      <td>2</td>\n",
       "      <td>0</td>\n",
       "      <td>17</td>\n",
       "      <td>0</td>\n",
       "      <td>[[184, 61, 184, 199, 279, 199, 279, 61]]</td>\n",
       "      <td>000017.jpg</td>\n",
       "      <td>364</td>\n",
       "      <td>17</td>\n",
       "      <td>480</td>\n",
       "      <td>15</td>\n",
       "      <td>person</td>\n",
       "      <td>none</td>\n",
       "    </tr>\n",
       "    <tr>\n",
       "      <th>2</th>\n",
       "      <td>81326</td>\n",
       "      <td>[89, 77, 314, 259]</td>\n",
       "      <td>13</td>\n",
       "      <td>3</td>\n",
       "      <td>0</td>\n",
       "      <td>17</td>\n",
       "      <td>0</td>\n",
       "      <td>[[89, 77, 89, 336, 403, 336, 403, 77]]</td>\n",
       "      <td>000017.jpg</td>\n",
       "      <td>364</td>\n",
       "      <td>17</td>\n",
       "      <td>480</td>\n",
       "      <td>13</td>\n",
       "      <td>horse</td>\n",
       "      <td>none</td>\n",
       "    </tr>\n",
       "    <tr>\n",
       "      <th>3</th>\n",
       "      <td>64227</td>\n",
       "      <td>[8, 229, 237, 271]</td>\n",
       "      <td>2</td>\n",
       "      <td>4</td>\n",
       "      <td>0</td>\n",
       "      <td>23</td>\n",
       "      <td>0</td>\n",
       "      <td>[[8, 229, 8, 500, 245, 500, 245, 229]]</td>\n",
       "      <td>000023.jpg</td>\n",
       "      <td>500</td>\n",
       "      <td>23</td>\n",
       "      <td>334</td>\n",
       "      <td>2</td>\n",
       "      <td>bicycle</td>\n",
       "      <td>none</td>\n",
       "    </tr>\n",
       "    <tr>\n",
       "      <th>4</th>\n",
       "      <td>29505</td>\n",
       "      <td>[229, 219, 105, 281]</td>\n",
       "      <td>2</td>\n",
       "      <td>5</td>\n",
       "      <td>0</td>\n",
       "      <td>23</td>\n",
       "      <td>0</td>\n",
       "      <td>[[229, 219, 229, 500, 334, 500, 334, 219]]</td>\n",
       "      <td>000023.jpg</td>\n",
       "      <td>500</td>\n",
       "      <td>23</td>\n",
       "      <td>334</td>\n",
       "      <td>2</td>\n",
       "      <td>bicycle</td>\n",
       "      <td>none</td>\n",
       "    </tr>\n",
       "  </tbody>\n",
       "</table>\n",
       "</div>"
      ],
      "text/plain": [
       "    area                  bbox  category_id  id_x  ignore  image_id  iscrowd  \\\n",
       "0  34104   [155, 96, 196, 174]            7     1       0        12        0   \n",
       "1  13110    [184, 61, 95, 138]           15     2       0        17        0   \n",
       "2  81326    [89, 77, 314, 259]           13     3       0        17        0   \n",
       "3  64227    [8, 229, 237, 271]            2     4       0        23        0   \n",
       "4  29505  [229, 219, 105, 281]            2     5       0        23        0   \n",
       "\n",
       "                                 segmentation   file_name  height  id_y  \\\n",
       "0    [[155, 96, 155, 270, 351, 270, 351, 96]]  000012.jpg     333    12   \n",
       "1    [[184, 61, 184, 199, 279, 199, 279, 61]]  000017.jpg     364    17   \n",
       "2      [[89, 77, 89, 336, 403, 336, 403, 77]]  000017.jpg     364    17   \n",
       "3      [[8, 229, 8, 500, 245, 500, 245, 229]]  000023.jpg     500    23   \n",
       "4  [[229, 219, 229, 500, 334, 500, 334, 219]]  000023.jpg     500    23   \n",
       "\n",
       "   width  id     name supercategory  \n",
       "0    500   7      car          none  \n",
       "1    480  15   person          none  \n",
       "2    480  13    horse          none  \n",
       "3    334   2  bicycle          none  \n",
       "4    334   2  bicycle          none  "
      ]
     },
     "execution_count": 16,
     "metadata": {},
     "output_type": "execute_result"
    }
   ],
   "source": [
    "data = (annotations\n",
    "        .merge(images, how='left', left_on='image_id', right_on='id')\n",
    "        .merge(categories, how='left', left_on='category_id', right_on='id'))\n",
    "data.head()"
   ]
  },
  {
   "cell_type": "code",
   "execution_count": 52,
   "metadata": {
    "ExecuteTime": {
     "end_time": "2018-05-29T16:54:01.485095Z",
     "start_time": "2018-05-29T16:54:01.433301Z"
    }
   },
   "outputs": [
    {
     "data": {
      "text/plain": [
       "6301"
      ]
     },
     "execution_count": 52,
     "metadata": {},
     "output_type": "execute_result"
    }
   ],
   "source": [
    "# remove any ignore\n",
    "# len(data) = 7844\n",
    "data = data[data.ignore != 1]\n",
    "len(data)"
   ]
  },
  {
   "cell_type": "code",
   "execution_count": 21,
   "metadata": {
    "ExecuteTime": {
     "end_time": "2018-05-29T15:43:25.645915Z",
     "start_time": "2018-05-29T15:43:25.589744Z"
    }
   },
   "outputs": [
    {
     "data": {
      "text/html": [
       "<div>\n",
       "<style>\n",
       "    .dataframe thead tr:only-child th {\n",
       "        text-align: right;\n",
       "    }\n",
       "\n",
       "    .dataframe thead th {\n",
       "        text-align: left;\n",
       "    }\n",
       "\n",
       "    .dataframe tbody tr th {\n",
       "        vertical-align: top;\n",
       "    }\n",
       "</style>\n",
       "<table border=\"1\" class=\"dataframe\">\n",
       "  <thead>\n",
       "    <tr style=\"text-align: right;\">\n",
       "      <th></th>\n",
       "      <th>file_name</th>\n",
       "      <th>area</th>\n",
       "      <th>bbox</th>\n",
       "      <th>image_id</th>\n",
       "      <th>name</th>\n",
       "    </tr>\n",
       "  </thead>\n",
       "  <tbody>\n",
       "    <tr>\n",
       "      <th>0</th>\n",
       "      <td>000012.jpg</td>\n",
       "      <td>34104</td>\n",
       "      <td>[155, 96, 196, 174]</td>\n",
       "      <td>12</td>\n",
       "      <td>car</td>\n",
       "    </tr>\n",
       "    <tr>\n",
       "      <th>1</th>\n",
       "      <td>000017.jpg</td>\n",
       "      <td>81326</td>\n",
       "      <td>[89, 77, 314, 259]</td>\n",
       "      <td>17</td>\n",
       "      <td>horse</td>\n",
       "    </tr>\n",
       "    <tr>\n",
       "      <th>2</th>\n",
       "      <td>000023.jpg</td>\n",
       "      <td>111101</td>\n",
       "      <td>[2, 1, 241, 461]</td>\n",
       "      <td>23</td>\n",
       "      <td>person</td>\n",
       "    </tr>\n",
       "    <tr>\n",
       "      <th>3</th>\n",
       "      <td>000026.jpg</td>\n",
       "      <td>21824</td>\n",
       "      <td>[89, 124, 248, 88]</td>\n",
       "      <td>26</td>\n",
       "      <td>car</td>\n",
       "    </tr>\n",
       "    <tr>\n",
       "      <th>4</th>\n",
       "      <td>000032.jpg</td>\n",
       "      <td>28832</td>\n",
       "      <td>[103, 77, 272, 106]</td>\n",
       "      <td>32</td>\n",
       "      <td>aeroplane</td>\n",
       "    </tr>\n",
       "  </tbody>\n",
       "</table>\n",
       "</div>"
      ],
      "text/plain": [
       "    file_name    area                 bbox  image_id       name\n",
       "0  000012.jpg   34104  [155, 96, 196, 174]        12        car\n",
       "1  000017.jpg   81326   [89, 77, 314, 259]        17      horse\n",
       "2  000023.jpg  111101     [2, 1, 241, 461]        23     person\n",
       "3  000026.jpg   21824   [89, 124, 248, 88]        26        car\n",
       "4  000032.jpg   28832  [103, 77, 272, 106]        32  aeroplane"
      ]
     },
     "execution_count": 21,
     "metadata": {},
     "output_type": "execute_result"
    }
   ],
   "source": [
    "# example of how to create the largest bounding box table from previous lesson\n",
    "\n",
    "# largest_bbox = data.pivot_table(index='file_name', aggfunc='max', values='area').reset_index()\n",
    "# largest_bbox = largest_bbox.merge(data[['area', 'bbox', 'image_id', 'file_name', 'name']], how='left')\n",
    "# largest_bbox.head()"
   ]
  },
  {
   "cell_type": "code",
   "execution_count": 99,
   "metadata": {
    "ExecuteTime": {
     "end_time": "2018-05-29T17:52:54.424402Z",
     "start_time": "2018-05-29T17:52:54.347984Z"
    },
    "collapsed": true
   },
   "outputs": [],
   "source": [
    "def show_img(im, figsize=None, ax=None):\n",
    "    if not ax: fig,ax = plt.subplots(figsize=figsize)\n",
    "    ax.imshow(im)\n",
    "    ax.set_xticks(np.linspace(0, 224, 8))\n",
    "    ax.set_yticks(np.linspace(0, 224, 8))\n",
    "    ax.grid()\n",
    "    ax.set_yticklabels([])\n",
    "    ax.set_xticklabels([])\n",
    "    return ax\n",
    "\n",
    "def draw_outline(o, lw):\n",
    "    o.set_path_effects([patheffects.Stroke(\n",
    "        linewidth=lw, foreground='black'), patheffects.Normal()])\n",
    "\n",
    "def draw_rect(ax, b, color='white'):\n",
    "    patch = ax.add_patch(patches.Rectangle(b[:2], *b[-2:], fill=False, edgecolor=color, lw=2))\n",
    "    draw_outline(patch, 4)\n",
    "\n",
    "def draw_text(ax, xy, txt, sz=14, color='white'):\n",
    "    text = ax.text(*xy, txt,\n",
    "        verticalalignment='top', color=color, fontsize=sz, weight='bold')\n",
    "    draw_outline(text, 1)"
   ]
  },
  {
   "cell_type": "code",
   "execution_count": 100,
   "metadata": {
    "ExecuteTime": {
     "end_time": "2018-05-29T17:53:08.251326Z",
     "start_time": "2018-05-29T17:53:08.195481Z"
    },
    "collapsed": true
   },
   "outputs": [],
   "source": [
    "def draw_im(im, ann):\n",
    "    ax = show_img(im, figsize=(16,8))\n",
    "    for b,c in ann:\n",
    "        b = bb_hw(b)\n",
    "        draw_rect(ax, b)\n",
    "        draw_text(ax, b[:2], cats[c], sz=16)\n",
    "\n",
    "def draw_idx(i):\n",
    "    im_a = trn_anno[i]\n",
    "    im = open_image(IMG_PATH/trn_fns[i])\n",
    "    draw_im(im, im_a)"
   ]
  },
  {
   "cell_type": "markdown",
   "metadata": {},
   "source": [
    "# Multi-label only"
   ]
  },
  {
   "cell_type": "code",
   "execution_count": 95,
   "metadata": {
    "ExecuteTime": {
     "end_time": "2018-05-29T17:51:27.830639Z",
     "start_time": "2018-05-29T17:51:27.780790Z"
    },
    "collapsed": true
   },
   "outputs": [],
   "source": [
    "df = images[['file_name']].copy()"
   ]
  },
  {
   "cell_type": "code",
   "execution_count": 96,
   "metadata": {
    "ExecuteTime": {
     "end_time": "2018-05-29T17:51:29.992107Z",
     "start_time": "2018-05-29T17:51:29.943645Z"
    },
    "collapsed": true
   },
   "outputs": [],
   "source": [
    "def bb_hw_pandas(x):\n",
    "    return [x[1], x[0], x[1]+x[3]-1, x[0]+x[2]-1]"
   ]
  },
  {
   "cell_type": "code",
   "execution_count": 97,
   "metadata": {
    "ExecuteTime": {
     "end_time": "2018-05-29T17:51:34.878508Z",
     "start_time": "2018-05-29T17:51:32.063894Z"
    }
   },
   "outputs": [],
   "source": [
    "orig_boxes = []\n",
    "diff_boxes = []\n",
    "cats = []\n",
    "for idx,r in df.iterrows():\n",
    "    anno_rows = data.loc[data.file_name == r.file_name]\n",
    "    boxes = anno_rows['bbox'].values.tolist()\n",
    "    orig_boxes.append(boxes)\n",
    "    diff_boxes.append([bb_hw_pandas(x) for x in boxes])\n",
    "    cats.append(anno_rows['name'].values.tolist())\n",
    "df['hw_boxes'] = orig_boxes\n",
    "df['b_boxes'] = diff_boxes\n",
    "df['cats'] = cats"
   ]
  },
  {
   "cell_type": "code",
   "execution_count": 101,
   "metadata": {
    "ExecuteTime": {
     "end_time": "2018-05-29T17:53:58.487185Z",
     "start_time": "2018-05-29T17:53:58.442137Z"
    },
    "collapsed": true
   },
   "outputs": [],
   "source": [
    "multi_label_csv = PATH/'tmp/multi_label.csv'"
   ]
  },
  {
   "cell_type": "code",
   "execution_count": 104,
   "metadata": {
    "ExecuteTime": {
     "end_time": "2018-05-29T17:56:04.718022Z",
     "start_time": "2018-05-29T17:56:04.662338Z"
    },
    "collapsed": true
   },
   "outputs": [],
   "source": [
    "df.to_csv(multi_label_csv, columns=['file_name', 'cats'], index=False)"
   ]
  },
  {
   "cell_type": "code",
   "execution_count": 106,
   "metadata": {
    "ExecuteTime": {
     "end_time": "2018-05-29T17:56:44.337006Z",
     "start_time": "2018-05-29T17:56:44.291880Z"
    },
    "collapsed": true
   },
   "outputs": [],
   "source": [
    "f_model = resnet34\n",
    "sz = 224\n",
    "bs = 64"
   ]
  },
  {
   "cell_type": "code",
   "execution_count": 108,
   "metadata": {
    "ExecuteTime": {
     "end_time": "2018-05-29T18:00:27.997626Z",
     "start_time": "2018-05-29T18:00:27.148640Z"
    }
   },
   "outputs": [
    {
     "name": "stderr",
     "output_type": "stream",
     "text": [
      "/Users/adamschiller/Projects/DeepLearning/fastai/courses/dl2/fastai/initializers.py:6: UserWarning: nn.init.kaiming_normal is now deprecated in favor of nn.init.kaiming_normal_.\n",
      "  if hasattr(m, 'weight'): init_fn(m.weight)\n"
     ]
    }
   ],
   "source": [
    "tfms = tfms_from_model(f_model, sz, crop_type=CropType.NO)\n",
    "md = ImageClassifierData.from_csv(PATH, JPEGS, multi_label_csv, tfms=tfms, bs=bs)\n",
    "learn = ConvLearner.pretrained(f_model, md)\n",
    "learn.opt_fn = optim.Adam"
   ]
  },
  {
   "cell_type": "code",
   "execution_count": 109,
   "metadata": {
    "ExecuteTime": {
     "end_time": "2018-05-29T18:05:45.428941Z",
     "start_time": "2018-05-29T18:00:34.691891Z"
    }
   },
   "outputs": [
    {
     "data": {
      "application/vnd.jupyter.widget-view+json": {
       "model_id": "a4deaa5c6d104b85a671295e7d522e11",
       "version_major": 2,
       "version_minor": 0
      },
      "text/plain": [
       "A Jupyter Widget"
      ]
     },
     "metadata": {},
     "output_type": "display_data"
    },
    {
     "name": "stdout",
     "output_type": "stream",
     "text": [
      "epoch      trn_loss   val_loss   <lambda>                  \n",
      "    0      0.859734   2.962457   0.892475  \n",
      "\n"
     ]
    }
   ],
   "source": [
    "learn.lr_find()"
   ]
  },
  {
   "cell_type": "code",
   "execution_count": 112,
   "metadata": {
    "ExecuteTime": {
     "end_time": "2018-05-29T18:06:19.907999Z",
     "start_time": "2018-05-29T18:06:19.613850Z"
    }
   },
   "outputs": [
    {
     "data": {
      "image/png": "[encoded data removed]",
      "text/plain": [
       "<matplotlib.figure.Figure at 0x1276e8c18>"
      ]
     },
     "metadata": {},
     "output_type": "display_data"
    }
   ],
   "source": [
    "learn.sched.plot(n_skip_end=2)"
   ]
  },
  {
   "cell_type": "code",
   "execution_count": 117,
   "metadata": {
    "ExecuteTime": {
     "end_time": "2018-05-29T18:08:57.164992Z",
     "start_time": "2018-05-29T18:08:57.118059Z"
    }
   },
   "outputs": [],
   "source": [
    "lr = 8e-2"
   ]
  },
  {
   "cell_type": "code",
   "execution_count": 114,
   "metadata": {
    "ExecuteTime": {
     "end_time": "2018-05-29T18:07:03.890509Z",
     "start_time": "2018-05-29T18:07:03.844155Z"
    }
   },
   "outputs": [
    {
     "data": {
      "text/plain": [
       "0.3"
      ]
     },
     "execution_count": 114,
     "metadata": {},
     "output_type": "execute_result"
    }
   ],
   "source": [
    "learn.fit(lr, 1, cycle_len=3, use_clr=(32,5))"
   ]
  },
  {
   "cell_type": "code",
   "execution_count": null,
   "metadata": {
    "collapsed": true
   },
   "outputs": [],
   "source": [
    "learn.freeze_to(-2)"
   ]
  },
  {
   "cell_type": "code",
   "execution_count": null,
   "metadata": {
    "collapsed": true
   },
   "outputs": [],
   "source": [
    "learn.lr_find(lrs/1000)\n",
    "learn.sched.plot(0)"
   ]
  },
  {
   "cell_type": "code",
   "execution_count": null,
   "metadata": {
    "collapsed": true
   },
   "outputs": [],
   "source": [
    "learn.fit(lrs/10, 1, cycle_len=5, use_clr=(32,5))"
   ]
  },
  {
   "cell_type": "code",
   "execution_count": null,
   "metadata": {
    "collapsed": true
   },
   "outputs": [],
   "source": [
    "learn.save('multi-label')"
   ]
  },
  {
   "cell_type": "code",
   "execution_count": null,
   "metadata": {
    "collapsed": true
   },
   "outputs": [],
   "source": [
    "y = learn.predict()\n",
    "x,_ = next(iter(md.val_dl))\n",
    "x = to_np(x)"
   ]
  },
  {
   "cell_type": "code",
   "execution_count": null,
   "metadata": {
    "collapsed": true
   },
   "outputs": [],
   "source": [
    "fig, axes = plt.subplots(3, 4, figsize=(12, 8))\n",
    "for i,ax in enumerate(axes.flat):\n",
    "    ima=md.val_ds.denorm(x)[i]\n",
    "    ya = np.nonzero(y[i]>0.4)[0]\n",
    "    b = '\\n'.join(md.classes[o] for o in ya)\n",
    "    ax = show_img(ima, ax=ax)\n",
    "    draw_text(ax, (0,0), b)\n",
    "plt.tight_layout()"
   ]
  }
 ],
 "metadata": {
  "kernelspec": {
   "display_name": "Python 3",
   "language": "python",
   "name": "python3"
  },
  "language_info": {
   "codemirror_mode": {
    "name": "ipython",
    "version": 3
   },
   "file_extension": ".py",
   "mimetype": "text/x-python",
   "name": "python",
   "nbconvert_exporter": "python",
   "pygments_lexer": "ipython3",
   "version": "3.6.3"
  },
  "toc": {
   "nav_menu": {},
   "number_sections": true,
   "sideBar": true,
   "skip_h1_title": false,
   "title_cell": "Table of Contents",
   "title_sidebar": "Contents",
   "toc_cell": false,
   "toc_position": {},
   "toc_section_display": true,
   "toc_window_display": false
  },
  "varInspector": {
   "cols": {
    "lenName": 16,
    "lenType": 16,
    "lenVar": 40
   },
   "kernels_config": {
    "python": {
     "delete_cmd_postfix": "",
     "delete_cmd_prefix": "del ",
     "library": "var_list.py",
     "varRefreshCmd": "print(var_dic_list())"
    },
    "r": {
     "delete_cmd_postfix": ") ",
     "delete_cmd_prefix": "rm(",
     "library": "var_list.r",
     "varRefreshCmd": "cat(var_dic_list()) "
    }
   },
   "types_to_exclude": [
    "module",
    "function",
    "builtin_function_or_method",
    "instance",
    "_Feature"
   ],
   "window_display": false
  }
 },
 "nbformat": 4,
 "nbformat_minor": 2
}
