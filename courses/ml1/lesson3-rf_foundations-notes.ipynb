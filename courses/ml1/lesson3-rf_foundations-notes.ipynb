{
 "cells": [
  {
   "cell_type": "markdown",
   "metadata": {
    "collapsed": true
   },
   "source": [
    "# Random Forest from scratch!"
   ]
  },
  {
   "cell_type": "code",
   "execution_count": 1,
   "metadata": {
    "ExecuteTime": {
     "end_time": "2018-03-23T21:50:48.579631Z",
     "start_time": "2018-03-23T21:50:48.556434Z"
    },
    "collapsed": true
   },
   "outputs": [],
   "source": [
    "%load_ext autoreload\n",
    "%autoreload 2"
   ]
  },
  {
   "cell_type": "code",
   "execution_count": 2,
   "metadata": {
    "ExecuteTime": {
     "end_time": "2018-03-23T21:50:49.973289Z",
     "start_time": "2018-03-23T21:50:48.802020Z"
    },
    "collapsed": true
   },
   "outputs": [],
   "source": [
    "%matplotlib inline\n",
    "\n",
    "from fastai.imports import *\n",
    "from fastai.structured import *\n",
    "from sklearn.ensemble import RandomForestRegressor, RandomForestClassifier\n",
    "from IPython.display import display\n",
    "from sklearn import metrics"
   ]
  },
  {
   "cell_type": "code",
   "execution_count": 3,
   "metadata": {
    "ExecuteTime": {
     "end_time": "2018-03-23T21:50:57.088722Z",
     "start_time": "2018-03-23T21:50:57.051455Z"
    },
    "collapsed": true
   },
   "outputs": [],
   "source": [
    "PATH = \"data/bulldozers/\""
   ]
  },
  {
   "cell_type": "markdown",
   "metadata": {
    "heading_collapsed": true
   },
   "source": [
    "## Load in our data from last lesson"
   ]
  },
  {
   "cell_type": "code",
   "execution_count": null,
   "metadata": {
    "ExecuteTime": {
     "end_time": "2018-03-23T21:11:53.505032Z",
     "start_time": "2018-03-23T21:10:47.212104Z"
    },
    "collapsed": true,
    "hidden": true
   },
   "outputs": [],
   "source": [
    "df_raw = pd.read_csv(f'{PATH}Train.csv', low_memory=False,\n",
    "                     converters={ 'SalePrice': lambda sp: np.log(float(sp)) },\n",
    "                     parse_dates=[\"saledate\"])"
   ]
  },
  {
   "cell_type": "code",
   "execution_count": null,
   "metadata": {
    "ExecuteTime": {
     "end_time": "2018-03-23T15:43:51.052748Z",
     "start_time": "2018-03-23T15:43:46.850011Z"
    },
    "collapsed": true,
    "hidden": true
   },
   "outputs": [],
   "source": [
    "add_datepart(df_raw, 'saledate')\n",
    "\n",
    "train_cats(df_raw)\n",
    "df_raw.UsageBand.cat.set_categories(['High', 'Medium', 'Low'], ordered=True, inplace=True)\n",
    "df_raw.UsageBand = df_raw.UsageBand.cat.codes"
   ]
  },
  {
   "cell_type": "code",
   "execution_count": null,
   "metadata": {
    "ExecuteTime": {
     "end_time": "2018-03-23T15:45:10.060784Z",
     "start_time": "2018-03-23T15:45:09.850636Z"
    },
    "collapsed": true,
    "hidden": true
   },
   "outputs": [],
   "source": [
    "df_raw.to_feather(f'{PATH}raw')"
   ]
  },
  {
   "cell_type": "code",
   "execution_count": 4,
   "metadata": {
    "ExecuteTime": {
     "end_time": "2018-03-23T21:51:25.390994Z",
     "start_time": "2018-03-23T21:51:25.122870Z"
    },
    "collapsed": true,
    "hidden": true
   },
   "outputs": [],
   "source": [
    "df_raw = pd.read_feather(f'{PATH}raw')"
   ]
  },
  {
   "cell_type": "code",
   "execution_count": 5,
   "metadata": {
    "ExecuteTime": {
     "end_time": "2018-03-23T21:51:26.635959Z",
     "start_time": "2018-03-23T21:51:26.266001Z"
    },
    "collapsed": true,
    "hidden": true
   },
   "outputs": [],
   "source": [
    "# df_raw = pd.read_feather('tmp/raw')\n",
    "df_trn, y_trn, nas = proc_df(df_raw, 'SalePrice')"
   ]
  },
  {
   "cell_type": "code",
   "execution_count": 6,
   "metadata": {
    "ExecuteTime": {
     "end_time": "2018-03-23T21:51:27.622636Z",
     "start_time": "2018-03-23T21:51:27.498339Z"
    },
    "collapsed": true,
    "hidden": true
   },
   "outputs": [],
   "source": [
    "def split_vals(a,n): return a[:n], a[n:]\n",
    "n_valid = 12000\n",
    "n_trn = len(df_trn)-n_valid\n",
    "X_train, X_valid = split_vals(df_trn, n_trn)\n",
    "y_train, y_valid = split_vals(y_trn, n_trn)\n",
    "raw_train, raw_valid = split_vals(df_raw, n_trn)"
   ]
  },
  {
   "cell_type": "code",
   "execution_count": null,
   "metadata": {
    "ExecuteTime": {
     "end_time": "2018-03-23T15:45:38.450134Z",
     "start_time": "2018-03-23T15:45:38.407888Z"
    },
    "collapsed": true,
    "hidden": true
   },
   "outputs": [],
   "source": [
    "x_sub = X_train[['YearMade', 'MachineHoursCurrentMeter']]"
   ]
  },
  {
   "cell_type": "markdown",
   "metadata": {
    "heading_collapsed": true
   },
   "source": [
    "## Basic data structures"
   ]
  },
  {
   "cell_type": "code",
   "execution_count": null,
   "metadata": {
    "ExecuteTime": {
     "end_time": "2018-03-23T15:45:50.503689Z",
     "start_time": "2018-03-23T15:45:50.448848Z"
    },
    "collapsed": true,
    "hidden": true
   },
   "outputs": [],
   "source": [
    "# All randomness is handled in this class\n",
    "\n",
    "class TreeEnsemble():\n",
    "    def __init__(self, x, y, n_trees, sample_sz, min_leaf=5):\n",
    "        np.random.seed(42)  # explicitly set for reproducibility\n",
    "        self.x,self.y,self.sample_sz,self.min_leaf = x,y,sample_sz,min_leaf\n",
    "        self.trees = [self.create_tree() for i in range(n_trees)]\n",
    "\n",
    "    def create_tree(self):\n",
    "        # construct decision tree from random sample of data\n",
    "        rnd_idxs = np.random.permutation(len(self.y))[:self.sample_sz]  # not bootstrapping (sampling w/ replacement)\n",
    "        return DecisionTree(self.x.iloc[rnd_idxs], self.y[rnd_idxs], min_leaf=self.min_leaf)\n",
    "        \n",
    "    def predict(self, x):\n",
    "        # for given row(s), average the predictions generated by all of the trees\n",
    "        return np.mean([t.predict(x) for t in self.trees], axis=0)"
   ]
  },
  {
   "cell_type": "code",
   "execution_count": null,
   "metadata": {
    "ExecuteTime": {
     "end_time": "2018-03-23T16:27:53.200239Z",
     "start_time": "2018-03-23T16:27:53.109847Z"
    },
    "collapsed": true,
    "hidden": true
   },
   "outputs": [],
   "source": [
    "# DecisionTrees are recursive so we pass along all the arguments above (except n_trees)\n",
    "class DecisionTree():\n",
    "    def __init__(self, x, y, idxs=None, min_leaf=5):\n",
    "        # need to keep track of which idxs went to left/right side of the tree\n",
    "        # initialize it to all dependent variables\n",
    "        if idxs is None: idxs=np.arange(len(y))\n",
    "        self.x,self.y,self.idxs,self.min_leaf = x,y,idxs,min_leaf\n",
    "        # n => rows\n",
    "        # c => columns\n",
    "        self.n,self.c = len(idxs), x.shape[1]\n",
    "        # initial value is the average of dependent variable for the idxs\n",
    "        self.val = np.mean(y[idxs])\n",
    "        # score: effectiveness of the split  (not for leaf nodes; root of the tree - no splits yet)\n",
    "        self.score = float('inf')\n",
    "        self.find_varsplit()\n",
    "        \n",
    "    # This just does one decision; we'll make it recursive later\n",
    "    def find_varsplit(self):\n",
    "        # NOTE: we are not including max_features support.  It would go here.\n",
    "        for i in range(self.c): self.find_better_split(i)\n",
    "            \n",
    "    # We'll write this later!\n",
    "    def find_better_split(self, var_idx): pass\n",
    "    \n",
    "    @property\n",
    "    def split_name(self): return self.x.columns[self.var_idx]\n",
    "    \n",
    "    @property\n",
    "    def split_col(self): return self.x.values[self.idxs,self.var_idx]\n",
    "\n",
    "    # method call w/out the ()\n",
    "    @property     # python decorator -> tells python info about your method\n",
    "    def is_leaf(self): return self.score == float('inf')\n",
    "    \n",
    "    # representation of the object -> information returned when printed (instead of classname and objectID)\n",
    "    def __repr__(self):\n",
    "        # rows, avg of dependent variable \n",
    "        s = f'n: {self.n}; val:{self.val}'\n",
    "        if not self.is_leaf:\n",
    "            # if there is a split: show score, value split at, variable split on\n",
    "            s += f'; score:{self.score}; split:{self.split}; var:{self.split_name}'\n",
    "        return s"
   ]
  },
  {
   "cell_type": "code",
   "execution_count": null,
   "metadata": {
    "ExecuteTime": {
     "end_time": "2018-03-23T17:55:28.442282Z",
     "start_time": "2018-03-23T17:55:28.392037Z"
    },
    "collapsed": true,
    "hidden": true
   },
   "outputs": [],
   "source": [
    "m = TreeEnsemble(x_sub, y_train, n_trees=1, sample_sz=1000, min_leaf=3)"
   ]
  },
  {
   "cell_type": "code",
   "execution_count": null,
   "metadata": {
    "ExecuteTime": {
     "end_time": "2018-03-23T17:55:29.452776Z",
     "start_time": "2018-03-23T17:55:29.412856Z"
    },
    "hidden": true,
    "scrolled": true
   },
   "outputs": [],
   "source": [
    "tree = m.trees[0]; tree"
   ]
  },
  {
   "cell_type": "code",
   "execution_count": null,
   "metadata": {
    "ExecuteTime": {
     "end_time": "2018-03-23T16:27:58.447925Z",
     "start_time": "2018-03-23T16:27:58.404922Z"
    },
    "collapsed": true,
    "hidden": true
   },
   "outputs": [],
   "source": [
    "m.trees[0].idxs"
   ]
  },
  {
   "cell_type": "code",
   "execution_count": null,
   "metadata": {
    "ExecuteTime": {
     "end_time": "2018-03-23T16:34:24.825633Z",
     "start_time": "2018-03-23T16:34:24.784942Z"
    },
    "hidden": true
   },
   "outputs": [],
   "source": [
    "x_samp,y_samp = tree.x, tree.y\n",
    "x_samp.columns"
   ]
  },
  {
   "cell_type": "markdown",
   "metadata": {},
   "source": [
    "## Single split"
   ]
  },
  {
   "cell_type": "markdown",
   "metadata": {
    "heading_collapsed": true
   },
   "source": [
    "### Find best split given variable"
   ]
  },
  {
   "cell_type": "code",
   "execution_count": null,
   "metadata": {
    "ExecuteTime": {
     "end_time": "2018-03-23T16:30:06.695552Z",
     "start_time": "2018-03-23T16:30:06.592288Z"
    },
    "hidden": true,
    "scrolled": true
   },
   "outputs": [],
   "source": [
    "# get information from scikit_learn implementation so we can compare\n",
    "# we need to recreate this information...\n",
    "\n",
    "m = RandomForestRegressor(n_estimators=1, max_depth=1, bootstrap=False)\n",
    "m.fit(x_samp, y_samp)\n",
    "draw_tree(m.estimators_[0], x_samp, precision=2)"
   ]
  },
  {
   "cell_type": "code",
   "execution_count": null,
   "metadata": {
    "ExecuteTime": {
     "end_time": "2018-03-23T16:53:35.965389Z",
     "start_time": "2018-03-23T16:53:35.915418Z"
    },
    "collapsed": true,
    "hidden": true
   },
   "outputs": [],
   "source": [
    "def find_better_split(self, var_idx):\n",
    "    # x: array of independent variable values\n",
    "    # y: dependent variable\n",
    "    x,y = self.x.values[self.idxs,var_idx], self.y[self.idxs]\n",
    "\n",
    "    # want to find a split where each side has as low a std as possible\n",
    "    for i in range(1,self.n-1):\n",
    "        # split into 2 groups (left hand side, right hand side)\n",
    "        lhs = x<=x[i]     # array of booleans\n",
    "        rhs = x>x[i]\n",
    "        if rhs.sum()==0: continue   # can't take std of empty set -> sum() counts True values\n",
    "        # get std of both groups\n",
    "        lhs_std = y[lhs].std()\n",
    "        rhs_std = y[rhs].std()\n",
    "        # take weighted average of the 2 groups; keep the lowest one\n",
    "        curr_score = lhs_std*lhs.sum() + rhs_std*rhs.sum()\n",
    "        if curr_score<self.score: \n",
    "            self.var_idx,self.score,self.split = var_idx,curr_score,x[i]"
   ]
  },
  {
   "cell_type": "code",
   "execution_count": null,
   "metadata": {
    "ExecuteTime": {
     "end_time": "2018-03-23T16:53:44.015565Z",
     "start_time": "2018-03-23T16:53:37.514676Z"
    },
    "hidden": true
   },
   "outputs": [],
   "source": [
    "%timeit find_better_split(tree,1)\n",
    "tree"
   ]
  },
  {
   "cell_type": "code",
   "execution_count": null,
   "metadata": {
    "ExecuteTime": {
     "end_time": "2018-03-23T16:54:36.174354Z",
     "start_time": "2018-03-23T16:54:36.053658Z"
    },
    "hidden": true
   },
   "outputs": [],
   "source": [
    "# this is the better score -> split here\n",
    "# compare w/ sklearn and it matches up correctly!\n",
    "find_better_split(tree,0); tree"
   ]
  },
  {
   "cell_type": "markdown",
   "metadata": {
    "hidden": true
   },
   "source": [
    "#### Calculating Computational Complexity\n",
    "\n",
    "- Is there a loop?  -> n  \n",
    "- Is there a loop inside the loop?  -> n * n  \n",
    "- Is there a sort?  -> n(log(n))  \n",
    "- Element-wise array operations  -> n  \n",
    "\n",
    "complexity of loop x highest complexity inside loop  \n",
    "n x n (element-wise array operation)  ->  n^2\n",
    "\n",
    "#### Increase performance  ->  Decrease computation complexity\n",
    "\n",
    "calculate aggregated std -> square root of (mean of squares/n) - (square of means/n)  \n",
    "- Sort the values\n",
    "- RHS - Calculate total counts, sum of values, sum of values squared\n",
    "- For each value we can add to LHS / subtract from RHS\n",
    "\n",
    "order of n complexity"
   ]
  },
  {
   "cell_type": "markdown",
   "metadata": {
    "heading_collapsed": true
   },
   "source": [
    "### Speeding things up"
   ]
  },
  {
   "cell_type": "code",
   "execution_count": null,
   "metadata": {
    "ExecuteTime": {
     "end_time": "2018-03-23T18:01:26.475263Z",
     "start_time": "2018-03-23T18:01:26.426275Z"
    },
    "collapsed": true,
    "hidden": true
   },
   "outputs": [],
   "source": [
    "tree = TreeEnsemble(x_sub, y_train, 1, 1000).trees[0]"
   ]
  },
  {
   "cell_type": "code",
   "execution_count": null,
   "metadata": {
    "ExecuteTime": {
     "end_time": "2018-03-23T18:01:29.819448Z",
     "start_time": "2018-03-23T18:01:29.737401Z"
    },
    "collapsed": true,
    "hidden": true
   },
   "outputs": [],
   "source": [
    "# s1: sum of values\n",
    "# s2: sum of values^2\n",
    "# square root of (mean of squares/n) - (square of means/n)\n",
    "def std_agg(cnt, s1, s2): return math.sqrt((s2/cnt) - (s1/cnt)**2)\n",
    "\n",
    "def find_better_split(self, var_idx):\n",
    "    x,y = self.x.values[self.idxs,var_idx], self.y[self.idxs]\n",
    "    \n",
    "    sort_idx = np.argsort(x)\n",
    "    sort_y,sort_x = y[sort_idx], x[sort_idx]\n",
    "    # calc initial values -> everything starts in rhs, none in lhs\n",
    "    # counts, values, values^2\n",
    "    rhs_cnt,rhs_sum,rhs_sum2 = self.n, sort_y.sum(), (sort_y**2).sum()\n",
    "    lhs_cnt,lhs_sum,lhs_sum2 = 0,0.,0.\n",
    "\n",
    "    for i in range(0,self.n-self.min_leaf-1):\n",
    "        xi,yi = sort_x[i],sort_y[i]\n",
    "        # update counts, values, and values^2\n",
    "        lhs_cnt += 1; rhs_cnt -= 1\n",
    "        lhs_sum += yi; rhs_sum -= yi\n",
    "        lhs_sum2 += yi**2; rhs_sum2 -= yi**2\n",
    "        # if this value is same as next one -> skip rest\n",
    "        if i<self.min_leaf or xi==sort_x[i+1]: continue\n",
    "            \n",
    "        # calculate std\n",
    "        lhs_std = std_agg(lhs_cnt, lhs_sum, lhs_sum2)\n",
    "        rhs_std = std_agg(rhs_cnt, rhs_sum, rhs_sum2)\n",
    "        curr_score = lhs_std*lhs_cnt + rhs_std*rhs_cnt\n",
    "        if curr_score<self.score: \n",
    "            self.var_idx,self.score,self.split = var_idx,curr_score,xi"
   ]
  },
  {
   "cell_type": "code",
   "execution_count": null,
   "metadata": {
    "ExecuteTime": {
     "end_time": "2018-03-23T18:01:46.859298Z",
     "start_time": "2018-03-23T18:01:33.057027Z"
    },
    "hidden": true,
    "scrolled": false
   },
   "outputs": [],
   "source": [
    "# 800% performance improvement...\n",
    "\n",
    "%timeit find_better_split(tree,1)\n",
    "tree"
   ]
  },
  {
   "cell_type": "code",
   "execution_count": null,
   "metadata": {
    "ExecuteTime": {
     "end_time": "2018-03-23T17:56:27.085247Z",
     "start_time": "2018-03-23T17:56:27.042958Z"
    },
    "hidden": true
   },
   "outputs": [],
   "source": [
    "find_better_split(tree,0); tree"
   ]
  },
  {
   "cell_type": "code",
   "execution_count": null,
   "metadata": {
    "ExecuteTime": {
     "end_time": "2018-03-23T18:25:34.129838Z",
     "start_time": "2018-03-23T18:25:34.091577Z"
    },
    "collapsed": true,
    "hidden": true
   },
   "outputs": [],
   "source": [
    "DecisionTree.find_better_split = find_better_split"
   ]
  },
  {
   "cell_type": "code",
   "execution_count": null,
   "metadata": {
    "ExecuteTime": {
     "end_time": "2018-03-23T18:25:37.514106Z",
     "start_time": "2018-03-23T18:25:37.402187Z"
    },
    "hidden": true
   },
   "outputs": [],
   "source": [
    "tree = TreeEnsemble(x_sub, y_train, 1, 1000).trees[0]; tree"
   ]
  },
  {
   "cell_type": "markdown",
   "metadata": {
    "heading_collapsed": true
   },
   "source": [
    "## Full single tree"
   ]
  },
  {
   "cell_type": "code",
   "execution_count": null,
   "metadata": {
    "ExecuteTime": {
     "end_time": "2018-03-23T18:30:04.614634Z",
     "start_time": "2018-03-23T18:30:04.548636Z"
    },
    "hidden": true
   },
   "outputs": [],
   "source": [
    "# now lets go deeper -> max_depth=2 -> 2 splits\n",
    "m = RandomForestRegressor(n_estimators=1, max_depth=2, bootstrap=False)\n",
    "m.fit(x_samp, y_samp)\n",
    "draw_tree(m.estimators_[0], x_samp, precision=2)"
   ]
  },
  {
   "cell_type": "code",
   "execution_count": null,
   "metadata": {
    "ExecuteTime": {
     "end_time": "2018-03-23T18:25:53.577404Z",
     "start_time": "2018-03-23T18:25:53.530830Z"
    },
    "collapsed": true,
    "hidden": true
   },
   "outputs": [],
   "source": [
    "# We now need to make this recursive\n",
    "def find_varsplit(self):\n",
    "    # same as above\n",
    "    for i in range(self.c): self.find_better_split(i)\n",
    "    # breaks our circular recursion\n",
    "    if self.is_leaf: return\n",
    "    # property -> returns x values for this column\n",
    "    x = self.split_col\n",
    "    # storing booleans for the entire array for each node -> squared memory issue\n",
    "    # lets store just the indexes\n",
    "    lhs = np.nonzero(x<=self.split)[0]  # np.nonzero -> gives the indexes of the true values\n",
    "    rhs = np.nonzero(x>self.split)[0]\n",
    "    # create decision trees for both sides\n",
    "    self.lhs = DecisionTree(self.x, self.y, self.idxs[lhs])\n",
    "    self.rhs = DecisionTree(self.x, self.y, self.idxs[rhs])"
   ]
  },
  {
   "cell_type": "code",
   "execution_count": null,
   "metadata": {
    "ExecuteTime": {
     "end_time": "2018-03-23T18:25:54.407799Z",
     "start_time": "2018-03-23T18:25:54.371579Z"
    },
    "collapsed": true,
    "hidden": true
   },
   "outputs": [],
   "source": [
    "DecisionTree.find_varsplit = find_varsplit"
   ]
  },
  {
   "cell_type": "code",
   "execution_count": null,
   "metadata": {
    "ExecuteTime": {
     "end_time": "2018-03-23T18:25:55.351246Z",
     "start_time": "2018-03-23T18:25:55.243622Z"
    },
    "hidden": true,
    "scrolled": false
   },
   "outputs": [],
   "source": [
    "tree = TreeEnsemble(x_sub, y_train, 1, 1000).trees[0]; tree"
   ]
  },
  {
   "cell_type": "code",
   "execution_count": null,
   "metadata": {
    "ExecuteTime": {
     "end_time": "2018-03-23T18:25:58.984779Z",
     "start_time": "2018-03-23T18:25:58.946029Z"
    },
    "hidden": true
   },
   "outputs": [],
   "source": [
    "tree.lhs"
   ]
  },
  {
   "cell_type": "code",
   "execution_count": null,
   "metadata": {
    "ExecuteTime": {
     "end_time": "2018-03-23T18:26:09.929028Z",
     "start_time": "2018-03-23T18:26:09.889493Z"
    },
    "hidden": true
   },
   "outputs": [],
   "source": [
    "tree.rhs"
   ]
  },
  {
   "cell_type": "code",
   "execution_count": null,
   "metadata": {
    "ExecuteTime": {
     "end_time": "2018-03-23T18:26:16.601677Z",
     "start_time": "2018-03-23T18:26:16.561959Z"
    },
    "hidden": true
   },
   "outputs": [],
   "source": [
    "tree.lhs.lhs"
   ]
  },
  {
   "cell_type": "code",
   "execution_count": null,
   "metadata": {
    "ExecuteTime": {
     "end_time": "2018-03-23T18:26:26.048389Z",
     "start_time": "2018-03-23T18:26:26.008676Z"
    },
    "hidden": true
   },
   "outputs": [],
   "source": [
    "tree.lhs.rhs"
   ]
  },
  {
   "cell_type": "markdown",
   "metadata": {
    "heading_collapsed": true
   },
   "source": [
    "## Predictions"
   ]
  },
  {
   "cell_type": "code",
   "execution_count": 7,
   "metadata": {
    "ExecuteTime": {
     "end_time": "2018-03-23T21:51:53.141547Z",
     "start_time": "2018-03-23T21:51:53.102368Z"
    },
    "collapsed": true,
    "hidden": true
   },
   "outputs": [],
   "source": [
    "cols = ['MachineID', 'YearMade', 'MachineHoursCurrentMeter', 'ProductSize', 'Enclosure',\n",
    "        'Coupler_System', 'saleYear']"
   ]
  },
  {
   "cell_type": "code",
   "execution_count": null,
   "metadata": {
    "ExecuteTime": {
     "end_time": "2018-03-23T18:31:40.675094Z",
     "start_time": "2018-03-23T18:31:40.344449Z"
    },
    "hidden": true,
    "scrolled": false
   },
   "outputs": [],
   "source": [
    "%time tree = TreeEnsemble(X_train[cols], y_train, 1, 1000).trees[0]\n",
    "x_samp,y_samp = tree.x, tree.y"
   ]
  },
  {
   "cell_type": "code",
   "execution_count": null,
   "metadata": {
    "ExecuteTime": {
     "end_time": "2018-03-23T18:31:41.996999Z",
     "start_time": "2018-03-23T18:31:41.927120Z"
    },
    "hidden": true
   },
   "outputs": [],
   "source": [
    "m = RandomForestRegressor(n_estimators=1, max_depth=3, bootstrap=False)\n",
    "m.fit(x_samp, y_samp)\n",
    "draw_tree(m.estimators_[0], x_samp, precision=2, ratio=0.9, size=7)"
   ]
  },
  {
   "cell_type": "code",
   "execution_count": null,
   "metadata": {
    "ExecuteTime": {
     "end_time": "2018-03-23T18:32:37.171337Z",
     "start_time": "2018-03-23T18:32:37.131531Z"
    },
    "collapsed": true,
    "hidden": true
   },
   "outputs": [],
   "source": [
    "# predictions for a tree are the predictions for a row for every row\n",
    "\n",
    "# loops through leading axis regardless of the rank (num of axes)\n",
    "# 1 - vector -> vector\n",
    "# 2 - matrix -> rows\n",
    "# 3 - tensor -> matrices which represent slices\n",
    "\n",
    "def predict(self, x): return np.array([self.predict_row(xi) for xi in x])\n",
    "DecisionTree.predict = predict"
   ]
  },
  {
   "cell_type": "code",
   "execution_count": null,
   "metadata": {
    "collapsed": true,
    "hidden": true
   },
   "outputs": [],
   "source": [
    "if something:\n",
    "    x= do1()\n",
    "else:\n",
    "    x= do2()"
   ]
  },
  {
   "cell_type": "code",
   "execution_count": null,
   "metadata": {
    "collapsed": true,
    "hidden": true
   },
   "outputs": [],
   "source": [
    "x = do1() if something else do2()"
   ]
  },
  {
   "cell_type": "code",
   "execution_count": null,
   "metadata": {
    "collapsed": true,
    "hidden": true
   },
   "outputs": [],
   "source": [
    "x = something ? do1() : do2()"
   ]
  },
  {
   "cell_type": "code",
   "execution_count": null,
   "metadata": {
    "collapsed": true,
    "hidden": true
   },
   "outputs": [],
   "source": []
  },
  {
   "cell_type": "code",
   "execution_count": null,
   "metadata": {
    "ExecuteTime": {
     "end_time": "2018-03-23T18:41:16.141542Z",
     "start_time": "2018-03-23T18:41:16.099263Z"
    },
    "collapsed": true,
    "hidden": true
   },
   "outputs": [],
   "source": [
    "# This is also recursive\n",
    "def predict_row(self, xi):\n",
    "    # if at a leaf node -> return the value\n",
    "    if self.is_leaf: return self.val \n",
    "    # if not at a leaf node -> need to decide to go down left or right to get prediction\n",
    "    # lhs if less than split otherwise rhs\n",
    "    t = self.lhs if xi[self.var_idx]<=self.split else self.rhs\n",
    "    # call predict_row again\n",
    "    return t.predict_row(xi)\n",
    "\n",
    "DecisionTree.predict_row = predict_row"
   ]
  },
  {
   "cell_type": "code",
   "execution_count": null,
   "metadata": {
    "ExecuteTime": {
     "end_time": "2018-03-23T18:41:20.693470Z",
     "start_time": "2018-03-23T18:41:20.570243Z"
    },
    "hidden": true
   },
   "outputs": [],
   "source": [
    "%time preds = tree.predict(X_valid[cols].values)"
   ]
  },
  {
   "cell_type": "code",
   "execution_count": null,
   "metadata": {
    "ExecuteTime": {
     "end_time": "2018-03-23T18:41:26.957969Z",
     "start_time": "2018-03-23T18:41:26.345618Z"
    },
    "hidden": true,
    "scrolled": false
   },
   "outputs": [],
   "source": [
    "plt.scatter(preds, y_valid, alpha=0.05)\n",
    "# alpha -> transparency\n",
    "# 20 dots will appear fully blue"
   ]
  },
  {
   "cell_type": "code",
   "execution_count": null,
   "metadata": {
    "ExecuteTime": {
     "end_time": "2018-03-23T18:42:38.160765Z",
     "start_time": "2018-03-23T18:42:38.119749Z"
    },
    "hidden": true
   },
   "outputs": [],
   "source": [
    "metrics.r2_score(preds, y_valid)"
   ]
  },
  {
   "cell_type": "code",
   "execution_count": null,
   "metadata": {
    "ExecuteTime": {
     "end_time": "2018-03-23T18:42:48.312930Z",
     "start_time": "2018-03-23T18:42:48.063377Z"
    },
    "hidden": true
   },
   "outputs": [],
   "source": [
    "# compare to sklearn RF\n",
    "\n",
    "m = RandomForestRegressor(n_estimators=1, min_samples_leaf=5, bootstrap=False)\n",
    "%time m.fit(x_samp, y_samp)\n",
    "preds = m.predict(X_valid[cols].values)\n",
    "plt.scatter(preds, y_valid, alpha=0.05)"
   ]
  },
  {
   "cell_type": "code",
   "execution_count": null,
   "metadata": {
    "ExecuteTime": {
     "end_time": "2018-03-23T18:42:57.333873Z",
     "start_time": "2018-03-23T18:42:57.293100Z"
    },
    "hidden": true
   },
   "outputs": [],
   "source": [
    "metrics.r2_score(preds, y_valid)"
   ]
  },
  {
   "cell_type": "markdown",
   "metadata": {},
   "source": [
    "# Putting it together"
   ]
  },
  {
   "cell_type": "code",
   "execution_count": 8,
   "metadata": {
    "ExecuteTime": {
     "end_time": "2018-03-23T21:52:09.760668Z",
     "start_time": "2018-03-23T21:52:09.722886Z"
    },
    "collapsed": true
   },
   "outputs": [],
   "source": [
    "cols = ['MachineID', 'YearMade', 'MachineHoursCurrentMeter', 'ProductSize', 'Enclosure',\n",
    "        'Coupler_System', 'saleYear']"
   ]
  },
  {
   "cell_type": "code",
   "execution_count": 45,
   "metadata": {
    "ExecuteTime": {
     "end_time": "2018-03-23T22:01:42.076055Z",
     "start_time": "2018-03-23T22:01:42.018729Z"
    },
    "collapsed": true
   },
   "outputs": [],
   "source": [
    "class TreeEnsemble():\n",
    "    def __init__(self, x, y, n_trees, sample_sz, min_leaf=5):\n",
    "        np.random.seed(42)\n",
    "        self.x,self.y,self.sample_sz,self.min_leaf = x,y,sample_sz,min_leaf\n",
    "        self.trees = [self.create_tree() for i in range(n_trees)]\n",
    "\n",
    "    def create_tree(self):\n",
    "        idxs = np.random.permutation(len(self.y))[:self.sample_sz]\n",
    "        return DecisionTree(self.x.iloc[idxs], self.y[idxs], \n",
    "                    idxs=np.array(range(self.sample_sz)), min_leaf=self.min_leaf)\n",
    "        \n",
    "    def predict(self, x):\n",
    "        return np.mean([t.predict(x) for t in self.trees], axis=0)\n",
    "\n",
    "def std_agg(cnt, s1, s2): return math.sqrt((s2/cnt) - (s1/cnt)**2)"
   ]
  },
  {
   "cell_type": "code",
   "execution_count": 46,
   "metadata": {
    "ExecuteTime": {
     "end_time": "2018-03-23T22:01:43.415854Z",
     "start_time": "2018-03-23T22:01:43.217804Z"
    },
    "collapsed": true
   },
   "outputs": [],
   "source": [
    "class DecisionTree():\n",
    "    def __init__(self, x, y, idxs, min_leaf=5):\n",
    "        self.x,self.y,self.idxs,self.min_leaf = x,y,idxs,min_leaf\n",
    "        self.n,self.c = len(idxs), x.shape[1]\n",
    "        self.val = np.mean(y[idxs])\n",
    "        self.score = float('inf')\n",
    "        self.find_varsplit()\n",
    "        \n",
    "    def find_varsplit(self):\n",
    "        for i in range(self.c): self.find_better_split(i)\n",
    "        if self.score == float('inf'): return\n",
    "        x = self.split_col\n",
    "        lhs = np.nonzero(x<=self.split)[0]\n",
    "        rhs = np.nonzero(x>self.split)[0]\n",
    "        self.lhs = DecisionTree(self.x, self.y, self.idxs[lhs])\n",
    "        self.rhs = DecisionTree(self.x, self.y, self.idxs[rhs])\n",
    "\n",
    "    def find_better_split(self, var_idx):\n",
    "        x,y = self.x.values[self.idxs,var_idx], self.y[self.idxs]\n",
    "        sort_idx = np.argsort(x)\n",
    "        sort_y,sort_x = y[sort_idx], x[sort_idx]\n",
    "        rhs_cnt,rhs_sum,rhs_sum2 = self.n, sort_y.sum(), (sort_y**2).sum()\n",
    "        lhs_cnt,lhs_sum,lhs_sum2 = 0,0.,0.\n",
    "\n",
    "        for i in range(0,self.n-self.min_leaf-1):\n",
    "            xi,yi = sort_x[i],sort_y[i]\n",
    "            lhs_cnt += 1; rhs_cnt -= 1\n",
    "            lhs_sum += yi; rhs_sum -= yi\n",
    "            lhs_sum2 += yi**2; rhs_sum2 -= yi**2\n",
    "            if i<self.min_leaf or xi==sort_x[i+1]:\n",
    "                continue\n",
    "\n",
    "            lhs_std = std_agg(lhs_cnt, lhs_sum, lhs_sum2)\n",
    "            rhs_std = std_agg(rhs_cnt, rhs_sum, rhs_sum2)\n",
    "            curr_score = lhs_std*lhs_cnt + rhs_std*rhs_cnt\n",
    "            if curr_score<self.score: \n",
    "                self.var_idx,self.score,self.split = var_idx,curr_score,xi\n",
    "\n",
    "    @property\n",
    "    def split_name(self): return self.x.columns[self.var_idx]\n",
    "    \n",
    "    @property\n",
    "    def split_col(self): return self.x.values[self.idxs,self.var_idx]\n",
    "\n",
    "    @property\n",
    "    def is_leaf(self): return self.score == float('inf')\n",
    "    \n",
    "#     def __repr__(self):\n",
    "#         s = f'n: {self.n}; val:{self.val}'\n",
    "#         if not self.is_leaf:\n",
    "#             s += f'; score:{self.score}; split:{self.split}; var:{self.split_name}'\n",
    "#         return s\n",
    "\n",
    "    def predict(self, x):\n",
    "        return np.array([self.predict_row(xi) for xi in x])\n",
    "\n",
    "    def predict_row(self, xi):\n",
    "        if self.is_leaf: return self.val\n",
    "        t = self.lhs if xi[self.var_idx]<=self.split else self.rhs\n",
    "        return t.predict_row(xi)"
   ]
  },
  {
   "cell_type": "code",
   "execution_count": 11,
   "metadata": {
    "ExecuteTime": {
     "end_time": "2018-03-23T21:52:22.872439Z",
     "start_time": "2018-03-23T21:52:21.586368Z"
    },
    "scrolled": false
   },
   "outputs": [],
   "source": [
    "ens = TreeEnsemble(X_train[cols], y_train, 5, 1000)"
   ]
  },
  {
   "cell_type": "code",
   "execution_count": 40,
   "metadata": {
    "ExecuteTime": {
     "end_time": "2018-03-23T21:59:58.173293Z",
     "start_time": "2018-03-23T21:59:57.772739Z"
    },
    "collapsed": true
   },
   "outputs": [],
   "source": [
    "preds = ens.predict(X_valid[cols].values)"
   ]
  },
  {
   "cell_type": "code",
   "execution_count": null,
   "metadata": {
    "ExecuteTime": {
     "end_time": "2018-03-23T21:16:43.792893Z",
     "start_time": "2018-03-23T21:16:43.331987Z"
    },
    "scrolled": false
   },
   "outputs": [],
   "source": [
    "plt.scatter(y_valid, preds, alpha=0.1, s=6);"
   ]
  },
  {
   "cell_type": "code",
   "execution_count": 41,
   "metadata": {
    "ExecuteTime": {
     "end_time": "2018-03-23T22:00:00.718048Z",
     "start_time": "2018-03-23T22:00:00.677965Z"
    }
   },
   "outputs": [
    {
     "data": {
      "text/plain": [
       "0.71011741571071241"
      ]
     },
     "execution_count": 41,
     "metadata": {},
     "output_type": "execute_result"
    }
   ],
   "source": [
    "metrics.r2_score(y_valid, preds)"
   ]
  },
  {
   "cell_type": "markdown",
   "metadata": {
    "heading_collapsed": true
   },
   "source": [
    "# Improve Performance"
   ]
  },
  {
   "cell_type": "markdown",
   "metadata": {
    "hidden": true
   },
   "source": [
    "This is a lot slower than sklearn \n",
    "- many of calculations are numpy (optimized)\n",
    "- other calcs are in python (leaf nodes calculating score) -> slow"
   ]
  },
  {
   "cell_type": "code",
   "execution_count": null,
   "metadata": {
    "ExecuteTime": {
     "end_time": "2018-03-23T18:51:54.646473Z",
     "start_time": "2018-03-23T18:51:54.155767Z"
    },
    "collapsed": true,
    "hidden": true
   },
   "outputs": [],
   "source": [
    "%load_ext Cython"
   ]
  },
  {
   "cell_type": "code",
   "execution_count": null,
   "metadata": {
    "ExecuteTime": {
     "end_time": "2018-03-23T18:52:04.733825Z",
     "start_time": "2018-03-23T18:52:04.692494Z"
    },
    "collapsed": true,
    "hidden": true
   },
   "outputs": [],
   "source": [
    "def fib1(n):\n",
    "    a, b = 0, 1\n",
    "    while b < n:\n",
    "        a, b = b, a + b"
   ]
  },
  {
   "cell_type": "code",
   "execution_count": null,
   "metadata": {
    "ExecuteTime": {
     "end_time": "2018-03-23T18:52:06.762904Z",
     "start_time": "2018-03-23T18:52:05.599050Z"
    },
    "collapsed": true,
    "hidden": true
   },
   "outputs": [],
   "source": [
    "%%cython\n",
    "def fib2(n):\n",
    "    a, b = 0, 1\n",
    "    while b < n:\n",
    "        a, b = b, a + b"
   ]
  },
  {
   "cell_type": "code",
   "execution_count": null,
   "metadata": {
    "ExecuteTime": {
     "end_time": "2018-03-23T18:53:08.993307Z",
     "start_time": "2018-03-23T18:53:08.724353Z"
    },
    "collapsed": true,
    "hidden": true
   },
   "outputs": [],
   "source": [
    "%%cython\n",
    "def fib3(int n):\n",
    "    # cdef: defining c data types\n",
    "    cdef int b = 1\n",
    "    cdef int a = 0\n",
    "    # need another variable here because we can't batch define variables in c\n",
    "    cdef int t = 0\n",
    "    while b < n:\n",
    "        t = a\n",
    "        a = b\n",
    "        b = a + b"
   ]
  },
  {
   "cell_type": "code",
   "execution_count": null,
   "metadata": {
    "ExecuteTime": {
     "end_time": "2018-03-23T18:53:18.620724Z",
     "start_time": "2018-03-23T18:53:13.252557Z"
    },
    "hidden": true
   },
   "outputs": [],
   "source": [
    "%timeit fib1(50)"
   ]
  },
  {
   "cell_type": "code",
   "execution_count": null,
   "metadata": {
    "ExecuteTime": {
     "end_time": "2018-03-23T18:53:22.200379Z",
     "start_time": "2018-03-23T18:53:19.923651Z"
    },
    "hidden": true
   },
   "outputs": [],
   "source": [
    "# 2 times faster\n",
    "%timeit fib2(50)"
   ]
  },
  {
   "cell_type": "code",
   "execution_count": null,
   "metadata": {
    "ExecuteTime": {
     "end_time": "2018-03-23T18:53:27.450898Z",
     "start_time": "2018-03-23T18:53:23.275736Z"
    },
    "hidden": true
   },
   "outputs": [],
   "source": [
    "# 10 times faster\n",
    "%timeit fib3(50)"
   ]
  },
  {
   "cell_type": "markdown",
   "metadata": {},
   "source": [
    "# Confidence (tree variance) "
   ]
  },
  {
   "cell_type": "code",
   "execution_count": 26,
   "metadata": {
    "ExecuteTime": {
     "end_time": "2018-03-23T21:57:04.825229Z",
     "start_time": "2018-03-23T21:57:04.464951Z"
    }
   },
   "outputs": [
    {
     "data": {
      "text/plain": [
       "RandomForestRegressor(bootstrap=False, criterion='mse', max_depth=3,\n",
       "           max_features='auto', max_leaf_nodes=None,\n",
       "           min_impurity_decrease=0.0, min_impurity_split=None,\n",
       "           min_samples_leaf=1, min_samples_split=2,\n",
       "           min_weight_fraction_leaf=0.0, n_estimators=1, n_jobs=1,\n",
       "           oob_score=False, random_state=None, verbose=0, warm_start=False)"
      ]
     },
     "execution_count": 26,
     "metadata": {},
     "output_type": "execute_result"
    }
   ],
   "source": [
    "x_samp,y_samp = ens.trees[0].x, ens.trees[0].y\n",
    "\n",
    "m = RandomForestRegressor(n_estimators=1, max_depth=3, bootstrap=False)\n",
    "m.fit(X_train[cols], y_train)"
   ]
  },
  {
   "cell_type": "code",
   "execution_count": 39,
   "metadata": {
    "ExecuteTime": {
     "end_time": "2018-03-23T21:59:51.640001Z",
     "start_time": "2018-03-23T21:59:51.598176Z"
    }
   },
   "outputs": [
    {
     "data": {
      "text/plain": [
       "(10.008139878485583, 0.0)"
      ]
     },
     "execution_count": 39,
     "metadata": {},
     "output_type": "execute_result"
    }
   ],
   "source": [
    "m_preds = np.stack([t.predict(X_valid[cols]) for t in m.estimators_])\n",
    "np.mean(m_preds[:,0]), np.std(m_preds[:,0])"
   ]
  },
  {
   "cell_type": "code",
   "execution_count": 50,
   "metadata": {
    "ExecuteTime": {
     "end_time": "2018-03-23T22:05:47.555050Z",
     "start_time": "2018-03-23T22:05:47.500808Z"
    }
   },
   "outputs": [],
   "source": [
    "??m"
   ]
  },
  {
   "cell_type": "code",
   "execution_count": null,
   "metadata": {
    "ExecuteTime": {
     "end_time": "2018-03-23T21:50:16.263045Z",
     "start_time": "2018-03-23T21:50:16.158495Z"
    }
   },
   "outputs": [],
   "source": [
    "%time preds = np.stack([t.predict(X_valid) for t in m.estimators_])\n",
    "np.mean(preds[:,0]), np.std(preds[:,0])"
   ]
  },
  {
   "cell_type": "code",
   "execution_count": null,
   "metadata": {
    "ExecuteTime": {
     "end_time": "2018-03-23T21:17:20.759142Z",
     "start_time": "2018-03-23T21:17:20.708557Z"
    }
   },
   "outputs": [],
   "source": [
    "def get_preds(t): return t.predict(X_valid)\n",
    "preds = np.stack(parallel_trees(ens, get_preds))\n",
    "np.mean(preds[:,0]), np.std(preds[:,0])"
   ]
  },
  {
   "cell_type": "markdown",
   "metadata": {},
   "source": [
    "# Feature Importance"
   ]
  },
  {
   "cell_type": "markdown",
   "metadata": {},
   "source": [
    "variable shuffling"
   ]
  },
  {
   "cell_type": "markdown",
   "metadata": {},
   "source": [
    "# Partial Dependence"
   ]
  },
  {
   "cell_type": "markdown",
   "metadata": {},
   "source": [
    "instead of shuffling -> replacing w/ constant value"
   ]
  },
  {
   "cell_type": "markdown",
   "metadata": {},
   "source": [
    "# Tree Interpreter"
   ]
  },
  {
   "cell_type": "markdown",
   "metadata": {},
   "source": [
    "## Interaction Importance"
   ]
  },
  {
   "cell_type": "markdown",
   "metadata": {},
   "source": [
    "alt feature importance: adding up all rows"
   ]
  },
  {
   "cell_type": "code",
   "execution_count": null,
   "metadata": {
    "collapsed": true
   },
   "outputs": [],
   "source": []
  }
 ],
 "metadata": {
  "kernelspec": {
   "display_name": "Python 3",
   "language": "python",
   "name": "python3"
  },
  "language_info": {
   "codemirror_mode": {
    "name": "ipython",
    "version": 3
   },
   "file_extension": ".py",
   "mimetype": "text/x-python",
   "name": "python",
   "nbconvert_exporter": "python",
   "pygments_lexer": "ipython3",
   "version": "3.6.3"
  },
  "toc": {
   "nav_menu": {
    "height": "512px",
    "width": "252px"
   },
   "number_sections": true,
   "sideBar": true,
   "skip_h1_title": false,
   "title_cell": "Table of Contents",
   "title_sidebar": "Contents",
   "toc_cell": false,
   "toc_position": {},
   "toc_section_display": "block",
   "toc_window_display": false
  },
  "varInspector": {
   "cols": {
    "lenName": 16,
    "lenType": 16,
    "lenVar": 40
   },
   "kernels_config": {
    "python": {
     "delete_cmd_postfix": "",
     "delete_cmd_prefix": "del ",
     "library": "var_list.py",
     "varRefreshCmd": "print(var_dic_list())"
    },
    "r": {
     "delete_cmd_postfix": ") ",
     "delete_cmd_prefix": "rm(",
     "library": "var_list.r",
     "varRefreshCmd": "cat(var_dic_list()) "
    }
   },
   "types_to_exclude": [
    "module",
    "function",
    "builtin_function_or_method",
    "instance",
    "_Feature"
   ],
   "window_display": false
  }
 },
 "nbformat": 4,
 "nbformat_minor": 2
}
