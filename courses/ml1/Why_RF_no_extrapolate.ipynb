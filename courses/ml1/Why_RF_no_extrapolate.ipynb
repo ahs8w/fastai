{
 "cells": [
  {
   "cell_type": "code",
   "execution_count": 1,
   "metadata": {
    "ExecuteTime": {
     "end_time": "2018-03-22T17:21:06.366312Z",
     "start_time": "2018-03-22T17:21:04.265082Z"
    },
    "collapsed": true
   },
   "outputs": [],
   "source": [
    "%matplotlib inline\n",
    "from fastai.imports import *\n",
    "from sklearn.ensemble import RandomForestRegressor"
   ]
  },
  {
   "cell_type": "code",
   "execution_count": 2,
   "metadata": {
    "ExecuteTime": {
     "end_time": "2018-03-22T17:21:25.415100Z",
     "start_time": "2018-03-22T17:21:25.406617Z"
    }
   },
   "outputs": [
    {
     "data": {
      "text/plain": [
       "array([ 0.     ,  0.02041,  0.04082,  0.06122,  0.08163,  0.10204,  0.12245,  0.14286,  0.16327,  0.18367,\n",
       "        0.20408,  0.22449,  0.2449 ,  0.26531,  0.28571,  0.30612,  0.32653,  0.34694,  0.36735,  0.38776,\n",
       "        0.40816,  0.42857,  0.44898,  0.46939,  0.4898 ,  0.5102 ,  0.53061,  0.55102,  0.57143,  0.59184,\n",
       "        0.61224,  0.63265,  0.65306,  0.67347,  0.69388,  0.71429,  0.73469,  0.7551 ,  0.77551,  0.79592,\n",
       "        0.81633,  0.83673,  0.85714,  0.87755,  0.89796,  0.91837,  0.93878,  0.95918,  0.97959,  1.     ])"
      ]
     },
     "execution_count": 2,
     "metadata": {},
     "output_type": "execute_result"
    }
   ],
   "source": [
    "x = np.linspace(0,1); x"
   ]
  },
  {
   "cell_type": "code",
   "execution_count": 11,
   "metadata": {
    "ExecuteTime": {
     "end_time": "2018-03-22T17:23:28.959205Z",
     "start_time": "2018-03-22T17:23:28.953280Z"
    }
   },
   "outputs": [
    {
     "data": {
      "text/plain": [
       "array([ 0.08527, -0.09759,  0.10892,  0.19657,  0.08409, -0.02575,  0.26044,  0.26413,  0.33096,  0.11045,\n",
       "        0.26531,  0.25652,  0.17957,  0.20663,  0.37418,  0.48879,  0.13942,  0.25781,  0.45456,  0.55175,\n",
       "        0.30521,  0.42965,  0.26182,  0.53468,  0.53539,  0.34797,  0.72239,  0.53667,  0.68439,  0.42944,\n",
       "        0.51419,  0.61805,  0.73129,  0.58218,  0.61896,  0.72842,  0.72603,  0.81331,  0.95287,  0.9733 ,\n",
       "        0.68721,  0.8408 ,  0.76418,  1.07494,  1.09707,  0.8299 ,  1.11329,  0.95866,  1.03902,  0.98836])"
      ]
     },
     "execution_count": 11,
     "metadata": {},
     "output_type": "execute_result"
    }
   ],
   "source": [
    "y = x + np.random.uniform(-0.2, 0.2, x.shape); y"
   ]
  },
  {
   "cell_type": "code",
   "execution_count": 12,
   "metadata": {
    "ExecuteTime": {
     "end_time": "2018-03-22T17:23:31.746402Z",
     "start_time": "2018-03-22T17:23:31.640590Z"
    }
   },
   "outputs": [
    {
     "data": {
      "text/plain": [
       "<matplotlib.collections.PathCollection at 0x1c17289780>"
      ]
     },
     "execution_count": 12,
     "metadata": {},
     "output_type": "execute_result"
    },
    {
     "data": {
      "image/png": "[encoded data removed]",
      "text/plain": [
       "<matplotlib.figure.Figure at 0x1c17093400>"
      ]
     },
     "metadata": {},
     "output_type": "display_data"
    }
   ],
   "source": [
    "plt.scatter(x,y)"
   ]
  },
  {
   "cell_type": "code",
   "execution_count": 13,
   "metadata": {
    "ExecuteTime": {
     "end_time": "2018-03-22T17:26:09.414667Z",
     "start_time": "2018-03-22T17:26:09.410650Z"
    },
    "collapsed": true
   },
   "outputs": [],
   "source": [
    "# we have our dataset - we want it to act like a time series.\n",
    "# split out trn/val sets\n",
    "x_trn,x_val = x[:40],x[40:]\n",
    "y_trn,y_val = y[:40],y[40:]"
   ]
  },
  {
   "cell_type": "code",
   "execution_count": null,
   "metadata": {
    "ExecuteTime": {
     "end_time": "2018-03-22T17:28:52.863608Z",
     "start_time": "2018-03-22T17:28:52.846945Z"
    }
   },
   "outputs": [],
   "source": [
    "m = RandomForestRegressor().fit(x_trn, y_trn)\n",
    "\n",
    "# ValueError: Expected 2D array, got 1D array instead:\n",
    "# array=[ 0.       0.02041  0.04082  0.06122  0.08163  0.10204  0.12245  0.14286  0.16327  0.18367  0.20408  0.22449\n",
    "#   0.2449   0.26531  0.28571  0.30612  0.32653  0.34694  0.36735  0.38776  0.40816  0.42857  0.44898  0.46939\n",
    "#   0.4898   0.5102   0.53061  0.55102  0.57143  0.59184  0.61224  0.63265  0.65306  0.67347  0.69388  0.71429\n",
    "#   0.73469  0.7551   0.77551  0.79592].\n",
    "# Reshape your data either using array.reshape(-1, 1) if your data has a single feature or array.reshape(1, -1) if it contains a single sample.\n",
    "\n",
    "# need to convert 1d array into 2d array"
   ]
  },
  {
   "cell_type": "code",
   "execution_count": 16,
   "metadata": {
    "ExecuteTime": {
     "end_time": "2018-03-22T17:29:20.809409Z",
     "start_time": "2018-03-22T17:29:20.804672Z"
    }
   },
   "outputs": [
    {
     "data": {
      "text/plain": [
       "(50,)"
      ]
     },
     "execution_count": 16,
     "metadata": {},
     "output_type": "execute_result"
    }
   ],
   "source": [
    "# x is a rank 1 array => len(x.shape)\n",
    "# vector is array of rank 1\n",
    "# matrix is array of rank 2\n",
    "x.shape"
   ]
  },
  {
   "cell_type": "code",
   "execution_count": 21,
   "metadata": {
    "ExecuteTime": {
     "end_time": "2018-03-22T17:37:43.261976Z",
     "start_time": "2018-03-22T17:37:43.254448Z"
    }
   },
   "outputs": [
    {
     "name": "stdout",
     "output_type": "stream",
     "text": [
      "(50, 1)\n",
      "(50, 1)\n",
      "(1, 50)\n",
      "(1, 50)\n"
     ]
    }
   ],
   "source": [
    "# how to turn rank1 array into rank2?\n",
    "# slice of everything along first axis, None -> add new unit axis here\n",
    "print(x[:,None].shape)\n",
    "print(x[...,None].shape) # as many dimensions as necessary, add one to the end\n",
    "print(x[None,:].shape)\n",
    "print(x[None].shape) # shortcut for above\n",
    "\n",
    "x1 = x[...,None]"
   ]
  },
  {
   "cell_type": "code",
   "execution_count": 22,
   "metadata": {
    "ExecuteTime": {
     "end_time": "2018-03-22T17:38:19.799872Z",
     "start_time": "2018-03-22T17:38:19.796724Z"
    },
    "collapsed": true
   },
   "outputs": [],
   "source": [
    "x_trn,x_val = x1[:40],x1[40:]"
   ]
  },
  {
   "cell_type": "code",
   "execution_count": 23,
   "metadata": {
    "ExecuteTime": {
     "end_time": "2018-03-22T17:38:32.734508Z",
     "start_time": "2018-03-22T17:38:32.716468Z"
    },
    "collapsed": true
   },
   "outputs": [],
   "source": [
    "# now it works\n",
    "m = RandomForestRegressor().fit(x_trn, y_trn)"
   ]
  },
  {
   "cell_type": "code",
   "execution_count": 24,
   "metadata": {
    "ExecuteTime": {
     "end_time": "2018-03-22T17:41:31.958403Z",
     "start_time": "2018-03-22T17:41:31.769789Z"
    }
   },
   "outputs": [
    {
     "data": {
      "text/plain": [
       "<matplotlib.collections.PathCollection at 0x1c1744abe0>"
      ]
     },
     "execution_count": 24,
     "metadata": {},
     "output_type": "execute_result"
    },
    {
     "data": {
      "image/png": "[encoded data removed]",
      "text/plain": [
       "<matplotlib.figure.Figure at 0x1c172dbd68>"
      ]
     },
     "metadata": {},
     "output_type": "display_data"
    }
   ],
   "source": [
    "plt.scatter(y_trn, m.predict(x_trn))"
   ]
  },
  {
   "cell_type": "code",
   "execution_count": 25,
   "metadata": {
    "ExecuteTime": {
     "end_time": "2018-03-22T17:45:05.723668Z",
     "start_time": "2018-03-22T17:45:05.616857Z"
    }
   },
   "outputs": [
    {
     "data": {
      "text/plain": [
       "<matplotlib.collections.PathCollection at 0x1c16e5cef0>"
      ]
     },
     "execution_count": 25,
     "metadata": {},
     "output_type": "execute_result"
    },
    {
     "data": {
      "image/png": "[encoded data removed]",
      "text/plain": [
       "<matplotlib.figure.Figure at 0x1c179541d0>"
      ]
     },
     "metadata": {},
     "output_type": "display_data"
    }
   ],
   "source": [
    "plt.scatter(y_val, m.predict(x_val))"
   ]
  },
  {
   "cell_type": "markdown",
   "metadata": {},
   "source": [
    "Why didn't it look like above?  RF returns average of nearby observations (in tree-space)  \n",
    "The above tree has never seen data in that range so it can't return a good average.  \n",
    "It returns the same highest average it's seen for each row in the dataset\n",
    "-> all data points traveling along the same pathway in a tree  \n",
    "Possible solutions:\n",
    " - de-trend the data and use the RF to predict that\n",
    " - use neural network - functional shape allows extrapolation\n",
    " - GBM (gradient boosting machine) - little tree to calculate residuals, next little tree predicts residuals"
   ]
  },
  {
   "cell_type": "code",
   "execution_count": null,
   "metadata": {
    "collapsed": true
   },
   "outputs": [],
   "source": []
  }
 ],
 "metadata": {
  "kernelspec": {
   "display_name": "Python 3",
   "language": "python",
   "name": "python3"
  },
  "language_info": {
   "codemirror_mode": {
    "name": "ipython",
    "version": 3
   },
   "file_extension": ".py",
   "mimetype": "text/x-python",
   "name": "python",
   "nbconvert_exporter": "python",
   "pygments_lexer": "ipython3",
   "version": "3.6.3"
  },
  "toc": {
   "nav_menu": {},
   "number_sections": true,
   "sideBar": true,
   "skip_h1_title": false,
   "title_cell": "Table of Contents",
   "title_sidebar": "Contents",
   "toc_cell": false,
   "toc_position": {},
   "toc_section_display": true,
   "toc_window_display": false
  },
  "varInspector": {
   "cols": {
    "lenName": 16,
    "lenType": 16,
    "lenVar": 40
   },
   "kernels_config": {
    "python": {
     "delete_cmd_postfix": "",
     "delete_cmd_prefix": "del ",
     "library": "var_list.py",
     "varRefreshCmd": "print(var_dic_list())"
    },
    "r": {
     "delete_cmd_postfix": ") ",
     "delete_cmd_prefix": "rm(",
     "library": "var_list.r",
     "varRefreshCmd": "cat(var_dic_list()) "
    }
   },
   "types_to_exclude": [
    "module",
    "function",
    "builtin_function_or_method",
    "instance",
    "_Feature"
   ],
   "window_display": false
  }
 },
 "nbformat": 4,
 "nbformat_minor": 2
}
