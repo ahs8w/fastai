{
 "cells": [
  {
   "cell_type": "code",
   "execution_count": 1,
   "metadata": {
    "ExecuteTime": {
     "end_time": "2018-03-07T20:47:58.267514Z",
     "start_time": "2018-03-07T20:47:57.746274Z"
    }
   },
   "outputs": [],
   "source": [
    "%reload_ext autoreload\n",
    "%autoreload 2\n",
    "%matplotlib inline"
   ]
  },
  {
   "cell_type": "code",
   "execution_count": 2,
   "metadata": {
    "ExecuteTime": {
     "end_time": "2018-03-07T20:48:00.776874Z",
     "start_time": "2018-03-07T20:47:58.268934Z"
    }
   },
   "outputs": [],
   "source": [
    "from fastai.imports import *\n",
    "from fastai.transforms import *\n",
    "from fastai.conv_learner import *\n",
    "from fastai.model import *\n",
    "from fastai.dataset import *\n",
    "from fastai.sgdr import *\n",
    "from fastai.plots import *"
   ]
  },
  {
   "cell_type": "code",
   "execution_count": 3,
   "metadata": {
    "ExecuteTime": {
     "end_time": "2018-03-07T20:48:00.792178Z",
     "start_time": "2018-03-07T20:48:00.778567Z"
    }
   },
   "outputs": [],
   "source": [
    "PATH = 'data/plant_classification/'"
   ]
  },
  {
   "cell_type": "code",
   "execution_count": 4,
   "metadata": {
    "ExecuteTime": {
     "end_time": "2018-03-07T20:48:00.806040Z",
     "start_time": "2018-03-07T20:48:00.793580Z"
    }
   },
   "outputs": [],
   "source": [
    "arch = resnet50"
   ]
  },
  {
   "cell_type": "code",
   "execution_count": 5,
   "metadata": {
    "ExecuteTime": {
     "end_time": "2018-03-07T20:48:03.978521Z",
     "start_time": "2018-03-07T20:48:03.962741Z"
    }
   },
   "outputs": [],
   "source": [
    "def get_data(sz=100, bs=64):\n",
    "    tfms = tfms_from_model(arch, sz, aug_tfms=transforms_top_down, max_zoom=1.1)\n",
    "    data = ImageClassifierData.from_paths(PATH, bs=bs, tfms=tfms, test_name='test')\n",
    "    return data"
   ]
  },
  {
   "cell_type": "code",
   "execution_count": 6,
   "metadata": {
    "ExecuteTime": {
     "end_time": "2018-03-07T20:48:46.163177Z",
     "start_time": "2018-03-07T20:48:40.512716Z"
    }
   },
   "outputs": [],
   "source": [
    "learn = ConvLearner.pretrained(arch, get_data())"
   ]
  },
  {
   "cell_type": "code",
   "execution_count": 7,
   "metadata": {
    "ExecuteTime": {
     "end_time": "2018-03-07T20:48:46.182058Z",
     "start_time": "2018-03-07T20:48:46.164851Z"
    }
   },
   "outputs": [],
   "source": [
    "lr = 1e-2\n",
    "lrs = np.array([lr/9, lr/3, lr])"
   ]
  },
  {
   "cell_type": "code",
   "execution_count": 8,
   "metadata": {
    "ExecuteTime": {
     "end_time": "2018-03-07T18:57:27.529555Z",
     "start_time": "2018-03-07T18:56:37.725664Z"
    },
    "scrolled": true
   },
   "outputs": [
    {
     "data": {
      "application/vnd.jupyter.widget-view+json": {
       "model_id": "2c1c4c1ec3f448fba133c3370c74c002",
       "version_major": 2,
       "version_minor": 0
      },
      "text/html": [
       "<p>Failed to display Jupyter Widget of type <code>HBox</code>.</p>\n",
       "<p>\n",
       "  If you're reading this message in the Jupyter Notebook or JupyterLab Notebook, it may mean\n",
       "  that the widgets JavaScript is still loading. If this message persists, it\n",
       "  likely means that the widgets JavaScript library is either not installed or\n",
       "  not enabled. See the <a href=\"https://ipywidgets.readthedocs.io/en/stable/user_install.html\">Jupyter\n",
       "  Widgets Documentation</a> for setup instructions.\n",
       "</p>\n",
       "<p>\n",
       "  If you're reading this message in another frontend (for example, a static\n",
       "  rendering on GitHub or <a href=\"https://nbviewer.jupyter.org/\">NBViewer</a>),\n",
       "  it may mean that your frontend doesn't currently support widgets.\n",
       "</p>\n"
      ],
      "text/plain": [
       "HBox(children=(IntProgress(value=0, description='Epoch', max=3), HTML(value='')))"
      ]
     },
     "metadata": {},
     "output_type": "display_data"
    },
    {
     "name": "stdout",
     "output_type": "stream",
     "text": [
      "epoch      trn_loss   val_loss   accuracy                 \n",
      "    0      1.643471   1.177781   0.610417  \n",
      "    1      1.367115   0.987149   0.668229                 \n",
      "    2      1.199182   0.872503   0.697917                 \n",
      "\n"
     ]
    },
    {
     "data": {
      "text/plain": [
       "[0.8725026, 0.6979166686534881]"
      ]
     },
     "execution_count": 8,
     "metadata": {},
     "output_type": "execute_result"
    }
   ],
   "source": [
    "learn.fit(lr, 3, cycle_len=1)"
   ]
  },
  {
   "cell_type": "code",
   "execution_count": 9,
   "metadata": {
    "ExecuteTime": {
     "end_time": "2018-03-07T19:01:13.721367Z",
     "start_time": "2018-03-07T18:57:27.530977Z"
    }
   },
   "outputs": [
    {
     "data": {
      "application/vnd.jupyter.widget-view+json": {
       "model_id": "2e407dc912ab4a87ad523e2c74f602cf",
       "version_major": 2,
       "version_minor": 0
      },
      "text/html": [
       "<p>Failed to display Jupyter Widget of type <code>HBox</code>.</p>\n",
       "<p>\n",
       "  If you're reading this message in the Jupyter Notebook or JupyterLab Notebook, it may mean\n",
       "  that the widgets JavaScript is still loading. If this message persists, it\n",
       "  likely means that the widgets JavaScript library is either not installed or\n",
       "  not enabled. See the <a href=\"https://ipywidgets.readthedocs.io/en/stable/user_install.html\">Jupyter\n",
       "  Widgets Documentation</a> for setup instructions.\n",
       "</p>\n",
       "<p>\n",
       "  If you're reading this message in another frontend (for example, a static\n",
       "  rendering on GitHub or <a href=\"https://nbviewer.jupyter.org/\">NBViewer</a>),\n",
       "  it may mean that your frontend doesn't currently support widgets.\n",
       "</p>\n"
      ],
      "text/plain": [
       "HBox(children=(IntProgress(value=0, description='Epoch', max=7), HTML(value='')))"
      ]
     },
     "metadata": {},
     "output_type": "display_data"
    },
    {
     "name": "stdout",
     "output_type": "stream",
     "text": [
      "epoch      trn_loss   val_loss   accuracy                  \n",
      "    0      0.682542   0.449264   0.842708  \n",
      "    1      0.449983   0.242462   0.914062                  \n",
      "    2      0.30717    0.177566   0.939062                  \n",
      "    3      0.297701   0.179533   0.929688                  \n",
      "    4      0.248524   0.122235   0.957812                  \n",
      "    5      0.185652   0.099967   0.964062                  \n",
      "    6      0.164574   0.099029   0.967188                  \n",
      "\n"
     ]
    }
   ],
   "source": [
    "learn.unfreeze()\n",
    "learn.fit(lrs, 3, cycle_len=1, cycle_mult=2)\n",
    "learn.save('150_v4')"
   ]
  },
  {
   "cell_type": "code",
   "execution_count": 10,
   "metadata": {
    "ExecuteTime": {
     "end_time": "2018-03-07T19:03:53.756021Z",
     "start_time": "2018-03-07T19:01:13.723278Z"
    }
   },
   "outputs": [
    {
     "data": {
      "application/vnd.jupyter.widget-view+json": {
       "model_id": "2c62396ee20b4bfc8c6768cf3c1f361a",
       "version_major": 2,
       "version_minor": 0
      },
      "text/html": [
       "<p>Failed to display Jupyter Widget of type <code>HBox</code>.</p>\n",
       "<p>\n",
       "  If you're reading this message in the Jupyter Notebook or JupyterLab Notebook, it may mean\n",
       "  that the widgets JavaScript is still loading. If this message persists, it\n",
       "  likely means that the widgets JavaScript library is either not installed or\n",
       "  not enabled. See the <a href=\"https://ipywidgets.readthedocs.io/en/stable/user_install.html\">Jupyter\n",
       "  Widgets Documentation</a> for setup instructions.\n",
       "</p>\n",
       "<p>\n",
       "  If you're reading this message in another frontend (for example, a static\n",
       "  rendering on GitHub or <a href=\"https://nbviewer.jupyter.org/\">NBViewer</a>),\n",
       "  it may mean that your frontend doesn't currently support widgets.\n",
       "</p>\n"
      ],
      "text/plain": [
       "HBox(children=(IntProgress(value=0, description='Epoch', max=3), HTML(value='')))"
      ]
     },
     "metadata": {},
     "output_type": "display_data"
    },
    {
     "name": "stdout",
     "output_type": "stream",
     "text": [
      "epoch      trn_loss   val_loss   accuracy                  \n",
      "    0      0.358936   0.250336   0.916667  \n",
      "    1      0.285731   0.227374   0.921354                  \n",
      "    2      0.255433   0.217117   0.927604                  \n",
      "\n"
     ]
    },
    {
     "data": {
      "text/plain": [
       "[0.21711692, 0.9276041686534882]"
      ]
     },
     "execution_count": 10,
     "metadata": {},
     "output_type": "execute_result"
    }
   ],
   "source": [
    "learn.set_data(get_data(250))\n",
    "learn.freeze()\n",
    "learn.fit(lr, 3, cycle_len=1)"
   ]
  },
  {
   "cell_type": "code",
   "execution_count": 11,
   "metadata": {
    "ExecuteTime": {
     "end_time": "2018-03-07T19:19:14.653954Z",
     "start_time": "2018-03-07T19:03:53.757478Z"
    }
   },
   "outputs": [
    {
     "data": {
      "application/vnd.jupyter.widget-view+json": {
       "model_id": "f9d24483cb014c068bd99630f9bd2d8a",
       "version_major": 2,
       "version_minor": 0
      },
      "text/html": [
       "<p>Failed to display Jupyter Widget of type <code>HBox</code>.</p>\n",
       "<p>\n",
       "  If you're reading this message in the Jupyter Notebook or JupyterLab Notebook, it may mean\n",
       "  that the widgets JavaScript is still loading. If this message persists, it\n",
       "  likely means that the widgets JavaScript library is either not installed or\n",
       "  not enabled. See the <a href=\"https://ipywidgets.readthedocs.io/en/stable/user_install.html\">Jupyter\n",
       "  Widgets Documentation</a> for setup instructions.\n",
       "</p>\n",
       "<p>\n",
       "  If you're reading this message in another frontend (for example, a static\n",
       "  rendering on GitHub or <a href=\"https://nbviewer.jupyter.org/\">NBViewer</a>),\n",
       "  it may mean that your frontend doesn't currently support widgets.\n",
       "</p>\n"
      ],
      "text/plain": [
       "HBox(children=(IntProgress(value=0, description='Epoch', max=7), HTML(value='')))"
      ]
     },
     "metadata": {},
     "output_type": "display_data"
    },
    {
     "name": "stdout",
     "output_type": "stream",
     "text": [
      "epoch      trn_loss   val_loss   accuracy                  \n",
      "    0      0.213299   0.13944    0.954167  \n",
      "    1      0.171639   0.105602   0.960938                  \n",
      "    2      0.124713   0.08888    0.976562                  \n",
      "    3      0.132706   0.091723   0.970312                  \n",
      "    4      0.103488   0.070506   0.972917                  \n",
      "    5      0.077904   0.046792   0.9875                     \n",
      "    6      0.069373   0.051079   0.9875                     \n",
      "\n"
     ]
    }
   ],
   "source": [
    "learn.unfreeze()\n",
    "learn.fit(lrs, 3, cycle_len=1, cycle_mult=2)\n",
    "learn.save('250_v4')"
   ]
  },
  {
   "cell_type": "code",
   "execution_count": 8,
   "metadata": {
    "ExecuteTime": {
     "end_time": "2018-03-07T20:55:07.250387Z",
     "start_time": "2018-03-07T20:49:07.884956Z"
    }
   },
   "outputs": [
    {
     "data": {
      "application/vnd.jupyter.widget-view+json": {
       "model_id": "a960b75bd41f4d1bad9578ae7d0254f5",
       "version_major": 2,
       "version_minor": 0
      },
      "text/html": [
       "<p>Failed to display Jupyter Widget of type <code>HBox</code>.</p>\n",
       "<p>\n",
       "  If you're reading this message in the Jupyter Notebook or JupyterLab Notebook, it may mean\n",
       "  that the widgets JavaScript is still loading. If this message persists, it\n",
       "  likely means that the widgets JavaScript library is either not installed or\n",
       "  not enabled. See the <a href=\"https://ipywidgets.readthedocs.io/en/stable/user_install.html\">Jupyter\n",
       "  Widgets Documentation</a> for setup instructions.\n",
       "</p>\n",
       "<p>\n",
       "  If you're reading this message in another frontend (for example, a static\n",
       "  rendering on GitHub or <a href=\"https://nbviewer.jupyter.org/\">NBViewer</a>),\n",
       "  it may mean that your frontend doesn't currently support widgets.\n",
       "</p>\n"
      ],
      "text/plain": [
       "HBox(children=(IntProgress(value=0, description='Epoch', max=3), HTML(value='')))"
      ]
     },
     "metadata": {},
     "output_type": "display_data"
    },
    {
     "name": "stdout",
     "output_type": "stream",
     "text": [
      "epoch      trn_loss   val_loss   accuracy                     \n",
      "    0      0.098995   0.062962   0.987302  \n",
      "    1      0.085703   0.060021   0.985714                     \n",
      "    2      0.086866   0.058244   0.987302                     \n",
      "\n"
     ]
    },
    {
     "data": {
      "text/plain": [
       "[0.058244042, 0.9873015880584717]"
      ]
     },
     "execution_count": 8,
     "metadata": {},
     "output_type": "execute_result"
    }
   ],
   "source": [
    "learn.load('250_v4')\n",
    "learn.set_data(get_data(400, 45))\n",
    "learn.freeze()\n",
    "learn.fit(lr, 3, cycle_len=1)"
   ]
  },
  {
   "cell_type": "code",
   "execution_count": 9,
   "metadata": {
    "ExecuteTime": {
     "end_time": "2018-03-07T21:32:29.282083Z",
     "start_time": "2018-03-07T20:55:17.811483Z"
    }
   },
   "outputs": [
    {
     "data": {
      "application/vnd.jupyter.widget-view+json": {
       "model_id": "6940b3ad86884c4682b5ed1a44110335",
       "version_major": 2,
       "version_minor": 0
      },
      "text/html": [
       "<p>Failed to display Jupyter Widget of type <code>HBox</code>.</p>\n",
       "<p>\n",
       "  If you're reading this message in the Jupyter Notebook or JupyterLab Notebook, it may mean\n",
       "  that the widgets JavaScript is still loading. If this message persists, it\n",
       "  likely means that the widgets JavaScript library is either not installed or\n",
       "  not enabled. See the <a href=\"https://ipywidgets.readthedocs.io/en/stable/user_install.html\">Jupyter\n",
       "  Widgets Documentation</a> for setup instructions.\n",
       "</p>\n",
       "<p>\n",
       "  If you're reading this message in another frontend (for example, a static\n",
       "  rendering on GitHub or <a href=\"https://nbviewer.jupyter.org/\">NBViewer</a>),\n",
       "  it may mean that your frontend doesn't currently support widgets.\n",
       "</p>\n"
      ],
      "text/plain": [
       "HBox(children=(IntProgress(value=0, description='Epoch', max=7), HTML(value='')))"
      ]
     },
     "metadata": {},
     "output_type": "display_data"
    },
    {
     "name": "stdout",
     "output_type": "stream",
     "text": [
      "epoch      trn_loss   val_loss   accuracy                    \n",
      "    0      0.216132   0.120531   0.956667  \n",
      "    1      0.215294   0.123722   0.963333                    \n",
      "    2      0.118022   0.074163   0.985                       \n",
      "    3      0.20882    0.157494   0.951667                    \n",
      "    4      0.162244   0.056359   0.986667                    \n",
      "    5      0.086652   0.051035   0.99                         \n",
      "    6      0.07446    0.042237   0.99                         \n",
      "\n"
     ]
    }
   ],
   "source": [
    "learn.set_data(get_data(400, 20))\n",
    "learn.unfreeze()\n",
    "learn.fit(lrs, 3, cycle_len=1, cycle_mult=2)\n",
    "learn.save('400_v4')"
   ]
  },
  {
   "cell_type": "code",
   "execution_count": 10,
   "metadata": {
    "ExecuteTime": {
     "end_time": "2018-03-07T21:50:52.114404Z",
     "start_time": "2018-03-07T21:33:13.427566Z"
    }
   },
   "outputs": [
    {
     "data": {
      "application/vnd.jupyter.widget-view+json": {
       "model_id": "32de25ad8b7744c5b6cd2d4b751e614f",
       "version_major": 2,
       "version_minor": 0
      },
      "text/html": [
       "<p>Failed to display Jupyter Widget of type <code>HBox</code>.</p>\n",
       "<p>\n",
       "  If you're reading this message in the Jupyter Notebook or JupyterLab Notebook, it may mean\n",
       "  that the widgets JavaScript is still loading. If this message persists, it\n",
       "  likely means that the widgets JavaScript library is either not installed or\n",
       "  not enabled. See the <a href=\"https://ipywidgets.readthedocs.io/en/stable/user_install.html\">Jupyter\n",
       "  Widgets Documentation</a> for setup instructions.\n",
       "</p>\n",
       "<p>\n",
       "  If you're reading this message in another frontend (for example, a static\n",
       "  rendering on GitHub or <a href=\"https://nbviewer.jupyter.org/\">NBViewer</a>),\n",
       "  it may mean that your frontend doesn't currently support widgets.\n",
       "</p>\n"
      ],
      "text/plain": [
       "HBox(children=(IntProgress(value=0, description='Epoch', max=9), HTML(value='')))"
      ]
     },
     "metadata": {},
     "output_type": "display_data"
    },
    {
     "name": "stdout",
     "output_type": "stream",
     "text": [
      "epoch      trn_loss   val_loss   accuracy                     \n",
      "    0      0.045656   0.038337   0.99      \n",
      "    1      0.055991   0.033197   0.99                         \n",
      "    2      0.040366   0.034715   0.99                         \n",
      "    3      0.050763   0.030847   0.99                         \n",
      "    4      0.044116   0.02999    0.99                         \n",
      "    5      0.046029   0.031742   0.99                         \n",
      "    6      0.047259   0.031147   0.99                         \n",
      "    7      0.042571   0.026043   0.99                         \n",
      "    8      0.047502   0.025312   0.99                         \n",
      "\n"
     ]
    },
    {
     "data": {
      "text/plain": [
       "[0.02531221, 0.9899999976158143]"
      ]
     },
     "execution_count": 10,
     "metadata": {},
     "output_type": "execute_result"
    }
   ],
   "source": [
    "learn.freeze()\n",
    "learn.fit(lr, 3, cycle_len=3)"
   ]
  },
  {
   "cell_type": "code",
   "execution_count": 11,
   "metadata": {
    "ExecuteTime": {
     "end_time": "2018-03-07T21:53:43.372200Z",
     "start_time": "2018-03-07T21:53:43.260881Z"
    }
   },
   "outputs": [],
   "source": [
    "learn.save('400_v4_.989')"
   ]
  },
  {
   "cell_type": "code",
   "execution_count": 12,
   "metadata": {
    "ExecuteTime": {
     "end_time": "2018-03-07T21:55:02.467097Z",
     "start_time": "2018-03-07T21:53:45.090330Z"
    },
    "scrolled": false
   },
   "outputs": [
    {
     "name": "stdout",
     "output_type": "stream",
     "text": [
      "                                             \r"
     ]
    }
   ],
   "source": [
    "log_preds,y = learn.TTA(is_test=True)\n",
    "probs = np.mean(np.exp(log_preds),0)"
   ]
  },
  {
   "cell_type": "markdown",
   "metadata": {},
   "source": [
    "## Create csv with results"
   ]
  },
  {
   "cell_type": "code",
   "execution_count": 13,
   "metadata": {
    "ExecuteTime": {
     "end_time": "2018-03-07T21:57:55.788817Z",
     "start_time": "2018-03-07T21:57:55.772310Z"
    }
   },
   "outputs": [],
   "source": [
    "classes = learn.data.classes\n",
    "choices = np.argmax(probs, axis=1)\n",
    "# Returns the indices of the maximum values along an axis\n",
    "\n",
    "res = []\n",
    "for i in np.nditer(choices):\n",
    "    res.append(classes[i])"
   ]
  },
  {
   "cell_type": "code",
   "execution_count": 14,
   "metadata": {
    "ExecuteTime": {
     "end_time": "2018-03-07T21:57:57.593856Z",
     "start_time": "2018-03-07T21:57:57.576442Z"
    }
   },
   "outputs": [],
   "source": [
    "df = pd.DataFrame(res)"
   ]
  },
  {
   "cell_type": "code",
   "execution_count": 15,
   "metadata": {
    "ExecuteTime": {
     "end_time": "2018-03-07T21:57:58.779074Z",
     "start_time": "2018-03-07T21:57:58.762168Z"
    }
   },
   "outputs": [],
   "source": [
    "df.insert(0, 'file', [n[5:] for n in learn.data.test_ds.fnames])\n",
    "# subset the string (remove 'test/')"
   ]
  },
  {
   "cell_type": "code",
   "execution_count": 16,
   "metadata": {
    "ExecuteTime": {
     "end_time": "2018-03-07T21:58:01.043668Z",
     "start_time": "2018-03-07T21:58:01.028007Z"
    }
   },
   "outputs": [],
   "source": [
    "df.columns = ['file','species']"
   ]
  },
  {
   "cell_type": "code",
   "execution_count": 17,
   "metadata": {
    "ExecuteTime": {
     "end_time": "2018-03-07T21:58:12.148674Z",
     "start_time": "2018-03-07T21:58:12.127933Z"
    }
   },
   "outputs": [],
   "source": [
    "SUBM = f'{PATH}subm/'\n",
    "os.makedirs(SUBM, exist_ok=True)\n",
    "df.to_csv(f'{SUBM}subm_v4.csv', index=False)"
   ]
  },
  {
   "cell_type": "code",
   "execution_count": 18,
   "metadata": {
    "ExecuteTime": {
     "end_time": "2018-03-07T21:59:53.000226Z",
     "start_time": "2018-03-07T21:59:49.757706Z"
    }
   },
   "outputs": [
    {
     "name": "stdout",
     "output_type": "stream",
     "text": [
      "0.98236\r\n"
     ]
    }
   ],
   "source": [
    "!kg submit {SUBM}'subm_v4.csv' -c plant-seedlings-classification"
   ]
  },
  {
   "cell_type": "code",
   "execution_count": null,
   "metadata": {},
   "outputs": [],
   "source": []
  }
 ],
 "metadata": {
  "kernelspec": {
   "display_name": "Python 3",
   "language": "python",
   "name": "python3"
  },
  "language_info": {
   "codemirror_mode": {
    "name": "ipython",
    "version": 3
   },
   "file_extension": ".py",
   "mimetype": "text/x-python",
   "name": "python",
   "nbconvert_exporter": "python",
   "pygments_lexer": "ipython3",
   "version": "3.6.4"
  },
  "widgets": {
   "application/vnd.jupyter.widget-state+json": {
    "state": {
     "031f5389303b4347aad300e9a13302cd": {
      "model_module": "@jupyter-widgets/base",
      "model_module_version": "1.0.0",
      "model_name": "LayoutModel",
      "state": {}
     },
     "0aac476706f6496190a65f684b0d567a": {
      "model_module": "@jupyter-widgets/controls",
      "model_module_version": "1.0.0",
      "model_name": "HBoxModel",
      "state": {
       "children": [
        "IPY_MODEL_12aa18ea345742ddad91163bb377c024",
        "IPY_MODEL_c9b2b36daf9d4ba8807e55091342ffaa"
       ],
       "layout": "IPY_MODEL_0cb4bb90321148869435416ec141ad98"
      }
     },
     "0cb4bb90321148869435416ec141ad98": {
      "model_module": "@jupyter-widgets/base",
      "model_module_version": "1.0.0",
      "model_name": "LayoutModel",
      "state": {}
     },
     "12aa18ea345742ddad91163bb377c024": {
      "model_module": "@jupyter-widgets/controls",
      "model_module_version": "1.0.0",
      "model_name": "IntProgressModel",
      "state": {
       "bar_style": "success",
       "description": "Epoch",
       "layout": "IPY_MODEL_27720952b69845408ab466eb515fae1b",
       "max": 3,
       "style": "IPY_MODEL_368923162b7b43a29addf41b11147e1e",
       "value": 3
      }
     },
     "19fe7f3ec6984c5a9401ccb983bf1c3d": {
      "model_module": "@jupyter-widgets/controls",
      "model_module_version": "1.0.0",
      "model_name": "HBoxModel",
      "state": {
       "children": [
        "IPY_MODEL_d7cc990311e949f9a0922ac82f062bd1",
        "IPY_MODEL_4ec97bfef434451f96b9ed6bedc3c4ae"
       ],
       "layout": "IPY_MODEL_f8b5bbaa97f54eb4b08edb2cdf80507a"
      }
     },
     "1a590d0711bc4b6aa419e23a898de3a8": {
      "model_module": "@jupyter-widgets/controls",
      "model_module_version": "1.0.0",
      "model_name": "IntProgressModel",
      "state": {
       "bar_style": "success",
       "description": "Epoch",
       "layout": "IPY_MODEL_55a4e37e482f4c02822ab89d449e1855",
       "max": 5,
       "style": "IPY_MODEL_deaf4b8d9dd84a30b4b4124b2958ebd4",
       "value": 5
      }
     },
     "1c3b0ce237c842efad5532a6cd3a6b3f": {
      "model_module": "@jupyter-widgets/controls",
      "model_module_version": "1.0.0",
      "model_name": "HTMLModel",
      "state": {
       "layout": "IPY_MODEL_31c093082bf44b71a0d88ddc992aaa87",
       "style": "IPY_MODEL_6116179263e3451e996ea6d3a9548a2e",
       "value": "100% 5/5 [01:33&lt;00:00, 18.64s/it]"
      }
     },
     "27720952b69845408ab466eb515fae1b": {
      "model_module": "@jupyter-widgets/base",
      "model_module_version": "1.0.0",
      "model_name": "LayoutModel",
      "state": {}
     },
     "31c093082bf44b71a0d88ddc992aaa87": {
      "model_module": "@jupyter-widgets/base",
      "model_module_version": "1.0.0",
      "model_name": "LayoutModel",
      "state": {}
     },
     "368923162b7b43a29addf41b11147e1e": {
      "model_module": "@jupyter-widgets/controls",
      "model_module_version": "1.0.0",
      "model_name": "ProgressStyleModel",
      "state": {
       "description_width": ""
      }
     },
     "3df7ed5e553842eea457210327c5fb97": {
      "model_module": "@jupyter-widgets/base",
      "model_module_version": "1.0.0",
      "model_name": "LayoutModel",
      "state": {}
     },
     "4aa7a09e6ed24954a61359f018cddb24": {
      "model_module": "@jupyter-widgets/controls",
      "model_module_version": "1.0.0",
      "model_name": "HBoxModel",
      "state": {
       "children": [
        "IPY_MODEL_5d29386415634200afb7087a5166299d",
        "IPY_MODEL_a628f81613c542c5bbf84220aee1bbfb"
       ],
       "layout": "IPY_MODEL_f0204fabcc9040fa94cb5f50460b9b03"
      }
     },
     "4b07b514b9f24f3e9ecbec518a6bfc88": {
      "model_module": "@jupyter-widgets/controls",
      "model_module_version": "1.0.0",
      "model_name": "ProgressStyleModel",
      "state": {
       "description_width": ""
      }
     },
     "4b8e7d7d1b6546068df35c227a3a5eae": {
      "model_module": "@jupyter-widgets/controls",
      "model_module_version": "1.0.0",
      "model_name": "HTMLModel",
      "state": {
       "layout": "IPY_MODEL_d38325a9ad604698861905a55e00baa3",
       "style": "IPY_MODEL_b58c8753c2394d06860e7d9744d4ec78",
       "value": " 29% 2/7 [02:56&lt;07:20, 88.03s/it]"
      }
     },
     "4ec97bfef434451f96b9ed6bedc3c4ae": {
      "model_module": "@jupyter-widgets/controls",
      "model_module_version": "1.0.0",
      "model_name": "HTMLModel",
      "state": {
       "layout": "IPY_MODEL_4f7409aee45f4e33bdee78966f4cee63",
       "style": "IPY_MODEL_656c14126bf54fe08c0a989ee4bb543c",
       "value": "100% 3/3 [04:26&lt;00:00, 88.67s/it]"
      }
     },
     "4f7409aee45f4e33bdee78966f4cee63": {
      "model_module": "@jupyter-widgets/base",
      "model_module_version": "1.0.0",
      "model_name": "LayoutModel",
      "state": {}
     },
     "50ab7f308ea7445189796eae43dd09f6": {
      "model_module": "@jupyter-widgets/base",
      "model_module_version": "1.0.0",
      "model_name": "LayoutModel",
      "state": {}
     },
     "55a4e37e482f4c02822ab89d449e1855": {
      "model_module": "@jupyter-widgets/base",
      "model_module_version": "1.0.0",
      "model_name": "LayoutModel",
      "state": {}
     },
     "57927c96d5ba4068acd63c577d2710b3": {
      "model_module": "@jupyter-widgets/controls",
      "model_module_version": "1.0.0",
      "model_name": "HTMLModel",
      "state": {
       "layout": "IPY_MODEL_d17660c2b3654af38ab5b874948fe09e",
       "style": "IPY_MODEL_b1f3393e145547a6a9909b8e498dc166",
       "value": "100% 7/7 [14:53&lt;00:00, 127.68s/it]"
      }
     },
     "57cf63c5daeb4925a188c91f2f293274": {
      "model_module": "@jupyter-widgets/controls",
      "model_module_version": "1.0.0",
      "model_name": "HBoxModel",
      "state": {
       "children": [
        "IPY_MODEL_c35c2561c752419e933b6e3e8b2d378a",
        "IPY_MODEL_57927c96d5ba4068acd63c577d2710b3"
       ],
       "layout": "IPY_MODEL_031f5389303b4347aad300e9a13302cd"
      }
     },
     "5bd64607591c44fba55cecda4caa0f5b": {
      "model_module": "@jupyter-widgets/controls",
      "model_module_version": "1.0.0",
      "model_name": "HBoxModel",
      "state": {
       "children": [
        "IPY_MODEL_9d4029a2aea548fba83e00e25e4f3962",
        "IPY_MODEL_4b8e7d7d1b6546068df35c227a3a5eae"
       ],
       "layout": "IPY_MODEL_97eab7fd272642b68d7653817911b8d7"
      }
     },
     "5d05e04e8806418aadb90d7a41ebf0e7": {
      "model_module": "@jupyter-widgets/base",
      "model_module_version": "1.0.0",
      "model_name": "LayoutModel",
      "state": {}
     },
     "5d29386415634200afb7087a5166299d": {
      "model_module": "@jupyter-widgets/controls",
      "model_module_version": "1.0.0",
      "model_name": "IntProgressModel",
      "state": {
       "bar_style": "success",
       "description": "Epoch",
       "layout": "IPY_MODEL_50ab7f308ea7445189796eae43dd09f6",
       "max": 7,
       "style": "IPY_MODEL_b3c45c269aad4a53903fb01fd4bcba8b",
       "value": 7
      }
     },
     "5f4df88cd0c84b4d850247d193e8afd3": {
      "model_module": "@jupyter-widgets/base",
      "model_module_version": "1.0.0",
      "model_name": "LayoutModel",
      "state": {}
     },
     "6116179263e3451e996ea6d3a9548a2e": {
      "model_module": "@jupyter-widgets/controls",
      "model_module_version": "1.0.0",
      "model_name": "DescriptionStyleModel",
      "state": {
       "description_width": ""
      }
     },
     "656c14126bf54fe08c0a989ee4bb543c": {
      "model_module": "@jupyter-widgets/controls",
      "model_module_version": "1.0.0",
      "model_name": "DescriptionStyleModel",
      "state": {
       "description_width": ""
      }
     },
     "78b410d1feac43deb71ca1c9fcabef5e": {
      "model_module": "@jupyter-widgets/base",
      "model_module_version": "1.0.0",
      "model_name": "LayoutModel",
      "state": {}
     },
     "7cab7bd1e1394e6892a3e8e1833d9308": {
      "model_module": "@jupyter-widgets/controls",
      "model_module_version": "1.0.0",
      "model_name": "ProgressStyleModel",
      "state": {
       "description_width": ""
      }
     },
     "876f5f1c2c5a4893845afe1d656763ad": {
      "model_module": "@jupyter-widgets/controls",
      "model_module_version": "1.0.0",
      "model_name": "DescriptionStyleModel",
      "state": {
       "description_width": ""
      }
     },
     "8ef3879da4f34276b0afeb36f1600316": {
      "model_module": "@jupyter-widgets/base",
      "model_module_version": "1.0.0",
      "model_name": "LayoutModel",
      "state": {}
     },
     "94902e679da34f5b93069bc02fd40ee6": {
      "model_module": "@jupyter-widgets/controls",
      "model_module_version": "1.0.0",
      "model_name": "ProgressStyleModel",
      "state": {
       "description_width": ""
      }
     },
     "97eab7fd272642b68d7653817911b8d7": {
      "model_module": "@jupyter-widgets/base",
      "model_module_version": "1.0.0",
      "model_name": "LayoutModel",
      "state": {}
     },
     "9a5b2979762345a2bdeff9f2b08a085b": {
      "model_module": "@jupyter-widgets/controls",
      "model_module_version": "1.0.0",
      "model_name": "HBoxModel",
      "state": {
       "children": [
        "IPY_MODEL_1a590d0711bc4b6aa419e23a898de3a8",
        "IPY_MODEL_1c3b0ce237c842efad5532a6cd3a6b3f"
       ],
       "layout": "IPY_MODEL_3df7ed5e553842eea457210327c5fb97"
      }
     },
     "9d4029a2aea548fba83e00e25e4f3962": {
      "model_module": "@jupyter-widgets/controls",
      "model_module_version": "1.0.0",
      "model_name": "IntProgressModel",
      "state": {
       "bar_style": "danger",
       "description": "Epoch",
       "layout": "IPY_MODEL_78b410d1feac43deb71ca1c9fcabef5e",
       "max": 7,
       "style": "IPY_MODEL_4b07b514b9f24f3e9ecbec518a6bfc88",
       "value": 2
      }
     },
     "a628f81613c542c5bbf84220aee1bbfb": {
      "model_module": "@jupyter-widgets/controls",
      "model_module_version": "1.0.0",
      "model_name": "HTMLModel",
      "state": {
       "layout": "IPY_MODEL_5d05e04e8806418aadb90d7a41ebf0e7",
       "style": "IPY_MODEL_bfd8063ef57944e2a785825f1d3d8e13",
       "value": "100% 7/7 [04:30&lt;00:00, 38.59s/it]"
      }
     },
     "ad99cd2079104184864fb0e015da2a9c": {
      "model_module": "@jupyter-widgets/base",
      "model_module_version": "1.0.0",
      "model_name": "LayoutModel",
      "state": {}
     },
     "b1f3393e145547a6a9909b8e498dc166": {
      "model_module": "@jupyter-widgets/controls",
      "model_module_version": "1.0.0",
      "model_name": "DescriptionStyleModel",
      "state": {
       "description_width": ""
      }
     },
     "b3c45c269aad4a53903fb01fd4bcba8b": {
      "model_module": "@jupyter-widgets/controls",
      "model_module_version": "1.0.0",
      "model_name": "ProgressStyleModel",
      "state": {
       "description_width": ""
      }
     },
     "b58c8753c2394d06860e7d9744d4ec78": {
      "model_module": "@jupyter-widgets/controls",
      "model_module_version": "1.0.0",
      "model_name": "DescriptionStyleModel",
      "state": {
       "description_width": ""
      }
     },
     "bfd8063ef57944e2a785825f1d3d8e13": {
      "model_module": "@jupyter-widgets/controls",
      "model_module_version": "1.0.0",
      "model_name": "DescriptionStyleModel",
      "state": {
       "description_width": ""
      }
     },
     "c35c2561c752419e933b6e3e8b2d378a": {
      "model_module": "@jupyter-widgets/controls",
      "model_module_version": "1.0.0",
      "model_name": "IntProgressModel",
      "state": {
       "bar_style": "success",
       "description": "Epoch",
       "layout": "IPY_MODEL_5f4df88cd0c84b4d850247d193e8afd3",
       "max": 7,
       "style": "IPY_MODEL_94902e679da34f5b93069bc02fd40ee6",
       "value": 7
      }
     },
     "c9b2b36daf9d4ba8807e55091342ffaa": {
      "model_module": "@jupyter-widgets/controls",
      "model_module_version": "1.0.0",
      "model_name": "HTMLModel",
      "state": {
       "layout": "IPY_MODEL_8ef3879da4f34276b0afeb36f1600316",
       "style": "IPY_MODEL_876f5f1c2c5a4893845afe1d656763ad",
       "value": "100% 3/3 [02:36&lt;00:00, 52.27s/it]"
      }
     },
     "d17660c2b3654af38ab5b874948fe09e": {
      "model_module": "@jupyter-widgets/base",
      "model_module_version": "1.0.0",
      "model_name": "LayoutModel",
      "state": {}
     },
     "d38325a9ad604698861905a55e00baa3": {
      "model_module": "@jupyter-widgets/base",
      "model_module_version": "1.0.0",
      "model_name": "LayoutModel",
      "state": {}
     },
     "d7cc990311e949f9a0922ac82f062bd1": {
      "model_module": "@jupyter-widgets/controls",
      "model_module_version": "1.0.0",
      "model_name": "IntProgressModel",
      "state": {
       "bar_style": "success",
       "description": "Epoch",
       "layout": "IPY_MODEL_ad99cd2079104184864fb0e015da2a9c",
       "max": 3,
       "style": "IPY_MODEL_7cab7bd1e1394e6892a3e8e1833d9308",
       "value": 3
      }
     },
     "deaf4b8d9dd84a30b4b4124b2958ebd4": {
      "model_module": "@jupyter-widgets/controls",
      "model_module_version": "1.0.0",
      "model_name": "ProgressStyleModel",
      "state": {
       "description_width": ""
      }
     },
     "f0204fabcc9040fa94cb5f50460b9b03": {
      "model_module": "@jupyter-widgets/base",
      "model_module_version": "1.0.0",
      "model_name": "LayoutModel",
      "state": {}
     },
     "f8b5bbaa97f54eb4b08edb2cdf80507a": {
      "model_module": "@jupyter-widgets/base",
      "model_module_version": "1.0.0",
      "model_name": "LayoutModel",
      "state": {}
     }
    },
    "version_major": 2,
    "version_minor": 0
   }
  }
 },
 "nbformat": 4,
 "nbformat_minor": 2
}
