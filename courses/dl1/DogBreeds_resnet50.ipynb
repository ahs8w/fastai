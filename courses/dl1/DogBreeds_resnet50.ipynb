{
 "cells": [
  {
   "cell_type": "code",
   "execution_count": 1,
   "metadata": {},
   "outputs": [],
   "source": [
    "# Put these at the top of every notebook, to get automatic reloading and inline plotting\n",
    "%reload_ext autoreload\n",
    "%autoreload 2\n",
    "%matplotlib inline"
   ]
  },
  {
   "cell_type": "code",
   "execution_count": 2,
   "metadata": {},
   "outputs": [],
   "source": [
    "# This file contains all the main external libs we'll use\n",
    "from fastai.imports import *\n",
    "from fastai.transforms import *\n",
    "from fastai.conv_learner import *\n",
    "from fastai.model import *\n",
    "from fastai.dataset import *\n",
    "from fastai.sgdr import *\n",
    "from fastai.plots import *"
   ]
  },
  {
   "cell_type": "code",
   "execution_count": 3,
   "metadata": {},
   "outputs": [],
   "source": [
    "# architecture variables\n",
    "PATH = \"data/dog_breeds/\"\n",
    "\n",
    "arch=resnet50\n",
    "sz=200\n",
    "bs=64"
   ]
  },
  {
   "cell_type": "code",
   "execution_count": 4,
   "metadata": {},
   "outputs": [],
   "source": [
    "# get cross validation indexes of labels\n",
    "label_csv = f'{PATH}labels.csv'\n",
    "n = len(list(open(label_csv)))-1\n",
    "val_idxs = get_cv_idxs(n)"
   ]
  },
  {
   "cell_type": "code",
   "execution_count": 5,
   "metadata": {},
   "outputs": [],
   "source": [
    "# model variables\n",
    "def get_data(sz, bs):\n",
    "    tfms = tfms_from_model(arch, sz=sz, aug_tfms=transforms_side_on, max_zoom=1.1)\n",
    "    data = ImageClassifierData.from_csv(PATH, 'train', label_csv, bs=bs, tfms=tfms, val_idxs=val_idxs,\n",
    "                                       suffix='.jpg', test_name='test')\n",
    "    return data"
   ]
  },
  {
   "cell_type": "code",
   "execution_count": 6,
   "metadata": {},
   "outputs": [],
   "source": [
    "# dataset\n",
    "data = get_data(sz, bs)"
   ]
  },
  {
   "cell_type": "code",
   "execution_count": 7,
   "metadata": {},
   "outputs": [],
   "source": [
    "# Train last layer\n",
    "learn = ConvLearner.pretrained(arch, data, ps=0.5)\n",
    "\n",
    "# ps -> dropout parameters\n",
    "# hyperparameter to control overfitting (train loss < val loss) by dropping random % of nodes in a layer"
   ]
  },
  {
   "cell_type": "code",
   "execution_count": 10,
   "metadata": {},
   "outputs": [
    {
     "data": {
      "image/png": "[encoded data removed]",
      "text/plain": [
       "<matplotlib.figure.Figure at 0x7f35812f8c18>"
      ]
     },
     "metadata": {},
     "output_type": "display_data"
    }
   ],
   "source": [
    "learn.lr_find()\n",
    "learn.sched.plot_lr()\n",
    "learn.sched.plot()"
   ]
  },
  {
   "cell_type": "code",
   "execution_count": 11,
   "metadata": {},
   "outputs": [],
   "source": [
    "lr = 1e-1"
   ]
  },
  {
   "cell_type": "code",
   "execution_count": 12,
   "metadata": {},
   "outputs": [
    {
     "data": {
      "application/vnd.jupyter.widget-view+json": {
       "model_id": "e307a44d870e41fcabc46cf0de5e500b",
       "version_major": 2,
       "version_minor": 0
      },
      "text/html": [
       "<p>Failed to display Jupyter Widget of type <code>HBox</code>.</p>\n",
       "<p>\n",
       "  If you're reading this message in the Jupyter Notebook or JupyterLab Notebook, it may mean\n",
       "  that the widgets JavaScript is still loading. If this message persists, it\n",
       "  likely means that the widgets JavaScript library is either not installed or\n",
       "  not enabled. See the <a href=\"https://ipywidgets.readthedocs.io/en/stable/user_install.html\">Jupyter\n",
       "  Widgets Documentation</a> for setup instructions.\n",
       "</p>\n",
       "<p>\n",
       "  If you're reading this message in another frontend (for example, a static\n",
       "  rendering on GitHub or <a href=\"https://nbviewer.jupyter.org/\">NBViewer</a>),\n",
       "  it may mean that your frontend doesn't currently support widgets.\n",
       "</p>\n"
      ],
      "text/plain": [
       "HBox(children=(IntProgress(value=0, description='Epoch', max=5), HTML(value='')))"
      ]
     },
     "metadata": {},
     "output_type": "display_data"
    },
    {
     "name": "stdout",
     "output_type": "stream",
     "text": [
      "[0.      2.24411 1.61871 0.56805]                         \n",
      "[1.      1.79941 1.52463 0.57567]                         \n",
      "[2.      1.64031 1.49737 0.58593]                         \n",
      "[3.      1.54628 1.45372 0.59697]                         \n",
      "[4.      1.45879 1.44888 0.59056]                         \n",
      "\n"
     ]
    }
   ],
   "source": [
    "learn.fit(lr, 5)"
   ]
  },
  {
   "cell_type": "code",
   "execution_count": 13,
   "metadata": {},
   "outputs": [
    {
     "data": {
      "application/vnd.jupyter.widget-view+json": {
       "model_id": "a2d132fe6f434b4cbd083d00d8200b81",
       "version_major": 2,
       "version_minor": 0
      },
      "text/html": [
       "<p>Failed to display Jupyter Widget of type <code>HBox</code>.</p>\n",
       "<p>\n",
       "  If you're reading this message in the Jupyter Notebook or JupyterLab Notebook, it may mean\n",
       "  that the widgets JavaScript is still loading. If this message persists, it\n",
       "  likely means that the widgets JavaScript library is either not installed or\n",
       "  not enabled. See the <a href=\"https://ipywidgets.readthedocs.io/en/stable/user_install.html\">Jupyter\n",
       "  Widgets Documentation</a> for setup instructions.\n",
       "</p>\n",
       "<p>\n",
       "  If you're reading this message in another frontend (for example, a static\n",
       "  rendering on GitHub or <a href=\"https://nbviewer.jupyter.org/\">NBViewer</a>),\n",
       "  it may mean that your frontend doesn't currently support widgets.\n",
       "</p>\n"
      ],
      "text/plain": [
       "HBox(children=(IntProgress(value=0, description='Epoch', max=7), HTML(value='')))"
      ]
     },
     "metadata": {},
     "output_type": "display_data"
    },
    {
     "name": "stdout",
     "output_type": "stream",
     "text": [
      "[0.      2.05372 1.59341 0.56377]                         \n",
      "[1.      1.77197 1.59973 0.55281]                         \n",
      "[2.      1.19329 1.34195 0.6168 ]                         \n",
      "[3.      1.37093 2.01166 0.49351]                         \n",
      "[4.      1.11145 1.53619 0.58342]                         \n",
      "[5.      0.72934 1.39836 0.6287 ]                          \n",
      "[6.      0.50742 1.36139 0.64156]                          \n",
      "\n"
     ]
    }
   ],
   "source": [
    "learn.fit(lr, 3, cycle_len=1, cycle_mult=2)\n",
    "learn.save('224')"
   ]
  },
  {
   "cell_type": "code",
   "execution_count": 14,
   "metadata": {},
   "outputs": [
    {
     "data": {
      "application/vnd.jupyter.widget-view+json": {
       "model_id": "5eb9d7ab87f349dbb36b9ee5931586ca",
       "version_major": 2,
       "version_minor": 0
      },
      "text/html": [
       "<p>Failed to display Jupyter Widget of type <code>HBox</code>.</p>\n",
       "<p>\n",
       "  If you're reading this message in the Jupyter Notebook or JupyterLab Notebook, it may mean\n",
       "  that the widgets JavaScript is still loading. If this message persists, it\n",
       "  likely means that the widgets JavaScript library is either not installed or\n",
       "  not enabled. See the <a href=\"https://ipywidgets.readthedocs.io/en/stable/user_install.html\">Jupyter\n",
       "  Widgets Documentation</a> for setup instructions.\n",
       "</p>\n",
       "<p>\n",
       "  If you're reading this message in another frontend (for example, a static\n",
       "  rendering on GitHub or <a href=\"https://nbviewer.jupyter.org/\">NBViewer</a>),\n",
       "  it may mean that your frontend doesn't currently support widgets.\n",
       "</p>\n"
      ],
      "text/plain": [
       "HBox(children=(IntProgress(value=0, description='Epoch', max=3), HTML(value='')))"
      ]
     },
     "metadata": {},
     "output_type": "display_data"
    },
    {
     "name": "stdout",
     "output_type": "stream",
     "text": [
      "[0.      0.62243 0.7711  0.76952]                            \n",
      "[1.      0.58496 0.76    0.77905]                            \n",
      "[2.      0.54907 0.76137 0.77762]                            \n",
      "\n"
     ]
    }
   ],
   "source": [
    "learn.set_data(get_data(330, 30))\n",
    "learn.fit(lr, 3, cycle_len=1, cycle_mult=2)\n",
    "learn.save('330')"
   ]
  },
  {
   "cell_type": "code",
   "execution_count": null,
   "metadata": {},
   "outputs": [],
   "source": [
    "learn.set_data(get_data(400, 30))\n",
    "learn.fit(lr, 3, cycle_len=1)"
   ]
  },
  {
   "cell_type": "code",
   "execution_count": 18,
   "metadata": {},
   "outputs": [
    {
     "name": "stdout",
     "output_type": "stream",
     "text": [
      "                                              \r"
     ]
    },
    {
     "data": {
      "text/plain": [
       "0.006662160857391137"
      ]
     },
     "execution_count": 18,
     "metadata": {},
     "output_type": "execute_result"
    }
   ],
   "source": [
    "# Test Time Augmentation\n",
    "\n",
    "log_preds,y = learn.TTA(is_test=True)\n",
    "probs = np.mean(np.exp(log_preds),0)\n",
    "accuracy(probs,y)"
   ]
  },
  {
   "cell_type": "code",
   "execution_count": 25,
   "metadata": {},
   "outputs": [],
   "source": [
    "df = pd.DataFrame(probs)\n",
    "df.columns = learn.data.classes\n",
    "df.insert(0, 'id', [o[5:-4] for o in learn.data.test_ds.fnames])"
   ]
  },
  {
   "cell_type": "code",
   "execution_count": 26,
   "metadata": {},
   "outputs": [
    {
     "data": {
      "text/html": [
       "<div>\n",
       "<style scoped>\n",
       "    .dataframe tbody tr th:only-of-type {\n",
       "        vertical-align: middle;\n",
       "    }\n",
       "\n",
       "    .dataframe tbody tr th {\n",
       "        vertical-align: top;\n",
       "    }\n",
       "\n",
       "    .dataframe thead th {\n",
       "        text-align: right;\n",
       "    }\n",
       "</style>\n",
       "<table border=\"1\" class=\"dataframe\">\n",
       "  <thead>\n",
       "    <tr style=\"text-align: right;\">\n",
       "      <th></th>\n",
       "      <th>id</th>\n",
       "      <th>affenpinscher</th>\n",
       "      <th>afghan_hound</th>\n",
       "      <th>african_hunting_dog</th>\n",
       "      <th>airedale</th>\n",
       "      <th>american_staffordshire_terrier</th>\n",
       "      <th>appenzeller</th>\n",
       "      <th>australian_terrier</th>\n",
       "      <th>basenji</th>\n",
       "      <th>basset</th>\n",
       "      <th>...</th>\n",
       "      <th>toy_poodle</th>\n",
       "      <th>toy_terrier</th>\n",
       "      <th>vizsla</th>\n",
       "      <th>walker_hound</th>\n",
       "      <th>weimaraner</th>\n",
       "      <th>welsh_springer_spaniel</th>\n",
       "      <th>west_highland_white_terrier</th>\n",
       "      <th>whippet</th>\n",
       "      <th>wire-haired_fox_terrier</th>\n",
       "      <th>yorkshire_terrier</th>\n",
       "    </tr>\n",
       "  </thead>\n",
       "  <tbody>\n",
       "    <tr>\n",
       "      <th>0</th>\n",
       "      <td>de084b830010b6107215fef5d4a75b94</td>\n",
       "      <td>1.823484e-11</td>\n",
       "      <td>1.394909e-07</td>\n",
       "      <td>4.103534e-10</td>\n",
       "      <td>4.380160e-08</td>\n",
       "      <td>2.605817e-10</td>\n",
       "      <td>1.020717e-09</td>\n",
       "      <td>3.530714e-10</td>\n",
       "      <td>1.573237e-10</td>\n",
       "      <td>9.892961e-11</td>\n",
       "      <td>...</td>\n",
       "      <td>8.912542e-12</td>\n",
       "      <td>1.201676e-12</td>\n",
       "      <td>1.217682e-10</td>\n",
       "      <td>5.759350e-10</td>\n",
       "      <td>6.381653e-09</td>\n",
       "      <td>1.827307e-11</td>\n",
       "      <td>2.796822e-08</td>\n",
       "      <td>1.218700e-07</td>\n",
       "      <td>1.704971e-09</td>\n",
       "      <td>5.188032e-11</td>\n",
       "    </tr>\n",
       "    <tr>\n",
       "      <th>1</th>\n",
       "      <td>6b423ca7020e70eb05732843c5d2bad1</td>\n",
       "      <td>2.349306e-08</td>\n",
       "      <td>3.421273e-09</td>\n",
       "      <td>7.740203e-10</td>\n",
       "      <td>1.185739e-07</td>\n",
       "      <td>1.228176e-09</td>\n",
       "      <td>7.702597e-10</td>\n",
       "      <td>2.227327e-09</td>\n",
       "      <td>4.853053e-08</td>\n",
       "      <td>4.085577e-11</td>\n",
       "      <td>...</td>\n",
       "      <td>1.656781e-09</td>\n",
       "      <td>4.142947e-10</td>\n",
       "      <td>8.243625e-10</td>\n",
       "      <td>2.093070e-10</td>\n",
       "      <td>1.378135e-09</td>\n",
       "      <td>3.981084e-11</td>\n",
       "      <td>7.650399e-08</td>\n",
       "      <td>2.463987e-08</td>\n",
       "      <td>6.134023e-07</td>\n",
       "      <td>4.934427e-11</td>\n",
       "    </tr>\n",
       "    <tr>\n",
       "      <th>2</th>\n",
       "      <td>74aa7e201e0e93e13e87b986a7d31839</td>\n",
       "      <td>3.804424e-06</td>\n",
       "      <td>3.866229e-07</td>\n",
       "      <td>1.808914e-08</td>\n",
       "      <td>9.408192e-03</td>\n",
       "      <td>3.692712e-06</td>\n",
       "      <td>1.289023e-07</td>\n",
       "      <td>1.152652e-05</td>\n",
       "      <td>3.846069e-05</td>\n",
       "      <td>9.806897e-08</td>\n",
       "      <td>...</td>\n",
       "      <td>1.703896e-04</td>\n",
       "      <td>9.547628e-07</td>\n",
       "      <td>1.643528e-07</td>\n",
       "      <td>1.493615e-06</td>\n",
       "      <td>1.633305e-08</td>\n",
       "      <td>3.010337e-07</td>\n",
       "      <td>1.615819e-06</td>\n",
       "      <td>1.441146e-05</td>\n",
       "      <td>3.145353e-01</td>\n",
       "      <td>6.077284e-07</td>\n",
       "    </tr>\n",
       "    <tr>\n",
       "      <th>3</th>\n",
       "      <td>a079f72193264bc5685e5d28d7372680</td>\n",
       "      <td>2.904268e-07</td>\n",
       "      <td>8.631654e-09</td>\n",
       "      <td>1.472601e-08</td>\n",
       "      <td>1.943726e-08</td>\n",
       "      <td>3.582021e-09</td>\n",
       "      <td>7.022999e-06</td>\n",
       "      <td>1.320520e-07</td>\n",
       "      <td>2.974899e-08</td>\n",
       "      <td>4.038382e-10</td>\n",
       "      <td>...</td>\n",
       "      <td>6.583308e-08</td>\n",
       "      <td>2.329828e-07</td>\n",
       "      <td>4.061255e-10</td>\n",
       "      <td>4.730360e-10</td>\n",
       "      <td>6.558982e-09</td>\n",
       "      <td>2.385228e-09</td>\n",
       "      <td>2.198007e-07</td>\n",
       "      <td>4.271366e-08</td>\n",
       "      <td>1.809561e-05</td>\n",
       "      <td>1.748140e-07</td>\n",
       "    </tr>\n",
       "    <tr>\n",
       "      <th>4</th>\n",
       "      <td>583f7580fa5fec1266331fcf83b76fd6</td>\n",
       "      <td>4.302146e-05</td>\n",
       "      <td>3.268686e-07</td>\n",
       "      <td>5.107194e-07</td>\n",
       "      <td>7.347693e-06</td>\n",
       "      <td>2.844473e-07</td>\n",
       "      <td>1.039482e-05</td>\n",
       "      <td>8.632691e-08</td>\n",
       "      <td>2.065485e-06</td>\n",
       "      <td>1.438814e-08</td>\n",
       "      <td>...</td>\n",
       "      <td>4.533318e-06</td>\n",
       "      <td>5.070204e-07</td>\n",
       "      <td>2.931231e-08</td>\n",
       "      <td>1.124595e-08</td>\n",
       "      <td>1.526883e-07</td>\n",
       "      <td>4.383536e-08</td>\n",
       "      <td>3.915268e-08</td>\n",
       "      <td>9.647471e-06</td>\n",
       "      <td>6.845095e-06</td>\n",
       "      <td>1.925046e-06</td>\n",
       "    </tr>\n",
       "  </tbody>\n",
       "</table>\n",
       "<p>5 rows × 121 columns</p>\n",
       "</div>"
      ],
      "text/plain": [
       "                                 id  affenpinscher  afghan_hound  \\\n",
       "0  de084b830010b6107215fef5d4a75b94   1.823484e-11  1.394909e-07   \n",
       "1  6b423ca7020e70eb05732843c5d2bad1   2.349306e-08  3.421273e-09   \n",
       "2  74aa7e201e0e93e13e87b986a7d31839   3.804424e-06  3.866229e-07   \n",
       "3  a079f72193264bc5685e5d28d7372680   2.904268e-07  8.631654e-09   \n",
       "4  583f7580fa5fec1266331fcf83b76fd6   4.302146e-05  3.268686e-07   \n",
       "\n",
       "   african_hunting_dog      airedale  american_staffordshire_terrier  \\\n",
       "0         4.103534e-10  4.380160e-08                    2.605817e-10   \n",
       "1         7.740203e-10  1.185739e-07                    1.228176e-09   \n",
       "2         1.808914e-08  9.408192e-03                    3.692712e-06   \n",
       "3         1.472601e-08  1.943726e-08                    3.582021e-09   \n",
       "4         5.107194e-07  7.347693e-06                    2.844473e-07   \n",
       "\n",
       "    appenzeller  australian_terrier       basenji        basset  \\\n",
       "0  1.020717e-09        3.530714e-10  1.573237e-10  9.892961e-11   \n",
       "1  7.702597e-10        2.227327e-09  4.853053e-08  4.085577e-11   \n",
       "2  1.289023e-07        1.152652e-05  3.846069e-05  9.806897e-08   \n",
       "3  7.022999e-06        1.320520e-07  2.974899e-08  4.038382e-10   \n",
       "4  1.039482e-05        8.632691e-08  2.065485e-06  1.438814e-08   \n",
       "\n",
       "         ...            toy_poodle   toy_terrier        vizsla  walker_hound  \\\n",
       "0        ...          8.912542e-12  1.201676e-12  1.217682e-10  5.759350e-10   \n",
       "1        ...          1.656781e-09  4.142947e-10  8.243625e-10  2.093070e-10   \n",
       "2        ...          1.703896e-04  9.547628e-07  1.643528e-07  1.493615e-06   \n",
       "3        ...          6.583308e-08  2.329828e-07  4.061255e-10  4.730360e-10   \n",
       "4        ...          4.533318e-06  5.070204e-07  2.931231e-08  1.124595e-08   \n",
       "\n",
       "     weimaraner  welsh_springer_spaniel  west_highland_white_terrier  \\\n",
       "0  6.381653e-09            1.827307e-11                 2.796822e-08   \n",
       "1  1.378135e-09            3.981084e-11                 7.650399e-08   \n",
       "2  1.633305e-08            3.010337e-07                 1.615819e-06   \n",
       "3  6.558982e-09            2.385228e-09                 2.198007e-07   \n",
       "4  1.526883e-07            4.383536e-08                 3.915268e-08   \n",
       "\n",
       "        whippet  wire-haired_fox_terrier  yorkshire_terrier  \n",
       "0  1.218700e-07             1.704971e-09       5.188032e-11  \n",
       "1  2.463987e-08             6.134023e-07       4.934427e-11  \n",
       "2  1.441146e-05             3.145353e-01       6.077284e-07  \n",
       "3  4.271366e-08             1.809561e-05       1.748140e-07  \n",
       "4  9.647471e-06             6.845095e-06       1.925046e-06  \n",
       "\n",
       "[5 rows x 121 columns]"
      ]
     },
     "execution_count": 26,
     "metadata": {},
     "output_type": "execute_result"
    }
   ],
   "source": [
    "df.head()"
   ]
  },
  {
   "cell_type": "code",
   "execution_count": 27,
   "metadata": {},
   "outputs": [],
   "source": [
    "SUBM = f'{PATH}subm/'\n",
    "os.makedirs(SUBM, exist_ok=True)\n",
    "df.to_csv(f'{SUBM}subm.gzip', compression='gzip', index=False)"
   ]
  },
  {
   "cell_type": "code",
   "execution_count": null,
   "metadata": {},
   "outputs": [],
   "source": []
  }
 ],
 "metadata": {
  "kernelspec": {
   "display_name": "Python 3",
   "language": "python",
   "name": "python3"
  },
  "language_info": {
   "codemirror_mode": {
    "name": "ipython",
    "version": 3
   },
   "file_extension": ".py",
   "mimetype": "text/x-python",
   "name": "python",
   "nbconvert_exporter": "python",
   "pygments_lexer": "ipython3",
   "version": "3.6.4"
  },
  "widgets": {
   "application/vnd.jupyter.widget-state+json": {
    "state": {
     "05563f3392634c6ab8e3a8a5e765c100": {
      "model_module": "@jupyter-widgets/base",
      "model_module_version": "1.0.0",
      "model_name": "LayoutModel",
      "state": {}
     },
     "0e02469ec2f1473dba053e0f44ecfaa7": {
      "model_module": "@jupyter-widgets/controls",
      "model_module_version": "1.0.0",
      "model_name": "IntProgressModel",
      "state": {
       "bar_style": "success",
       "layout": "IPY_MODEL_f3c71e668a8e44f3830332c1dbb8eeed",
       "max": 6,
       "style": "IPY_MODEL_18412d0995714cda9e04b16a6f396b93",
       "value": 6
      }
     },
     "14e4cf00c63d41189088ebf52d1e451a": {
      "model_module": "@jupyter-widgets/base",
      "model_module_version": "1.0.0",
      "model_name": "LayoutModel",
      "state": {}
     },
     "17160ffca1b24a4eae41e763bc6b5d63": {
      "model_module": "@jupyter-widgets/base",
      "model_module_version": "1.0.0",
      "model_name": "LayoutModel",
      "state": {}
     },
     "18412d0995714cda9e04b16a6f396b93": {
      "model_module": "@jupyter-widgets/controls",
      "model_module_version": "1.0.0",
      "model_name": "ProgressStyleModel",
      "state": {
       "description_width": ""
      }
     },
     "18afc293989b4890a7cd13f4fcd18abe": {
      "model_module": "@jupyter-widgets/base",
      "model_module_version": "1.0.0",
      "model_name": "LayoutModel",
      "state": {}
     },
     "18b53343a01f40a797f3b6f28bd9266c": {
      "model_module": "@jupyter-widgets/controls",
      "model_module_version": "1.0.0",
      "model_name": "DescriptionStyleModel",
      "state": {
       "description_width": ""
      }
     },
     "193d3515867645db856935ed45ad793c": {
      "model_module": "@jupyter-widgets/controls",
      "model_module_version": "1.0.0",
      "model_name": "HTMLModel",
      "state": {
       "layout": "IPY_MODEL_32dacc42fb53414c8e1a8aaff3bc2072",
       "style": "IPY_MODEL_d9eb61c50e8b437ea2735633d6b77b48",
       "value": "100% 1/1 [00:02&lt;00:00,  2.55s/it]"
      }
     },
     "1965977163f54f59a016e7f8e1fd3896": {
      "model_module": "@jupyter-widgets/controls",
      "model_module_version": "1.0.0",
      "model_name": "IntProgressModel",
      "state": {
       "bar_style": "success",
       "layout": "IPY_MODEL_e7e1c4427fd94106b097da44533c97df",
       "max": 6,
       "style": "IPY_MODEL_fd9aaf8260ed47a5b0c7a11f95b3dd43",
       "value": 6
      }
     },
     "1a102c8dd5f44ca093bbc4899f973192": {
      "model_module": "@jupyter-widgets/controls",
      "model_module_version": "1.0.0",
      "model_name": "IntProgressModel",
      "state": {
       "bar_style": "danger",
       "description": "Epoch",
       "layout": "IPY_MODEL_f3478620f5084da0bb516c9a3fd42685",
       "max": 1,
       "style": "IPY_MODEL_2277c7dcc46d428b89aeb9a3dee49811"
      }
     },
     "1cd23c0988274191b4f34fd452261f45": {
      "model_module": "@jupyter-widgets/base",
      "model_module_version": "1.0.0",
      "model_name": "LayoutModel",
      "state": {}
     },
     "217e8374090642b7a23fe70187315440": {
      "model_module": "@jupyter-widgets/controls",
      "model_module_version": "1.0.0",
      "model_name": "HBoxModel",
      "state": {
       "children": [
        "IPY_MODEL_ef316955d6244864a376e961b0f706c9",
        "IPY_MODEL_193d3515867645db856935ed45ad793c"
       ],
       "layout": "IPY_MODEL_fba3eb894ceb4e5495198d93b846008b"
      }
     },
     "2277c7dcc46d428b89aeb9a3dee49811": {
      "model_module": "@jupyter-widgets/controls",
      "model_module_version": "1.0.0",
      "model_name": "ProgressStyleModel",
      "state": {
       "description_width": ""
      }
     },
     "23c0184f7037454d95cada1d48631527": {
      "model_module": "@jupyter-widgets/controls",
      "model_module_version": "1.0.0",
      "model_name": "DescriptionStyleModel",
      "state": {
       "description_width": ""
      }
     },
     "25b2ca1eb9fb4d4782c07d94bec93875": {
      "model_module": "@jupyter-widgets/base",
      "model_module_version": "1.0.0",
      "model_name": "LayoutModel",
      "state": {}
     },
     "2b6a8fad6aba4a3c8160455aa336bfe9": {
      "model_module": "@jupyter-widgets/base",
      "model_module_version": "1.0.0",
      "model_name": "LayoutModel",
      "state": {}
     },
     "2bbbd792dfd442818b4377585bbbfea8": {
      "model_module": "@jupyter-widgets/controls",
      "model_module_version": "1.0.0",
      "model_name": "HTMLModel",
      "state": {
       "layout": "IPY_MODEL_8d1eba04f7424fd3a0ae158c7c29cf7d",
       "style": "IPY_MODEL_62a4960d79c5478598f7551dbd9d42fc",
       "value": "100% 6/6 [00:00&lt;00:00, 371.99it/s]"
      }
     },
     "2f6867b7485345ccbc2bb7b939ad7e06": {
      "model_module": "@jupyter-widgets/controls",
      "model_module_version": "1.0.0",
      "model_name": "DescriptionStyleModel",
      "state": {
       "description_width": ""
      }
     },
     "31afb2d8ba9a4f13baecfbcb09dc96ae": {
      "model_module": "@jupyter-widgets/controls",
      "model_module_version": "1.0.0",
      "model_name": "ProgressStyleModel",
      "state": {
       "description_width": ""
      }
     },
     "32313b7955044d90aab44abbb655122b": {
      "model_module": "@jupyter-widgets/controls",
      "model_module_version": "1.0.0",
      "model_name": "HBoxModel",
      "state": {
       "children": [
        "IPY_MODEL_1a102c8dd5f44ca093bbc4899f973192",
        "IPY_MODEL_67d4525364674bf085bf7fc6225c2dd5"
       ],
       "layout": "IPY_MODEL_9a6ef108d2164db1a32957e6a5625a7d"
      }
     },
     "32dacc42fb53414c8e1a8aaff3bc2072": {
      "model_module": "@jupyter-widgets/base",
      "model_module_version": "1.0.0",
      "model_name": "LayoutModel",
      "state": {}
     },
     "33b2611758f548f5809e73897512d687": {
      "model_module": "@jupyter-widgets/controls",
      "model_module_version": "1.0.0",
      "model_name": "HTMLModel",
      "state": {
       "layout": "IPY_MODEL_cc0a88ddcf2b414481a06e6f4fa98ae2",
       "style": "IPY_MODEL_88d9adda6f874cd9bae3c53e437cd0c4",
       "value": "100% 5/5 [07:47&lt;00:00, 93.43s/it]"
      }
     },
     "3488da18b45e47ebbb5e876894963c42": {
      "model_module": "@jupyter-widgets/controls",
      "model_module_version": "1.0.0",
      "model_name": "HTMLModel",
      "state": {
       "layout": "IPY_MODEL_a2d4f30cf018408b9fcc5f737b7febaa",
       "style": "IPY_MODEL_9570c7b597de4d13ad12393236f793ca",
       "value": "100% 5/5 [00:08&lt;00:00,  1.66s/it]"
      }
     },
     "34f8e40e8b81410b81e08eec841533ea": {
      "model_module": "@jupyter-widgets/controls",
      "model_module_version": "1.0.0",
      "model_name": "HTMLModel",
      "state": {
       "layout": "IPY_MODEL_c2ef4375dcf44f2ab295c04cbbdad82c",
       "style": "IPY_MODEL_5f001e992821472d913501781f85d1c3",
       "value": "100% 5/5 [00:08&lt;00:00,  1.72s/it]"
      }
     },
     "381efda8ec7d40abb86185acd7a909a3": {
      "model_module": "@jupyter-widgets/base",
      "model_module_version": "1.0.0",
      "model_name": "LayoutModel",
      "state": {}
     },
     "3c1e23ea84f34a249458f1f7d033f3d0": {
      "model_module": "@jupyter-widgets/controls",
      "model_module_version": "1.0.0",
      "model_name": "DescriptionStyleModel",
      "state": {
       "description_width": ""
      }
     },
     "3f41992e24b84130958b004e18c01ce4": {
      "model_module": "@jupyter-widgets/controls",
      "model_module_version": "1.0.0",
      "model_name": "IntProgressModel",
      "state": {
       "bar_style": "success",
       "description": "Epoch",
       "layout": "IPY_MODEL_e2423c7e6d4d47f1ad5a14b3983d9851",
       "max": 5,
       "style": "IPY_MODEL_ac555c04369949e6ab18e3f019c3135b",
       "value": 5
      }
     },
     "4263e0ea215a4ed0bb4267abd211189e": {
      "model_module": "@jupyter-widgets/controls",
      "model_module_version": "1.0.0",
      "model_name": "DescriptionStyleModel",
      "state": {
       "description_width": ""
      }
     },
     "4316c518f5a9498e9e86093c8ab4dfb1": {
      "model_module": "@jupyter-widgets/controls",
      "model_module_version": "1.0.0",
      "model_name": "ProgressStyleModel",
      "state": {
       "description_width": ""
      }
     },
     "454024ce799548179e3e8ed45b7494b9": {
      "model_module": "@jupyter-widgets/base",
      "model_module_version": "1.0.0",
      "model_name": "LayoutModel",
      "state": {}
     },
     "454911619168492eb991a09b7462417f": {
      "model_module": "@jupyter-widgets/controls",
      "model_module_version": "1.0.0",
      "model_name": "HBoxModel",
      "state": {
       "children": [
        "IPY_MODEL_c3e9623c14cd4a90bc67b7988d6231e9",
        "IPY_MODEL_b4ac0e5e11b8465a8436351e2b15a5c5"
       ],
       "layout": "IPY_MODEL_f8b9fcfce55544d7bc9b25c5a94cef32"
      }
     },
     "4cdd3b03f8af4685b841a891bb7d8cf4": {
      "model_module": "@jupyter-widgets/controls",
      "model_module_version": "1.0.0",
      "model_name": "IntProgressModel",
      "state": {
       "bar_style": "success",
       "layout": "IPY_MODEL_d3309255fc2944e2b369bacec51c23f1",
       "max": 6,
       "style": "IPY_MODEL_4316c518f5a9498e9e86093c8ab4dfb1",
       "value": 6
      }
     },
     "4dddd5e8dcdc47ee9ccfbcccf112fcac": {
      "model_module": "@jupyter-widgets/base",
      "model_module_version": "1.0.0",
      "model_name": "LayoutModel",
      "state": {}
     },
     "4f2141374f994b688b4477c9073dc6f6": {
      "model_module": "@jupyter-widgets/base",
      "model_module_version": "1.0.0",
      "model_name": "LayoutModel",
      "state": {}
     },
     "510aa2a782e941d0b29eb5c643bfd6f7": {
      "model_module": "@jupyter-widgets/base",
      "model_module_version": "1.0.0",
      "model_name": "LayoutModel",
      "state": {}
     },
     "5360f398031a4971a3d3283e5db15364": {
      "model_module": "@jupyter-widgets/controls",
      "model_module_version": "1.0.0",
      "model_name": "DescriptionStyleModel",
      "state": {
       "description_width": ""
      }
     },
     "574b5d0df469430aa4b0bab2a0e6d052": {
      "model_module": "@jupyter-widgets/controls",
      "model_module_version": "1.0.0",
      "model_name": "IntProgressModel",
      "state": {
       "bar_style": "success",
       "description": "Epoch",
       "layout": "IPY_MODEL_f8c8354ce3cf49a4b1c610896a2ecda7",
       "max": 5,
       "style": "IPY_MODEL_b4669020f8d740b78d90650ae221d389",
       "value": 5
      }
     },
     "57e2d7c3248f47bda531e8ba7dc32f4d": {
      "model_module": "@jupyter-widgets/controls",
      "model_module_version": "1.0.0",
      "model_name": "IntProgressModel",
      "state": {
       "bar_style": "success",
       "description": "Epoch",
       "layout": "IPY_MODEL_4f2141374f994b688b4477c9073dc6f6",
       "max": 1,
       "style": "IPY_MODEL_dde50e1ba56b4c8cb08fc9ed80ddbabd",
       "value": 1
      }
     },
     "5caff0cf590148eaaba81bab0aaca2f8": {
      "model_module": "@jupyter-widgets/controls",
      "model_module_version": "1.0.0",
      "model_name": "HBoxModel",
      "state": {
       "children": [
        "IPY_MODEL_4cdd3b03f8af4685b841a891bb7d8cf4",
        "IPY_MODEL_2bbbd792dfd442818b4377585bbbfea8"
       ],
       "layout": "IPY_MODEL_f95f984fe11b432aa50de0df7aed1302"
      }
     },
     "5e7c247964534835b73577401e8b4b61": {
      "model_module": "@jupyter-widgets/controls",
      "model_module_version": "1.0.0",
      "model_name": "ProgressStyleModel",
      "state": {
       "description_width": ""
      }
     },
     "5ef2a9cefaa44ae5846ed0348f8f78c6": {
      "model_module": "@jupyter-widgets/controls",
      "model_module_version": "1.0.0",
      "model_name": "HBoxModel",
      "state": {
       "children": [
        "IPY_MODEL_fa72e0040b6d4cf499b2587733ad32ad",
        "IPY_MODEL_dd012aa1f17942238be3d81fb02fc912"
       ],
       "layout": "IPY_MODEL_1cd23c0988274191b4f34fd452261f45"
      }
     },
     "5f001e992821472d913501781f85d1c3": {
      "model_module": "@jupyter-widgets/controls",
      "model_module_version": "1.0.0",
      "model_name": "DescriptionStyleModel",
      "state": {
       "description_width": ""
      }
     },
     "62a4960d79c5478598f7551dbd9d42fc": {
      "model_module": "@jupyter-widgets/controls",
      "model_module_version": "1.0.0",
      "model_name": "DescriptionStyleModel",
      "state": {
       "description_width": ""
      }
     },
     "642d4f23ae204024aa83bc90f098b603": {
      "model_module": "@jupyter-widgets/base",
      "model_module_version": "1.0.0",
      "model_name": "LayoutModel",
      "state": {}
     },
     "64e6f02c205f4669a74df9cdc535e11e": {
      "model_module": "@jupyter-widgets/controls",
      "model_module_version": "1.0.0",
      "model_name": "IntProgressModel",
      "state": {
       "bar_style": "danger",
       "description": "Epoch",
       "layout": "IPY_MODEL_25b2ca1eb9fb4d4782c07d94bec93875",
       "max": 1,
       "style": "IPY_MODEL_79a956f05c0e4c579de764019196cd75"
      }
     },
     "67d4525364674bf085bf7fc6225c2dd5": {
      "model_module": "@jupyter-widgets/controls",
      "model_module_version": "1.0.0",
      "model_name": "HTMLModel",
      "state": {
       "layout": "IPY_MODEL_c007fcf4a53543a6be17ce205d541654",
       "style": "IPY_MODEL_9aa8f7c1a75048f7bf850bc536800b6b",
       "value": "  0% 0/1 [00:00&lt;?, ?it/s]"
      }
     },
     "68b98c4b383a47919b16ddfdb3890509": {
      "model_module": "@jupyter-widgets/controls",
      "model_module_version": "1.0.0",
      "model_name": "ProgressStyleModel",
      "state": {
       "description_width": ""
      }
     },
     "72334b43ca4045eaa6f331bb09541635": {
      "model_module": "@jupyter-widgets/controls",
      "model_module_version": "1.0.0",
      "model_name": "DescriptionStyleModel",
      "state": {
       "description_width": ""
      }
     },
     "761f98020fd043de984aee621387f649": {
      "model_module": "@jupyter-widgets/controls",
      "model_module_version": "1.0.0",
      "model_name": "HTMLModel",
      "state": {
       "layout": "IPY_MODEL_18afc293989b4890a7cd13f4fcd18abe",
       "style": "IPY_MODEL_18b53343a01f40a797f3b6f28bd9266c",
       "value": "100% 6/6 [00:00&lt;00:00, 355.31it/s]"
      }
     },
     "76e75db8acbd4f14b9aca1c29c78e3ed": {
      "model_module": "@jupyter-widgets/controls",
      "model_module_version": "1.0.0",
      "model_name": "IntProgressModel",
      "state": {
       "bar_style": "success",
       "description": "Epoch",
       "layout": "IPY_MODEL_510aa2a782e941d0b29eb5c643bfd6f7",
       "max": 5,
       "style": "IPY_MODEL_f63e146907fc461cace18ae2b8265879",
       "value": 5
      }
     },
     "79a956f05c0e4c579de764019196cd75": {
      "model_module": "@jupyter-widgets/controls",
      "model_module_version": "1.0.0",
      "model_name": "ProgressStyleModel",
      "state": {
       "description_width": ""
      }
     },
     "800c77a9dfe14e4ab794a9be59d09cfc": {
      "model_module": "@jupyter-widgets/controls",
      "model_module_version": "1.0.0",
      "model_name": "IntProgressModel",
      "state": {
       "bar_style": "success",
       "layout": "IPY_MODEL_f2a99e745f744f4a9ee02703bee0f457",
       "max": 6,
       "style": "IPY_MODEL_bcfe34b73dbe47c39f7a7f2beca51177",
       "value": 6
      }
     },
     "8076a4e511e04837a6a8193e9c03ec46": {
      "model_module": "@jupyter-widgets/controls",
      "model_module_version": "1.0.0",
      "model_name": "HTMLModel",
      "state": {
       "layout": "IPY_MODEL_b2e758a29ec84e66975d8f81ad23c4c0",
       "style": "IPY_MODEL_3c1e23ea84f34a249458f1f7d033f3d0",
       "value": "  0% 0/1 [00:00&lt;?, ?it/s]"
      }
     },
     "82efdfee6d654a3a9ea50086618cf5ae": {
      "model_module": "@jupyter-widgets/controls",
      "model_module_version": "1.0.0",
      "model_name": "IntProgressModel",
      "state": {
       "bar_style": "success",
       "description": "Epoch",
       "layout": "IPY_MODEL_d82d99c1c4484cf79fce1312fd018e25",
       "max": 5,
       "style": "IPY_MODEL_31afb2d8ba9a4f13baecfbcb09dc96ae",
       "value": 5
      }
     },
     "8463963198f240638743a2183831e829": {
      "model_module": "@jupyter-widgets/base",
      "model_module_version": "1.0.0",
      "model_name": "LayoutModel",
      "state": {}
     },
     "8726726225b24318b87f51b0e85a5fb0": {
      "model_module": "@jupyter-widgets/controls",
      "model_module_version": "1.0.0",
      "model_name": "HBoxModel",
      "state": {
       "children": [
        "IPY_MODEL_3f41992e24b84130958b004e18c01ce4",
        "IPY_MODEL_34f8e40e8b81410b81e08eec841533ea"
       ],
       "layout": "IPY_MODEL_c3f8ce1f18f4465990572653481c8299"
      }
     },
     "883e8d2a6b804453bf429c3fde504223": {
      "model_module": "@jupyter-widgets/controls",
      "model_module_version": "1.0.0",
      "model_name": "HBoxModel",
      "state": {
       "children": [
        "IPY_MODEL_c531adbcb2884da0baa99defbdc0fc48",
        "IPY_MODEL_c4c89bf1d01e42e394e9d1b781812c94"
       ],
       "layout": "IPY_MODEL_8463963198f240638743a2183831e829"
      }
     },
     "88d9adda6f874cd9bae3c53e437cd0c4": {
      "model_module": "@jupyter-widgets/controls",
      "model_module_version": "1.0.0",
      "model_name": "DescriptionStyleModel",
      "state": {
       "description_width": ""
      }
     },
     "8cb08e0a6f374d77837171e1de73adff": {
      "model_module": "@jupyter-widgets/base",
      "model_module_version": "1.0.0",
      "model_name": "LayoutModel",
      "state": {}
     },
     "8d1eba04f7424fd3a0ae158c7c29cf7d": {
      "model_module": "@jupyter-widgets/base",
      "model_module_version": "1.0.0",
      "model_name": "LayoutModel",
      "state": {}
     },
     "8d75e454bf7e4683bb1c567b43f703f4": {
      "model_module": "@jupyter-widgets/base",
      "model_module_version": "1.0.0",
      "model_name": "LayoutModel",
      "state": {}
     },
     "9570c7b597de4d13ad12393236f793ca": {
      "model_module": "@jupyter-widgets/controls",
      "model_module_version": "1.0.0",
      "model_name": "DescriptionStyleModel",
      "state": {
       "description_width": ""
      }
     },
     "9a10c933e4504a099267e7d843771a3b": {
      "model_module": "@jupyter-widgets/controls",
      "model_module_version": "1.0.0",
      "model_name": "HBoxModel",
      "state": {
       "children": [
        "IPY_MODEL_ac5dc921645148c3bc4b33a3e1a912e5",
        "IPY_MODEL_9fafbbaf40f34406b6ca0323a5cfe56f"
       ],
       "layout": "IPY_MODEL_8d75e454bf7e4683bb1c567b43f703f4"
      }
     },
     "9a220e67b37e47ab98bbaf35a20f4a6b": {
      "model_module": "@jupyter-widgets/controls",
      "model_module_version": "1.0.0",
      "model_name": "DescriptionStyleModel",
      "state": {
       "description_width": ""
      }
     },
     "9a6ef108d2164db1a32957e6a5625a7d": {
      "model_module": "@jupyter-widgets/base",
      "model_module_version": "1.0.0",
      "model_name": "LayoutModel",
      "state": {}
     },
     "9aa8f7c1a75048f7bf850bc536800b6b": {
      "model_module": "@jupyter-widgets/controls",
      "model_module_version": "1.0.0",
      "model_name": "DescriptionStyleModel",
      "state": {
       "description_width": ""
      }
     },
     "9af9423a5fe94c62a50b4a1a1aa4a6eb": {
      "model_module": "@jupyter-widgets/base",
      "model_module_version": "1.0.0",
      "model_name": "LayoutModel",
      "state": {}
     },
     "9fafbbaf40f34406b6ca0323a5cfe56f": {
      "model_module": "@jupyter-widgets/controls",
      "model_module_version": "1.0.0",
      "model_name": "HTMLModel",
      "state": {
       "layout": "IPY_MODEL_c28a9aa8e45042e5a8d6845b807ae01d",
       "style": "IPY_MODEL_4263e0ea215a4ed0bb4267abd211189e",
       "value": "100% 6/6 [00:00&lt;00:00, 247.58it/s]"
      }
     },
     "a077ed5745254f91ba5298d9a877bf8f": {
      "model_module": "@jupyter-widgets/controls",
      "model_module_version": "1.0.0",
      "model_name": "HBoxModel",
      "state": {
       "children": [
        "IPY_MODEL_574b5d0df469430aa4b0bab2a0e6d052",
        "IPY_MODEL_33b2611758f548f5809e73897512d687"
       ],
       "layout": "IPY_MODEL_17160ffca1b24a4eae41e763bc6b5d63"
      }
     },
     "a2d4f30cf018408b9fcc5f737b7febaa": {
      "model_module": "@jupyter-widgets/base",
      "model_module_version": "1.0.0",
      "model_name": "LayoutModel",
      "state": {}
     },
     "ac555c04369949e6ab18e3f019c3135b": {
      "model_module": "@jupyter-widgets/controls",
      "model_module_version": "1.0.0",
      "model_name": "ProgressStyleModel",
      "state": {
       "description_width": ""
      }
     },
     "ac5dc921645148c3bc4b33a3e1a912e5": {
      "model_module": "@jupyter-widgets/controls",
      "model_module_version": "1.0.0",
      "model_name": "IntProgressModel",
      "state": {
       "bar_style": "success",
       "layout": "IPY_MODEL_ce3ad51d00cb4e678ecec2217c204182",
       "max": 6,
       "style": "IPY_MODEL_fcaa7502e8c742adba2d84b4892bea10",
       "value": 6
      }
     },
     "afa02713dba24515b0eb683a2aaed719": {
      "model_module": "@jupyter-widgets/base",
      "model_module_version": "1.0.0",
      "model_name": "LayoutModel",
      "state": {}
     },
     "b2761da6e0ef4e928bc40ab94b3be329": {
      "model_module": "@jupyter-widgets/controls",
      "model_module_version": "1.0.0",
      "model_name": "ProgressStyleModel",
      "state": {
       "description_width": ""
      }
     },
     "b2e758a29ec84e66975d8f81ad23c4c0": {
      "model_module": "@jupyter-widgets/base",
      "model_module_version": "1.0.0",
      "model_name": "LayoutModel",
      "state": {}
     },
     "b4669020f8d740b78d90650ae221d389": {
      "model_module": "@jupyter-widgets/controls",
      "model_module_version": "1.0.0",
      "model_name": "ProgressStyleModel",
      "state": {
       "description_width": ""
      }
     },
     "b4ac0e5e11b8465a8436351e2b15a5c5": {
      "model_module": "@jupyter-widgets/controls",
      "model_module_version": "1.0.0",
      "model_name": "HTMLModel",
      "state": {
       "layout": "IPY_MODEL_bb4a3a98765f49828a83f449c3127da8",
       "style": "IPY_MODEL_23c0184f7037454d95cada1d48631527",
       "value": "100% 5/5 [03:38&lt;00:00, 43.72s/it]"
      }
     },
     "bb4a3a98765f49828a83f449c3127da8": {
      "model_module": "@jupyter-widgets/base",
      "model_module_version": "1.0.0",
      "model_name": "LayoutModel",
      "state": {}
     },
     "bcfe34b73dbe47c39f7a7f2beca51177": {
      "model_module": "@jupyter-widgets/controls",
      "model_module_version": "1.0.0",
      "model_name": "ProgressStyleModel",
      "state": {
       "description_width": ""
      }
     },
     "c007fcf4a53543a6be17ce205d541654": {
      "model_module": "@jupyter-widgets/base",
      "model_module_version": "1.0.0",
      "model_name": "LayoutModel",
      "state": {}
     },
     "c28a9aa8e45042e5a8d6845b807ae01d": {
      "model_module": "@jupyter-widgets/base",
      "model_module_version": "1.0.0",
      "model_name": "LayoutModel",
      "state": {}
     },
     "c2ef4375dcf44f2ab295c04cbbdad82c": {
      "model_module": "@jupyter-widgets/base",
      "model_module_version": "1.0.0",
      "model_name": "LayoutModel",
      "state": {}
     },
     "c2fd579c6536492f8cf241ca256cac48": {
      "model_module": "@jupyter-widgets/controls",
      "model_module_version": "1.0.0",
      "model_name": "HBoxModel",
      "state": {
       "children": [
        "IPY_MODEL_1965977163f54f59a016e7f8e1fd3896",
        "IPY_MODEL_d87de34123d64867987441d3a3820e8a"
       ],
       "layout": "IPY_MODEL_afa02713dba24515b0eb683a2aaed719"
      }
     },
     "c3e9623c14cd4a90bc67b7988d6231e9": {
      "model_module": "@jupyter-widgets/controls",
      "model_module_version": "1.0.0",
      "model_name": "IntProgressModel",
      "state": {
       "bar_style": "success",
       "description": "Epoch",
       "layout": "IPY_MODEL_d5e2eb11fa2449a8a74b57aae5f9ee84",
       "max": 5,
       "style": "IPY_MODEL_5e7c247964534835b73577401e8b4b61",
       "value": 5
      }
     },
     "c3f8ce1f18f4465990572653481c8299": {
      "model_module": "@jupyter-widgets/base",
      "model_module_version": "1.0.0",
      "model_name": "LayoutModel",
      "state": {}
     },
     "c4c89bf1d01e42e394e9d1b781812c94": {
      "model_module": "@jupyter-widgets/controls",
      "model_module_version": "1.0.0",
      "model_name": "HTMLModel",
      "state": {
       "layout": "IPY_MODEL_14e4cf00c63d41189088ebf52d1e451a",
       "style": "IPY_MODEL_72334b43ca4045eaa6f331bb09541635",
       "value": "100% 7/7 [10:51&lt;00:00, 93.11s/it]"
      }
     },
     "c531adbcb2884da0baa99defbdc0fc48": {
      "model_module": "@jupyter-widgets/controls",
      "model_module_version": "1.0.0",
      "model_name": "IntProgressModel",
      "state": {
       "bar_style": "success",
       "description": "Epoch",
       "layout": "IPY_MODEL_d4bd9fa6711f4d1a96d92a57f529e26c",
       "max": 7,
       "style": "IPY_MODEL_68b98c4b383a47919b16ddfdb3890509",
       "value": 7
      }
     },
     "c7434575c5984f24b11c3a8f176490f0": {
      "model_module": "@jupyter-widgets/controls",
      "model_module_version": "1.0.0",
      "model_name": "HBoxModel",
      "state": {
       "children": [
        "IPY_MODEL_800c77a9dfe14e4ab794a9be59d09cfc",
        "IPY_MODEL_ee39599626424c3698b23ed267bbd318"
       ],
       "layout": "IPY_MODEL_642d4f23ae204024aa83bc90f098b603"
      }
     },
     "ca299aecfdda4179a77cae0ae0560a9e": {
      "model_module": "@jupyter-widgets/base",
      "model_module_version": "1.0.0",
      "model_name": "LayoutModel",
      "state": {}
     },
     "cae6e791adde441086770d87722df5b5": {
      "model_module": "@jupyter-widgets/controls",
      "model_module_version": "1.0.0",
      "model_name": "HTMLModel",
      "state": {
       "layout": "IPY_MODEL_9af9423a5fe94c62a50b4a1a1aa4a6eb",
       "style": "IPY_MODEL_dde9e0776ed2415abeed4c8960382a91",
       "value": "100% 5/5 [00:08&lt;00:00,  1.69s/it]"
      }
     },
     "cb3d95ab99684b67b7747b1d731dc9e3": {
      "model_module": "@jupyter-widgets/base",
      "model_module_version": "1.0.0",
      "model_name": "LayoutModel",
      "state": {}
     },
     "cb77a36ec2af442790180575db7210c5": {
      "model_module": "@jupyter-widgets/base",
      "model_module_version": "1.0.0",
      "model_name": "LayoutModel",
      "state": {}
     },
     "cc0a88ddcf2b414481a06e6f4fa98ae2": {
      "model_module": "@jupyter-widgets/base",
      "model_module_version": "1.0.0",
      "model_name": "LayoutModel",
      "state": {}
     },
     "cde78fe9398147a1b1cfb7ff109e5bdc": {
      "model_module": "@jupyter-widgets/controls",
      "model_module_version": "1.0.0",
      "model_name": "HBoxModel",
      "state": {
       "children": [
        "IPY_MODEL_64e6f02c205f4669a74df9cdc535e11e",
        "IPY_MODEL_8076a4e511e04837a6a8193e9c03ec46"
       ],
       "layout": "IPY_MODEL_d4a39e110f2e4cb283c653fbe23f5c86"
      }
     },
     "ce3ad51d00cb4e678ecec2217c204182": {
      "model_module": "@jupyter-widgets/base",
      "model_module_version": "1.0.0",
      "model_name": "LayoutModel",
      "state": {}
     },
     "d3309255fc2944e2b369bacec51c23f1": {
      "model_module": "@jupyter-widgets/base",
      "model_module_version": "1.0.0",
      "model_name": "LayoutModel",
      "state": {}
     },
     "d4a39e110f2e4cb283c653fbe23f5c86": {
      "model_module": "@jupyter-widgets/base",
      "model_module_version": "1.0.0",
      "model_name": "LayoutModel",
      "state": {}
     },
     "d4bd9fa6711f4d1a96d92a57f529e26c": {
      "model_module": "@jupyter-widgets/base",
      "model_module_version": "1.0.0",
      "model_name": "LayoutModel",
      "state": {}
     },
     "d5e2eb11fa2449a8a74b57aae5f9ee84": {
      "model_module": "@jupyter-widgets/base",
      "model_module_version": "1.0.0",
      "model_name": "LayoutModel",
      "state": {}
     },
     "d697b195f2fe42cb9cb94257ebf27a2e": {
      "model_module": "@jupyter-widgets/controls",
      "model_module_version": "1.0.0",
      "model_name": "HBoxModel",
      "state": {
       "children": [
        "IPY_MODEL_82efdfee6d654a3a9ea50086618cf5ae",
        "IPY_MODEL_cae6e791adde441086770d87722df5b5"
       ],
       "layout": "IPY_MODEL_2b6a8fad6aba4a3c8160455aa336bfe9"
      }
     },
     "d7db34da52c44482b3940960e91621bf": {
      "model_module": "@jupyter-widgets/controls",
      "model_module_version": "1.0.0",
      "model_name": "HTMLModel",
      "state": {
       "layout": "IPY_MODEL_05563f3392634c6ab8e3a8a5e765c100",
       "style": "IPY_MODEL_9a220e67b37e47ab98bbaf35a20f4a6b",
       "value": "100% 1/1 [00:01&lt;00:00,  1.84s/it]"
      }
     },
     "d82d99c1c4484cf79fce1312fd018e25": {
      "model_module": "@jupyter-widgets/base",
      "model_module_version": "1.0.0",
      "model_name": "LayoutModel",
      "state": {}
     },
     "d87de34123d64867987441d3a3820e8a": {
      "model_module": "@jupyter-widgets/controls",
      "model_module_version": "1.0.0",
      "model_name": "HTMLModel",
      "state": {
       "layout": "IPY_MODEL_8cb08e0a6f374d77837171e1de73adff",
       "style": "IPY_MODEL_2f6867b7485345ccbc2bb7b939ad7e06",
       "value": "100% 6/6 [00:00&lt;00:00, 352.65it/s]"
      }
     },
     "d9eb61c50e8b437ea2735633d6b77b48": {
      "model_module": "@jupyter-widgets/controls",
      "model_module_version": "1.0.0",
      "model_name": "DescriptionStyleModel",
      "state": {
       "description_width": ""
      }
     },
     "dd012aa1f17942238be3d81fb02fc912": {
      "model_module": "@jupyter-widgets/controls",
      "model_module_version": "1.0.0",
      "model_name": "HTMLModel",
      "state": {
       "layout": "IPY_MODEL_cb77a36ec2af442790180575db7210c5",
       "style": "IPY_MODEL_5360f398031a4971a3d3283e5db15364",
       "value": "100% 6/6 [00:00&lt;00:00, 373.97it/s]"
      }
     },
     "dde50e1ba56b4c8cb08fc9ed80ddbabd": {
      "model_module": "@jupyter-widgets/controls",
      "model_module_version": "1.0.0",
      "model_name": "ProgressStyleModel",
      "state": {
       "description_width": ""
      }
     },
     "dde9e0776ed2415abeed4c8960382a91": {
      "model_module": "@jupyter-widgets/controls",
      "model_module_version": "1.0.0",
      "model_name": "DescriptionStyleModel",
      "state": {
       "description_width": ""
      }
     },
     "ddeb3bffdb36440fa48154e8e2d1f9a1": {
      "model_module": "@jupyter-widgets/controls",
      "model_module_version": "1.0.0",
      "model_name": "ProgressStyleModel",
      "state": {
       "description_width": ""
      }
     },
     "e2423c7e6d4d47f1ad5a14b3983d9851": {
      "model_module": "@jupyter-widgets/base",
      "model_module_version": "1.0.0",
      "model_name": "LayoutModel",
      "state": {}
     },
     "e36d66e61b264c3e9a63d7ffddb18f09": {
      "model_module": "@jupyter-widgets/controls",
      "model_module_version": "1.0.0",
      "model_name": "DescriptionStyleModel",
      "state": {
       "description_width": ""
      }
     },
     "e6e4fa0066a747c5b1c618f146387450": {
      "model_module": "@jupyter-widgets/base",
      "model_module_version": "1.0.0",
      "model_name": "LayoutModel",
      "state": {}
     },
     "e7d25c0155114c23a4911593cf55bb62": {
      "model_module": "@jupyter-widgets/controls",
      "model_module_version": "1.0.0",
      "model_name": "HBoxModel",
      "state": {
       "children": [
        "IPY_MODEL_0e02469ec2f1473dba053e0f44ecfaa7",
        "IPY_MODEL_761f98020fd043de984aee621387f649"
       ],
       "layout": "IPY_MODEL_454024ce799548179e3e8ed45b7494b9"
      }
     },
     "e7e1c4427fd94106b097da44533c97df": {
      "model_module": "@jupyter-widgets/base",
      "model_module_version": "1.0.0",
      "model_name": "LayoutModel",
      "state": {}
     },
     "ee39599626424c3698b23ed267bbd318": {
      "model_module": "@jupyter-widgets/controls",
      "model_module_version": "1.0.0",
      "model_name": "HTMLModel",
      "state": {
       "layout": "IPY_MODEL_4dddd5e8dcdc47ee9ccfbcccf112fcac",
       "style": "IPY_MODEL_e36d66e61b264c3e9a63d7ffddb18f09",
       "value": "100% 6/6 [00:00&lt;00:00, 363.95it/s]"
      }
     },
     "ef316955d6244864a376e961b0f706c9": {
      "model_module": "@jupyter-widgets/controls",
      "model_module_version": "1.0.0",
      "model_name": "IntProgressModel",
      "state": {
       "bar_style": "success",
       "description": "Epoch",
       "layout": "IPY_MODEL_ca299aecfdda4179a77cae0ae0560a9e",
       "max": 1,
       "style": "IPY_MODEL_b2761da6e0ef4e928bc40ab94b3be329",
       "value": 1
      }
     },
     "f2a99e745f744f4a9ee02703bee0f457": {
      "model_module": "@jupyter-widgets/base",
      "model_module_version": "1.0.0",
      "model_name": "LayoutModel",
      "state": {}
     },
     "f3478620f5084da0bb516c9a3fd42685": {
      "model_module": "@jupyter-widgets/base",
      "model_module_version": "1.0.0",
      "model_name": "LayoutModel",
      "state": {}
     },
     "f3c71e668a8e44f3830332c1dbb8eeed": {
      "model_module": "@jupyter-widgets/base",
      "model_module_version": "1.0.0",
      "model_name": "LayoutModel",
      "state": {}
     },
     "f62b5d6379fe488f98aa126498aa3976": {
      "model_module": "@jupyter-widgets/controls",
      "model_module_version": "1.0.0",
      "model_name": "HBoxModel",
      "state": {
       "children": [
        "IPY_MODEL_76e75db8acbd4f14b9aca1c29c78e3ed",
        "IPY_MODEL_3488da18b45e47ebbb5e876894963c42"
       ],
       "layout": "IPY_MODEL_cb3d95ab99684b67b7747b1d731dc9e3"
      }
     },
     "f63e146907fc461cace18ae2b8265879": {
      "model_module": "@jupyter-widgets/controls",
      "model_module_version": "1.0.0",
      "model_name": "ProgressStyleModel",
      "state": {
       "description_width": ""
      }
     },
     "f8b9fcfce55544d7bc9b25c5a94cef32": {
      "model_module": "@jupyter-widgets/base",
      "model_module_version": "1.0.0",
      "model_name": "LayoutModel",
      "state": {}
     },
     "f8c8354ce3cf49a4b1c610896a2ecda7": {
      "model_module": "@jupyter-widgets/base",
      "model_module_version": "1.0.0",
      "model_name": "LayoutModel",
      "state": {}
     },
     "f95f984fe11b432aa50de0df7aed1302": {
      "model_module": "@jupyter-widgets/base",
      "model_module_version": "1.0.0",
      "model_name": "LayoutModel",
      "state": {}
     },
     "fa72e0040b6d4cf499b2587733ad32ad": {
      "model_module": "@jupyter-widgets/controls",
      "model_module_version": "1.0.0",
      "model_name": "IntProgressModel",
      "state": {
       "bar_style": "success",
       "layout": "IPY_MODEL_e6e4fa0066a747c5b1c618f146387450",
       "max": 6,
       "style": "IPY_MODEL_ddeb3bffdb36440fa48154e8e2d1f9a1",
       "value": 6
      }
     },
     "fba3eb894ceb4e5495198d93b846008b": {
      "model_module": "@jupyter-widgets/base",
      "model_module_version": "1.0.0",
      "model_name": "LayoutModel",
      "state": {}
     },
     "fc00b9a00f014d7788463404fe4a56aa": {
      "model_module": "@jupyter-widgets/controls",
      "model_module_version": "1.0.0",
      "model_name": "HBoxModel",
      "state": {
       "children": [
        "IPY_MODEL_57e2d7c3248f47bda531e8ba7dc32f4d",
        "IPY_MODEL_d7db34da52c44482b3940960e91621bf"
       ],
       "layout": "IPY_MODEL_381efda8ec7d40abb86185acd7a909a3"
      }
     },
     "fcaa7502e8c742adba2d84b4892bea10": {
      "model_module": "@jupyter-widgets/controls",
      "model_module_version": "1.0.0",
      "model_name": "ProgressStyleModel",
      "state": {
       "description_width": ""
      }
     },
     "fd9aaf8260ed47a5b0c7a11f95b3dd43": {
      "model_module": "@jupyter-widgets/controls",
      "model_module_version": "1.0.0",
      "model_name": "ProgressStyleModel",
      "state": {
       "description_width": ""
      }
     }
    },
    "version_major": 2,
    "version_minor": 0
   }
  }
 },
 "nbformat": 4,
 "nbformat_minor": 2
}
