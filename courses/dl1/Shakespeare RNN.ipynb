{
 "cells": [
  {
   "cell_type": "markdown",
   "metadata": {},
   "source": [
    "# Setup"
   ]
  },
  {
   "cell_type": "code",
   "execution_count": 1,
   "metadata": {
    "ExecuteTime": {
     "end_time": "2018-03-02T16:49:49.303459Z",
     "start_time": "2018-03-02T16:49:43.344159Z"
    }
   },
   "outputs": [],
   "source": [
    "%reload_ext autoreload\n",
    "%autoreload 2\n",
    "%matplotlib inline\n",
    "\n",
    "from fastai.learner import *\n",
    "\n",
    "import torchtext\n",
    "from torchtext import vocab, data\n",
    "from torchtext.datasets import language_modeling\n",
    "\n",
    "from fastai.rnn_reg import *\n",
    "from fastai.rnn_train import *\n",
    "from fastai.nlp import *\n",
    "from fastai.lm_rnn import *\n",
    "\n",
    "import dill as pickle"
   ]
  },
  {
   "cell_type": "code",
   "execution_count": 22,
   "metadata": {
    "ExecuteTime": {
     "end_time": "2018-03-02T17:18:07.185183Z",
     "start_time": "2018-03-02T17:18:07.024581Z"
    }
   },
   "outputs": [
    {
     "name": "stdout",
     "output_type": "stream",
     "text": [
      "models\tshakespeare_input.txt  trn.txt\tval.txt\r\n"
     ]
    }
   ],
   "source": [
    "PATH = 'data/shakespeare/'\n",
    "\n",
    "TRN = f'{PATH}trn.txt'\n",
    "VAL = f'{PATH}val.txt'\n",
    "\n",
    "!ls {PATH}"
   ]
  },
  {
   "cell_type": "code",
   "execution_count": 16,
   "metadata": {
    "ExecuteTime": {
     "end_time": "2018-03-02T17:05:57.473209Z",
     "start_time": "2018-03-02T17:05:57.331520Z"
    },
    "scrolled": true
   },
   "outputs": [
    {
     "name": "stdout",
     "output_type": "stream",
     "text": [
      "Has forgot Britain.\r\n",
      "\r\n",
      "IACHIMO:\r\n",
      "And himself. Not I,\r\n",
      "Inclined to this intelligence, pronounce\r\n",
      "The beggary of his change; but 'tis your graces\r\n",
      "That from pay mutest conscience to my tongue\r\n",
      "Charms this report out.\r\n",
      "\r\n",
      "IMOGEN:\r\n"
     ]
    }
   ],
   "source": [
    "# example of text\n",
    "!cat {TRN} | tail -10"
   ]
  },
  {
   "cell_type": "markdown",
   "metadata": {},
   "source": [
    "# LanguageModelData by word"
   ]
  },
  {
   "cell_type": "markdown",
   "metadata": {},
   "source": [
    "#### Tokenize text"
   ]
  },
  {
   "cell_type": "code",
   "execution_count": 20,
   "metadata": {
    "ExecuteTime": {
     "end_time": "2018-03-02T17:17:19.856453Z",
     "start_time": "2018-03-02T17:17:00.685315Z"
    }
   },
   "outputs": [],
   "source": [
    "# torchtext field object - describes how to process input\n",
    "TEXT = data.Field(lower=True, tokenize=spacy_tok)\n",
    "\n",
    "bs = 64\n",
    "bptt = 70\n",
    "\n",
    "FILES = dict(train='trn.txt', validation='val.txt', test='val.txt')\n",
    "# fastai model data object\n",
    "md = LanguageModelData.from_text_files(PATH, TEXT, **FILES, bs=bs, bptt=bptt, min_freq=10)"
   ]
  },
  {
   "cell_type": "code",
   "execution_count": 87,
   "metadata": {
    "ExecuteTime": {
     "end_time": "2018-03-02T19:31:21.132753Z",
     "start_time": "2018-03-02T19:31:20.862923Z"
    }
   },
   "outputs": [],
   "source": [
    "# save TEXT (now with vocab attribute) -> #.itos, #.stoi\n",
    "os.makedirs(f'{PATH}models/word', exist_ok=True)\n",
    "pickle.dump(TEXT, open(f'{PATH}models/word/TEXT.pkl','wb'))"
   ]
  },
  {
   "cell_type": "code",
   "execution_count": 23,
   "metadata": {
    "ExecuteTime": {
     "end_time": "2018-03-02T17:18:52.546067Z",
     "start_time": "2018-03-02T17:18:52.524388Z"
    }
   },
   "outputs": [
    {
     "data": {
      "text/plain": [
       "(209, 4959, 1, 941879)"
      ]
     },
     "execution_count": 23,
     "metadata": {},
     "output_type": "execute_result"
    }
   ],
   "source": [
    "# batches, unique tokens, tokens in dataset \n",
    "len(md.trn_dl), md.nt, len(md.trn_ds[0].text)"
   ]
  },
  {
   "cell_type": "markdown",
   "metadata": {},
   "source": [
    "#### Explore data loader batches"
   ]
  },
  {
   "cell_type": "code",
   "execution_count": 57,
   "metadata": {
    "ExecuteTime": {
     "end_time": "2018-03-02T17:56:05.294440Z",
     "start_time": "2018-03-02T17:56:05.265598Z"
    }
   },
   "outputs": [
    {
     "data": {
      "text/plain": [
       "(Variable containing:\n",
       "   107    11    28  ...     49     4    19\n",
       "   517  3367   217  ...    664    58   317\n",
       "     3    35    72  ...    458     2     2\n",
       "        ...          ⋱          ...       \n",
       "     2    28     0  ...      7    16   159\n",
       "     6   570     2  ...     22   101   237\n",
       "    44     2  2059  ...      5     2     2\n",
       " [torch.cuda.LongTensor of size 73x64 (GPU 0)], Variable containing:\n",
       "   517\n",
       "  3367\n",
       "   217\n",
       "   ⋮  \n",
       "  4077\n",
       "  4303\n",
       "  1116\n",
       " [torch.cuda.LongTensor of size 4672 (GPU 0)])"
      ]
     },
     "execution_count": 57,
     "metadata": {},
     "output_type": "execute_result"
    }
   ],
   "source": [
    "# BATCH --  data: ~bptt x bs;   label: 1d array of next word\n",
    "batch = next(iter(md.trn_dl)); batch"
   ]
  },
  {
   "cell_type": "code",
   "execution_count": null,
   "metadata": {},
   "outputs": [],
   "source": [
    "ds = batch[0].data   # .data - retrieve tensor from variable"
   ]
  },
  {
   "cell_type": "code",
   "execution_count": 58,
   "metadata": {
    "ExecuteTime": {
     "end_time": "2018-03-02T17:59:51.857341Z",
     "start_time": "2018-03-02T17:59:51.837327Z"
    }
   },
   "outputs": [],
   "source": [
    "label = batch[1].data"
   ]
  },
  {
   "cell_type": "code",
   "execution_count": 55,
   "metadata": {
    "ExecuteTime": {
     "end_time": "2018-03-02T17:54:23.144828Z",
     "start_time": "2018-03-02T17:54:23.124546Z"
    }
   },
   "outputs": [],
   "source": [
    "reverser = lambda o: TEXT.vocab.itos[o]\n",
    "itos_func = np.vectorize(reverser)"
   ]
  },
  {
   "cell_type": "code",
   "execution_count": 56,
   "metadata": {
    "ExecuteTime": {
     "end_time": "2018-03-02T17:54:24.388064Z",
     "start_time": "2018-03-02T17:54:24.364794Z"
    }
   },
   "outputs": [
    {
     "data": {
      "text/plain": [
       "array([['first', 'you', 'his', ..., 'are', '.', '!'],\n",
       "       ['citizen', 'chose', 'friends', ..., 'past', 'come', 'earth'],\n",
       "       [':', 'him', 'there', ..., 'service', ',', ','],\n",
       "       ...,\n",
       "       [':', 'you', 'name', ..., 'yourself', 'the', 'gold'],\n",
       "       ['resolved', 'against', 'is', ..., 'wrong', 'world', '?'],\n",
       "       ['.', 'the', 'not', ..., ':', '?', 'no']], dtype='<U12')"
      ]
     },
     "execution_count": 56,
     "metadata": {},
     "output_type": "execute_result"
    }
   ],
   "source": [
    "itos_func(ds)"
   ]
  },
  {
   "cell_type": "code",
   "execution_count": 59,
   "metadata": {
    "ExecuteTime": {
     "end_time": "2018-03-02T17:59:57.873009Z",
     "start_time": "2018-03-02T17:59:57.853020Z"
    }
   },
   "outputs": [
    {
     "data": {
      "text/plain": [
       "array(['citizen', 'chose', 'friends', ..., 'limb', 'magic', 'coward'], dtype='<U14')"
      ]
     },
     "execution_count": 59,
     "metadata": {},
     "output_type": "execute_result"
    }
   ],
   "source": [
    "itos_func(label)"
   ]
  },
  {
   "cell_type": "markdown",
   "metadata": {},
   "source": [
    "#### Train"
   ]
  },
  {
   "cell_type": "code",
   "execution_count": 60,
   "metadata": {
    "ExecuteTime": {
     "end_time": "2018-03-02T18:01:04.968781Z",
     "start_time": "2018-03-02T18:01:04.947314Z"
    }
   },
   "outputs": [],
   "source": [
    "em_sz = 200  # size of each embedding vector\n",
    "nh = 500     # number of hidden activations per layer\n",
    "nl = 3       # number of layers"
   ]
  },
  {
   "cell_type": "code",
   "execution_count": 61,
   "metadata": {
    "ExecuteTime": {
     "end_time": "2018-03-02T18:01:52.385415Z",
     "start_time": "2018-03-02T18:01:52.368262Z"
    }
   },
   "outputs": [],
   "source": [
    "opt_fn = partial(optim.Adam, betas=(.7, .99))"
   ]
  },
  {
   "cell_type": "code",
   "execution_count": 72,
   "metadata": {
    "ExecuteTime": {
     "end_time": "2018-03-02T18:44:14.838879Z",
     "start_time": "2018-03-02T18:44:14.697324Z"
    }
   },
   "outputs": [],
   "source": [
    "learner = md.get_model(opt_fn, em_sz, nh, nl,\n",
    "               dropouti=0.1, dropout=0.1, wdrop=0.2, dropoute=0.04, dropouth=0.1)\n",
    "learner.reg_fn = partial(seq2seq_reg, alpha=2, beta=1)\n",
    "learner.clip=0.3"
   ]
  },
  {
   "cell_type": "code",
   "execution_count": 73,
   "metadata": {
    "ExecuteTime": {
     "end_time": "2018-03-02T18:44:42.644467Z",
     "start_time": "2018-03-02T18:44:16.948574Z"
    }
   },
   "outputs": [
    {
     "data": {
      "application/vnd.jupyter.widget-view+json": {
       "model_id": "5404470ae10246ff874f6618f968c401",
       "version_major": 2,
       "version_minor": 0
      },
      "text/html": [
       "<p>Failed to display Jupyter Widget of type <code>HBox</code>.</p>\n",
       "<p>\n",
       "  If you're reading this message in the Jupyter Notebook or JupyterLab Notebook, it may mean\n",
       "  that the widgets JavaScript is still loading. If this message persists, it\n",
       "  likely means that the widgets JavaScript library is either not installed or\n",
       "  not enabled. See the <a href=\"https://ipywidgets.readthedocs.io/en/stable/user_install.html\">Jupyter\n",
       "  Widgets Documentation</a> for setup instructions.\n",
       "</p>\n",
       "<p>\n",
       "  If you're reading this message in another frontend (for example, a static\n",
       "  rendering on GitHub or <a href=\"https://nbviewer.jupyter.org/\">NBViewer</a>),\n",
       "  it may mean that your frontend doesn't currently support widgets.\n",
       "</p>\n"
      ],
      "text/plain": [
       "HBox(children=(IntProgress(value=0, description='Epoch', max=1), HTML(value='')))"
      ]
     },
     "metadata": {},
     "output_type": "display_data"
    },
    {
     "name": "stdout",
     "output_type": "stream",
     "text": [
      " 90%|█████████ | 189/209 [00:25<00:02,  7.39it/s, loss=24.8]"
     ]
    }
   ],
   "source": [
    "learner.lr_find()"
   ]
  },
  {
   "cell_type": "code",
   "execution_count": 74,
   "metadata": {
    "ExecuteTime": {
     "end_time": "2018-03-02T18:44:44.640635Z",
     "start_time": "2018-03-02T18:44:44.338898Z"
    }
   },
   "outputs": [
    {
     "data": {
      "image/png": "[encoded data removed]",
      "text/plain": [
       "<matplotlib.figure.Figure at 0x7f8f20b61400>"
      ]
     },
     "metadata": {},
     "output_type": "display_data"
    }
   ],
   "source": [
    "learner.sched.plot()"
   ]
  },
  {
   "cell_type": "code",
   "execution_count": 76,
   "metadata": {
    "ExecuteTime": {
     "end_time": "2018-03-02T18:57:35.716153Z",
     "start_time": "2018-03-02T18:45:21.560014Z"
    }
   },
   "outputs": [
    {
     "data": {
      "application/vnd.jupyter.widget-view+json": {
       "model_id": "d11a16bda8254264aaceb8e0167e88f0",
       "version_major": 2,
       "version_minor": 0
      },
      "text/html": [
       "<p>Failed to display Jupyter Widget of type <code>HBox</code>.</p>\n",
       "<p>\n",
       "  If you're reading this message in the Jupyter Notebook or JupyterLab Notebook, it may mean\n",
       "  that the widgets JavaScript is still loading. If this message persists, it\n",
       "  likely means that the widgets JavaScript library is either not installed or\n",
       "  not enabled. See the <a href=\"https://ipywidgets.readthedocs.io/en/stable/user_install.html\">Jupyter\n",
       "  Widgets Documentation</a> for setup instructions.\n",
       "</p>\n",
       "<p>\n",
       "  If you're reading this message in another frontend (for example, a static\n",
       "  rendering on GitHub or <a href=\"https://nbviewer.jupyter.org/\">NBViewer</a>),\n",
       "  it may mean that your frontend doesn't currently support widgets.\n",
       "</p>\n"
      ],
      "text/plain": [
       "HBox(children=(IntProgress(value=0, description='Epoch', max=25), HTML(value='')))"
      ]
     },
     "metadata": {},
     "output_type": "display_data"
    },
    {
     "name": "stdout",
     "output_type": "stream",
     "text": [
      " 20%|██        | 42/209 [00:05<00:21,  7.83it/s, loss=8.09] \n",
      " 21%|██        | 44/209 [00:05<00:21,  7.79it/s, loss=8.06]"
     ]
    },
    {
     "name": "stderr",
     "output_type": "stream",
     "text": [
      "Exception in thread Thread-33:\n",
      "Traceback (most recent call last):\n",
      "  File \"/home/paperspace/anaconda3/envs/fastai/lib/python3.6/threading.py\", line 916, in _bootstrap_inner\n",
      "    self.run()\n",
      "  File \"/home/paperspace/anaconda3/envs/fastai/lib/python3.6/site-packages/tqdm/_tqdm.py\", line 144, in run\n",
      "    for instance in self.tqdm_cls._instances:\n",
      "  File \"/home/paperspace/anaconda3/envs/fastai/lib/python3.6/_weakrefset.py\", line 60, in __iter__\n",
      "    for itemref in self.data:\n",
      "RuntimeError: Set changed size during iteration\n",
      "\n"
     ]
    },
    {
     "name": "stdout",
     "output_type": "stream",
     "text": [
      "epoch      trn_loss   val_loss                              \n",
      "    0      5.783375   5.401047  \n",
      "    1      5.021159   4.850568                              \n",
      "    2      4.760013   4.679566                              \n",
      "    3      4.647942   4.606828                              \n",
      "    4      4.592665   4.578878                              \n",
      "    5      4.623974   4.571738                              \n",
      "    6      4.511236   4.490897                              \n",
      "    7      4.408905   4.428314                              \n",
      "    8      4.332114   4.375502                              \n",
      "    9      4.299499   4.372693                              \n",
      "    10     4.39012    4.40294                               \n",
      "    11     4.311449   4.349155                              \n",
      "    12     4.219852   4.305293                              \n",
      "    13     4.140891   4.275035                              \n",
      "    14     4.117384   4.275783                              \n",
      "    15     4.250031   4.318419                              \n",
      "    16     4.191231   4.29301                               \n",
      "    17     4.106325   4.260439                              \n",
      "    18     4.035746   4.240801                              \n",
      "    19     4.003352   4.24353                               \n",
      "    20     4.160038   4.300179                              \n",
      "    21     4.112096   4.26754                               \n",
      "    22     4.030175   4.241146                              \n",
      "    23     3.973857   4.219498                              \n",
      "    24     3.94006    4.222391                              \n",
      "\n"
     ]
    },
    {
     "data": {
      "text/plain": [
       "[4.222391]"
      ]
     },
     "execution_count": 76,
     "metadata": {},
     "output_type": "execute_result"
    }
   ],
   "source": [
    "learner.fit(1e-2, 5, wds=1e-6, cycle_len=5)"
   ]
  },
  {
   "cell_type": "code",
   "execution_count": 82,
   "metadata": {
    "ExecuteTime": {
     "end_time": "2018-03-02T19:20:35.736201Z",
     "start_time": "2018-03-02T19:10:48.551383Z"
    }
   },
   "outputs": [
    {
     "data": {
      "application/vnd.jupyter.widget-view+json": {
       "model_id": "8ff91083aa4c4d0785ae0c7b18cbcff1",
       "version_major": 2,
       "version_minor": 0
      },
      "text/html": [
       "<p>Failed to display Jupyter Widget of type <code>HBox</code>.</p>\n",
       "<p>\n",
       "  If you're reading this message in the Jupyter Notebook or JupyterLab Notebook, it may mean\n",
       "  that the widgets JavaScript is still loading. If this message persists, it\n",
       "  likely means that the widgets JavaScript library is either not installed or\n",
       "  not enabled. See the <a href=\"https://ipywidgets.readthedocs.io/en/stable/user_install.html\">Jupyter\n",
       "  Widgets Documentation</a> for setup instructions.\n",
       "</p>\n",
       "<p>\n",
       "  If you're reading this message in another frontend (for example, a static\n",
       "  rendering on GitHub or <a href=\"https://nbviewer.jupyter.org/\">NBViewer</a>),\n",
       "  it may mean that your frontend doesn't currently support widgets.\n",
       "</p>\n"
      ],
      "text/plain": [
       "HBox(children=(IntProgress(value=0, description='Epoch', max=20), HTML(value='')))"
      ]
     },
     "metadata": {},
     "output_type": "display_data"
    },
    {
     "name": "stdout",
     "output_type": "stream",
     "text": [
      "epoch      trn_loss   val_loss                              \n",
      "    0      4.056804   4.282621  \n",
      "    1      4.070535   4.262603                              \n",
      "    2      4.041001   4.252559                              \n",
      "    3      3.999774   4.242208                              \n",
      "    4      3.959328   4.239118                              \n",
      "    5      3.913321   4.219591                              \n",
      "    6      3.865484   4.213597                              \n",
      "    7      3.826077   4.208253                              \n",
      "    8      3.802114   4.203265                              \n",
      "    9      3.79449    4.207988                              \n",
      "    10     4.012111   4.266161                              \n",
      "    11     4.00311    4.252134                              \n",
      "    12     3.98058    4.240265                              \n",
      "    13     3.939534   4.222657                              \n",
      "    14     3.906677   4.212936                              \n",
      "    15     3.837436   4.213698                              \n",
      "    16     3.795378   4.209629                              \n",
      "    17     3.754197   4.207716                              \n",
      "    18     3.739194   4.20632                               \n",
      "    19     3.734001   4.208504                              \n",
      "\n"
     ]
    },
    {
     "data": {
      "text/plain": [
       "[4.2085037]"
      ]
     },
     "execution_count": 82,
     "metadata": {},
     "output_type": "execute_result"
    }
   ],
   "source": [
    "learner.fit(1e-2, 2, wds=1e-6, cycle_len=10)"
   ]
  },
  {
   "cell_type": "code",
   "execution_count": 83,
   "metadata": {
    "ExecuteTime": {
     "end_time": "2018-03-02T19:22:16.204090Z",
     "start_time": "2018-03-02T19:22:16.168016Z"
    }
   },
   "outputs": [],
   "source": [
    "learner.save('45_cycles_4.20')"
   ]
  },
  {
   "cell_type": "code",
   "execution_count": null,
   "metadata": {
    "ExecuteTime": {
     "end_time": "2018-03-02T18:42:57.580821Z",
     "start_time": "2018-03-02T18:38:04.475565Z"
    }
   },
   "outputs": [],
   "source": [
    "learner.fit(1e-2, 5, wds=1e-6, cycle_len=5)"
   ]
  },
  {
   "cell_type": "code",
   "execution_count": 77,
   "metadata": {
    "ExecuteTime": {
     "end_time": "2018-03-02T18:58:07.686136Z",
     "start_time": "2018-03-02T18:58:07.645526Z"
    }
   },
   "outputs": [],
   "source": [
    "learner.save('25_cycles_4.22')"
   ]
  },
  {
   "cell_type": "markdown",
   "metadata": {},
   "source": [
    "#### Generate some test text"
   ]
  },
  {
   "cell_type": "code",
   "execution_count": 79,
   "metadata": {
    "ExecuteTime": {
     "end_time": "2018-03-02T19:07:25.697670Z",
     "start_time": "2018-03-02T19:07:25.677627Z"
    }
   },
   "outputs": [
    {
     "data": {
      "text/plain": [
       "' '"
      ]
     },
     "execution_count": 79,
     "metadata": {},
     "output_type": "execute_result"
    }
   ],
   "source": [
    "m=learner.model\n",
    "primer=\"\"\" \"\"\"\n",
    "s = [spacy_tok(primer)]\n",
    "t=TEXT.numericalize(s)\n",
    "' '.join(s[0])"
   ]
  },
  {
   "cell_type": "code",
   "execution_count": 84,
   "metadata": {
    "ExecuteTime": {
     "end_time": "2018-03-02T19:22:39.991029Z",
     "start_time": "2018-03-02T19:22:39.958068Z"
    }
   },
   "outputs": [],
   "source": [
    "# Set batch size to 1\n",
    "m[0].bs=1\n",
    "# Turn off dropout\n",
    "m.eval()\n",
    "# Reset hidden state\n",
    "m.reset()\n",
    "# Get predictions from model\n",
    "res,*_ = m(t)\n",
    "# Put the batch size back to what it was\n",
    "m[0].bs=bs"
   ]
  },
  {
   "cell_type": "code",
   "execution_count": 86,
   "metadata": {
    "ExecuteTime": {
     "end_time": "2018-03-02T19:24:04.120800Z",
     "start_time": "2018-03-02T19:24:03.400794Z"
    }
   },
   "outputs": [
    {
     "name": "stdout",
     "output_type": "stream",
     "text": [
      ": i know him well . what , ho ! what news ? messenger : my lord , i know not what . hamlet : i 'll tell you , sir , that you are not a man . ophelia : i am sorry that my lord is dead . hamlet : i am a fool , and i am sure you are not . ophelia : i am a fool , my lord . hamlet : i am a fool , and i am not a fool . ophelia : i am a fool , my lord . hamlet : i am a fool , sir , and i am a fool . ophelia : i am a fool , my lord . hamlet : i am a fool , sir . ophelia : i am a fool , my lord . hamlet : i am a fool , sir . ophelia : i am a fool , my lord . hamlet : i am a fool , sir . ophelia : i am a fool , my lord . hamlet : i am a fool , sir . ophelia : i am a fool , my lord . ...\n"
     ]
    }
   ],
   "source": [
    "# generate 50 words\n",
    "for i in range(200):\n",
    "    n=res[-1].topk(2)[1]\n",
    "    n = n[1] if n.data[0]==0 else n[0]\n",
    "    print(TEXT.vocab.itos[n.data[0]], end=' ')\n",
    "    res,*_ = m(n[0].unsqueeze(0))\n",
    "print('...')"
   ]
  },
  {
   "cell_type": "markdown",
   "metadata": {},
   "source": [
    "# LanguageModelData by character"
   ]
  },
  {
   "cell_type": "markdown",
   "metadata": {},
   "source": [
    "#### Tokenize text"
   ]
  },
  {
   "cell_type": "code",
   "execution_count": 91,
   "metadata": {
    "ExecuteTime": {
     "end_time": "2018-03-02T19:35:56.524491Z",
     "start_time": "2018-03-02T19:35:52.224654Z"
    }
   },
   "outputs": [],
   "source": [
    "# torchtext field object - describes how to process input\n",
    "TEXT = data.Field(lower=True, tokenize=list)\n",
    "\n",
    "bs = 64\n",
    "bptt = 200\n",
    "\n",
    "FILES = dict(train='trn.txt', validation='val.txt', test='val.txt')\n",
    "# fastai model data object\n",
    "md = LanguageModelData.from_text_files(PATH, TEXT, **FILES, bs=bs, bptt=bptt, min_freq=10)"
   ]
  },
  {
   "cell_type": "code",
   "execution_count": 92,
   "metadata": {
    "ExecuteTime": {
     "end_time": "2018-03-02T19:35:57.624262Z",
     "start_time": "2018-03-02T19:35:57.604274Z"
    }
   },
   "outputs": [],
   "source": [
    "# save TEXT (now with vocab attribute) -> #.itos, #.stoi\n",
    "os.makedirs(f'{PATH}models/char', exist_ok=True)\n",
    "pickle.dump(TEXT, open(f'{PATH}models/char/TEXT.pkl','wb'))"
   ]
  },
  {
   "cell_type": "code",
   "execution_count": 93,
   "metadata": {
    "ExecuteTime": {
     "end_time": "2018-03-02T19:35:58.837114Z",
     "start_time": "2018-03-02T19:35:58.816145Z"
    }
   },
   "outputs": [
    {
     "data": {
      "text/plain": [
       "(307, 39, 3949470)"
      ]
     },
     "execution_count": 93,
     "metadata": {},
     "output_type": "execute_result"
    }
   ],
   "source": [
    "# batches, unique chars, chars in dataset \n",
    "len(md.trn_dl), md.nt, len(md.trn_ds[0].text)"
   ]
  },
  {
   "cell_type": "markdown",
   "metadata": {},
   "source": [
    "#### Train"
   ]
  },
  {
   "cell_type": "code",
   "execution_count": 94,
   "metadata": {
    "ExecuteTime": {
     "end_time": "2018-03-02T19:36:53.394747Z",
     "start_time": "2018-03-02T19:36:53.377320Z"
    }
   },
   "outputs": [],
   "source": [
    "em_sz = 200  # size of each embedding vector\n",
    "nh = 500     # number of hidden activations per layer\n",
    "nl = 3       # number of layers"
   ]
  },
  {
   "cell_type": "code",
   "execution_count": 95,
   "metadata": {
    "ExecuteTime": {
     "end_time": "2018-03-02T19:36:54.154134Z",
     "start_time": "2018-03-02T19:36:54.136206Z"
    }
   },
   "outputs": [],
   "source": [
    "opt_fn = partial(optim.Adam, betas=(.7, .99))"
   ]
  },
  {
   "cell_type": "code",
   "execution_count": 96,
   "metadata": {
    "ExecuteTime": {
     "end_time": "2018-03-02T19:36:59.498271Z",
     "start_time": "2018-03-02T19:36:59.445162Z"
    }
   },
   "outputs": [],
   "source": [
    "learner = md.get_model(opt_fn, em_sz, nh, nl,\n",
    "               dropouti=0.1, dropout=0.1, wdrop=0.2, dropoute=0.04, dropouth=0.1)\n",
    "learner.reg_fn = partial(seq2seq_reg, alpha=2, beta=1)\n",
    "learner.clip=0.3"
   ]
  },
  {
   "cell_type": "code",
   "execution_count": 97,
   "metadata": {
    "ExecuteTime": {
     "end_time": "2018-03-02T19:38:19.474817Z",
     "start_time": "2018-03-02T19:37:00.194758Z"
    }
   },
   "outputs": [
    {
     "data": {
      "application/vnd.jupyter.widget-view+json": {
       "model_id": "992bbe7f5c1d49148c89575a4770dbf2",
       "version_major": 2,
       "version_minor": 0
      },
      "text/html": [
       "<p>Failed to display Jupyter Widget of type <code>HBox</code>.</p>\n",
       "<p>\n",
       "  If you're reading this message in the Jupyter Notebook or JupyterLab Notebook, it may mean\n",
       "  that the widgets JavaScript is still loading. If this message persists, it\n",
       "  likely means that the widgets JavaScript library is either not installed or\n",
       "  not enabled. See the <a href=\"https://ipywidgets.readthedocs.io/en/stable/user_install.html\">Jupyter\n",
       "  Widgets Documentation</a> for setup instructions.\n",
       "</p>\n",
       "<p>\n",
       "  If you're reading this message in another frontend (for example, a static\n",
       "  rendering on GitHub or <a href=\"https://nbviewer.jupyter.org/\">NBViewer</a>),\n",
       "  it may mean that your frontend doesn't currently support widgets.\n",
       "</p>\n"
      ],
      "text/plain": [
       "HBox(children=(IntProgress(value=0, description='Epoch', max=1), HTML(value='')))"
      ]
     },
     "metadata": {},
     "output_type": "display_data"
    },
    {
     "name": "stdout",
     "output_type": "stream",
     "text": [
      " 82%|████████▏ | 252/307 [01:19<00:17,  3.18it/s, loss=10.3]"
     ]
    }
   ],
   "source": [
    "learner.lr_find()"
   ]
  },
  {
   "cell_type": "code",
   "execution_count": 98,
   "metadata": {
    "ExecuteTime": {
     "end_time": "2018-03-02T19:38:23.191687Z",
     "start_time": "2018-03-02T19:38:22.855255Z"
    }
   },
   "outputs": [
    {
     "data": {
      "image/png": "[encoded data removed]",
      "text/plain": [
       "<matplotlib.figure.Figure at 0x7f8f21362e10>"
      ]
     },
     "metadata": {},
     "output_type": "display_data"
    }
   ],
   "source": [
    "learner.sched.plot()"
   ]
  },
  {
   "cell_type": "code",
   "execution_count": 99,
   "metadata": {
    "ExecuteTime": {
     "end_time": "2018-03-02T19:47:21.630350Z",
     "start_time": "2018-03-02T19:39:04.966412Z"
    }
   },
   "outputs": [
    {
     "data": {
      "application/vnd.jupyter.widget-view+json": {
       "model_id": "2be02e2989b94a4cbffae1e46d5f5989",
       "version_major": 2,
       "version_minor": 0
      },
      "text/html": [
       "<p>Failed to display Jupyter Widget of type <code>HBox</code>.</p>\n",
       "<p>\n",
       "  If you're reading this message in the Jupyter Notebook or JupyterLab Notebook, it may mean\n",
       "  that the widgets JavaScript is still loading. If this message persists, it\n",
       "  likely means that the widgets JavaScript library is either not installed or\n",
       "  not enabled. See the <a href=\"https://ipywidgets.readthedocs.io/en/stable/user_install.html\">Jupyter\n",
       "  Widgets Documentation</a> for setup instructions.\n",
       "</p>\n",
       "<p>\n",
       "  If you're reading this message in another frontend (for example, a static\n",
       "  rendering on GitHub or <a href=\"https://nbviewer.jupyter.org/\">NBViewer</a>),\n",
       "  it may mean that your frontend doesn't currently support widgets.\n",
       "</p>\n"
      ],
      "text/plain": [
       "HBox(children=(IntProgress(value=0, description='Epoch', max=5), HTML(value='')))"
      ]
     },
     "metadata": {},
     "output_type": "display_data"
    },
    {
     "name": "stdout",
     "output_type": "stream",
     "text": [
      "  5%|▌         | 16/307 [00:05<01:32,  3.13it/s, loss=3.26] \n",
      "  6%|▌         | 17/307 [00:05<01:32,  3.13it/s, loss=3.25]"
     ]
    },
    {
     "name": "stderr",
     "output_type": "stream",
     "text": [
      "Exception in thread Thread-79:\n",
      "Traceback (most recent call last):\n",
      "  File \"/home/paperspace/anaconda3/envs/fastai/lib/python3.6/threading.py\", line 916, in _bootstrap_inner\n",
      "    self.run()\n",
      "  File \"/home/paperspace/anaconda3/envs/fastai/lib/python3.6/site-packages/tqdm/_tqdm.py\", line 144, in run\n",
      "    for instance in self.tqdm_cls._instances:\n",
      "  File \"/home/paperspace/anaconda3/envs/fastai/lib/python3.6/_weakrefset.py\", line 60, in __iter__\n",
      "    for itemref in self.data:\n",
      "RuntimeError: Set changed size during iteration\n",
      "\n"
     ]
    },
    {
     "name": "stdout",
     "output_type": "stream",
     "text": [
      "epoch      trn_loss   val_loss                              \n",
      "    0      2.149064   1.973366  \n",
      "    1      1.756375   1.648479                              \n",
      "    2      1.585248   1.527809                              \n",
      "    3      1.535328   1.484868                              \n",
      "    4      1.485981   1.446952                              \n",
      "\n"
     ]
    },
    {
     "data": {
      "text/plain": [
       "[1.4469517]"
      ]
     },
     "execution_count": 99,
     "metadata": {},
     "output_type": "execute_result"
    }
   ],
   "source": [
    "learner.fit(1e-3, 5, wds=1e-6)"
   ]
  },
  {
   "cell_type": "code",
   "execution_count": 100,
   "metadata": {
    "ExecuteTime": {
     "end_time": "2018-03-02T19:48:18.955558Z",
     "start_time": "2018-03-02T19:48:18.919329Z"
    }
   },
   "outputs": [],
   "source": [
    "learner.save('5_cycles_1.44')"
   ]
  },
  {
   "cell_type": "code",
   "execution_count": 101,
   "metadata": {
    "ExecuteTime": {
     "end_time": "2018-03-02T20:29:52.301453Z",
     "start_time": "2018-03-02T19:48:21.870477Z"
    }
   },
   "outputs": [
    {
     "data": {
      "application/vnd.jupyter.widget-view+json": {
       "model_id": "d15a8986bc2e467c9dbeee894ec61853",
       "version_major": 2,
       "version_minor": 0
      },
      "text/html": [
       "<p>Failed to display Jupyter Widget of type <code>HBox</code>.</p>\n",
       "<p>\n",
       "  If you're reading this message in the Jupyter Notebook or JupyterLab Notebook, it may mean\n",
       "  that the widgets JavaScript is still loading. If this message persists, it\n",
       "  likely means that the widgets JavaScript library is either not installed or\n",
       "  not enabled. See the <a href=\"https://ipywidgets.readthedocs.io/en/stable/user_install.html\">Jupyter\n",
       "  Widgets Documentation</a> for setup instructions.\n",
       "</p>\n",
       "<p>\n",
       "  If you're reading this message in another frontend (for example, a static\n",
       "  rendering on GitHub or <a href=\"https://nbviewer.jupyter.org/\">NBViewer</a>),\n",
       "  it may mean that your frontend doesn't currently support widgets.\n",
       "</p>\n"
      ],
      "text/plain": [
       "HBox(children=(IntProgress(value=0, description='Epoch', max=25), HTML(value='')))"
      ]
     },
     "metadata": {},
     "output_type": "display_data"
    },
    {
     "name": "stdout",
     "output_type": "stream",
     "text": [
      "epoch      trn_loss   val_loss                              \n",
      "    0      1.456382   1.430118  \n",
      "    1      1.449606   1.412575                              \n",
      "    2      1.408196   1.398255                              \n",
      "    3      1.402903   1.390815                              \n",
      "    4      1.414043   1.389208                              \n",
      "    5      1.424497   1.391573                              \n",
      "    6      1.402332   1.379109                              \n",
      "    7      1.37727    1.370483                              \n",
      "    8      1.376962   1.364636                              \n",
      "    9      1.374661   1.363242                              \n",
      "    10     1.377366   1.367704                              \n",
      "    11     1.373221   1.360365                              \n",
      "    12     1.367682   1.350899                              \n",
      "    13     1.352277   1.345672                              \n",
      "    14     1.343966   1.344525                              \n",
      "    15     1.369435   1.352744                              \n",
      "    16     1.35743    1.342619                              \n",
      "    17     1.337644   1.33636                               \n",
      "    18     1.326381   1.331875                              \n",
      "    19     1.319307   1.33126                               \n",
      "    20     1.35546    1.336479                              \n",
      "    21     1.33393    1.334512                              \n",
      "    22     1.31226    1.327609                              \n",
      "    23     1.309956   1.323731                              \n",
      "    24     1.30212    1.322437                              \n",
      "\n"
     ]
    },
    {
     "data": {
      "text/plain": [
       "[1.3224372]"
      ]
     },
     "execution_count": 101,
     "metadata": {},
     "output_type": "execute_result"
    }
   ],
   "source": [
    "learner.fit(1e-3, 5, wds=1e-6, cycle_len=5)"
   ]
  },
  {
   "cell_type": "code",
   "execution_count": 102,
   "metadata": {
    "ExecuteTime": {
     "end_time": "2018-03-02T20:30:15.573841Z",
     "start_time": "2018-03-02T20:30:15.539098Z"
    }
   },
   "outputs": [],
   "source": [
    "learner.save('30_cycles_1.32')"
   ]
  },
  {
   "cell_type": "markdown",
   "metadata": {},
   "source": [
    "#### Test"
   ]
  },
  {
   "cell_type": "code",
   "execution_count": null,
   "metadata": {
    "ExecuteTime": {
     "end_time": "2018-03-02T20:29:52.301453Z",
     "start_time": "2018-03-02T19:48:21.870477Z"
    }
   },
   "outputs": [
    {
     "data": {
      "application/vnd.jupyter.widget-view+json": {
       "model_id": "2be02e2989b94a4cbffae1e46d5f5989",
       "version_major": 2,
       "version_minor": 0
      },
      "text/html": [
       "<p>Failed to display Jupyter Widget of type <code>HBox</code>.</p>\n",
       "<p>\n",
       "  If you're reading this message in the Jupyter Notebook or JupyterLab Notebook, it may mean\n",
       "  that the widgets JavaScript is still loading. If this message persists, it\n",
       "  likely means that the widgets JavaScript library is either not installed or\n",
       "  not enabled. See the <a href=\"https://ipywidgets.readthedocs.io/en/stable/user_install.html\">Jupyter\n",
       "  Widgets Documentation</a> for setup instructions.\n",
       "</p>\n",
       "<p>\n",
       "  If you're reading this message in another frontend (for example, a static\n",
       "  rendering on GitHub or <a href=\"https://nbviewer.jupyter.org/\">NBViewer</a>),\n",
       "  it may mean that your frontend doesn't currently support widgets.\n",
       "</p>\n"
      ],
      "text/plain": [
       "HBox(children=(IntProgress(value=0, description='Epoch', max=5), HTML(value='')))"
      ]
     },
     "metadata": {},
     "output_type": "display_data"
    },
    {
     "name": "stdout",
     "output_type": "stream",
     "text": [
      "  5%|▌         | 16/307 [00:05<01:32,  3.13it/s, loss=3.26] \n",
      "  6%|▌         | 17/307 [00:05<01:32,  3.13it/s, loss=3.25]"
     ]
    },
    {
     "name": "stderr",
     "output_type": "stream",
     "text": [
      "Exception in thread Thread-79:\n",
      "Traceback (most recent call last):\n",
      "  File \"/home/paperspace/anaconda3/envs/fastai/lib/python3.6/threading.py\", line 916, in _bootstrap_inner\n",
      "    self.run()\n",
      "  File \"/home/paperspace/anaconda3/envs/fastai/lib/python3.6/site-packages/tqdm/_tqdm.py\", line 144, in run\n",
      "    for instance in self.tqdm_cls._instances:\n",
      "  File \"/home/paperspace/anaconda3/envs/fastai/lib/python3.6/_weakrefset.py\", line 60, in __iter__\n",
      "    for itemref in self.data:\n",
      "RuntimeError: Set changed size during iteration\n",
      "\n"
     ]
    },
    {
     "name": "stdout",
     "output_type": "stream",
     "text": [
      " 22%|██▏       | 68/307 [00:21<01:15,  3.15it/s, loss=3.04]"
     ]
    }
   ],
   "source": [
    "learner.fit(1e-3, 5, wds=1e-6)"
   ]
  },
  {
   "cell_type": "code",
   "execution_count": null,
   "metadata": {},
   "outputs": [],
   "source": []
  }
 ],
 "metadata": {
  "kernelspec": {
   "display_name": "Python 3",
   "language": "python",
   "name": "python3"
  },
  "language_info": {
   "codemirror_mode": {
    "name": "ipython",
    "version": 3
   },
   "file_extension": ".py",
   "mimetype": "text/x-python",
   "name": "python",
   "nbconvert_exporter": "python",
   "pygments_lexer": "ipython3",
   "version": "3.6.4"
  }
 },
 "nbformat": 4,
 "nbformat_minor": 2
}
