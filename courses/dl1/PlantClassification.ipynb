{
 "cells": [
  {
   "cell_type": "code",
   "execution_count": 1,
   "metadata": {},
   "outputs": [],
   "source": [
    "%reload_ext autoreload\n",
    "%autoreload 2\n",
    "%matplotlib inline"
   ]
  },
  {
   "cell_type": "code",
   "execution_count": 2,
   "metadata": {},
   "outputs": [],
   "source": [
    "from fastai.imports import *\n",
    "from fastai.transforms import *\n",
    "from fastai.conv_learner import *\n",
    "from fastai.model import *\n",
    "from fastai.dataset import *\n",
    "from fastai.sgdr import *\n",
    "from fastai.plots import *"
   ]
  },
  {
   "cell_type": "code",
   "execution_count": 3,
   "metadata": {},
   "outputs": [],
   "source": [
    "PATH = 'data/plant_classification/'"
   ]
  },
  {
   "cell_type": "code",
   "execution_count": 7,
   "metadata": {},
   "outputs": [
    {
     "name": "stdout",
     "output_type": "stream",
     "text": [
      "0050f38b3.png  355cad34c.png  6a19547c5.png  a26cb8017.png  d0ad9c78b.png\r\n",
      "0183fdf68.png  37d85d833.png  6aabdeb45.png  a37d61200.png  d112c9c28.png\r\n",
      "0260cffa8.png  39e9bf4c7.png  6afa7c717.png  a47cfeec4.png  d3c72d4c3.png\r\n",
      "05eedce4d.png  3a8c485bc.png  6b9ebf8cc.png  a53088ca0.png  d3e69adad.png\r\n",
      "075d004bc.png  3b7266ac3.png  6e027ec7d.png  a5f23b59f.png  d3ff1a639.png\r\n",
      "078eae073.png  3b7d1fe82.png  6e193f1bb.png  a6f939a8b.png  d441eeda3.png\r\n",
      "082314602.png  3dc08a0f7.png  7050b0b8a.png  a7d2b005e.png  d6036a0f4.png\r\n",
      "0ace21089.png  3de7650a2.png  70bfa70ff.png  a87fd277c.png  d622ca3d2.png\r\n",
      "0b228a6b8.png  3e9ef1999.png  71f6e3227.png  a8ab1ff26.png  d8afd58f3.png\r\n",
      "0b3e7a7a9.png  3f268bcf8.png  72fd52505.png  a8cdae28a.png  da4f48653.png\r\n",
      "0bb75ded8.png  3fb361e79.png  75ef53b3b.png  a8de8a80a.png  da5082ce2.png\r\n",
      "0be707615.png  3ff68fa8a.png  765a69082.png  aa5bb06a1.png  daa7d4620.png\r\n",
      "0c67c3fc3.png  40bf7be90.png  775735fb9.png  ab479d343.png  db337c4e7.png\r\n",
      "0d1a9985f.png  418808d19.png  77629b9e3.png  ab787fb46.png  dca86daba.png\r\n",
      "0d28c429b.png  42336b187.png  7b71d3e65.png  abe0f4751.png  dcbd3fa08.png\r\n",
      "0d4f74f4a.png  429a48df1.png  7b72b398d.png  ac47ebc4d.png  dd091a2a9.png\r\n",
      "0dad57e7f.png  42af989bc.png  7e1bf9449.png  ac56bd408.png  dde665ea5.png\r\n",
      "0e91f92a1.png  448a59eac.png  7f37cd4e4.png  adc5443dc.png  df2e6e002.png\r\n",
      "0fe440ed5.png  455546801.png  7f84c8699.png  ade525bad.png  e0380dff9.png\r\n",
      "1276dffba.png  461feacba.png  7fa6dbe11.png  ae8f69724.png  e2b2a20b2.png\r\n",
      "129c51855.png  470608aba.png  8029e3396.png  af1b91028.png  e47987eab.png\r\n",
      "13a7f553a.png  48141d6a7.png  807f9b257.png  af3e2c6da.png  e4af651a3.png\r\n",
      "14719a83e.png  495cebacf.png  82e0d98d2.png  afaade548.png  e5a6e8ebc.png\r\n",
      "1576ce9fd.png  498269666.png  840a7ed59.png  b024eeb75.png  e5f50d22a.png\r\n",
      "163c13912.png  4a3b96198.png  84e43f2ff.png  b26a7a6ed.png  e62aa6d6e.png\r\n",
      "163e571a6.png  4a7e7eba8.png  850a09a6b.png  b4b8b1507.png  e67dbce63.png\r\n",
      "16c69a6d8.png  4cd2a07dd.png  86dfe670c.png  b504c071f.png  e7d7e6351.png\r\n",
      "173cec485.png  4cf922aea.png  87dd8ebac.png  b561b3bc2.png  ea498dd9c.png\r\n",
      "1a125880e.png  4e1cb1e27.png  88fceea2f.png  b790f7be5.png  ea85eb4a1.png\r\n",
      "1af1eddd3.png  4f0dcbcc3.png  891c720f8.png  b937353c0.png  eac39cfa8.png\r\n",
      "1d39b8f30.png  4f48eb987.png  898ecfa78.png  b9dfffe2a.png  ebd2350df.png\r\n",
      "1e49633e0.png  5212d8564.png  89f06ca64.png  b9e36fa79.png  ecd14321d.png\r\n",
      "20b2cbaed.png  5296a06e6.png  8dd397cd9.png  bab8eb04a.png  ed0bc2794.png\r\n",
      "20d4fab57.png  53ab7a3da.png  9052e3e7f.png  bac2710a2.png  ed17d766b.png\r\n",
      "2269e0a1e.png  54b2dac6e.png  90ea1e327.png  bc68a27f9.png  ed4b42936.png\r\n",
      "228d8ad5c.png  54c6dbde4.png  91a175741.png  befaed3e4.png  ed540beb6.png\r\n",
      "22be204a3.png  550dfcb36.png  92e5fcce4.png  bf5662989.png  f007dfa26.png\r\n",
      "25daae389.png  594485a0c.png  93f68d1a9.png  c025e2886.png  f0a7c51a2.png\r\n",
      "260c4eed3.png  595e77ddf.png  9443199bb.png  c0cbaa32c.png  f20bf670a.png\r\n",
      "26103af9c.png  5a1295fb4.png  957b8523c.png  c11422bb2.png  f39ddbe0a.png\r\n",
      "279ac215b.png  5a8b75712.png  963dbc831.png  c1a625098.png  f423f84da.png\r\n",
      "28a707630.png  5c405ae2d.png  97cbef805.png  c1ab59648.png  f47390401.png\r\n",
      "2aa60045d.png  5d358beb9.png  983663c56.png  c39541d9a.png  f4b7ddbce.png\r\n",
      "2ed589264.png  5db29d0b5.png  9959fb099.png  c3b38d028.png  f5ca3d442.png\r\n",
      "2ee4dad8c.png  5e21fa6f1.png  9b1c42272.png  c66bab8b6.png  f7f671785.png\r\n",
      "2f0ae1b34.png  5e4d1ee0d.png  9e2bfa93d.png  c8884407d.png  f82d13d23.png\r\n",
      "2f6bc240a.png  5e65dbdd7.png  9e99f6a34.png  c999c3095.png  f84089a55.png\r\n",
      "3002e5d9d.png  6104de96e.png  a03bc7b24.png  c9f6ffa0c.png  fab809601.png\r\n",
      "31958c132.png  6172f64fd.png  a0405de4d.png  cbeb36bc6.png  fb487c5a4.png\r\n",
      "31f2766cb.png  6182bd48c.png  a08892355.png  cc90c662f.png  fc1001932.png\r\n",
      "32d97b170.png  675a6956e.png  a0baf5f7b.png  cd8031a0c.png  fef14b865.png\r\n",
      "332f68a21.png  686132594.png  a1cb5a321.png  cfbe062b3.png\r\n",
      "34a672a63.png  69ad6773e.png  a20b64ac6.png  d090d6b25.png\r\n"
     ]
    }
   ],
   "source": [
    "def rand_img:\n",
    "    rand_folder = random.randint(0,11)\n",
    "    imgs = !ls {PATH}train/Black-grass"
   ]
  },
  {
   "cell_type": "code",
   "execution_count": null,
   "metadata": {},
   "outputs": [],
   "source": [
    "PIL.Image.open(PATH+'train')"
   ]
  },
  {
   "cell_type": "code",
   "execution_count": null,
   "metadata": {},
   "outputs": [],
   "source": []
  },
  {
   "cell_type": "code",
   "execution_count": 4,
   "metadata": {},
   "outputs": [],
   "source": [
    "arch = resnet50"
   ]
  },
  {
   "cell_type": "code",
   "execution_count": 5,
   "metadata": {},
   "outputs": [],
   "source": [
    "def get_data(sz):\n",
    "    tfms = tfms_from_model(arch, sz, aug_tfms=transforms_side_on, max_zoom=1.05)\n",
    "    data = ImageClassifierData.from_paths(PATH, tfms=tfms, test_name='test')\n",
    "    return data"
   ]
  },
  {
   "cell_type": "code",
   "execution_count": 6,
   "metadata": {},
   "outputs": [],
   "source": [
    "learn = ConvLearner.pretrained(arch, get_data(128))"
   ]
  },
  {
   "cell_type": "code",
   "execution_count": 7,
   "metadata": {},
   "outputs": [
    {
     "data": {
      "application/vnd.jupyter.widget-view+json": {
       "model_id": "9a5b2979762345a2bdeff9f2b08a085b",
       "version_major": 2,
       "version_minor": 0
      },
      "text/html": [
       "<p>Failed to display Jupyter Widget of type <code>HBox</code>.</p>\n",
       "<p>\n",
       "  If you're reading this message in the Jupyter Notebook or JupyterLab Notebook, it may mean\n",
       "  that the widgets JavaScript is still loading. If this message persists, it\n",
       "  likely means that the widgets JavaScript library is either not installed or\n",
       "  not enabled. See the <a href=\"https://ipywidgets.readthedocs.io/en/stable/user_install.html\">Jupyter\n",
       "  Widgets Documentation</a> for setup instructions.\n",
       "</p>\n",
       "<p>\n",
       "  If you're reading this message in another frontend (for example, a static\n",
       "  rendering on GitHub or <a href=\"https://nbviewer.jupyter.org/\">NBViewer</a>),\n",
       "  it may mean that your frontend doesn't currently support widgets.\n",
       "</p>\n"
      ],
      "text/plain": [
       "HBox(children=(IntProgress(value=0, description='Epoch', max=5), HTML(value='')))"
      ]
     },
     "metadata": {},
     "output_type": "display_data"
    },
    {
     "name": "stdout",
     "output_type": "stream",
     "text": [
      "[ 0.       1.44378  0.96469  0.66927]                     \n",
      "[ 1.       1.12165  0.78873  0.7224 ]                     \n",
      "[ 2.       0.97535  0.65676  0.76979]                      \n",
      "[ 3.       0.85524  0.60596  0.80052]                      \n",
      "[ 4.       0.79869  0.54862  0.81771]                      \n",
      "\n"
     ]
    }
   ],
   "source": [
    "learn.fit(1e-2, 5, cycle_len=1)"
   ]
  },
  {
   "cell_type": "code",
   "execution_count": 8,
   "metadata": {},
   "outputs": [],
   "source": [
    "lr = 1e-2\n",
    "lrs = np.array([lr/9, lr/3, lr])"
   ]
  },
  {
   "cell_type": "code",
   "execution_count": 9,
   "metadata": {},
   "outputs": [],
   "source": [
    "learn.unfreeze()"
   ]
  },
  {
   "cell_type": "code",
   "execution_count": 10,
   "metadata": {},
   "outputs": [
    {
     "data": {
      "application/vnd.jupyter.widget-view+json": {
       "model_id": "4aa7a09e6ed24954a61359f018cddb24",
       "version_major": 2,
       "version_minor": 0
      },
      "text/html": [
       "<p>Failed to display Jupyter Widget of type <code>HBox</code>.</p>\n",
       "<p>\n",
       "  If you're reading this message in the Jupyter Notebook or JupyterLab Notebook, it may mean\n",
       "  that the widgets JavaScript is still loading. If this message persists, it\n",
       "  likely means that the widgets JavaScript library is either not installed or\n",
       "  not enabled. See the <a href=\"https://ipywidgets.readthedocs.io/en/stable/user_install.html\">Jupyter\n",
       "  Widgets Documentation</a> for setup instructions.\n",
       "</p>\n",
       "<p>\n",
       "  If you're reading this message in another frontend (for example, a static\n",
       "  rendering on GitHub or <a href=\"https://nbviewer.jupyter.org/\">NBViewer</a>),\n",
       "  it may mean that your frontend doesn't currently support widgets.\n",
       "</p>\n"
      ],
      "text/plain": [
       "HBox(children=(IntProgress(value=0, description='Epoch', max=7), HTML(value='')))"
      ]
     },
     "metadata": {},
     "output_type": "display_data"
    },
    {
     "name": "stdout",
     "output_type": "stream",
     "text": [
      "[ 0.       0.53612  0.36522  0.875  ]                      \n",
      "[ 1.       0.32773  0.20349  0.92604]                      \n",
      "[ 2.       0.20332  0.12792  0.96094]                      \n",
      "[ 3.       0.17064  0.11744  0.96406]                      \n",
      "[ 4.       0.13277  0.06653  0.97344]                      \n",
      "[ 5.       0.0901   0.04879  0.9875 ]                       \n",
      "[ 6.       0.06803  0.04317  0.9875 ]                       \n",
      "\n"
     ]
    }
   ],
   "source": [
    "learn.fit(lrs, 3, cycle_len=1, cycle_mult=2)"
   ]
  },
  {
   "cell_type": "code",
   "execution_count": 11,
   "metadata": {},
   "outputs": [],
   "source": [
    "learn.save('128')"
   ]
  },
  {
   "cell_type": "code",
   "execution_count": 12,
   "metadata": {},
   "outputs": [
    {
     "data": {
      "image/png": "[encoded data removed]",
      "text/plain": [
       "<matplotlib.figure.Figure at 0x7fcc7bcd34e0>"
      ]
     },
     "metadata": {},
     "output_type": "display_data"
    }
   ],
   "source": [
    "learn.sched.plot_loss()"
   ]
  },
  {
   "cell_type": "code",
   "execution_count": 13,
   "metadata": {},
   "outputs": [],
   "source": [
    "learn.set_data(get_data(256))"
   ]
  },
  {
   "cell_type": "code",
   "execution_count": 14,
   "metadata": {},
   "outputs": [
    {
     "data": {
      "application/vnd.jupyter.widget-view+json": {
       "model_id": "0aac476706f6496190a65f684b0d567a",
       "version_major": 2,
       "version_minor": 0
      },
      "text/html": [
       "<p>Failed to display Jupyter Widget of type <code>HBox</code>.</p>\n",
       "<p>\n",
       "  If you're reading this message in the Jupyter Notebook or JupyterLab Notebook, it may mean\n",
       "  that the widgets JavaScript is still loading. If this message persists, it\n",
       "  likely means that the widgets JavaScript library is either not installed or\n",
       "  not enabled. See the <a href=\"https://ipywidgets.readthedocs.io/en/stable/user_install.html\">Jupyter\n",
       "  Widgets Documentation</a> for setup instructions.\n",
       "</p>\n",
       "<p>\n",
       "  If you're reading this message in another frontend (for example, a static\n",
       "  rendering on GitHub or <a href=\"https://nbviewer.jupyter.org/\">NBViewer</a>),\n",
       "  it may mean that your frontend doesn't currently support widgets.\n",
       "</p>\n"
      ],
      "text/plain": [
       "HBox(children=(IntProgress(value=0, description='Epoch', max=3), HTML(value='')))"
      ]
     },
     "metadata": {},
     "output_type": "display_data"
    },
    {
     "name": "stdout",
     "output_type": "stream",
     "text": [
      "[ 0.       0.23418  0.1815   0.9375 ]                      \n",
      "[ 1.       0.18428  0.17243  0.93437]                      \n",
      "[ 2.       0.16712  0.16165  0.93594]                      \n",
      "\n"
     ]
    }
   ],
   "source": [
    "learn.freeze()\n",
    "learn.fit(lr, 3, cycle_len=1)"
   ]
  },
  {
   "cell_type": "code",
   "execution_count": 15,
   "metadata": {},
   "outputs": [
    {
     "data": {
      "application/vnd.jupyter.widget-view+json": {
       "model_id": "57cf63c5daeb4925a188c91f2f293274",
       "version_major": 2,
       "version_minor": 0
      },
      "text/html": [
       "<p>Failed to display Jupyter Widget of type <code>HBox</code>.</p>\n",
       "<p>\n",
       "  If you're reading this message in the Jupyter Notebook or JupyterLab Notebook, it may mean\n",
       "  that the widgets JavaScript is still loading. If this message persists, it\n",
       "  likely means that the widgets JavaScript library is either not installed or\n",
       "  not enabled. See the <a href=\"https://ipywidgets.readthedocs.io/en/stable/user_install.html\">Jupyter\n",
       "  Widgets Documentation</a> for setup instructions.\n",
       "</p>\n",
       "<p>\n",
       "  If you're reading this message in another frontend (for example, a static\n",
       "  rendering on GitHub or <a href=\"https://nbviewer.jupyter.org/\">NBViewer</a>),\n",
       "  it may mean that your frontend doesn't currently support widgets.\n",
       "</p>\n"
      ],
      "text/plain": [
       "HBox(children=(IntProgress(value=0, description='Epoch', max=7), HTML(value='')))"
      ]
     },
     "metadata": {},
     "output_type": "display_data"
    },
    {
     "name": "stdout",
     "output_type": "stream",
     "text": [
      "[ 0.       0.15313  0.09775  0.96562]                      \n",
      "[ 1.       0.13638  0.09924  0.96562]                      \n",
      "[ 2.       0.07531  0.0553   0.98281]                       \n",
      "[ 3.       0.06235  0.05357  0.98594]                       \n",
      "[ 4.       0.05251  0.03024  0.98906]                       \n",
      "[ 5.       0.03701  0.02077  0.99375]                       \n",
      "[ 6.       0.02489  0.02104  0.99062]                       \n",
      "\n"
     ]
    }
   ],
   "source": [
    "learn.unfreeze()\n",
    "learn.fit(lrs, 3, cycle_len=1, cycle_mult=2)\n",
    "learn.save('256')"
   ]
  },
  {
   "cell_type": "code",
   "execution_count": 60,
   "metadata": {},
   "outputs": [
    {
     "data": {
      "text/plain": [
       "['Black-grass',\n",
       " 'Charlock',\n",
       " 'Cleavers',\n",
       " 'Common Chickweed',\n",
       " 'Common wheat',\n",
       " 'Fat Hen',\n",
       " 'Loose Silky-bent',\n",
       " 'Maize',\n",
       " 'Scentless Mayweed',\n",
       " 'Shepherds Purse',\n",
       " 'Small-flowered Cranesbill',\n",
       " 'Sugar beet']"
      ]
     },
     "execution_count": 60,
     "metadata": {},
     "output_type": "execute_result"
    }
   ],
   "source": [
    "classes = learn.data.classes; classes"
   ]
  },
  {
   "cell_type": "code",
   "execution_count": 17,
   "metadata": {},
   "outputs": [
    {
     "name": "stdout",
     "output_type": "stream",
     "text": [
      "                                             \r"
     ]
    }
   ],
   "source": [
    "log_preds,y = learn.TTA(is_test=True)\n",
    "probs = np.exp(log_preds)"
   ]
  },
  {
   "cell_type": "code",
   "execution_count": 32,
   "metadata": {},
   "outputs": [
    {
     "data": {
      "text/plain": [
       "(5, 794, 12)"
      ]
     },
     "execution_count": 32,
     "metadata": {},
     "output_type": "execute_result"
    }
   ],
   "source": [
    "probs.shape\n",
    "# this is 3d because of the TTA...?\n",
    "# need to take the mean values to transform into 2d array"
   ]
  },
  {
   "cell_type": "code",
   "execution_count": 40,
   "metadata": {},
   "outputs": [],
   "source": [
    "mean = np.mean(probs,0)"
   ]
  },
  {
   "cell_type": "code",
   "execution_count": 42,
   "metadata": {},
   "outputs": [
    {
     "data": {
      "text/plain": [
       "(794, 12)"
      ]
     },
     "execution_count": 42,
     "metadata": {},
     "output_type": "execute_result"
    }
   ],
   "source": [
    "mean.shape"
   ]
  },
  {
   "cell_type": "code",
   "execution_count": 44,
   "metadata": {},
   "outputs": [],
   "source": [
    "df = pd.DataFrame(mean)"
   ]
  },
  {
   "cell_type": "code",
   "execution_count": 61,
   "metadata": {},
   "outputs": [
    {
     "data": {
      "text/plain": [
       "array([ 4, 10, 10,  7, 10,  7,  6,  3,  4,  4,  3,  6,  3,  8,  1,  9,  0,  9,  6,  1,  7,  6, 10,  2,  3,  3,\n",
       "        6,  6,  8,  5,  3,  7, 10,  6,  5,  6,  3,  7, 10, 10,  6,  4, 10,  3,  3,  4,  2,  6,  1,  1,  8,  6,\n",
       "        4,  2, 11, 11,  0,  5,  5,  4,  7,  3,  0,  0,  6,  9,  7,  2,  6,  9,  6,  5,  8,  7,  6,  6,  3, 11,\n",
       "        8, 10,  3,  6,  3,  6, 10,  9,  1,  7,  8,  6,  8,  8,  2, 10,  3,  3,  2,  2,  2,  3,  8,  8,  9,  7,\n",
       "        5,  4,  0,  3,  8, 11,  9,  1,  8,  7,  3,  2,  0, 10,  4, 11, 11,  1,  0,  6,  6, 10,  0,  3,  8,  6,\n",
       "        8,  1, 11,  1,  3,  1,  6,  6, 11,  6, 10,  0,  3,  1,  1,  3,  2,  4, 10,  6,  5, 11,  5,  9,  1,  7,\n",
       "        1,  4,  0,  8,  3,  1,  5,  8,  8,  6,  6,  3, 11,  5, 11, 10,  9, 11, 10,  3,  5,  3,  0, 10,  5,  3,\n",
       "        6,  3,  0,  9, 11, 10,  1,  0, 10,  8,  4,  6,  8, 10, 10,  1,  4,  6,  6,  4,  3, 10,  7,  8,  6, 10,\n",
       "        2,  1, 10,  2,  3,  2, 11,  1,  6,  6,  3,  1,  6,  7,  6,  0,  6,  6, 11,  7, 11,  6,  1,  5,  6,  8,\n",
       "        2,  1, 11,  6, 10,  9,  1,  1,  3,  1, 11,  6,  2,  1,  9,  9,  9,  8, 11, 11,  9, 11, 11,  4,  4,  3,\n",
       "        2,  6,  5,  6, 11,  3,  8,  8,  5, 11,  3,  2,  3,  0,  8,  0,  1,  6,  6,  8,  6,  4,  3,  8,  1,  9,\n",
       "        6, 11,  5,  0,  8,  8, 10,  6,  2,  5,  5,  2, 10,  8,  9,  9,  3,  8,  4, 11,  5,  9, 10,  2,  6,  6,\n",
       "       10,  2, 11,  6,  5,  6, 11,  1, 11, 11,  5,  6,  7,  3, 10,  0,  5,  5,  6,  2, 10,  6, 11,  8,  3,  6,\n",
       "        8, 10,  8, 10, 11,  3,  0,  6,  8,  3, 10, 11,  8,  3, 11,  8,  6, 11,  6, 11,  2, 11,  7,  1,  2,  3,\n",
       "        8,  0,  1,  3,  6,  8,  1,  7,  8,  6,  6, 11,  6,  5,  3,  3,  4,  1,  3,  5,  6,  6,  6,  0,  8,  6,\n",
       "        1,  6,  3,  5,  3,  9, 10,  6, 10,  6,  3,  6,  8,  9,  3,  6,  8,  8,  9, 10,  9,  8,  6,  6,  8,  1,\n",
       "        6, 10,  5, 11,  0,  4,  8,  4,  6,  7,  6,  9,  0, 10,  9, 10, 10,  3,  5,  6,  3,  8,  2, 10, 10, 10,\n",
       "       11,  6, 11,  2,  4,  6,  1,  8,  6, 11,  9,  3,  7, 11,  6,  3, 10,  7,  2,  8,  6,  6, 10,  8,  5,  4,\n",
       "        3,  6, 10,  7,  9,  2,  1, 10,  8,  3, 10,  3, 10,  6, 10, 11,  3, 11, 11, 11,  7,  8,  6,  5,  1,  3,\n",
       "       11,  3, 11,  2,  3,  5, 10,  9,  6,  8,  0, 11,  5,  1,  3, 11,  8,  8,  9,  3,  9,  9, 10, 10,  6,  0,\n",
       "        6,  2,  3,  5,  8,  5,  7,  4, 11,  6,  3,  5, 11,  6, 10, 10,  7,  5, 10, 10,  9,  2,  1, 10,  1,  5,\n",
       "        3,  2,  2,  9,  3,  4,  1,  8,  8,  7,  3, 10,  2,  7,  5,  5,  8,  3,  4,  7,  6, 10,  5, 10,  6, 11,\n",
       "        6,  8,  0,  3,  8,  6, 10,  8,  8,  3,  1, 10,  5,  2,  2, 11,  3, 11,  9,  1, 10, 11, 10,  1, 11,  1,\n",
       "       11,  8,  8,  1,  2,  8,  8, 11,  9,  2, 10,  3,  5,  8,  6, 11,  2, 10,  6,  5,  8,  5,  5,  9,  6,  0,\n",
       "        1,  5,  3,  2,  5,  3, 10,  8,  6,  3,  3,  8,  3,  6,  8,  3,  6,  5,  1,  3,  8, 11,  5,  1,  2,  4,\n",
       "        9, 10,  5,  2,  1,  3,  5,  6,  3,  8,  5,  0, 10,  0, 11, 10,  1, 11,  4,  1,  5,  6, 10,  8,  9, 10,\n",
       "        2,  7,  7, 11,  8,  3,  6,  8,  0,  6,  1, 11,  9,  5,  0,  3,  3,  1,  6, 11,  8,  3, 10,  6,  5,  3,\n",
       "        6,  3,  7,  8,  7, 11,  9,  1,  8,  1,  2,  0,  5,  5,  5,  5,  6, 11,  8,  6,  0,  6,  7, 11,  4,  4,\n",
       "        1,  8, 11,  9,  3,  9,  8,  3,  3,  6, 11,  6, 11, 10,  2,  8,  8,  7,  8,  4,  8,  3,  1,  8,  9,  1,\n",
       "        7,  0,  5, 11,  4,  3,  8, 11, 10,  0,  1,  3,  2, 10,  0,  3,  9,  2,  3,  2, 11,  6,  0,  9,  6,  3,\n",
       "       11,  0,  5,  1,  8, 10,  3,  7,  6, 11,  6,  5,  3,  5])"
      ]
     },
     "execution_count": 61,
     "metadata": {},
     "output_type": "execute_result"
    }
   ],
   "source": [
    "choices = np.argmax(mean,1); choices\n",
    "# Returns the indices of the maximum values along an axis"
   ]
  },
  {
   "cell_type": "code",
   "execution_count": 87,
   "metadata": {},
   "outputs": [],
   "source": [
    "res = []\n",
    "for i in np.nditer(choices):\n",
    "    res.append(classes[i])"
   ]
  },
  {
   "cell_type": "code",
   "execution_count": 88,
   "metadata": {},
   "outputs": [],
   "source": [
    "df = pd.DataFrame(res)"
   ]
  },
  {
   "cell_type": "code",
   "execution_count": 84,
   "metadata": {},
   "outputs": [
    {
     "data": {
      "text/plain": [
       "['test/79e5ea8fa.png',\n",
       " 'test/3a909ead8.png',\n",
       " 'test/599691cd9.png',\n",
       " 'test/5ca2687a4.png',\n",
       " 'test/3dd52bd2a.png',\n",
       " 'test/1541bdb2e.png',\n",
       " 'test/39d569be4.png',\n",
       " 'test/3d65168c2.png',\n",
       " 'test/995c7ab1e.png',\n",
       " 'test/99569b224.png',\n",
       " 'test/8d6acbe9b.png',\n",
       " 'test/aee6fa3df.png',\n",
       " 'test/5b63dcc21.png',\n",
       " 'test/219fd68d5.png',\n",
       " 'test/69d1669f8.png',\n",
       " 'test/82b5f4d33.png',\n",
       " 'test/35ebe165c.png',\n",
       " 'test/aad8375e0.png',\n",
       " 'test/1376f3b63.png',\n",
       " 'test/728eabae1.png',\n",
       " 'test/0c51bf229.png',\n",
       " 'test/cf3a8b2fd.png',\n",
       " 'test/60f0bc617.png',\n",
       " 'test/4e18ab737.png',\n",
       " 'test/3fbd0fc6a.png',\n",
       " 'test/cf46d09c5.png',\n",
       " 'test/558aa7deb.png',\n",
       " 'test/b03397525.png',\n",
       " 'test/1bf9b94a6.png',\n",
       " 'test/2a667e099.png',\n",
       " 'test/5bd71f445.png',\n",
       " 'test/b39c71707.png',\n",
       " 'test/752101fdf.png',\n",
       " 'test/1d0cbd819.png',\n",
       " 'test/3da774107.png',\n",
       " 'test/a276c65f7.png',\n",
       " 'test/d2f422ccb.png',\n",
       " 'test/466bb6d3b.png',\n",
       " 'test/77ccb8b2a.png',\n",
       " 'test/2f246d688.png',\n",
       " 'test/65e97117e.png',\n",
       " 'test/e5e3dccff.png',\n",
       " 'test/e80a259c5.png',\n",
       " 'test/da5255450.png',\n",
       " 'test/ce3d280eb.png',\n",
       " 'test/c7eb96871.png',\n",
       " 'test/fa9f3a8f9.png',\n",
       " 'test/3f92d8039.png',\n",
       " 'test/668c1007c.png',\n",
       " 'test/fadc6adbc.png',\n",
       " 'test/dcd7ff249.png',\n",
       " 'test/c1ecff98b.png',\n",
       " 'test/2a5064f19.png',\n",
       " 'test/59e1cea8d.png',\n",
       " 'test/8faadb6a8.png',\n",
       " 'test/e783f5a4f.png',\n",
       " 'test/71b232519.png',\n",
       " 'test/26e7ae885.png',\n",
       " 'test/29f49cd0b.png',\n",
       " 'test/ffc6f8527.png',\n",
       " 'test/71334c634.png',\n",
       " 'test/8db450ce3.png',\n",
       " 'test/b6a3f7876.png',\n",
       " 'test/963544aa0.png',\n",
       " 'test/c5078bac5.png',\n",
       " 'test/fa5fd1384.png',\n",
       " 'test/25cf6eb73.png',\n",
       " 'test/e84464f5a.png',\n",
       " 'test/c60e91e07.png',\n",
       " 'test/b3d6fdb80.png',\n",
       " 'test/88ac6df54.png',\n",
       " 'test/205df1df3.png',\n",
       " 'test/d41d87796.png',\n",
       " 'test/31fcdc161.png',\n",
       " 'test/c6c8d4ba0.png',\n",
       " 'test/d515398fd.png',\n",
       " 'test/d84d37a61.png',\n",
       " 'test/fea3da57c.png',\n",
       " 'test/7beb2766f.png',\n",
       " 'test/4e69d100a.png',\n",
       " 'test/593896f83.png',\n",
       " 'test/8874bba69.png',\n",
       " 'test/2df78338c.png',\n",
       " 'test/a4b61a4ea.png',\n",
       " 'test/97b2f0a10.png',\n",
       " 'test/50de8a115.png',\n",
       " 'test/54c8bb900.png',\n",
       " 'test/377283a21.png',\n",
       " 'test/892e9d6c6.png',\n",
       " 'test/8c98a6e9b.png',\n",
       " 'test/e1809cef2.png',\n",
       " 'test/599c82eea.png',\n",
       " 'test/54b3afd58.png',\n",
       " 'test/93d76fd5d.png',\n",
       " 'test/7e9cf1c46.png',\n",
       " 'test/8e4eaeec0.png',\n",
       " 'test/fd253a74e.png',\n",
       " 'test/b215531dd.png',\n",
       " 'test/897e5a8de.png',\n",
       " 'test/ae90f2827.png',\n",
       " 'test/f8318faf1.png',\n",
       " 'test/20817c846.png',\n",
       " 'test/060f1dc84.png',\n",
       " 'test/f66ae4070.png',\n",
       " 'test/52a87abe5.png',\n",
       " 'test/fda0b5c38.png',\n",
       " 'test/e98e5d1d5.png',\n",
       " 'test/0086a6340.png',\n",
       " 'test/90d119d25.png',\n",
       " 'test/13b9fa92d.png',\n",
       " 'test/80e299ae9.png',\n",
       " 'test/66ab0e8d0.png',\n",
       " 'test/1f290e016.png',\n",
       " 'test/c10db7ae2.png',\n",
       " 'test/976e4e079.png',\n",
       " 'test/b30ab4659.png',\n",
       " 'test/6b721f68e.png',\n",
       " 'test/e88bf0db9.png',\n",
       " 'test/3f64c2c1b.png',\n",
       " 'test/cc3d2a59a.png',\n",
       " 'test/24c94a6ca.png',\n",
       " 'test/91e469b4a.png',\n",
       " 'test/cc74feadc.png',\n",
       " 'test/46c14fde2.png',\n",
       " 'test/8ca6140ca.png',\n",
       " 'test/47b7d8e17.png',\n",
       " 'test/b29339405.png',\n",
       " 'test/caa2fbd79.png',\n",
       " 'test/bffc08672.png',\n",
       " 'test/d09d24c58.png',\n",
       " 'test/bdde957ec.png',\n",
       " 'test/e471f1d3a.png',\n",
       " 'test/2ff5cb348.png',\n",
       " 'test/148bbda66.png',\n",
       " 'test/486e59179.png',\n",
       " 'test/78750e0ff.png',\n",
       " 'test/9a3f20121.png',\n",
       " 'test/e4d5ec761.png',\n",
       " 'test/93079d970.png',\n",
       " 'test/f351ce097.png',\n",
       " 'test/8916793ce.png',\n",
       " 'test/ce42adffb.png',\n",
       " 'test/a74d475c2.png',\n",
       " 'test/3ebbe9ca4.png',\n",
       " 'test/a890ac088.png',\n",
       " 'test/c0461776c.png',\n",
       " 'test/f9b6bfb00.png',\n",
       " 'test/36d62bf36.png',\n",
       " 'test/b687160f5.png',\n",
       " 'test/79d93bc96.png',\n",
       " 'test/721b2c47a.png',\n",
       " 'test/96f14d90c.png',\n",
       " 'test/c069fc3fa.png',\n",
       " 'test/a8c8a1db0.png',\n",
       " 'test/958bb9e96.png',\n",
       " 'test/534e74d83.png',\n",
       " 'test/a2c89c367.png',\n",
       " 'test/c8f50f0c3.png',\n",
       " 'test/d2fd9df40.png',\n",
       " 'test/1821eb11a.png',\n",
       " 'test/37297a64c.png',\n",
       " 'test/eec1079a1.png',\n",
       " 'test/73260a4ee.png',\n",
       " 'test/48231e475.png',\n",
       " 'test/ef74dbcad.png',\n",
       " 'test/bb1c84bbc.png',\n",
       " 'test/61b044411.png',\n",
       " 'test/d8f4923f8.png',\n",
       " 'test/9baf94467.png',\n",
       " 'test/bb7621cb3.png',\n",
       " 'test/60fea2ef6.png',\n",
       " 'test/c88ebfb47.png',\n",
       " 'test/35cf9fa01.png',\n",
       " 'test/03e322a29.png',\n",
       " 'test/063363305.png',\n",
       " 'test/59b2c6f2b.png',\n",
       " 'test/8c9953903.png',\n",
       " 'test/ef3e232ad.png',\n",
       " 'test/da713c465.png',\n",
       " 'test/f25996db8.png',\n",
       " 'test/33317fc2a.png',\n",
       " 'test/4b032563b.png',\n",
       " 'test/5bdcfa329.png',\n",
       " 'test/bd789d151.png',\n",
       " 'test/6c874918c.png',\n",
       " 'test/a74bf916d.png',\n",
       " 'test/24dbc3b21.png',\n",
       " 'test/f4e7733d4.png',\n",
       " 'test/808578ed5.png',\n",
       " 'test/0a64e3e6c.png',\n",
       " 'test/1312065a5.png',\n",
       " 'test/17529c555.png',\n",
       " 'test/b2706e2b3.png',\n",
       " 'test/9cce7328c.png',\n",
       " 'test/b145ba9d4.png',\n",
       " 'test/56112b92c.png',\n",
       " 'test/afa446484.png',\n",
       " 'test/f4caf74f9.png',\n",
       " 'test/653193c1a.png',\n",
       " 'test/7b52585da.png',\n",
       " 'test/5eb9c26a6.png',\n",
       " 'test/0caeda5df.png',\n",
       " 'test/a55d26a4c.png',\n",
       " 'test/9df3275da.png',\n",
       " 'test/b828443ff.png',\n",
       " 'test/ef7a5651d.png',\n",
       " 'test/dabea05f4.png',\n",
       " 'test/8e3ed0a25.png',\n",
       " 'test/248436078.png',\n",
       " 'test/d2f0f326e.png',\n",
       " 'test/eaf0815e2.png',\n",
       " 'test/6bce55e05.png',\n",
       " 'test/060450d79.png',\n",
       " 'test/39858776a.png',\n",
       " 'test/e0ec5b6a1.png',\n",
       " 'test/75cb95e91.png',\n",
       " 'test/115f93ecc.png',\n",
       " 'test/5315c2dca.png',\n",
       " 'test/92292055d.png',\n",
       " 'test/4e9d3765f.png',\n",
       " 'test/dfb1d9012.png',\n",
       " 'test/4b155fb07.png',\n",
       " 'test/74068643d.png',\n",
       " 'test/4c8005bbc.png',\n",
       " 'test/4049a6ea6.png',\n",
       " 'test/22fbf13d6.png',\n",
       " 'test/df11d56a7.png',\n",
       " 'test/8170d33c1.png',\n",
       " 'test/7b21ba6ba.png',\n",
       " 'test/17d5e5ac4.png',\n",
       " 'test/338c7e907.png',\n",
       " 'test/20f983a71.png',\n",
       " 'test/76555b064.png',\n",
       " 'test/3bbef3ecb.png',\n",
       " 'test/7615e52d3.png',\n",
       " 'test/2b55a2da2.png',\n",
       " 'test/0ad9e7dfb.png',\n",
       " 'test/d01873fdd.png',\n",
       " 'test/0d31e6602.png',\n",
       " 'test/8f523520c.png',\n",
       " 'test/43ede9de9.png',\n",
       " 'test/618de3d7a.png',\n",
       " 'test/c26ccf73c.png',\n",
       " 'test/ef9676433.png',\n",
       " 'test/615d2b0a9.png',\n",
       " 'test/a3b375b34.png',\n",
       " 'test/60ee66ddd.png',\n",
       " 'test/87608f7aa.png',\n",
       " 'test/e96e57a90.png',\n",
       " 'test/f1f7c833f.png',\n",
       " 'test/6be169e41.png',\n",
       " 'test/b47691c08.png',\n",
       " 'test/08d591441.png',\n",
       " 'test/fc6f686fb.png',\n",
       " 'test/e9d48d664.png',\n",
       " 'test/fef2ade8c.png',\n",
       " 'test/dc55449b2.png',\n",
       " 'test/abc331628.png',\n",
       " 'test/8455169fe.png',\n",
       " 'test/8104422bb.png',\n",
       " 'test/223e4af09.png',\n",
       " 'test/592cc5b89.png',\n",
       " 'test/a7bd7cadb.png',\n",
       " 'test/16467a950.png',\n",
       " 'test/63c07d340.png',\n",
       " 'test/a35fd6fbb.png',\n",
       " 'test/d6d80a321.png',\n",
       " 'test/c35efa095.png',\n",
       " 'test/12625488b.png',\n",
       " 'test/aaf4da98f.png',\n",
       " 'test/2126dc71b.png',\n",
       " 'test/e52493d0b.png',\n",
       " 'test/ac3193f78.png',\n",
       " 'test/851c90831.png',\n",
       " 'test/36839d5e9.png',\n",
       " 'test/d668409ff.png',\n",
       " 'test/406162ef9.png',\n",
       " 'test/f23faf9c1.png',\n",
       " 'test/b573b7a56.png',\n",
       " 'test/beebe5f4e.png',\n",
       " 'test/1dc7c45df.png',\n",
       " 'test/17a78fb44.png',\n",
       " 'test/0c45ace27.png',\n",
       " 'test/d5f7dd60a.png',\n",
       " 'test/a8da9c08d.png',\n",
       " 'test/6d6eb3830.png',\n",
       " 'test/11d3f68ff.png',\n",
       " 'test/6680836dd.png',\n",
       " 'test/59c6a9f95.png',\n",
       " 'test/3efa1f66c.png',\n",
       " 'test/abf8b0772.png',\n",
       " 'test/f48916a8c.png',\n",
       " 'test/a2b703e21.png',\n",
       " 'test/16357b436.png',\n",
       " 'test/41e07778c.png',\n",
       " 'test/5779fe8b4.png',\n",
       " 'test/4a337a4a9.png',\n",
       " 'test/b130a0632.png',\n",
       " 'test/8e6ec1ca6.png',\n",
       " 'test/fc3e58836.png',\n",
       " 'test/bf3924a57.png',\n",
       " 'test/2406d6c99.png',\n",
       " 'test/dce2f6612.png',\n",
       " 'test/3526b05cc.png',\n",
       " 'test/2f0004a7f.png',\n",
       " 'test/f0ffa00bd.png',\n",
       " 'test/20ea96bcc.png',\n",
       " 'test/a19c3faca.png',\n",
       " 'test/6da892be6.png',\n",
       " 'test/6edb96d45.png',\n",
       " 'test/eef131644.png',\n",
       " 'test/02cfeb38d.png',\n",
       " 'test/855955aaf.png',\n",
       " 'test/22e79540f.png',\n",
       " 'test/bfab3e3d0.png',\n",
       " 'test/8a4d3a1b1.png',\n",
       " 'test/f4234cf4f.png',\n",
       " 'test/33448fe39.png',\n",
       " 'test/e6f1211a2.png',\n",
       " 'test/efe19dc32.png',\n",
       " 'test/699d3c707.png',\n",
       " 'test/e5064f6be.png',\n",
       " 'test/03566743d.png',\n",
       " 'test/00d090cde.png',\n",
       " 'test/122913909.png',\n",
       " 'test/0d117d910.png',\n",
       " 'test/a85fc8c9a.png',\n",
       " 'test/391dcd7fd.png',\n",
       " 'test/f4021df6c.png',\n",
       " 'test/d0152bd7c.png',\n",
       " 'test/0c4199daa.png',\n",
       " 'test/a1e0a6c02.png',\n",
       " 'test/a0b393945.png',\n",
       " 'test/6a47821f9.png',\n",
       " 'test/7d3045fc3.png',\n",
       " 'test/cfb18d262.png',\n",
       " 'test/6dd095129.png',\n",
       " 'test/fda39e16f.png',\n",
       " 'test/da231c97f.png',\n",
       " 'test/dd9f36df7.png',\n",
       " 'test/c10ccbd82.png',\n",
       " 'test/44e8b8833.png',\n",
       " 'test/6908fb540.png',\n",
       " 'test/74fd477eb.png',\n",
       " 'test/966ae5ad9.png',\n",
       " 'test/31f3dd81f.png',\n",
       " 'test/6db684fff.png',\n",
       " 'test/b31292706.png',\n",
       " 'test/c0f5d9ac8.png',\n",
       " 'test/78c5fba1d.png',\n",
       " 'test/bea23d9f8.png',\n",
       " 'test/780defa2e.png',\n",
       " 'test/e1abb4ff9.png',\n",
       " 'test/0ee4ad224.png',\n",
       " 'test/fd87b36ae.png',\n",
       " 'test/8a30b2de3.png',\n",
       " 'test/521b27a17.png',\n",
       " 'test/279df95f2.png',\n",
       " 'test/c6b76307d.png',\n",
       " 'test/071cb3ece.png',\n",
       " 'test/5a6bf96f6.png',\n",
       " 'test/239bdf640.png',\n",
       " 'test/1364b297a.png',\n",
       " 'test/29ce426a1.png',\n",
       " 'test/05341a8a6.png',\n",
       " 'test/9516e56c4.png',\n",
       " 'test/24a058589.png',\n",
       " 'test/e15472085.png',\n",
       " 'test/3b73c3b61.png',\n",
       " 'test/ba3ce6b3e.png',\n",
       " 'test/da9ef7858.png',\n",
       " 'test/a5db42f7d.png',\n",
       " 'test/c06e7c748.png',\n",
       " 'test/8585f9718.png',\n",
       " 'test/7f31c7f42.png',\n",
       " 'test/241e6935a.png',\n",
       " 'test/3d38a87bc.png',\n",
       " 'test/cb76a7766.png',\n",
       " 'test/4287d810c.png',\n",
       " 'test/98062cd87.png',\n",
       " 'test/974959ec1.png',\n",
       " 'test/5ca0205f9.png',\n",
       " 'test/4ac29bbf0.png',\n",
       " 'test/003d61042.png',\n",
       " 'test/647689543.png',\n",
       " 'test/74d810f87.png',\n",
       " 'test/721be0a4a.png',\n",
       " 'test/0bf7bfb05.png',\n",
       " 'test/8ece6efec.png',\n",
       " 'test/b944a49ca.png',\n",
       " 'test/cae684f8f.png',\n",
       " 'test/a3d0031fd.png',\n",
       " 'test/2d5058a59.png',\n",
       " 'test/8311740de.png',\n",
       " 'test/f9f35cbd4.png',\n",
       " 'test/65489944f.png',\n",
       " 'test/67ce3eaa6.png',\n",
       " 'test/7cabd68cc.png',\n",
       " 'test/a38b8a581.png',\n",
       " 'test/592473c83.png',\n",
       " 'test/756dd5070.png',\n",
       " 'test/71f5323c5.png',\n",
       " 'test/e7077322d.png',\n",
       " 'test/165681fd9.png',\n",
       " 'test/24d78df74.png',\n",
       " 'test/2bd74d2da.png',\n",
       " 'test/5883b423d.png',\n",
       " 'test/e15fce4f2.png',\n",
       " 'test/5817b766d.png',\n",
       " 'test/8b9144917.png',\n",
       " 'test/42e7ed442.png',\n",
       " 'test/7506c0c02.png',\n",
       " 'test/ad12382d4.png',\n",
       " 'test/85431c075.png',\n",
       " 'test/7fdb7202d.png',\n",
       " 'test/126a71ce0.png',\n",
       " 'test/7c85b0265.png',\n",
       " 'test/c0d9e170b.png',\n",
       " 'test/1d321253f.png',\n",
       " 'test/d09275360.png',\n",
       " 'test/fba8fc78a.png',\n",
       " 'test/53e6e9000.png',\n",
       " 'test/b98327bf4.png',\n",
       " 'test/19fdf19fb.png',\n",
       " 'test/2d992d1fb.png',\n",
       " 'test/0f6cbe5e8.png',\n",
       " 'test/026716f9b.png',\n",
       " 'test/fea1d13d6.png',\n",
       " 'test/59f62ad1d.png',\n",
       " 'test/664194d19.png',\n",
       " 'test/808cf55c6.png',\n",
       " 'test/0021e90e4.png',\n",
       " 'test/03a2ee656.png',\n",
       " 'test/785a73ab8.png',\n",
       " 'test/8ab8a958b.png',\n",
       " 'test/9c8b08a24.png',\n",
       " 'test/b341d0aab.png',\n",
       " 'test/8e29abce1.png',\n",
       " 'test/bb1d1bfd3.png',\n",
       " 'test/550a8b7e6.png',\n",
       " 'test/754b1adf8.png',\n",
       " 'test/59358cd44.png',\n",
       " 'test/86c309150.png',\n",
       " 'test/32a8c8a1d.png',\n",
       " 'test/71e73a8a0.png',\n",
       " 'test/4bbfd1e05.png',\n",
       " 'test/b7192c70f.png',\n",
       " 'test/a8de7c1b7.png',\n",
       " 'test/65e262a6d.png',\n",
       " 'test/98da6ef4e.png',\n",
       " 'test/cb496f36e.png',\n",
       " 'test/f593c9cf0.png',\n",
       " 'test/f6d250856.png',\n",
       " 'test/c85ef220d.png',\n",
       " 'test/1f3f44563.png',\n",
       " 'test/043449b0b.png',\n",
       " 'test/acdb75e00.png',\n",
       " 'test/270b939cf.png',\n",
       " 'test/38c054379.png',\n",
       " 'test/55fed435f.png',\n",
       " 'test/506347cfe.png',\n",
       " 'test/35a90f8d0.png',\n",
       " 'test/5ee9d0a5b.png',\n",
       " 'test/39c8fde99.png',\n",
       " 'test/32b42c120.png',\n",
       " 'test/c7b07431e.png',\n",
       " 'test/de0b79659.png',\n",
       " 'test/d0cdc768f.png',\n",
       " 'test/ace8761dd.png',\n",
       " 'test/b026bf8ca.png',\n",
       " 'test/502dff972.png',\n",
       " 'test/cf90fc52d.png',\n",
       " 'test/aecfaed64.png',\n",
       " 'test/ab35453cb.png',\n",
       " 'test/f445fe6fb.png',\n",
       " 'test/cd6adba97.png',\n",
       " 'test/c7ae30f3a.png',\n",
       " 'test/3827436f3.png',\n",
       " 'test/48d97c645.png',\n",
       " 'test/a006a475c.png',\n",
       " 'test/c2de6020a.png',\n",
       " 'test/9aa5587fe.png',\n",
       " 'test/6982a9d30.png',\n",
       " 'test/78b1bf91a.png',\n",
       " 'test/32c86784b.png',\n",
       " 'test/0751c0bbc.png',\n",
       " 'test/ef02b4ee7.png',\n",
       " 'test/19618ad6a.png',\n",
       " 'test/a060c1cf8.png',\n",
       " 'test/d17f48d3b.png',\n",
       " 'test/8303b27ed.png',\n",
       " 'test/9fab816f2.png',\n",
       " 'test/1cfd91582.png',\n",
       " 'test/24d36c52c.png',\n",
       " 'test/f4ad9d950.png',\n",
       " 'test/df7cb5f87.png',\n",
       " 'test/0dba99002.png',\n",
       " 'test/456d507c0.png',\n",
       " 'test/8cf2e3e6c.png',\n",
       " 'test/d7017f701.png',\n",
       " 'test/5296835a0.png',\n",
       " 'test/4bcdaa5e2.png',\n",
       " 'test/1d48b7564.png',\n",
       " 'test/1694a70e4.png',\n",
       " 'test/a9d2eab61.png',\n",
       " 'test/780bd2a2c.png',\n",
       " 'test/e5881dd33.png',\n",
       " 'test/cbe761896.png',\n",
       " 'test/3f826b318.png',\n",
       " 'test/20e562fd5.png',\n",
       " 'test/e5368474f.png',\n",
       " 'test/64fe8beb9.png',\n",
       " 'test/98d819587.png',\n",
       " 'test/172f9b10b.png',\n",
       " 'test/37c3108d6.png',\n",
       " 'test/589e643b8.png',\n",
       " 'test/9d79a1f0c.png',\n",
       " 'test/856f2910a.png',\n",
       " 'test/e82017baa.png',\n",
       " 'test/b5c7fd009.png',\n",
       " 'test/f1e87cba7.png',\n",
       " 'test/1191ba346.png',\n",
       " 'test/0625f063b.png',\n",
       " 'test/1623fb9e1.png',\n",
       " 'test/7f9e9565d.png',\n",
       " 'test/d563be369.png',\n",
       " 'test/bf66b9cd2.png',\n",
       " 'test/25fa8d109.png',\n",
       " 'test/a800caead.png',\n",
       " 'test/25a4c427e.png',\n",
       " 'test/9326bda1b.png',\n",
       " 'test/2e86f1085.png',\n",
       " 'test/2ea664465.png',\n",
       " 'test/5b3beec58.png',\n",
       " 'test/a0f37c726.png',\n",
       " 'test/ec08a5d56.png',\n",
       " 'test/4f83143e1.png',\n",
       " 'test/01291174f.png',\n",
       " 'test/d89db156f.png',\n",
       " 'test/cd5f0db1c.png',\n",
       " 'test/1b490196c.png',\n",
       " 'test/4c5ab9b68.png',\n",
       " 'test/e19ad6ac9.png',\n",
       " 'test/1e095a7e1.png',\n",
       " 'test/7a38416be.png',\n",
       " 'test/6049234e6.png',\n",
       " 'test/52dc7a4d6.png',\n",
       " 'test/1be0713da.png',\n",
       " 'test/56a01b835.png',\n",
       " 'test/604dd663f.png',\n",
       " 'test/1758a1baf.png',\n",
       " 'test/61dd2cdc5.png',\n",
       " 'test/3eebd36c6.png',\n",
       " 'test/a544fc46d.png',\n",
       " 'test/a93f940d6.png',\n",
       " 'test/0ebf8f2f4.png',\n",
       " 'test/55251925f.png',\n",
       " 'test/67e185673.png',\n",
       " 'test/6ba4ef411.png',\n",
       " 'test/55920f07f.png',\n",
       " 'test/1c52ea820.png',\n",
       " 'test/953496deb.png',\n",
       " 'test/d6d31dcbe.png',\n",
       " 'test/e9cd91682.png',\n",
       " 'test/9d3cb4745.png',\n",
       " 'test/b4c3df835.png',\n",
       " 'test/5a38ac566.png',\n",
       " 'test/1f5e5554e.png',\n",
       " 'test/523e5505c.png',\n",
       " 'test/675ec1b0b.png',\n",
       " 'test/be341dbdc.png',\n",
       " 'test/4ea7493d5.png',\n",
       " 'test/34dd57ca9.png',\n",
       " 'test/c75a82234.png',\n",
       " 'test/be2499cf4.png',\n",
       " 'test/55a852f40.png',\n",
       " 'test/6a41bf95b.png',\n",
       " 'test/1c680883c.png',\n",
       " 'test/5f04aed97.png',\n",
       " 'test/187668bde.png',\n",
       " 'test/085974290.png',\n",
       " 'test/089ad62a7.png',\n",
       " 'test/ce15eee52.png',\n",
       " 'test/5dcad9a53.png',\n",
       " 'test/86f08e6d1.png',\n",
       " 'test/33748968f.png',\n",
       " 'test/f3fcfff1b.png',\n",
       " 'test/c64370a72.png',\n",
       " 'test/c5e88cd42.png',\n",
       " 'test/0e8492cb1.png',\n",
       " 'test/4bbf1f6ea.png',\n",
       " 'test/cfd8165e9.png',\n",
       " 'test/8a32d0bfa.png',\n",
       " 'test/e478c452c.png',\n",
       " 'test/d14aa43f3.png',\n",
       " 'test/da4ed3a28.png',\n",
       " 'test/6b9d6f8c9.png',\n",
       " 'test/8cf909eb3.png',\n",
       " 'test/c63da993b.png',\n",
       " 'test/7d22abf91.png',\n",
       " 'test/af45e222a.png',\n",
       " 'test/ff65bc002.png',\n",
       " 'test/1459e96a0.png',\n",
       " 'test/03ef36742.png',\n",
       " 'test/827279bad.png',\n",
       " 'test/5af1d74ee.png',\n",
       " 'test/37714071b.png',\n",
       " 'test/d102e1a15.png',\n",
       " 'test/2d9c798f9.png',\n",
       " 'test/23bc8ec4f.png',\n",
       " 'test/e901b0f28.png',\n",
       " 'test/a85b48a95.png',\n",
       " 'test/0c27cf05f.png',\n",
       " 'test/1b6a6494d.png',\n",
       " 'test/3fbf1a417.png',\n",
       " 'test/835dc5447.png',\n",
       " 'test/8bc0261c9.png',\n",
       " 'test/4392d93cf.png',\n",
       " 'test/edfdb4aeb.png',\n",
       " 'test/e73e308be.png',\n",
       " 'test/c50335991.png',\n",
       " 'test/b7ad92859.png',\n",
       " 'test/df521c0c0.png',\n",
       " 'test/e14afa235.png',\n",
       " 'test/fbf88b6be.png',\n",
       " 'test/b3e08b037.png',\n",
       " 'test/87f627bf9.png',\n",
       " 'test/b1cd2a91e.png',\n",
       " 'test/f9ea23fb5.png',\n",
       " 'test/177d7e2a4.png',\n",
       " 'test/dabe3e5be.png',\n",
       " 'test/3eda9cbb6.png',\n",
       " 'test/d93c7ab6d.png',\n",
       " 'test/4c7838de4.png',\n",
       " 'test/37e545a60.png',\n",
       " 'test/bd72d4d8a.png',\n",
       " 'test/0911d3dee.png',\n",
       " 'test/ef65533d5.png',\n",
       " 'test/76dbd1054.png',\n",
       " 'test/90b595f12.png',\n",
       " 'test/659412b1a.png',\n",
       " 'test/86676d627.png',\n",
       " 'test/8dbb8e1b9.png',\n",
       " 'test/4f44ca525.png',\n",
       " 'test/bb20fce02.png',\n",
       " 'test/862b8e7a0.png',\n",
       " 'test/b62dca166.png',\n",
       " 'test/7691014a1.png',\n",
       " 'test/f2dc546ca.png',\n",
       " 'test/3edf5e9ef.png',\n",
       " 'test/23e480e64.png',\n",
       " 'test/8b27bfd2b.png',\n",
       " 'test/1fefb54b7.png',\n",
       " 'test/948cdb277.png',\n",
       " 'test/6df8e31ea.png',\n",
       " 'test/1d56351b2.png',\n",
       " 'test/b7a7f6390.png',\n",
       " 'test/0ae6668fa.png',\n",
       " 'test/79fba50db.png',\n",
       " 'test/b6f3d8b5d.png',\n",
       " 'test/d3331e071.png',\n",
       " 'test/ab0f67743.png',\n",
       " 'test/a2d25b4f3.png',\n",
       " 'test/e721c6ac8.png',\n",
       " 'test/65d08b894.png',\n",
       " 'test/410e6f702.png',\n",
       " 'test/30ad31220.png',\n",
       " 'test/7f46a71db.png',\n",
       " 'test/14bb43eee.png',\n",
       " 'test/c4ed8ed38.png',\n",
       " 'test/6edc76e7c.png',\n",
       " 'test/3abb502fb.png',\n",
       " 'test/0fb233ad6.png',\n",
       " 'test/0885e7690.png',\n",
       " 'test/2dd5cfba9.png',\n",
       " 'test/d6c8c3c48.png',\n",
       " 'test/8a8d6c712.png',\n",
       " 'test/5b3000b9a.png',\n",
       " 'test/a1da8be3c.png',\n",
       " 'test/fb022edf9.png',\n",
       " 'test/bebcaab66.png',\n",
       " 'test/fd925f542.png',\n",
       " 'test/dc4cd56a3.png',\n",
       " 'test/4823c3ffa.png',\n",
       " 'test/ac75d3326.png',\n",
       " 'test/0c5f6c493.png',\n",
       " 'test/590f5aea6.png',\n",
       " 'test/a83820a2c.png',\n",
       " 'test/711b46fba.png',\n",
       " 'test/41f1c3cdb.png',\n",
       " 'test/7696badea.png',\n",
       " 'test/539961189.png',\n",
       " 'test/606647f64.png',\n",
       " 'test/e19673dc9.png',\n",
       " 'test/99036c51d.png',\n",
       " 'test/8e2e5604e.png',\n",
       " 'test/837ac0270.png',\n",
       " 'test/47f9e5d91.png',\n",
       " 'test/8b043093d.png',\n",
       " 'test/e1a0e3202.png',\n",
       " 'test/800a8c17e.png',\n",
       " 'test/7d4cd07ad.png',\n",
       " 'test/79dafec17.png',\n",
       " 'test/29bab7cad.png',\n",
       " 'test/5bc6595f6.png',\n",
       " 'test/fe9e87b78.png',\n",
       " 'test/07e62f903.png',\n",
       " 'test/a8b431a3e.png',\n",
       " 'test/97844bfd5.png',\n",
       " 'test/8301b0547.png',\n",
       " 'test/c0bc3997b.png',\n",
       " 'test/a169b71e7.png',\n",
       " 'test/632156793.png',\n",
       " 'test/b4f7c9214.png',\n",
       " 'test/429211ee6.png',\n",
       " 'test/e921021a8.png',\n",
       " 'test/444473900.png',\n",
       " 'test/490c4f9c8.png',\n",
       " 'test/9c0c5b731.png',\n",
       " 'test/288564c76.png',\n",
       " 'test/04814f36d.png',\n",
       " 'test/1926e82fd.png',\n",
       " 'test/fdea6b119.png',\n",
       " 'test/adb7a032c.png',\n",
       " 'test/2693e5c65.png',\n",
       " 'test/00c47e980.png',\n",
       " 'test/d488a4fe1.png',\n",
       " 'test/d689256be.png',\n",
       " 'test/9643fc5f4.png',\n",
       " 'test/8cfd98117.png',\n",
       " 'test/bb64660b7.png',\n",
       " 'test/f85ed9b6d.png',\n",
       " 'test/866be78b0.png',\n",
       " 'test/cadab6616.png',\n",
       " 'test/5c3cd7ea2.png',\n",
       " 'test/53ceb4657.png',\n",
       " 'test/36ed4f215.png',\n",
       " 'test/3e9f41817.png',\n",
       " 'test/007b3da8b.png',\n",
       " 'test/a935ca110.png',\n",
       " 'test/d9c50616e.png',\n",
       " 'test/770a265f5.png',\n",
       " 'test/cec5bf198.png',\n",
       " 'test/3185294c8.png',\n",
       " 'test/3281183f9.png',\n",
       " 'test/e4a76885b.png',\n",
       " 'test/f33e9d918.png',\n",
       " 'test/48ef6a2ff.png',\n",
       " 'test/969a851be.png',\n",
       " 'test/9c777333d.png',\n",
       " 'test/26852751a.png',\n",
       " 'test/9b9911f20.png',\n",
       " 'test/c74c5b7fc.png',\n",
       " 'test/9b4800b42.png',\n",
       " 'test/cbba27d89.png',\n",
       " 'test/4e1190d78.png',\n",
       " 'test/3d67c434b.png',\n",
       " 'test/dd5ec63d9.png',\n",
       " 'test/9c32a797e.png',\n",
       " 'test/5bbc0a255.png',\n",
       " 'test/c5e419015.png',\n",
       " 'test/824f5d4e5.png',\n",
       " 'test/96ecad7a1.png',\n",
       " 'test/686dc7ec8.png',\n",
       " 'test/809eb0b82.png',\n",
       " 'test/19e58cc5e.png',\n",
       " 'test/e3f50adfc.png',\n",
       " 'test/afcf6abd5.png',\n",
       " 'test/b0acaff4a.png',\n",
       " 'test/c7051c902.png',\n",
       " 'test/06d12f6fa.png',\n",
       " 'test/ede6b84b4.png',\n",
       " 'test/19b51843a.png',\n",
       " 'test/258b1183c.png',\n",
       " 'test/5e6a237f2.png',\n",
       " 'test/e5297b675.png',\n",
       " 'test/8d6991365.png',\n",
       " 'test/099b961ec.png',\n",
       " 'test/a254d71f6.png',\n",
       " 'test/d350a25fa.png',\n",
       " 'test/116b136de.png',\n",
       " 'test/39b740f7e.png',\n",
       " 'test/c832e4302.png',\n",
       " 'test/406ecb5c5.png',\n",
       " 'test/fe29629fb.png',\n",
       " 'test/16fd2e01a.png',\n",
       " 'test/aa7d098d1.png',\n",
       " 'test/88d8a4508.png',\n",
       " 'test/fea355851.png',\n",
       " 'test/b9062c1c8.png',\n",
       " 'test/446f7da01.png',\n",
       " 'test/a8388a37f.png',\n",
       " 'test/00ef713a8.png',\n",
       " 'test/0437393b1.png']"
      ]
     },
     "execution_count": 84,
     "metadata": {},
     "output_type": "execute_result"
    }
   ],
   "source": [
    "learn.data.test_ds.fnames"
   ]
  },
  {
   "cell_type": "code",
   "execution_count": 89,
   "metadata": {},
   "outputs": [],
   "source": [
    "df.insert(0, 'file', [n[5:] for n in learn.data.test_ds.fnames])\n",
    "# subset the string (remove 'test/')"
   ]
  },
  {
   "cell_type": "code",
   "execution_count": 92,
   "metadata": {},
   "outputs": [],
   "source": [
    "df.columns = ['file','species']"
   ]
  },
  {
   "cell_type": "code",
   "execution_count": 100,
   "metadata": {},
   "outputs": [],
   "source": [
    "SUBM = f'{PATH}subm/'\n",
    "os.makedirs(SUBM, exist_ok=True)\n",
    "df.to_csv(f'{SUBM}subm.csv', index=False)"
   ]
  }
 ],
 "metadata": {
  "kernelspec": {
   "display_name": "Python 3",
   "language": "python",
   "name": "python3"
  },
  "language_info": {
   "codemirror_mode": {
    "name": "ipython",
    "version": 3
   },
   "file_extension": ".py",
   "mimetype": "text/x-python",
   "name": "python",
   "nbconvert_exporter": "python",
   "pygments_lexer": "ipython3",
   "version": "3.6.4"
  },
  "widgets": {
   "application/vnd.jupyter.widget-state+json": {
    "state": {
     "031f5389303b4347aad300e9a13302cd": {
      "model_module": "@jupyter-widgets/base",
      "model_module_version": "1.0.0",
      "model_name": "LayoutModel",
      "state": {}
     },
     "0aac476706f6496190a65f684b0d567a": {
      "model_module": "@jupyter-widgets/controls",
      "model_module_version": "1.0.0",
      "model_name": "HBoxModel",
      "state": {
       "children": [
        "IPY_MODEL_12aa18ea345742ddad91163bb377c024",
        "IPY_MODEL_c9b2b36daf9d4ba8807e55091342ffaa"
       ],
       "layout": "IPY_MODEL_0cb4bb90321148869435416ec141ad98"
      }
     },
     "0cb4bb90321148869435416ec141ad98": {
      "model_module": "@jupyter-widgets/base",
      "model_module_version": "1.0.0",
      "model_name": "LayoutModel",
      "state": {}
     },
     "12aa18ea345742ddad91163bb377c024": {
      "model_module": "@jupyter-widgets/controls",
      "model_module_version": "1.0.0",
      "model_name": "IntProgressModel",
      "state": {
       "bar_style": "success",
       "description": "Epoch",
       "layout": "IPY_MODEL_27720952b69845408ab466eb515fae1b",
       "max": 3,
       "style": "IPY_MODEL_368923162b7b43a29addf41b11147e1e",
       "value": 3
      }
     },
     "1a590d0711bc4b6aa419e23a898de3a8": {
      "model_module": "@jupyter-widgets/controls",
      "model_module_version": "1.0.0",
      "model_name": "IntProgressModel",
      "state": {
       "bar_style": "success",
       "description": "Epoch",
       "layout": "IPY_MODEL_55a4e37e482f4c02822ab89d449e1855",
       "max": 5,
       "style": "IPY_MODEL_deaf4b8d9dd84a30b4b4124b2958ebd4",
       "value": 5
      }
     },
     "1c3b0ce237c842efad5532a6cd3a6b3f": {
      "model_module": "@jupyter-widgets/controls",
      "model_module_version": "1.0.0",
      "model_name": "HTMLModel",
      "state": {
       "layout": "IPY_MODEL_31c093082bf44b71a0d88ddc992aaa87",
       "style": "IPY_MODEL_6116179263e3451e996ea6d3a9548a2e",
       "value": "100% 5/5 [01:33&lt;00:00, 18.64s/it]"
      }
     },
     "27720952b69845408ab466eb515fae1b": {
      "model_module": "@jupyter-widgets/base",
      "model_module_version": "1.0.0",
      "model_name": "LayoutModel",
      "state": {}
     },
     "31c093082bf44b71a0d88ddc992aaa87": {
      "model_module": "@jupyter-widgets/base",
      "model_module_version": "1.0.0",
      "model_name": "LayoutModel",
      "state": {}
     },
     "368923162b7b43a29addf41b11147e1e": {
      "model_module": "@jupyter-widgets/controls",
      "model_module_version": "1.0.0",
      "model_name": "ProgressStyleModel",
      "state": {
       "description_width": ""
      }
     },
     "3df7ed5e553842eea457210327c5fb97": {
      "model_module": "@jupyter-widgets/base",
      "model_module_version": "1.0.0",
      "model_name": "LayoutModel",
      "state": {}
     },
     "4aa7a09e6ed24954a61359f018cddb24": {
      "model_module": "@jupyter-widgets/controls",
      "model_module_version": "1.0.0",
      "model_name": "HBoxModel",
      "state": {
       "children": [
        "IPY_MODEL_5d29386415634200afb7087a5166299d",
        "IPY_MODEL_a628f81613c542c5bbf84220aee1bbfb"
       ],
       "layout": "IPY_MODEL_f0204fabcc9040fa94cb5f50460b9b03"
      }
     },
     "50ab7f308ea7445189796eae43dd09f6": {
      "model_module": "@jupyter-widgets/base",
      "model_module_version": "1.0.0",
      "model_name": "LayoutModel",
      "state": {}
     },
     "55a4e37e482f4c02822ab89d449e1855": {
      "model_module": "@jupyter-widgets/base",
      "model_module_version": "1.0.0",
      "model_name": "LayoutModel",
      "state": {}
     },
     "57927c96d5ba4068acd63c577d2710b3": {
      "model_module": "@jupyter-widgets/controls",
      "model_module_version": "1.0.0",
      "model_name": "HTMLModel",
      "state": {
       "layout": "IPY_MODEL_d17660c2b3654af38ab5b874948fe09e",
       "style": "IPY_MODEL_b1f3393e145547a6a9909b8e498dc166",
       "value": "100% 7/7 [14:53&lt;00:00, 127.68s/it]"
      }
     },
     "57cf63c5daeb4925a188c91f2f293274": {
      "model_module": "@jupyter-widgets/controls",
      "model_module_version": "1.0.0",
      "model_name": "HBoxModel",
      "state": {
       "children": [
        "IPY_MODEL_c35c2561c752419e933b6e3e8b2d378a",
        "IPY_MODEL_57927c96d5ba4068acd63c577d2710b3"
       ],
       "layout": "IPY_MODEL_031f5389303b4347aad300e9a13302cd"
      }
     },
     "5d05e04e8806418aadb90d7a41ebf0e7": {
      "model_module": "@jupyter-widgets/base",
      "model_module_version": "1.0.0",
      "model_name": "LayoutModel",
      "state": {}
     },
     "5d29386415634200afb7087a5166299d": {
      "model_module": "@jupyter-widgets/controls",
      "model_module_version": "1.0.0",
      "model_name": "IntProgressModel",
      "state": {
       "bar_style": "success",
       "description": "Epoch",
       "layout": "IPY_MODEL_50ab7f308ea7445189796eae43dd09f6",
       "max": 7,
       "style": "IPY_MODEL_b3c45c269aad4a53903fb01fd4bcba8b",
       "value": 7
      }
     },
     "5f4df88cd0c84b4d850247d193e8afd3": {
      "model_module": "@jupyter-widgets/base",
      "model_module_version": "1.0.0",
      "model_name": "LayoutModel",
      "state": {}
     },
     "6116179263e3451e996ea6d3a9548a2e": {
      "model_module": "@jupyter-widgets/controls",
      "model_module_version": "1.0.0",
      "model_name": "DescriptionStyleModel",
      "state": {
       "description_width": ""
      }
     },
     "876f5f1c2c5a4893845afe1d656763ad": {
      "model_module": "@jupyter-widgets/controls",
      "model_module_version": "1.0.0",
      "model_name": "DescriptionStyleModel",
      "state": {
       "description_width": ""
      }
     },
     "8ef3879da4f34276b0afeb36f1600316": {
      "model_module": "@jupyter-widgets/base",
      "model_module_version": "1.0.0",
      "model_name": "LayoutModel",
      "state": {}
     },
     "94902e679da34f5b93069bc02fd40ee6": {
      "model_module": "@jupyter-widgets/controls",
      "model_module_version": "1.0.0",
      "model_name": "ProgressStyleModel",
      "state": {
       "description_width": ""
      }
     },
     "9a5b2979762345a2bdeff9f2b08a085b": {
      "model_module": "@jupyter-widgets/controls",
      "model_module_version": "1.0.0",
      "model_name": "HBoxModel",
      "state": {
       "children": [
        "IPY_MODEL_1a590d0711bc4b6aa419e23a898de3a8",
        "IPY_MODEL_1c3b0ce237c842efad5532a6cd3a6b3f"
       ],
       "layout": "IPY_MODEL_3df7ed5e553842eea457210327c5fb97"
      }
     },
     "a628f81613c542c5bbf84220aee1bbfb": {
      "model_module": "@jupyter-widgets/controls",
      "model_module_version": "1.0.0",
      "model_name": "HTMLModel",
      "state": {
       "layout": "IPY_MODEL_5d05e04e8806418aadb90d7a41ebf0e7",
       "style": "IPY_MODEL_bfd8063ef57944e2a785825f1d3d8e13",
       "value": "100% 7/7 [04:30&lt;00:00, 38.59s/it]"
      }
     },
     "b1f3393e145547a6a9909b8e498dc166": {
      "model_module": "@jupyter-widgets/controls",
      "model_module_version": "1.0.0",
      "model_name": "DescriptionStyleModel",
      "state": {
       "description_width": ""
      }
     },
     "b3c45c269aad4a53903fb01fd4bcba8b": {
      "model_module": "@jupyter-widgets/controls",
      "model_module_version": "1.0.0",
      "model_name": "ProgressStyleModel",
      "state": {
       "description_width": ""
      }
     },
     "bfd8063ef57944e2a785825f1d3d8e13": {
      "model_module": "@jupyter-widgets/controls",
      "model_module_version": "1.0.0",
      "model_name": "DescriptionStyleModel",
      "state": {
       "description_width": ""
      }
     },
     "c35c2561c752419e933b6e3e8b2d378a": {
      "model_module": "@jupyter-widgets/controls",
      "model_module_version": "1.0.0",
      "model_name": "IntProgressModel",
      "state": {
       "bar_style": "success",
       "description": "Epoch",
       "layout": "IPY_MODEL_5f4df88cd0c84b4d850247d193e8afd3",
       "max": 7,
       "style": "IPY_MODEL_94902e679da34f5b93069bc02fd40ee6",
       "value": 7
      }
     },
     "c9b2b36daf9d4ba8807e55091342ffaa": {
      "model_module": "@jupyter-widgets/controls",
      "model_module_version": "1.0.0",
      "model_name": "HTMLModel",
      "state": {
       "layout": "IPY_MODEL_8ef3879da4f34276b0afeb36f1600316",
       "style": "IPY_MODEL_876f5f1c2c5a4893845afe1d656763ad",
       "value": "100% 3/3 [02:36&lt;00:00, 52.27s/it]"
      }
     },
     "d17660c2b3654af38ab5b874948fe09e": {
      "model_module": "@jupyter-widgets/base",
      "model_module_version": "1.0.0",
      "model_name": "LayoutModel",
      "state": {}
     },
     "deaf4b8d9dd84a30b4b4124b2958ebd4": {
      "model_module": "@jupyter-widgets/controls",
      "model_module_version": "1.0.0",
      "model_name": "ProgressStyleModel",
      "state": {
       "description_width": ""
      }
     },
     "f0204fabcc9040fa94cb5f50460b9b03": {
      "model_module": "@jupyter-widgets/base",
      "model_module_version": "1.0.0",
      "model_name": "LayoutModel",
      "state": {}
     }
    },
    "version_major": 2,
    "version_minor": 0
   }
  }
 },
 "nbformat": 4,
 "nbformat_minor": 2
}
