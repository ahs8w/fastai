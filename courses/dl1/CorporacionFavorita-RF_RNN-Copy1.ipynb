{
 "cells": [
  {
   "cell_type": "code",
   "execution_count": 1,
   "metadata": {
    "ExecuteTime": {
     "end_time": "2018-03-20T23:07:03.630841Z",
     "start_time": "2018-03-20T23:07:03.380606Z"
    },
    "collapsed": true
   },
   "outputs": [],
   "source": [
    "%matplotlib inline\n",
    "%reload_ext autoreload\n",
    "%autoreload 2"
   ]
  },
  {
   "cell_type": "code",
   "execution_count": 2,
   "metadata": {
    "ExecuteTime": {
     "end_time": "2018-03-20T23:07:04.686053Z",
     "start_time": "2018-03-20T23:07:03.762036Z"
    },
    "collapsed": true
   },
   "outputs": [],
   "source": [
    "from fastai.structured import *\n",
    "# from fastai.column_data import *\n",
    "np.set_printoptions(threshold=50, edgeitems=25)\n",
    "\n",
    "PATH='data/favorita/'"
   ]
  },
  {
   "cell_type": "code",
   "execution_count": 3,
   "metadata": {
    "ExecuteTime": {
     "end_time": "2018-03-20T23:07:04.989017Z",
     "start_time": "2018-03-20T23:07:04.822272Z"
    }
   },
   "outputs": [
    {
     "name": "stdout",
     "output_type": "stream",
     "text": [
      "holidays_events.csv        stores.csv\r\n",
      "items.csv                  test.csv\r\n",
      "oil.csv                    train.csv\r\n",
      "\u001b[34mrf_rnn\u001b[m\u001b[m                     train_six_months_full_data\r\n",
      "sample_submission.csv      transactions.csv\r\n"
     ]
    }
   ],
   "source": [
    "!ls {PATH}"
   ]
  },
  {
   "cell_type": "code",
   "execution_count": 4,
   "metadata": {
    "ExecuteTime": {
     "end_time": "2018-03-20T23:07:05.168352Z",
     "start_time": "2018-03-20T23:07:05.128900Z"
    },
    "collapsed": true
   },
   "outputs": [],
   "source": [
    "from IPython.display import HTML"
   ]
  },
  {
   "cell_type": "markdown",
   "metadata": {},
   "source": [
    "## Moving averages\n",
    "https://www.kaggle.com/paulorzp/log-ma-and-days-of-week-means-lb-0-529/code"
   ]
  },
  {
   "cell_type": "code",
   "execution_count": 5,
   "metadata": {
    "ExecuteTime": {
     "end_time": "2018-03-20T23:07:07.904624Z",
     "start_time": "2018-03-20T23:07:07.867304Z"
    },
    "collapsed": true
   },
   "outputs": [],
   "source": [
    "dtypes = {'id':'uint32', 'item_nbr':'uint32', 'store_nbr':'uint8', 'onpromotion':'bool'}"
   ]
  },
  {
   "cell_type": "code",
   "execution_count": 6,
   "metadata": {
    "ExecuteTime": {
     "end_time": "2018-03-20T23:08:27.143056Z",
     "start_time": "2018-03-20T23:07:10.731044Z"
    },
    "collapsed": true,
    "scrolled": true
   },
   "outputs": [],
   "source": [
    "train = pd.read_csv(f'{PATH}train.csv', usecols=[1, 2, 3, 4, 5], dtype=dtypes,\n",
    "            converters={'unit_sales': lambda u: np.log1p(float(u)) if float(u) > 0 else 0},\n",
    "            parse_dates=['date'], skiprows=range(1, 114176251))  # header counts as row 0\n",
    "\n",
    "# 86672217 => Skip dates before 2016-08-01\n",
    "# 114176250 => 2017-05-01"
   ]
  },
  {
   "cell_type": "markdown",
   "metadata": {},
   "source": [
    "### Separate validation set before filling in missing data"
   ]
  },
  {
   "cell_type": "markdown",
   "metadata": {},
   "source": [
    "**Problem:**  \n",
    "missing ~25% of the ['item_nbr', 'store_nbr'] combinations of training set  \n",
    "Need to create a validation set with similar circumstances..."
   ]
  },
  {
   "cell_type": "code",
   "execution_count": 8,
   "metadata": {
    "ExecuteTime": {
     "end_time": "2018-03-20T23:09:25.197600Z",
     "start_time": "2018-03-20T23:09:25.030842Z"
    },
    "collapsed": true
   },
   "outputs": [],
   "source": [
    "# last 2 weeks\n",
    "valid = train[train.date>='2017-08-01']"
   ]
  },
  {
   "cell_type": "code",
   "execution_count": 9,
   "metadata": {
    "ExecuteTime": {
     "end_time": "2018-03-20T23:09:25.750217Z",
     "start_time": "2018-03-20T23:09:25.696116Z"
    }
   },
   "outputs": [
    {
     "data": {
      "text/html": [
       "<div>\n",
       "<style>\n",
       "    .dataframe thead tr:only-child th {\n",
       "        text-align: right;\n",
       "    }\n",
       "\n",
       "    .dataframe thead th {\n",
       "        text-align: left;\n",
       "    }\n",
       "\n",
       "    .dataframe tbody tr th {\n",
       "        vertical-align: top;\n",
       "    }\n",
       "</style>\n",
       "<table border=\"1\" class=\"dataframe\">\n",
       "  <thead>\n",
       "    <tr style=\"text-align: right;\">\n",
       "      <th></th>\n",
       "      <th>date</th>\n",
       "      <th>store_nbr</th>\n",
       "      <th>item_nbr</th>\n",
       "      <th>unit_sales</th>\n",
       "      <th>onpromotion</th>\n",
       "    </tr>\n",
       "  </thead>\n",
       "  <tbody>\n",
       "    <tr>\n",
       "      <th>9749817</th>\n",
       "      <td>2017-07-31</td>\n",
       "      <td>54</td>\n",
       "      <td>2105347</td>\n",
       "      <td>1.098612</td>\n",
       "      <td>False</td>\n",
       "    </tr>\n",
       "    <tr>\n",
       "      <th>9749818</th>\n",
       "      <td>2017-07-31</td>\n",
       "      <td>54</td>\n",
       "      <td>2106464</td>\n",
       "      <td>0.693147</td>\n",
       "      <td>False</td>\n",
       "    </tr>\n",
       "    <tr>\n",
       "      <th>9749819</th>\n",
       "      <td>2017-07-31</td>\n",
       "      <td>54</td>\n",
       "      <td>2110456</td>\n",
       "      <td>6.359574</td>\n",
       "      <td>False</td>\n",
       "    </tr>\n",
       "    <tr>\n",
       "      <th>9749820</th>\n",
       "      <td>2017-07-31</td>\n",
       "      <td>54</td>\n",
       "      <td>2113914</td>\n",
       "      <td>2.639057</td>\n",
       "      <td>True</td>\n",
       "    </tr>\n",
       "    <tr>\n",
       "      <th>9749821</th>\n",
       "      <td>2017-07-31</td>\n",
       "      <td>54</td>\n",
       "      <td>2116416</td>\n",
       "      <td>1.609438</td>\n",
       "      <td>False</td>\n",
       "    </tr>\n",
       "  </tbody>\n",
       "</table>\n",
       "</div>"
      ],
      "text/plain": [
       "              date  store_nbr  item_nbr  unit_sales  onpromotion\n",
       "9749817 2017-07-31         54   2105347    1.098612        False\n",
       "9749818 2017-07-31         54   2106464    0.693147        False\n",
       "9749819 2017-07-31         54   2110456    6.359574        False\n",
       "9749820 2017-07-31         54   2113914    2.639057         True\n",
       "9749821 2017-07-31         54   2116416    1.609438        False"
      ]
     },
     "execution_count": 9,
     "metadata": {},
     "output_type": "execute_result"
    }
   ],
   "source": [
    "# drop valid from train\n",
    "train = train[:-(len(valid))]; train.tail()"
   ]
  },
  {
   "cell_type": "code",
   "execution_count": 10,
   "metadata": {
    "ExecuteTime": {
     "end_time": "2018-03-20T23:09:28.992844Z",
     "start_time": "2018-03-20T23:09:28.739893Z"
    },
    "collapsed": true
   },
   "outputs": [],
   "source": [
    "valid = valid.reset_index(drop=True)\n",
    "\n",
    "valid['dow'] = valid['date'].dt.dayofweek\n",
    "valid['dom'] = valid['date'].dt.day"
   ]
  },
  {
   "cell_type": "markdown",
   "metadata": {},
   "source": [
    "### create missing rows (items,stores,dates)"
   ]
  },
  {
   "cell_type": "code",
   "execution_count": 11,
   "metadata": {
    "ExecuteTime": {
     "end_time": "2018-03-20T23:09:48.329831Z",
     "start_time": "2018-03-20T23:09:38.710228Z"
    },
    "collapsed": true
   },
   "outputs": [],
   "source": [
    "# creating records for all items, in all markets on all dates\n",
    "# for correct calculation of daily unit sales averages.\n",
    "u_dates = train.date.unique()\n",
    "u_stores = train.store_nbr.unique()\n",
    "u_items = train.item_nbr.unique()\n",
    "train.set_index(['date', 'store_nbr', 'item_nbr'], inplace=True)\n",
    "train = train.reindex(\n",
    "    pd.MultiIndex.from_product(\n",
    "        (u_dates, u_stores, u_items),\n",
    "        names=['date','store_nbr','item_nbr']\n",
    "    )\n",
    ").reset_index()\n",
    "\n",
    "del u_dates, u_stores, u_items\n",
    "\n",
    "train.loc[:, 'unit_sales'].fillna(0, inplace=True) # fill NaNs\n",
    "train.loc[:, 'onpromotion'].fillna(False, inplace=True) # fill NaNs\n",
    "lastdate = train.iloc[train.shape[0]-1].date"
   ]
  },
  {
   "cell_type": "code",
   "execution_count": 12,
   "metadata": {
    "ExecuteTime": {
     "end_time": "2018-03-20T23:09:51.095037Z",
     "start_time": "2018-03-20T23:09:48.519222Z"
    },
    "collapsed": true
   },
   "outputs": [],
   "source": [
    "train['dow'] = train['date'].dt.dayofweek\n",
    "train['dom'] = train['date'].dt.day"
   ]
  },
  {
   "cell_type": "code",
   "execution_count": 13,
   "metadata": {
    "ExecuteTime": {
     "end_time": "2018-03-20T23:09:59.131427Z",
     "start_time": "2018-03-20T23:09:57.766306Z"
    },
    "collapsed": true
   },
   "outputs": [],
   "source": [
    "os.makedirs(f'{PATH}rf_rnn', exist_ok=True)\n",
    "train.to_feather(f'{PATH}rf_rnn/train_3_mo')"
   ]
  },
  {
   "cell_type": "code",
   "execution_count": null,
   "metadata": {
    "ExecuteTime": {
     "end_time": "2018-03-20T18:06:47.844523Z",
     "start_time": "2018-03-20T18:06:41.544749Z"
    },
    "collapsed": true
   },
   "outputs": [],
   "source": [
    "train = pd.read_feather(f'{PATH}rf_rnn/train_full_year_incomplete')\n",
    "dtypes = {'id':'uint32', 'item_nbr':'uint32', 'store_nbr':'uint8', 'onpromotion': 'bool'}\n",
    "lastdate = train.iloc[train.shape[0]-1].date"
   ]
  },
  {
   "cell_type": "code",
   "execution_count": 14,
   "metadata": {
    "ExecuteTime": {
     "end_time": "2018-03-20T23:10:36.411914Z",
     "start_time": "2018-03-20T23:10:30.636223Z"
    },
    "collapsed": true
   },
   "outputs": [],
   "source": [
    "#Days of Week Means\n",
    "#By tarobxl: https://www.kaggle.com/c/favorita-grocery-sales-forecasting/discussion/42948\n",
    "ma_dw = train[['item_nbr','store_nbr','dow','unit_sales']].groupby(\n",
    "        ['item_nbr','store_nbr','dow'])['unit_sales'].mean().to_frame('madw').reset_index()\n",
    "ma_wk = ma_dw[['item_nbr','store_nbr','madw']].groupby(\n",
    "        ['store_nbr', 'item_nbr'])['madw'].mean().to_frame('mawk').reset_index()"
   ]
  },
  {
   "cell_type": "code",
   "execution_count": 15,
   "metadata": {
    "ExecuteTime": {
     "end_time": "2018-03-20T23:10:45.623877Z",
     "start_time": "2018-03-20T23:10:36.626782Z"
    },
    "collapsed": true
   },
   "outputs": [],
   "source": [
    "#Days of Month Means\n",
    "ma_dm = train[['item_nbr','store_nbr','dom','unit_sales']].groupby(\n",
    "    ['item_nbr','store_nbr','dom'])['unit_sales'].mean().to_frame('madm').reset_index()\n",
    "ma_mo = ma_dm[['item_nbr','store_nbr','madm']].groupby(\n",
    "    ['item_nbr','store_nbr'])['madm'].mean().to_frame('mamo').reset_index()"
   ]
  },
  {
   "cell_type": "code",
   "execution_count": 16,
   "metadata": {
    "ExecuteTime": {
     "end_time": "2018-03-20T23:10:56.568848Z",
     "start_time": "2018-03-20T23:10:45.867609Z"
    },
    "collapsed": true
   },
   "outputs": [],
   "source": [
    "from datetime import timedelta\n",
    "\n",
    "#Moving Averages\n",
    "ma_is = train[['item_nbr','store_nbr','unit_sales']].groupby(\n",
    "        ['item_nbr','store_nbr'])['unit_sales'].mean().to_frame('mais')\n",
    "\n",
    "for i in [55,34,21,13,8,5,3,2,1]:\n",
    "    tmp = train[train.date>lastdate-timedelta(int(i))]\n",
    "    tmpg = tmp.groupby(['item_nbr','store_nbr'])['unit_sales'].mean().to_frame('mais'+str(i))\n",
    "    ma_is = ma_is.join(tmpg, how='left')\n",
    "\n",
    "del tmp,tmpg\n",
    "\n",
    "ma_is['mais']=ma_is.median(axis=1)\n",
    "ma_is.reset_index(inplace=True)\n",
    "ma_is.drop(list(ma_is.columns.values)[3:],1,inplace=True)"
   ]
  },
  {
   "cell_type": "code",
   "execution_count": 55,
   "metadata": {
    "ExecuteTime": {
     "end_time": "2018-03-20T23:56:54.906660Z",
     "start_time": "2018-03-20T23:56:54.473102Z"
    },
    "collapsed": true
   },
   "outputs": [],
   "source": [
    "#Load test\n",
    "test = pd.read_csv(f'{PATH}test.csv', dtype=dtypes, parse_dates=['date'])\n",
    "test['dow'] = test['date'].dt.dayofweek\n",
    "test['dom'] = test['date'].dt.day"
   ]
  },
  {
   "cell_type": "code",
   "execution_count": 18,
   "metadata": {
    "ExecuteTime": {
     "end_time": "2018-03-20T23:11:56.821268Z",
     "start_time": "2018-03-20T23:11:06.769715Z"
    },
    "collapsed": true
   },
   "outputs": [],
   "source": [
    "# merge moving averages onto test df\n",
    "test = pd.merge(test, ma_is, how='left', on=['item_nbr','store_nbr'])\n",
    "test = pd.merge(test, ma_wk, how='left', on=['item_nbr','store_nbr'])\n",
    "test = pd.merge(test, ma_mo, how='left', on=['item_nbr','store_nbr'])\n",
    "test = pd.merge(test, ma_dw, how='left', on=['item_nbr','store_nbr','dow'])\n",
    "test = pd.merge(test, ma_dm, how='left', on=['item_nbr','store_nbr','dom'])\n",
    "\n",
    "# merge moving averages onto valid df\n",
    "valid = pd.merge(valid, ma_is, how='left', on=['item_nbr','store_nbr'])\n",
    "valid = pd.merge(valid, ma_wk, how='left', on=['item_nbr','store_nbr'])\n",
    "valid = pd.merge(valid, ma_mo, how='left', on=['item_nbr','store_nbr'])\n",
    "valid = pd.merge(valid, ma_dw, how='left', on=['item_nbr','store_nbr','dow'])\n",
    "valid = pd.merge(valid, ma_dm, how='left', on=['item_nbr','store_nbr','dom'])\n",
    "\n",
    "# merge moving averages onto train df\n",
    "train = pd.merge(train, ma_is, how='left', on=['item_nbr','store_nbr'])\n",
    "train = pd.merge(train, ma_wk, how='left', on=['item_nbr','store_nbr'])\n",
    "train = pd.merge(train, ma_mo, how='left', on=['item_nbr','store_nbr'])\n",
    "train = pd.merge(train, ma_dw, how='left', on=['item_nbr','store_nbr','dow'])\n",
    "train = pd.merge(train, ma_dm, how='left', on=['item_nbr','store_nbr','dom'])"
   ]
  },
  {
   "cell_type": "code",
   "execution_count": 24,
   "metadata": {
    "ExecuteTime": {
     "end_time": "2018-03-20T23:17:38.422968Z",
     "start_time": "2018-03-20T23:17:33.925095Z"
    }
   },
   "outputs": [
    {
     "data": {
      "text/html": [
       "<div>\n",
       "<style>\n",
       "    .dataframe thead tr:only-child th {\n",
       "        text-align: right;\n",
       "    }\n",
       "\n",
       "    .dataframe thead th {\n",
       "        text-align: left;\n",
       "    }\n",
       "\n",
       "    .dataframe tbody tr th {\n",
       "        vertical-align: top;\n",
       "    }\n",
       "</style>\n",
       "<table border=\"1\" class=\"dataframe\">\n",
       "  <thead>\n",
       "    <tr style=\"text-align: right;\">\n",
       "      <th></th>\n",
       "      <th>id</th>\n",
       "      <th>date</th>\n",
       "      <th>store_nbr</th>\n",
       "      <th>item_nbr</th>\n",
       "      <th>onpromotion</th>\n",
       "      <th>dow</th>\n",
       "      <th>dom</th>\n",
       "      <th>avg_dow</th>\n",
       "      <th>avg_dom</th>\n",
       "    </tr>\n",
       "  </thead>\n",
       "  <tbody>\n",
       "    <tr>\n",
       "      <th>count</th>\n",
       "      <td>3.37046e+06</td>\n",
       "      <td>NaN</td>\n",
       "      <td>3.37046e+06</td>\n",
       "      <td>3.37046e+06</td>\n",
       "      <td>NaN</td>\n",
       "      <td>3.37046e+06</td>\n",
       "      <td>3.37046e+06</td>\n",
       "      <td>3.28752e+06</td>\n",
       "      <td>3.28752e+06</td>\n",
       "    </tr>\n",
       "    <tr>\n",
       "      <th>mean</th>\n",
       "      <td>1.27182e+08</td>\n",
       "      <td>NaN</td>\n",
       "      <td>27.5</td>\n",
       "      <td>1.2448e+06</td>\n",
       "      <td>NaN</td>\n",
       "      <td>2.9375</td>\n",
       "      <td>23.5</td>\n",
       "      <td>0.856474</td>\n",
       "      <td>0.867372</td>\n",
       "    </tr>\n",
       "    <tr>\n",
       "      <th>std</th>\n",
       "      <td>972969</td>\n",
       "      <td>NaN</td>\n",
       "      <td>15.5858</td>\n",
       "      <td>589836</td>\n",
       "      <td>NaN</td>\n",
       "      <td>1.88642</td>\n",
       "      <td>4.60977</td>\n",
       "      <td>0.939628</td>\n",
       "      <td>0.995126</td>\n",
       "    </tr>\n",
       "    <tr>\n",
       "      <th>min</th>\n",
       "      <td>1.25497e+08</td>\n",
       "      <td>NaN</td>\n",
       "      <td>1</td>\n",
       "      <td>96995</td>\n",
       "      <td>NaN</td>\n",
       "      <td>0</td>\n",
       "      <td>16</td>\n",
       "      <td>0</td>\n",
       "      <td>0</td>\n",
       "    </tr>\n",
       "    <tr>\n",
       "      <th>25%</th>\n",
       "      <td>1.2634e+08</td>\n",
       "      <td>NaN</td>\n",
       "      <td>14</td>\n",
       "      <td>805321</td>\n",
       "      <td>NaN</td>\n",
       "      <td>1.75</td>\n",
       "      <td>19.75</td>\n",
       "      <td>0</td>\n",
       "      <td>0</td>\n",
       "    </tr>\n",
       "    <tr>\n",
       "      <th>50%</th>\n",
       "      <td>1.27182e+08</td>\n",
       "      <td>NaN</td>\n",
       "      <td>27.5</td>\n",
       "      <td>1.29466e+06</td>\n",
       "      <td>NaN</td>\n",
       "      <td>3</td>\n",
       "      <td>23.5</td>\n",
       "      <td>0.593464</td>\n",
       "      <td>0.561651</td>\n",
       "    </tr>\n",
       "    <tr>\n",
       "      <th>75%</th>\n",
       "      <td>1.28025e+08</td>\n",
       "      <td>NaN</td>\n",
       "      <td>41</td>\n",
       "      <td>1.73002e+06</td>\n",
       "      <td>NaN</td>\n",
       "      <td>4.25</td>\n",
       "      <td>27.25</td>\n",
       "      <td>1.40389</td>\n",
       "      <td>1.4556</td>\n",
       "    </tr>\n",
       "    <tr>\n",
       "      <th>max</th>\n",
       "      <td>1.28868e+08</td>\n",
       "      <td>NaN</td>\n",
       "      <td>54</td>\n",
       "      <td>2.13424e+06</td>\n",
       "      <td>NaN</td>\n",
       "      <td>6</td>\n",
       "      <td>31</td>\n",
       "      <td>7.72613</td>\n",
       "      <td>20.4699</td>\n",
       "    </tr>\n",
       "    <tr>\n",
       "      <th>counts</th>\n",
       "      <td>3370464</td>\n",
       "      <td>3370464</td>\n",
       "      <td>3370464</td>\n",
       "      <td>3370464</td>\n",
       "      <td>3370464</td>\n",
       "      <td>3370464</td>\n",
       "      <td>3370464</td>\n",
       "      <td>3287520</td>\n",
       "      <td>3287520</td>\n",
       "    </tr>\n",
       "    <tr>\n",
       "      <th>uniques</th>\n",
       "      <td>3370464</td>\n",
       "      <td>16</td>\n",
       "      <td>54</td>\n",
       "      <td>3901</td>\n",
       "      <td>2</td>\n",
       "      <td>7</td>\n",
       "      <td>16</td>\n",
       "      <td>979533</td>\n",
       "      <td>1704529</td>\n",
       "    </tr>\n",
       "    <tr>\n",
       "      <th>missing</th>\n",
       "      <td>0</td>\n",
       "      <td>0</td>\n",
       "      <td>0</td>\n",
       "      <td>0</td>\n",
       "      <td>0</td>\n",
       "      <td>0</td>\n",
       "      <td>0</td>\n",
       "      <td>82944</td>\n",
       "      <td>82944</td>\n",
       "    </tr>\n",
       "    <tr>\n",
       "      <th>missing_perc</th>\n",
       "      <td>0%</td>\n",
       "      <td>0%</td>\n",
       "      <td>0%</td>\n",
       "      <td>0%</td>\n",
       "      <td>0%</td>\n",
       "      <td>0%</td>\n",
       "      <td>0%</td>\n",
       "      <td>2.46%</td>\n",
       "      <td>2.46%</td>\n",
       "    </tr>\n",
       "    <tr>\n",
       "      <th>types</th>\n",
       "      <td>numeric</td>\n",
       "      <td>date</td>\n",
       "      <td>numeric</td>\n",
       "      <td>numeric</td>\n",
       "      <td>bool</td>\n",
       "      <td>numeric</td>\n",
       "      <td>numeric</td>\n",
       "      <td>numeric</td>\n",
       "      <td>numeric</td>\n",
       "    </tr>\n",
       "  </tbody>\n",
       "</table>\n",
       "</div>"
      ],
      "text/plain": [
       "                       id     date    store_nbr     item_nbr onpromotion  \\\n",
       "count         3.37046e+06      NaN  3.37046e+06  3.37046e+06         NaN   \n",
       "mean          1.27182e+08      NaN         27.5   1.2448e+06         NaN   \n",
       "std                972969      NaN      15.5858       589836         NaN   \n",
       "min           1.25497e+08      NaN            1        96995         NaN   \n",
       "25%            1.2634e+08      NaN           14       805321         NaN   \n",
       "50%           1.27182e+08      NaN         27.5  1.29466e+06         NaN   \n",
       "75%           1.28025e+08      NaN           41  1.73002e+06         NaN   \n",
       "max           1.28868e+08      NaN           54  2.13424e+06         NaN   \n",
       "counts            3370464  3370464      3370464      3370464     3370464   \n",
       "uniques           3370464       16           54         3901           2   \n",
       "missing                 0        0            0            0           0   \n",
       "missing_perc           0%       0%           0%           0%          0%   \n",
       "types             numeric     date      numeric      numeric        bool   \n",
       "\n",
       "                      dow          dom      avg_dow      avg_dom  \n",
       "count         3.37046e+06  3.37046e+06  3.28752e+06  3.28752e+06  \n",
       "mean               2.9375         23.5     0.856474     0.867372  \n",
       "std               1.88642      4.60977     0.939628     0.995126  \n",
       "min                     0           16            0            0  \n",
       "25%                  1.75        19.75            0            0  \n",
       "50%                     3         23.5     0.593464     0.561651  \n",
       "75%                  4.25        27.25      1.40389       1.4556  \n",
       "max                     6           31      7.72613      20.4699  \n",
       "counts            3370464      3370464      3287520      3287520  \n",
       "uniques                 7           16       979533      1704529  \n",
       "missing                 0            0        82944        82944  \n",
       "missing_perc           0%           0%        2.46%        2.46%  \n",
       "types             numeric      numeric      numeric      numeric  "
      ]
     },
     "execution_count": 24,
     "metadata": {},
     "output_type": "execute_result"
    }
   ],
   "source": [
    "DataFrameSummary(test).summary()"
   ]
  },
  {
   "cell_type": "code",
   "execution_count": 28,
   "metadata": {
    "ExecuteTime": {
     "end_time": "2018-03-20T23:19:23.167724Z",
     "start_time": "2018-03-20T23:19:20.925128Z"
    }
   },
   "outputs": [
    {
     "data": {
      "text/html": [
       "<div>\n",
       "<style>\n",
       "    .dataframe thead tr:only-child th {\n",
       "        text-align: right;\n",
       "    }\n",
       "\n",
       "    .dataframe thead th {\n",
       "        text-align: left;\n",
       "    }\n",
       "\n",
       "    .dataframe tbody tr th {\n",
       "        vertical-align: top;\n",
       "    }\n",
       "</style>\n",
       "<table border=\"1\" class=\"dataframe\">\n",
       "  <thead>\n",
       "    <tr style=\"text-align: right;\">\n",
       "      <th></th>\n",
       "      <th>date</th>\n",
       "      <th>store_nbr</th>\n",
       "      <th>item_nbr</th>\n",
       "      <th>unit_sales</th>\n",
       "      <th>onpromotion</th>\n",
       "      <th>dow</th>\n",
       "      <th>dom</th>\n",
       "      <th>avg_dow</th>\n",
       "      <th>avg_dom</th>\n",
       "    </tr>\n",
       "  </thead>\n",
       "  <tbody>\n",
       "    <tr>\n",
       "      <th>count</th>\n",
       "      <td>NaN</td>\n",
       "      <td>1.57097e+06</td>\n",
       "      <td>1.57097e+06</td>\n",
       "      <td>1.57097e+06</td>\n",
       "      <td>NaN</td>\n",
       "      <td>1.57097e+06</td>\n",
       "      <td>1.57097e+06</td>\n",
       "      <td>1.57020e+06</td>\n",
       "      <td>1.57020e+06</td>\n",
       "    </tr>\n",
       "    <tr>\n",
       "      <th>mean</th>\n",
       "      <td>NaN</td>\n",
       "      <td>28.307</td>\n",
       "      <td>1.17259e+06</td>\n",
       "      <td>1.6822</td>\n",
       "      <td>NaN</td>\n",
       "      <td>2.89611</td>\n",
       "      <td>7.93831</td>\n",
       "      <td>1.4658</td>\n",
       "      <td>1.46402</td>\n",
       "    </tr>\n",
       "    <tr>\n",
       "      <th>std</th>\n",
       "      <td>NaN</td>\n",
       "      <td>16.3061</td>\n",
       "      <td>587100</td>\n",
       "      <td>0.860944</td>\n",
       "      <td>NaN</td>\n",
       "      <td>2.00734</td>\n",
       "      <td>4.33322</td>\n",
       "      <td>0.905538</td>\n",
       "      <td>0.95274</td>\n",
       "    </tr>\n",
       "    <tr>\n",
       "      <th>min</th>\n",
       "      <td>NaN</td>\n",
       "      <td>1</td>\n",
       "      <td>96995</td>\n",
       "      <td>0</td>\n",
       "      <td>NaN</td>\n",
       "      <td>0</td>\n",
       "      <td>1</td>\n",
       "      <td>0</td>\n",
       "      <td>0</td>\n",
       "    </tr>\n",
       "    <tr>\n",
       "      <th>25%</th>\n",
       "      <td>NaN</td>\n",
       "      <td>13</td>\n",
       "      <td>692537</td>\n",
       "      <td>1.09861</td>\n",
       "      <td>NaN</td>\n",
       "      <td>1</td>\n",
       "      <td>4</td>\n",
       "      <td>0.793082</td>\n",
       "      <td>0.750494</td>\n",
       "    </tr>\n",
       "    <tr>\n",
       "      <th>50%</th>\n",
       "      <td>NaN</td>\n",
       "      <td>29</td>\n",
       "      <td>1.21391e+06</td>\n",
       "      <td>1.60944</td>\n",
       "      <td>NaN</td>\n",
       "      <td>3</td>\n",
       "      <td>8</td>\n",
       "      <td>1.33097</td>\n",
       "      <td>1.35529</td>\n",
       "    </tr>\n",
       "    <tr>\n",
       "      <th>75%</th>\n",
       "      <td>NaN</td>\n",
       "      <td>44</td>\n",
       "      <td>1.58352e+06</td>\n",
       "      <td>2.19722</td>\n",
       "      <td>NaN</td>\n",
       "      <td>5</td>\n",
       "      <td>12</td>\n",
       "      <td>1.99155</td>\n",
       "      <td>2.04691</td>\n",
       "    </tr>\n",
       "    <tr>\n",
       "      <th>max</th>\n",
       "      <td>NaN</td>\n",
       "      <td>54</td>\n",
       "      <td>2.12711e+06</td>\n",
       "      <td>8.49883</td>\n",
       "      <td>NaN</td>\n",
       "      <td>6</td>\n",
       "      <td>15</td>\n",
       "      <td>7.72613</td>\n",
       "      <td>9.14928</td>\n",
       "    </tr>\n",
       "    <tr>\n",
       "      <th>counts</th>\n",
       "      <td>1570968</td>\n",
       "      <td>1570968</td>\n",
       "      <td>1570968</td>\n",
       "      <td>1570968</td>\n",
       "      <td>1570968</td>\n",
       "      <td>1570968</td>\n",
       "      <td>1570968</td>\n",
       "      <td>1570205</td>\n",
       "      <td>1570205</td>\n",
       "    </tr>\n",
       "    <tr>\n",
       "      <th>uniques</th>\n",
       "      <td>15</td>\n",
       "      <td>54</td>\n",
       "      <td>3854</td>\n",
       "      <td>35597</td>\n",
       "      <td>2</td>\n",
       "      <td>7</td>\n",
       "      <td>15</td>\n",
       "      <td>851001</td>\n",
       "      <td>1326055</td>\n",
       "    </tr>\n",
       "    <tr>\n",
       "      <th>missing</th>\n",
       "      <td>0</td>\n",
       "      <td>0</td>\n",
       "      <td>0</td>\n",
       "      <td>0</td>\n",
       "      <td>0</td>\n",
       "      <td>0</td>\n",
       "      <td>0</td>\n",
       "      <td>763</td>\n",
       "      <td>763</td>\n",
       "    </tr>\n",
       "    <tr>\n",
       "      <th>missing_perc</th>\n",
       "      <td>0%</td>\n",
       "      <td>0%</td>\n",
       "      <td>0%</td>\n",
       "      <td>0%</td>\n",
       "      <td>0%</td>\n",
       "      <td>0%</td>\n",
       "      <td>0%</td>\n",
       "      <td>0.05%</td>\n",
       "      <td>0.05%</td>\n",
       "    </tr>\n",
       "    <tr>\n",
       "      <th>types</th>\n",
       "      <td>date</td>\n",
       "      <td>numeric</td>\n",
       "      <td>numeric</td>\n",
       "      <td>numeric</td>\n",
       "      <td>bool</td>\n",
       "      <td>numeric</td>\n",
       "      <td>numeric</td>\n",
       "      <td>numeric</td>\n",
       "      <td>numeric</td>\n",
       "    </tr>\n",
       "  </tbody>\n",
       "</table>\n",
       "</div>"
      ],
      "text/plain": [
       "                 date    store_nbr     item_nbr   unit_sales onpromotion  \\\n",
       "count             NaN  1.57097e+06  1.57097e+06  1.57097e+06         NaN   \n",
       "mean              NaN       28.307  1.17259e+06       1.6822         NaN   \n",
       "std               NaN      16.3061       587100     0.860944         NaN   \n",
       "min               NaN            1        96995            0         NaN   \n",
       "25%               NaN           13       692537      1.09861         NaN   \n",
       "50%               NaN           29  1.21391e+06      1.60944         NaN   \n",
       "75%               NaN           44  1.58352e+06      2.19722         NaN   \n",
       "max               NaN           54  2.12711e+06      8.49883         NaN   \n",
       "counts        1570968      1570968      1570968      1570968     1570968   \n",
       "uniques            15           54         3854        35597           2   \n",
       "missing             0            0            0            0           0   \n",
       "missing_perc       0%           0%           0%           0%          0%   \n",
       "types            date      numeric      numeric      numeric        bool   \n",
       "\n",
       "                      dow          dom      avg_dow      avg_dom  \n",
       "count         1.57097e+06  1.57097e+06  1.57020e+06  1.57020e+06  \n",
       "mean              2.89611      7.93831       1.4658      1.46402  \n",
       "std               2.00734      4.33322     0.905538      0.95274  \n",
       "min                     0            1            0            0  \n",
       "25%                     1            4     0.793082     0.750494  \n",
       "50%                     3            8      1.33097      1.35529  \n",
       "75%                     5           12      1.99155      2.04691  \n",
       "max                     6           15      7.72613      9.14928  \n",
       "counts            1570968      1570968      1570205      1570205  \n",
       "uniques                 7           15       851001      1326055  \n",
       "missing                 0            0          763          763  \n",
       "missing_perc           0%           0%        0.05%        0.05%  \n",
       "types             numeric      numeric      numeric      numeric  "
      ]
     },
     "execution_count": 28,
     "metadata": {},
     "output_type": "execute_result"
    }
   ],
   "source": [
    "DataFrameSummary(valid).summary()"
   ]
  },
  {
   "cell_type": "code",
   "execution_count": 32,
   "metadata": {
    "ExecuteTime": {
     "end_time": "2018-03-20T23:22:39.499973Z",
     "start_time": "2018-03-20T23:22:10.010287Z"
    }
   },
   "outputs": [
    {
     "data": {
      "text/html": [
       "<div>\n",
       "<style>\n",
       "    .dataframe thead tr:only-child th {\n",
       "        text-align: right;\n",
       "    }\n",
       "\n",
       "    .dataframe thead th {\n",
       "        text-align: left;\n",
       "    }\n",
       "\n",
       "    .dataframe tbody tr th {\n",
       "        vertical-align: top;\n",
       "    }\n",
       "</style>\n",
       "<table border=\"1\" class=\"dataframe\">\n",
       "  <thead>\n",
       "    <tr style=\"text-align: right;\">\n",
       "      <th></th>\n",
       "      <th>date</th>\n",
       "      <th>store_nbr</th>\n",
       "      <th>item_nbr</th>\n",
       "      <th>unit_sales</th>\n",
       "      <th>onpromotion</th>\n",
       "      <th>dow</th>\n",
       "      <th>dom</th>\n",
       "      <th>avg_dow</th>\n",
       "      <th>avg_dom</th>\n",
       "    </tr>\n",
       "  </thead>\n",
       "  <tbody>\n",
       "    <tr>\n",
       "      <th>count</th>\n",
       "      <td>NaN</td>\n",
       "      <td>1.94249e+07</td>\n",
       "      <td>1.94249e+07</td>\n",
       "      <td>1.94249e+07</td>\n",
       "      <td>NaN</td>\n",
       "      <td>1.94249e+07</td>\n",
       "      <td>1.94249e+07</td>\n",
       "      <td>1.94249e+07</td>\n",
       "      <td>1.94249e+07</td>\n",
       "    </tr>\n",
       "    <tr>\n",
       "      <th>mean</th>\n",
       "      <td>NaN</td>\n",
       "      <td>27.5</td>\n",
       "      <td>1.22942e+06</td>\n",
       "      <td>0.851644</td>\n",
       "      <td>NaN</td>\n",
       "      <td>2.96739</td>\n",
       "      <td>15.837</td>\n",
       "      <td>0.844942</td>\n",
       "      <td>0.844317</td>\n",
       "    </tr>\n",
       "    <tr>\n",
       "      <th>std</th>\n",
       "      <td>NaN</td>\n",
       "      <td>15.5858</td>\n",
       "      <td>579373</td>\n",
       "      <td>1.04983</td>\n",
       "      <td>NaN</td>\n",
       "      <td>2.01328</td>\n",
       "      <td>8.85423</td>\n",
       "      <td>0.944727</td>\n",
       "      <td>0.980262</td>\n",
       "    </tr>\n",
       "    <tr>\n",
       "      <th>min</th>\n",
       "      <td>NaN</td>\n",
       "      <td>1</td>\n",
       "      <td>96995</td>\n",
       "      <td>0</td>\n",
       "      <td>NaN</td>\n",
       "      <td>0</td>\n",
       "      <td>1</td>\n",
       "      <td>0</td>\n",
       "      <td>0</td>\n",
       "    </tr>\n",
       "    <tr>\n",
       "      <th>25%</th>\n",
       "      <td>NaN</td>\n",
       "      <td>14</td>\n",
       "      <td>802832</td>\n",
       "      <td>0</td>\n",
       "      <td>NaN</td>\n",
       "      <td>1</td>\n",
       "      <td>8</td>\n",
       "      <td>0</td>\n",
       "      <td>0</td>\n",
       "    </tr>\n",
       "    <tr>\n",
       "      <th>50%</th>\n",
       "      <td>NaN</td>\n",
       "      <td>27.5</td>\n",
       "      <td>1.24676e+06</td>\n",
       "      <td>0.64658</td>\n",
       "      <td>NaN</td>\n",
       "      <td>3</td>\n",
       "      <td>16</td>\n",
       "      <td>0.565945</td>\n",
       "      <td>0.522522</td>\n",
       "    </tr>\n",
       "    <tr>\n",
       "      <th>75%</th>\n",
       "      <td>NaN</td>\n",
       "      <td>41</td>\n",
       "      <td>1.69595e+06</td>\n",
       "      <td>1.60944</td>\n",
       "      <td>NaN</td>\n",
       "      <td>5</td>\n",
       "      <td>23.25</td>\n",
       "      <td>1.39663</td>\n",
       "      <td>1.43181</td>\n",
       "    </tr>\n",
       "    <tr>\n",
       "      <th>max</th>\n",
       "      <td>NaN</td>\n",
       "      <td>54</td>\n",
       "      <td>2.12711e+06</td>\n",
       "      <td>9.64056</td>\n",
       "      <td>NaN</td>\n",
       "      <td>6</td>\n",
       "      <td>31</td>\n",
       "      <td>7.72613</td>\n",
       "      <td>20.4699</td>\n",
       "    </tr>\n",
       "    <tr>\n",
       "      <th>counts</th>\n",
       "      <td>19424880</td>\n",
       "      <td>19424880</td>\n",
       "      <td>19424880</td>\n",
       "      <td>19424880</td>\n",
       "      <td>19424880</td>\n",
       "      <td>19424880</td>\n",
       "      <td>19424880</td>\n",
       "      <td>19424880</td>\n",
       "      <td>19424880</td>\n",
       "    </tr>\n",
       "    <tr>\n",
       "      <th>uniques</th>\n",
       "      <td>92</td>\n",
       "      <td>54</td>\n",
       "      <td>3910</td>\n",
       "      <td>82460</td>\n",
       "      <td>2</td>\n",
       "      <td>7</td>\n",
       "      <td>31</td>\n",
       "      <td>982725</td>\n",
       "      <td>2956970</td>\n",
       "    </tr>\n",
       "    <tr>\n",
       "      <th>missing</th>\n",
       "      <td>0</td>\n",
       "      <td>0</td>\n",
       "      <td>0</td>\n",
       "      <td>0</td>\n",
       "      <td>0</td>\n",
       "      <td>0</td>\n",
       "      <td>0</td>\n",
       "      <td>0</td>\n",
       "      <td>0</td>\n",
       "    </tr>\n",
       "    <tr>\n",
       "      <th>missing_perc</th>\n",
       "      <td>0%</td>\n",
       "      <td>0%</td>\n",
       "      <td>0%</td>\n",
       "      <td>0%</td>\n",
       "      <td>0%</td>\n",
       "      <td>0%</td>\n",
       "      <td>0%</td>\n",
       "      <td>0%</td>\n",
       "      <td>0%</td>\n",
       "    </tr>\n",
       "    <tr>\n",
       "      <th>types</th>\n",
       "      <td>date</td>\n",
       "      <td>numeric</td>\n",
       "      <td>numeric</td>\n",
       "      <td>numeric</td>\n",
       "      <td>bool</td>\n",
       "      <td>numeric</td>\n",
       "      <td>numeric</td>\n",
       "      <td>numeric</td>\n",
       "      <td>numeric</td>\n",
       "    </tr>\n",
       "  </tbody>\n",
       "</table>\n",
       "</div>"
      ],
      "text/plain": [
       "                  date    store_nbr     item_nbr   unit_sales onpromotion  \\\n",
       "count              NaN  1.94249e+07  1.94249e+07  1.94249e+07         NaN   \n",
       "mean               NaN         27.5  1.22942e+06     0.851644         NaN   \n",
       "std                NaN      15.5858       579373      1.04983         NaN   \n",
       "min                NaN            1        96995            0         NaN   \n",
       "25%                NaN           14       802832            0         NaN   \n",
       "50%                NaN         27.5  1.24676e+06      0.64658         NaN   \n",
       "75%                NaN           41  1.69595e+06      1.60944         NaN   \n",
       "max                NaN           54  2.12711e+06      9.64056         NaN   \n",
       "counts        19424880     19424880     19424880     19424880    19424880   \n",
       "uniques             92           54         3910        82460           2   \n",
       "missing              0            0            0            0           0   \n",
       "missing_perc        0%           0%           0%           0%          0%   \n",
       "types             date      numeric      numeric      numeric        bool   \n",
       "\n",
       "                      dow          dom      avg_dow      avg_dom  \n",
       "count         1.94249e+07  1.94249e+07  1.94249e+07  1.94249e+07  \n",
       "mean              2.96739       15.837     0.844942     0.844317  \n",
       "std               2.01328      8.85423     0.944727     0.980262  \n",
       "min                     0            1            0            0  \n",
       "25%                     1            8            0            0  \n",
       "50%                     3           16     0.565945     0.522522  \n",
       "75%                     5        23.25      1.39663      1.43181  \n",
       "max                     6           31      7.72613      20.4699  \n",
       "counts           19424880     19424880     19424880     19424880  \n",
       "uniques                 7           31       982725      2956970  \n",
       "missing                 0            0            0            0  \n",
       "missing_perc           0%           0%           0%           0%  \n",
       "types             numeric      numeric      numeric      numeric  "
      ]
     },
     "execution_count": 32,
     "metadata": {},
     "output_type": "execute_result"
    }
   ],
   "source": [
    "DataFrameSummary(train).summary()"
   ]
  },
  {
   "cell_type": "code",
   "execution_count": 29,
   "metadata": {
    "ExecuteTime": {
     "end_time": "2018-03-20T23:20:14.251679Z",
     "start_time": "2018-03-20T23:20:13.327893Z"
    },
    "collapsed": true
   },
   "outputs": [],
   "source": [
    "# recalculate above w/out item_nbr for quick and dirty averages to fill nas in test...\n",
    "av_ma_dw = ma_dw[['store_nbr','dow','madw']].groupby(['store_nbr','dow'])['madw'].mean().to_frame('av_madw').reset_index()\n",
    "av_ma_wk = ma_wk[['store_nbr','mawk']].groupby(['store_nbr'])['mawk'].mean().to_frame('av_mawk').reset_index()\n",
    "\n",
    "av_ma_dm = ma_dm[['store_nbr','dom','madm']].groupby(['store_nbr','dom'])['madm'].mean().to_frame('av_madm').reset_index()\n",
    "av_ma_mo = ma_mo[['store_nbr','mamo']].groupby(['store_nbr'])['mamo'].mean().to_frame('av_mamo').reset_index()\n",
    "\n",
    "av_ma_is = ma_is[['store_nbr','mais']].groupby(['store_nbr'])['mais'].mean().to_frame('av_mais').reset_index()"
   ]
  },
  {
   "cell_type": "code",
   "execution_count": 33,
   "metadata": {
    "ExecuteTime": {
     "end_time": "2018-03-20T23:23:10.345654Z",
     "start_time": "2018-03-20T23:23:07.672071Z"
    },
    "collapsed": true
   },
   "outputs": [],
   "source": [
    "# merge moving averages onto test df\n",
    "test = pd.merge(test, av_ma_is, how='left', on=['store_nbr'])\n",
    "test = pd.merge(test, av_ma_wk, how='left', on=['store_nbr'])\n",
    "test = pd.merge(test, av_ma_mo, how='left', on=['store_nbr'])\n",
    "test = pd.merge(test, av_ma_dw, how='left', on=['store_nbr','dow'])\n",
    "test = pd.merge(test, av_ma_dm, how='left', on=['store_nbr','dom'])\n",
    "\n",
    "# # merge moving averages onto valid df\n",
    "# valid = pd.merge(valid, av_ma_is, how='left', on=['store_nbr'])\n",
    "# valid = pd.merge(valid, av_ma_wk, how='left', on=['store_nbr'])\n",
    "# valid = pd.merge(valid, av_ma_mo, how='left', on=['store_nbr'])\n",
    "# valid = pd.merge(valid, av_ma_dw, how='left', on=['store_nbr','dow'])\n",
    "# valid = pd.merge(valid, av_ma_dm, how='left', on=['store_nbr','dom'])"
   ]
  },
  {
   "cell_type": "code",
   "execution_count": null,
   "metadata": {
    "collapsed": true
   },
   "outputs": [],
   "source": [
    "test['av_dow'] = test['av_mais'] * test['av_madw'] / test['av_mawk']\n",
    "test['av_dom'] = test['av_mais'] * test['av_madm'] / test['av_mamo']"
   ]
  },
  {
   "cell_type": "code",
   "execution_count": 44,
   "metadata": {
    "ExecuteTime": {
     "end_time": "2018-03-20T23:50:51.351523Z",
     "start_time": "2018-03-20T23:50:51.246076Z"
    },
    "collapsed": true
   },
   "outputs": [],
   "source": [
    "test['avg_dow'].fillna(test['av_dow'], inplace=True)\n",
    "test['avg_dom'].fillna(test['av_dom'], inplace=True)"
   ]
  },
  {
   "cell_type": "code",
   "execution_count": 51,
   "metadata": {
    "ExecuteTime": {
     "end_time": "2018-03-20T23:55:32.355768Z",
     "start_time": "2018-03-20T23:55:32.081080Z"
    },
    "collapsed": true
   },
   "outputs": [],
   "source": [
    "test.drop(list(test.columns.values)[9:], axis=1, inplace=True)"
   ]
  },
  {
   "cell_type": "code",
   "execution_count": 57,
   "metadata": {
    "ExecuteTime": {
     "end_time": "2018-03-20T23:58:12.424595Z",
     "start_time": "2018-03-20T23:58:10.191744Z"
    },
    "collapsed": true
   },
   "outputs": [],
   "source": [
    "train.to_feather(f'{PATH}rf_rnn/train_dom_dow_w_avgs')\n",
    "valid.to_feather(f'{PATH}rf_rnn/valid_dom_dow_w_avgs')\n",
    "test.to_feather(f'{PATH}rf_rnn/test_dom_dow_w_avgs')"
   ]
  },
  {
   "cell_type": "markdown",
   "metadata": {},
   "source": [
    "## Calculate averages for train/test"
   ]
  },
  {
   "cell_type": "code",
   "execution_count": 20,
   "metadata": {
    "ExecuteTime": {
     "end_time": "2018-03-20T23:16:34.065703Z",
     "start_time": "2018-03-20T23:16:27.989846Z"
    },
    "collapsed": true
   },
   "outputs": [],
   "source": [
    "# avg price * dow multiplier\n",
    "train['avg_dow'] = train.mais\n",
    "pos_idx = train['mawk'] > 0  # avoid division by zero error\n",
    "train_pos = train.loc[pos_idx]\n",
    "train.loc[pos_idx, 'avg_dow'] = train_pos['mais'] * train_pos['madw'] / train_pos['mawk']\n",
    "# train.loc[:, 'avg_dow'].fillna(train['avg_dow'].median(), inplace=True)  # fill w/ median instead of 0\n",
    "train.drop(['mawk', 'madw'], axis=1, inplace=True)"
   ]
  },
  {
   "cell_type": "code",
   "execution_count": 21,
   "metadata": {
    "ExecuteTime": {
     "end_time": "2018-03-20T23:16:39.914397Z",
     "start_time": "2018-03-20T23:16:34.461417Z"
    }
   },
   "outputs": [
    {
     "data": {
      "text/html": [
       "<div>\n",
       "<style>\n",
       "    .dataframe thead tr:only-child th {\n",
       "        text-align: right;\n",
       "    }\n",
       "\n",
       "    .dataframe thead th {\n",
       "        text-align: left;\n",
       "    }\n",
       "\n",
       "    .dataframe tbody tr th {\n",
       "        vertical-align: top;\n",
       "    }\n",
       "</style>\n",
       "<table border=\"1\" class=\"dataframe\">\n",
       "  <thead>\n",
       "    <tr style=\"text-align: right;\">\n",
       "      <th></th>\n",
       "      <th>date</th>\n",
       "      <th>store_nbr</th>\n",
       "      <th>item_nbr</th>\n",
       "      <th>unit_sales</th>\n",
       "      <th>onpromotion</th>\n",
       "      <th>dow</th>\n",
       "      <th>dom</th>\n",
       "      <th>avg_dow</th>\n",
       "      <th>avg_dom</th>\n",
       "    </tr>\n",
       "  </thead>\n",
       "  <tbody>\n",
       "    <tr>\n",
       "      <th>0</th>\n",
       "      <td>2017-05-01</td>\n",
       "      <td>1</td>\n",
       "      <td>103520</td>\n",
       "      <td>0.693147</td>\n",
       "      <td>False</td>\n",
       "      <td>0</td>\n",
       "      <td>1</td>\n",
       "      <td>0.735990</td>\n",
       "      <td>0.943082</td>\n",
       "    </tr>\n",
       "    <tr>\n",
       "      <th>1</th>\n",
       "      <td>2017-05-01</td>\n",
       "      <td>1</td>\n",
       "      <td>105574</td>\n",
       "      <td>1.609438</td>\n",
       "      <td>False</td>\n",
       "      <td>0</td>\n",
       "      <td>1</td>\n",
       "      <td>1.972015</td>\n",
       "      <td>1.691273</td>\n",
       "    </tr>\n",
       "    <tr>\n",
       "      <th>2</th>\n",
       "      <td>2017-05-01</td>\n",
       "      <td>1</td>\n",
       "      <td>105575</td>\n",
       "      <td>1.609438</td>\n",
       "      <td>False</td>\n",
       "      <td>0</td>\n",
       "      <td>1</td>\n",
       "      <td>2.216405</td>\n",
       "      <td>1.754545</td>\n",
       "    </tr>\n",
       "    <tr>\n",
       "      <th>3</th>\n",
       "      <td>2017-05-01</td>\n",
       "      <td>1</td>\n",
       "      <td>106716</td>\n",
       "      <td>0.693147</td>\n",
       "      <td>False</td>\n",
       "      <td>0</td>\n",
       "      <td>1</td>\n",
       "      <td>1.500419</td>\n",
       "      <td>0.995786</td>\n",
       "    </tr>\n",
       "    <tr>\n",
       "      <th>4</th>\n",
       "      <td>2017-05-01</td>\n",
       "      <td>1</td>\n",
       "      <td>108696</td>\n",
       "      <td>1.609438</td>\n",
       "      <td>False</td>\n",
       "      <td>0</td>\n",
       "      <td>1</td>\n",
       "      <td>1.076144</td>\n",
       "      <td>0.666585</td>\n",
       "    </tr>\n",
       "  </tbody>\n",
       "</table>\n",
       "</div>"
      ],
      "text/plain": [
       "        date  store_nbr  item_nbr  unit_sales  onpromotion  dow  dom  \\\n",
       "0 2017-05-01          1    103520    0.693147        False    0    1   \n",
       "1 2017-05-01          1    105574    1.609438        False    0    1   \n",
       "2 2017-05-01          1    105575    1.609438        False    0    1   \n",
       "3 2017-05-01          1    106716    0.693147        False    0    1   \n",
       "4 2017-05-01          1    108696    1.609438        False    0    1   \n",
       "\n",
       "    avg_dow   avg_dom  \n",
       "0  0.735990  0.943082  \n",
       "1  1.972015  1.691273  \n",
       "2  2.216405  1.754545  \n",
       "3  1.500419  0.995786  \n",
       "4  1.076144  0.666585  "
      ]
     },
     "execution_count": 21,
     "metadata": {},
     "output_type": "execute_result"
    }
   ],
   "source": [
    "# avg price * dom multiplier\n",
    "train['avg_dom'] = train.mais\n",
    "pos_idx = train['mamo'] > 0  # avoid division by zero error\n",
    "train_pos = train.loc[pos_idx]\n",
    "train.loc[pos_idx, 'avg_dom'] = train_pos['mais'] * train_pos['madm'] / train_pos['mamo']\n",
    "# train.loc[:, 'avg_dom'].fillna(train['avg_dom'].median(), inplace=True)\n",
    "train.drop(['mais', 'mamo', 'madm'], axis=1, inplace=True); train.head()"
   ]
  },
  {
   "cell_type": "code",
   "execution_count": 22,
   "metadata": {
    "ExecuteTime": {
     "end_time": "2018-03-20T23:16:41.294476Z",
     "start_time": "2018-03-20T23:16:40.430293Z"
    },
    "collapsed": true
   },
   "outputs": [],
   "source": [
    "test['avg_dow'] = test.mais\n",
    "pos_idx = test['mawk'] > 0\n",
    "test_pos = test.loc[pos_idx]\n",
    "test.loc[pos_idx, 'avg_dow'] = test_pos['mais'] * test_pos['madw'] / test_pos['mawk']\n",
    "# test.loc[:, 'avg_dow'].fillna(test['avg_dow'].median(), inplace=True)\n",
    "test.drop(['mawk', 'madw'], axis=1, inplace=True)"
   ]
  },
  {
   "cell_type": "code",
   "execution_count": 23,
   "metadata": {
    "ExecuteTime": {
     "end_time": "2018-03-20T23:16:42.342370Z",
     "start_time": "2018-03-20T23:16:41.731908Z"
    }
   },
   "outputs": [
    {
     "data": {
      "text/html": [
       "<div>\n",
       "<style>\n",
       "    .dataframe thead tr:only-child th {\n",
       "        text-align: right;\n",
       "    }\n",
       "\n",
       "    .dataframe thead th {\n",
       "        text-align: left;\n",
       "    }\n",
       "\n",
       "    .dataframe tbody tr th {\n",
       "        vertical-align: top;\n",
       "    }\n",
       "</style>\n",
       "<table border=\"1\" class=\"dataframe\">\n",
       "  <thead>\n",
       "    <tr style=\"text-align: right;\">\n",
       "      <th></th>\n",
       "      <th>id</th>\n",
       "      <th>date</th>\n",
       "      <th>store_nbr</th>\n",
       "      <th>item_nbr</th>\n",
       "      <th>onpromotion</th>\n",
       "      <th>dow</th>\n",
       "      <th>dom</th>\n",
       "      <th>avg_dow</th>\n",
       "      <th>avg_dom</th>\n",
       "    </tr>\n",
       "  </thead>\n",
       "  <tbody>\n",
       "    <tr>\n",
       "      <th>0</th>\n",
       "      <td>125497040</td>\n",
       "      <td>2017-08-16</td>\n",
       "      <td>1</td>\n",
       "      <td>96995</td>\n",
       "      <td>False</td>\n",
       "      <td>2</td>\n",
       "      <td>16</td>\n",
       "      <td>0.170942</td>\n",
       "      <td>0.000000</td>\n",
       "    </tr>\n",
       "    <tr>\n",
       "      <th>1</th>\n",
       "      <td>125497041</td>\n",
       "      <td>2017-08-16</td>\n",
       "      <td>1</td>\n",
       "      <td>99197</td>\n",
       "      <td>False</td>\n",
       "      <td>2</td>\n",
       "      <td>16</td>\n",
       "      <td>0.341187</td>\n",
       "      <td>0.176807</td>\n",
       "    </tr>\n",
       "    <tr>\n",
       "      <th>2</th>\n",
       "      <td>125497042</td>\n",
       "      <td>2017-08-16</td>\n",
       "      <td>1</td>\n",
       "      <td>103501</td>\n",
       "      <td>False</td>\n",
       "      <td>2</td>\n",
       "      <td>16</td>\n",
       "      <td>0.000000</td>\n",
       "      <td>0.000000</td>\n",
       "    </tr>\n",
       "    <tr>\n",
       "      <th>3</th>\n",
       "      <td>125497043</td>\n",
       "      <td>2017-08-16</td>\n",
       "      <td>1</td>\n",
       "      <td>103520</td>\n",
       "      <td>False</td>\n",
       "      <td>2</td>\n",
       "      <td>16</td>\n",
       "      <td>1.016295</td>\n",
       "      <td>0.751296</td>\n",
       "    </tr>\n",
       "    <tr>\n",
       "      <th>4</th>\n",
       "      <td>125497044</td>\n",
       "      <td>2017-08-16</td>\n",
       "      <td>1</td>\n",
       "      <td>103665</td>\n",
       "      <td>False</td>\n",
       "      <td>2</td>\n",
       "      <td>16</td>\n",
       "      <td>0.982138</td>\n",
       "      <td>1.229558</td>\n",
       "    </tr>\n",
       "  </tbody>\n",
       "</table>\n",
       "</div>"
      ],
      "text/plain": [
       "          id       date  store_nbr  item_nbr  onpromotion  dow  dom   avg_dow  \\\n",
       "0  125497040 2017-08-16          1     96995        False    2   16  0.170942   \n",
       "1  125497041 2017-08-16          1     99197        False    2   16  0.341187   \n",
       "2  125497042 2017-08-16          1    103501        False    2   16  0.000000   \n",
       "3  125497043 2017-08-16          1    103520        False    2   16  1.016295   \n",
       "4  125497044 2017-08-16          1    103665        False    2   16  0.982138   \n",
       "\n",
       "    avg_dom  \n",
       "0  0.000000  \n",
       "1  0.176807  \n",
       "2  0.000000  \n",
       "3  0.751296  \n",
       "4  1.229558  "
      ]
     },
     "execution_count": 23,
     "metadata": {},
     "output_type": "execute_result"
    }
   ],
   "source": [
    "test['avg_dom'] = test.mais\n",
    "pos_idx = test['mamo'] > 0\n",
    "test_pos = test.loc[pos_idx]\n",
    "test.loc[pos_idx, 'avg_dom'] = test_pos['mais'] * test_pos['madm'] / test_pos['mamo']\n",
    "# test.loc[:, \"avg_dom\"].fillna(test['avg_dom'].median(), inplace=True)\n",
    "test.drop(['mais', 'mamo', 'madm'], axis=1, inplace=True); test.head()"
   ]
  },
  {
   "cell_type": "code",
   "execution_count": 26,
   "metadata": {
    "ExecuteTime": {
     "end_time": "2018-03-20T23:19:13.043670Z",
     "start_time": "2018-03-20T23:19:12.649851Z"
    },
    "collapsed": true
   },
   "outputs": [],
   "source": [
    "valid['avg_dow'] = valid.mais\n",
    "pos_idx = valid['mawk'] > 0\n",
    "valid_pos = valid.loc[pos_idx]\n",
    "valid.loc[pos_idx, 'avg_dow'] = valid_pos['mais'] * valid_pos['madw'] / valid_pos['mawk']\n",
    "# valid.loc[:, 'avg_dow'].fillna(valid['avg_dow'].median(), inplace=True)\n",
    "valid.drop(['mawk', 'madw'], axis=1, inplace=True)"
   ]
  },
  {
   "cell_type": "code",
   "execution_count": 27,
   "metadata": {
    "ExecuteTime": {
     "end_time": "2018-03-20T23:19:13.842786Z",
     "start_time": "2018-03-20T23:19:13.514940Z"
    }
   },
   "outputs": [
    {
     "data": {
      "text/html": [
       "<div>\n",
       "<style>\n",
       "    .dataframe thead tr:only-child th {\n",
       "        text-align: right;\n",
       "    }\n",
       "\n",
       "    .dataframe thead th {\n",
       "        text-align: left;\n",
       "    }\n",
       "\n",
       "    .dataframe tbody tr th {\n",
       "        vertical-align: top;\n",
       "    }\n",
       "</style>\n",
       "<table border=\"1\" class=\"dataframe\">\n",
       "  <thead>\n",
       "    <tr style=\"text-align: right;\">\n",
       "      <th></th>\n",
       "      <th>date</th>\n",
       "      <th>store_nbr</th>\n",
       "      <th>item_nbr</th>\n",
       "      <th>unit_sales</th>\n",
       "      <th>onpromotion</th>\n",
       "      <th>dow</th>\n",
       "      <th>dom</th>\n",
       "      <th>avg_dow</th>\n",
       "      <th>avg_dom</th>\n",
       "    </tr>\n",
       "  </thead>\n",
       "  <tbody>\n",
       "    <tr>\n",
       "      <th>0</th>\n",
       "      <td>2017-08-01</td>\n",
       "      <td>1</td>\n",
       "      <td>103520</td>\n",
       "      <td>1.386294</td>\n",
       "      <td>False</td>\n",
       "      <td>1</td>\n",
       "      <td>1</td>\n",
       "      <td>0.844002</td>\n",
       "      <td>0.943082</td>\n",
       "    </tr>\n",
       "    <tr>\n",
       "      <th>1</th>\n",
       "      <td>2017-08-01</td>\n",
       "      <td>1</td>\n",
       "      <td>103665</td>\n",
       "      <td>1.609438</td>\n",
       "      <td>False</td>\n",
       "      <td>1</td>\n",
       "      <td>1</td>\n",
       "      <td>1.048943</td>\n",
       "      <td>0.817444</td>\n",
       "    </tr>\n",
       "    <tr>\n",
       "      <th>2</th>\n",
       "      <td>2017-08-01</td>\n",
       "      <td>1</td>\n",
       "      <td>105574</td>\n",
       "      <td>2.197225</td>\n",
       "      <td>False</td>\n",
       "      <td>1</td>\n",
       "      <td>1</td>\n",
       "      <td>1.740511</td>\n",
       "      <td>1.691273</td>\n",
       "    </tr>\n",
       "    <tr>\n",
       "      <th>3</th>\n",
       "      <td>2017-08-01</td>\n",
       "      <td>1</td>\n",
       "      <td>105575</td>\n",
       "      <td>2.708050</td>\n",
       "      <td>False</td>\n",
       "      <td>1</td>\n",
       "      <td>1</td>\n",
       "      <td>2.529345</td>\n",
       "      <td>1.754545</td>\n",
       "    </tr>\n",
       "    <tr>\n",
       "      <th>4</th>\n",
       "      <td>2017-08-01</td>\n",
       "      <td>1</td>\n",
       "      <td>105693</td>\n",
       "      <td>0.693147</td>\n",
       "      <td>False</td>\n",
       "      <td>1</td>\n",
       "      <td>1</td>\n",
       "      <td>0.191487</td>\n",
       "      <td>0.000000</td>\n",
       "    </tr>\n",
       "  </tbody>\n",
       "</table>\n",
       "</div>"
      ],
      "text/plain": [
       "        date  store_nbr  item_nbr  unit_sales  onpromotion  dow  dom  \\\n",
       "0 2017-08-01          1    103520    1.386294        False    1    1   \n",
       "1 2017-08-01          1    103665    1.609438        False    1    1   \n",
       "2 2017-08-01          1    105574    2.197225        False    1    1   \n",
       "3 2017-08-01          1    105575    2.708050        False    1    1   \n",
       "4 2017-08-01          1    105693    0.693147        False    1    1   \n",
       "\n",
       "    avg_dow   avg_dom  \n",
       "0  0.844002  0.943082  \n",
       "1  1.048943  0.817444  \n",
       "2  1.740511  1.691273  \n",
       "3  2.529345  1.754545  \n",
       "4  0.191487  0.000000  "
      ]
     },
     "execution_count": 27,
     "metadata": {},
     "output_type": "execute_result"
    }
   ],
   "source": [
    "valid['avg_dom'] = valid.mais\n",
    "pos_idx = valid['mamo'] > 0\n",
    "valid_pos = valid.loc[pos_idx]\n",
    "valid.loc[pos_idx, 'avg_dom'] = valid_pos['mais'] * valid_pos['madm'] / valid_pos['mamo']\n",
    "# valid.loc[:, \"avg_dom\"].fillna(valid['avg_dom'].median(), inplace=True)\n",
    "valid.drop(['mais', 'mamo', 'madm'], axis=1, inplace=True); valid.head()"
   ]
  },
  {
   "cell_type": "code",
   "execution_count": 58,
   "metadata": {
    "ExecuteTime": {
     "end_time": "2018-03-20T23:58:45.906983Z",
     "start_time": "2018-03-20T23:58:45.868895Z"
    },
    "collapsed": true
   },
   "outputs": [],
   "source": [
    "del pos_idx, train_pos, test_pos"
   ]
  },
  {
   "cell_type": "code",
   "execution_count": null,
   "metadata": {
    "ExecuteTime": {
     "end_time": "2018-03-20T16:42:46.434801Z",
     "start_time": "2018-03-20T16:42:44.365596Z"
    },
    "collapsed": true
   },
   "outputs": [],
   "source": [
    "train.to_feather(f'{PATH}rf_rnn/train_w_averages_incomplete')\n",
    "test.to_feather(f'{PATH}rf_rnn/test_w_averages_incomplete')"
   ]
  },
  {
   "cell_type": "markdown",
   "metadata": {},
   "source": [
    "## Establish baseline (moving averages)"
   ]
  },
  {
   "cell_type": "code",
   "execution_count": 61,
   "metadata": {
    "ExecuteTime": {
     "end_time": "2018-03-21T00:01:02.290752Z",
     "start_time": "2018-03-21T00:01:02.252646Z"
    },
    "collapsed": true
   },
   "outputs": [],
   "source": [
    "# Root Mean Squared Logarathimic Error\n",
    "# kaggle definition\n",
    "# np.square(np.log(y_pred + 1) - np.log(y_true + 1)).mean() ** 0.5\n",
    "\n",
    "def rmsle(pred, targ):\n",
    "    # pred and targs are both log1p values already\n",
    "    mean_diff = np.square(pred - targ).mean()\n",
    "    return round(math.sqrt(mean_diff), 4)"
   ]
  },
  {
   "cell_type": "code",
   "execution_count": 65,
   "metadata": {
    "ExecuteTime": {
     "end_time": "2018-03-21T00:03:56.658299Z",
     "start_time": "2018-03-21T00:03:52.248045Z"
    },
    "collapsed": true
   },
   "outputs": [],
   "source": [
    "# testing 25% more for promotion items\n",
    "#dow\n",
    "train['avg_dow_promo'] = train['avg_dow']\n",
    "train.loc[train['onpromotion'] == True, 'avg_dow_promo'] *= 1.25\n",
    "\n",
    "valid['avg_dow_promo'] = valid['avg_dow']\n",
    "valid.loc[valid['onpromotion'] == True, 'avg_dow_promo'] *= 1.25\n",
    "# dom\n",
    "train['avg_dom_promo'] = train['avg_dom']\n",
    "train.loc[train['onpromotion'] == True, 'avg_dom_promo'] *= 1.25\n",
    "\n",
    "valid['avg_dom_promo'] = valid['avg_dom']\n",
    "valid.loc[valid['onpromotion'] == True, 'avg_dom_promo'] *= 1.25\n",
    "\n",
    "# drop avg_dow_promo columns from train/valid\n",
    "train.drop('avg_dow_promo', axis=1, inplace=True)\n",
    "valid.drop('avg_dow_promo', axis=1, inplace=True)\n",
    "train.drop('avg_dom_promo', axis=1, inplace=True)\n",
    "valid.drop('avg_dom_promo', axis=1, inplace=True)"
   ]
  },
  {
   "cell_type": "code",
   "execution_count": 63,
   "metadata": {
    "ExecuteTime": {
     "end_time": "2018-03-21T00:02:47.433727Z",
     "start_time": "2018-03-21T00:02:46.588870Z"
    }
   },
   "outputs": [
    {
     "name": "stdout",
     "output_type": "stream",
     "text": [
      "0.5985\n",
      "0.5699\n",
      "0.5993\n",
      "0.5741\n"
     ]
    }
   ],
   "source": [
    "# The baseline predictions on full training set\n",
    "print(rmsle(train.avg_dow, train.unit_sales))  #=> 0.7158\n",
    "print(rmsle(train.avg_dom, train.unit_sales))  #=> 0.337\n",
    "# 0.5269\n",
    "# 0.5264\n",
    "\n",
    "# baseline w/ promo multiplier\n",
    "print(rmsle(train.avg_dow_promo, train.unit_sales))  #=> 0.7133\n",
    "print(rmsle(train.avg_dom_promo, train.unit_sales))\n",
    "# 0.5292\n",
    "# 0.5238\n",
    "\n",
    "# 0.5985\n",
    "# 0.5699\n",
    "# 0.5993\n",
    "# 0.5741"
   ]
  },
  {
   "cell_type": "code",
   "execution_count": 64,
   "metadata": {
    "ExecuteTime": {
     "end_time": "2018-03-21T00:03:11.593100Z",
     "start_time": "2018-03-21T00:03:11.514257Z"
    }
   },
   "outputs": [
    {
     "name": "stdout",
     "output_type": "stream",
     "text": [
      "0.663\n",
      "0.7611\n",
      "0.6654\n",
      "0.762\n"
     ]
    }
   ],
   "source": [
    "# baseline predictions on validation set\n",
    "print(rmsle(valid.avg_dow, valid.unit_sales))  #=> 0.5138\n",
    "print(rmsle(valid.avg_dom, valid.unit_sales))  #=> 0.2611\n",
    "# 0.4915\n",
    "# 0.483\n",
    "\n",
    "# baseline w/ promo multiplier\n",
    "print(rmsle(valid.avg_dow_promo, valid.unit_sales))  #=> 0.5116\n",
    "print(rmsle(valid.avg_dom_promo, valid.unit_sales))\n",
    "# 0.5013\n",
    "# 0.4891\n",
    "\n",
    "# 0.663\n",
    "# 0.7611\n",
    "# 0.6654\n",
    "# 0.762"
   ]
  },
  {
   "cell_type": "code",
   "execution_count": 66,
   "metadata": {
    "ExecuteTime": {
     "end_time": "2018-03-21T00:04:05.245211Z",
     "start_time": "2018-03-21T00:04:04.511049Z"
    }
   },
   "outputs": [
    {
     "name": "stdout",
     "output_type": "stream",
     "text": [
      "0.5522\n",
      "0.6641\n"
     ]
    }
   ],
   "source": [
    "# average dom/dow for full and valid sets\n",
    "print(rmsle(train[['avg_dow', 'avg_dom']].mean(axis=1), train.unit_sales))\n",
    "print(rmsle(valid[['avg_dow', 'avg_dom']].mean(axis=1), valid.unit_sales))"
   ]
  },
  {
   "cell_type": "markdown",
   "metadata": {},
   "source": [
    "It appears that avg dow/dom is the best baseline predictor..."
   ]
  },
  {
   "cell_type": "code",
   "execution_count": null,
   "metadata": {
    "ExecuteTime": {
     "end_time": "2018-03-20T17:23:07.614917Z",
     "start_time": "2018-03-20T17:23:03.277036Z"
    },
    "collapsed": true
   },
   "outputs": [],
   "source": [
    "DataFrameSummary(valid).summary()"
   ]
  },
  {
   "cell_type": "code",
   "execution_count": null,
   "metadata": {
    "ExecuteTime": {
     "end_time": "2018-03-20T17:23:22.647880Z",
     "start_time": "2018-03-20T17:23:17.804322Z"
    },
    "collapsed": true
   },
   "outputs": [],
   "source": [
    "DataFrameSummary(test).summary()"
   ]
  },
  {
   "cell_type": "markdown",
   "metadata": {},
   "source": [
    "### Submit test on kaggle"
   ]
  },
  {
   "cell_type": "code",
   "execution_count": 67,
   "metadata": {
    "ExecuteTime": {
     "end_time": "2018-03-21T00:07:19.147707Z",
     "start_time": "2018-03-21T00:07:18.938370Z"
    },
    "collapsed": true
   },
   "outputs": [],
   "source": [
    "# set unit_sales\n",
    "test['unit_sales'] = test[['avg_dom','avg_dow']].mean(axis=1)\n",
    "# test.loc[test['onpromotion'] == True, 'unit_sales'] *= 1.25\n",
    "\n",
    "# need to convert unit_sales back from log1p\n",
    "test['unit_sales'] = test['unit_sales'].apply(pd.np.expm1) # restoring unit values"
   ]
  },
  {
   "cell_type": "code",
   "execution_count": 68,
   "metadata": {
    "ExecuteTime": {
     "end_time": "2018-03-21T00:07:43.914833Z",
     "start_time": "2018-03-21T00:07:20.177647Z"
    },
    "collapsed": true
   },
   "outputs": [],
   "source": [
    "SUBM = f'{PATH}rf_rnn/subm/'\n",
    "os.makedirs(SUBM, exist_ok=True)\n",
    "\n",
    "test.to_csv(f'{SUBM}avg_dow_dom_v2.csv.gz', columns=['id','unit_sales'], index=False, compression='gzip')"
   ]
  },
  {
   "cell_type": "code",
   "execution_count": 71,
   "metadata": {
    "ExecuteTime": {
     "end_time": "2018-03-21T00:11:58.268044Z",
     "start_time": "2018-03-21T00:10:05.977140Z"
    }
   },
   "outputs": [
    {
     "name": "stdout",
     "output_type": "stream",
     "text": [
      "Successfully submitted to Corporación Favorita Grocery Sales Forecasting"
     ]
    }
   ],
   "source": [
    "!kaggle competitions submit -c favorita-grocery-sales-forecasting -f {SUBM}avg_dow_dom_v2.csv.gz -m \"dow and dom averages v2\"\n",
    "#=> 0.537  avg_dow w/ promo multiplier\n",
    "#=> 0.718  dow/dom averages -- why you so bad!?\n",
    "#=> 0.718  dow/dom_v2 averages"
   ]
  },
  {
   "cell_type": "markdown",
   "metadata": {
    "heading_collapsed": true
   },
   "source": [
    "## Feature Engineering"
   ]
  },
  {
   "cell_type": "code",
   "execution_count": null,
   "metadata": {
    "ExecuteTime": {
     "end_time": "2018-03-16T15:31:39.486587Z",
     "start_time": "2018-03-16T15:31:27.539785Z"
    },
    "collapsed": true,
    "hidden": true
   },
   "outputs": [],
   "source": [
    "train = pd.read_feather(f'{PATH}rf_rnn/train_w_averages')\n",
    "test = pd.read_feather(f'{PATH}rf_rnn/test_w_averages')"
   ]
  },
  {
   "cell_type": "code",
   "execution_count": null,
   "metadata": {
    "collapsed": true,
    "hidden": true
   },
   "outputs": [],
   "source": [
    "# NOTE: need to convert dates back to datetime?!\n",
    "train['date'] = train['date'].astype('datetime64[ns]')\n",
    "test['date'] = test['date'].astype('datetime64[ns]')"
   ]
  },
  {
   "cell_type": "code",
   "execution_count": null,
   "metadata": {
    "ExecuteTime": {
     "end_time": "2018-03-16T15:20:17.831134Z",
     "start_time": "2018-03-16T15:20:17.782466Z"
    },
    "collapsed": true,
    "hidden": true
   },
   "outputs": [],
   "source": [
    "items = pd.read_csv(f'{PATH}items.csv', low_memory=False)\n",
    "stores = pd.read_csv(f'{PATH}stores.csv', low_memory=False)\n",
    "holidays = pd.read_csv(f'{PATH}holidays_events.csv', parse_dates=['date'], low_memory=False)"
   ]
  },
  {
   "cell_type": "markdown",
   "metadata": {
    "heading_collapsed": true,
    "hidden": true
   },
   "source": [
    "### Stores"
   ]
  },
  {
   "cell_type": "code",
   "execution_count": null,
   "metadata": {
    "ExecuteTime": {
     "end_time": "2018-03-15T23:30:45.292185Z",
     "start_time": "2018-03-15T23:30:45.248319Z"
    },
    "collapsed": true,
    "hidden": true
   },
   "outputs": [],
   "source": [
    "stores.head()"
   ]
  },
  {
   "cell_type": "code",
   "execution_count": null,
   "metadata": {
    "ExecuteTime": {
     "end_time": "2018-03-16T15:32:24.147022Z",
     "start_time": "2018-03-16T15:32:04.730679Z"
    },
    "collapsed": true,
    "hidden": true
   },
   "outputs": [],
   "source": [
    "train = pd.merge(train, stores, how='left', on=['store_nbr'])\n",
    "test = pd.merge(test, stores, how='left', on=['store_nbr'])"
   ]
  },
  {
   "cell_type": "code",
   "execution_count": null,
   "metadata": {
    "ExecuteTime": {
     "end_time": "2018-03-16T15:32:27.276427Z",
     "start_time": "2018-03-16T15:32:27.238177Z"
    },
    "collapsed": true,
    "hidden": true
   },
   "outputs": [],
   "source": [
    "del stores"
   ]
  },
  {
   "cell_type": "markdown",
   "metadata": {
    "heading_collapsed": true,
    "hidden": true
   },
   "source": [
    "### Holidays"
   ]
  },
  {
   "cell_type": "code",
   "execution_count": null,
   "metadata": {
    "ExecuteTime": {
     "end_time": "2018-03-16T00:00:03.202112Z",
     "start_time": "2018-03-16T00:00:03.153921Z"
    },
    "collapsed": true,
    "hidden": true
   },
   "outputs": [],
   "source": [
    "# looks like we only need to worry about local holidays...\n",
    "holidays[(holidays['date'] >= '2017-08-16') & (holidays['date'] <= '2017-08-31')]"
   ]
  },
  {
   "cell_type": "code",
   "execution_count": null,
   "metadata": {
    "ExecuteTime": {
     "end_time": "2018-03-16T15:23:10.465069Z",
     "start_time": "2018-03-16T15:23:10.416063Z"
    },
    "collapsed": true,
    "hidden": true
   },
   "outputs": [],
   "source": [
    "local_holidays = holidays.loc[(holidays['locale'] == 'Local') & (holidays['transferred'] == False)].copy()\n",
    "local_holidays['holiday'] = True\n",
    "local_holidays = local_holidays.rename(index=str, columns={\"locale_name\": \"city\"}).drop(\n",
    "    ['type','locale','description','transferred'], axis=1)\n",
    "local_holidays.head()"
   ]
  },
  {
   "cell_type": "code",
   "execution_count": null,
   "metadata": {
    "ExecuteTime": {
     "end_time": "2018-03-16T15:33:13.417042Z",
     "start_time": "2018-03-16T15:32:41.734527Z"
    },
    "collapsed": true,
    "hidden": true
   },
   "outputs": [],
   "source": [
    "train = pd.merge(train, local_holidays, how='left', on=['date','city'])\n",
    "test = pd.merge(test, local_holidays, how='left', on=['date','city'])"
   ]
  },
  {
   "cell_type": "code",
   "execution_count": null,
   "metadata": {
    "ExecuteTime": {
     "end_time": "2018-03-16T15:33:25.357000Z",
     "start_time": "2018-03-16T15:33:20.615639Z"
    },
    "collapsed": true,
    "hidden": true
   },
   "outputs": [],
   "source": [
    "train.loc[:, 'holiday'].fillna(False, inplace=True) # fill NaNs\n",
    "test.loc[:, 'holiday'].fillna(False, inplace=True)"
   ]
  },
  {
   "cell_type": "code",
   "execution_count": null,
   "metadata": {
    "ExecuteTime": {
     "end_time": "2018-03-16T15:33:34.702882Z",
     "start_time": "2018-03-16T15:33:34.666488Z"
    },
    "collapsed": true,
    "hidden": true
   },
   "outputs": [],
   "source": [
    "del holidays, local_holidays"
   ]
  },
  {
   "cell_type": "markdown",
   "metadata": {
    "heading_collapsed": true,
    "hidden": true
   },
   "source": [
    "### Items"
   ]
  },
  {
   "cell_type": "code",
   "execution_count": null,
   "metadata": {
    "ExecuteTime": {
     "end_time": "2018-03-16T15:24:52.815285Z",
     "start_time": "2018-03-16T15:24:52.773214Z"
    },
    "collapsed": true,
    "hidden": true
   },
   "outputs": [],
   "source": [
    "items.head()"
   ]
  },
  {
   "cell_type": "code",
   "execution_count": null,
   "metadata": {
    "ExecuteTime": {
     "end_time": "2018-03-16T15:34:40.012861Z",
     "start_time": "2018-03-16T15:33:56.231660Z"
    },
    "collapsed": true,
    "hidden": true
   },
   "outputs": [],
   "source": [
    "train = pd.merge(train, items, how='left', on=['item_nbr'])\n",
    "# test = pd.merge(test, items, how='left', on=['item_nbr'])"
   ]
  },
  {
   "cell_type": "code",
   "execution_count": null,
   "metadata": {
    "ExecuteTime": {
     "end_time": "2018-03-16T15:35:46.962931Z",
     "start_time": "2018-03-16T15:34:43.825992Z"
    },
    "collapsed": true,
    "hidden": true
   },
   "outputs": [],
   "source": [
    "pd.isnull(train).any()"
   ]
  },
  {
   "cell_type": "code",
   "execution_count": null,
   "metadata": {
    "ExecuteTime": {
     "end_time": "2018-03-16T15:35:51.960765Z",
     "start_time": "2018-03-16T15:35:51.924250Z"
    },
    "collapsed": true,
    "hidden": true
   },
   "outputs": [],
   "source": [
    "del items"
   ]
  },
  {
   "cell_type": "code",
   "execution_count": null,
   "metadata": {
    "ExecuteTime": {
     "end_time": "2018-03-16T15:36:41.339771Z",
     "start_time": "2018-03-16T15:35:55.824508Z"
    },
    "collapsed": true,
    "hidden": true
   },
   "outputs": [],
   "source": [
    "train.to_feather(f'{PATH}rf_rnn/train_w_features')\n",
    "test.to_feather(f'{PATH}rf_rnn/test_w_features')"
   ]
  },
  {
   "cell_type": "markdown",
   "metadata": {
    "heading_collapsed": true
   },
   "source": [
    "## Data prep - handle categorical variables"
   ]
  },
  {
   "cell_type": "code",
   "execution_count": null,
   "metadata": {
    "ExecuteTime": {
     "end_time": "2018-03-16T15:46:02.924283Z",
     "start_time": "2018-03-16T15:45:59.522093Z"
    },
    "collapsed": true,
    "hidden": true
   },
   "outputs": [],
   "source": [
    "# train = pd.read_feather(f'{PATH}rf_rnn/train_w_features')\n",
    "test = pd.read_feather(f'{PATH}rf_rnn/test_w_features')"
   ]
  },
  {
   "cell_type": "code",
   "execution_count": null,
   "metadata": {
    "ExecuteTime": {
     "end_time": "2018-03-16T15:48:01.215580Z",
     "start_time": "2018-03-16T15:47:15.258927Z"
    },
    "collapsed": true,
    "hidden": true
   },
   "outputs": [],
   "source": [
    "# add date info\n",
    "add_datepart(train, 'date')\n",
    "add_datepart(test, 'date')"
   ]
  },
  {
   "cell_type": "code",
   "execution_count": null,
   "metadata": {
    "ExecuteTime": {
     "end_time": "2018-03-16T15:51:30.719718Z",
     "start_time": "2018-03-16T15:51:30.681540Z"
    },
    "collapsed": true,
    "hidden": true
   },
   "outputs": [],
   "source": [
    "test.columns.values"
   ]
  },
  {
   "cell_type": "code",
   "execution_count": null,
   "metadata": {
    "ExecuteTime": {
     "end_time": "2018-03-16T15:51:18.645975Z",
     "start_time": "2018-03-16T15:51:13.614348Z"
    },
    "collapsed": true,
    "hidden": true
   },
   "outputs": [],
   "source": [
    "test.drop(['Elapsed', 'Year'], axis=1, inplace=True)\n",
    "train.drop(['Elapsed', 'Year'], axis=1, inplace=True)"
   ]
  },
  {
   "cell_type": "code",
   "execution_count": null,
   "metadata": {
    "ExecuteTime": {
     "end_time": "2018-03-16T15:52:49.166191Z",
     "start_time": "2018-03-16T15:52:49.120592Z"
    },
    "collapsed": true,
    "hidden": true
   },
   "outputs": [],
   "source": [
    "cat_vars = ['store_nbr', 'item_nbr', 'onpromotion', 'city', 'state', 'type', 'cluster',\n",
    "            'holiday', 'family', 'class', 'perishable']"
   ]
  },
  {
   "cell_type": "code",
   "execution_count": null,
   "metadata": {
    "ExecuteTime": {
     "end_time": "2018-03-16T15:53:14.801682Z",
     "start_time": "2018-03-16T15:53:00.648050Z"
    },
    "collapsed": true,
    "hidden": true
   },
   "outputs": [],
   "source": [
    "for v in cat_vars:\n",
    "    train[v] = train[v].astype('category').cat.as_ordered()"
   ]
  },
  {
   "cell_type": "code",
   "execution_count": null,
   "metadata": {
    "ExecuteTime": {
     "end_time": "2018-03-16T15:53:25.303396Z",
     "start_time": "2018-03-16T15:53:22.560842Z"
    },
    "collapsed": true,
    "hidden": true
   },
   "outputs": [],
   "source": [
    "apply_cats(test, train)"
   ]
  },
  {
   "cell_type": "code",
   "execution_count": null,
   "metadata": {
    "ExecuteTime": {
     "end_time": "2018-03-16T15:58:02.105458Z",
     "start_time": "2018-03-16T15:57:59.349971Z"
    },
    "collapsed": true,
    "hidden": true
   },
   "outputs": [],
   "source": [
    "# train has been reduced to last 3.5 months -> 2017-05-01\n",
    "train.to_feather(f'{PATH}rf_rnn/train_w_categories')\n",
    "test.to_feather(f'{PATH}rf_rnn/test_w_categories')"
   ]
  },
  {
   "cell_type": "markdown",
   "metadata": {
    "heading_collapsed": true
   },
   "source": [
    "## Separate target from df"
   ]
  },
  {
   "cell_type": "code",
   "execution_count": null,
   "metadata": {
    "ExecuteTime": {
     "end_time": "2018-03-19T15:17:46.467361Z",
     "start_time": "2018-03-19T15:17:38.996745Z"
    },
    "collapsed": true,
    "hidden": true
   },
   "outputs": [],
   "source": [
    "# last 3.5 months\n",
    "train = pd.read_feather(f'{PATH}rf_rnn/train_w_categories')\n",
    "# test = pd.read_feather(f'{PATH}rf_rnn/test_w_categories')"
   ]
  },
  {
   "cell_type": "code",
   "execution_count": null,
   "metadata": {
    "ExecuteTime": {
     "end_time": "2018-03-19T15:19:30.778665Z",
     "start_time": "2018-03-19T15:17:49.001575Z"
    },
    "collapsed": true,
    "hidden": true
   },
   "outputs": [],
   "source": [
    "df, y, nas, mapper = proc_df(train, 'unit_sales', do_scale=True)"
   ]
  },
  {
   "cell_type": "markdown",
   "metadata": {
    "heading_collapsed": true
   },
   "source": [
    "## Split training/validation"
   ]
  },
  {
   "cell_type": "code",
   "execution_count": null,
   "metadata": {
    "ExecuteTime": {
     "end_time": "2018-03-19T15:19:54.080989Z",
     "start_time": "2018-03-19T15:19:40.903753Z"
    },
    "collapsed": true,
    "hidden": true
   },
   "outputs": [],
   "source": [
    "# Using Skicit-learn to split data into training and testing sets\n",
    "# from sklearn.model_selection import train_test_split\n",
    "\n",
    "# Split the data into training and testing sets\n",
    "# x_trn, x_val, y_trn, y_val = train_test_split(df, y, test_size = 0.20, random_state = 42)\n",
    "\n",
    "# good validation set => 2017-7-26 -> 2017-8-9\n",
    "# IDs => [18743184:22012344] (18743184 - 22012343)\n",
    "# len(test) => 3370464\n",
    "\n",
    "def split_val(df,a,b):\n",
    "    val = df[a:b].copy()\n",
    "    trn = df.drop(df.index[a:b]).copy()\n",
    "    return trn, val\n",
    "\n",
    "x_trn,x_val = split_val(df,18743184,22012344)\n",
    "\n",
    "def split_val_arr(arr,a,b):\n",
    "    val = arr[a:b].copy()\n",
    "    trn = np.delete(arr, slice(a,b))\n",
    "    return trn, val\n",
    "\n",
    "y_trn,y_val = split_val_arr(y,18743184,22012344)"
   ]
  },
  {
   "cell_type": "code",
   "execution_count": null,
   "metadata": {
    "ExecuteTime": {
     "end_time": "2018-03-19T15:20:05.102482Z",
     "start_time": "2018-03-19T15:20:05.078729Z"
    },
    "collapsed": true,
    "hidden": true
   },
   "outputs": [],
   "source": [
    "x_trn.shape, x_val.shape, y_trn.shape, y_val.shape"
   ]
  },
  {
   "cell_type": "code",
   "execution_count": null,
   "metadata": {
    "ExecuteTime": {
     "end_time": "2018-03-19T15:20:26.272078Z",
     "start_time": "2018-03-19T15:20:26.254117Z"
    },
    "collapsed": true,
    "hidden": true
   },
   "outputs": [],
   "source": [
    "del train, df, y"
   ]
  },
  {
   "cell_type": "markdown",
   "metadata": {
    "heading_collapsed": true
   },
   "source": [
    "## Train model"
   ]
  },
  {
   "cell_type": "code",
   "execution_count": null,
   "metadata": {
    "ExecuteTime": {
     "end_time": "2018-03-19T15:21:46.617179Z",
     "start_time": "2018-03-19T15:21:46.592579Z"
    },
    "collapsed": true,
    "hidden": true
   },
   "outputs": [],
   "source": [
    "def rmsle(pred, targ):\n",
    "    # pred and targs are both log1p values already\n",
    "    mean_diff = np.square(pred - targ).mean()\n",
    "    return round(math.sqrt(mean_diff), 4)\n",
    "\n",
    "def print_score(m):\n",
    "    res = [rmsle(m.predict(x_trn), y_trn), rmsle(m.predict(x_val), y_val),\n",
    "                round(m.score(x_trn, y_trn),4), round(m.score(x_val, y_val),4)]\n",
    "    if hasattr(m, 'oob_score_'): res.append(m.oob_score_)\n",
    "    print(res)\n",
    "    \n",
    "# m.score => coefficient of determination (R^2)\n",
    "#   proportion of the variance in the dependent variable that is predictable from the independent variable(s)\n",
    "#   ratio of how much better the model is than the mean prediction (0);  1: perfect;  -*: worse than the mean"
   ]
  },
  {
   "cell_type": "code",
   "execution_count": null,
   "metadata": {
    "ExecuteTime": {
     "end_time": "2018-03-19T15:21:54.053597Z",
     "start_time": "2018-03-19T15:21:54.033297Z"
    },
    "collapsed": true,
    "hidden": true
   },
   "outputs": [],
   "source": [
    "from sklearn.ensemble import RandomForestRegressor"
   ]
  },
  {
   "cell_type": "code",
   "execution_count": null,
   "metadata": {
    "ExecuteTime": {
     "end_time": "2018-03-19T15:21:58.545837Z",
     "start_time": "2018-03-19T15:21:58.528376Z"
    },
    "collapsed": true,
    "hidden": true
   },
   "outputs": [],
   "source": [
    "set_rf_samples(50000)"
   ]
  },
  {
   "cell_type": "code",
   "execution_count": null,
   "metadata": {
    "ExecuteTime": {
     "end_time": "2018-03-19T15:24:33.305361Z",
     "start_time": "2018-03-19T15:22:47.065164Z"
    },
    "collapsed": true,
    "hidden": true
   },
   "outputs": [],
   "source": [
    "m = RandomForestRegressor()\n",
    "%time m.fit(x_trn, y_trn)\n",
    "print_score(m)    #=> [0.2952, 0.2656, 0.67486495050828088, 0.73733977357618774]"
   ]
  },
  {
   "cell_type": "code",
   "execution_count": null,
   "metadata": {
    "ExecuteTime": {
     "end_time": "2018-03-16T17:21:46.729955Z",
     "start_time": "2018-03-16T17:20:57.065368Z"
    },
    "collapsed": true,
    "hidden": true
   },
   "outputs": [],
   "source": [
    "m = RandomForestRegressor(n_estimators=20, min_samples_leaf=3, n_jobs=-1)\n",
    "%time m.fit(x_trn, y_trn)\n",
    "print_score(m)    #=> [0.2857, 0.2547, 0.6956, 0.75860000000000005]"
   ]
  },
  {
   "cell_type": "code",
   "execution_count": null,
   "metadata": {
    "ExecuteTime": {
     "end_time": "2018-03-16T17:27:16.218361Z",
     "start_time": "2018-03-16T17:25:44.097129Z"
    },
    "collapsed": true,
    "hidden": true
   },
   "outputs": [],
   "source": [
    "m = RandomForestRegressor(n_estimators=20, min_samples_leaf=3, max_features=0.5, n_jobs=-1)\n",
    "%time m.fit(x_trn, y_trn)\n",
    "print_score(m)    #=> [0.2856, 0.2536, 0.69569999999999999, 0.76060000000000005]"
   ]
  },
  {
   "cell_type": "code",
   "execution_count": null,
   "metadata": {
    "ExecuteTime": {
     "end_time": "2018-03-19T15:27:35.794690Z",
     "start_time": "2018-03-19T15:26:24.186124Z"
    },
    "collapsed": true,
    "hidden": true
   },
   "outputs": [],
   "source": [
    "m = RandomForestRegressor(n_estimators=50, min_samples_leaf=5, max_features=0.5, n_jobs=-1)\n",
    "%time m.fit(x_trn, y_trn)\n",
    "print_score(m)    #=> [0.2825, 0.2498, 0.70220000000000005, 0.76770000000000005]"
   ]
  },
  {
   "cell_type": "code",
   "execution_count": null,
   "metadata": {
    "ExecuteTime": {
     "end_time": "2018-03-16T17:33:18.215558Z",
     "start_time": "2018-03-16T17:31:06.759754Z"
    },
    "collapsed": true,
    "hidden": true
   },
   "outputs": [],
   "source": [
    "reset_rf_samples()\n",
    "set_rf_samples(250000)\n",
    "\n",
    "m = RandomForestRegressor(n_estimators=50, min_samples_leaf=5, max_features=0.5, n_jobs=-1)\n",
    "%time m.fit(x_trn, y_trn)\n",
    "print_score(m)    #=> [0.2769, 0.2488, 0.71409999999999996, 0.76949999999999996]"
   ]
  },
  {
   "cell_type": "markdown",
   "metadata": {
    "heading_collapsed": true
   },
   "source": [
    "## Variable importances"
   ]
  },
  {
   "cell_type": "code",
   "execution_count": null,
   "metadata": {
    "ExecuteTime": {
     "end_time": "2018-03-19T15:28:07.841480Z",
     "start_time": "2018-03-19T15:28:07.713073Z"
    },
    "collapsed": true,
    "hidden": true
   },
   "outputs": [],
   "source": [
    "features = list(x_trn.columns)\n",
    "\n",
    "# Get numerical feature importances\n",
    "importances = list(m.feature_importances_)\n",
    "\n",
    "# List of tuples with variable and importance\n",
    "feature_importances = [(feature, round(importance, 2)) for feature, importance in zip(features, importances)]\n",
    "\n",
    "# Sort the feature importances by most important first\n",
    "feature_importances = sorted(feature_importances, key = lambda x: x[1], reverse = True)\n",
    "\n",
    "# Print out the feature and importances \n",
    "[print('Variable: {:20} Importance: {}'.format(*pair)) for pair in feature_importances];"
   ]
  },
  {
   "cell_type": "markdown",
   "metadata": {
    "heading_collapsed": true
   },
   "source": [
    "## Feature Reduction"
   ]
  },
  {
   "cell_type": "code",
   "execution_count": null,
   "metadata": {
    "ExecuteTime": {
     "end_time": "2018-03-19T15:28:15.796600Z",
     "start_time": "2018-03-19T15:28:15.147424Z"
    },
    "collapsed": true,
    "hidden": true
   },
   "outputs": [],
   "source": [
    "least_important_features = [feature[0] for feature in feature_importances[15:]]\n",
    "\n",
    "x_trn.drop(least_important_features, axis=1, inplace=True)\n",
    "x_val.drop(least_important_features, axis=1, inplace=True)"
   ]
  },
  {
   "cell_type": "code",
   "execution_count": null,
   "metadata": {
    "ExecuteTime": {
     "end_time": "2018-03-19T15:30:32.377574Z",
     "start_time": "2018-03-19T15:28:27.099259Z"
    },
    "collapsed": true,
    "hidden": true
   },
   "outputs": [],
   "source": [
    "reset_rf_samples()\n",
    "set_rf_samples(500000)\n",
    "\n",
    "m = RandomForestRegressor(n_estimators=50, min_samples_leaf=5, max_features=0.5, n_jobs=-1)\n",
    "%time m.fit(x_trn, y_trn)\n",
    "print_score(m)\n",
    "#=> [0.2769, 0.2488, 0.71409999999999996, 0.76949999999999996]\n",
    "#=> [0.2732, 0.2487, 0.72150000000000003, 0.76970000000000005]"
   ]
  },
  {
   "cell_type": "code",
   "execution_count": null,
   "metadata": {
    "ExecuteTime": {
     "end_time": "2018-03-19T15:31:21.305008Z",
     "start_time": "2018-03-19T15:31:21.178183Z"
    },
    "collapsed": true,
    "hidden": true
   },
   "outputs": [],
   "source": [
    "features = list(x_trn.columns)\n",
    "\n",
    "# Get numerical feature importances\n",
    "importances = list(m.feature_importances_)\n",
    "\n",
    "# List of tuples with variable and importance\n",
    "feature_importances = [(feature, round(importance, 2)) for feature, importance in zip(features, importances)]\n",
    "\n",
    "# Sort the feature importances by most important first\n",
    "feature_importances = sorted(feature_importances, key = lambda x: x[1], reverse = True)\n",
    "\n",
    "# Print out the feature and importances \n",
    "[print('Variable: {:20} Importance: {}'.format(*pair)) for pair in feature_importances];"
   ]
  },
  {
   "cell_type": "code",
   "execution_count": null,
   "metadata": {
    "ExecuteTime": {
     "end_time": "2018-03-19T16:22:12.736395Z",
     "start_time": "2018-03-19T15:44:20.684305Z"
    },
    "collapsed": true,
    "hidden": true
   },
   "outputs": [],
   "source": [
    "reset_rf_samples()\n",
    "# full dataset - need to run on GPU\n",
    "\n",
    "m = RandomForestRegressor(n_estimators=100, min_samples_leaf=25, max_features=0.5, n_jobs=8)\n",
    "%time m.fit(x_trn, y_trn)\n",
    "print_score(m)\n",
    "#=> [0.2769, 0.2488, 0.71409999999999996, 0.76949999999999996]\n",
    "#=> [0.1931, 0.248, 0.8609, 0.7711]  -- overfit?!   (n_est=50, min_leaf=5, 23min)\n",
    "#=> [0.2484, 0.2466, 0.7699, 0.7737]  (37min)"
   ]
  },
  {
   "cell_type": "markdown",
   "metadata": {
    "heading_collapsed": true
   },
   "source": [
    "## Feature Reduction / Data Expansion"
   ]
  },
  {
   "cell_type": "code",
   "execution_count": null,
   "metadata": {
    "ExecuteTime": {
     "end_time": "2018-03-13T22:05:17.601565Z",
     "start_time": "2018-03-13T22:04:57.387733Z"
    },
    "collapsed": true,
    "hidden": true
   },
   "outputs": [],
   "source": [
    "train = pd.read_feather(f'{PATH}rf_rnn/train_w_categories')"
   ]
  },
  {
   "cell_type": "code",
   "execution_count": null,
   "metadata": {
    "ExecuteTime": {
     "end_time": "2018-03-16T17:41:40.681046Z",
     "start_time": "2018-03-16T17:41:40.642796Z"
    },
    "collapsed": true,
    "hidden": true
   },
   "outputs": [],
   "source": [
    "# Extract the names of the least important features\n",
    "# least_important_features = [feature[0] for feature in feature_importances[15:]]\n",
    "\n",
    "least_important_features = list(train.columns)[11:-1]\n",
    "least_important_features.extend(list(['Year', 'Month']))"
   ]
  },
  {
   "cell_type": "code",
   "execution_count": null,
   "metadata": {
    "ExecuteTime": {
     "end_time": "2018-03-16T17:45:29.166454Z",
     "start_time": "2018-03-16T17:45:28.245913Z"
    },
    "collapsed": true,
    "hidden": true
   },
   "outputs": [],
   "source": [
    "train.drop(columns=least_important_features, inplace=True)"
   ]
  },
  {
   "cell_type": "code",
   "execution_count": null,
   "metadata": {
    "ExecuteTime": {
     "end_time": "2018-03-13T22:12:35.814558Z",
     "start_time": "2018-03-13T22:11:27.126762Z"
    },
    "collapsed": true,
    "hidden": true
   },
   "outputs": [],
   "source": [
    "df, y, nas = proc_df(train, 'unit_sales', subset=30000000)"
   ]
  },
  {
   "cell_type": "code",
   "execution_count": null,
   "metadata": {
    "ExecuteTime": {
     "end_time": "2018-03-13T22:13:32.161589Z",
     "start_time": "2018-03-13T22:13:32.145956Z"
    },
    "collapsed": true,
    "hidden": true
   },
   "outputs": [],
   "source": [
    "del train  # need to save memory"
   ]
  },
  {
   "cell_type": "code",
   "execution_count": null,
   "metadata": {
    "ExecuteTime": {
     "end_time": "2018-03-13T22:14:54.740518Z",
     "start_time": "2018-03-13T22:14:47.297747Z"
    },
    "collapsed": true,
    "hidden": true
   },
   "outputs": [],
   "source": [
    "# Using Scikit-learn to split data into training and testing sets\n",
    "from sklearn.model_selection import train_test_split\n",
    "\n",
    "# Split the data into training and testing sets\n",
    "x_trn, x_val, y_trn, y_val = train_test_split(df, y, test_size = 0.20, random_state = 42)"
   ]
  },
  {
   "cell_type": "code",
   "execution_count": null,
   "metadata": {
    "ExecuteTime": {
     "end_time": "2018-03-13T22:15:55.911754Z",
     "start_time": "2018-03-13T22:15:55.897022Z"
    },
    "collapsed": true,
    "hidden": true
   },
   "outputs": [],
   "source": [
    "del df,y"
   ]
  },
  {
   "cell_type": "code",
   "execution_count": null,
   "metadata": {
    "ExecuteTime": {
     "end_time": "2018-03-13T22:24:45.132415Z",
     "start_time": "2018-03-13T22:16:24.506566Z"
    },
    "collapsed": true,
    "hidden": true
   },
   "outputs": [],
   "source": [
    "m = RandomForestRegressor(n_jobs=-1)\n",
    "%time m.fit(x_trn, y_trn)"
   ]
  },
  {
   "cell_type": "code",
   "execution_count": null,
   "metadata": {
    "ExecuteTime": {
     "end_time": "2018-03-13T22:27:59.356731Z",
     "start_time": "2018-03-13T22:24:45.228610Z"
    },
    "collapsed": true,
    "hidden": true
   },
   "outputs": [],
   "source": [
    "print_score(m)   #=> [0.24, 0.5684, 0.946675430780943, 0.7008898192311388]\n",
    "\n",
    "# slight increase in accuracy (increased data)\n",
    "# large increase in duration (feature reduction & split over multiple cores)"
   ]
  },
  {
   "cell_type": "markdown",
   "metadata": {
    "hidden": true
   },
   "source": [
    "### Apply to Test dataset"
   ]
  },
  {
   "cell_type": "code",
   "execution_count": null,
   "metadata": {
    "ExecuteTime": {
     "end_time": "2018-03-13T23:51:25.429449Z",
     "start_time": "2018-03-13T23:51:25.205074Z"
    },
    "collapsed": true,
    "hidden": true
   },
   "outputs": [],
   "source": [
    "test = pd.read_feather(f'{PATH}rf_rnn/test_w_categories')"
   ]
  },
  {
   "cell_type": "code",
   "execution_count": null,
   "metadata": {
    "ExecuteTime": {
     "end_time": "2018-03-13T23:51:26.291320Z",
     "start_time": "2018-03-13T23:51:26.182376Z"
    },
    "collapsed": true,
    "hidden": true
   },
   "outputs": [],
   "source": [
    "test.drop(columns=least_important_features, inplace=True)"
   ]
  },
  {
   "cell_type": "code",
   "execution_count": null,
   "metadata": {
    "ExecuteTime": {
     "end_time": "2018-03-13T23:51:27.736286Z",
     "start_time": "2018-03-13T23:51:27.026198Z"
    },
    "collapsed": true,
    "hidden": true
   },
   "outputs": [],
   "source": [
    "# add in y value to test: 'unit sales'\n",
    "test['unit_sales'] = 0.0\n",
    "\n",
    "df_test, _, nas = proc_df(test, 'unit_sales', skip_flds=['id'], na_dict=nas)"
   ]
  },
  {
   "cell_type": "code",
   "execution_count": null,
   "metadata": {
    "ExecuteTime": {
     "end_time": "2018-03-13T23:51:41.505547Z",
     "start_time": "2018-03-13T23:51:33.025144Z"
    },
    "collapsed": true,
    "hidden": true
   },
   "outputs": [],
   "source": [
    "# use rf to predict on test df\n",
    "log_preds = m.predict(df_test)"
   ]
  },
  {
   "cell_type": "code",
   "execution_count": null,
   "metadata": {
    "ExecuteTime": {
     "end_time": "2018-03-13T23:51:47.334450Z",
     "start_time": "2018-03-13T23:51:47.235520Z"
    },
    "collapsed": true,
    "hidden": true
   },
   "outputs": [],
   "source": [
    "test['unit_sales'] = np.expm1(log_preds) # re-scale predictions and add to df"
   ]
  },
  {
   "cell_type": "code",
   "execution_count": null,
   "metadata": {
    "ExecuteTime": {
     "end_time": "2018-03-13T23:52:30.951342Z",
     "start_time": "2018-03-13T23:52:04.656918Z"
    },
    "collapsed": true,
    "hidden": true
   },
   "outputs": [],
   "source": [
    "SUBM = f'{PATH}rf_rnn/subm/'\n",
    "os.makedirs(SUBM, exist_ok=True)\n",
    "\n",
    "test.to_csv(f'{SUBM}rf_v3.csv.gz', columns=['id','unit_sales'], index=False, compression='gzip')"
   ]
  },
  {
   "cell_type": "code",
   "execution_count": null,
   "metadata": {
    "ExecuteTime": {
     "end_time": "2018-03-13T23:52:55.942289Z",
     "start_time": "2018-03-13T23:52:40.785457Z"
    },
    "collapsed": true,
    "hidden": true
   },
   "outputs": [],
   "source": [
    "!kaggle competitions submit -c favorita-grocery-sales-forecasting -f {SUBM}rf_v3.csv.gz -m \"random forest version 3\"\n",
    "# v1 => 1.223 -- throwaway\n",
    "# v2 => 0.581\n",
    "# v3 => 0.865 (last 3 months) -- throwaway\n",
    "# v4 => 0.544 (last 3 months)"
   ]
  },
  {
   "cell_type": "markdown",
   "metadata": {
    "heading_collapsed": true
   },
   "source": [
    "## Train only on last ~3 months"
   ]
  },
  {
   "cell_type": "code",
   "execution_count": null,
   "metadata": {
    "ExecuteTime": {
     "end_time": "2018-03-19T17:40:06.327496Z",
     "start_time": "2018-03-19T17:40:03.967387Z"
    },
    "collapsed": true,
    "hidden": true
   },
   "outputs": [],
   "source": [
    "train = pd.read_feather(f'{PATH}rf_rnn/train_w_categories')"
   ]
  },
  {
   "cell_type": "code",
   "execution_count": null,
   "metadata": {
    "ExecuteTime": {
     "end_time": "2018-03-13T23:01:43.065562Z",
     "start_time": "2018-03-13T23:01:43.040053Z"
    },
    "collapsed": true,
    "hidden": true
   },
   "outputs": [],
   "source": [
    "# Extract the names of the least important features\n",
    "# least_important_features = [feature[0] for feature in feature_importances[9:]]\n",
    "\n",
    "least_important_features = list(train.columns)[11:-1]\n",
    "least_important_features.extend(list(['Year']))"
   ]
  },
  {
   "cell_type": "code",
   "execution_count": null,
   "metadata": {
    "ExecuteTime": {
     "end_time": "2018-03-19T17:40:09.266288Z",
     "start_time": "2018-03-19T17:40:08.780376Z"
    },
    "collapsed": true,
    "hidden": true
   },
   "outputs": [],
   "source": [
    "train.drop(columns=least_important_features, inplace=True)"
   ]
  },
  {
   "cell_type": "code",
   "execution_count": null,
   "metadata": {
    "ExecuteTime": {
     "end_time": "2018-03-19T17:40:31.339919Z",
     "start_time": "2018-03-19T17:40:27.511730Z"
    },
    "collapsed": true,
    "hidden": true
   },
   "outputs": [],
   "source": [
    "df, y, nas = proc_df(train, 'unit_sales')"
   ]
  },
  {
   "cell_type": "code",
   "execution_count": null,
   "metadata": {
    "ExecuteTime": {
     "end_time": "2018-03-19T17:40:32.696335Z",
     "start_time": "2018-03-19T17:40:32.680335Z"
    },
    "collapsed": true,
    "hidden": true
   },
   "outputs": [],
   "source": [
    "del train  # need to save memory"
   ]
  },
  {
   "cell_type": "code",
   "execution_count": null,
   "metadata": {
    "ExecuteTime": {
     "end_time": "2018-03-19T18:30:56.871321Z",
     "start_time": "2018-03-19T17:40:43.730797Z"
    },
    "collapsed": true,
    "hidden": true
   },
   "outputs": [],
   "source": [
    "m = RandomForestRegressor(n_estimators=100, min_samples_leaf=25, max_features=0.5, n_jobs=8, oob_score=True)\n",
    "%time m.fit(df, y);\n",
    "\n",
    "res = [rmsle(m.predict(df), y), round(m.score(df, y),4), m.oob_score_]\n",
    "print(res)\n",
    "#=> [0.2453, 0.7755]  do_scale=True\n",
    "#=> [0.2453, 0.7756, 0.7388747115547389] do_scale=False"
   ]
  },
  {
   "cell_type": "markdown",
   "metadata": {
    "heading_collapsed": true
   },
   "source": [
    "## Apply to Test Data"
   ]
  },
  {
   "cell_type": "code",
   "execution_count": null,
   "metadata": {
    "ExecuteTime": {
     "end_time": "2018-03-19T18:38:42.147978Z",
     "start_time": "2018-03-19T18:38:42.129060Z"
    },
    "collapsed": true,
    "hidden": true
   },
   "outputs": [],
   "source": [
    "#  del x_trn, x_val, y_trn, y_val\n",
    "del df, y"
   ]
  },
  {
   "cell_type": "code",
   "execution_count": null,
   "metadata": {
    "ExecuteTime": {
     "end_time": "2018-03-19T18:38:43.647335Z",
     "start_time": "2018-03-19T18:38:43.309109Z"
    },
    "collapsed": true,
    "hidden": true
   },
   "outputs": [],
   "source": [
    "test = pd.read_feather(f'{PATH}rf_rnn/test_w_categories')"
   ]
  },
  {
   "cell_type": "code",
   "execution_count": null,
   "metadata": {
    "ExecuteTime": {
     "end_time": "2018-03-19T18:38:44.591804Z",
     "start_time": "2018-03-19T18:38:44.502851Z"
    },
    "collapsed": true,
    "hidden": true
   },
   "outputs": [],
   "source": [
    "test.drop(columns=least_important_features, inplace=True)"
   ]
  },
  {
   "cell_type": "code",
   "execution_count": null,
   "metadata": {
    "ExecuteTime": {
     "end_time": "2018-03-19T18:38:46.018932Z",
     "start_time": "2018-03-19T18:38:45.998795Z"
    },
    "collapsed": true,
    "hidden": true
   },
   "outputs": [],
   "source": [
    "# add in y value to test: 'unit sales'\n",
    "test['unit_sales'] = 0.0"
   ]
  },
  {
   "cell_type": "code",
   "execution_count": null,
   "metadata": {
    "ExecuteTime": {
     "end_time": "2018-03-19T18:39:10.683823Z",
     "start_time": "2018-03-19T18:39:10.149522Z"
    },
    "collapsed": true,
    "hidden": true
   },
   "outputs": [],
   "source": [
    "df_test, _, nas = proc_df(test, 'unit_sales', skip_flds=['id'], na_dict=nas)"
   ]
  },
  {
   "cell_type": "code",
   "execution_count": null,
   "metadata": {
    "ExecuteTime": {
     "end_time": "2018-03-16T19:39:07.187540Z",
     "start_time": "2018-03-16T19:39:06.767619Z"
    },
    "collapsed": true,
    "hidden": true
   },
   "outputs": [],
   "source": [
    "# need to drop columns after scaling because mapper includes all columns\n",
    "# df_test.drop(columns=least_important_features, inplace=True)"
   ]
  },
  {
   "cell_type": "code",
   "execution_count": null,
   "metadata": {
    "ExecuteTime": {
     "end_time": "2018-03-19T18:39:26.919639Z",
     "start_time": "2018-03-19T18:39:14.208528Z"
    },
    "collapsed": true,
    "hidden": true
   },
   "outputs": [],
   "source": [
    "test['unit_sales'] = m.predict(df_test)  # log1p values\n",
    "test['unit_sales'] = test['unit_sales'].apply(pd.np.expm1) # restoring unit values"
   ]
  },
  {
   "cell_type": "code",
   "execution_count": null,
   "metadata": {
    "ExecuteTime": {
     "end_time": "2018-03-19T18:39:31.135899Z",
     "start_time": "2018-03-19T18:39:31.120145Z"
    },
    "collapsed": true,
    "hidden": true
   },
   "outputs": [],
   "source": [
    "SUBM = f'{PATH}rf_rnn/subm/'\n",
    "csv = f'{SUBM}rf_v7.csv.gz'\n",
    "os.makedirs(SUBM, exist_ok=True)"
   ]
  },
  {
   "cell_type": "code",
   "execution_count": null,
   "metadata": {
    "ExecuteTime": {
     "end_time": "2018-03-19T18:40:02.960547Z",
     "start_time": "2018-03-19T18:39:33.138955Z"
    },
    "collapsed": true,
    "hidden": true
   },
   "outputs": [],
   "source": [
    "test.to_csv(csv, columns=['id','unit_sales'], index=False, compression='gzip')"
   ]
  },
  {
   "cell_type": "code",
   "execution_count": null,
   "metadata": {
    "ExecuteTime": {
     "end_time": "2018-03-19T18:42:45.826891Z",
     "start_time": "2018-03-19T18:40:03.109263Z"
    },
    "collapsed": true,
    "hidden": true
   },
   "outputs": [],
   "source": [
    "!kaggle competitions submit -c favorita-grocery-sales-forecasting -f {csv} -m \"random forest version 7 - more features including dom average\"\n",
    "# v4 => 0.544 (last 3 months)\n",
    "# v5 => 0.803\n",
    "# v6 => 0.801"
   ]
  },
  {
   "cell_type": "code",
   "execution_count": null,
   "metadata": {
    "collapsed": true,
    "hidden": true
   },
   "outputs": [],
   "source": []
  }
 ],
 "metadata": {
  "kernelspec": {
   "display_name": "Python 3",
   "language": "python",
   "name": "python3"
  },
  "language_info": {
   "codemirror_mode": {
    "name": "ipython",
    "version": 3
   },
   "file_extension": ".py",
   "mimetype": "text/x-python",
   "name": "python",
   "nbconvert_exporter": "python",
   "pygments_lexer": "ipython3",
   "version": "3.6.3"
  },
  "toc": {
   "nav_menu": {},
   "number_sections": true,
   "sideBar": true,
   "skip_h1_title": false,
   "title_cell": "Table of Contents",
   "title_sidebar": "Contents",
   "toc_cell": false,
   "toc_position": {},
   "toc_section_display": true,
   "toc_window_display": false
  },
  "varInspector": {
   "cols": {
    "lenName": 16,
    "lenType": 16,
    "lenVar": 40
   },
   "kernels_config": {
    "python": {
     "delete_cmd_postfix": "",
     "delete_cmd_prefix": "del ",
     "library": "var_list.py",
     "varRefreshCmd": "print(var_dic_list())"
    },
    "r": {
     "delete_cmd_postfix": ") ",
     "delete_cmd_prefix": "rm(",
     "library": "var_list.r",
     "varRefreshCmd": "cat(var_dic_list()) "
    }
   },
   "position": {
    "height": "144px",
    "left": "1048px",
    "right": "20px",
    "top": "119px",
    "width": "350px"
   },
   "types_to_exclude": [
    "module",
    "function",
    "builtin_function_or_method",
    "instance",
    "_Feature"
   ],
   "window_display": false
  }
 },
 "nbformat": 4,
 "nbformat_minor": 2
}
