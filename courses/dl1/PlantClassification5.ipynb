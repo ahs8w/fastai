{
 "cells": [
  {
   "cell_type": "code",
   "execution_count": 1,
   "metadata": {
    "ExecuteTime": {
     "end_time": "2018-03-08T17:38:33.982639Z",
     "start_time": "2018-03-08T17:38:33.613578Z"
    }
   },
   "outputs": [],
   "source": [
    "%reload_ext autoreload\n",
    "%autoreload 2\n",
    "%matplotlib inline"
   ]
  },
  {
   "cell_type": "code",
   "execution_count": 2,
   "metadata": {
    "ExecuteTime": {
     "end_time": "2018-03-08T17:38:35.990064Z",
     "start_time": "2018-03-08T17:38:33.984113Z"
    }
   },
   "outputs": [],
   "source": [
    "from fastai.imports import *\n",
    "from fastai.transforms import *\n",
    "from fastai.conv_learner import *\n",
    "from fastai.model import *\n",
    "from fastai.dataset import *\n",
    "from fastai.sgdr import *\n",
    "from fastai.plots import *"
   ]
  },
  {
   "cell_type": "code",
   "execution_count": 3,
   "metadata": {
    "ExecuteTime": {
     "end_time": "2018-03-08T17:38:36.007920Z",
     "start_time": "2018-03-08T17:38:35.991738Z"
    }
   },
   "outputs": [],
   "source": [
    "from sklearn.metrics import f1_score\n",
    "\n",
    "# f1_score(y_true, y_pred, labels=None, pos_label=1, average=’binary’, sample_weight=None)\n",
    "def mod_acc_to_f1(preds, targs):\n",
    "    preds = torch.max(preds, dim=1)[1]\n",
    "    return f1_score(targs, preds, average='micro')\n",
    "#     return (preds==targs).float().mean()\n",
    "\n",
    "metrics=[mod_acc_to_f1]"
   ]
  },
  {
   "cell_type": "code",
   "execution_count": 4,
   "metadata": {
    "ExecuteTime": {
     "end_time": "2018-03-08T17:38:36.022241Z",
     "start_time": "2018-03-08T17:38:36.009159Z"
    }
   },
   "outputs": [],
   "source": [
    "PATH = 'data/plant_classification/'"
   ]
  },
  {
   "cell_type": "code",
   "execution_count": 5,
   "metadata": {
    "ExecuteTime": {
     "end_time": "2018-03-08T17:38:36.036094Z",
     "start_time": "2018-03-08T17:38:36.023521Z"
    }
   },
   "outputs": [],
   "source": [
    "arch = resnet50"
   ]
  },
  {
   "cell_type": "code",
   "execution_count": 6,
   "metadata": {
    "ExecuteTime": {
     "end_time": "2018-03-08T17:38:36.052650Z",
     "start_time": "2018-03-08T17:38:36.037368Z"
    }
   },
   "outputs": [],
   "source": [
    "def get_data(sz=150, bs=64):\n",
    "    tfms = tfms_from_model(arch, sz, aug_tfms=transforms_top_down, max_zoom=1.1)\n",
    "    data = ImageClassifierData.from_paths(PATH, bs=bs, tfms=tfms, test_name='test')\n",
    "    return data"
   ]
  },
  {
   "cell_type": "code",
   "execution_count": 7,
   "metadata": {
    "ExecuteTime": {
     "end_time": "2018-03-08T17:38:42.207010Z",
     "start_time": "2018-03-08T17:38:36.935454Z"
    }
   },
   "outputs": [],
   "source": [
    "learn = ConvLearner.pretrained(arch, get_data())"
   ]
  },
  {
   "cell_type": "code",
   "execution_count": 8,
   "metadata": {
    "ExecuteTime": {
     "end_time": "2018-03-08T17:38:42.230417Z",
     "start_time": "2018-03-08T17:38:42.208970Z"
    }
   },
   "outputs": [],
   "source": [
    "lr = 1e-2\n",
    "lrs = np.array([lr/9, lr/3, lr])"
   ]
  },
  {
   "cell_type": "code",
   "execution_count": 9,
   "metadata": {
    "ExecuteTime": {
     "end_time": "2018-03-07T22:21:34.406860Z",
     "start_time": "2018-03-07T22:20:24.683304Z"
    },
    "scrolled": true
   },
   "outputs": [
    {
     "data": {
      "application/vnd.jupyter.widget-view+json": {
       "model_id": "0cf6fdea0c9a486db71f2506c72873d2",
       "version_major": 2,
       "version_minor": 0
      },
      "text/html": [
       "<p>Failed to display Jupyter Widget of type <code>HBox</code>.</p>\n",
       "<p>\n",
       "  If you're reading this message in the Jupyter Notebook or JupyterLab Notebook, it may mean\n",
       "  that the widgets JavaScript is still loading. If this message persists, it\n",
       "  likely means that the widgets JavaScript library is either not installed or\n",
       "  not enabled. See the <a href=\"https://ipywidgets.readthedocs.io/en/stable/user_install.html\">Jupyter\n",
       "  Widgets Documentation</a> for setup instructions.\n",
       "</p>\n",
       "<p>\n",
       "  If you're reading this message in another frontend (for example, a static\n",
       "  rendering on GitHub or <a href=\"https://nbviewer.jupyter.org/\">NBViewer</a>),\n",
       "  it may mean that your frontend doesn't currently support widgets.\n",
       "</p>\n"
      ],
      "text/plain": [
       "HBox(children=(IntProgress(value=0, description='Epoch', max=3), HTML(value='')))"
      ]
     },
     "metadata": {},
     "output_type": "display_data"
    },
    {
     "name": "stdout",
     "output_type": "stream",
     "text": [
      "epoch      trn_loss   val_loss   mod_acc_to_f1            \n",
      "    0      1.417702   0.920433   0.705208  \n",
      "    1      1.077439   0.745122   0.739062                 \n",
      "    2      0.928245   0.688372   0.755729                  \n",
      "\n"
     ]
    },
    {
     "data": {
      "text/plain": [
       "[0.68837154, 0.7557291666666667]"
      ]
     },
     "execution_count": 9,
     "metadata": {},
     "output_type": "execute_result"
    }
   ],
   "source": [
    "learn.fit(lr, 3, cycle_len=1, metrics=metrics)"
   ]
  },
  {
   "cell_type": "code",
   "execution_count": 10,
   "metadata": {
    "ExecuteTime": {
     "end_time": "2018-03-07T22:24:20.113479Z",
     "start_time": "2018-03-07T22:22:24.112057Z"
    },
    "scrolled": true
   },
   "outputs": [
    {
     "data": {
      "application/vnd.jupyter.widget-view+json": {
       "model_id": "9d6f5a445cef4953b5ee975a07d0729e",
       "version_major": 2,
       "version_minor": 0
      },
      "text/html": [
       "<p>Failed to display Jupyter Widget of type <code>HBox</code>.</p>\n",
       "<p>\n",
       "  If you're reading this message in the Jupyter Notebook or JupyterLab Notebook, it may mean\n",
       "  that the widgets JavaScript is still loading. If this message persists, it\n",
       "  likely means that the widgets JavaScript library is either not installed or\n",
       "  not enabled. See the <a href=\"https://ipywidgets.readthedocs.io/en/stable/user_install.html\">Jupyter\n",
       "  Widgets Documentation</a> for setup instructions.\n",
       "</p>\n",
       "<p>\n",
       "  If you're reading this message in another frontend (for example, a static\n",
       "  rendering on GitHub or <a href=\"https://nbviewer.jupyter.org/\">NBViewer</a>),\n",
       "  it may mean that your frontend doesn't currently support widgets.\n",
       "</p>\n"
      ],
      "text/plain": [
       "HBox(children=(IntProgress(value=0, description='Epoch', max=5), HTML(value='')))"
      ]
     },
     "metadata": {},
     "output_type": "display_data"
    },
    {
     "name": "stdout",
     "output_type": "stream",
     "text": [
      "epoch      trn_loss   val_loss   mod_acc_to_f1             \n",
      "    0      0.79556    0.625774   0.791667  \n",
      "    1      0.771172   0.598684   0.795833                  \n",
      "    2      0.728975   0.536926   0.820833                  \n",
      "    3      0.717789   0.481029   0.855729                  \n",
      "    4      0.676266   0.477383   0.843229                  \n",
      "\n"
     ]
    },
    {
     "data": {
      "text/plain": [
       "[0.4773833, 0.8432291666666666]"
      ]
     },
     "execution_count": 10,
     "metadata": {},
     "output_type": "execute_result"
    }
   ],
   "source": [
    "learn.fit(lr, 5, cycle_len=1, metrics=metrics)"
   ]
  },
  {
   "cell_type": "code",
   "execution_count": 11,
   "metadata": {
    "ExecuteTime": {
     "end_time": "2018-03-07T22:26:37.798309Z",
     "start_time": "2018-03-07T22:24:41.012323Z"
    },
    "scrolled": true
   },
   "outputs": [
    {
     "data": {
      "application/vnd.jupyter.widget-view+json": {
       "model_id": "7b64376dcccf4dec8ce7e7059db96f8f",
       "version_major": 2,
       "version_minor": 0
      },
      "text/html": [
       "<p>Failed to display Jupyter Widget of type <code>HBox</code>.</p>\n",
       "<p>\n",
       "  If you're reading this message in the Jupyter Notebook or JupyterLab Notebook, it may mean\n",
       "  that the widgets JavaScript is still loading. If this message persists, it\n",
       "  likely means that the widgets JavaScript library is either not installed or\n",
       "  not enabled. See the <a href=\"https://ipywidgets.readthedocs.io/en/stable/user_install.html\">Jupyter\n",
       "  Widgets Documentation</a> for setup instructions.\n",
       "</p>\n",
       "<p>\n",
       "  If you're reading this message in another frontend (for example, a static\n",
       "  rendering on GitHub or <a href=\"https://nbviewer.jupyter.org/\">NBViewer</a>),\n",
       "  it may mean that your frontend doesn't currently support widgets.\n",
       "</p>\n"
      ],
      "text/plain": [
       "HBox(children=(IntProgress(value=0, description='Epoch', max=5), HTML(value='')))"
      ]
     },
     "metadata": {},
     "output_type": "display_data"
    },
    {
     "name": "stdout",
     "output_type": "stream",
     "text": [
      "epoch      trn_loss   val_loss   mod_acc_to_f1             \n",
      "    0      0.679756   0.463155   0.847917  \n",
      "    1      0.647352   0.452207   0.855729                  \n",
      "    2      0.60796    0.410614   0.863542                  \n",
      "    3      0.624067   0.419113   0.866667                  \n",
      "    4      0.595946   0.398256   0.877604                  \n",
      "\n"
     ]
    },
    {
     "data": {
      "text/plain": [
       "[0.39825588, 0.8776041666666666]"
      ]
     },
     "execution_count": 11,
     "metadata": {},
     "output_type": "execute_result"
    }
   ],
   "source": [
    "learn.fit(lr, 5, cycle_len=1, metrics=metrics)"
   ]
  },
  {
   "cell_type": "code",
   "execution_count": null,
   "metadata": {
    "ExecuteTime": {
     "start_time": "2018-03-07T22:27:06.344Z"
    }
   },
   "outputs": [
    {
     "data": {
      "application/vnd.jupyter.widget-view+json": {
       "model_id": "bc8a461ae96c42709e9aab7f32b2749d",
       "version_major": 2,
       "version_minor": 0
      },
      "text/html": [
       "<p>Failed to display Jupyter Widget of type <code>HBox</code>.</p>\n",
       "<p>\n",
       "  If you're reading this message in the Jupyter Notebook or JupyterLab Notebook, it may mean\n",
       "  that the widgets JavaScript is still loading. If this message persists, it\n",
       "  likely means that the widgets JavaScript library is either not installed or\n",
       "  not enabled. See the <a href=\"https://ipywidgets.readthedocs.io/en/stable/user_install.html\">Jupyter\n",
       "  Widgets Documentation</a> for setup instructions.\n",
       "</p>\n",
       "<p>\n",
       "  If you're reading this message in another frontend (for example, a static\n",
       "  rendering on GitHub or <a href=\"https://nbviewer.jupyter.org/\">NBViewer</a>),\n",
       "  it may mean that your frontend doesn't currently support widgets.\n",
       "</p>\n"
      ],
      "text/plain": [
       "HBox(children=(IntProgress(value=0, description='Epoch', max=7), HTML(value='')))"
      ]
     },
     "metadata": {},
     "output_type": "display_data"
    },
    {
     "name": "stdout",
     "output_type": "stream",
     "text": [
      "epoch      trn_loss   val_loss   accuracy                  \n",
      "    0      0.472633   0.273685   0.910417  \n",
      "    1      0.303626   0.162908   0.953125                  \n",
      "    2      0.200178   0.145555   0.935417                  \n",
      "    3      0.212108   0.111992   0.95625                   \n",
      "    4      0.179488   0.095017   0.96875                   \n",
      "                                                           \r"
     ]
    }
   ],
   "source": [
    "learn.unfreeze()\n",
    "learn.fit(lrs, 3, cycle_len=1, cycle_mult=2, metrics=metrics)\n",
    "learn.save('150_v4')"
   ]
  },
  {
   "cell_type": "code",
   "execution_count": 9,
   "metadata": {
    "ExecuteTime": {
     "end_time": "2018-03-08T16:05:57.618293Z",
     "start_time": "2018-03-08T16:03:16.054858Z"
    }
   },
   "outputs": [
    {
     "data": {
      "application/vnd.jupyter.widget-view+json": {
       "model_id": "28e03f1153fd4491a2878af4bfb86e07",
       "version_major": 2,
       "version_minor": 0
      },
      "text/html": [
       "<p>Failed to display Jupyter Widget of type <code>HBox</code>.</p>\n",
       "<p>\n",
       "  If you're reading this message in the Jupyter Notebook or JupyterLab Notebook, it may mean\n",
       "  that the widgets JavaScript is still loading. If this message persists, it\n",
       "  likely means that the widgets JavaScript library is either not installed or\n",
       "  not enabled. See the <a href=\"https://ipywidgets.readthedocs.io/en/stable/user_install.html\">Jupyter\n",
       "  Widgets Documentation</a> for setup instructions.\n",
       "</p>\n",
       "<p>\n",
       "  If you're reading this message in another frontend (for example, a static\n",
       "  rendering on GitHub or <a href=\"https://nbviewer.jupyter.org/\">NBViewer</a>),\n",
       "  it may mean that your frontend doesn't currently support widgets.\n",
       "</p>\n"
      ],
      "text/plain": [
       "HBox(children=(IntProgress(value=0, description='Epoch', max=3), HTML(value='')))"
      ]
     },
     "metadata": {},
     "output_type": "display_data"
    },
    {
     "name": "stdout",
     "output_type": "stream",
     "text": [
      "epoch      trn_loss   val_loss   mod_acc_to_f1             \n",
      "    0      0.139254   0.128817   0.951562  \n",
      "    1      0.133365   0.099093   0.967188                  \n",
      "    2      0.124198   0.102121   0.9625                    \n",
      "\n"
     ]
    },
    {
     "data": {
      "text/plain": [
       "[0.102121055, 0.9625]"
      ]
     },
     "execution_count": 9,
     "metadata": {},
     "output_type": "execute_result"
    }
   ],
   "source": [
    "learn.load('150_v4')\n",
    "learn.set_data(get_data(250))\n",
    "learn.freeze()\n",
    "learn.fit(lr, 3, cycle_len=1, metrics=metrics)"
   ]
  },
  {
   "cell_type": "code",
   "execution_count": 11,
   "metadata": {
    "ExecuteTime": {
     "end_time": "2018-03-08T16:21:38.380872Z",
     "start_time": "2018-03-08T16:06:15.259516Z"
    }
   },
   "outputs": [
    {
     "data": {
      "application/vnd.jupyter.widget-view+json": {
       "model_id": "b28f9d8e54ed40d38571f3eaf60a7953",
       "version_major": 2,
       "version_minor": 0
      },
      "text/html": [
       "<p>Failed to display Jupyter Widget of type <code>HBox</code>.</p>\n",
       "<p>\n",
       "  If you're reading this message in the Jupyter Notebook or JupyterLab Notebook, it may mean\n",
       "  that the widgets JavaScript is still loading. If this message persists, it\n",
       "  likely means that the widgets JavaScript library is either not installed or\n",
       "  not enabled. See the <a href=\"https://ipywidgets.readthedocs.io/en/stable/user_install.html\">Jupyter\n",
       "  Widgets Documentation</a> for setup instructions.\n",
       "</p>\n",
       "<p>\n",
       "  If you're reading this message in another frontend (for example, a static\n",
       "  rendering on GitHub or <a href=\"https://nbviewer.jupyter.org/\">NBViewer</a>),\n",
       "  it may mean that your frontend doesn't currently support widgets.\n",
       "</p>\n"
      ],
      "text/plain": [
       "HBox(children=(IntProgress(value=0, description='Epoch', max=7), HTML(value='')))"
      ]
     },
     "metadata": {},
     "output_type": "display_data"
    },
    {
     "name": "stdout",
     "output_type": "stream",
     "text": [
      "epoch      trn_loss   val_loss   mod_acc_to_f1 accuracy    \n",
      "    0      0.1353     0.096606   0.964062   0.964062  \n",
      "    1      0.129837   0.066773   0.979688   0.979688       \n",
      "    2      0.102873   0.068519   0.984375   0.984375       \n",
      "    3      0.086312   0.092635   0.971875   0.971875        \n",
      "    4      0.079079   0.038812   0.992188   0.992188        \n",
      "    5      0.064395   0.040512   0.992188   0.992188        \n",
      "    6      0.055661   0.031987   0.990625   0.990625        \n",
      "\n"
     ]
    }
   ],
   "source": [
    "learn.unfreeze()\n",
    "learn.fit(lrs, 3, cycle_len=1, cycle_mult=2, metrics=metrics)\n",
    "learn.save('250_v4')"
   ]
  },
  {
   "cell_type": "code",
   "execution_count": 9,
   "metadata": {
    "ExecuteTime": {
     "end_time": "2018-03-08T17:43:25.891313Z",
     "start_time": "2018-03-08T17:38:45.131945Z"
    }
   },
   "outputs": [
    {
     "data": {
      "application/vnd.jupyter.widget-view+json": {
       "model_id": "eeee14df0a1e4841ba28272a86cf32b3",
       "version_major": 2,
       "version_minor": 0
      },
      "text/html": [
       "<p>Failed to display Jupyter Widget of type <code>HBox</code>.</p>\n",
       "<p>\n",
       "  If you're reading this message in the Jupyter Notebook or JupyterLab Notebook, it may mean\n",
       "  that the widgets JavaScript is still loading. If this message persists, it\n",
       "  likely means that the widgets JavaScript library is either not installed or\n",
       "  not enabled. See the <a href=\"https://ipywidgets.readthedocs.io/en/stable/user_install.html\">Jupyter\n",
       "  Widgets Documentation</a> for setup instructions.\n",
       "</p>\n",
       "<p>\n",
       "  If you're reading this message in another frontend (for example, a static\n",
       "  rendering on GitHub or <a href=\"https://nbviewer.jupyter.org/\">NBViewer</a>),\n",
       "  it may mean that your frontend doesn't currently support widgets.\n",
       "</p>\n"
      ],
      "text/plain": [
       "HBox(children=(IntProgress(value=0, description='Epoch', max=3), HTML(value='')))"
      ]
     },
     "metadata": {},
     "output_type": "display_data"
    },
    {
     "name": "stdout",
     "output_type": "stream",
     "text": [
      "epoch      trn_loss   val_loss   mod_acc_to_f1              \n",
      "    0      0.07502    0.042621   0.993333  \n",
      "    1      0.070867   0.038838   0.993333                   \n",
      "    2      0.069196   0.037724   0.993333                   \n",
      "\n"
     ]
    },
    {
     "data": {
      "text/plain": [
       "[0.03772404, 0.9933333333333333]"
      ]
     },
     "execution_count": 9,
     "metadata": {},
     "output_type": "execute_result"
    }
   ],
   "source": [
    "learn.load('250_v4')\n",
    "learn.set_data(get_data(350, 50))\n",
    "learn.freeze()\n",
    "learn.fit(lr, 3, cycle_len=1, metrics=metrics)"
   ]
  },
  {
   "cell_type": "code",
   "execution_count": 10,
   "metadata": {
    "ExecuteTime": {
     "end_time": "2018-03-08T17:48:04.648157Z",
     "start_time": "2018-03-08T17:43:25.892525Z"
    }
   },
   "outputs": [
    {
     "data": {
      "application/vnd.jupyter.widget-view+json": {
       "model_id": "8309f51a786b4cb28bed3682c927ee0a",
       "version_major": 2,
       "version_minor": 0
      },
      "text/html": [
       "<p>Failed to display Jupyter Widget of type <code>HBox</code>.</p>\n",
       "<p>\n",
       "  If you're reading this message in the Jupyter Notebook or JupyterLab Notebook, it may mean\n",
       "  that the widgets JavaScript is still loading. If this message persists, it\n",
       "  likely means that the widgets JavaScript library is either not installed or\n",
       "  not enabled. See the <a href=\"https://ipywidgets.readthedocs.io/en/stable/user_install.html\">Jupyter\n",
       "  Widgets Documentation</a> for setup instructions.\n",
       "</p>\n",
       "<p>\n",
       "  If you're reading this message in another frontend (for example, a static\n",
       "  rendering on GitHub or <a href=\"https://nbviewer.jupyter.org/\">NBViewer</a>),\n",
       "  it may mean that your frontend doesn't currently support widgets.\n",
       "</p>\n"
      ],
      "text/plain": [
       "HBox(children=(IntProgress(value=0, description='Epoch', max=3), HTML(value='')))"
      ]
     },
     "metadata": {},
     "output_type": "display_data"
    },
    {
     "name": "stdout",
     "output_type": "stream",
     "text": [
      "epoch      trn_loss   val_loss   mod_acc_to_f1              \n",
      "    0      0.058769   0.038473   0.991667  \n",
      "    1      0.054043   0.034966   0.993333                   \n",
      "    2      0.053156   0.034829   0.991667                   \n",
      "\n"
     ]
    }
   ],
   "source": [
    "learn.fit(lr, 3, cycle_len=1, metrics=metrics)\n",
    "learn.save('350_v5')"
   ]
  },
  {
   "cell_type": "code",
   "execution_count": 11,
   "metadata": {
    "ExecuteTime": {
     "end_time": "2018-03-08T18:18:31.170849Z",
     "start_time": "2018-03-08T17:49:58.857713Z"
    }
   },
   "outputs": [
    {
     "data": {
      "application/vnd.jupyter.widget-view+json": {
       "model_id": "1b5523625f224233b838fdd463afd79c",
       "version_major": 2,
       "version_minor": 0
      },
      "text/html": [
       "<p>Failed to display Jupyter Widget of type <code>HBox</code>.</p>\n",
       "<p>\n",
       "  If you're reading this message in the Jupyter Notebook or JupyterLab Notebook, it may mean\n",
       "  that the widgets JavaScript is still loading. If this message persists, it\n",
       "  likely means that the widgets JavaScript library is either not installed or\n",
       "  not enabled. See the <a href=\"https://ipywidgets.readthedocs.io/en/stable/user_install.html\">Jupyter\n",
       "  Widgets Documentation</a> for setup instructions.\n",
       "</p>\n",
       "<p>\n",
       "  If you're reading this message in another frontend (for example, a static\n",
       "  rendering on GitHub or <a href=\"https://nbviewer.jupyter.org/\">NBViewer</a>),\n",
       "  it may mean that your frontend doesn't currently support widgets.\n",
       "</p>\n"
      ],
      "text/plain": [
       "HBox(children=(IntProgress(value=0, description='Epoch', max=7), HTML(value='')))"
      ]
     },
     "metadata": {},
     "output_type": "display_data"
    },
    {
     "name": "stdout",
     "output_type": "stream",
     "text": [
      "epoch      trn_loss   val_loss   mod_acc_to_f1               \n",
      "    0      0.172275   0.080541   0.977222  \n",
      "    1      0.1604     0.07582    0.975                       \n",
      "    2      0.092516   0.052155   0.983333                     \n",
      "    3      0.127527   0.045056   0.985                       \n",
      "    4      0.092619   0.060323   0.98                         \n",
      "    5      0.049538   0.022185   0.996667                     \n",
      "    6      0.053091   0.021683   0.996667                     \n",
      "\n"
     ]
    }
   ],
   "source": [
    "learn.set_data(get_data(350, 30))\n",
    "learn.unfreeze()\n",
    "learn.fit(lrs, 3, cycle_len=1, cycle_mult=2, metrics=metrics)\n",
    "learn.save('350_v5')"
   ]
  },
  {
   "cell_type": "code",
   "execution_count": 12,
   "metadata": {
    "ExecuteTime": {
     "end_time": "2018-03-08T18:32:24.803111Z",
     "start_time": "2018-03-08T18:24:51.212082Z"
    }
   },
   "outputs": [
    {
     "data": {
      "application/vnd.jupyter.widget-view+json": {
       "model_id": "960f87ebde6c4b27a6185764787639a7",
       "version_major": 2,
       "version_minor": 0
      },
      "text/html": [
       "<p>Failed to display Jupyter Widget of type <code>HBox</code>.</p>\n",
       "<p>\n",
       "  If you're reading this message in the Jupyter Notebook or JupyterLab Notebook, it may mean\n",
       "  that the widgets JavaScript is still loading. If this message persists, it\n",
       "  likely means that the widgets JavaScript library is either not installed or\n",
       "  not enabled. See the <a href=\"https://ipywidgets.readthedocs.io/en/stable/user_install.html\">Jupyter\n",
       "  Widgets Documentation</a> for setup instructions.\n",
       "</p>\n",
       "<p>\n",
       "  If you're reading this message in another frontend (for example, a static\n",
       "  rendering on GitHub or <a href=\"https://nbviewer.jupyter.org/\">NBViewer</a>),\n",
       "  it may mean that your frontend doesn't currently support widgets.\n",
       "</p>\n"
      ],
      "text/plain": [
       "HBox(children=(IntProgress(value=0, description='Epoch', max=5), HTML(value='')))"
      ]
     },
     "metadata": {},
     "output_type": "display_data"
    },
    {
     "name": "stdout",
     "output_type": "stream",
     "text": [
      "epoch      trn_loss   val_loss   mod_acc_to_f1                \n",
      "    0      0.031915   0.018097   0.998333  \n",
      "    1      0.027791   0.017465   0.996667                     \n",
      "    2      0.03203    0.018473   0.996667                     \n",
      "    3      0.035652   0.017342   0.995                        \n",
      "    4      0.029713   0.017538   0.996667                     \n",
      "\n"
     ]
    },
    {
     "data": {
      "text/plain": [
       "[0.017538367, 0.9966666666666667]"
      ]
     },
     "execution_count": 12,
     "metadata": {},
     "output_type": "execute_result"
    }
   ],
   "source": [
    "learn.freeze()\n",
    "learn.fit(lr, 5, cycle_len=1, metrics=metrics)"
   ]
  },
  {
   "cell_type": "code",
   "execution_count": 24,
   "metadata": {
    "ExecuteTime": {
     "end_time": "2018-03-08T18:47:04.146779Z",
     "start_time": "2018-03-08T18:42:30.550444Z"
    }
   },
   "outputs": [
    {
     "data": {
      "application/vnd.jupyter.widget-view+json": {
       "model_id": "e47c0fa905ea43e28ec5435dd1e687e0",
       "version_major": 2,
       "version_minor": 0
      },
      "text/html": [
       "<p>Failed to display Jupyter Widget of type <code>HBox</code>.</p>\n",
       "<p>\n",
       "  If you're reading this message in the Jupyter Notebook or JupyterLab Notebook, it may mean\n",
       "  that the widgets JavaScript is still loading. If this message persists, it\n",
       "  likely means that the widgets JavaScript library is either not installed or\n",
       "  not enabled. See the <a href=\"https://ipywidgets.readthedocs.io/en/stable/user_install.html\">Jupyter\n",
       "  Widgets Documentation</a> for setup instructions.\n",
       "</p>\n",
       "<p>\n",
       "  If you're reading this message in another frontend (for example, a static\n",
       "  rendering on GitHub or <a href=\"https://nbviewer.jupyter.org/\">NBViewer</a>),\n",
       "  it may mean that your frontend doesn't currently support widgets.\n",
       "</p>\n"
      ],
      "text/plain": [
       "HBox(children=(IntProgress(value=0, description='Epoch', max=3), HTML(value='')))"
      ]
     },
     "metadata": {},
     "output_type": "display_data"
    },
    {
     "name": "stdout",
     "output_type": "stream",
     "text": [
      "epoch      trn_loss   val_loss   mod_acc_to_f1                \n",
      "    0      0.022338   0.014747   0.996667  \n",
      "    1      0.026981   0.0149     0.996667                     \n",
      "    2      0.033308   0.013511   0.998333                     \n",
      "\n"
     ]
    },
    {
     "data": {
      "text/plain": [
       "[0.013510953, 0.9983333333333334]"
      ]
     },
     "execution_count": 24,
     "metadata": {},
     "output_type": "execute_result"
    }
   ],
   "source": [
    "learn.fit(lr, 3, cycle_len=1, metrics=metrics)"
   ]
  },
  {
   "cell_type": "code",
   "execution_count": 25,
   "metadata": {
    "ExecuteTime": {
     "end_time": "2018-03-08T19:19:00.527310Z",
     "start_time": "2018-03-08T19:13:02.294286Z"
    }
   },
   "outputs": [
    {
     "data": {
      "application/vnd.jupyter.widget-view+json": {
       "model_id": "4a2bde50ce3141c99a1f409d4a1cbfec",
       "version_major": 2,
       "version_minor": 0
      },
      "text/html": [
       "<p>Failed to display Jupyter Widget of type <code>HBox</code>.</p>\n",
       "<p>\n",
       "  If you're reading this message in the Jupyter Notebook or JupyterLab Notebook, it may mean\n",
       "  that the widgets JavaScript is still loading. If this message persists, it\n",
       "  likely means that the widgets JavaScript library is either not installed or\n",
       "  not enabled. See the <a href=\"https://ipywidgets.readthedocs.io/en/stable/user_install.html\">Jupyter\n",
       "  Widgets Documentation</a> for setup instructions.\n",
       "</p>\n",
       "<p>\n",
       "  If you're reading this message in another frontend (for example, a static\n",
       "  rendering on GitHub or <a href=\"https://nbviewer.jupyter.org/\">NBViewer</a>),\n",
       "  it may mean that your frontend doesn't currently support widgets.\n",
       "</p>\n"
      ],
      "text/plain": [
       "HBox(children=(IntProgress(value=0, description='Epoch', max=3), HTML(value='')))"
      ]
     },
     "metadata": {},
     "output_type": "display_data"
    },
    {
     "name": "stdout",
     "output_type": "stream",
     "text": [
      "epoch      trn_loss   val_loss   mod_acc_to_f1                \n",
      "    0      0.0281     0.012985   0.998333  \n",
      "    1      0.029147   0.013049   0.995                        \n",
      "    2      0.025595   0.010607   0.998333                     \n",
      "\n"
     ]
    },
    {
     "data": {
      "text/plain": [
       "[0.010606637, 0.9983333333333334]"
      ]
     },
     "execution_count": 25,
     "metadata": {},
     "output_type": "execute_result"
    }
   ],
   "source": [
    "learn.fit(lr, 3, cycle_len=1, metrics=metrics)"
   ]
  },
  {
   "cell_type": "code",
   "execution_count": 38,
   "metadata": {
    "ExecuteTime": {
     "end_time": "2018-03-08T19:19:00.527310Z",
     "start_time": "2018-03-08T19:13:02.294286Z"
    }
   },
   "outputs": [
    {
     "data": {
      "application/vnd.jupyter.widget-view+json": {
       "model_id": "396e8bac660642818a45a153296c395d",
       "version_major": 2,
       "version_minor": 0
      },
      "text/html": [
       "<p>Failed to display Jupyter Widget of type <code>HBox</code>.</p>\n",
       "<p>\n",
       "  If you're reading this message in the Jupyter Notebook or JupyterLab Notebook, it may mean\n",
       "  that the widgets JavaScript is still loading. If this message persists, it\n",
       "  likely means that the widgets JavaScript library is either not installed or\n",
       "  not enabled. See the <a href=\"https://ipywidgets.readthedocs.io/en/stable/user_install.html\">Jupyter\n",
       "  Widgets Documentation</a> for setup instructions.\n",
       "</p>\n",
       "<p>\n",
       "  If you're reading this message in another frontend (for example, a static\n",
       "  rendering on GitHub or <a href=\"https://nbviewer.jupyter.org/\">NBViewer</a>),\n",
       "  it may mean that your frontend doesn't currently support widgets.\n",
       "</p>\n"
      ],
      "text/plain": [
       "HBox(children=(IntProgress(value=0, description='Epoch', max=3), HTML(value='')))"
      ]
     },
     "metadata": {},
     "output_type": "display_data"
    },
    {
     "name": "stdout",
     "output_type": "stream",
     "text": [
      "epoch      trn_loss   val_loss   mod_acc_to_f1              \n",
      "    0      0.021205   0.011788   0.998333  \n",
      "    1      0.024002   0.01205    0.998333                   \n",
      "    2      0.019458   0.010173   0.998333                   \n",
      "\n"
     ]
    },
    {
     "data": {
      "text/plain": [
       "[0.010172943, 0.9983333333333334]"
      ]
     },
     "execution_count": 38,
     "metadata": {},
     "output_type": "execute_result"
    }
   ],
   "source": [
    "learn.set_data(get_data(400, 50))\n",
    "learn.freeze()\n",
    "learn.fit(lr, 3, cycle_len=1, metrics=metrics)"
   ]
  },
  {
   "cell_type": "code",
   "execution_count": 39,
   "metadata": {
    "ExecuteTime": {
     "end_time": "2018-03-08T19:59:55.849716Z",
     "start_time": "2018-03-08T19:22:35.458739Z"
    }
   },
   "outputs": [
    {
     "data": {
      "application/vnd.jupyter.widget-view+json": {
       "model_id": "0b799e813ffc4862a78b93183c961eea",
       "version_major": 2,
       "version_minor": 0
      },
      "text/html": [
       "<p>Failed to display Jupyter Widget of type <code>HBox</code>.</p>\n",
       "<p>\n",
       "  If you're reading this message in the Jupyter Notebook or JupyterLab Notebook, it may mean\n",
       "  that the widgets JavaScript is still loading. If this message persists, it\n",
       "  likely means that the widgets JavaScript library is either not installed or\n",
       "  not enabled. See the <a href=\"https://ipywidgets.readthedocs.io/en/stable/user_install.html\">Jupyter\n",
       "  Widgets Documentation</a> for setup instructions.\n",
       "</p>\n",
       "<p>\n",
       "  If you're reading this message in another frontend (for example, a static\n",
       "  rendering on GitHub or <a href=\"https://nbviewer.jupyter.org/\">NBViewer</a>),\n",
       "  it may mean that your frontend doesn't currently support widgets.\n",
       "</p>\n"
      ],
      "text/plain": [
       "HBox(children=(IntProgress(value=0, description='Epoch', max=7), HTML(value='')))"
      ]
     },
     "metadata": {},
     "output_type": "display_data"
    },
    {
     "name": "stdout",
     "output_type": "stream",
     "text": [
      "epoch      trn_loss   val_loss   mod_acc_to_f1                \n",
      "    0      0.069266   0.041566   0.986667  \n",
      "    1      0.115684   0.054516   0.978333                     \n",
      "    2      0.060602   0.032566   0.993333                     \n",
      "    3      0.116656   0.068586   0.98                         \n",
      "    4      0.078937   0.019366   0.996667                     \n",
      "    5      0.037762   0.015878   0.995                        \n",
      "    6      0.030782   0.01448    0.995                        \n",
      "\n"
     ]
    }
   ],
   "source": [
    "learn.save('400_v6')\n",
    "learn.set_data(get_data(400, 25))\n",
    "learn.unfreeze()\n",
    "learn.fit(lrs, 3, cycle_len=1, cycle_mult=2, metrics=metrics)\n",
    "learn.save('400_v6')"
   ]
  },
  {
   "cell_type": "code",
   "execution_count": 40,
   "metadata": {
    "ExecuteTime": {
     "end_time": "2018-03-08T20:05:49.063680Z",
     "start_time": "2018-03-08T19:59:55.851188Z"
    }
   },
   "outputs": [
    {
     "data": {
      "application/vnd.jupyter.widget-view+json": {
       "model_id": "be8e654a03304a28b36ea900c7416166",
       "version_major": 2,
       "version_minor": 0
      },
      "text/html": [
       "<p>Failed to display Jupyter Widget of type <code>HBox</code>.</p>\n",
       "<p>\n",
       "  If you're reading this message in the Jupyter Notebook or JupyterLab Notebook, it may mean\n",
       "  that the widgets JavaScript is still loading. If this message persists, it\n",
       "  likely means that the widgets JavaScript library is either not installed or\n",
       "  not enabled. See the <a href=\"https://ipywidgets.readthedocs.io/en/stable/user_install.html\">Jupyter\n",
       "  Widgets Documentation</a> for setup instructions.\n",
       "</p>\n",
       "<p>\n",
       "  If you're reading this message in another frontend (for example, a static\n",
       "  rendering on GitHub or <a href=\"https://nbviewer.jupyter.org/\">NBViewer</a>),\n",
       "  it may mean that your frontend doesn't currently support widgets.\n",
       "</p>\n"
      ],
      "text/plain": [
       "HBox(children=(IntProgress(value=0, description='Epoch', max=3), HTML(value='')))"
      ]
     },
     "metadata": {},
     "output_type": "display_data"
    },
    {
     "name": "stdout",
     "output_type": "stream",
     "text": [
      "epoch      trn_loss   val_loss   mod_acc_to_f1                \n",
      "    0      0.024939   0.015117   0.995     \n",
      "    1      0.023771   0.009587   0.998333                     \n",
      "    2      0.022548   0.008959   0.998333                     \n",
      "\n"
     ]
    },
    {
     "data": {
      "text/plain": [
       "[0.008958911, 0.9983333333333334]"
      ]
     },
     "execution_count": 40,
     "metadata": {},
     "output_type": "execute_result"
    }
   ],
   "source": [
    "learn.freeze()\n",
    "learn.fit(lr, 3, cycle_len=1, metrics=metrics)"
   ]
  },
  {
   "cell_type": "code",
   "execution_count": 50,
   "metadata": {
    "ExecuteTime": {
     "end_time": "2018-03-08T20:19:44.968613Z",
     "start_time": "2018-03-08T20:13:46.133542Z"
    }
   },
   "outputs": [
    {
     "data": {
      "application/vnd.jupyter.widget-view+json": {
       "model_id": "55222cc2fefb4d1aa93bfc183ec19f39",
       "version_major": 2,
       "version_minor": 0
      },
      "text/html": [
       "<p>Failed to display Jupyter Widget of type <code>HBox</code>.</p>\n",
       "<p>\n",
       "  If you're reading this message in the Jupyter Notebook or JupyterLab Notebook, it may mean\n",
       "  that the widgets JavaScript is still loading. If this message persists, it\n",
       "  likely means that the widgets JavaScript library is either not installed or\n",
       "  not enabled. See the <a href=\"https://ipywidgets.readthedocs.io/en/stable/user_install.html\">Jupyter\n",
       "  Widgets Documentation</a> for setup instructions.\n",
       "</p>\n",
       "<p>\n",
       "  If you're reading this message in another frontend (for example, a static\n",
       "  rendering on GitHub or <a href=\"https://nbviewer.jupyter.org/\">NBViewer</a>),\n",
       "  it may mean that your frontend doesn't currently support widgets.\n",
       "</p>\n"
      ],
      "text/plain": [
       "HBox(children=(IntProgress(value=0, description='Epoch', max=3), HTML(value='')))"
      ]
     },
     "metadata": {},
     "output_type": "display_data"
    },
    {
     "name": "stdout",
     "output_type": "stream",
     "text": [
      "epoch      trn_loss   val_loss   mod_acc_to_f1              \n",
      "    0      0.013984   0.008485   0.996667  \n",
      "    1      0.016758   0.008078   0.996667                   \n",
      "    2      0.015298   0.008099   0.996667                   \n",
      "\n"
     ]
    },
    {
     "data": {
      "text/plain": [
       "[0.008099246, 0.9966666666666667]"
      ]
     },
     "execution_count": 50,
     "metadata": {},
     "output_type": "execute_result"
    }
   ],
   "source": [
    "learn.set_data(get_data(400, 50))\n",
    "learn.fit(lrs, 3, cycle_len=1, metrics=metrics)"
   ]
  },
  {
   "cell_type": "code",
   "execution_count": 51,
   "metadata": {
    "ExecuteTime": {
     "end_time": "2018-03-08T20:37:28.955400Z",
     "start_time": "2018-03-08T20:23:38.597788Z"
    }
   },
   "outputs": [
    {
     "data": {
      "application/vnd.jupyter.widget-view+json": {
       "model_id": "675b2e21ca544c77bf80cdd39bb4e0f6",
       "version_major": 2,
       "version_minor": 0
      },
      "text/html": [
       "<p>Failed to display Jupyter Widget of type <code>HBox</code>.</p>\n",
       "<p>\n",
       "  If you're reading this message in the Jupyter Notebook or JupyterLab Notebook, it may mean\n",
       "  that the widgets JavaScript is still loading. If this message persists, it\n",
       "  likely means that the widgets JavaScript library is either not installed or\n",
       "  not enabled. See the <a href=\"https://ipywidgets.readthedocs.io/en/stable/user_install.html\">Jupyter\n",
       "  Widgets Documentation</a> for setup instructions.\n",
       "</p>\n",
       "<p>\n",
       "  If you're reading this message in another frontend (for example, a static\n",
       "  rendering on GitHub or <a href=\"https://nbviewer.jupyter.org/\">NBViewer</a>),\n",
       "  it may mean that your frontend doesn't currently support widgets.\n",
       "</p>\n"
      ],
      "text/plain": [
       "HBox(children=(IntProgress(value=0, description='Epoch', max=7), HTML(value='')))"
      ]
     },
     "metadata": {},
     "output_type": "display_data"
    },
    {
     "name": "stdout",
     "output_type": "stream",
     "text": [
      "epoch      trn_loss   val_loss   mod_acc_to_f1              \n",
      "    0      0.017277   0.006912   0.996667  \n",
      "    1      0.01183    0.007265   1.0                        \n",
      "    2      0.013391   0.006397   0.996667                   \n",
      "    3      0.015631   0.00665    0.998333                   \n",
      "    4      0.013111   0.007115   0.998333                   \n",
      "    5      0.018757   0.006864   0.998333                   \n",
      "    6      0.011383   0.006502   0.998333                   \n",
      "\n"
     ]
    },
    {
     "data": {
      "text/plain": [
       "[0.0065018986, 0.9983333333333334]"
      ]
     },
     "execution_count": 51,
     "metadata": {},
     "output_type": "execute_result"
    }
   ],
   "source": [
    "learn.fit(lrs, 3, cycle_len=1, cycle_mult=2, metrics=metrics)"
   ]
  },
  {
   "cell_type": "code",
   "execution_count": 61,
   "metadata": {
    "ExecuteTime": {
     "end_time": "2018-03-08T22:16:22.950085Z",
     "start_time": "2018-03-08T21:14:46.352904Z"
    }
   },
   "outputs": [
    {
     "data": {
      "application/vnd.jupyter.widget-view+json": {
       "model_id": "6ecc97dd3b314e4483a1bdf2a1138a96",
       "version_major": 2,
       "version_minor": 0
      },
      "text/html": [
       "<p>Failed to display Jupyter Widget of type <code>HBox</code>.</p>\n",
       "<p>\n",
       "  If you're reading this message in the Jupyter Notebook or JupyterLab Notebook, it may mean\n",
       "  that the widgets JavaScript is still loading. If this message persists, it\n",
       "  likely means that the widgets JavaScript library is either not installed or\n",
       "  not enabled. See the <a href=\"https://ipywidgets.readthedocs.io/en/stable/user_install.html\">Jupyter\n",
       "  Widgets Documentation</a> for setup instructions.\n",
       "</p>\n",
       "<p>\n",
       "  If you're reading this message in another frontend (for example, a static\n",
       "  rendering on GitHub or <a href=\"https://nbviewer.jupyter.org/\">NBViewer</a>),\n",
       "  it may mean that your frontend doesn't currently support widgets.\n",
       "</p>\n"
      ],
      "text/plain": [
       "HBox(children=(IntProgress(value=0, description='Epoch', max=31), HTML(value='')))"
      ]
     },
     "metadata": {},
     "output_type": "display_data"
    },
    {
     "name": "stdout",
     "output_type": "stream",
     "text": [
      "epoch      trn_loss   val_loss   mod_acc_to_f1              \n",
      "    0      0.016362   0.006562   0.998333  \n",
      "    1      0.014735   0.00711    0.996667                   \n",
      "    2      0.010748   0.006391   0.998333                   \n",
      "    3      0.014025   0.005502   0.998333                    \n",
      "    4      0.014401   0.005514   0.998333                   \n",
      "    5      0.013779   0.005832   0.998333                   \n",
      "    6      0.014031   0.005778   0.998333                    \n",
      "    7      0.010413   0.005432   0.998333                    \n",
      "    8      0.0092     0.00517    0.998333                    \n",
      "    9      0.01221    0.005732   0.998333                    \n",
      "    10     0.012749   0.005797   0.998333                    \n",
      "    11     0.012733   0.005737   0.998333                   \n",
      "    12     0.010048   0.006071   0.998333                    \n",
      "    13     0.010116   0.005976   0.998333                    \n",
      "    14     0.011272   0.005683   0.998333                    \n",
      "    15     0.0164     0.005256   0.998333                   \n",
      "    16     0.015409   0.004972   0.998333                   \n",
      "    17     0.013992   0.005193   0.998333                   \n",
      "    18     0.01187    0.00535    0.998333                   \n",
      "    19     0.012921   0.004874   0.998333                   \n",
      "    20     0.012596   0.004995   0.998333                    \n",
      "    21     0.0106     0.004623   0.998333                    \n",
      "    22     0.012694   0.004106   0.998333                    \n",
      "    23     0.009932   0.004738   0.998333                    \n",
      "    24     0.010755   0.005103   0.998333                    \n",
      "    25     0.009387   0.004252   0.998333                    \n",
      "    26     0.01138    0.004611   0.998333                    \n",
      "    27     0.011843   0.004434   0.998333                   \n",
      "    28     0.012396   0.004676   0.998333                    \n",
      "    29     0.008922   0.004443   0.998333                    \n",
      "    30     0.010421   0.004257   0.998333                    \n",
      "\n"
     ]
    },
    {
     "data": {
      "text/plain": [
       "[0.004256842, 0.9983333333333334]"
      ]
     },
     "execution_count": 61,
     "metadata": {},
     "output_type": "execute_result"
    }
   ],
   "source": [
    "learn.fit(lrs, 5, cycle_len=1, cycle_mult=2, metrics=metrics)"
   ]
  },
  {
   "cell_type": "code",
   "execution_count": 62,
   "metadata": {
    "ExecuteTime": {
     "end_time": "2018-03-08T22:17:11.325172Z",
     "start_time": "2018-03-08T22:17:11.203032Z"
    }
   },
   "outputs": [],
   "source": [
    "learn.save('400_v7')"
   ]
  },
  {
   "cell_type": "code",
   "execution_count": 63,
   "metadata": {
    "ExecuteTime": {
     "end_time": "2018-03-08T22:18:32.617181Z",
     "start_time": "2018-03-08T22:17:13.421508Z"
    }
   },
   "outputs": [
    {
     "name": "stdout",
     "output_type": "stream",
     "text": [
      "                                             \r"
     ]
    }
   ],
   "source": [
    "log_preds,y = learn.TTA(is_test=True)\n",
    "probs = np.median(np.exp(log_preds),0)"
   ]
  },
  {
   "cell_type": "markdown",
   "metadata": {},
   "source": [
    "## Create csv with results"
   ]
  },
  {
   "cell_type": "code",
   "execution_count": 64,
   "metadata": {
    "ExecuteTime": {
     "end_time": "2018-03-08T22:18:32.633975Z",
     "start_time": "2018-03-08T22:18:32.618718Z"
    }
   },
   "outputs": [],
   "source": [
    "classes = learn.data.classes\n",
    "choices = np.argmax(probs, axis=1)\n",
    "# Returns the indices of the maximum values along an axis"
   ]
  },
  {
   "cell_type": "code",
   "execution_count": 65,
   "metadata": {
    "ExecuteTime": {
     "end_time": "2018-03-08T22:18:32.651905Z",
     "start_time": "2018-03-08T22:18:32.635443Z"
    }
   },
   "outputs": [],
   "source": [
    "res = []\n",
    "for i in np.nditer(choices):\n",
    "    res.append(classes[i])"
   ]
  },
  {
   "cell_type": "code",
   "execution_count": 66,
   "metadata": {
    "ExecuteTime": {
     "end_time": "2018-03-08T22:18:32.666580Z",
     "start_time": "2018-03-08T22:18:32.653368Z"
    }
   },
   "outputs": [],
   "source": [
    "df = pd.DataFrame(res)"
   ]
  },
  {
   "cell_type": "code",
   "execution_count": 67,
   "metadata": {
    "ExecuteTime": {
     "end_time": "2018-03-08T22:18:32.682363Z",
     "start_time": "2018-03-08T22:18:32.667893Z"
    }
   },
   "outputs": [],
   "source": [
    "df.insert(0, 'file', [n[5:] for n in learn.data.test_ds.fnames])\n",
    "# subset the string (remove 'test/')"
   ]
  },
  {
   "cell_type": "code",
   "execution_count": 68,
   "metadata": {
    "ExecuteTime": {
     "end_time": "2018-03-08T22:18:32.697218Z",
     "start_time": "2018-03-08T22:18:32.683643Z"
    }
   },
   "outputs": [],
   "source": [
    "df.columns = ['file','species']"
   ]
  },
  {
   "cell_type": "code",
   "execution_count": 81,
   "metadata": {
    "ExecuteTime": {
     "end_time": "2018-03-08T22:24:04.775702Z",
     "start_time": "2018-03-08T22:24:04.746825Z"
    }
   },
   "outputs": [],
   "source": [
    "SUBM = f'{PATH}subm/'\n",
    "os.makedirs(SUBM, exist_ok=True)\n",
    "df.to_csv(f'{SUBM}subm_v8.csv', index=False)"
   ]
  },
  {
   "cell_type": "code",
   "execution_count": 82,
   "metadata": {
    "ExecuteTime": {
     "end_time": "2018-03-08T22:24:07.954465Z",
     "start_time": "2018-03-08T22:24:05.915921Z"
    }
   },
   "outputs": [
    {
     "name": "stdout",
     "output_type": "stream",
     "text": [
      "list indices must be integers or slices, not str\r\n"
     ]
    }
   ],
   "source": [
    "!kg submit {SUBM}'subm_v8.csv' -c plant-seedlings-classification"
   ]
  },
  {
   "cell_type": "code",
   "execution_count": null,
   "metadata": {},
   "outputs": [],
   "source": []
  }
 ],
 "metadata": {
  "kernelspec": {
   "display_name": "Python 3",
   "language": "python",
   "name": "python3"
  },
  "language_info": {
   "codemirror_mode": {
    "name": "ipython",
    "version": 3
   },
   "file_extension": ".py",
   "mimetype": "text/x-python",
   "name": "python",
   "nbconvert_exporter": "python",
   "pygments_lexer": "ipython3",
   "version": "3.6.4"
  },
  "widgets": {
   "application/vnd.jupyter.widget-state+json": {
    "state": {
     "031f5389303b4347aad300e9a13302cd": {
      "model_module": "@jupyter-widgets/base",
      "model_module_version": "1.0.0",
      "model_name": "LayoutModel",
      "state": {}
     },
     "0aac476706f6496190a65f684b0d567a": {
      "model_module": "@jupyter-widgets/controls",
      "model_module_version": "1.0.0",
      "model_name": "HBoxModel",
      "state": {
       "children": [
        "IPY_MODEL_12aa18ea345742ddad91163bb377c024",
        "IPY_MODEL_c9b2b36daf9d4ba8807e55091342ffaa"
       ],
       "layout": "IPY_MODEL_0cb4bb90321148869435416ec141ad98"
      }
     },
     "0cb4bb90321148869435416ec141ad98": {
      "model_module": "@jupyter-widgets/base",
      "model_module_version": "1.0.0",
      "model_name": "LayoutModel",
      "state": {}
     },
     "12aa18ea345742ddad91163bb377c024": {
      "model_module": "@jupyter-widgets/controls",
      "model_module_version": "1.0.0",
      "model_name": "IntProgressModel",
      "state": {
       "bar_style": "success",
       "description": "Epoch",
       "layout": "IPY_MODEL_27720952b69845408ab466eb515fae1b",
       "max": 3,
       "style": "IPY_MODEL_368923162b7b43a29addf41b11147e1e",
       "value": 3
      }
     },
     "19fe7f3ec6984c5a9401ccb983bf1c3d": {
      "model_module": "@jupyter-widgets/controls",
      "model_module_version": "1.0.0",
      "model_name": "HBoxModel",
      "state": {
       "children": [
        "IPY_MODEL_d7cc990311e949f9a0922ac82f062bd1",
        "IPY_MODEL_4ec97bfef434451f96b9ed6bedc3c4ae"
       ],
       "layout": "IPY_MODEL_f8b5bbaa97f54eb4b08edb2cdf80507a"
      }
     },
     "1a590d0711bc4b6aa419e23a898de3a8": {
      "model_module": "@jupyter-widgets/controls",
      "model_module_version": "1.0.0",
      "model_name": "IntProgressModel",
      "state": {
       "bar_style": "success",
       "description": "Epoch",
       "layout": "IPY_MODEL_55a4e37e482f4c02822ab89d449e1855",
       "max": 5,
       "style": "IPY_MODEL_deaf4b8d9dd84a30b4b4124b2958ebd4",
       "value": 5
      }
     },
     "1c3b0ce237c842efad5532a6cd3a6b3f": {
      "model_module": "@jupyter-widgets/controls",
      "model_module_version": "1.0.0",
      "model_name": "HTMLModel",
      "state": {
       "layout": "IPY_MODEL_31c093082bf44b71a0d88ddc992aaa87",
       "style": "IPY_MODEL_6116179263e3451e996ea6d3a9548a2e",
       "value": "100% 5/5 [01:33&lt;00:00, 18.64s/it]"
      }
     },
     "27720952b69845408ab466eb515fae1b": {
      "model_module": "@jupyter-widgets/base",
      "model_module_version": "1.0.0",
      "model_name": "LayoutModel",
      "state": {}
     },
     "31c093082bf44b71a0d88ddc992aaa87": {
      "model_module": "@jupyter-widgets/base",
      "model_module_version": "1.0.0",
      "model_name": "LayoutModel",
      "state": {}
     },
     "368923162b7b43a29addf41b11147e1e": {
      "model_module": "@jupyter-widgets/controls",
      "model_module_version": "1.0.0",
      "model_name": "ProgressStyleModel",
      "state": {
       "description_width": ""
      }
     },
     "3df7ed5e553842eea457210327c5fb97": {
      "model_module": "@jupyter-widgets/base",
      "model_module_version": "1.0.0",
      "model_name": "LayoutModel",
      "state": {}
     },
     "4aa7a09e6ed24954a61359f018cddb24": {
      "model_module": "@jupyter-widgets/controls",
      "model_module_version": "1.0.0",
      "model_name": "HBoxModel",
      "state": {
       "children": [
        "IPY_MODEL_5d29386415634200afb7087a5166299d",
        "IPY_MODEL_a628f81613c542c5bbf84220aee1bbfb"
       ],
       "layout": "IPY_MODEL_f0204fabcc9040fa94cb5f50460b9b03"
      }
     },
     "4b07b514b9f24f3e9ecbec518a6bfc88": {
      "model_module": "@jupyter-widgets/controls",
      "model_module_version": "1.0.0",
      "model_name": "ProgressStyleModel",
      "state": {
       "description_width": ""
      }
     },
     "4b8e7d7d1b6546068df35c227a3a5eae": {
      "model_module": "@jupyter-widgets/controls",
      "model_module_version": "1.0.0",
      "model_name": "HTMLModel",
      "state": {
       "layout": "IPY_MODEL_d38325a9ad604698861905a55e00baa3",
       "style": "IPY_MODEL_b58c8753c2394d06860e7d9744d4ec78",
       "value": " 29% 2/7 [02:56&lt;07:20, 88.03s/it]"
      }
     },
     "4ec97bfef434451f96b9ed6bedc3c4ae": {
      "model_module": "@jupyter-widgets/controls",
      "model_module_version": "1.0.0",
      "model_name": "HTMLModel",
      "state": {
       "layout": "IPY_MODEL_4f7409aee45f4e33bdee78966f4cee63",
       "style": "IPY_MODEL_656c14126bf54fe08c0a989ee4bb543c",
       "value": "100% 3/3 [04:26&lt;00:00, 88.67s/it]"
      }
     },
     "4f7409aee45f4e33bdee78966f4cee63": {
      "model_module": "@jupyter-widgets/base",
      "model_module_version": "1.0.0",
      "model_name": "LayoutModel",
      "state": {}
     },
     "50ab7f308ea7445189796eae43dd09f6": {
      "model_module": "@jupyter-widgets/base",
      "model_module_version": "1.0.0",
      "model_name": "LayoutModel",
      "state": {}
     },
     "55a4e37e482f4c02822ab89d449e1855": {
      "model_module": "@jupyter-widgets/base",
      "model_module_version": "1.0.0",
      "model_name": "LayoutModel",
      "state": {}
     },
     "57927c96d5ba4068acd63c577d2710b3": {
      "model_module": "@jupyter-widgets/controls",
      "model_module_version": "1.0.0",
      "model_name": "HTMLModel",
      "state": {
       "layout": "IPY_MODEL_d17660c2b3654af38ab5b874948fe09e",
       "style": "IPY_MODEL_b1f3393e145547a6a9909b8e498dc166",
       "value": "100% 7/7 [14:53&lt;00:00, 127.68s/it]"
      }
     },
     "57cf63c5daeb4925a188c91f2f293274": {
      "model_module": "@jupyter-widgets/controls",
      "model_module_version": "1.0.0",
      "model_name": "HBoxModel",
      "state": {
       "children": [
        "IPY_MODEL_c35c2561c752419e933b6e3e8b2d378a",
        "IPY_MODEL_57927c96d5ba4068acd63c577d2710b3"
       ],
       "layout": "IPY_MODEL_031f5389303b4347aad300e9a13302cd"
      }
     },
     "5bd64607591c44fba55cecda4caa0f5b": {
      "model_module": "@jupyter-widgets/controls",
      "model_module_version": "1.0.0",
      "model_name": "HBoxModel",
      "state": {
       "children": [
        "IPY_MODEL_9d4029a2aea548fba83e00e25e4f3962",
        "IPY_MODEL_4b8e7d7d1b6546068df35c227a3a5eae"
       ],
       "layout": "IPY_MODEL_97eab7fd272642b68d7653817911b8d7"
      }
     },
     "5d05e04e8806418aadb90d7a41ebf0e7": {
      "model_module": "@jupyter-widgets/base",
      "model_module_version": "1.0.0",
      "model_name": "LayoutModel",
      "state": {}
     },
     "5d29386415634200afb7087a5166299d": {
      "model_module": "@jupyter-widgets/controls",
      "model_module_version": "1.0.0",
      "model_name": "IntProgressModel",
      "state": {
       "bar_style": "success",
       "description": "Epoch",
       "layout": "IPY_MODEL_50ab7f308ea7445189796eae43dd09f6",
       "max": 7,
       "style": "IPY_MODEL_b3c45c269aad4a53903fb01fd4bcba8b",
       "value": 7
      }
     },
     "5f4df88cd0c84b4d850247d193e8afd3": {
      "model_module": "@jupyter-widgets/base",
      "model_module_version": "1.0.0",
      "model_name": "LayoutModel",
      "state": {}
     },
     "6116179263e3451e996ea6d3a9548a2e": {
      "model_module": "@jupyter-widgets/controls",
      "model_module_version": "1.0.0",
      "model_name": "DescriptionStyleModel",
      "state": {
       "description_width": ""
      }
     },
     "656c14126bf54fe08c0a989ee4bb543c": {
      "model_module": "@jupyter-widgets/controls",
      "model_module_version": "1.0.0",
      "model_name": "DescriptionStyleModel",
      "state": {
       "description_width": ""
      }
     },
     "78b410d1feac43deb71ca1c9fcabef5e": {
      "model_module": "@jupyter-widgets/base",
      "model_module_version": "1.0.0",
      "model_name": "LayoutModel",
      "state": {}
     },
     "7cab7bd1e1394e6892a3e8e1833d9308": {
      "model_module": "@jupyter-widgets/controls",
      "model_module_version": "1.0.0",
      "model_name": "ProgressStyleModel",
      "state": {
       "description_width": ""
      }
     },
     "876f5f1c2c5a4893845afe1d656763ad": {
      "model_module": "@jupyter-widgets/controls",
      "model_module_version": "1.0.0",
      "model_name": "DescriptionStyleModel",
      "state": {
       "description_width": ""
      }
     },
     "8ef3879da4f34276b0afeb36f1600316": {
      "model_module": "@jupyter-widgets/base",
      "model_module_version": "1.0.0",
      "model_name": "LayoutModel",
      "state": {}
     },
     "94902e679da34f5b93069bc02fd40ee6": {
      "model_module": "@jupyter-widgets/controls",
      "model_module_version": "1.0.0",
      "model_name": "ProgressStyleModel",
      "state": {
       "description_width": ""
      }
     },
     "97eab7fd272642b68d7653817911b8d7": {
      "model_module": "@jupyter-widgets/base",
      "model_module_version": "1.0.0",
      "model_name": "LayoutModel",
      "state": {}
     },
     "9a5b2979762345a2bdeff9f2b08a085b": {
      "model_module": "@jupyter-widgets/controls",
      "model_module_version": "1.0.0",
      "model_name": "HBoxModel",
      "state": {
       "children": [
        "IPY_MODEL_1a590d0711bc4b6aa419e23a898de3a8",
        "IPY_MODEL_1c3b0ce237c842efad5532a6cd3a6b3f"
       ],
       "layout": "IPY_MODEL_3df7ed5e553842eea457210327c5fb97"
      }
     },
     "9d4029a2aea548fba83e00e25e4f3962": {
      "model_module": "@jupyter-widgets/controls",
      "model_module_version": "1.0.0",
      "model_name": "IntProgressModel",
      "state": {
       "bar_style": "danger",
       "description": "Epoch",
       "layout": "IPY_MODEL_78b410d1feac43deb71ca1c9fcabef5e",
       "max": 7,
       "style": "IPY_MODEL_4b07b514b9f24f3e9ecbec518a6bfc88",
       "value": 2
      }
     },
     "a628f81613c542c5bbf84220aee1bbfb": {
      "model_module": "@jupyter-widgets/controls",
      "model_module_version": "1.0.0",
      "model_name": "HTMLModel",
      "state": {
       "layout": "IPY_MODEL_5d05e04e8806418aadb90d7a41ebf0e7",
       "style": "IPY_MODEL_bfd8063ef57944e2a785825f1d3d8e13",
       "value": "100% 7/7 [04:30&lt;00:00, 38.59s/it]"
      }
     },
     "ad99cd2079104184864fb0e015da2a9c": {
      "model_module": "@jupyter-widgets/base",
      "model_module_version": "1.0.0",
      "model_name": "LayoutModel",
      "state": {}
     },
     "b1f3393e145547a6a9909b8e498dc166": {
      "model_module": "@jupyter-widgets/controls",
      "model_module_version": "1.0.0",
      "model_name": "DescriptionStyleModel",
      "state": {
       "description_width": ""
      }
     },
     "b3c45c269aad4a53903fb01fd4bcba8b": {
      "model_module": "@jupyter-widgets/controls",
      "model_module_version": "1.0.0",
      "model_name": "ProgressStyleModel",
      "state": {
       "description_width": ""
      }
     },
     "b58c8753c2394d06860e7d9744d4ec78": {
      "model_module": "@jupyter-widgets/controls",
      "model_module_version": "1.0.0",
      "model_name": "DescriptionStyleModel",
      "state": {
       "description_width": ""
      }
     },
     "bfd8063ef57944e2a785825f1d3d8e13": {
      "model_module": "@jupyter-widgets/controls",
      "model_module_version": "1.0.0",
      "model_name": "DescriptionStyleModel",
      "state": {
       "description_width": ""
      }
     },
     "c35c2561c752419e933b6e3e8b2d378a": {
      "model_module": "@jupyter-widgets/controls",
      "model_module_version": "1.0.0",
      "model_name": "IntProgressModel",
      "state": {
       "bar_style": "success",
       "description": "Epoch",
       "layout": "IPY_MODEL_5f4df88cd0c84b4d850247d193e8afd3",
       "max": 7,
       "style": "IPY_MODEL_94902e679da34f5b93069bc02fd40ee6",
       "value": 7
      }
     },
     "c9b2b36daf9d4ba8807e55091342ffaa": {
      "model_module": "@jupyter-widgets/controls",
      "model_module_version": "1.0.0",
      "model_name": "HTMLModel",
      "state": {
       "layout": "IPY_MODEL_8ef3879da4f34276b0afeb36f1600316",
       "style": "IPY_MODEL_876f5f1c2c5a4893845afe1d656763ad",
       "value": "100% 3/3 [02:36&lt;00:00, 52.27s/it]"
      }
     },
     "d17660c2b3654af38ab5b874948fe09e": {
      "model_module": "@jupyter-widgets/base",
      "model_module_version": "1.0.0",
      "model_name": "LayoutModel",
      "state": {}
     },
     "d38325a9ad604698861905a55e00baa3": {
      "model_module": "@jupyter-widgets/base",
      "model_module_version": "1.0.0",
      "model_name": "LayoutModel",
      "state": {}
     },
     "d7cc990311e949f9a0922ac82f062bd1": {
      "model_module": "@jupyter-widgets/controls",
      "model_module_version": "1.0.0",
      "model_name": "IntProgressModel",
      "state": {
       "bar_style": "success",
       "description": "Epoch",
       "layout": "IPY_MODEL_ad99cd2079104184864fb0e015da2a9c",
       "max": 3,
       "style": "IPY_MODEL_7cab7bd1e1394e6892a3e8e1833d9308",
       "value": 3
      }
     },
     "deaf4b8d9dd84a30b4b4124b2958ebd4": {
      "model_module": "@jupyter-widgets/controls",
      "model_module_version": "1.0.0",
      "model_name": "ProgressStyleModel",
      "state": {
       "description_width": ""
      }
     },
     "f0204fabcc9040fa94cb5f50460b9b03": {
      "model_module": "@jupyter-widgets/base",
      "model_module_version": "1.0.0",
      "model_name": "LayoutModel",
      "state": {}
     },
     "f8b5bbaa97f54eb4b08edb2cdf80507a": {
      "model_module": "@jupyter-widgets/base",
      "model_module_version": "1.0.0",
      "model_name": "LayoutModel",
      "state": {}
     }
    },
    "version_major": 2,
    "version_minor": 0
   }
  }
 },
 "nbformat": 4,
 "nbformat_minor": 2
}
