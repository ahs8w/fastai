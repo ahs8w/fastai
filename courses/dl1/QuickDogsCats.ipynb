{
 "cells": [
  {
   "cell_type": "code",
   "execution_count": 1,
   "metadata": {},
   "outputs": [],
   "source": [
    "from fastai.conv_learner import *\n",
    "PATH = 'data/dogscats/'\n",
    "sz=224"
   ]
  },
  {
   "cell_type": "code",
   "execution_count": 2,
   "metadata": {},
   "outputs": [
    {
     "data": {
      "application/vnd.jupyter.widget-view+json": {
       "model_id": "c7e6247f13cb4ccba42f0b7aa81099ae",
       "version_major": 2,
       "version_minor": 0
      },
      "text/html": [
       "<p>Failed to display Jupyter Widget of type <code>HBox</code>.</p>\n",
       "<p>\n",
       "  If you're reading this message in the Jupyter Notebook or JupyterLab Notebook, it may mean\n",
       "  that the widgets JavaScript is still loading. If this message persists, it\n",
       "  likely means that the widgets JavaScript library is either not installed or\n",
       "  not enabled. See the <a href=\"https://ipywidgets.readthedocs.io/en/stable/user_install.html\">Jupyter\n",
       "  Widgets Documentation</a> for setup instructions.\n",
       "</p>\n",
       "<p>\n",
       "  If you're reading this message in another frontend (for example, a static\n",
       "  rendering on GitHub or <a href=\"https://nbviewer.jupyter.org/\">NBViewer</a>),\n",
       "  it may mean that your frontend doesn't currently support widgets.\n",
       "</p>\n"
      ],
      "text/plain": [
       "HBox(children=(IntProgress(value=0, description='Epoch', max=3), HTML(value='')))"
      ]
     },
     "metadata": {},
     "output_type": "display_data"
    },
    {
     "name": "stdout",
     "output_type": "stream",
     "text": [
      "[ 0.       0.03901  0.02676  0.98926]                         \n",
      "[ 1.       0.03971  0.02543  0.98926]                         \n",
      "[ 2.       0.02977  0.02543  0.98926]                         \n",
      "\n",
      "CPU times: user 14min 5s, sys: 2min 9s, total: 16min 14s\n",
      "Wall time: 8min 9s\n"
     ]
    }
   ],
   "source": [
    "tfms = tfms_from_model(resnet50, sz, aug_tfms=transforms_side_on, max_zoom=1.1)\n",
    "data = ImageClassifierData.from_paths(PATH, tfms=tfms)\n",
    "learn = ConvLearner.pretrained(resnet50, data)\n",
    "\n",
    "%time learn.fit(1e-2, 3, cycle_len=1)"
   ]
  },
  {
   "cell_type": "code",
   "execution_count": 3,
   "metadata": {},
   "outputs": [
    {
     "data": {
      "application/vnd.jupyter.widget-view+json": {
       "model_id": "126a08d768034f7c9790a13e20a11ab8",
       "version_major": 2,
       "version_minor": 0
      },
      "text/html": [
       "<p>Failed to display Jupyter Widget of type <code>HBox</code>.</p>\n",
       "<p>\n",
       "  If you're reading this message in the Jupyter Notebook or JupyterLab Notebook, it may mean\n",
       "  that the widgets JavaScript is still loading. If this message persists, it\n",
       "  likely means that the widgets JavaScript library is either not installed or\n",
       "  not enabled. See the <a href=\"https://ipywidgets.readthedocs.io/en/stable/user_install.html\">Jupyter\n",
       "  Widgets Documentation</a> for setup instructions.\n",
       "</p>\n",
       "<p>\n",
       "  If you're reading this message in another frontend (for example, a static\n",
       "  rendering on GitHub or <a href=\"https://nbviewer.jupyter.org/\">NBViewer</a>),\n",
       "  it may mean that your frontend doesn't currently support widgets.\n",
       "</p>\n"
      ],
      "text/plain": [
       "HBox(children=(IntProgress(value=0, description='Epoch', max=1), HTML(value='')))"
      ]
     },
     "metadata": {},
     "output_type": "display_data"
    },
    {
     "name": "stdout",
     "output_type": "stream",
     "text": [
      "[ 0.       0.02846  0.02357  0.9917 ]                         \n",
      "\n",
      "CPU times: user 9min 20s, sys: 1min 14s, total: 10min 34s\n",
      "Wall time: 7min 51s\n"
     ]
    }
   ],
   "source": [
    "learn.unfreeze()\n",
    "learn.bn_freeze(True)\n",
    "# if architecture is greater than resnet34 (i.e. resnet50 or resnext101)\n",
    "# if dataset is similar to imagenet (side on images, standard objects, similar size)\n",
    "# causing batch normalization - moving averages to not be updated\n",
    "\n",
    "%time learn.fit([1e-5, 1e-4, 1e-2], 1, cycle_len=1)"
   ]
  },
  {
   "cell_type": "code",
   "execution_count": null,
   "metadata": {},
   "outputs": [],
   "source": [
    "%time log_preds,y = learn.TTA()"
   ]
  },
  {
   "cell_type": "code",
   "execution_count": 14,
   "metadata": {},
   "outputs": [
    {
     "data": {
      "text/plain": [
       "(0.017752404270271901, 0.99399999999999999)"
      ]
     },
     "execution_count": 14,
     "metadata": {},
     "output_type": "execute_result"
    }
   ],
   "source": [
    "probs = np.mean(np.exp(log_preds),0)\n",
    "metrics.log_loss(y, probs), accuracy(probs,y)"
   ]
  },
  {
   "cell_type": "code",
   "execution_count": null,
   "metadata": {},
   "outputs": [],
   "source": []
  }
 ],
 "metadata": {
  "kernelspec": {
   "display_name": "Python 3",
   "language": "python",
   "name": "python3"
  },
  "language_info": {
   "codemirror_mode": {
    "name": "ipython",
    "version": 3
   },
   "file_extension": ".py",
   "mimetype": "text/x-python",
   "name": "python",
   "nbconvert_exporter": "python",
   "pygments_lexer": "ipython3",
   "version": "3.6.4"
  },
  "widgets": {
   "application/vnd.jupyter.widget-state+json": {
    "state": {
     "0289b5c73a6b4ea1a8acc051b3ced227": {
      "model_module": "@jupyter-widgets/base",
      "model_module_version": "1.0.0",
      "model_name": "LayoutModel",
      "state": {}
     },
     "06ab3fe1d7eb4320b817a8c3c05fa5ec": {
      "model_module": "@jupyter-widgets/controls",
      "model_module_version": "1.0.0",
      "model_name": "ProgressStyleModel",
      "state": {
       "description_width": ""
      }
     },
     "06f541a54ec74d67af514e8c47c5a590": {
      "model_module": "@jupyter-widgets/controls",
      "model_module_version": "1.0.0",
      "model_name": "IntProgressModel",
      "state": {
       "bar_style": "success",
       "description": "Epoch",
       "layout": "IPY_MODEL_f59f380ce436435da4f53e57ae95b0c2",
       "max": 3,
       "style": "IPY_MODEL_1e2c0ca9faf540d1bef7fc66b1835700",
       "value": 3
      }
     },
     "0b6b78b9425e4a6ea10d1ab03f535e2b": {
      "model_module": "@jupyter-widgets/base",
      "model_module_version": "1.0.0",
      "model_name": "LayoutModel",
      "state": {}
     },
     "11686e6861644737a84be3ce8623b1fe": {
      "model_module": "@jupyter-widgets/controls",
      "model_module_version": "1.0.0",
      "model_name": "DescriptionStyleModel",
      "state": {
       "description_width": ""
      }
     },
     "126a08d768034f7c9790a13e20a11ab8": {
      "model_module": "@jupyter-widgets/controls",
      "model_module_version": "1.0.0",
      "model_name": "HBoxModel",
      "state": {
       "children": [
        "IPY_MODEL_b793f820884147a6a45fab55e9c1b205",
        "IPY_MODEL_f7c36107698b4b20ad115bffa602b16a"
       ],
       "layout": "IPY_MODEL_16c473b3d8454c4c85a9664b0c439a88"
      }
     },
     "1342e8a5f5884800924f5d555096b40c": {
      "model_module": "@jupyter-widgets/controls",
      "model_module_version": "1.0.0",
      "model_name": "ProgressStyleModel",
      "state": {
       "description_width": ""
      }
     },
     "16c473b3d8454c4c85a9664b0c439a88": {
      "model_module": "@jupyter-widgets/base",
      "model_module_version": "1.0.0",
      "model_name": "LayoutModel",
      "state": {}
     },
     "1e2c0ca9faf540d1bef7fc66b1835700": {
      "model_module": "@jupyter-widgets/controls",
      "model_module_version": "1.0.0",
      "model_name": "ProgressStyleModel",
      "state": {
       "description_width": ""
      }
     },
     "1f9fb1adf6a6496192692ce1eb75ceb6": {
      "model_module": "@jupyter-widgets/base",
      "model_module_version": "1.0.0",
      "model_name": "LayoutModel",
      "state": {}
     },
     "22042a4a24834a8fa5006e4660858400": {
      "model_module": "@jupyter-widgets/base",
      "model_module_version": "1.0.0",
      "model_name": "LayoutModel",
      "state": {}
     },
     "2b59b9a04a9440f5b7dd0403ea4b77f0": {
      "model_module": "@jupyter-widgets/controls",
      "model_module_version": "1.0.0",
      "model_name": "HBoxModel",
      "state": {
       "children": [
        "IPY_MODEL_78ab79567943490581885df500d0c978",
        "IPY_MODEL_90824f3627004e20b68dacd04d6b7922"
       ],
       "layout": "IPY_MODEL_0b6b78b9425e4a6ea10d1ab03f535e2b"
      }
     },
     "3c1de42a00f14f5799985b603b1f1377": {
      "model_module": "@jupyter-widgets/base",
      "model_module_version": "1.0.0",
      "model_name": "LayoutModel",
      "state": {}
     },
     "3e930bd56d144c28a7e26d510e8cc0b7": {
      "model_module": "@jupyter-widgets/controls",
      "model_module_version": "1.0.0",
      "model_name": "IntProgressModel",
      "state": {
       "bar_style": "danger",
       "description": "Epoch",
       "layout": "IPY_MODEL_0289b5c73a6b4ea1a8acc051b3ced227",
       "max": 1,
       "style": "IPY_MODEL_ce13339ab5fe4c7b8ba5aa762bfdeaea"
      }
     },
     "473976b1d99f4d488b2aba8dff1b70d0": {
      "model_module": "@jupyter-widgets/base",
      "model_module_version": "1.0.0",
      "model_name": "LayoutModel",
      "state": {}
     },
     "5fc5dafe0297438796a78e65d0060330": {
      "model_module": "@jupyter-widgets/controls",
      "model_module_version": "1.0.0",
      "model_name": "DescriptionStyleModel",
      "state": {
       "description_width": ""
      }
     },
     "62dbfb92d5dc4d2685d7eb0b0d630a56": {
      "model_module": "@jupyter-widgets/controls",
      "model_module_version": "1.0.0",
      "model_name": "DescriptionStyleModel",
      "state": {
       "description_width": ""
      }
     },
     "6bd6b9cf082c4bd48e72b2b1c0daac9b": {
      "model_module": "@jupyter-widgets/base",
      "model_module_version": "1.0.0",
      "model_name": "LayoutModel",
      "state": {}
     },
     "78ab79567943490581885df500d0c978": {
      "model_module": "@jupyter-widgets/controls",
      "model_module_version": "1.0.0",
      "model_name": "IntProgressModel",
      "state": {
       "bar_style": "success",
       "description": "Epoch",
       "layout": "IPY_MODEL_22042a4a24834a8fa5006e4660858400",
       "max": 3,
       "style": "IPY_MODEL_1342e8a5f5884800924f5d555096b40c",
       "value": 3
      }
     },
     "90824f3627004e20b68dacd04d6b7922": {
      "model_module": "@jupyter-widgets/controls",
      "model_module_version": "1.0.0",
      "model_name": "HTMLModel",
      "state": {
       "layout": "IPY_MODEL_3c1de42a00f14f5799985b603b1f1377",
       "style": "IPY_MODEL_e4745aa3c5164e84be0f9bf51049f77a",
       "value": "100% 3/3 [08:08&lt;00:00, 162.98s/it]"
      }
     },
     "91f9ef0ecc8e4154a215cd3832e7378c": {
      "model_module": "@jupyter-widgets/base",
      "model_module_version": "1.0.0",
      "model_name": "LayoutModel",
      "state": {}
     },
     "a2f02076db674f26a70bef8f49250389": {
      "model_module": "@jupyter-widgets/base",
      "model_module_version": "1.0.0",
      "model_name": "LayoutModel",
      "state": {}
     },
     "a8392ffdf50d408191de5730c863a734": {
      "model_module": "@jupyter-widgets/controls",
      "model_module_version": "1.0.0",
      "model_name": "HTMLModel",
      "state": {
       "layout": "IPY_MODEL_6bd6b9cf082c4bd48e72b2b1c0daac9b",
       "style": "IPY_MODEL_11686e6861644737a84be3ce8623b1fe",
       "value": "100% 3/3 [08:09&lt;00:00, 163.21s/it]"
      }
     },
     "b506eec0fb50465f87e513df783d9055": {
      "model_module": "@jupyter-widgets/controls",
      "model_module_version": "1.0.0",
      "model_name": "HTMLModel",
      "state": {
       "layout": "IPY_MODEL_91f9ef0ecc8e4154a215cd3832e7378c",
       "style": "IPY_MODEL_62dbfb92d5dc4d2685d7eb0b0d630a56",
       "value": "  0% 0/1 [00:00&lt;?, ?it/s]"
      }
     },
     "b793f820884147a6a45fab55e9c1b205": {
      "model_module": "@jupyter-widgets/controls",
      "model_module_version": "1.0.0",
      "model_name": "IntProgressModel",
      "state": {
       "bar_style": "success",
       "description": "Epoch",
       "layout": "IPY_MODEL_a2f02076db674f26a70bef8f49250389",
       "max": 1,
       "style": "IPY_MODEL_06ab3fe1d7eb4320b817a8c3c05fa5ec",
       "value": 1
      }
     },
     "bb4eb0c96fe14d11aa49edeedb8993b5": {
      "model_module": "@jupyter-widgets/base",
      "model_module_version": "1.0.0",
      "model_name": "LayoutModel",
      "state": {}
     },
     "c7e6247f13cb4ccba42f0b7aa81099ae": {
      "model_module": "@jupyter-widgets/controls",
      "model_module_version": "1.0.0",
      "model_name": "HBoxModel",
      "state": {
       "children": [
        "IPY_MODEL_06f541a54ec74d67af514e8c47c5a590",
        "IPY_MODEL_a8392ffdf50d408191de5730c863a734"
       ],
       "layout": "IPY_MODEL_473976b1d99f4d488b2aba8dff1b70d0"
      }
     },
     "ce13339ab5fe4c7b8ba5aa762bfdeaea": {
      "model_module": "@jupyter-widgets/controls",
      "model_module_version": "1.0.0",
      "model_name": "ProgressStyleModel",
      "state": {
       "description_width": ""
      }
     },
     "d1936c078fae47a8a2d3558fbae0618a": {
      "model_module": "@jupyter-widgets/controls",
      "model_module_version": "1.0.0",
      "model_name": "HBoxModel",
      "state": {
       "children": [
        "IPY_MODEL_3e930bd56d144c28a7e26d510e8cc0b7",
        "IPY_MODEL_b506eec0fb50465f87e513df783d9055"
       ],
       "layout": "IPY_MODEL_1f9fb1adf6a6496192692ce1eb75ceb6"
      }
     },
     "e4745aa3c5164e84be0f9bf51049f77a": {
      "model_module": "@jupyter-widgets/controls",
      "model_module_version": "1.0.0",
      "model_name": "DescriptionStyleModel",
      "state": {
       "description_width": ""
      }
     },
     "f59f380ce436435da4f53e57ae95b0c2": {
      "model_module": "@jupyter-widgets/base",
      "model_module_version": "1.0.0",
      "model_name": "LayoutModel",
      "state": {}
     },
     "f7c36107698b4b20ad115bffa602b16a": {
      "model_module": "@jupyter-widgets/controls",
      "model_module_version": "1.0.0",
      "model_name": "HTMLModel",
      "state": {
       "layout": "IPY_MODEL_bb4eb0c96fe14d11aa49edeedb8993b5",
       "style": "IPY_MODEL_5fc5dafe0297438796a78e65d0060330",
       "value": "100% 1/1 [07:51&lt;00:00, 471.00s/it]"
      }
     }
    },
    "version_major": 2,
    "version_minor": 0
   }
  }
 },
 "nbformat": 4,
 "nbformat_minor": 2
}
