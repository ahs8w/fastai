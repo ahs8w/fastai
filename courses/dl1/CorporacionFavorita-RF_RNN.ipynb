{
 "cells": [
  {
   "cell_type": "code",
   "execution_count": 1,
   "metadata": {
    "ExecuteTime": {
     "end_time": "2018-03-16T15:17:34.158478Z",
     "start_time": "2018-03-16T15:17:33.737807Z"
    },
    "collapsed": true
   },
   "outputs": [],
   "source": [
    "%matplotlib inline\n",
    "%reload_ext autoreload\n",
    "%autoreload 2"
   ]
  },
  {
   "cell_type": "code",
   "execution_count": 2,
   "metadata": {
    "ExecuteTime": {
     "end_time": "2018-03-16T15:17:35.970250Z",
     "start_time": "2018-03-16T15:17:34.318187Z"
    },
    "collapsed": true
   },
   "outputs": [],
   "source": [
    "from fastai.structured import *\n",
    "# from fastai.column_data import *\n",
    "np.set_printoptions(threshold=50, edgeitems=25)\n",
    "\n",
    "PATH='data/favorita/'"
   ]
  },
  {
   "cell_type": "code",
   "execution_count": 3,
   "metadata": {
    "ExecuteTime": {
     "end_time": "2018-03-16T15:17:36.226061Z",
     "start_time": "2018-03-16T15:17:36.061962Z"
    }
   },
   "outputs": [
    {
     "name": "stdout",
     "output_type": "stream",
     "text": [
      "holidays_events.csv        stores.csv\r\n",
      "items.csv                  test.csv\r\n",
      "oil.csv                    train.csv\r\n",
      "\u001b[34mrf_rnn\u001b[m\u001b[m                     train_six_months_full_data\r\n",
      "sample_submission.csv      transactions.csv\r\n"
     ]
    }
   ],
   "source": [
    "!ls {PATH}"
   ]
  },
  {
   "cell_type": "code",
   "execution_count": 4,
   "metadata": {
    "ExecuteTime": {
     "end_time": "2018-03-16T15:17:36.364041Z",
     "start_time": "2018-03-16T15:17:36.325057Z"
    },
    "collapsed": true
   },
   "outputs": [],
   "source": [
    "from IPython.display import HTML"
   ]
  },
  {
   "cell_type": "markdown",
   "metadata": {},
   "source": [
    "# Standard ML workflow:\n",
    "\n",
    "1. State the question and determine required data\n",
    "2. Acquire the data in an accessible format\n",
    "3. Identify and correct missing data points/anomalies as required\n",
    "4. Prepare the data for the machine learning model\n",
    "5. Establish a baseline model that you aim to exceed\n",
    "6. Train the model on the training data\n",
    "7. Make predictions on the test data\n",
    "8. Compare predictions to the known test set targets and calculate performance metrics\n",
    "9. If performance is not satisfactory, adjust the model, acquire more data, or try a different modeling technique\n",
    "10. Interpret model and report results visually and numerically"
   ]
  },
  {
   "cell_type": "markdown",
   "metadata": {
    "heading_collapsed": true
   },
   "source": [
    "## Moving averages\n",
    "https://www.kaggle.com/paulorzp/log-ma-and-days-of-week-means-lb-0-529/code"
   ]
  },
  {
   "cell_type": "code",
   "execution_count": 10,
   "metadata": {
    "ExecuteTime": {
     "end_time": "2018-03-15T22:34:50.885570Z",
     "start_time": "2018-03-15T22:34:50.849156Z"
    },
    "collapsed": true,
    "hidden": true
   },
   "outputs": [],
   "source": [
    "dtypes = {'id':'uint32', 'item_nbr':'uint32', 'store_nbr':'uint8', 'unit_sales':'float32', 'onpromotion': np.dtype('bool')}"
   ]
  },
  {
   "cell_type": "code",
   "execution_count": 6,
   "metadata": {
    "ExecuteTime": {
     "end_time": "2018-03-15T21:52:58.057179Z",
     "start_time": "2018-03-15T21:51:36.930116Z"
    },
    "hidden": true
   },
   "outputs": [
    {
     "name": "stderr",
     "output_type": "stream",
     "text": [
      "/Users/adamschiller/anaconda3/lib/python3.6/site-packages/numpy/lib/arraysetops.py:463: FutureWarning: elementwise comparison failed; returning scalar instead, but in the future will perform elementwise comparison\n",
      "  mask |= (ar1 == a)\n"
     ]
    }
   ],
   "source": [
    "train = pd.read_csv(f'{PATH}train.csv', index_col='id', dtype=dtypes, parse_dates=['date'], skiprows=range(1, 86672217))  #Skip dates before 2016-08-01"
   ]
  },
  {
   "cell_type": "code",
   "execution_count": 7,
   "metadata": {
    "ExecuteTime": {
     "end_time": "2018-03-15T21:53:45.366788Z",
     "start_time": "2018-03-15T21:52:58.156073Z"
    },
    "collapsed": true,
    "hidden": true
   },
   "outputs": [],
   "source": [
    "# creating records for all items, in all markets on all dates\n",
    "# for correct calculation of daily unit sales averages.\n",
    "u_dates = train.date.unique()\n",
    "u_stores = train.store_nbr.unique()\n",
    "u_items = train.item_nbr.unique()\n",
    "train.set_index(['date', 'store_nbr', 'item_nbr'], inplace=True)\n",
    "train = train.reindex(\n",
    "    pd.MultiIndex.from_product(\n",
    "        (u_dates, u_stores, u_items),\n",
    "        names=['date','store_nbr','item_nbr']\n",
    "    )\n",
    ").reset_index()\n",
    "\n",
    "del u_dates, u_stores, u_items\n",
    "\n",
    "train.loc[:, 'unit_sales'].fillna(0, inplace=True) # fill NaNs\n",
    "train.loc[:, 'onpromotion'].fillna(False, inplace=True) # fill NaNs\n",
    "lastdate = train.iloc[train.shape[0]-1].date"
   ]
  },
  {
   "cell_type": "code",
   "execution_count": 9,
   "metadata": {
    "ExecuteTime": {
     "end_time": "2018-03-15T22:00:08.282226Z",
     "start_time": "2018-03-15T21:59:54.835379Z"
    },
    "collapsed": true,
    "hidden": true
   },
   "outputs": [],
   "source": [
    "train.loc[(train.unit_sales<0),'unit_sales'] = 0 # eliminate negatives\n",
    "train['unit_sales'] =  train['unit_sales'].apply(pd.np.log1p) #logarithm conversion\n",
    "train['dow'] = train['date'].dt.dayofweek\n",
    "train['dom'] = train['date'].dt.day"
   ]
  },
  {
   "cell_type": "code",
   "execution_count": 11,
   "metadata": {
    "ExecuteTime": {
     "end_time": "2018-03-15T22:00:45.510407Z",
     "start_time": "2018-03-15T22:00:40.185874Z"
    },
    "collapsed": true,
    "hidden": true
   },
   "outputs": [],
   "source": [
    "os.makedirs(f'{PATH}rf_rnn', exist_ok=True)\n",
    "train.to_feather(f'{PATH}rf_rnn/train_full_year')"
   ]
  },
  {
   "cell_type": "code",
   "execution_count": 5,
   "metadata": {
    "ExecuteTime": {
     "end_time": "2018-03-15T22:32:30.615849Z",
     "start_time": "2018-03-15T22:32:13.942319Z"
    },
    "collapsed": true,
    "hidden": true
   },
   "outputs": [],
   "source": [
    "train = pd.read_feather(f'{PATH}rf_rnn/train_full_year')\n",
    "dtypes = {'id':'uint32', 'item_nbr':'uint32', 'store_nbr':'uint8', 'unit_sales':'float32', 'onpromotion': np.dtype('bool')}\n",
    "lastdate = train.iloc[train.shape[0]-1].date"
   ]
  },
  {
   "cell_type": "code",
   "execution_count": 6,
   "metadata": {
    "ExecuteTime": {
     "end_time": "2018-03-15T22:32:53.899813Z",
     "start_time": "2018-03-15T22:32:33.322967Z"
    },
    "collapsed": true,
    "hidden": true
   },
   "outputs": [],
   "source": [
    "#Days of Week Means\n",
    "#By tarobxl: https://www.kaggle.com/c/favorita-grocery-sales-forecasting/discussion/42948\n",
    "ma_dw = train[['item_nbr','store_nbr','dow','unit_sales']].groupby(\n",
    "        ['item_nbr','store_nbr','dow'])['unit_sales'].mean().to_frame('madw').reset_index()\n",
    "ma_wk = ma_dw[['item_nbr','store_nbr','madw']].groupby(\n",
    "        ['store_nbr', 'item_nbr'])['madw'].mean().to_frame('mawk').reset_index()"
   ]
  },
  {
   "cell_type": "code",
   "execution_count": 7,
   "metadata": {
    "ExecuteTime": {
     "end_time": "2018-03-15T22:33:21.594766Z",
     "start_time": "2018-03-15T22:32:54.027012Z"
    },
    "collapsed": true,
    "hidden": true
   },
   "outputs": [],
   "source": [
    "#Days of Month Means\n",
    "ma_dm = train[['item_nbr','store_nbr','dom','unit_sales']].groupby(\n",
    "    ['item_nbr','store_nbr','dom'])['unit_sales'].mean().to_frame('madm').reset_index()\n",
    "ma_mo = ma_dm[['item_nbr','store_nbr','madm']].groupby(\n",
    "    ['item_nbr','store_nbr'])['madm'].mean().to_frame('mamo').reset_index()"
   ]
  },
  {
   "cell_type": "code",
   "execution_count": 8,
   "metadata": {
    "ExecuteTime": {
     "end_time": "2018-03-15T22:33:54.609459Z",
     "start_time": "2018-03-15T22:33:27.592774Z"
    },
    "collapsed": true,
    "hidden": true
   },
   "outputs": [],
   "source": [
    "from datetime import timedelta\n",
    "\n",
    "#Moving Averages\n",
    "ma_is = train[['item_nbr','store_nbr','unit_sales']].groupby(\n",
    "        ['item_nbr','store_nbr'])['unit_sales'].mean().to_frame('mais')\n",
    "\n",
    "for i in [112,56,28,14,7,3,1]:\n",
    "    tmp = train[train.date>lastdate-timedelta(int(i))]\n",
    "    tmpg = tmp.groupby(['item_nbr','store_nbr'])['unit_sales'].mean().to_frame('mais'+str(i))\n",
    "    ma_is = ma_is.join(tmpg, how='left')\n",
    "\n",
    "del tmp,tmpg\n",
    "\n",
    "ma_is['mais']=ma_is.median(axis=1)\n",
    "ma_is.reset_index(inplace=True)\n",
    "ma_is.drop(list(ma_is.columns.values)[3:],1,inplace=True)"
   ]
  },
  {
   "cell_type": "code",
   "execution_count": 11,
   "metadata": {
    "ExecuteTime": {
     "end_time": "2018-03-15T22:34:59.655925Z",
     "start_time": "2018-03-15T22:34:55.961357Z"
    },
    "collapsed": true,
    "hidden": true
   },
   "outputs": [],
   "source": [
    "#Load test\n",
    "test = pd.read_csv(f'{PATH}test.csv', dtype=dtypes, parse_dates=['date'])\n",
    "test['dow'] = test['date'].dt.dayofweek\n",
    "test['dom'] = test['date'].dt.day"
   ]
  },
  {
   "cell_type": "code",
   "execution_count": null,
   "metadata": {
    "ExecuteTime": {
     "start_time": "2018-03-15T22:14:09.626Z"
    },
    "collapsed": true,
    "hidden": true
   },
   "outputs": [],
   "source": [
    "# merge moving averages onto test df\n",
    "test = pd.merge(test, ma_is, how='left', on=['item_nbr','store_nbr'])\n",
    "test = pd.merge(test, ma_wk, how='left', on=['item_nbr','store_nbr'])\n",
    "test = pd.merge(test, ma_mo, how='left', on=['item_nbr','store_nbr'])\n",
    "test = pd.merge(test, ma_dw, how='left', on=['item_nbr','store_nbr','dow'])\n",
    "test = pd.merge(test, ma_dm, how='left', on=['item_nbr','store_nbr','dom'])\n",
    "\n",
    "# merge moving averages onto train df\n",
    "train = pd.merge(train, ma_is, how='left', on=['item_nbr','store_nbr'])\n",
    "train = pd.merge(train, ma_wk, how='left', on=['item_nbr','store_nbr'])\n",
    "train = pd.merge(train, ma_mo, how='left', on=['item_nbr','store_nbr'])\n",
    "train = pd.merge(train, ma_dw, how='left', on=['item_nbr','store_nbr','dow'])\n",
    "train = pd.merge(train, ma_dm, how='left', on=['item_nbr','store_nbr','dom'])"
   ]
  },
  {
   "cell_type": "code",
   "execution_count": 14,
   "metadata": {
    "ExecuteTime": {
     "end_time": "2018-03-12T19:12:21.945948Z",
     "start_time": "2018-03-12T19:12:21.925976Z"
    },
    "collapsed": true,
    "hidden": true
   },
   "outputs": [],
   "source": [
    "del ma_is, ma_wk, ma_dw, ma_dm, ma_mo"
   ]
  },
  {
   "cell_type": "code",
   "execution_count": 28,
   "metadata": {
    "ExecuteTime": {
     "end_time": "2018-03-15T22:44:34.104836Z",
     "start_time": "2018-03-15T22:44:23.525189Z"
    },
    "collapsed": true,
    "hidden": true
   },
   "outputs": [],
   "source": [
    "train.to_feather(f'{PATH}rf_rnn/train_w_averages')\n",
    "test.to_feather(f'{PATH}rf_rnn/test_w_averages')"
   ]
  },
  {
   "cell_type": "markdown",
   "metadata": {
    "heading_collapsed": true
   },
   "source": [
    "## Calculate averages for train/test"
   ]
  },
  {
   "cell_type": "code",
   "execution_count": 31,
   "metadata": {
    "ExecuteTime": {
     "end_time": "2018-03-15T22:54:23.211388Z",
     "start_time": "2018-03-15T22:53:50.881485Z"
    },
    "collapsed": true,
    "hidden": true
   },
   "outputs": [],
   "source": [
    "# avg price * dow multiplier\n",
    "train['avg_dow'] = train.mais\n",
    "pos_idx = train['mawk'] > 0  # avoid division by zero error\n",
    "train_pos = train.loc[pos_idx]\n",
    "train.loc[pos_idx, 'avg_dow'] = train_pos['mais'] * train_pos['madw'] / train_pos['mawk']\n",
    "train.loc[:, 'avg_dow'].fillna(0, inplace=True)\n",
    "train.drop(['mawk', 'madw', 'dow'], axis=1, inplace=True)"
   ]
  },
  {
   "cell_type": "code",
   "execution_count": 32,
   "metadata": {
    "ExecuteTime": {
     "end_time": "2018-03-15T22:54:55.371165Z",
     "start_time": "2018-03-15T22:54:26.771002Z"
    },
    "hidden": true
   },
   "outputs": [
    {
     "data": {
      "text/html": [
       "<div>\n",
       "<style>\n",
       "    .dataframe thead tr:only-child th {\n",
       "        text-align: right;\n",
       "    }\n",
       "\n",
       "    .dataframe thead th {\n",
       "        text-align: left;\n",
       "    }\n",
       "\n",
       "    .dataframe tbody tr th {\n",
       "        vertical-align: top;\n",
       "    }\n",
       "</style>\n",
       "<table border=\"1\" class=\"dataframe\">\n",
       "  <thead>\n",
       "    <tr style=\"text-align: right;\">\n",
       "      <th></th>\n",
       "      <th>date</th>\n",
       "      <th>store_nbr</th>\n",
       "      <th>item_nbr</th>\n",
       "      <th>unit_sales</th>\n",
       "      <th>onpromotion</th>\n",
       "      <th>avg_dow</th>\n",
       "      <th>avg_dom</th>\n",
       "    </tr>\n",
       "  </thead>\n",
       "  <tbody>\n",
       "    <tr>\n",
       "      <th>0</th>\n",
       "      <td>2016-08-01</td>\n",
       "      <td>1</td>\n",
       "      <td>103520</td>\n",
       "      <td>0.869742</td>\n",
       "      <td>False</td>\n",
       "      <td>0.456681</td>\n",
       "      <td>0.542221</td>\n",
       "    </tr>\n",
       "    <tr>\n",
       "      <th>1</th>\n",
       "      <td>2016-08-01</td>\n",
       "      <td>1</td>\n",
       "      <td>103665</td>\n",
       "      <td>0.741276</td>\n",
       "      <td>False</td>\n",
       "      <td>0.515578</td>\n",
       "      <td>0.523228</td>\n",
       "    </tr>\n",
       "    <tr>\n",
       "      <th>2</th>\n",
       "      <td>2016-08-01</td>\n",
       "      <td>1</td>\n",
       "      <td>105574</td>\n",
       "      <td>1.124748</td>\n",
       "      <td>False</td>\n",
       "      <td>1.034287</td>\n",
       "      <td>1.000571</td>\n",
       "    </tr>\n",
       "    <tr>\n",
       "      <th>3</th>\n",
       "      <td>2016-08-01</td>\n",
       "      <td>1</td>\n",
       "      <td>105575</td>\n",
       "      <td>1.291725</td>\n",
       "      <td>False</td>\n",
       "      <td>1.209559</td>\n",
       "      <td>1.137517</td>\n",
       "    </tr>\n",
       "    <tr>\n",
       "      <th>4</th>\n",
       "      <td>2016-08-01</td>\n",
       "      <td>1</td>\n",
       "      <td>105577</td>\n",
       "      <td>0.741276</td>\n",
       "      <td>False</td>\n",
       "      <td>0.380684</td>\n",
       "      <td>0.587766</td>\n",
       "    </tr>\n",
       "  </tbody>\n",
       "</table>\n",
       "</div>"
      ],
      "text/plain": [
       "        date  store_nbr  item_nbr  unit_sales  onpromotion   avg_dow   avg_dom\n",
       "0 2016-08-01          1    103520    0.869742        False  0.456681  0.542221\n",
       "1 2016-08-01          1    103665    0.741276        False  0.515578  0.523228\n",
       "2 2016-08-01          1    105574    1.124748        False  1.034287  1.000571\n",
       "3 2016-08-01          1    105575    1.291725        False  1.209559  1.137517\n",
       "4 2016-08-01          1    105577    0.741276        False  0.380684  0.587766"
      ]
     },
     "execution_count": 32,
     "metadata": {},
     "output_type": "execute_result"
    }
   ],
   "source": [
    "# avg price * dom multiplier\n",
    "train['avg_dom'] = train.mais\n",
    "pos_idx = train['mamo'] > 0  # avoid division by zero error\n",
    "train_pos = train.loc[pos_idx]\n",
    "train.loc[pos_idx, 'avg_dom'] = train_pos['mais'] * train_pos['madm'] / train_pos['mamo']\n",
    "train.loc[:, 'avg_dom'].fillna(0, inplace=True)\n",
    "train.drop(['mais', 'mamo', 'madm', 'dom'], axis=1, inplace=True); train.head()"
   ]
  },
  {
   "cell_type": "code",
   "execution_count": null,
   "metadata": {
    "ExecuteTime": {
     "end_time": "2018-03-15T22:55:41.337665Z",
     "start_time": "2018-03-15T22:55:40.299658Z"
    },
    "collapsed": true,
    "hidden": true,
    "scrolled": true
   },
   "outputs": [],
   "source": [
    "test['avg_dow'] = test.mais\n",
    "pos_idx = test['mawk'] > 0\n",
    "test_pos = test.loc[pos_idx]\n",
    "test.loc[pos_idx, 'avg_dow'] = test_pos['mais'] * test_pos['madw'] / test_pos['mawk']\n",
    "test.loc[:, 'avg_dow'].fillna(0, inplace=True)\n",
    "test.drop(['mawk', 'madw', 'dow'], axis=1, inplace=True)"
   ]
  },
  {
   "cell_type": "code",
   "execution_count": 34,
   "metadata": {
    "ExecuteTime": {
     "end_time": "2018-03-15T22:56:53.970340Z",
     "start_time": "2018-03-15T22:56:53.528607Z"
    },
    "hidden": true
   },
   "outputs": [
    {
     "data": {
      "text/html": [
       "<div>\n",
       "<style>\n",
       "    .dataframe thead tr:only-child th {\n",
       "        text-align: right;\n",
       "    }\n",
       "\n",
       "    .dataframe thead th {\n",
       "        text-align: left;\n",
       "    }\n",
       "\n",
       "    .dataframe tbody tr th {\n",
       "        vertical-align: top;\n",
       "    }\n",
       "</style>\n",
       "<table border=\"1\" class=\"dataframe\">\n",
       "  <thead>\n",
       "    <tr style=\"text-align: right;\">\n",
       "      <th></th>\n",
       "      <th>id</th>\n",
       "      <th>date</th>\n",
       "      <th>store_nbr</th>\n",
       "      <th>item_nbr</th>\n",
       "      <th>onpromotion</th>\n",
       "      <th>avg_dow</th>\n",
       "      <th>avg_dom</th>\n",
       "    </tr>\n",
       "  </thead>\n",
       "  <tbody>\n",
       "    <tr>\n",
       "      <th>0</th>\n",
       "      <td>125497040</td>\n",
       "      <td>2017-08-16</td>\n",
       "      <td>1</td>\n",
       "      <td>96995</td>\n",
       "      <td>False</td>\n",
       "      <td>0.089730</td>\n",
       "      <td>0.000000</td>\n",
       "    </tr>\n",
       "    <tr>\n",
       "      <th>1</th>\n",
       "      <td>125497041</td>\n",
       "      <td>2017-08-16</td>\n",
       "      <td>1</td>\n",
       "      <td>99197</td>\n",
       "      <td>False</td>\n",
       "      <td>0.151750</td>\n",
       "      <td>0.062994</td>\n",
       "    </tr>\n",
       "    <tr>\n",
       "      <th>2</th>\n",
       "      <td>125497042</td>\n",
       "      <td>2017-08-16</td>\n",
       "      <td>1</td>\n",
       "      <td>103501</td>\n",
       "      <td>False</td>\n",
       "      <td>0.000000</td>\n",
       "      <td>0.000000</td>\n",
       "    </tr>\n",
       "    <tr>\n",
       "      <th>3</th>\n",
       "      <td>125497043</td>\n",
       "      <td>2017-08-16</td>\n",
       "      <td>1</td>\n",
       "      <td>103520</td>\n",
       "      <td>False</td>\n",
       "      <td>0.503904</td>\n",
       "      <td>0.403077</td>\n",
       "    </tr>\n",
       "    <tr>\n",
       "      <th>4</th>\n",
       "      <td>125497044</td>\n",
       "      <td>2017-08-16</td>\n",
       "      <td>1</td>\n",
       "      <td>103665</td>\n",
       "      <td>False</td>\n",
       "      <td>0.629691</td>\n",
       "      <td>0.689135</td>\n",
       "    </tr>\n",
       "  </tbody>\n",
       "</table>\n",
       "</div>"
      ],
      "text/plain": [
       "          id       date  store_nbr  item_nbr  onpromotion   avg_dow   avg_dom\n",
       "0  125497040 2017-08-16          1     96995        False  0.089730  0.000000\n",
       "1  125497041 2017-08-16          1     99197        False  0.151750  0.062994\n",
       "2  125497042 2017-08-16          1    103501        False  0.000000  0.000000\n",
       "3  125497043 2017-08-16          1    103520        False  0.503904  0.403077\n",
       "4  125497044 2017-08-16          1    103665        False  0.629691  0.689135"
      ]
     },
     "execution_count": 34,
     "metadata": {},
     "output_type": "execute_result"
    }
   ],
   "source": [
    "test['avg_dom'] = test.mais\n",
    "pos_idx = test['mamo'] > 0\n",
    "test_pos = test.loc[pos_idx]\n",
    "test.loc[pos_idx, 'avg_dom'] = test_pos['mais'] * test_pos['madm'] / test_pos['mamo']\n",
    "test.loc[:, \"avg_dom\"].fillna(0, inplace=True)\n",
    "test.drop(['mais', 'mamo', 'madm', 'dom'], axis=1, inplace=True); test.head()"
   ]
  },
  {
   "cell_type": "code",
   "execution_count": 54,
   "metadata": {
    "ExecuteTime": {
     "end_time": "2018-03-15T23:52:13.155920Z",
     "start_time": "2018-03-15T23:52:13.119525Z"
    },
    "collapsed": true,
    "hidden": true
   },
   "outputs": [],
   "source": [
    "del pos_idx, train_pos, test_pos"
   ]
  },
  {
   "cell_type": "code",
   "execution_count": 35,
   "metadata": {
    "ExecuteTime": {
     "end_time": "2018-03-15T22:57:29.462461Z",
     "start_time": "2018-03-15T22:57:23.430541Z"
    },
    "collapsed": true,
    "hidden": true
   },
   "outputs": [],
   "source": [
    "train.to_feather(f'{PATH}rf_rnn/train_w_averages')\n",
    "test.to_feather(f'{PATH}rf_rnn/test_w_averages')"
   ]
  },
  {
   "cell_type": "markdown",
   "metadata": {
    "heading_collapsed": true
   },
   "source": [
    "## Establish baseline (moving averages)"
   ]
  },
  {
   "cell_type": "code",
   "execution_count": 18,
   "metadata": {
    "ExecuteTime": {
     "end_time": "2018-03-13T16:23:10.084613Z",
     "start_time": "2018-03-13T16:23:10.066197Z"
    },
    "collapsed": true,
    "hidden": true
   },
   "outputs": [],
   "source": [
    "# Root Mean Squared Logarathimic Error\n",
    "# kaggle definition\n",
    "# np.square(np.log(y_pred + 1) - np.log(y_true + 1)).mean() ** 0.5\n",
    "\n",
    "def rmsle(pred, targ):\n",
    "    # pred and targs are both log1p values already\n",
    "    mean_diff = np.square(pred - targ).mean()\n",
    "    return round(math.sqrt(mean_diff), 4)"
   ]
  },
  {
   "cell_type": "code",
   "execution_count": 30,
   "metadata": {
    "ExecuteTime": {
     "end_time": "2018-03-12T19:22:58.081685Z",
     "start_time": "2018-03-12T19:22:54.725581Z"
    },
    "collapsed": true,
    "hidden": true
   },
   "outputs": [],
   "source": [
    "# testing 25% more for promotion items\n",
    "# train['m_average_promo'] = train['m_average']\n",
    "# train.loc[train['onpromotion'] == True, 'm_average_promo'] *= 1.25\n",
    "\n",
    "# drop m_average_promo columns from train/valid\n",
    "# train.drop('m_average_promo', axis=1, inplace=True)\n",
    "# valid.drop('m_average_promo', axis=1, inplace=True)"
   ]
  },
  {
   "cell_type": "code",
   "execution_count": 19,
   "metadata": {
    "ExecuteTime": {
     "end_time": "2018-03-12T19:14:06.402788Z",
     "start_time": "2018-03-12T19:14:05.498311Z"
    },
    "hidden": true
   },
   "outputs": [
    {
     "data": {
      "text/plain": [
       "0.7158"
      ]
     },
     "execution_count": 19,
     "metadata": {},
     "output_type": "execute_result"
    }
   ],
   "source": [
    "# The baseline predictions on full training set\n",
    "rmsle(train.m_average, train.unit_sales)  #=> 0.7158"
   ]
  },
  {
   "cell_type": "code",
   "execution_count": 23,
   "metadata": {
    "ExecuteTime": {
     "end_time": "2018-03-12T19:17:20.147129Z",
     "start_time": "2018-03-12T19:17:19.248870Z"
    },
    "hidden": true
   },
   "outputs": [
    {
     "data": {
      "text/plain": [
       "0.7133"
      ]
     },
     "execution_count": 23,
     "metadata": {},
     "output_type": "execute_result"
    }
   ],
   "source": [
    "# baseline predictions on full training set w/ promo multiplier\n",
    "rmsle(train.m_average_promo, train.unit_sales)  #=> 0.7133"
   ]
  },
  {
   "cell_type": "code",
   "execution_count": 27,
   "metadata": {
    "ExecuteTime": {
     "end_time": "2018-03-12T19:19:03.075542Z",
     "start_time": "2018-03-12T19:19:02.970763Z"
    },
    "hidden": true
   },
   "outputs": [
    {
     "data": {
      "text/plain": [
       "0.5138"
      ]
     },
     "execution_count": 27,
     "metadata": {},
     "output_type": "execute_result"
    }
   ],
   "source": [
    "# baseline predictions on validation set\n",
    "rmsle(valid.m_average, valid.unit_sales)  #=> 0.5138"
   ]
  },
  {
   "cell_type": "code",
   "execution_count": 28,
   "metadata": {
    "ExecuteTime": {
     "end_time": "2018-03-12T19:19:28.524795Z",
     "start_time": "2018-03-12T19:19:28.420519Z"
    },
    "hidden": true
   },
   "outputs": [
    {
     "data": {
      "text/plain": [
       "0.5116"
      ]
     },
     "execution_count": 28,
     "metadata": {},
     "output_type": "execute_result"
    }
   ],
   "source": [
    "# baseline predictions on validation set w/ promo multiplier\n",
    "rmsle(valid.m_average_promo, valid.unit_sales)  #=> 0.5116"
   ]
  },
  {
   "cell_type": "markdown",
   "metadata": {
    "heading_collapsed": true,
    "hidden": true
   },
   "source": [
    "### Submit test on kaggle"
   ]
  },
  {
   "cell_type": "code",
   "execution_count": 42,
   "metadata": {
    "ExecuteTime": {
     "end_time": "2018-03-12T19:33:53.350133Z",
     "start_time": "2018-03-12T19:33:53.137039Z"
    },
    "collapsed": true,
    "hidden": true
   },
   "outputs": [],
   "source": [
    "# set unit_sales w/ promo multiplier\n",
    "test['unit_sales'] = test['m_average']\n",
    "test.loc[test['onpromotion'] == True, 'unit_sales'] *= 1.25\n",
    "\n",
    "# need to convert unit_sales back from log1p\n",
    "test['unit_sales'] = test['unit_sales'].apply(pd.np.expm1) # restoring unit values"
   ]
  },
  {
   "cell_type": "code",
   "execution_count": 49,
   "metadata": {
    "ExecuteTime": {
     "end_time": "2018-03-12T19:42:56.059891Z",
     "start_time": "2018-03-12T19:42:46.940768Z"
    },
    "collapsed": true,
    "hidden": true
   },
   "outputs": [],
   "source": [
    "SUBM = f'{PATH}rf_rnn/subm/'\n",
    "os.makedirs(SUBM, exist_ok=True)\n",
    "\n",
    "test.to_csv(f'{SUBM}m_average_promo.csv.gz', columns=['id','unit_sales'], index=False, compression='gzip')"
   ]
  },
  {
   "cell_type": "code",
   "execution_count": 48,
   "metadata": {
    "ExecuteTime": {
     "end_time": "2018-03-12T19:41:12.909916Z",
     "start_time": "2018-03-12T19:41:01.690247Z"
    },
    "hidden": true
   },
   "outputs": [
    {
     "name": "stdout",
     "output_type": "stream",
     "text": [
      "Successfully submitted to Corporación Favorita Grocery Sales Forecasting"
     ]
    }
   ],
   "source": [
    "!kaggle competitions submit -c favorita-grocery-sales-forecasting -f {SUBM}m_average_promo.csv.gz -m \"moving averages w/ promo multiplier\"\n",
    "#=> 0.537"
   ]
  },
  {
   "cell_type": "markdown",
   "metadata": {
    "heading_collapsed": true,
    "hidden": true
   },
   "source": [
    "### Separate validation set"
   ]
  },
  {
   "cell_type": "code",
   "execution_count": 37,
   "metadata": {
    "ExecuteTime": {
     "end_time": "2018-03-12T19:30:29.683016Z",
     "start_time": "2018-03-12T19:30:28.294680Z"
    },
    "collapsed": true,
    "hidden": true
   },
   "outputs": [],
   "source": [
    "# last month\n",
    "valid = train.loc[train.date>='2017-07-15']"
   ]
  },
  {
   "cell_type": "code",
   "execution_count": 38,
   "metadata": {
    "ExecuteTime": {
     "end_time": "2018-03-12T19:30:29.710887Z",
     "start_time": "2018-03-12T19:30:29.684511Z"
    },
    "hidden": true
   },
   "outputs": [
    {
     "data": {
      "text/html": [
       "<div>\n",
       "<style scoped>\n",
       "    .dataframe tbody tr th:only-of-type {\n",
       "        vertical-align: middle;\n",
       "    }\n",
       "\n",
       "    .dataframe tbody tr th {\n",
       "        vertical-align: top;\n",
       "    }\n",
       "\n",
       "    .dataframe thead th {\n",
       "        text-align: right;\n",
       "    }\n",
       "</style>\n",
       "<table border=\"1\" class=\"dataframe\">\n",
       "  <thead>\n",
       "    <tr style=\"text-align: right;\">\n",
       "      <th></th>\n",
       "      <th>date</th>\n",
       "      <th>store_nbr</th>\n",
       "      <th>item_nbr</th>\n",
       "      <th>unit_sales</th>\n",
       "      <th>onpromotion</th>\n",
       "      <th>m_average</th>\n",
       "    </tr>\n",
       "  </thead>\n",
       "  <tbody>\n",
       "    <tr>\n",
       "      <th>75626563</th>\n",
       "      <td>2017-07-14</td>\n",
       "      <td>52</td>\n",
       "      <td>2122818</td>\n",
       "      <td>0.0</td>\n",
       "      <td>False</td>\n",
       "      <td>0.0</td>\n",
       "    </tr>\n",
       "    <tr>\n",
       "      <th>75626564</th>\n",
       "      <td>2017-07-14</td>\n",
       "      <td>52</td>\n",
       "      <td>2011459</td>\n",
       "      <td>0.0</td>\n",
       "      <td>False</td>\n",
       "      <td>0.0</td>\n",
       "    </tr>\n",
       "    <tr>\n",
       "      <th>75626565</th>\n",
       "      <td>2017-07-14</td>\n",
       "      <td>52</td>\n",
       "      <td>2126944</td>\n",
       "      <td>0.0</td>\n",
       "      <td>False</td>\n",
       "      <td>0.0</td>\n",
       "    </tr>\n",
       "    <tr>\n",
       "      <th>75626566</th>\n",
       "      <td>2017-07-14</td>\n",
       "      <td>52</td>\n",
       "      <td>2123839</td>\n",
       "      <td>0.0</td>\n",
       "      <td>False</td>\n",
       "      <td>0.0</td>\n",
       "    </tr>\n",
       "    <tr>\n",
       "      <th>75626567</th>\n",
       "      <td>2017-07-14</td>\n",
       "      <td>52</td>\n",
       "      <td>2011451</td>\n",
       "      <td>0.0</td>\n",
       "      <td>False</td>\n",
       "      <td>0.0</td>\n",
       "    </tr>\n",
       "  </tbody>\n",
       "</table>\n",
       "</div>"
      ],
      "text/plain": [
       "               date  store_nbr  item_nbr  unit_sales  onpromotion  m_average\n",
       "75626563 2017-07-14         52   2122818         0.0        False        0.0\n",
       "75626564 2017-07-14         52   2011459         0.0        False        0.0\n",
       "75626565 2017-07-14         52   2126944         0.0        False        0.0\n",
       "75626566 2017-07-14         52   2123839         0.0        False        0.0\n",
       "75626567 2017-07-14         52   2011451         0.0        False        0.0"
      ]
     },
     "execution_count": 38,
     "metadata": {},
     "output_type": "execute_result"
    }
   ],
   "source": [
    "# drop valid from train\n",
    "train = train[:-(len(valid))]; train.tail()"
   ]
  },
  {
   "cell_type": "code",
   "execution_count": 39,
   "metadata": {
    "ExecuteTime": {
     "end_time": "2018-03-12T19:30:29.931662Z",
     "start_time": "2018-03-12T19:30:29.712281Z"
    },
    "hidden": true
   },
   "outputs": [
    {
     "data": {
      "text/html": [
       "<div>\n",
       "<style scoped>\n",
       "    .dataframe tbody tr th:only-of-type {\n",
       "        vertical-align: middle;\n",
       "    }\n",
       "\n",
       "    .dataframe tbody tr th {\n",
       "        vertical-align: top;\n",
       "    }\n",
       "\n",
       "    .dataframe thead th {\n",
       "        text-align: right;\n",
       "    }\n",
       "</style>\n",
       "<table border=\"1\" class=\"dataframe\">\n",
       "  <thead>\n",
       "    <tr style=\"text-align: right;\">\n",
       "      <th></th>\n",
       "      <th>date</th>\n",
       "      <th>store_nbr</th>\n",
       "      <th>item_nbr</th>\n",
       "      <th>unit_sales</th>\n",
       "      <th>onpromotion</th>\n",
       "      <th>m_average</th>\n",
       "    </tr>\n",
       "  </thead>\n",
       "  <tbody>\n",
       "    <tr>\n",
       "      <th>0</th>\n",
       "      <td>2017-07-15</td>\n",
       "      <td>1</td>\n",
       "      <td>103520</td>\n",
       "      <td>0.693147</td>\n",
       "      <td>False</td>\n",
       "      <td>0.643326</td>\n",
       "    </tr>\n",
       "    <tr>\n",
       "      <th>1</th>\n",
       "      <td>2017-07-15</td>\n",
       "      <td>1</td>\n",
       "      <td>103665</td>\n",
       "      <td>0.000000</td>\n",
       "      <td>False</td>\n",
       "      <td>1.343232</td>\n",
       "    </tr>\n",
       "    <tr>\n",
       "      <th>2</th>\n",
       "      <td>2017-07-15</td>\n",
       "      <td>1</td>\n",
       "      <td>105574</td>\n",
       "      <td>1.945910</td>\n",
       "      <td>False</td>\n",
       "      <td>1.507704</td>\n",
       "    </tr>\n",
       "    <tr>\n",
       "      <th>3</th>\n",
       "      <td>2017-07-15</td>\n",
       "      <td>1</td>\n",
       "      <td>105575</td>\n",
       "      <td>2.397895</td>\n",
       "      <td>False</td>\n",
       "      <td>2.322006</td>\n",
       "    </tr>\n",
       "    <tr>\n",
       "      <th>4</th>\n",
       "      <td>2017-07-15</td>\n",
       "      <td>1</td>\n",
       "      <td>105577</td>\n",
       "      <td>0.000000</td>\n",
       "      <td>False</td>\n",
       "      <td>0.541284</td>\n",
       "    </tr>\n",
       "  </tbody>\n",
       "</table>\n",
       "</div>"
      ],
      "text/plain": [
       "        date  store_nbr  item_nbr  unit_sales  onpromotion  m_average\n",
       "0 2017-07-15          1    103520    0.693147        False   0.643326\n",
       "1 2017-07-15          1    103665    0.000000        False   1.343232\n",
       "2 2017-07-15          1    105574    1.945910        False   1.507704\n",
       "3 2017-07-15          1    105575    2.397895        False   2.322006\n",
       "4 2017-07-15          1    105577    0.000000        False   0.541284"
      ]
     },
     "execution_count": 39,
     "metadata": {},
     "output_type": "execute_result"
    }
   ],
   "source": [
    "valid = valid.reset_index(drop=True); valid.head()"
   ]
  },
  {
   "cell_type": "markdown",
   "metadata": {
    "heading_collapsed": true
   },
   "source": [
    "## Feature Engineering"
   ]
  },
  {
   "cell_type": "code",
   "execution_count": 27,
   "metadata": {
    "ExecuteTime": {
     "end_time": "2018-03-16T15:31:39.486587Z",
     "start_time": "2018-03-16T15:31:27.539785Z"
    },
    "collapsed": true,
    "hidden": true
   },
   "outputs": [],
   "source": [
    "train = pd.read_feather(f'{PATH}rf_rnn/train_w_averages')\n",
    "test = pd.read_feather(f'{PATH}rf_rnn/test_w_averages')"
   ]
  },
  {
   "cell_type": "code",
   "execution_count": null,
   "metadata": {
    "collapsed": true,
    "hidden": true
   },
   "outputs": [],
   "source": [
    "# NOTE: need to convert dates back to datetime?!\n",
    "train['date'] = train['date'].astype('datetime64[ns]')\n",
    "test['date'] = test['date'].astype('datetime64[ns]')"
   ]
  },
  {
   "cell_type": "code",
   "execution_count": 7,
   "metadata": {
    "ExecuteTime": {
     "end_time": "2018-03-16T15:20:17.831134Z",
     "start_time": "2018-03-16T15:20:17.782466Z"
    },
    "collapsed": true,
    "hidden": true
   },
   "outputs": [],
   "source": [
    "items = pd.read_csv(f'{PATH}items.csv', low_memory=False)\n",
    "stores = pd.read_csv(f'{PATH}stores.csv', low_memory=False)\n",
    "holidays = pd.read_csv(f'{PATH}holidays_events.csv', parse_dates=['date'], low_memory=False)"
   ]
  },
  {
   "cell_type": "markdown",
   "metadata": {
    "heading_collapsed": true,
    "hidden": true
   },
   "source": [
    "### Stores"
   ]
  },
  {
   "cell_type": "code",
   "execution_count": 43,
   "metadata": {
    "ExecuteTime": {
     "end_time": "2018-03-15T23:30:45.292185Z",
     "start_time": "2018-03-15T23:30:45.248319Z"
    },
    "hidden": true
   },
   "outputs": [
    {
     "data": {
      "text/html": [
       "<div>\n",
       "<style>\n",
       "    .dataframe thead tr:only-child th {\n",
       "        text-align: right;\n",
       "    }\n",
       "\n",
       "    .dataframe thead th {\n",
       "        text-align: left;\n",
       "    }\n",
       "\n",
       "    .dataframe tbody tr th {\n",
       "        vertical-align: top;\n",
       "    }\n",
       "</style>\n",
       "<table border=\"1\" class=\"dataframe\">\n",
       "  <thead>\n",
       "    <tr style=\"text-align: right;\">\n",
       "      <th></th>\n",
       "      <th>store_nbr</th>\n",
       "      <th>city</th>\n",
       "      <th>state</th>\n",
       "      <th>type</th>\n",
       "      <th>cluster</th>\n",
       "    </tr>\n",
       "  </thead>\n",
       "  <tbody>\n",
       "    <tr>\n",
       "      <th>0</th>\n",
       "      <td>1</td>\n",
       "      <td>Quito</td>\n",
       "      <td>Pichincha</td>\n",
       "      <td>D</td>\n",
       "      <td>13</td>\n",
       "    </tr>\n",
       "    <tr>\n",
       "      <th>1</th>\n",
       "      <td>2</td>\n",
       "      <td>Quito</td>\n",
       "      <td>Pichincha</td>\n",
       "      <td>D</td>\n",
       "      <td>13</td>\n",
       "    </tr>\n",
       "    <tr>\n",
       "      <th>2</th>\n",
       "      <td>3</td>\n",
       "      <td>Quito</td>\n",
       "      <td>Pichincha</td>\n",
       "      <td>D</td>\n",
       "      <td>8</td>\n",
       "    </tr>\n",
       "    <tr>\n",
       "      <th>3</th>\n",
       "      <td>4</td>\n",
       "      <td>Quito</td>\n",
       "      <td>Pichincha</td>\n",
       "      <td>D</td>\n",
       "      <td>9</td>\n",
       "    </tr>\n",
       "    <tr>\n",
       "      <th>4</th>\n",
       "      <td>5</td>\n",
       "      <td>Santo Domingo</td>\n",
       "      <td>Santo Domingo de los Tsachilas</td>\n",
       "      <td>D</td>\n",
       "      <td>4</td>\n",
       "    </tr>\n",
       "  </tbody>\n",
       "</table>\n",
       "</div>"
      ],
      "text/plain": [
       "   store_nbr           city                           state type  cluster\n",
       "0          1          Quito                       Pichincha    D       13\n",
       "1          2          Quito                       Pichincha    D       13\n",
       "2          3          Quito                       Pichincha    D        8\n",
       "3          4          Quito                       Pichincha    D        9\n",
       "4          5  Santo Domingo  Santo Domingo de los Tsachilas    D        4"
      ]
     },
     "execution_count": 43,
     "metadata": {},
     "output_type": "execute_result"
    }
   ],
   "source": [
    "stores.head()"
   ]
  },
  {
   "cell_type": "code",
   "execution_count": 29,
   "metadata": {
    "ExecuteTime": {
     "end_time": "2018-03-16T15:32:24.147022Z",
     "start_time": "2018-03-16T15:32:04.730679Z"
    },
    "collapsed": true,
    "hidden": true
   },
   "outputs": [],
   "source": [
    "train = pd.merge(train, stores, how='left', on=['store_nbr'])\n",
    "test = pd.merge(test, stores, how='left', on=['store_nbr'])"
   ]
  },
  {
   "cell_type": "code",
   "execution_count": 30,
   "metadata": {
    "ExecuteTime": {
     "end_time": "2018-03-16T15:32:27.276427Z",
     "start_time": "2018-03-16T15:32:27.238177Z"
    },
    "collapsed": true,
    "hidden": true
   },
   "outputs": [],
   "source": [
    "del stores"
   ]
  },
  {
   "cell_type": "markdown",
   "metadata": {
    "heading_collapsed": true,
    "hidden": true
   },
   "source": [
    "### Holidays"
   ]
  },
  {
   "cell_type": "code",
   "execution_count": 65,
   "metadata": {
    "ExecuteTime": {
     "end_time": "2018-03-16T00:00:03.202112Z",
     "start_time": "2018-03-16T00:00:03.153921Z"
    },
    "hidden": true
   },
   "outputs": [
    {
     "data": {
      "text/html": [
       "<div>\n",
       "<style>\n",
       "    .dataframe thead tr:only-child th {\n",
       "        text-align: right;\n",
       "    }\n",
       "\n",
       "    .dataframe thead th {\n",
       "        text-align: left;\n",
       "    }\n",
       "\n",
       "    .dataframe tbody tr th {\n",
       "        vertical-align: top;\n",
       "    }\n",
       "</style>\n",
       "<table border=\"1\" class=\"dataframe\">\n",
       "  <thead>\n",
       "    <tr style=\"text-align: right;\">\n",
       "      <th></th>\n",
       "      <th>date</th>\n",
       "      <th>type</th>\n",
       "      <th>locale</th>\n",
       "      <th>locale_name</th>\n",
       "      <th>description</th>\n",
       "      <th>transferred</th>\n",
       "    </tr>\n",
       "  </thead>\n",
       "  <tbody>\n",
       "    <tr>\n",
       "      <th>327</th>\n",
       "      <td>2017-08-24</td>\n",
       "      <td>Holiday</td>\n",
       "      <td>Local</td>\n",
       "      <td>Ambato</td>\n",
       "      <td>Fundacion de Ambato</td>\n",
       "      <td>False</td>\n",
       "    </tr>\n",
       "  </tbody>\n",
       "</table>\n",
       "</div>"
      ],
      "text/plain": [
       "          date     type locale locale_name          description  transferred\n",
       "327 2017-08-24  Holiday  Local      Ambato  Fundacion de Ambato        False"
      ]
     },
     "execution_count": 65,
     "metadata": {},
     "output_type": "execute_result"
    }
   ],
   "source": [
    "# looks like we only need to worry about local holidays...\n",
    "holidays[(holidays['date'] >= '2017-08-16') & (holidays['date'] <= '2017-08-31')]"
   ]
  },
  {
   "cell_type": "code",
   "execution_count": 11,
   "metadata": {
    "ExecuteTime": {
     "end_time": "2018-03-16T15:23:10.465069Z",
     "start_time": "2018-03-16T15:23:10.416063Z"
    },
    "hidden": true
   },
   "outputs": [
    {
     "data": {
      "text/html": [
       "<div>\n",
       "<style>\n",
       "    .dataframe thead tr:only-child th {\n",
       "        text-align: right;\n",
       "    }\n",
       "\n",
       "    .dataframe thead th {\n",
       "        text-align: left;\n",
       "    }\n",
       "\n",
       "    .dataframe tbody tr th {\n",
       "        vertical-align: top;\n",
       "    }\n",
       "</style>\n",
       "<table border=\"1\" class=\"dataframe\">\n",
       "  <thead>\n",
       "    <tr style=\"text-align: right;\">\n",
       "      <th></th>\n",
       "      <th>date</th>\n",
       "      <th>city</th>\n",
       "      <th>holiday</th>\n",
       "    </tr>\n",
       "  </thead>\n",
       "  <tbody>\n",
       "    <tr>\n",
       "      <th>0</th>\n",
       "      <td>2012-03-02</td>\n",
       "      <td>Manta</td>\n",
       "      <td>True</td>\n",
       "    </tr>\n",
       "    <tr>\n",
       "      <th>2</th>\n",
       "      <td>2012-04-12</td>\n",
       "      <td>Cuenca</td>\n",
       "      <td>True</td>\n",
       "    </tr>\n",
       "    <tr>\n",
       "      <th>3</th>\n",
       "      <td>2012-04-14</td>\n",
       "      <td>Libertad</td>\n",
       "      <td>True</td>\n",
       "    </tr>\n",
       "    <tr>\n",
       "      <th>4</th>\n",
       "      <td>2012-04-21</td>\n",
       "      <td>Riobamba</td>\n",
       "      <td>True</td>\n",
       "    </tr>\n",
       "    <tr>\n",
       "      <th>5</th>\n",
       "      <td>2012-05-12</td>\n",
       "      <td>Puyo</td>\n",
       "      <td>True</td>\n",
       "    </tr>\n",
       "  </tbody>\n",
       "</table>\n",
       "</div>"
      ],
      "text/plain": [
       "        date      city  holiday\n",
       "0 2012-03-02     Manta     True\n",
       "2 2012-04-12    Cuenca     True\n",
       "3 2012-04-14  Libertad     True\n",
       "4 2012-04-21  Riobamba     True\n",
       "5 2012-05-12      Puyo     True"
      ]
     },
     "execution_count": 11,
     "metadata": {},
     "output_type": "execute_result"
    }
   ],
   "source": [
    "local_holidays = holidays.loc[(holidays['locale'] == 'Local') & (holidays['transferred'] == False)].copy()\n",
    "local_holidays['holiday'] = True\n",
    "local_holidays = local_holidays.rename(index=str, columns={\"locale_name\": \"city\"}).drop(\n",
    "    ['type','locale','description','transferred'], axis=1)\n",
    "local_holidays.head()"
   ]
  },
  {
   "cell_type": "code",
   "execution_count": 31,
   "metadata": {
    "ExecuteTime": {
     "end_time": "2018-03-16T15:33:13.417042Z",
     "start_time": "2018-03-16T15:32:41.734527Z"
    },
    "collapsed": true,
    "hidden": true
   },
   "outputs": [],
   "source": [
    "train = pd.merge(train, local_holidays, how='left', on=['date','city'])\n",
    "test = pd.merge(test, local_holidays, how='left', on=['date','city'])"
   ]
  },
  {
   "cell_type": "code",
   "execution_count": 32,
   "metadata": {
    "ExecuteTime": {
     "end_time": "2018-03-16T15:33:25.357000Z",
     "start_time": "2018-03-16T15:33:20.615639Z"
    },
    "collapsed": true,
    "hidden": true
   },
   "outputs": [],
   "source": [
    "train.loc[:, 'holiday'].fillna(False, inplace=True) # fill NaNs\n",
    "test.loc[:, 'holiday'].fillna(False, inplace=True)"
   ]
  },
  {
   "cell_type": "code",
   "execution_count": 34,
   "metadata": {
    "ExecuteTime": {
     "end_time": "2018-03-16T15:33:34.702882Z",
     "start_time": "2018-03-16T15:33:34.666488Z"
    },
    "collapsed": true,
    "hidden": true
   },
   "outputs": [],
   "source": [
    "del holidays, local_holidays"
   ]
  },
  {
   "cell_type": "markdown",
   "metadata": {
    "heading_collapsed": true,
    "hidden": true
   },
   "source": [
    "### Items"
   ]
  },
  {
   "cell_type": "code",
   "execution_count": 18,
   "metadata": {
    "ExecuteTime": {
     "end_time": "2018-03-16T15:24:52.815285Z",
     "start_time": "2018-03-16T15:24:52.773214Z"
    },
    "hidden": true
   },
   "outputs": [
    {
     "data": {
      "text/html": [
       "<div>\n",
       "<style>\n",
       "    .dataframe thead tr:only-child th {\n",
       "        text-align: right;\n",
       "    }\n",
       "\n",
       "    .dataframe thead th {\n",
       "        text-align: left;\n",
       "    }\n",
       "\n",
       "    .dataframe tbody tr th {\n",
       "        vertical-align: top;\n",
       "    }\n",
       "</style>\n",
       "<table border=\"1\" class=\"dataframe\">\n",
       "  <thead>\n",
       "    <tr style=\"text-align: right;\">\n",
       "      <th></th>\n",
       "      <th>item_nbr</th>\n",
       "      <th>family</th>\n",
       "      <th>class</th>\n",
       "      <th>perishable</th>\n",
       "    </tr>\n",
       "  </thead>\n",
       "  <tbody>\n",
       "    <tr>\n",
       "      <th>0</th>\n",
       "      <td>96995</td>\n",
       "      <td>GROCERY I</td>\n",
       "      <td>1093</td>\n",
       "      <td>0</td>\n",
       "    </tr>\n",
       "    <tr>\n",
       "      <th>1</th>\n",
       "      <td>99197</td>\n",
       "      <td>GROCERY I</td>\n",
       "      <td>1067</td>\n",
       "      <td>0</td>\n",
       "    </tr>\n",
       "    <tr>\n",
       "      <th>2</th>\n",
       "      <td>103501</td>\n",
       "      <td>CLEANING</td>\n",
       "      <td>3008</td>\n",
       "      <td>0</td>\n",
       "    </tr>\n",
       "    <tr>\n",
       "      <th>3</th>\n",
       "      <td>103520</td>\n",
       "      <td>GROCERY I</td>\n",
       "      <td>1028</td>\n",
       "      <td>0</td>\n",
       "    </tr>\n",
       "    <tr>\n",
       "      <th>4</th>\n",
       "      <td>103665</td>\n",
       "      <td>BREAD/BAKERY</td>\n",
       "      <td>2712</td>\n",
       "      <td>1</td>\n",
       "    </tr>\n",
       "  </tbody>\n",
       "</table>\n",
       "</div>"
      ],
      "text/plain": [
       "   item_nbr        family  class  perishable\n",
       "0     96995     GROCERY I   1093           0\n",
       "1     99197     GROCERY I   1067           0\n",
       "2    103501      CLEANING   3008           0\n",
       "3    103520     GROCERY I   1028           0\n",
       "4    103665  BREAD/BAKERY   2712           1"
      ]
     },
     "execution_count": 18,
     "metadata": {},
     "output_type": "execute_result"
    }
   ],
   "source": [
    "items.head()"
   ]
  },
  {
   "cell_type": "code",
   "execution_count": 35,
   "metadata": {
    "ExecuteTime": {
     "end_time": "2018-03-16T15:34:40.012861Z",
     "start_time": "2018-03-16T15:33:56.231660Z"
    },
    "collapsed": true,
    "hidden": true
   },
   "outputs": [],
   "source": [
    "train = pd.merge(train, items, how='left', on=['item_nbr'])\n",
    "# test = pd.merge(test, items, how='left', on=['item_nbr'])"
   ]
  },
  {
   "cell_type": "code",
   "execution_count": 36,
   "metadata": {
    "ExecuteTime": {
     "end_time": "2018-03-16T15:35:46.962931Z",
     "start_time": "2018-03-16T15:34:43.825992Z"
    },
    "hidden": true
   },
   "outputs": [
    {
     "data": {
      "text/plain": [
       "date           False\n",
       "store_nbr      False\n",
       "item_nbr       False\n",
       "unit_sales     False\n",
       "onpromotion    False\n",
       "avg_dow        False\n",
       "avg_dom        False\n",
       "city           False\n",
       "state          False\n",
       "type           False\n",
       "cluster        False\n",
       "holiday        False\n",
       "family         False\n",
       "class          False\n",
       "perishable     False\n",
       "dtype: bool"
      ]
     },
     "execution_count": 36,
     "metadata": {},
     "output_type": "execute_result"
    }
   ],
   "source": [
    "pd.isnull(train).any()"
   ]
  },
  {
   "cell_type": "code",
   "execution_count": 37,
   "metadata": {
    "ExecuteTime": {
     "end_time": "2018-03-16T15:35:51.960765Z",
     "start_time": "2018-03-16T15:35:51.924250Z"
    },
    "collapsed": true,
    "hidden": true
   },
   "outputs": [],
   "source": [
    "del items"
   ]
  },
  {
   "cell_type": "code",
   "execution_count": 38,
   "metadata": {
    "ExecuteTime": {
     "end_time": "2018-03-16T15:36:41.339771Z",
     "start_time": "2018-03-16T15:35:55.824508Z"
    },
    "collapsed": true,
    "hidden": true
   },
   "outputs": [],
   "source": [
    "train.to_feather(f'{PATH}rf_rnn/train_w_features')\n",
    "test.to_feather(f'{PATH}rf_rnn/test_w_features')"
   ]
  },
  {
   "cell_type": "markdown",
   "metadata": {
    "heading_collapsed": true
   },
   "source": [
    "## Data prep - handle categorical variables"
   ]
  },
  {
   "cell_type": "code",
   "execution_count": 45,
   "metadata": {
    "ExecuteTime": {
     "end_time": "2018-03-16T15:46:02.924283Z",
     "start_time": "2018-03-16T15:45:59.522093Z"
    },
    "collapsed": true,
    "hidden": true
   },
   "outputs": [],
   "source": [
    "# train = pd.read_feather(f'{PATH}rf_rnn/train_w_features')\n",
    "test = pd.read_feather(f'{PATH}rf_rnn/test_w_features')"
   ]
  },
  {
   "cell_type": "code",
   "execution_count": 47,
   "metadata": {
    "ExecuteTime": {
     "end_time": "2018-03-16T15:48:01.215580Z",
     "start_time": "2018-03-16T15:47:15.258927Z"
    },
    "collapsed": true,
    "hidden": true
   },
   "outputs": [],
   "source": [
    "# add date info\n",
    "add_datepart(train, 'date')\n",
    "add_datepart(test, 'date')"
   ]
  },
  {
   "cell_type": "code",
   "execution_count": 55,
   "metadata": {
    "ExecuteTime": {
     "end_time": "2018-03-16T15:51:30.719718Z",
     "start_time": "2018-03-16T15:51:30.681540Z"
    },
    "hidden": true
   },
   "outputs": [
    {
     "data": {
      "text/plain": [
       "array(['id', 'store_nbr', 'item_nbr', 'onpromotion', 'avg_dow', 'avg_dom', 'city', 'state', 'type', 'cluster',\n",
       "       'holiday', 'family', 'class', 'perishable', 'Month', 'Week', 'Day', 'Dayofweek', 'Dayofyear',\n",
       "       'Is_month_end', 'Is_month_start', 'Is_quarter_end', 'Is_quarter_start', 'Is_year_end', 'Is_year_start'], dtype=object)"
      ]
     },
     "execution_count": 55,
     "metadata": {},
     "output_type": "execute_result"
    }
   ],
   "source": [
    "test.columns.values"
   ]
  },
  {
   "cell_type": "code",
   "execution_count": 54,
   "metadata": {
    "ExecuteTime": {
     "end_time": "2018-03-16T15:51:18.645975Z",
     "start_time": "2018-03-16T15:51:13.614348Z"
    },
    "collapsed": true,
    "hidden": true
   },
   "outputs": [],
   "source": [
    "test.drop(['Elapsed', 'Year'], axis=1, inplace=True)\n",
    "train.drop(['Elapsed', 'Year'], axis=1, inplace=True)"
   ]
  },
  {
   "cell_type": "code",
   "execution_count": 56,
   "metadata": {
    "ExecuteTime": {
     "end_time": "2018-03-16T15:52:49.166191Z",
     "start_time": "2018-03-16T15:52:49.120592Z"
    },
    "collapsed": true,
    "hidden": true
   },
   "outputs": [],
   "source": [
    "cat_vars = ['store_nbr', 'item_nbr', 'onpromotion', 'city', 'state', 'type', 'cluster',\n",
    "            'holiday', 'family', 'class', 'perishable']"
   ]
  },
  {
   "cell_type": "code",
   "execution_count": 57,
   "metadata": {
    "ExecuteTime": {
     "end_time": "2018-03-16T15:53:14.801682Z",
     "start_time": "2018-03-16T15:53:00.648050Z"
    },
    "collapsed": true,
    "hidden": true
   },
   "outputs": [],
   "source": [
    "for v in cat_vars:\n",
    "    train[v] = train[v].astype('category').cat.as_ordered()"
   ]
  },
  {
   "cell_type": "code",
   "execution_count": 58,
   "metadata": {
    "ExecuteTime": {
     "end_time": "2018-03-16T15:53:25.303396Z",
     "start_time": "2018-03-16T15:53:22.560842Z"
    },
    "collapsed": true,
    "hidden": true
   },
   "outputs": [],
   "source": [
    "apply_cats(test, train)"
   ]
  },
  {
   "cell_type": "code",
   "execution_count": 64,
   "metadata": {
    "ExecuteTime": {
     "end_time": "2018-03-16T15:58:02.105458Z",
     "start_time": "2018-03-16T15:57:59.349971Z"
    },
    "collapsed": true,
    "hidden": true
   },
   "outputs": [],
   "source": [
    "# train has been reduced to last 3.5 months -> 2017-05-01\n",
    "train.to_feather(f'{PATH}rf_rnn/train_w_categories')\n",
    "test.to_feather(f'{PATH}rf_rnn/test_w_categories')"
   ]
  },
  {
   "cell_type": "markdown",
   "metadata": {},
   "source": [
    "## Separate target from df"
   ]
  },
  {
   "cell_type": "code",
   "execution_count": 70,
   "metadata": {
    "ExecuteTime": {
     "end_time": "2018-03-16T16:15:01.855064Z",
     "start_time": "2018-03-16T16:14:50.898639Z"
    },
    "collapsed": true
   },
   "outputs": [],
   "source": [
    "train = pd.read_feather(f'{PATH}rf_rnn/train_w_categories')\n",
    "# test = pd.read_feather(f'{PATH}rf_rnn/test_w_categories')"
   ]
  },
  {
   "cell_type": "code",
   "execution_count": 65,
   "metadata": {
    "ExecuteTime": {
     "end_time": "2018-03-16T16:03:15.553099Z",
     "start_time": "2018-03-16T16:00:55.624026Z"
    },
    "collapsed": true
   },
   "outputs": [],
   "source": [
    "df, y, nas, mapper = proc_df(train, 'unit_sales', do_scale=True)"
   ]
  },
  {
   "cell_type": "markdown",
   "metadata": {},
   "source": [
    "## Split training/validation"
   ]
  },
  {
   "cell_type": "code",
   "execution_count": 113,
   "metadata": {
    "ExecuteTime": {
     "end_time": "2018-03-16T17:11:23.369930Z",
     "start_time": "2018-03-16T17:11:23.267403Z"
    },
    "collapsed": true
   },
   "outputs": [],
   "source": [
    "# Using Skicit-learn to split data into training and testing sets\n",
    "# from sklearn.model_selection import train_test_split\n",
    "\n",
    "# Split the data into training and testing sets\n",
    "# x_trn, x_val, y_trn, y_val = train_test_split(df, y, test_size = 0.20, random_state = 42)\n",
    "\n",
    "# good validation set => 2017-7-26 -> 2017-8-9\n",
    "# IDs => [18743184:22012344] (18743184 - 22012343)\n",
    "# len(test) => 3370464\n",
    "\n",
    "def split_val(df,a,b):\n",
    "    val = df[a:b].copy()\n",
    "    trn = df.drop(df.index[a:b]).copy()\n",
    "    return trn, val\n",
    "\n",
    "x_trn,x_val = split_val(df,18743184,22012344)\n",
    "\n",
    "def split_val_arr(arr,a,b):\n",
    "    val = arr[a:b].copy()\n",
    "    trn = np.delete(arr, slice(a,b))\n",
    "    return trn, val\n",
    "\n",
    "y_trn,y_val = split_val_arr(y,18743184,22012344)"
   ]
  },
  {
   "cell_type": "code",
   "execution_count": 114,
   "metadata": {
    "ExecuteTime": {
     "end_time": "2018-03-16T17:11:41.214464Z",
     "start_time": "2018-03-16T17:11:41.173880Z"
    }
   },
   "outputs": [
    {
     "data": {
      "text/plain": [
       "((20050848, 24), (3269160, 24), (20050848,), (3269160,))"
      ]
     },
     "execution_count": 114,
     "metadata": {},
     "output_type": "execute_result"
    }
   ],
   "source": [
    "x_trn.shape, x_val.shape, y_trn.shape, y_val.shape"
   ]
  },
  {
   "cell_type": "markdown",
   "metadata": {},
   "source": [
    "## Train model"
   ]
  },
  {
   "cell_type": "code",
   "execution_count": 120,
   "metadata": {
    "ExecuteTime": {
     "end_time": "2018-03-16T17:18:34.620696Z",
     "start_time": "2018-03-16T17:18:34.567151Z"
    },
    "collapsed": true
   },
   "outputs": [],
   "source": [
    "def rmsle(pred, targ):\n",
    "    # pred and targs are both log1p values already\n",
    "    mean_diff = np.square(pred - targ).mean()\n",
    "    return round(math.sqrt(mean_diff), 4)\n",
    "\n",
    "def print_score(m):\n",
    "    res = [rmsle(m.predict(x_trn), y_trn), rmsle(m.predict(x_val), y_val),\n",
    "                round(m.score(x_trn, y_trn),4), round(m.score(x_val, y_val),4)]\n",
    "    if hasattr(m, 'oob_score_'): res.append(m.oob_score_)\n",
    "    print(res)\n",
    "    \n",
    "# m.score => coefficient of determination (R^2)\n",
    "#   proportion of the variance in the dependent variable that is predictable from the independent variable(s)\n",
    "#   ratio of how much better the model is than the mean prediction (0);  1: perfect;  -*: worse than the mean"
   ]
  },
  {
   "cell_type": "code",
   "execution_count": 117,
   "metadata": {
    "ExecuteTime": {
     "end_time": "2018-03-16T17:13:23.434407Z",
     "start_time": "2018-03-16T17:13:23.388829Z"
    },
    "collapsed": true
   },
   "outputs": [],
   "source": [
    "from sklearn.ensemble import RandomForestRegressor"
   ]
  },
  {
   "cell_type": "code",
   "execution_count": 118,
   "metadata": {
    "ExecuteTime": {
     "end_time": "2018-03-16T17:16:29.580101Z",
     "start_time": "2018-03-16T17:16:29.542281Z"
    },
    "collapsed": true
   },
   "outputs": [],
   "source": [
    "set_rf_samples(50000)"
   ]
  },
  {
   "cell_type": "code",
   "execution_count": 119,
   "metadata": {
    "ExecuteTime": {
     "end_time": "2018-03-16T17:18:27.392463Z",
     "start_time": "2018-03-16T17:16:38.173504Z"
    }
   },
   "outputs": [
    {
     "name": "stdout",
     "output_type": "stream",
     "text": [
      "CPU times: user 14.5 s, sys: 5.22 s, total: 19.7 s\n",
      "Wall time: 20.9 s\n",
      "[0.2952, 0.2656, 0.67486495050828088, 0.73733977357618774]\n"
     ]
    }
   ],
   "source": [
    "m = RandomForestRegressor()\n",
    "%time m.fit(x_trn, y_trn)\n",
    "print_score(m)    #=> [0.2952, 0.2656, 0.67486495050828088, 0.73733977357618774]"
   ]
  },
  {
   "cell_type": "code",
   "execution_count": 121,
   "metadata": {
    "ExecuteTime": {
     "end_time": "2018-03-16T17:21:46.729955Z",
     "start_time": "2018-03-16T17:20:57.065368Z"
    }
   },
   "outputs": [
    {
     "name": "stdout",
     "output_type": "stream",
     "text": [
      "CPU times: user 37.2 s, sys: 8.15 s, total: 45.3 s\n",
      "Wall time: 12.9 s\n",
      "[0.2857, 0.2547, 0.6956, 0.75860000000000005]\n"
     ]
    }
   ],
   "source": [
    "m = RandomForestRegressor(n_estimators=20, min_samples_leaf=3, n_jobs=-1)\n",
    "%time m.fit(x_trn, y_trn)\n",
    "print_score(m)    #=> [0.2857, 0.2547, 0.6956, 0.75860000000000005]"
   ]
  },
  {
   "cell_type": "code",
   "execution_count": 122,
   "metadata": {
    "ExecuteTime": {
     "end_time": "2018-03-16T17:27:16.218361Z",
     "start_time": "2018-03-16T17:25:44.097129Z"
    }
   },
   "outputs": [
    {
     "name": "stdout",
     "output_type": "stream",
     "text": [
      "CPU times: user 23.7 s, sys: 8.77 s, total: 32.4 s\n",
      "Wall time: 11.9 s\n",
      "[0.2856, 0.2536, 0.69569999999999999, 0.76060000000000005]\n"
     ]
    }
   ],
   "source": [
    "m = RandomForestRegressor(n_estimators=20, min_samples_leaf=3, max_features=0.5, n_jobs=-1)\n",
    "%time m.fit(x_trn, y_trn)\n",
    "print_score(m)    #=> [0.2856, 0.2536, 0.69569999999999999, 0.76060000000000005]"
   ]
  },
  {
   "cell_type": "code",
   "execution_count": 123,
   "metadata": {
    "ExecuteTime": {
     "end_time": "2018-03-16T17:27:16.218361Z",
     "start_time": "2018-03-16T17:25:44.097129Z"
    }
   },
   "outputs": [
    {
     "name": "stdout",
     "output_type": "stream",
     "text": [
      "CPU times: user 55.6 s, sys: 15.2 s, total: 1min 10s\n",
      "Wall time: 16.7 s\n",
      "[0.2825, 0.2498, 0.70220000000000005, 0.76770000000000005]\n"
     ]
    }
   ],
   "source": [
    "m = RandomForestRegressor(n_estimators=50, min_samples_leaf=5, max_features=0.5, n_jobs=-1)\n",
    "%time m.fit(x_trn, y_trn)\n",
    "print_score(m)    #=> [0.2825, 0.2498, 0.70220000000000005, 0.76770000000000005]"
   ]
  },
  {
   "cell_type": "code",
   "execution_count": 124,
   "metadata": {
    "ExecuteTime": {
     "end_time": "2018-03-16T17:33:18.215558Z",
     "start_time": "2018-03-16T17:31:06.759754Z"
    }
   },
   "outputs": [
    {
     "name": "stdout",
     "output_type": "stream",
     "text": [
      "CPU times: user 4min 6s, sys: 16.2 s, total: 4min 22s\n",
      "Wall time: 43.2 s\n",
      "[0.2769, 0.2488, 0.71409999999999996, 0.76949999999999996]\n"
     ]
    }
   ],
   "source": [
    "reset_rf_samples()\n",
    "set_rf_samples(250000)\n",
    "\n",
    "m = RandomForestRegressor(n_estimators=50, min_samples_leaf=5, max_features=0.5, n_jobs=-1)\n",
    "%time m.fit(x_trn, y_trn)\n",
    "print_score(m)    #=> [0.2769, 0.2488, 0.71409999999999996, 0.76949999999999996]"
   ]
  },
  {
   "cell_type": "markdown",
   "metadata": {},
   "source": [
    "## Variable importances"
   ]
  },
  {
   "cell_type": "code",
   "execution_count": 125,
   "metadata": {
    "ExecuteTime": {
     "end_time": "2018-03-16T17:36:00.096579Z",
     "start_time": "2018-03-16T17:35:59.743679Z"
    }
   },
   "outputs": [
    {
     "name": "stdout",
     "output_type": "stream",
     "text": [
      "Variable: avg_dom              Importance: 0.54\n",
      "Variable: avg_dow              Importance: 0.27\n",
      "Variable: onpromotion          Importance: 0.04\n",
      "Variable: item_nbr             Importance: 0.03\n",
      "Variable: store_nbr            Importance: 0.02\n",
      "Variable: class                Importance: 0.02\n",
      "Variable: city                 Importance: 0.01\n",
      "Variable: state                Importance: 0.01\n",
      "Variable: type                 Importance: 0.01\n",
      "Variable: cluster              Importance: 0.01\n",
      "Variable: family               Importance: 0.01\n",
      "Variable: Week                 Importance: 0.01\n",
      "Variable: Day                  Importance: 0.01\n",
      "Variable: Dayofweek            Importance: 0.01\n",
      "Variable: Dayofyear            Importance: 0.01\n",
      "Variable: holiday              Importance: 0.0\n",
      "Variable: perishable           Importance: 0.0\n",
      "Variable: Month                Importance: 0.0\n",
      "Variable: Is_month_end         Importance: 0.0\n",
      "Variable: Is_month_start       Importance: 0.0\n",
      "Variable: Is_quarter_end       Importance: 0.0\n",
      "Variable: Is_quarter_start     Importance: 0.0\n",
      "Variable: Is_year_end          Importance: 0.0\n",
      "Variable: Is_year_start        Importance: 0.0\n"
     ]
    }
   ],
   "source": [
    "features = list(x_trn.columns)\n",
    "\n",
    "# Get numerical feature importances\n",
    "importances = list(m.feature_importances_)\n",
    "\n",
    "# List of tuples with variable and importance\n",
    "feature_importances = [(feature, round(importance, 2)) for feature, importance in zip(features, importances)]\n",
    "\n",
    "# Sort the feature importances by most important first\n",
    "feature_importances = sorted(feature_importances, key = lambda x: x[1], reverse = True)\n",
    "\n",
    "# Print out the feature and importances \n",
    "[print('Variable: {:20} Importance: {}'.format(*pair)) for pair in feature_importances];"
   ]
  },
  {
   "cell_type": "markdown",
   "metadata": {},
   "source": [
    "## Feature Reduction"
   ]
  },
  {
   "cell_type": "code",
   "execution_count": null,
   "metadata": {
    "collapsed": true
   },
   "outputs": [],
   "source": [
    "least_important_features = [feature[0] for feature in feature_importances[15:]]\n",
    "\n",
    "x_trn.drop(least_important_features, axis=1, inplace=True)\n",
    "x_val.drop(least_important_features, axis=1, inplace=True)"
   ]
  },
  {
   "cell_type": "code",
   "execution_count": 140,
   "metadata": {
    "ExecuteTime": {
     "end_time": "2018-03-16T18:17:36.360165Z",
     "start_time": "2018-03-16T18:14:57.539266Z"
    }
   },
   "outputs": [
    {
     "name": "stdout",
     "output_type": "stream",
     "text": [
      "CPU times: user 6min 46s, sys: 17.9 s, total: 7min 4s\n",
      "Wall time: 1min 4s\n",
      "[0.2732, 0.2487, 0.72150000000000003, 0.76970000000000005]\n"
     ]
    }
   ],
   "source": [
    "reset_rf_samples()\n",
    "set_rf_samples(500000)\n",
    "\n",
    "m = RandomForestRegressor(n_estimators=50, min_samples_leaf=5, max_features=0.5, n_jobs=-1)\n",
    "%time m.fit(x_trn, y_trn)\n",
    "print_score(m)\n",
    "#=> [0.2769, 0.2488, 0.71409999999999996, 0.76949999999999996]\n",
    "#=> [0.2732, 0.2487, 0.72150000000000003, 0.76970000000000005]"
   ]
  },
  {
   "cell_type": "code",
   "execution_count": 141,
   "metadata": {
    "ExecuteTime": {
     "end_time": "2018-03-16T18:17:55.222575Z",
     "start_time": "2018-03-16T18:17:55.065583Z"
    }
   },
   "outputs": [
    {
     "name": "stdout",
     "output_type": "stream",
     "text": [
      "Variable: avg_dom              Importance: 0.58\n",
      "Variable: avg_dow              Importance: 0.23\n",
      "Variable: item_nbr             Importance: 0.03\n",
      "Variable: onpromotion          Importance: 0.03\n",
      "Variable: class                Importance: 0.03\n",
      "Variable: store_nbr            Importance: 0.01\n",
      "Variable: city                 Importance: 0.01\n",
      "Variable: state                Importance: 0.01\n",
      "Variable: type                 Importance: 0.01\n",
      "Variable: cluster              Importance: 0.01\n",
      "Variable: family               Importance: 0.01\n",
      "Variable: Week                 Importance: 0.01\n",
      "Variable: Day                  Importance: 0.01\n",
      "Variable: Dayofweek            Importance: 0.01\n",
      "Variable: Dayofyear            Importance: 0.01\n"
     ]
    }
   ],
   "source": [
    "features = list(x_trn.columns)\n",
    "\n",
    "# Get numerical feature importances\n",
    "importances = list(m.feature_importances_)\n",
    "\n",
    "# List of tuples with variable and importance\n",
    "feature_importances = [(feature, round(importance, 2)) for feature, importance in zip(features, importances)]\n",
    "\n",
    "# Sort the feature importances by most important first\n",
    "feature_importances = sorted(feature_importances, key = lambda x: x[1], reverse = True)\n",
    "\n",
    "# Print out the feature and importances \n",
    "[print('Variable: {:20} Importance: {}'.format(*pair)) for pair in feature_importances];"
   ]
  },
  {
   "cell_type": "code",
   "execution_count": null,
   "metadata": {
    "ExecuteTime": {
     "end_time": "2018-03-16T18:08:31.285232Z",
     "start_time": "2018-03-16T17:57:21.345660Z"
    },
    "collapsed": true
   },
   "outputs": [],
   "source": [
    "reset_rf_samples()\n",
    "# full dataset - need to run on GPU\n",
    "\n",
    "m = RandomForestRegressor(n_estimators=50, min_samples_leaf=5, max_features=0.5, n_jobs=-1)\n",
    "%time m.fit(x_trn, y_trn)\n",
    "print_score(m)    #=> [0.2769, 0.2488, 0.71409999999999996, 0.76949999999999996]"
   ]
  },
  {
   "cell_type": "markdown",
   "metadata": {},
   "source": [
    "## Feature Reduction / Data Expansion"
   ]
  },
  {
   "cell_type": "code",
   "execution_count": 7,
   "metadata": {
    "ExecuteTime": {
     "end_time": "2018-03-13T22:05:17.601565Z",
     "start_time": "2018-03-13T22:04:57.387733Z"
    },
    "collapsed": true
   },
   "outputs": [],
   "source": [
    "train = pd.read_feather(f'{PATH}rf_rnn/train_w_categories')"
   ]
  },
  {
   "cell_type": "code",
   "execution_count": 131,
   "metadata": {
    "ExecuteTime": {
     "end_time": "2018-03-16T17:41:40.681046Z",
     "start_time": "2018-03-16T17:41:40.642796Z"
    },
    "collapsed": true
   },
   "outputs": [],
   "source": [
    "# Extract the names of the least important features\n",
    "# least_important_features = [feature[0] for feature in feature_importances[15:]]\n",
    "\n",
    "least_important_features = list(train.columns)[11:-1]\n",
    "least_important_features.extend(list(['Year', 'Month']))"
   ]
  },
  {
   "cell_type": "code",
   "execution_count": 135,
   "metadata": {
    "ExecuteTime": {
     "end_time": "2018-03-16T17:45:29.166454Z",
     "start_time": "2018-03-16T17:45:28.245913Z"
    },
    "collapsed": true
   },
   "outputs": [],
   "source": [
    "train.drop(columns=least_important_features, inplace=True)"
   ]
  },
  {
   "cell_type": "code",
   "execution_count": 15,
   "metadata": {
    "ExecuteTime": {
     "end_time": "2018-03-13T22:12:35.814558Z",
     "start_time": "2018-03-13T22:11:27.126762Z"
    },
    "collapsed": true
   },
   "outputs": [],
   "source": [
    "df, y, nas = proc_df(train, 'unit_sales', subset=30000000)"
   ]
  },
  {
   "cell_type": "code",
   "execution_count": 16,
   "metadata": {
    "ExecuteTime": {
     "end_time": "2018-03-13T22:13:32.161589Z",
     "start_time": "2018-03-13T22:13:32.145956Z"
    },
    "collapsed": true
   },
   "outputs": [],
   "source": [
    "del train  # need to save memory"
   ]
  },
  {
   "cell_type": "code",
   "execution_count": 19,
   "metadata": {
    "ExecuteTime": {
     "end_time": "2018-03-13T22:14:54.740518Z",
     "start_time": "2018-03-13T22:14:47.297747Z"
    },
    "collapsed": true
   },
   "outputs": [],
   "source": [
    "# Using Scikit-learn to split data into training and testing sets\n",
    "from sklearn.model_selection import train_test_split\n",
    "\n",
    "# Split the data into training and testing sets\n",
    "x_trn, x_val, y_trn, y_val = train_test_split(df, y, test_size = 0.20, random_state = 42)"
   ]
  },
  {
   "cell_type": "code",
   "execution_count": 20,
   "metadata": {
    "ExecuteTime": {
     "end_time": "2018-03-13T22:15:55.911754Z",
     "start_time": "2018-03-13T22:15:55.897022Z"
    },
    "collapsed": true
   },
   "outputs": [],
   "source": [
    "del df,y"
   ]
  },
  {
   "cell_type": "code",
   "execution_count": 23,
   "metadata": {
    "ExecuteTime": {
     "end_time": "2018-03-13T22:24:45.132415Z",
     "start_time": "2018-03-13T22:16:24.506566Z"
    }
   },
   "outputs": [
    {
     "name": "stdout",
     "output_type": "stream",
     "text": [
      "CPU times: user 43min 26s, sys: 8.57 s, total: 43min 34s\n",
      "Wall time: 8min 20s\n"
     ]
    },
    {
     "data": {
      "text/plain": [
       "RandomForestRegressor(bootstrap=True, criterion='mse', max_depth=None,\n",
       "           max_features='auto', max_leaf_nodes=None,\n",
       "           min_impurity_decrease=0.0, min_impurity_split=None,\n",
       "           min_samples_leaf=1, min_samples_split=2,\n",
       "           min_weight_fraction_leaf=0.0, n_estimators=10, n_jobs=-1,\n",
       "           oob_score=False, random_state=None, verbose=0, warm_start=False)"
      ]
     },
     "execution_count": 23,
     "metadata": {},
     "output_type": "execute_result"
    }
   ],
   "source": [
    "m = RandomForestRegressor(n_jobs=-1)\n",
    "%time m.fit(x_trn, y_trn)"
   ]
  },
  {
   "cell_type": "code",
   "execution_count": 24,
   "metadata": {
    "ExecuteTime": {
     "end_time": "2018-03-13T22:27:59.356731Z",
     "start_time": "2018-03-13T22:24:45.228610Z"
    }
   },
   "outputs": [
    {
     "name": "stdout",
     "output_type": "stream",
     "text": [
      "[0.2401, 0.5682, 0.9466230013003557, 0.701200428528316]\n"
     ]
    }
   ],
   "source": [
    "print_score(m)   #=> [0.24, 0.5684, 0.946675430780943, 0.7008898192311388]\n",
    "\n",
    "# slight increase in accuracy (increased data)\n",
    "# large increase in duration (feature reduction & split over multiple cores)"
   ]
  },
  {
   "cell_type": "markdown",
   "metadata": {},
   "source": [
    "### Apply to Test dataset"
   ]
  },
  {
   "cell_type": "code",
   "execution_count": 63,
   "metadata": {
    "ExecuteTime": {
     "end_time": "2018-03-13T23:51:25.429449Z",
     "start_time": "2018-03-13T23:51:25.205074Z"
    },
    "collapsed": true
   },
   "outputs": [],
   "source": [
    "test = pd.read_feather(f'{PATH}rf_rnn/test_w_categories')"
   ]
  },
  {
   "cell_type": "code",
   "execution_count": 64,
   "metadata": {
    "ExecuteTime": {
     "end_time": "2018-03-13T23:51:26.291320Z",
     "start_time": "2018-03-13T23:51:26.182376Z"
    },
    "collapsed": true
   },
   "outputs": [],
   "source": [
    "test.drop(columns=least_important_features, inplace=True)"
   ]
  },
  {
   "cell_type": "code",
   "execution_count": 65,
   "metadata": {
    "ExecuteTime": {
     "end_time": "2018-03-13T23:51:27.736286Z",
     "start_time": "2018-03-13T23:51:27.026198Z"
    },
    "collapsed": true
   },
   "outputs": [],
   "source": [
    "# add in y value to test: 'unit sales'\n",
    "test['unit_sales'] = 0.0\n",
    "\n",
    "df_test, _, nas = proc_df(test, 'unit_sales', skip_flds=['id'], na_dict=nas)"
   ]
  },
  {
   "cell_type": "code",
   "execution_count": 66,
   "metadata": {
    "ExecuteTime": {
     "end_time": "2018-03-13T23:51:41.505547Z",
     "start_time": "2018-03-13T23:51:33.025144Z"
    },
    "collapsed": true
   },
   "outputs": [],
   "source": [
    "# use rf to predict on test df\n",
    "log_preds = m.predict(df_test)"
   ]
  },
  {
   "cell_type": "code",
   "execution_count": 67,
   "metadata": {
    "ExecuteTime": {
     "end_time": "2018-03-13T23:51:47.334450Z",
     "start_time": "2018-03-13T23:51:47.235520Z"
    },
    "collapsed": true
   },
   "outputs": [],
   "source": [
    "test['unit_sales'] = np.expm1(log_preds) # re-scale predictions and add to df"
   ]
  },
  {
   "cell_type": "code",
   "execution_count": 68,
   "metadata": {
    "ExecuteTime": {
     "end_time": "2018-03-13T23:52:30.951342Z",
     "start_time": "2018-03-13T23:52:04.656918Z"
    },
    "collapsed": true
   },
   "outputs": [],
   "source": [
    "SUBM = f'{PATH}rf_rnn/subm/'\n",
    "os.makedirs(SUBM, exist_ok=True)\n",
    "\n",
    "test.to_csv(f'{SUBM}rf_v3.csv.gz', columns=['id','unit_sales'], index=False, compression='gzip')"
   ]
  },
  {
   "cell_type": "code",
   "execution_count": 69,
   "metadata": {
    "ExecuteTime": {
     "end_time": "2018-03-13T23:52:55.942289Z",
     "start_time": "2018-03-13T23:52:40.785457Z"
    }
   },
   "outputs": [
    {
     "name": "stdout",
     "output_type": "stream",
     "text": [
      "Successfully submitted to Corporación Favorita Grocery Sales Forecasting"
     ]
    }
   ],
   "source": [
    "!kaggle competitions submit -c favorita-grocery-sales-forecasting -f {SUBM}rf_v3.csv.gz -m \"random forest version 3\"\n",
    "# v1 => 1.223 -- throwaway\n",
    "# v2 => 0.581\n",
    "# v3 => 0.865 (last 3 months) -- throwaway\n",
    "# v4 => 0.544 (last 3 months)"
   ]
  },
  {
   "cell_type": "markdown",
   "metadata": {},
   "source": [
    "## Train only on last ~3 months"
   ]
  },
  {
   "cell_type": "code",
   "execution_count": 40,
   "metadata": {
    "ExecuteTime": {
     "end_time": "2018-03-13T22:52:48.747148Z",
     "start_time": "2018-03-13T22:52:38.299400Z"
    },
    "collapsed": true
   },
   "outputs": [],
   "source": [
    "train = pd.read_feather(f'{PATH}rf_rnn/train_w_categories')"
   ]
  },
  {
   "cell_type": "code",
   "execution_count": 54,
   "metadata": {
    "ExecuteTime": {
     "end_time": "2018-03-13T23:01:43.065562Z",
     "start_time": "2018-03-13T23:01:43.040053Z"
    },
    "collapsed": true
   },
   "outputs": [],
   "source": [
    "# Extract the names of the least important features\n",
    "# least_important_features = [feature[0] for feature in feature_importances[9:]]\n",
    "\n",
    "least_important_features = list(train.columns)[11:-1]\n",
    "least_important_features.extend(list(['Year']))"
   ]
  },
  {
   "cell_type": "code",
   "execution_count": 55,
   "metadata": {
    "ExecuteTime": {
     "end_time": "2018-03-13T23:01:59.933487Z",
     "start_time": "2018-03-13T23:01:59.305696Z"
    },
    "collapsed": true
   },
   "outputs": [],
   "source": [
    "train.drop(columns=least_important_features, inplace=True)"
   ]
  },
  {
   "cell_type": "code",
   "execution_count": 59,
   "metadata": {
    "ExecuteTime": {
     "end_time": "2018-03-13T23:06:02.202979Z",
     "start_time": "2018-03-13T23:05:18.195005Z"
    },
    "collapsed": true
   },
   "outputs": [],
   "source": [
    "df, y, nas, mapper = proc_df(train, 'unit_sales', do_scale=True)"
   ]
  },
  {
   "cell_type": "code",
   "execution_count": 60,
   "metadata": {
    "ExecuteTime": {
     "end_time": "2018-03-13T23:06:26.749634Z",
     "start_time": "2018-03-13T23:06:26.719612Z"
    },
    "collapsed": true
   },
   "outputs": [],
   "source": [
    "del train  # need to save memory"
   ]
  },
  {
   "cell_type": "code",
   "execution_count": 61,
   "metadata": {
    "ExecuteTime": {
     "end_time": "2018-03-13T23:49:36.860279Z",
     "start_time": "2018-03-13T23:15:12.151070Z"
    }
   },
   "outputs": [
    {
     "name": "stdout",
     "output_type": "stream",
     "text": [
      "CPU times: user 4h 23min 52s, sys: 20.7 s, total: 4h 24min 13s\n",
      "Wall time: 34min 24s\n"
     ]
    },
    {
     "data": {
      "text/plain": [
       "RandomForestRegressor(bootstrap=True, criterion='mse', max_depth=None,\n",
       "           max_features='auto', max_leaf_nodes=None,\n",
       "           min_impurity_decrease=0.0, min_impurity_split=None,\n",
       "           min_samples_leaf=50, min_samples_split=2,\n",
       "           min_weight_fraction_leaf=0.0, n_estimators=100, n_jobs=-1,\n",
       "           oob_score=False, random_state=None, verbose=0, warm_start=False)"
      ]
     },
     "execution_count": 61,
     "metadata": {},
     "output_type": "execute_result"
    }
   ],
   "source": [
    "m = RandomForestRegressor(n_estimators=100, min_samples_leaf=50, n_jobs=-1)\n",
    "%time m.fit(df, y)"
   ]
  },
  {
   "cell_type": "markdown",
   "metadata": {},
   "source": [
    "### Apply to Test Data"
   ]
  },
  {
   "cell_type": "code",
   "execution_count": null,
   "metadata": {
    "collapsed": true
   },
   "outputs": [],
   "source": [
    "test = pd.read_feather(f'{PATH}rf_rnn/test_w_categories')"
   ]
  },
  {
   "cell_type": "code",
   "execution_count": null,
   "metadata": {
    "collapsed": true
   },
   "outputs": [],
   "source": [
    "test.drop(columns=least_important_features, inplace=True)"
   ]
  },
  {
   "cell_type": "code",
   "execution_count": null,
   "metadata": {
    "collapsed": true
   },
   "outputs": [],
   "source": [
    "# add in y value to test: 'unit sales'\n",
    "test['unit_sales'] = 0.0"
   ]
  },
  {
   "cell_type": "code",
   "execution_count": null,
   "metadata": {
    "collapsed": true
   },
   "outputs": [],
   "source": [
    "df_test, _, nas, mapper = proc_df(test, 'unit_sales', skip_flds=['id'], na_dict=nas, do_scale=True, mapper=mapper)"
   ]
  },
  {
   "cell_type": "code",
   "execution_count": null,
   "metadata": {
    "collapsed": true
   },
   "outputs": [],
   "source": [
    "test['unit_sales'] = np.expm1(m.predict(df_test)) # re-scale predictions and add to df"
   ]
  },
  {
   "cell_type": "code",
   "execution_count": null,
   "metadata": {
    "collapsed": true
   },
   "outputs": [],
   "source": [
    "SUBM = f'{PATH}rf_rnn/subm/'\n",
    "os.makedirs(SUBM, exist_ok=True)"
   ]
  },
  {
   "cell_type": "code",
   "execution_count": null,
   "metadata": {
    "collapsed": true
   },
   "outputs": [],
   "source": [
    "test.to_csv(f'{SUBM}rf_v4.csv.gz', columns=['id','unit_sales'], index=False, compression='gzip')"
   ]
  },
  {
   "cell_type": "code",
   "execution_count": null,
   "metadata": {
    "collapsed": true
   },
   "outputs": [],
   "source": [
    "!kaggle competitions submit -c favorita-grocery-sales-forecasting -f {SUBM}rf_v4.csv.gz -m \"random forest version 4\"\n",
    "# v4 => 0.544 (last 3 months)"
   ]
  }
 ],
 "metadata": {
  "kernelspec": {
   "display_name": "Python 3",
   "language": "python",
   "name": "python3"
  },
  "language_info": {
   "codemirror_mode": {
    "name": "ipython",
    "version": 3
   },
   "file_extension": ".py",
   "mimetype": "text/x-python",
   "name": "python",
   "nbconvert_exporter": "python",
   "pygments_lexer": "ipython3",
   "version": "3.6.3"
  },
  "toc": {
   "nav_menu": {},
   "number_sections": true,
   "sideBar": true,
   "skip_h1_title": false,
   "title_cell": "Table of Contents",
   "title_sidebar": "Contents",
   "toc_cell": false,
   "toc_position": {},
   "toc_section_display": true,
   "toc_window_display": false
  },
  "varInspector": {
   "cols": {
    "lenName": 16,
    "lenType": 16,
    "lenVar": 40
   },
   "kernels_config": {
    "python": {
     "delete_cmd_postfix": "",
     "delete_cmd_prefix": "del ",
     "library": "var_list.py",
     "varRefreshCmd": "print(var_dic_list())"
    },
    "r": {
     "delete_cmd_postfix": ") ",
     "delete_cmd_prefix": "rm(",
     "library": "var_list.r",
     "varRefreshCmd": "cat(var_dic_list()) "
    }
   },
   "position": {
    "height": "144px",
    "left": "1048px",
    "right": "20px",
    "top": "119px",
    "width": "350px"
   },
   "types_to_exclude": [
    "module",
    "function",
    "builtin_function_or_method",
    "instance",
    "_Feature"
   ],
   "window_display": false
  }
 },
 "nbformat": 4,
 "nbformat_minor": 2
}
