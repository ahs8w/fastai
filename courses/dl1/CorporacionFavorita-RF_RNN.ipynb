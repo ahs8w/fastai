{
 "cells": [
  {
   "cell_type": "code",
   "execution_count": 34,
   "metadata": {
    "ExecuteTime": {
     "end_time": "2018-03-13T22:51:57.805794Z",
     "start_time": "2018-03-13T22:51:57.773079Z"
    }
   },
   "outputs": [],
   "source": [
    "%matplotlib inline\n",
    "%reload_ext autoreload\n",
    "%autoreload 2"
   ]
  },
  {
   "cell_type": "code",
   "execution_count": 35,
   "metadata": {
    "ExecuteTime": {
     "end_time": "2018-03-13T22:51:58.406779Z",
     "start_time": "2018-03-13T22:51:58.382704Z"
    }
   },
   "outputs": [],
   "source": [
    "from fastai.structured import *\n",
    "from fastai.column_data import *\n",
    "np.set_printoptions(threshold=50, edgeitems=25)\n",
    "\n",
    "PATH='data/favorita/'"
   ]
  },
  {
   "cell_type": "code",
   "execution_count": 36,
   "metadata": {
    "ExecuteTime": {
     "end_time": "2018-03-13T22:51:59.222942Z",
     "start_time": "2018-03-13T22:51:59.070907Z"
    }
   },
   "outputs": [
    {
     "name": "stdout",
     "output_type": "stream",
     "text": [
      "holidays_events.csv  oil.csv\t\t    stores.csv\ttrain.csv\r\n",
      "items.csv\t     rf_rnn\t\t    test.csv\ttransactions.csv\r\n",
      "models\t\t     sample_submission.csv  tmp\r\n"
     ]
    }
   ],
   "source": [
    "!ls {PATH}"
   ]
  },
  {
   "cell_type": "code",
   "execution_count": 37,
   "metadata": {
    "ExecuteTime": {
     "end_time": "2018-03-13T22:51:59.952781Z",
     "start_time": "2018-03-13T22:51:59.926565Z"
    }
   },
   "outputs": [],
   "source": [
    "from IPython.display import HTML"
   ]
  },
  {
   "cell_type": "markdown",
   "metadata": {},
   "source": [
    "# Standard ML workflow:\n",
    "\n",
    "1. State the question and determine required data\n",
    "2. Acquire the data in an accessible format\n",
    "3. Identify and correct missing data points/anomalies as required\n",
    "4. Prepare the data for the machine learning model\n",
    "5. Establish a baseline model that you aim to exceed\n",
    "6. Train the model on the training data\n",
    "7. Make predictions on the test data\n",
    "8. Compare predictions to the known test set targets and calculate performance metrics\n",
    "9. If performance is not satisfactory, adjust the model, acquire more data, or try a different modeling technique\n",
    "10. Interpret model and report results visually and numerically"
   ]
  },
  {
   "cell_type": "markdown",
   "metadata": {
    "heading_collapsed": true
   },
   "source": [
    "## Moving averages\n",
    "https://www.kaggle.com/paulorzp/log-ma-and-days-of-week-means-lb-0-529/code"
   ]
  },
  {
   "cell_type": "code",
   "execution_count": 5,
   "metadata": {
    "ExecuteTime": {
     "end_time": "2018-03-12T19:07:11.244274Z",
     "start_time": "2018-03-12T19:07:11.224912Z"
    },
    "hidden": true
   },
   "outputs": [],
   "source": [
    "dtypes = {'id':'uint32', 'item_nbr':'uint32', 'store_nbr':'uint8', 'unit_sales':'float32', 'onpromotion': np.dtype('bool')}"
   ]
  },
  {
   "cell_type": "code",
   "execution_count": 6,
   "metadata": {
    "ExecuteTime": {
     "end_time": "2018-03-12T19:08:34.362563Z",
     "start_time": "2018-03-12T19:07:13.474885Z"
    },
    "hidden": true
   },
   "outputs": [
    {
     "name": "stderr",
     "output_type": "stream",
     "text": [
      "/home/paperspace/anaconda3/envs/fastai/lib/python3.6/site-packages/numpy/lib/arraysetops.py:466: FutureWarning: elementwise comparison failed; returning scalar instead, but in the future will perform elementwise comparison\n",
      "  mask |= (ar1 == a)\n"
     ]
    }
   ],
   "source": [
    "train = pd.read_csv(f'{PATH}train.csv', index_col='id', dtype=dtypes, parse_dates=['date'], skiprows=range(1, 86672217))  #Skip dates before 2016-08-01"
   ]
  },
  {
   "cell_type": "code",
   "execution_count": 7,
   "metadata": {
    "ExecuteTime": {
     "end_time": "2018-03-12T19:09:14.377251Z",
     "start_time": "2018-03-12T19:08:34.363966Z"
    },
    "hidden": true
   },
   "outputs": [],
   "source": [
    "# creating records for all items, in all markets on all dates\n",
    "# for correct calculation of daily unit sales averages.\n",
    "u_dates = train.date.unique()\n",
    "u_stores = train.store_nbr.unique()\n",
    "u_items = train.item_nbr.unique()\n",
    "train.set_index(['date', 'store_nbr', 'item_nbr'], inplace=True)\n",
    "train = train.reindex(\n",
    "    pd.MultiIndex.from_product(\n",
    "        (u_dates, u_stores, u_items),\n",
    "        names=['date','store_nbr','item_nbr']\n",
    "    )\n",
    ").reset_index()\n",
    "\n",
    "del u_dates, u_stores, u_items\n",
    "\n",
    "train.loc[:, 'unit_sales'].fillna(0, inplace=True) # fill NaNs\n",
    "train.loc[:, 'onpromotion'].fillna(False, inplace=True) # fill NaNs\n",
    "lastdate = train.iloc[train.shape[0]-1].date"
   ]
  },
  {
   "cell_type": "code",
   "execution_count": 8,
   "metadata": {
    "ExecuteTime": {
     "end_time": "2018-03-12T19:09:20.075274Z",
     "start_time": "2018-03-12T19:09:14.379673Z"
    },
    "hidden": true
   },
   "outputs": [],
   "source": [
    "train.loc[(train.unit_sales<0),'unit_sales'] = 0 # eliminate negatives\n",
    "train['unit_sales'] =  train['unit_sales'].apply(pd.np.log1p) #logarithm conversion\n",
    "train['dow'] = train['date'].dt.dayofweek"
   ]
  },
  {
   "cell_type": "code",
   "execution_count": 9,
   "metadata": {
    "ExecuteTime": {
     "end_time": "2018-03-12T19:09:56.111255Z",
     "start_time": "2018-03-12T19:09:49.466467Z"
    },
    "hidden": true
   },
   "outputs": [],
   "source": [
    "os.makedirs(f'{PATH}rf_rnn', exist_ok=True)\n",
    "train.to_feather(f'{PATH}rf_rnn/train_full_year')"
   ]
  },
  {
   "cell_type": "code",
   "execution_count": null,
   "metadata": {
    "ExecuteTime": {
     "end_time": "2018-03-12T17:33:21.186534Z",
     "start_time": "2018-03-12T17:33:21.164856Z"
    },
    "hidden": true
   },
   "outputs": [],
   "source": [
    "train = pd.read_feather(f'{PATH}rf_rnn/train_full_year')\n",
    "lastdate = train.iloc[train.shape[0]-1].date"
   ]
  },
  {
   "cell_type": "code",
   "execution_count": 10,
   "metadata": {
    "ExecuteTime": {
     "end_time": "2018-03-12T19:10:16.359020Z",
     "start_time": "2018-03-12T19:10:01.656576Z"
    },
    "hidden": true
   },
   "outputs": [],
   "source": [
    "#Days of Week Means\n",
    "#By tarobxl: https://www.kaggle.com/c/favorita-grocery-sales-forecasting/discussion/42948\n",
    "ma_dw = train[['item_nbr','store_nbr','dow','unit_sales']].groupby(\n",
    "        ['item_nbr','store_nbr','dow'])['unit_sales'].mean().to_frame('madw').reset_index()\n",
    "ma_wk = ma_dw[['item_nbr','store_nbr','madw']].groupby(\n",
    "        ['store_nbr', 'item_nbr'])['madw'].mean().to_frame('mawk').reset_index()"
   ]
  },
  {
   "cell_type": "code",
   "execution_count": 11,
   "metadata": {
    "ExecuteTime": {
     "end_time": "2018-03-12T19:10:38.646677Z",
     "start_time": "2018-03-12T19:10:16.360500Z"
    },
    "hidden": true
   },
   "outputs": [
    {
     "data": {
      "text/html": [
       "<div>\n",
       "<style scoped>\n",
       "    .dataframe tbody tr th:only-of-type {\n",
       "        vertical-align: middle;\n",
       "    }\n",
       "\n",
       "    .dataframe tbody tr th {\n",
       "        vertical-align: top;\n",
       "    }\n",
       "\n",
       "    .dataframe thead th {\n",
       "        text-align: right;\n",
       "    }\n",
       "</style>\n",
       "<table border=\"1\" class=\"dataframe\">\n",
       "  <thead>\n",
       "    <tr style=\"text-align: right;\">\n",
       "      <th></th>\n",
       "      <th>item_nbr</th>\n",
       "      <th>store_nbr</th>\n",
       "      <th>mais</th>\n",
       "    </tr>\n",
       "  </thead>\n",
       "  <tbody>\n",
       "    <tr>\n",
       "      <th>0</th>\n",
       "      <td>96995</td>\n",
       "      <td>1</td>\n",
       "      <td>0.126638</td>\n",
       "    </tr>\n",
       "    <tr>\n",
       "      <th>1</th>\n",
       "      <td>96995</td>\n",
       "      <td>2</td>\n",
       "      <td>0.024755</td>\n",
       "    </tr>\n",
       "    <tr>\n",
       "      <th>2</th>\n",
       "      <td>96995</td>\n",
       "      <td>3</td>\n",
       "      <td>0.355917</td>\n",
       "    </tr>\n",
       "    <tr>\n",
       "      <th>3</th>\n",
       "      <td>96995</td>\n",
       "      <td>4</td>\n",
       "      <td>0.124828</td>\n",
       "    </tr>\n",
       "    <tr>\n",
       "      <th>4</th>\n",
       "      <td>96995</td>\n",
       "      <td>5</td>\n",
       "      <td>0.118639</td>\n",
       "    </tr>\n",
       "  </tbody>\n",
       "</table>\n",
       "</div>"
      ],
      "text/plain": [
       "   item_nbr  store_nbr      mais\n",
       "0     96995          1  0.126638\n",
       "1     96995          2  0.024755\n",
       "2     96995          3  0.355917\n",
       "3     96995          4  0.124828\n",
       "4     96995          5  0.118639"
      ]
     },
     "execution_count": 11,
     "metadata": {},
     "output_type": "execute_result"
    }
   ],
   "source": [
    "from datetime import timedelta\n",
    "\n",
    "#Moving Averages\n",
    "ma_is = train[['item_nbr','store_nbr','unit_sales']].groupby(\n",
    "        ['item_nbr','store_nbr'])['unit_sales'].mean().to_frame('mais')\n",
    "\n",
    "for i in [112,56,28,14,7,3,1]:\n",
    "    tmp = train[train.date>lastdate-timedelta(int(i))]\n",
    "    tmpg = tmp.groupby(['item_nbr','store_nbr'])['unit_sales'].mean().to_frame('mais'+str(i))\n",
    "    ma_is = ma_is.join(tmpg, how='left')\n",
    "\n",
    "del tmp,tmpg\n",
    "\n",
    "ma_is['mais']=ma_is.median(axis=1)\n",
    "ma_is.reset_index(inplace=True)\n",
    "ma_is.drop(list(ma_is.columns.values)[3:],1,inplace=True)\n",
    "ma_is.head()"
   ]
  },
  {
   "cell_type": "code",
   "execution_count": 12,
   "metadata": {
    "ExecuteTime": {
     "end_time": "2018-03-12T19:10:48.374274Z",
     "start_time": "2018-03-12T19:10:45.416870Z"
    },
    "hidden": true
   },
   "outputs": [],
   "source": [
    "#Load test\n",
    "test = pd.read_csv(f'{PATH}test.csv', dtype=dtypes, parse_dates=['date'])\n",
    "test['dow'] = test['date'].dt.dayofweek"
   ]
  },
  {
   "cell_type": "code",
   "execution_count": 13,
   "metadata": {
    "ExecuteTime": {
     "end_time": "2018-03-12T19:12:21.924446Z",
     "start_time": "2018-03-12T19:10:48.375515Z"
    },
    "hidden": true
   },
   "outputs": [],
   "source": [
    "# merge moving averages onto test df\n",
    "test = pd.merge(test, ma_is, how='left', on=['item_nbr','store_nbr'])\n",
    "test = pd.merge(test, ma_wk, how='left', on=['item_nbr','store_nbr'])\n",
    "test = pd.merge(test, ma_dw, how='left', on=['item_nbr','store_nbr','dow'])\n",
    "\n",
    "# merge moving averages onto train df\n",
    "train = pd.merge(train, ma_is, how='left', on=['item_nbr','store_nbr'])\n",
    "train = pd.merge(train, ma_wk, how='left', on=['item_nbr','store_nbr'])\n",
    "train = pd.merge(train, ma_dw, how='left', on=['item_nbr','store_nbr','dow'])"
   ]
  },
  {
   "cell_type": "code",
   "execution_count": 14,
   "metadata": {
    "ExecuteTime": {
     "end_time": "2018-03-12T19:12:21.945948Z",
     "start_time": "2018-03-12T19:12:21.925976Z"
    },
    "hidden": true
   },
   "outputs": [],
   "source": [
    "del ma_is, ma_wk, ma_dw"
   ]
  },
  {
   "cell_type": "markdown",
   "metadata": {
    "heading_collapsed": true
   },
   "source": [
    "## Calculate m_average for train/test"
   ]
  },
  {
   "cell_type": "code",
   "execution_count": 15,
   "metadata": {
    "ExecuteTime": {
     "end_time": "2018-03-12T19:13:01.452895Z",
     "start_time": "2018-03-12T19:12:49.997816Z"
    },
    "hidden": true
   },
   "outputs": [
    {
     "data": {
      "text/html": [
       "<div>\n",
       "<style scoped>\n",
       "    .dataframe tbody tr th:only-of-type {\n",
       "        vertical-align: middle;\n",
       "    }\n",
       "\n",
       "    .dataframe tbody tr th {\n",
       "        vertical-align: top;\n",
       "    }\n",
       "\n",
       "    .dataframe thead th {\n",
       "        text-align: right;\n",
       "    }\n",
       "</style>\n",
       "<table border=\"1\" class=\"dataframe\">\n",
       "  <thead>\n",
       "    <tr style=\"text-align: right;\">\n",
       "      <th></th>\n",
       "      <th>date</th>\n",
       "      <th>store_nbr</th>\n",
       "      <th>item_nbr</th>\n",
       "      <th>unit_sales</th>\n",
       "      <th>onpromotion</th>\n",
       "      <th>m_average</th>\n",
       "    </tr>\n",
       "  </thead>\n",
       "  <tbody>\n",
       "    <tr>\n",
       "      <th>0</th>\n",
       "      <td>2016-08-01</td>\n",
       "      <td>1</td>\n",
       "      <td>103520</td>\n",
       "      <td>1.386294</td>\n",
       "      <td>False</td>\n",
       "      <td>0.681978</td>\n",
       "    </tr>\n",
       "    <tr>\n",
       "      <th>1</th>\n",
       "      <td>2016-08-01</td>\n",
       "      <td>1</td>\n",
       "      <td>103665</td>\n",
       "      <td>1.098612</td>\n",
       "      <td>False</td>\n",
       "      <td>0.810734</td>\n",
       "    </tr>\n",
       "    <tr>\n",
       "      <th>2</th>\n",
       "      <td>2016-08-01</td>\n",
       "      <td>1</td>\n",
       "      <td>105574</td>\n",
       "      <td>2.079442</td>\n",
       "      <td>False</td>\n",
       "      <td>1.832890</td>\n",
       "    </tr>\n",
       "    <tr>\n",
       "      <th>3</th>\n",
       "      <td>2016-08-01</td>\n",
       "      <td>1</td>\n",
       "      <td>105575</td>\n",
       "      <td>2.639057</td>\n",
       "      <td>False</td>\n",
       "      <td>2.371175</td>\n",
       "    </tr>\n",
       "    <tr>\n",
       "      <th>4</th>\n",
       "      <td>2016-08-01</td>\n",
       "      <td>1</td>\n",
       "      <td>105577</td>\n",
       "      <td>1.098612</td>\n",
       "      <td>False</td>\n",
       "      <td>0.551112</td>\n",
       "    </tr>\n",
       "  </tbody>\n",
       "</table>\n",
       "</div>"
      ],
      "text/plain": [
       "        date  store_nbr  item_nbr  unit_sales  onpromotion  m_average\n",
       "0 2016-08-01          1    103520    1.386294        False   0.681978\n",
       "1 2016-08-01          1    103665    1.098612        False   0.810734\n",
       "2 2016-08-01          1    105574    2.079442        False   1.832890\n",
       "3 2016-08-01          1    105575    2.639057        False   2.371175\n",
       "4 2016-08-01          1    105577    1.098612        False   0.551112"
      ]
     },
     "execution_count": 15,
     "metadata": {},
     "output_type": "execute_result"
    }
   ],
   "source": [
    "train['m_average'] = train.mais\n",
    "pos_idx = train['mawk'] > 0  # avoid division by zero error\n",
    "train_pos = train.loc[pos_idx]\n",
    "train.loc[pos_idx, 'm_average'] = train_pos['mais'] * train_pos['madw'] / train_pos['mawk']\n",
    "train.loc[:, 'm_average'].fillna(0, inplace=True)\n",
    "train.drop(['mais', 'mawk', 'madw', 'dow'], axis=1, inplace=True); train.head()"
   ]
  },
  {
   "cell_type": "code",
   "execution_count": 16,
   "metadata": {
    "ExecuteTime": {
     "end_time": "2018-03-12T19:13:01.762640Z",
     "start_time": "2018-03-12T19:13:01.454277Z"
    },
    "hidden": true
   },
   "outputs": [
    {
     "data": {
      "text/html": [
       "<div>\n",
       "<style scoped>\n",
       "    .dataframe tbody tr th:only-of-type {\n",
       "        vertical-align: middle;\n",
       "    }\n",
       "\n",
       "    .dataframe tbody tr th {\n",
       "        vertical-align: top;\n",
       "    }\n",
       "\n",
       "    .dataframe thead th {\n",
       "        text-align: right;\n",
       "    }\n",
       "</style>\n",
       "<table border=\"1\" class=\"dataframe\">\n",
       "  <thead>\n",
       "    <tr style=\"text-align: right;\">\n",
       "      <th></th>\n",
       "      <th>id</th>\n",
       "      <th>date</th>\n",
       "      <th>store_nbr</th>\n",
       "      <th>item_nbr</th>\n",
       "      <th>onpromotion</th>\n",
       "      <th>m_average</th>\n",
       "    </tr>\n",
       "  </thead>\n",
       "  <tbody>\n",
       "    <tr>\n",
       "      <th>0</th>\n",
       "      <td>125497040</td>\n",
       "      <td>2017-08-16</td>\n",
       "      <td>1</td>\n",
       "      <td>96995</td>\n",
       "      <td>False</td>\n",
       "      <td>0.114198</td>\n",
       "    </tr>\n",
       "    <tr>\n",
       "      <th>1</th>\n",
       "      <td>125497041</td>\n",
       "      <td>2017-08-16</td>\n",
       "      <td>1</td>\n",
       "      <td>99197</td>\n",
       "      <td>False</td>\n",
       "      <td>0.217388</td>\n",
       "    </tr>\n",
       "    <tr>\n",
       "      <th>2</th>\n",
       "      <td>125497042</td>\n",
       "      <td>2017-08-16</td>\n",
       "      <td>1</td>\n",
       "      <td>103501</td>\n",
       "      <td>False</td>\n",
       "      <td>0.000000</td>\n",
       "    </tr>\n",
       "    <tr>\n",
       "      <th>3</th>\n",
       "      <td>125497043</td>\n",
       "      <td>2017-08-16</td>\n",
       "      <td>1</td>\n",
       "      <td>103520</td>\n",
       "      <td>False</td>\n",
       "      <td>0.763717</td>\n",
       "    </tr>\n",
       "    <tr>\n",
       "      <th>4</th>\n",
       "      <td>125497044</td>\n",
       "      <td>2017-08-16</td>\n",
       "      <td>1</td>\n",
       "      <td>103665</td>\n",
       "      <td>False</td>\n",
       "      <td>1.012761</td>\n",
       "    </tr>\n",
       "  </tbody>\n",
       "</table>\n",
       "</div>"
      ],
      "text/plain": [
       "          id       date  store_nbr  item_nbr  onpromotion  m_average\n",
       "0  125497040 2017-08-16          1     96995        False   0.114198\n",
       "1  125497041 2017-08-16          1     99197        False   0.217388\n",
       "2  125497042 2017-08-16          1    103501        False   0.000000\n",
       "3  125497043 2017-08-16          1    103520        False   0.763717\n",
       "4  125497044 2017-08-16          1    103665        False   1.012761"
      ]
     },
     "execution_count": 16,
     "metadata": {},
     "output_type": "execute_result"
    }
   ],
   "source": [
    "test['m_average'] = test.mais\n",
    "pos_idx = test['mawk'] > 0\n",
    "test_pos = test.loc[pos_idx]\n",
    "test.loc[pos_idx, 'm_average'] = test_pos['mais'] * test_pos['madw'] / test_pos['mawk']\n",
    "test.loc[:, \"m_average\"].fillna(0, inplace=True)\n",
    "test.drop(['mais', 'mawk', 'madw', 'dow'], axis=1, inplace=True); test.head()"
   ]
  },
  {
   "cell_type": "code",
   "execution_count": 17,
   "metadata": {
    "ExecuteTime": {
     "end_time": "2018-03-12T19:13:08.593368Z",
     "start_time": "2018-03-12T19:13:01.765440Z"
    },
    "hidden": true
   },
   "outputs": [],
   "source": [
    "train.to_feather(f'{PATH}rf_rnn/train_w_averages')\n",
    "test.to_feather(f'{PATH}rf_rnn/test_w_averages')"
   ]
  },
  {
   "cell_type": "markdown",
   "metadata": {
    "heading_collapsed": true
   },
   "source": [
    "## Establish baseline (moving averages)"
   ]
  },
  {
   "cell_type": "code",
   "execution_count": 18,
   "metadata": {
    "ExecuteTime": {
     "end_time": "2018-03-13T16:23:10.084613Z",
     "start_time": "2018-03-13T16:23:10.066197Z"
    },
    "hidden": true
   },
   "outputs": [],
   "source": [
    "# Root Mean Squared Logarathimic Error\n",
    "# kaggle definition\n",
    "# np.square(np.log(y_pred + 1) - np.log(y_true + 1)).mean() ** 0.5\n",
    "\n",
    "def rmsle(pred, targ):\n",
    "    # pred and targs are both log1p values already\n",
    "    mean_diff = np.square(pred - targ).mean()\n",
    "    return round(math.sqrt(mean_diff), 4)"
   ]
  },
  {
   "cell_type": "code",
   "execution_count": 30,
   "metadata": {
    "ExecuteTime": {
     "end_time": "2018-03-12T19:22:58.081685Z",
     "start_time": "2018-03-12T19:22:54.725581Z"
    },
    "hidden": true
   },
   "outputs": [],
   "source": [
    "# testing 25% more for promotion items\n",
    "# train['m_average_promo'] = train['m_average']\n",
    "# train.loc[train['onpromotion'] == True, 'm_average_promo'] *= 1.25\n",
    "\n",
    "# drop m_average_promo columns from train/valid\n",
    "# train.drop('m_average_promo', axis=1, inplace=True)\n",
    "# valid.drop('m_average_promo', axis=1, inplace=True)"
   ]
  },
  {
   "cell_type": "code",
   "execution_count": 19,
   "metadata": {
    "ExecuteTime": {
     "end_time": "2018-03-12T19:14:06.402788Z",
     "start_time": "2018-03-12T19:14:05.498311Z"
    },
    "hidden": true
   },
   "outputs": [
    {
     "data": {
      "text/plain": [
       "0.7158"
      ]
     },
     "execution_count": 19,
     "metadata": {},
     "output_type": "execute_result"
    }
   ],
   "source": [
    "# The baseline predictions on full training set\n",
    "rmsle(train.m_average, train.unit_sales)  #=> 0.7158"
   ]
  },
  {
   "cell_type": "code",
   "execution_count": 23,
   "metadata": {
    "ExecuteTime": {
     "end_time": "2018-03-12T19:17:20.147129Z",
     "start_time": "2018-03-12T19:17:19.248870Z"
    },
    "hidden": true
   },
   "outputs": [
    {
     "data": {
      "text/plain": [
       "0.7133"
      ]
     },
     "execution_count": 23,
     "metadata": {},
     "output_type": "execute_result"
    }
   ],
   "source": [
    "# baseline predictions on full training set w/ promo multiplier\n",
    "rmsle(train.m_average_promo, train.unit_sales)  #=> 0.7133"
   ]
  },
  {
   "cell_type": "code",
   "execution_count": 27,
   "metadata": {
    "ExecuteTime": {
     "end_time": "2018-03-12T19:19:03.075542Z",
     "start_time": "2018-03-12T19:19:02.970763Z"
    },
    "hidden": true
   },
   "outputs": [
    {
     "data": {
      "text/plain": [
       "0.5138"
      ]
     },
     "execution_count": 27,
     "metadata": {},
     "output_type": "execute_result"
    }
   ],
   "source": [
    "# baseline predictions on validation set\n",
    "rmsle(valid.m_average, valid.unit_sales)  #=> 0.5138"
   ]
  },
  {
   "cell_type": "code",
   "execution_count": 28,
   "metadata": {
    "ExecuteTime": {
     "end_time": "2018-03-12T19:19:28.524795Z",
     "start_time": "2018-03-12T19:19:28.420519Z"
    },
    "hidden": true
   },
   "outputs": [
    {
     "data": {
      "text/plain": [
       "0.5116"
      ]
     },
     "execution_count": 28,
     "metadata": {},
     "output_type": "execute_result"
    }
   ],
   "source": [
    "# baseline predictions on validation set w/ promo multiplier\n",
    "rmsle(valid.m_average_promo, valid.unit_sales)  #=> 0.5116"
   ]
  },
  {
   "cell_type": "markdown",
   "metadata": {
    "heading_collapsed": true,
    "hidden": true
   },
   "source": [
    "### Submit test on kaggle"
   ]
  },
  {
   "cell_type": "code",
   "execution_count": 42,
   "metadata": {
    "ExecuteTime": {
     "end_time": "2018-03-12T19:33:53.350133Z",
     "start_time": "2018-03-12T19:33:53.137039Z"
    },
    "hidden": true
   },
   "outputs": [],
   "source": [
    "# set unit_sales w/ promo multiplier\n",
    "test['unit_sales'] = test['m_average']\n",
    "test.loc[test['onpromotion'] == True, 'unit_sales'] *= 1.25\n",
    "\n",
    "# need to convert unit_sales back from log1p\n",
    "test['unit_sales'] = test['unit_sales'].apply(pd.np.expm1) # restoring unit values"
   ]
  },
  {
   "cell_type": "code",
   "execution_count": 49,
   "metadata": {
    "ExecuteTime": {
     "end_time": "2018-03-12T19:42:56.059891Z",
     "start_time": "2018-03-12T19:42:46.940768Z"
    },
    "hidden": true
   },
   "outputs": [],
   "source": [
    "SUBM = f'{PATH}rf_rnn/subm/'\n",
    "os.makedirs(SUBM, exist_ok=True)\n",
    "\n",
    "test.to_csv(f'{SUBM}m_average_promo.csv.gz', columns=['id','unit_sales'], index=False, compression='gzip')"
   ]
  },
  {
   "cell_type": "code",
   "execution_count": 48,
   "metadata": {
    "ExecuteTime": {
     "end_time": "2018-03-12T19:41:12.909916Z",
     "start_time": "2018-03-12T19:41:01.690247Z"
    },
    "hidden": true
   },
   "outputs": [
    {
     "name": "stdout",
     "output_type": "stream",
     "text": [
      "Successfully submitted to Corporación Favorita Grocery Sales Forecasting"
     ]
    }
   ],
   "source": [
    "!kaggle competitions submit -c favorita-grocery-sales-forecasting -f {SUBM}m_average_promo.csv.gz -m \"moving averages w/ promo multiplier\"\n",
    "#=> 0.537"
   ]
  },
  {
   "cell_type": "markdown",
   "metadata": {
    "hidden": true
   },
   "source": [
    "### Separate validation set"
   ]
  },
  {
   "cell_type": "code",
   "execution_count": 37,
   "metadata": {
    "ExecuteTime": {
     "end_time": "2018-03-12T19:30:29.683016Z",
     "start_time": "2018-03-12T19:30:28.294680Z"
    },
    "hidden": true
   },
   "outputs": [],
   "source": [
    "# last month\n",
    "valid = train.loc[train.date>='2017-07-15']"
   ]
  },
  {
   "cell_type": "code",
   "execution_count": 38,
   "metadata": {
    "ExecuteTime": {
     "end_time": "2018-03-12T19:30:29.710887Z",
     "start_time": "2018-03-12T19:30:29.684511Z"
    },
    "hidden": true
   },
   "outputs": [
    {
     "data": {
      "text/html": [
       "<div>\n",
       "<style scoped>\n",
       "    .dataframe tbody tr th:only-of-type {\n",
       "        vertical-align: middle;\n",
       "    }\n",
       "\n",
       "    .dataframe tbody tr th {\n",
       "        vertical-align: top;\n",
       "    }\n",
       "\n",
       "    .dataframe thead th {\n",
       "        text-align: right;\n",
       "    }\n",
       "</style>\n",
       "<table border=\"1\" class=\"dataframe\">\n",
       "  <thead>\n",
       "    <tr style=\"text-align: right;\">\n",
       "      <th></th>\n",
       "      <th>date</th>\n",
       "      <th>store_nbr</th>\n",
       "      <th>item_nbr</th>\n",
       "      <th>unit_sales</th>\n",
       "      <th>onpromotion</th>\n",
       "      <th>m_average</th>\n",
       "    </tr>\n",
       "  </thead>\n",
       "  <tbody>\n",
       "    <tr>\n",
       "      <th>75626563</th>\n",
       "      <td>2017-07-14</td>\n",
       "      <td>52</td>\n",
       "      <td>2122818</td>\n",
       "      <td>0.0</td>\n",
       "      <td>False</td>\n",
       "      <td>0.0</td>\n",
       "    </tr>\n",
       "    <tr>\n",
       "      <th>75626564</th>\n",
       "      <td>2017-07-14</td>\n",
       "      <td>52</td>\n",
       "      <td>2011459</td>\n",
       "      <td>0.0</td>\n",
       "      <td>False</td>\n",
       "      <td>0.0</td>\n",
       "    </tr>\n",
       "    <tr>\n",
       "      <th>75626565</th>\n",
       "      <td>2017-07-14</td>\n",
       "      <td>52</td>\n",
       "      <td>2126944</td>\n",
       "      <td>0.0</td>\n",
       "      <td>False</td>\n",
       "      <td>0.0</td>\n",
       "    </tr>\n",
       "    <tr>\n",
       "      <th>75626566</th>\n",
       "      <td>2017-07-14</td>\n",
       "      <td>52</td>\n",
       "      <td>2123839</td>\n",
       "      <td>0.0</td>\n",
       "      <td>False</td>\n",
       "      <td>0.0</td>\n",
       "    </tr>\n",
       "    <tr>\n",
       "      <th>75626567</th>\n",
       "      <td>2017-07-14</td>\n",
       "      <td>52</td>\n",
       "      <td>2011451</td>\n",
       "      <td>0.0</td>\n",
       "      <td>False</td>\n",
       "      <td>0.0</td>\n",
       "    </tr>\n",
       "  </tbody>\n",
       "</table>\n",
       "</div>"
      ],
      "text/plain": [
       "               date  store_nbr  item_nbr  unit_sales  onpromotion  m_average\n",
       "75626563 2017-07-14         52   2122818         0.0        False        0.0\n",
       "75626564 2017-07-14         52   2011459         0.0        False        0.0\n",
       "75626565 2017-07-14         52   2126944         0.0        False        0.0\n",
       "75626566 2017-07-14         52   2123839         0.0        False        0.0\n",
       "75626567 2017-07-14         52   2011451         0.0        False        0.0"
      ]
     },
     "execution_count": 38,
     "metadata": {},
     "output_type": "execute_result"
    }
   ],
   "source": [
    "# drop valid from train\n",
    "train = train[:-(len(valid))]; train.tail()"
   ]
  },
  {
   "cell_type": "code",
   "execution_count": 39,
   "metadata": {
    "ExecuteTime": {
     "end_time": "2018-03-12T19:30:29.931662Z",
     "start_time": "2018-03-12T19:30:29.712281Z"
    },
    "hidden": true
   },
   "outputs": [
    {
     "data": {
      "text/html": [
       "<div>\n",
       "<style scoped>\n",
       "    .dataframe tbody tr th:only-of-type {\n",
       "        vertical-align: middle;\n",
       "    }\n",
       "\n",
       "    .dataframe tbody tr th {\n",
       "        vertical-align: top;\n",
       "    }\n",
       "\n",
       "    .dataframe thead th {\n",
       "        text-align: right;\n",
       "    }\n",
       "</style>\n",
       "<table border=\"1\" class=\"dataframe\">\n",
       "  <thead>\n",
       "    <tr style=\"text-align: right;\">\n",
       "      <th></th>\n",
       "      <th>date</th>\n",
       "      <th>store_nbr</th>\n",
       "      <th>item_nbr</th>\n",
       "      <th>unit_sales</th>\n",
       "      <th>onpromotion</th>\n",
       "      <th>m_average</th>\n",
       "    </tr>\n",
       "  </thead>\n",
       "  <tbody>\n",
       "    <tr>\n",
       "      <th>0</th>\n",
       "      <td>2017-07-15</td>\n",
       "      <td>1</td>\n",
       "      <td>103520</td>\n",
       "      <td>0.693147</td>\n",
       "      <td>False</td>\n",
       "      <td>0.643326</td>\n",
       "    </tr>\n",
       "    <tr>\n",
       "      <th>1</th>\n",
       "      <td>2017-07-15</td>\n",
       "      <td>1</td>\n",
       "      <td>103665</td>\n",
       "      <td>0.000000</td>\n",
       "      <td>False</td>\n",
       "      <td>1.343232</td>\n",
       "    </tr>\n",
       "    <tr>\n",
       "      <th>2</th>\n",
       "      <td>2017-07-15</td>\n",
       "      <td>1</td>\n",
       "      <td>105574</td>\n",
       "      <td>1.945910</td>\n",
       "      <td>False</td>\n",
       "      <td>1.507704</td>\n",
       "    </tr>\n",
       "    <tr>\n",
       "      <th>3</th>\n",
       "      <td>2017-07-15</td>\n",
       "      <td>1</td>\n",
       "      <td>105575</td>\n",
       "      <td>2.397895</td>\n",
       "      <td>False</td>\n",
       "      <td>2.322006</td>\n",
       "    </tr>\n",
       "    <tr>\n",
       "      <th>4</th>\n",
       "      <td>2017-07-15</td>\n",
       "      <td>1</td>\n",
       "      <td>105577</td>\n",
       "      <td>0.000000</td>\n",
       "      <td>False</td>\n",
       "      <td>0.541284</td>\n",
       "    </tr>\n",
       "  </tbody>\n",
       "</table>\n",
       "</div>"
      ],
      "text/plain": [
       "        date  store_nbr  item_nbr  unit_sales  onpromotion  m_average\n",
       "0 2017-07-15          1    103520    0.693147        False   0.643326\n",
       "1 2017-07-15          1    103665    0.000000        False   1.343232\n",
       "2 2017-07-15          1    105574    1.945910        False   1.507704\n",
       "3 2017-07-15          1    105575    2.397895        False   2.322006\n",
       "4 2017-07-15          1    105577    0.000000        False   0.541284"
      ]
     },
     "execution_count": 39,
     "metadata": {},
     "output_type": "execute_result"
    }
   ],
   "source": [
    "valid = valid.reset_index(drop=True); valid.head()"
   ]
  },
  {
   "cell_type": "markdown",
   "metadata": {
    "heading_collapsed": true
   },
   "source": [
    "## Data prep - handle categorical variables"
   ]
  },
  {
   "cell_type": "code",
   "execution_count": 5,
   "metadata": {
    "ExecuteTime": {
     "end_time": "2018-03-13T00:41:21.283642Z",
     "start_time": "2018-03-13T00:41:11.583409Z"
    },
    "hidden": true
   },
   "outputs": [],
   "source": [
    "train = pd.read_feather(f'{PATH}rf_rnn/train_w_averages')\n",
    "test = pd.read_feather(f'{PATH}rf_rnn/test_w_averages')"
   ]
  },
  {
   "cell_type": "code",
   "execution_count": 9,
   "metadata": {
    "ExecuteTime": {
     "end_time": "2018-03-13T01:01:58.552227Z",
     "start_time": "2018-03-13T01:01:56.594876Z"
    },
    "hidden": true
   },
   "outputs": [],
   "source": [
    "# add date info\n",
    "add_datepart(train, 'date')\n",
    "add_datepart(test, 'date')"
   ]
  },
  {
   "cell_type": "code",
   "execution_count": 16,
   "metadata": {
    "ExecuteTime": {
     "end_time": "2018-03-13T01:10:57.700012Z",
     "start_time": "2018-03-13T01:10:57.684547Z"
    },
    "hidden": true
   },
   "outputs": [],
   "source": [
    "cat_vars = ['store_nbr', 'item_nbr']"
   ]
  },
  {
   "cell_type": "code",
   "execution_count": 31,
   "metadata": {
    "ExecuteTime": {
     "end_time": "2018-03-13T01:18:18.350925Z",
     "start_time": "2018-03-13T01:18:14.098216Z"
    },
    "hidden": true
   },
   "outputs": [],
   "source": [
    "for v in cat_vars:\n",
    "    train[v] = train[v].astype('category').cat.as_ordered()"
   ]
  },
  {
   "cell_type": "code",
   "execution_count": 32,
   "metadata": {
    "ExecuteTime": {
     "end_time": "2018-03-13T01:19:18.300034Z",
     "start_time": "2018-03-13T01:19:17.617574Z"
    },
    "hidden": true
   },
   "outputs": [],
   "source": [
    "apply_cats(test, train)"
   ]
  },
  {
   "cell_type": "code",
   "execution_count": 37,
   "metadata": {
    "ExecuteTime": {
     "end_time": "2018-03-13T01:29:20.953972Z",
     "start_time": "2018-03-13T01:29:13.353482Z"
    },
    "hidden": true
   },
   "outputs": [],
   "source": [
    "train.to_feather(f'{PATH}rf_rnn/train_w_categories')\n",
    "test.to_feather(f'{PATH}rf_rnn/test_w_categories')"
   ]
  },
  {
   "cell_type": "markdown",
   "metadata": {
    "heading_collapsed": true
   },
   "source": [
    "## Separate target from df"
   ]
  },
  {
   "cell_type": "code",
   "execution_count": 5,
   "metadata": {
    "ExecuteTime": {
     "end_time": "2018-03-13T16:16:58.057719Z",
     "start_time": "2018-03-13T16:16:37.653525Z"
    },
    "hidden": true
   },
   "outputs": [],
   "source": [
    "train = pd.read_feather(f'{PATH}rf_rnn/train_w_categories')\n",
    "# test = pd.read_feather(f'{PATH}rf_rnn/test_w_categories')"
   ]
  },
  {
   "cell_type": "code",
   "execution_count": 7,
   "metadata": {
    "ExecuteTime": {
     "end_time": "2018-03-13T16:18:11.676041Z",
     "start_time": "2018-03-13T16:17:59.724153Z"
    },
    "hidden": true
   },
   "outputs": [],
   "source": [
    "# need to run on a sample otherwise memory error...\n",
    "train = train.sample(frac=0.25)\n",
    "# train = train[42934968:].reset_index(drop=True)  # 2/15/2017"
   ]
  },
  {
   "cell_type": "code",
   "execution_count": 10,
   "metadata": {
    "ExecuteTime": {
     "end_time": "2018-03-13T16:18:48.703736Z",
     "start_time": "2018-03-13T16:18:41.502989Z"
    },
    "hidden": true
   },
   "outputs": [],
   "source": [
    "df, y, nas = proc_df(train, 'unit_sales')"
   ]
  },
  {
   "cell_type": "markdown",
   "metadata": {},
   "source": [
    "## Split training/validation"
   ]
  },
  {
   "cell_type": "code",
   "execution_count": 28,
   "metadata": {
    "ExecuteTime": {
     "end_time": "2018-03-13T18:08:25.820069Z",
     "start_time": "2018-03-13T18:08:17.746119Z"
    }
   },
   "outputs": [],
   "source": [
    "# Using Skicit-learn to split data into training and testing sets\n",
    "from sklearn.model_selection import train_test_split\n",
    "\n",
    "# Split the data into training and testing sets\n",
    "x_trn, x_val, y_trn, y_val = train_test_split(df, y, test_size = 0.20, random_state = 42)"
   ]
  },
  {
   "cell_type": "code",
   "execution_count": 16,
   "metadata": {
    "ExecuteTime": {
     "end_time": "2018-03-13T16:22:44.582508Z",
     "start_time": "2018-03-13T16:22:44.561777Z"
    }
   },
   "outputs": [
    {
     "data": {
      "text/plain": [
       "((16520155, 17), (4130039, 17), (16520155,), (4130039,))"
      ]
     },
     "execution_count": 16,
     "metadata": {},
     "output_type": "execute_result"
    }
   ],
   "source": [
    "x_trn.shape, x_val.shape, y_trn.shape, y_val.shape"
   ]
  },
  {
   "cell_type": "markdown",
   "metadata": {},
   "source": [
    "## Train model"
   ]
  },
  {
   "cell_type": "code",
   "execution_count": 38,
   "metadata": {
    "ExecuteTime": {
     "end_time": "2018-03-13T22:52:11.814522Z",
     "start_time": "2018-03-13T22:52:11.779843Z"
    }
   },
   "outputs": [],
   "source": [
    "def rmsle(pred, targ):\n",
    "    # pred and targs are both log1p values already\n",
    "    mean_diff = np.square(pred - targ).mean()\n",
    "    return round(math.sqrt(mean_diff), 4)\n",
    "\n",
    "def print_score(m):\n",
    "    res = [rmsle(m.predict(x_trn), y_trn), rmsle(m.predict(x_val), y_val),\n",
    "                m.score(x_trn, y_trn), m.score(x_val, y_val)]\n",
    "    if hasattr(m, 'oob_score_'): res.append(m.oob_score_)\n",
    "    print(res)\n",
    "    \n",
    "# m.score => coefficient of determination (R^2)\n",
    "#   proportion of the variance in the dependent variable that is predictable from the independent variable(s)\n",
    "#   ratio of how much better the model is than the mean prediction (0);  1: perfect;  -*: worse than the mean"
   ]
  },
  {
   "cell_type": "code",
   "execution_count": 39,
   "metadata": {
    "ExecuteTime": {
     "end_time": "2018-03-13T22:52:30.485948Z",
     "start_time": "2018-03-13T22:52:30.459534Z"
    }
   },
   "outputs": [],
   "source": [
    "from sklearn.ensemble import RandomForestRegressor"
   ]
  },
  {
   "cell_type": "code",
   "execution_count": 20,
   "metadata": {
    "ExecuteTime": {
     "end_time": "2018-03-13T17:04:36.236002Z",
     "start_time": "2018-03-13T16:23:21.483649Z"
    }
   },
   "outputs": [
    {
     "name": "stdout",
     "output_type": "stream",
     "text": [
      "CPU times: user 32min 10s, sys: 5.16 s, total: 32min 15s\n",
      "Wall time: 32min 15s\n",
      "[0.2436, 0.5763, 0.9450707108116795, 0.6923930808790617]\n"
     ]
    }
   ],
   "source": [
    "m = RandomForestRegressor()\n",
    "%time m.fit(x_trn, y_trn)\n",
    "print_score(m)    #=> [0.2436, 0.5763, 0.9450707108116795, 0.6923930808790617]"
   ]
  },
  {
   "cell_type": "markdown",
   "metadata": {},
   "source": [
    "## Variable importances"
   ]
  },
  {
   "cell_type": "code",
   "execution_count": 21,
   "metadata": {
    "ExecuteTime": {
     "end_time": "2018-03-13T17:04:37.517605Z",
     "start_time": "2018-03-13T17:04:36.237373Z"
    }
   },
   "outputs": [
    {
     "name": "stdout",
     "output_type": "stream",
     "text": [
      "Variable: m_average            Importance: 0.62\n",
      "Variable: item_nbr             Importance: 0.15\n",
      "Variable: store_nbr            Importance: 0.07\n",
      "Variable: Elapsed              Importance: 0.05\n",
      "Variable: onpromotion          Importance: 0.03\n",
      "Variable: Day                  Importance: 0.03\n",
      "Variable: Dayofyear            Importance: 0.03\n",
      "Variable: Dayofweek            Importance: 0.02\n",
      "Variable: Week                 Importance: 0.01\n",
      "Variable: Year                 Importance: 0.0\n",
      "Variable: Month                Importance: 0.0\n",
      "Variable: Is_month_end         Importance: 0.0\n",
      "Variable: Is_month_start       Importance: 0.0\n",
      "Variable: Is_quarter_end       Importance: 0.0\n",
      "Variable: Is_quarter_start     Importance: 0.0\n",
      "Variable: Is_year_end          Importance: 0.0\n",
      "Variable: Is_year_start        Importance: 0.0\n"
     ]
    }
   ],
   "source": [
    "features = list(df.columns)\n",
    "\n",
    "# Get numerical feature importances\n",
    "importances = list(m.feature_importances_)\n",
    "\n",
    "# List of tuples with variable and importance\n",
    "feature_importances = [(feature, round(importance, 2)) for feature, importance in zip(features, importances)]\n",
    "\n",
    "# Sort the feature importances by most important first\n",
    "feature_importances = sorted(feature_importances, key = lambda x: x[1], reverse = True)\n",
    "\n",
    "# Print out the feature and importances \n",
    "[print('Variable: {:20} Importance: {}'.format(*pair)) for pair in feature_importances];"
   ]
  },
  {
   "cell_type": "markdown",
   "metadata": {},
   "source": [
    "## Feature Reduction / Data Expansion"
   ]
  },
  {
   "cell_type": "code",
   "execution_count": 7,
   "metadata": {
    "ExecuteTime": {
     "end_time": "2018-03-13T22:05:17.601565Z",
     "start_time": "2018-03-13T22:04:57.387733Z"
    }
   },
   "outputs": [],
   "source": [
    "train = pd.read_feather(f'{PATH}rf_rnn/train_w_categories')"
   ]
  },
  {
   "cell_type": "code",
   "execution_count": 8,
   "metadata": {
    "ExecuteTime": {
     "end_time": "2018-03-13T22:05:17.712465Z",
     "start_time": "2018-03-13T22:05:17.696818Z"
    }
   },
   "outputs": [],
   "source": [
    "# Extract the names of the least important features\n",
    "# least_important_features = [feature[0] for feature in feature_importances[9:]]\n",
    "\n",
    "least_important_features = list(train.columns)[11:-1]\n",
    "least_important_features.extend(list(['Year', 'Month']))"
   ]
  },
  {
   "cell_type": "code",
   "execution_count": 9,
   "metadata": {
    "ExecuteTime": {
     "end_time": "2018-03-13T22:05:19.841846Z",
     "start_time": "2018-03-13T22:05:17.794691Z"
    }
   },
   "outputs": [],
   "source": [
    "train.drop(columns=least_important_features, inplace=True)"
   ]
  },
  {
   "cell_type": "code",
   "execution_count": 15,
   "metadata": {
    "ExecuteTime": {
     "end_time": "2018-03-13T22:12:35.814558Z",
     "start_time": "2018-03-13T22:11:27.126762Z"
    }
   },
   "outputs": [],
   "source": [
    "df, y, nas = proc_df(train, 'unit_sales', subset=30000000)"
   ]
  },
  {
   "cell_type": "code",
   "execution_count": 16,
   "metadata": {
    "ExecuteTime": {
     "end_time": "2018-03-13T22:13:32.161589Z",
     "start_time": "2018-03-13T22:13:32.145956Z"
    }
   },
   "outputs": [],
   "source": [
    "del train  # need to save memory"
   ]
  },
  {
   "cell_type": "code",
   "execution_count": 19,
   "metadata": {
    "ExecuteTime": {
     "end_time": "2018-03-13T22:14:54.740518Z",
     "start_time": "2018-03-13T22:14:47.297747Z"
    }
   },
   "outputs": [],
   "source": [
    "# Using Skicit-learn to split data into training and testing sets\n",
    "from sklearn.model_selection import train_test_split\n",
    "\n",
    "# Split the data into training and testing sets\n",
    "x_trn, x_val, y_trn, y_val = train_test_split(df, y, test_size = 0.20, random_state = 42)"
   ]
  },
  {
   "cell_type": "code",
   "execution_count": 20,
   "metadata": {
    "ExecuteTime": {
     "end_time": "2018-03-13T22:15:55.911754Z",
     "start_time": "2018-03-13T22:15:55.897022Z"
    }
   },
   "outputs": [],
   "source": [
    "del df,y"
   ]
  },
  {
   "cell_type": "code",
   "execution_count": 23,
   "metadata": {
    "ExecuteTime": {
     "end_time": "2018-03-13T22:24:45.132415Z",
     "start_time": "2018-03-13T22:16:24.506566Z"
    }
   },
   "outputs": [
    {
     "name": "stdout",
     "output_type": "stream",
     "text": [
      "CPU times: user 43min 26s, sys: 8.57 s, total: 43min 34s\n",
      "Wall time: 8min 20s\n"
     ]
    },
    {
     "data": {
      "text/plain": [
       "RandomForestRegressor(bootstrap=True, criterion='mse', max_depth=None,\n",
       "           max_features='auto', max_leaf_nodes=None,\n",
       "           min_impurity_decrease=0.0, min_impurity_split=None,\n",
       "           min_samples_leaf=1, min_samples_split=2,\n",
       "           min_weight_fraction_leaf=0.0, n_estimators=10, n_jobs=-1,\n",
       "           oob_score=False, random_state=None, verbose=0, warm_start=False)"
      ]
     },
     "execution_count": 23,
     "metadata": {},
     "output_type": "execute_result"
    }
   ],
   "source": [
    "m = RandomForestRegressor(n_jobs=-1)\n",
    "%time m.fit(x_trn, y_trn)"
   ]
  },
  {
   "cell_type": "code",
   "execution_count": 24,
   "metadata": {
    "ExecuteTime": {
     "end_time": "2018-03-13T22:27:59.356731Z",
     "start_time": "2018-03-13T22:24:45.228610Z"
    }
   },
   "outputs": [
    {
     "name": "stdout",
     "output_type": "stream",
     "text": [
      "[0.2401, 0.5682, 0.9466230013003557, 0.701200428528316]\n"
     ]
    }
   ],
   "source": [
    "print_score(m)   #=> [0.24, 0.5684, 0.946675430780943, 0.7008898192311388]\n",
    "\n",
    "# slight increase in accuracy (increased data)\n",
    "# large increase in duration (feature reduction & split over multiple cores)"
   ]
  },
  {
   "cell_type": "markdown",
   "metadata": {},
   "source": [
    "### Apply to Test dataset"
   ]
  },
  {
   "cell_type": "code",
   "execution_count": 63,
   "metadata": {
    "ExecuteTime": {
     "end_time": "2018-03-13T23:51:25.429449Z",
     "start_time": "2018-03-13T23:51:25.205074Z"
    }
   },
   "outputs": [],
   "source": [
    "test = pd.read_feather(f'{PATH}rf_rnn/test_w_categories')"
   ]
  },
  {
   "cell_type": "code",
   "execution_count": 64,
   "metadata": {
    "ExecuteTime": {
     "end_time": "2018-03-13T23:51:26.291320Z",
     "start_time": "2018-03-13T23:51:26.182376Z"
    }
   },
   "outputs": [],
   "source": [
    "test.drop(columns=least_important_features, inplace=True)"
   ]
  },
  {
   "cell_type": "code",
   "execution_count": 65,
   "metadata": {
    "ExecuteTime": {
     "end_time": "2018-03-13T23:51:27.736286Z",
     "start_time": "2018-03-13T23:51:27.026198Z"
    }
   },
   "outputs": [],
   "source": [
    "# add in y value to test: 'unit sales'\n",
    "test['unit_sales'] = 0.0\n",
    "\n",
    "df_test, _, nas = proc_df(test, 'unit_sales', skip_flds=['id'], na_dict=nas)"
   ]
  },
  {
   "cell_type": "code",
   "execution_count": 66,
   "metadata": {
    "ExecuteTime": {
     "end_time": "2018-03-13T23:51:41.505547Z",
     "start_time": "2018-03-13T23:51:33.025144Z"
    }
   },
   "outputs": [],
   "source": [
    "# use rf to predict on test df\n",
    "log_preds = m.predict(df_test)"
   ]
  },
  {
   "cell_type": "code",
   "execution_count": 67,
   "metadata": {
    "ExecuteTime": {
     "end_time": "2018-03-13T23:51:47.334450Z",
     "start_time": "2018-03-13T23:51:47.235520Z"
    }
   },
   "outputs": [],
   "source": [
    "test['unit_sales'] = np.expm1(log_preds) # re-scale predictions and add to df"
   ]
  },
  {
   "cell_type": "code",
   "execution_count": 68,
   "metadata": {
    "ExecuteTime": {
     "end_time": "2018-03-13T23:52:30.951342Z",
     "start_time": "2018-03-13T23:52:04.656918Z"
    }
   },
   "outputs": [],
   "source": [
    "SUBM = f'{PATH}rf_rnn/subm/'\n",
    "os.makedirs(SUBM, exist_ok=True)\n",
    "\n",
    "test.to_csv(f'{SUBM}rf_v3.csv.gz', columns=['id','unit_sales'], index=False, compression='gzip')"
   ]
  },
  {
   "cell_type": "code",
   "execution_count": 69,
   "metadata": {
    "ExecuteTime": {
     "end_time": "2018-03-13T23:52:55.942289Z",
     "start_time": "2018-03-13T23:52:40.785457Z"
    }
   },
   "outputs": [
    {
     "name": "stdout",
     "output_type": "stream",
     "text": [
      "Successfully submitted to Corporación Favorita Grocery Sales Forecasting"
     ]
    }
   ],
   "source": [
    "!kaggle competitions submit -c favorita-grocery-sales-forecasting -f {SUBM}rf_v3.csv.gz -m \"random forest version 3\"\n",
    "# v1 => 1.223 -- throwaway\n",
    "# v2 => 0.581\n",
    "# v3 =>  (last 3 months)"
   ]
  },
  {
   "cell_type": "markdown",
   "metadata": {},
   "source": [
    "## Train only on last ~3 months"
   ]
  },
  {
   "cell_type": "code",
   "execution_count": 40,
   "metadata": {
    "ExecuteTime": {
     "end_time": "2018-03-13T22:52:48.747148Z",
     "start_time": "2018-03-13T22:52:38.299400Z"
    }
   },
   "outputs": [],
   "source": [
    "train = pd.read_feather(f'{PATH}rf_rnn/train_w_categories')"
   ]
  },
  {
   "cell_type": "code",
   "execution_count": 54,
   "metadata": {
    "ExecuteTime": {
     "end_time": "2018-03-13T23:01:43.065562Z",
     "start_time": "2018-03-13T23:01:43.040053Z"
    }
   },
   "outputs": [],
   "source": [
    "# Extract the names of the least important features\n",
    "# least_important_features = [feature[0] for feature in feature_importances[9:]]\n",
    "\n",
    "least_important_features = list(train.columns)[11:-1]\n",
    "least_important_features.extend(list(['Year']))"
   ]
  },
  {
   "cell_type": "code",
   "execution_count": 55,
   "metadata": {
    "ExecuteTime": {
     "end_time": "2018-03-13T23:01:59.933487Z",
     "start_time": "2018-03-13T23:01:59.305696Z"
    }
   },
   "outputs": [],
   "source": [
    "train.drop(columns=least_important_features, inplace=True)"
   ]
  },
  {
   "cell_type": "code",
   "execution_count": 59,
   "metadata": {
    "ExecuteTime": {
     "end_time": "2018-03-13T23:06:02.202979Z",
     "start_time": "2018-03-13T23:05:18.195005Z"
    }
   },
   "outputs": [],
   "source": [
    "df, y, nas, mapper = proc_df(train, 'unit_sales', do_scale=True)"
   ]
  },
  {
   "cell_type": "code",
   "execution_count": 60,
   "metadata": {
    "ExecuteTime": {
     "end_time": "2018-03-13T23:06:26.749634Z",
     "start_time": "2018-03-13T23:06:26.719612Z"
    }
   },
   "outputs": [],
   "source": [
    "del train  # need to save memory"
   ]
  },
  {
   "cell_type": "code",
   "execution_count": 61,
   "metadata": {
    "ExecuteTime": {
     "end_time": "2018-03-13T23:49:36.860279Z",
     "start_time": "2018-03-13T23:15:12.151070Z"
    }
   },
   "outputs": [
    {
     "name": "stdout",
     "output_type": "stream",
     "text": [
      "CPU times: user 4h 23min 52s, sys: 20.7 s, total: 4h 24min 13s\n",
      "Wall time: 34min 24s\n"
     ]
    },
    {
     "data": {
      "text/plain": [
       "RandomForestRegressor(bootstrap=True, criterion='mse', max_depth=None,\n",
       "           max_features='auto', max_leaf_nodes=None,\n",
       "           min_impurity_decrease=0.0, min_impurity_split=None,\n",
       "           min_samples_leaf=50, min_samples_split=2,\n",
       "           min_weight_fraction_leaf=0.0, n_estimators=100, n_jobs=-1,\n",
       "           oob_score=False, random_state=None, verbose=0, warm_start=False)"
      ]
     },
     "execution_count": 61,
     "metadata": {},
     "output_type": "execute_result"
    }
   ],
   "source": [
    "m = RandomForestRegressor(n_estimators=100, min_samples_leaf=50, n_jobs=-1)\n",
    "%time m.fit(df, y)"
   ]
  },
  {
   "cell_type": "code",
   "execution_count": null,
   "metadata": {},
   "outputs": [],
   "source": []
  }
 ],
 "metadata": {
  "kernelspec": {
   "display_name": "Python 3",
   "language": "python",
   "name": "python3"
  },
  "language_info": {
   "codemirror_mode": {
    "name": "ipython",
    "version": 3
   },
   "file_extension": ".py",
   "mimetype": "text/x-python",
   "name": "python",
   "nbconvert_exporter": "python",
   "pygments_lexer": "ipython3",
   "version": "3.6.4"
  },
  "toc": {
   "nav_menu": {},
   "number_sections": true,
   "sideBar": true,
   "skip_h1_title": false,
   "title_cell": "Table of Contents",
   "title_sidebar": "Contents",
   "toc_cell": false,
   "toc_position": {},
   "toc_section_display": true,
   "toc_window_display": false
  },
  "varInspector": {
   "cols": {
    "lenName": 16,
    "lenType": 16,
    "lenVar": 40
   },
   "kernels_config": {
    "python": {
     "delete_cmd_postfix": "",
     "delete_cmd_prefix": "del ",
     "library": "var_list.py",
     "varRefreshCmd": "print(var_dic_list())"
    },
    "r": {
     "delete_cmd_postfix": ") ",
     "delete_cmd_prefix": "rm(",
     "library": "var_list.r",
     "varRefreshCmd": "cat(var_dic_list()) "
    }
   },
   "types_to_exclude": [
    "module",
    "function",
    "builtin_function_or_method",
    "instance",
    "_Feature"
   ],
   "window_display": false
  }
 },
 "nbformat": 4,
 "nbformat_minor": 2
}
