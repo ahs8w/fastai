{
 "cells": [
  {
   "cell_type": "code",
   "execution_count": 1,
   "metadata": {},
   "outputs": [],
   "source": [
    "%reload_ext autoreload\n",
    "%autoreload 2\n",
    "%matplotlib inline"
   ]
  },
  {
   "cell_type": "code",
   "execution_count": 2,
   "metadata": {},
   "outputs": [],
   "source": [
    "from fastai.conv_learner import *\n",
    "from fastai.custom_extensions import *\n",
    "\n",
    "from planet import *"
   ]
  },
  {
   "cell_type": "code",
   "execution_count": 3,
   "metadata": {},
   "outputs": [],
   "source": [
    "PATH = \"data/planet_amazon/\""
   ]
  },
  {
   "cell_type": "code",
   "execution_count": 6,
   "metadata": {},
   "outputs": [],
   "source": [
    "# !rm -r {PATH}tmp"
   ]
  },
  {
   "cell_type": "code",
   "execution_count": 4,
   "metadata": {},
   "outputs": [],
   "source": [
    "sz = 64\n",
    "bs = 64\n",
    "arch = resnet34\n",
    "metrics = [f2]"
   ]
  },
  {
   "cell_type": "code",
   "execution_count": 5,
   "metadata": {},
   "outputs": [],
   "source": [
    "label_csv = f'{PATH}train_v2.csv'\n",
    "n = len(list(open(label_csv)))-1\n",
    "val_idxs = get_cv_idxs(n)"
   ]
  },
  {
   "cell_type": "code",
   "execution_count": 6,
   "metadata": {},
   "outputs": [],
   "source": [
    "def get_data(sz, bs):\n",
    "    tfms = tfms_from_model(arch, sz, aug_tfms=transforms_top_down, max_zoom=1.05)\n",
    "    data = ImageClassifierData.from_csv(PATH, 'train-jpg', label_csv, bs=bs, tfms=tfms, val_idxs=val_idxs,\n",
    "                                        suffix='.jpg', test_name='test-jpg')\n",
    "    return data"
   ]
  },
  {
   "cell_type": "code",
   "execution_count": 7,
   "metadata": {},
   "outputs": [],
   "source": [
    "data = get_data(sz,bs)"
   ]
  },
  {
   "cell_type": "code",
   "execution_count": 8,
   "metadata": {},
   "outputs": [],
   "source": [
    "learn = ConvLearner.pretrained(arch, data, metrics=metrics)"
   ]
  },
  {
   "cell_type": "code",
   "execution_count": 16,
   "metadata": {},
   "outputs": [
    {
     "data": {
      "image/png": "[encoded data removed]",
      "text/plain": [
       "<matplotlib.figure.Figure at 0x7efbc12dec88>"
      ]
     },
     "metadata": {},
     "output_type": "display_data"
    }
   ],
   "source": [
    "learn.lr_find()\n",
    "# learn.sched.plot()\n",
    "# learn.sched\n",
    "plot_loss_change(learn.sched, sma=20, y_lim=(-0.01, 0.01))"
   ]
  },
  {
   "cell_type": "code",
   "execution_count": 9,
   "metadata": {},
   "outputs": [],
   "source": [
    "lr = 0.1\n",
    "lrs = np.array([lr/9, lr/3, lr])"
   ]
  },
  {
   "cell_type": "code",
   "execution_count": 14,
   "metadata": {},
   "outputs": [
    {
     "data": {
      "application/vnd.jupyter.widget-view+json": {
       "model_id": "86b75588ec0941aaa49679877eb6ad8e",
       "version_major": 2,
       "version_minor": 0
      },
      "text/html": [
       "<p>Failed to display Jupyter Widget of type <code>HBox</code>.</p>\n",
       "<p>\n",
       "  If you're reading this message in the Jupyter Notebook or JupyterLab Notebook, it may mean\n",
       "  that the widgets JavaScript is still loading. If this message persists, it\n",
       "  likely means that the widgets JavaScript library is either not installed or\n",
       "  not enabled. See the <a href=\"https://ipywidgets.readthedocs.io/en/stable/user_install.html\">Jupyter\n",
       "  Widgets Documentation</a> for setup instructions.\n",
       "</p>\n",
       "<p>\n",
       "  If you're reading this message in another frontend (for example, a static\n",
       "  rendering on GitHub or <a href=\"https://nbviewer.jupyter.org/\">NBViewer</a>),\n",
       "  it may mean that your frontend doesn't currently support widgets.\n",
       "</p>\n"
      ],
      "text/plain": [
       "HBox(children=(IntProgress(value=0, description='Epoch', max=7), HTML(value='')))"
      ]
     },
     "metadata": {},
     "output_type": "display_data"
    },
    {
     "name": "stdout",
     "output_type": "stream",
     "text": [
      "epoch:   0, train_loss: 0.152685, val_loss: 0.138167, f2: 0.877177\n",
      "epoch:   1, train_loss: 0.142373, val_loss: 0.130198, f2: 0.883771\n",
      "epoch:   2, train_loss: 0.137227, val_loss: 0.127901, f2: 0.886660\n",
      "epoch:   3, train_loss: 0.135994, val_loss: 0.125930, f2: 0.888381\n",
      "epoch:   4, train_loss: 0.135838, val_loss: 0.124263, f2: 0.889541\n",
      "epoch:   5, train_loss: 0.130080, val_loss: 0.123876, f2: 0.891334\n",
      "epoch:   6, train_loss: 0.131767, val_loss: 0.123263, f2: 0.891722\n",
      "\n"
     ]
    }
   ],
   "source": [
    "learn.fit(lr, 3, cycle_len=1, cycle_mult=2)"
   ]
  },
  {
   "cell_type": "code",
   "execution_count": 15,
   "metadata": {},
   "outputs": [
    {
     "data": {
      "application/vnd.jupyter.widget-view+json": {
       "model_id": "0e733832ba814da8935363f599d5fa4a",
       "version_major": 2,
       "version_minor": 0
      },
      "text/html": [
       "<p>Failed to display Jupyter Widget of type <code>HBox</code>.</p>\n",
       "<p>\n",
       "  If you're reading this message in the Jupyter Notebook or JupyterLab Notebook, it may mean\n",
       "  that the widgets JavaScript is still loading. If this message persists, it\n",
       "  likely means that the widgets JavaScript library is either not installed or\n",
       "  not enabled. See the <a href=\"https://ipywidgets.readthedocs.io/en/stable/user_install.html\">Jupyter\n",
       "  Widgets Documentation</a> for setup instructions.\n",
       "</p>\n",
       "<p>\n",
       "  If you're reading this message in another frontend (for example, a static\n",
       "  rendering on GitHub or <a href=\"https://nbviewer.jupyter.org/\">NBViewer</a>),\n",
       "  it may mean that your frontend doesn't currently support widgets.\n",
       "</p>\n"
      ],
      "text/plain": [
       "HBox(children=(IntProgress(value=0, description='Epoch', max=7), HTML(value='')))"
      ]
     },
     "metadata": {},
     "output_type": "display_data"
    },
    {
     "name": "stdout",
     "output_type": "stream",
     "text": [
      "epoch:   0, train_loss: 0.120815, val_loss: 0.111814, f2: 0.903707\n",
      "epoch:   1, train_loss: 0.111490, val_loss: 0.103520, f2: 0.910925\n",
      "epoch:   2, train_loss: 0.108238, val_loss: 0.099925, f2: 0.915254\n",
      "epoch:   3, train_loss: 0.105477, val_loss: 0.102328, f2: 0.912998\n",
      "epoch:   4, train_loss: 0.103476, val_loss: 0.099246, f2: 0.914299\n",
      "epoch:   5, train_loss: 0.098077, val_loss: 0.097129, f2: 0.917186\n",
      "epoch:   6, train_loss: 0.095847, val_loss: 0.096643, f2: 0.917515\n",
      "\n"
     ]
    }
   ],
   "source": [
    "learn.unfreeze()\n",
    "learn.fit(lrs, 3, cycle_len=1, cycle_mult=2)\n",
    "learn.save(f'{sz}')"
   ]
  },
  {
   "cell_type": "code",
   "execution_count": 16,
   "metadata": {},
   "outputs": [
    {
     "data": {
      "image/png": "[encoded data removed]",
      "text/plain": [
       "<matplotlib.figure.Figure at 0x7fc3fdd46128>"
      ]
     },
     "metadata": {},
     "output_type": "display_data"
    }
   ],
   "source": [
    "learn.sched.plot_loss()"
   ]
  },
  {
   "cell_type": "code",
   "execution_count": 17,
   "metadata": {},
   "outputs": [
    {
     "data": {
      "application/vnd.jupyter.widget-view+json": {
       "model_id": "6ba595bb9cd24305bbe9a40525fb1e59",
       "version_major": 2,
       "version_minor": 0
      },
      "text/html": [
       "<p>Failed to display Jupyter Widget of type <code>HBox</code>.</p>\n",
       "<p>\n",
       "  If you're reading this message in the Jupyter Notebook or JupyterLab Notebook, it may mean\n",
       "  that the widgets JavaScript is still loading. If this message persists, it\n",
       "  likely means that the widgets JavaScript library is either not installed or\n",
       "  not enabled. See the <a href=\"https://ipywidgets.readthedocs.io/en/stable/user_install.html\">Jupyter\n",
       "  Widgets Documentation</a> for setup instructions.\n",
       "</p>\n",
       "<p>\n",
       "  If you're reading this message in another frontend (for example, a static\n",
       "  rendering on GitHub or <a href=\"https://nbviewer.jupyter.org/\">NBViewer</a>),\n",
       "  it may mean that your frontend doesn't currently support widgets.\n",
       "</p>\n"
      ],
      "text/plain": [
       "HBox(children=(IntProgress(value=0, description='Epoch', max=7), HTML(value='')))"
      ]
     },
     "metadata": {},
     "output_type": "display_data"
    },
    {
     "name": "stdout",
     "output_type": "stream",
     "text": [
      "epoch:   0, train_loss: 0.100646, val_loss: 0.098074, f2: 0.916093\n",
      "epoch:   1, train_loss: 0.099289, val_loss: 0.096065, f2: 0.917750\n",
      "epoch:   2, train_loss: 0.096553, val_loss: 0.095798, f2: 0.917359\n",
      "epoch:   3, train_loss: 0.101088, val_loss: 0.095690, f2: 0.918553\n",
      "epoch:   4, train_loss: 0.097899, val_loss: 0.094631, f2: 0.919000\n",
      "epoch:   5, train_loss: 0.092665, val_loss: 0.094517, f2: 0.918852\n",
      "epoch:   6, train_loss: 0.094987, val_loss: 0.094268, f2: 0.919761\n",
      "\n"
     ]
    }
   ],
   "source": [
    "sz = 128\n",
    "learn.set_data(get_data(sz, bs))\n",
    "learn.freeze()\n",
    "learn.fit(lr, 3, cycle_len=1, cycle_mult=2)"
   ]
  },
  {
   "cell_type": "code",
   "execution_count": 18,
   "metadata": {},
   "outputs": [
    {
     "data": {
      "application/vnd.jupyter.widget-view+json": {
       "model_id": "80d08686d8704a48bc1df31e29fbafd2",
       "version_major": 2,
       "version_minor": 0
      },
      "text/html": [
       "<p>Failed to display Jupyter Widget of type <code>HBox</code>.</p>\n",
       "<p>\n",
       "  If you're reading this message in the Jupyter Notebook or JupyterLab Notebook, it may mean\n",
       "  that the widgets JavaScript is still loading. If this message persists, it\n",
       "  likely means that the widgets JavaScript library is either not installed or\n",
       "  not enabled. See the <a href=\"https://ipywidgets.readthedocs.io/en/stable/user_install.html\">Jupyter\n",
       "  Widgets Documentation</a> for setup instructions.\n",
       "</p>\n",
       "<p>\n",
       "  If you're reading this message in another frontend (for example, a static\n",
       "  rendering on GitHub or <a href=\"https://nbviewer.jupyter.org/\">NBViewer</a>),\n",
       "  it may mean that your frontend doesn't currently support widgets.\n",
       "</p>\n"
      ],
      "text/plain": [
       "HBox(children=(IntProgress(value=0, description='Epoch', max=7), HTML(value='')))"
      ]
     },
     "metadata": {},
     "output_type": "display_data"
    },
    {
     "name": "stdout",
     "output_type": "stream",
     "text": [
      "epoch:   0, train_loss: 0.095916, val_loss: 0.090821, f2: 0.923662\n",
      "epoch:   1, train_loss: 0.092863, val_loss: 0.089728, f2: 0.924060\n",
      "epoch:   2, train_loss: 0.089831, val_loss: 0.088767, f2: 0.925391\n",
      "epoch:   3, train_loss: 0.092242, val_loss: 0.090657, f2: 0.923547\n",
      "epoch:   4, train_loss: 0.088225, val_loss: 0.088452, f2: 0.924449\n",
      "epoch:   5, train_loss: 0.082707, val_loss: 0.087150, f2: 0.926718\n",
      "epoch:   6, train_loss: 0.082579, val_loss: 0.087158, f2: 0.926721\n",
      "\n"
     ]
    }
   ],
   "source": [
    "learn.unfreeze()\n",
    "learn.fit(lrs, 3, cycle_len=1, cycle_mult=2)\n",
    "learn.save(f'{sz}')"
   ]
  },
  {
   "cell_type": "code",
   "execution_count": 10,
   "metadata": {},
   "outputs": [],
   "source": [
    "learn.load('128')"
   ]
  },
  {
   "cell_type": "code",
   "execution_count": null,
   "metadata": {},
   "outputs": [
    {
     "data": {
      "application/vnd.jupyter.widget-view+json": {
       "model_id": "b1bde40d3f79489e8b0f03f6270a3d93",
       "version_major": 2,
       "version_minor": 0
      },
      "text/html": [
       "<p>Failed to display Jupyter Widget of type <code>HBox</code>.</p>\n",
       "<p>\n",
       "  If you're reading this message in the Jupyter Notebook or JupyterLab Notebook, it may mean\n",
       "  that the widgets JavaScript is still loading. If this message persists, it\n",
       "  likely means that the widgets JavaScript library is either not installed or\n",
       "  not enabled. See the <a href=\"https://ipywidgets.readthedocs.io/en/stable/user_install.html\">Jupyter\n",
       "  Widgets Documentation</a> for setup instructions.\n",
       "</p>\n",
       "<p>\n",
       "  If you're reading this message in another frontend (for example, a static\n",
       "  rendering on GitHub or <a href=\"https://nbviewer.jupyter.org/\">NBViewer</a>),\n",
       "  it may mean that your frontend doesn't currently support widgets.\n",
       "</p>\n"
      ],
      "text/plain": [
       "HBox(children=(IntProgress(value=0, description='Epoch', max=7), HTML(value='')))"
      ]
     },
     "metadata": {},
     "output_type": "display_data"
    },
    {
     "name": "stdout",
     "output_type": "stream",
     "text": [
      "epoch:   0, train_loss: 0.091056, val_loss: 0.092926, f2: 0.920818\n",
      "epoch:   1, train_loss: 0.093375, val_loss: 0.091919, f2: 0.921884\n",
      "epoch:   2, train_loss: 0.091686, val_loss: 0.091021, f2: 0.922766\n",
      "epoch:   3, train_loss: 0.090632, val_loss: 0.091508, f2: 0.921274\n",
      "epoch:   4, train_loss: 0.090127, val_loss: 0.091049, f2: 0.922365\n",
      "epoch:   5, train_loss: 0.088842, val_loss: 0.090842, f2: 0.922526\n",
      "epoch:   6, train_loss: 0.087577, val_loss: 0.089899, f2: 0.924129\n",
      "\n"
     ]
    }
   ],
   "source": [
    "sz = 256\n",
    "learn.set_data(get_data(sz,bs))\n",
    "learn.freeze()\n",
    "learn.fit(lr, 3, cycle_len=1, cycle_mult=2)"
   ]
  },
  {
   "cell_type": "code",
   "execution_count": null,
   "metadata": {},
   "outputs": [
    {
     "data": {
      "application/vnd.jupyter.widget-view+json": {
       "model_id": "258edcbe7fd140d3904db75b0c2fe92e",
       "version_major": 2,
       "version_minor": 0
      },
      "text/html": [
       "<p>Failed to display Jupyter Widget of type <code>HBox</code>.</p>\n",
       "<p>\n",
       "  If you're reading this message in the Jupyter Notebook or JupyterLab Notebook, it may mean\n",
       "  that the widgets JavaScript is still loading. If this message persists, it\n",
       "  likely means that the widgets JavaScript library is either not installed or\n",
       "  not enabled. See the <a href=\"https://ipywidgets.readthedocs.io/en/stable/user_install.html\">Jupyter\n",
       "  Widgets Documentation</a> for setup instructions.\n",
       "</p>\n",
       "<p>\n",
       "  If you're reading this message in another frontend (for example, a static\n",
       "  rendering on GitHub or <a href=\"https://nbviewer.jupyter.org/\">NBViewer</a>),\n",
       "  it may mean that your frontend doesn't currently support widgets.\n",
       "</p>\n"
      ],
      "text/plain": [
       "HBox(children=(IntProgress(value=0, description='Epoch', max=7), HTML(value='')))"
      ]
     },
     "metadata": {},
     "output_type": "display_data"
    },
    {
     "name": "stdout",
     "output_type": "stream",
     "text": [
      "epoch:   0, train_loss: 0.088744, val_loss: 0.085960, f2: 0.929245\n",
      "epoch:   1, train_loss: 0.087881, val_loss: 0.085499, f2: 0.927882\n",
      "epoch:   2, train_loss: 0.085873, val_loss: 0.084797, f2: 0.929466\n",
      "epoch:   3, train_loss: 0.085680, val_loss: 0.084402, f2: 0.929638\n",
      "epoch:   4, train_loss: 0.084880, val_loss: 0.084967, f2: 0.928340\n",
      "epoch:   5, train_loss: 0.081389, val_loss: 0.084623, f2: 0.929846\n",
      "                                                              \r"
     ]
    }
   ],
   "source": [
    "learn.unfreeze()\n",
    "learn.fit(lrs, 3, cycle_len=1, cycle_mult=2)\n",
    "learn.save(f'{sz}')"
   ]
  },
  {
   "cell_type": "code",
   "execution_count": 9,
   "metadata": {},
   "outputs": [],
   "source": [
    "learn.load('256')"
   ]
  },
  {
   "cell_type": "code",
   "execution_count": 10,
   "metadata": {},
   "outputs": [
    {
     "name": "stdout",
     "output_type": "stream",
     "text": [
      "                                             \r"
     ]
    }
   ],
   "source": [
    "preds = learn.TTA(is_test=True)"
   ]
  },
  {
   "cell_type": "code",
   "execution_count": 11,
   "metadata": {},
   "outputs": [],
   "source": [
    "avgs = np.mean(preds[0],0)"
   ]
  },
  {
   "cell_type": "code",
   "execution_count": 12,
   "metadata": {},
   "outputs": [],
   "source": [
    "classes = np.array(data.classes)"
   ]
  },
  {
   "cell_type": "code",
   "execution_count": 13,
   "metadata": {},
   "outputs": [],
   "source": [
    "res = [ \" \".join(classes[np.where(x > 0.2)]) for x in avgs ]\n",
    "fnames = data.test_ds.fnames"
   ]
  },
  {
   "cell_type": "code",
   "execution_count": 14,
   "metadata": {},
   "outputs": [
    {
     "data": {
      "text/html": [
       "<div>\n",
       "<style scoped>\n",
       "    .dataframe tbody tr th:only-of-type {\n",
       "        vertical-align: middle;\n",
       "    }\n",
       "\n",
       "    .dataframe tbody tr th {\n",
       "        vertical-align: top;\n",
       "    }\n",
       "\n",
       "    .dataframe thead th {\n",
       "        text-align: right;\n",
       "    }\n",
       "</style>\n",
       "<table border=\"1\" class=\"dataframe\">\n",
       "  <thead>\n",
       "    <tr style=\"text-align: right;\">\n",
       "      <th></th>\n",
       "      <th>image_name</th>\n",
       "      <th>tags</th>\n",
       "    </tr>\n",
       "  </thead>\n",
       "  <tbody>\n",
       "    <tr>\n",
       "      <th>0</th>\n",
       "      <td>test_25202</td>\n",
       "      <td>agriculture clear cultivation habitation primary</td>\n",
       "    </tr>\n",
       "    <tr>\n",
       "      <th>1</th>\n",
       "      <td>test_5717</td>\n",
       "      <td>blooming clear primary</td>\n",
       "    </tr>\n",
       "    <tr>\n",
       "      <th>2</th>\n",
       "      <td>test_40598</td>\n",
       "      <td>agriculture clear primary road water</td>\n",
       "    </tr>\n",
       "    <tr>\n",
       "      <th>3</th>\n",
       "      <td>file_2096</td>\n",
       "      <td>clear primary water</td>\n",
       "    </tr>\n",
       "    <tr>\n",
       "      <th>4</th>\n",
       "      <td>file_19729</td>\n",
       "      <td>partly_cloudy primary</td>\n",
       "    </tr>\n",
       "  </tbody>\n",
       "</table>\n",
       "</div>"
      ],
      "text/plain": [
       "   image_name                                              tags\n",
       "0  test_25202  agriculture clear cultivation habitation primary\n",
       "1   test_5717                            blooming clear primary\n",
       "2  test_40598              agriculture clear primary road water\n",
       "3   file_2096                               clear primary water\n",
       "4  file_19729                             partly_cloudy primary"
      ]
     },
     "execution_count": 14,
     "metadata": {},
     "output_type": "execute_result"
    }
   ],
   "source": [
    "df = pd.DataFrame(res)\n",
    "df.insert(0, 'image_name', [name[9:-4] for name in fnames])\n",
    "df.columns = [\"image_name\", \"tags\"]\n",
    "df.head()"
   ]
  },
  {
   "cell_type": "code",
   "execution_count": 15,
   "metadata": {},
   "outputs": [],
   "source": [
    "filename = 'resnet34_v3'\n",
    "\n",
    "SUBM = f'{PATH}subm/'\n",
    "os.makedirs(SUBM, exist_ok=True)\n",
    "df.to_csv(SUBM+filename, index=False)"
   ]
  },
  {
   "cell_type": "code",
   "execution_count": 16,
   "metadata": {},
   "outputs": [
    {
     "name": "stdout",
     "output_type": "stream",
     "text": [
      "0.84037\r\n"
     ]
    }
   ],
   "source": [
    "!kg submit {SUBM+filename} -c planet-understanding-the-amazon-from-space"
   ]
  },
  {
   "cell_type": "code",
   "execution_count": null,
   "metadata": {},
   "outputs": [],
   "source": []
  }
 ],
 "metadata": {
  "kernelspec": {
   "display_name": "Python 3",
   "language": "python",
   "name": "python3"
  },
  "language_info": {
   "codemirror_mode": {
    "name": "ipython",
    "version": 3
   },
   "file_extension": ".py",
   "mimetype": "text/x-python",
   "name": "python",
   "nbconvert_exporter": "python",
   "pygments_lexer": "ipython3",
   "version": "3.6.4"
  },
  "widgets": {
   "application/vnd.jupyter.widget-state+json": {
    "state": {
     "0514faf79af14e50b6e02d021334b552": {
      "model_module": "@jupyter-widgets/controls",
      "model_module_version": "1.0.0",
      "model_name": "DescriptionStyleModel",
      "state": {
       "description_width": ""
      }
     },
     "07d2ef59acfc42fa9a4878c2083f442f": {
      "model_module": "@jupyter-widgets/base",
      "model_module_version": "1.0.0",
      "model_name": "LayoutModel",
      "state": {}
     },
     "0fb2b825172549cc9dbe4b073a4bb476": {
      "model_module": "@jupyter-widgets/controls",
      "model_module_version": "1.0.0",
      "model_name": "HBoxModel",
      "state": {
       "children": [
        "IPY_MODEL_eab433c35cd44c26b4cd03e8c06f69df",
        "IPY_MODEL_377643b05b264e06b4544f4cc29faca8"
       ],
       "layout": "IPY_MODEL_6cd7cf0723bb4d4a927f26b6fcdfa63b"
      }
     },
     "1079fbdeb5804a9ca8fcc5b12742fb8c": {
      "model_module": "@jupyter-widgets/controls",
      "model_module_version": "1.0.0",
      "model_name": "IntProgressModel",
      "state": {
       "bar_style": "success",
       "description": "Epoch",
       "layout": "IPY_MODEL_3f4a3585b9db419cab9c6a344c2732a0",
       "max": 7,
       "style": "IPY_MODEL_f998f66f0a28486daf23000aadc332bf",
       "value": 7
      }
     },
     "12e507b60ca04b33806c4e979303e25c": {
      "model_module": "@jupyter-widgets/base",
      "model_module_version": "1.0.0",
      "model_name": "LayoutModel",
      "state": {}
     },
     "157230dcda924acda05611133a895be6": {
      "model_module": "@jupyter-widgets/controls",
      "model_module_version": "1.0.0",
      "model_name": "HBoxModel",
      "state": {
       "children": [
        "IPY_MODEL_eb68d5eae97b46fb9151378a12ca16c0",
        "IPY_MODEL_19f805de8dcc49488e86141f0414e621"
       ],
       "layout": "IPY_MODEL_27300322ec404ceeaa048259c0b6a4cd"
      }
     },
     "17a94b53841d4d3e847815b3015c5f56": {
      "model_module": "@jupyter-widgets/controls",
      "model_module_version": "1.0.0",
      "model_name": "ProgressStyleModel",
      "state": {
       "description_width": ""
      }
     },
     "196857139635412e8ef72a0603781d30": {
      "model_module": "@jupyter-widgets/base",
      "model_module_version": "1.0.0",
      "model_name": "LayoutModel",
      "state": {}
     },
     "19f805de8dcc49488e86141f0414e621": {
      "model_module": "@jupyter-widgets/controls",
      "model_module_version": "1.0.0",
      "model_name": "HTMLModel",
      "state": {
       "layout": "IPY_MODEL_f11967ce091049299419daa762827a23",
       "style": "IPY_MODEL_a83070777dd740658ec536f30377b3ab",
       "value": "100% 7/7 [07:33&lt;00:00, 64.84s/it]"
      }
     },
     "1a4017b1b2a94a908c6ecdde6feca5eb": {
      "model_module": "@jupyter-widgets/base",
      "model_module_version": "1.0.0",
      "model_name": "LayoutModel",
      "state": {}
     },
     "255d780140964c36aa47ad5a7914ee6e": {
      "model_module": "@jupyter-widgets/controls",
      "model_module_version": "1.0.0",
      "model_name": "IntProgressModel",
      "state": {
       "bar_style": "success",
       "description": "Epoch",
       "layout": "IPY_MODEL_e6b79ebc3ca64db0a67ce22f7819e83e",
       "max": 1,
       "style": "IPY_MODEL_921c904d5995434ba232702610f6409e",
       "value": 1
      }
     },
     "27300322ec404ceeaa048259c0b6a4cd": {
      "model_module": "@jupyter-widgets/base",
      "model_module_version": "1.0.0",
      "model_name": "LayoutModel",
      "state": {}
     },
     "377643b05b264e06b4544f4cc29faca8": {
      "model_module": "@jupyter-widgets/controls",
      "model_module_version": "1.0.0",
      "model_name": "HTMLModel",
      "state": {
       "layout": "IPY_MODEL_8ea3b20c3900475a89cf12b015d3390b",
       "style": "IPY_MODEL_de891eaf12944b74b56c6bc940109e7c",
       "value": "100% 7/7 [30:30&lt;00:00, 261.50s/it]"
      }
     },
     "3f4a3585b9db419cab9c6a344c2732a0": {
      "model_module": "@jupyter-widgets/base",
      "model_module_version": "1.0.0",
      "model_name": "LayoutModel",
      "state": {}
     },
     "4341e685187d4c5abc63325020f7f2e7": {
      "model_module": "@jupyter-widgets/controls",
      "model_module_version": "1.0.0",
      "model_name": "HTMLModel",
      "state": {
       "layout": "IPY_MODEL_cc06a065e15d4badbc2468da2709b393",
       "style": "IPY_MODEL_557591d6a45f4e139c9005c277b782f1",
       "value": "100% 1/1 [00:37&lt;00:00, 37.11s/it]"
      }
     },
     "539028eb46ce4f85a898ab5207614d9d": {
      "model_module": "@jupyter-widgets/base",
      "model_module_version": "1.0.0",
      "model_name": "LayoutModel",
      "state": {}
     },
     "557591d6a45f4e139c9005c277b782f1": {
      "model_module": "@jupyter-widgets/controls",
      "model_module_version": "1.0.0",
      "model_name": "DescriptionStyleModel",
      "state": {
       "description_width": ""
      }
     },
     "663165e373be4940880f1dae50941805": {
      "model_module": "@jupyter-widgets/controls",
      "model_module_version": "1.0.0",
      "model_name": "HTMLModel",
      "state": {
       "layout": "IPY_MODEL_b9d0979107f24051aaaf6e39391ac53c",
       "style": "IPY_MODEL_bcae2a916dba4609b2feb540b95ab1c5",
       "value": "100% 7/7 [09:36&lt;00:00, 82.41s/it]"
      }
     },
     "68087e1135ad4bad9218bcc2b7793865": {
      "model_module": "@jupyter-widgets/controls",
      "model_module_version": "1.0.0",
      "model_name": "HTMLModel",
      "state": {
       "layout": "IPY_MODEL_c1e1aa5fb1fe455a96d868d076f59edd",
       "style": "IPY_MODEL_b74410754eee4a41a15fed7a7baa7618",
       "value": "100% 7/7 [21:13&lt;00:00, 181.91s/it]"
      }
     },
     "6cd7cf0723bb4d4a927f26b6fcdfa63b": {
      "model_module": "@jupyter-widgets/base",
      "model_module_version": "1.0.0",
      "model_name": "LayoutModel",
      "state": {}
     },
     "714d44ba97e548d4a60936d97364317f": {
      "model_module": "@jupyter-widgets/controls",
      "model_module_version": "1.0.0",
      "model_name": "HBoxModel",
      "state": {
       "children": [
        "IPY_MODEL_fba018652e704ac48f0529aac1848e0c",
        "IPY_MODEL_68087e1135ad4bad9218bcc2b7793865"
       ],
       "layout": "IPY_MODEL_e7d5eef628284daebc6ef4c8cfe73dcc"
      }
     },
     "80d7093c79f340ad809f1029c776d394": {
      "model_module": "@jupyter-widgets/controls",
      "model_module_version": "1.0.0",
      "model_name": "HBoxModel",
      "state": {
       "children": [
        "IPY_MODEL_255d780140964c36aa47ad5a7914ee6e",
        "IPY_MODEL_4341e685187d4c5abc63325020f7f2e7"
       ],
       "layout": "IPY_MODEL_539028eb46ce4f85a898ab5207614d9d"
      }
     },
     "8487cc5161814b1697dea609d5674ca0": {
      "model_module": "@jupyter-widgets/controls",
      "model_module_version": "1.0.0",
      "model_name": "IntProgressModel",
      "state": {
       "bar_style": "success",
       "description": "Epoch",
       "layout": "IPY_MODEL_12e507b60ca04b33806c4e979303e25c",
       "max": 7,
       "style": "IPY_MODEL_9c3f7c927ada4db883f7b315bbdd1583",
       "value": 7
      }
     },
     "84bd2ffe35d1419cab94cbb8b2160208": {
      "model_module": "@jupyter-widgets/base",
      "model_module_version": "1.0.0",
      "model_name": "LayoutModel",
      "state": {}
     },
     "8ea3b20c3900475a89cf12b015d3390b": {
      "model_module": "@jupyter-widgets/base",
      "model_module_version": "1.0.0",
      "model_name": "LayoutModel",
      "state": {}
     },
     "921c904d5995434ba232702610f6409e": {
      "model_module": "@jupyter-widgets/controls",
      "model_module_version": "1.0.0",
      "model_name": "ProgressStyleModel",
      "state": {
       "description_width": ""
      }
     },
     "9ba359f541ef458e9e98ddd3741d3d98": {
      "model_module": "@jupyter-widgets/controls",
      "model_module_version": "1.0.0",
      "model_name": "HBoxModel",
      "state": {
       "children": [
        "IPY_MODEL_8487cc5161814b1697dea609d5674ca0",
        "IPY_MODEL_663165e373be4940880f1dae50941805"
       ],
       "layout": "IPY_MODEL_dc60a2dbf56640aba27444d140789a2e"
      }
     },
     "9c3f7c927ada4db883f7b315bbdd1583": {
      "model_module": "@jupyter-widgets/controls",
      "model_module_version": "1.0.0",
      "model_name": "ProgressStyleModel",
      "state": {
       "description_width": ""
      }
     },
     "a83070777dd740658ec536f30377b3ab": {
      "model_module": "@jupyter-widgets/controls",
      "model_module_version": "1.0.0",
      "model_name": "DescriptionStyleModel",
      "state": {
       "description_width": ""
      }
     },
     "b74410754eee4a41a15fed7a7baa7618": {
      "model_module": "@jupyter-widgets/controls",
      "model_module_version": "1.0.0",
      "model_name": "DescriptionStyleModel",
      "state": {
       "description_width": ""
      }
     },
     "b9d0979107f24051aaaf6e39391ac53c": {
      "model_module": "@jupyter-widgets/base",
      "model_module_version": "1.0.0",
      "model_name": "LayoutModel",
      "state": {}
     },
     "bcae2a916dba4609b2feb540b95ab1c5": {
      "model_module": "@jupyter-widgets/controls",
      "model_module_version": "1.0.0",
      "model_name": "DescriptionStyleModel",
      "state": {
       "description_width": ""
      }
     },
     "c1e1aa5fb1fe455a96d868d076f59edd": {
      "model_module": "@jupyter-widgets/base",
      "model_module_version": "1.0.0",
      "model_name": "LayoutModel",
      "state": {}
     },
     "c23f36fb0e454bc39f8f6133d9eef481": {
      "model_module": "@jupyter-widgets/controls",
      "model_module_version": "1.0.0",
      "model_name": "HBoxModel",
      "state": {
       "children": [
        "IPY_MODEL_1079fbdeb5804a9ca8fcc5b12742fb8c",
        "IPY_MODEL_f5c607468ec249b3a1ddafceae66cc9e"
       ],
       "layout": "IPY_MODEL_1a4017b1b2a94a908c6ecdde6feca5eb"
      }
     },
     "cc06a065e15d4badbc2468da2709b393": {
      "model_module": "@jupyter-widgets/base",
      "model_module_version": "1.0.0",
      "model_name": "LayoutModel",
      "state": {}
     },
     "cd461cfac35b459392dec350db58f56b": {
      "model_module": "@jupyter-widgets/base",
      "model_module_version": "1.0.0",
      "model_name": "LayoutModel",
      "state": {}
     },
     "dc60a2dbf56640aba27444d140789a2e": {
      "model_module": "@jupyter-widgets/base",
      "model_module_version": "1.0.0",
      "model_name": "LayoutModel",
      "state": {}
     },
     "de891eaf12944b74b56c6bc940109e7c": {
      "model_module": "@jupyter-widgets/controls",
      "model_module_version": "1.0.0",
      "model_name": "DescriptionStyleModel",
      "state": {
       "description_width": ""
      }
     },
     "e068265ed2e44b77a2a437f6ecef02c0": {
      "model_module": "@jupyter-widgets/controls",
      "model_module_version": "1.0.0",
      "model_name": "ProgressStyleModel",
      "state": {
       "description_width": ""
      }
     },
     "e6b79ebc3ca64db0a67ce22f7819e83e": {
      "model_module": "@jupyter-widgets/base",
      "model_module_version": "1.0.0",
      "model_name": "LayoutModel",
      "state": {}
     },
     "e7d5eef628284daebc6ef4c8cfe73dcc": {
      "model_module": "@jupyter-widgets/base",
      "model_module_version": "1.0.0",
      "model_name": "LayoutModel",
      "state": {}
     },
     "e83f4431f6df476894aef01b9dd7c3d4": {
      "model_module": "@jupyter-widgets/controls",
      "model_module_version": "1.0.0",
      "model_name": "ProgressStyleModel",
      "state": {
       "description_width": ""
      }
     },
     "eab433c35cd44c26b4cd03e8c06f69df": {
      "model_module": "@jupyter-widgets/controls",
      "model_module_version": "1.0.0",
      "model_name": "IntProgressModel",
      "state": {
       "bar_style": "success",
       "description": "Epoch",
       "layout": "IPY_MODEL_cd461cfac35b459392dec350db58f56b",
       "max": 7,
       "style": "IPY_MODEL_e068265ed2e44b77a2a437f6ecef02c0",
       "value": 7
      }
     },
     "eb68d5eae97b46fb9151378a12ca16c0": {
      "model_module": "@jupyter-widgets/controls",
      "model_module_version": "1.0.0",
      "model_name": "IntProgressModel",
      "state": {
       "bar_style": "success",
       "description": "Epoch",
       "layout": "IPY_MODEL_84bd2ffe35d1419cab94cbb8b2160208",
       "max": 7,
       "style": "IPY_MODEL_17a94b53841d4d3e847815b3015c5f56",
       "value": 7
      }
     },
     "f11967ce091049299419daa762827a23": {
      "model_module": "@jupyter-widgets/base",
      "model_module_version": "1.0.0",
      "model_name": "LayoutModel",
      "state": {}
     },
     "f5c607468ec249b3a1ddafceae66cc9e": {
      "model_module": "@jupyter-widgets/controls",
      "model_module_version": "1.0.0",
      "model_name": "HTMLModel",
      "state": {
       "layout": "IPY_MODEL_196857139635412e8ef72a0603781d30",
       "style": "IPY_MODEL_0514faf79af14e50b6e02d021334b552",
       "value": "100% 7/7 [04:06&lt;00:00, 35.27s/it]"
      }
     },
     "f998f66f0a28486daf23000aadc332bf": {
      "model_module": "@jupyter-widgets/controls",
      "model_module_version": "1.0.0",
      "model_name": "ProgressStyleModel",
      "state": {
       "description_width": ""
      }
     },
     "fba018652e704ac48f0529aac1848e0c": {
      "model_module": "@jupyter-widgets/controls",
      "model_module_version": "1.0.0",
      "model_name": "IntProgressModel",
      "state": {
       "bar_style": "success",
       "description": "Epoch",
       "layout": "IPY_MODEL_07d2ef59acfc42fa9a4878c2083f442f",
       "max": 7,
       "style": "IPY_MODEL_e83f4431f6df476894aef01b9dd7c3d4",
       "value": 7
      }
     }
    },
    "version_major": 2,
    "version_minor": 0
   }
  }
 },
 "nbformat": 4,
 "nbformat_minor": 2
}
